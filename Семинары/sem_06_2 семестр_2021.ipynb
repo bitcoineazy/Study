{
 "cells": [
  {
   "cell_type": "markdown",
   "metadata": {},
   "source": [
    "### Семинар 6 "
   ]
  },
  {
   "cell_type": "markdown",
   "metadata": {},
   "source": [
    "5) Реализовать функцию вычисления факториала с помощью хвостовой рекурсии."
   ]
  },
  {
   "cell_type": "code",
   "execution_count": null,
   "metadata": {
    "collapsed": true
   },
   "outputs": [],
   "source": [
    "indent = 0\n",
    "def factorial_r(n):\n",
    "    def println(s):\n",
    "        global indent\n",
    "        indent += 1\n",
    "        print('    '*indent + str(s))\n",
    "        return s\n",
    "    def printout(s):\n",
    "        global indent\n",
    "        indent -= 1\n",
    "        print('    '*indent + str(s))\n",
    "        return s\n",
    "    \n",
    "    println(f'factorial({n})')\n",
    "    if n == 0:\n",
    "        return printout(1)\n",
    "    else:\n",
    "        return printout(factorial_r(n-1)*n)"
   ]
  },
  {
   "cell_type": "code",
   "execution_count": 4,
   "metadata": {
    "collapsed": true
   },
   "outputs": [],
   "source": [
    "def factorial_tail(n):\n",
    "    def helper(n, acc = 1):\n",
    "        if n == 0:\n",
    "            return acc\n",
    "        else:\n",
    "            return helper(n - 1, acc * n)\n",
    "    return helper(n, 1)"
   ]
  },
  {
   "cell_type": "code",
   "execution_count": null,
   "metadata": {},
   "outputs": [],
   "source": [
    "def factorial_r(n):\n",
    "    if n == 0:\n",
    "        return printout(1)\n",
    "    else:\n",
    "        return printout(factorial_r(n-1)*n)"
   ]
  },
  {
   "cell_type": "code",
   "execution_count": null,
   "metadata": {},
   "outputs": [],
   "source": [
    "factorial_r(5)"
   ]
  },
  {
   "cell_type": "code",
   "execution_count": 5,
   "metadata": {},
   "outputs": [
    {
     "data": {
      "text/plain": [
       "120"
      ]
     },
     "execution_count": 5,
     "metadata": {},
     "output_type": "execute_result"
    }
   ],
   "source": [
    "factorial_tail(5)"
   ]
  },
  {
   "cell_type": "markdown",
   "metadata": {},
   "source": [
    "6) Реализовать функцию подсчета n-го числа Фибоначчи с помощью хвостовой рекурсии."
   ]
  },
  {
   "cell_type": "code",
   "execution_count": 2,
   "metadata": {},
   "outputs": [
    {
     "data": {
      "text/plain": [
       "34"
      ]
     },
     "execution_count": 2,
     "metadata": {},
     "output_type": "execute_result"
    }
   ],
   "source": [
    "def fib_tail(n):\n",
    "    def helper(n, res = 0, nex = 1): #Номер элемента (выступает в качестве шага), текущее значение, следующее значение\n",
    "        if n == 0:\n",
    "            return n\n",
    "        if n == 1:\n",
    "            return nex\n",
    "        return helper(n - 1, nex, res + nex)\n",
    "    return helper(n, 0, 1)\n",
    "\n",
    "fib_tail(9)\n",
    "            "
   ]
  },
  {
   "cell_type": "markdown",
   "metadata": {},
   "source": [
    "7) Реализовать декоратор, который выводит на печать возвращаемые значения функции."
   ]
  },
  {
   "cell_type": "code",
   "execution_count": 14,
   "metadata": {},
   "outputs": [],
   "source": [
    "import functools\n",
    "def print_dec(func):\n",
    "    @functools.wraps(func)\n",
    "    def wrapper(*args, **kwargs):\n",
    "        f\n",
    "        func()\n",
    "        func()\n",
    "        func()\n",
    "    return wrapper\n"
   ]
  },
  {
   "cell_type": "code",
   "execution_count": 17,
   "metadata": {},
   "outputs": [
    {
     "name": "stdout",
     "output_type": "stream",
     "text": [
      "[1, 2, 3, 4]\n",
      "[1, 2, 3, 4]\n",
      "[1, 2, 3, 4]\n",
      "[1, 2, 3, 4]\n"
     ]
    }
   ],
   "source": [
    "\n",
    "@print_dec\n",
    "def foo():\n",
    "    print([1, 2, 3, 4])\n",
    "\n",
    "    \n",
    "foo()"
   ]
  },
  {
   "cell_type": "code",
   "execution_count": 3,
   "metadata": {},
   "outputs": [],
   "source": []
  },
  {
   "cell_type": "code",
   "execution_count": 4,
   "metadata": {},
   "outputs": [
    {
     "data": {
      "text/plain": [
       "[1, 2, 2]"
      ]
     },
     "execution_count": 4,
     "metadata": {},
     "output_type": "execute_result"
    }
   ],
   "source": []
  },
  {
   "cell_type": "markdown",
   "metadata": {},
   "source": [
    "8) С помощью декоратора реализовать отладочный вывод работы factorial(n) как для вызовов функций, так и для возвращаемых значений."
   ]
  },
  {
   "cell_type": "code",
   "execution_count": 1,
   "metadata": {},
   "outputs": [],
   "source": []
  },
  {
   "cell_type": "code",
   "execution_count": 2,
   "metadata": {},
   "outputs": [],
   "source": []
  },
  {
   "cell_type": "code",
   "execution_count": 3,
   "metadata": {},
   "outputs": [],
   "source": [
    "indent = 0"
   ]
  },
  {
   "cell_type": "code",
   "execution_count": 4,
   "metadata": {},
   "outputs": [
    {
     "name": "stdout",
     "output_type": "stream",
     "text": [
      "    fib_tail(5,)\n",
      "        helper(5, 0, 1)\n",
      "            helper(4, 1, 1)\n",
      "                helper(3, 1, 2)\n",
      "                    helper(2, 2, 3)\n",
      "                        helper(1, 3, 5)\n",
      "                            helper(0, 5, 8)\n",
      "                        5, time1 = 0.000084625, time2 = 0.000084625\n",
      "                    5, time1 = 0.000282320, time2 = 0.000281609\n",
      "                5, time1 = 0.000591663, time2 = 0.000588819\n",
      "            5, time1 = 0.001669742, time2 = 0.001669742\n",
      "        5, time1 = 0.001831881, time2 = 0.001831881\n",
      "    5, time1 = 0.002003975, time2 = 0.002003264\n",
      "5, time1 = 0.002610572, time2 = 0.002609150\n"
     ]
    },
    {
     "data": {
      "text/plain": [
       "5"
      ]
     },
     "execution_count": 4,
     "metadata": {},
     "output_type": "execute_result"
    }
   ],
   "source": [
    "fib_tail(5)"
   ]
  },
  {
   "cell_type": "code",
   "execution_count": 22,
   "metadata": {},
   "outputs": [
    {
     "name": "stdout",
     "output_type": "stream",
     "text": [
      "    fib(4,)\n",
      "        fib(3,)\n",
      "            fib(2,)\n",
      "                fib(1,)\n",
      "            1, time1 = 0.000078936, time2 = 0.000078936\n",
      "                fib(0,)\n",
      "            0, time1 = 0.000076092, time2 = 0.000076092\n",
      "        1, time1 = 0.000402503, time2 = 0.000402503\n",
      "            fib(1,)\n",
      "        1, time1 = 0.000077514, time2 = 0.000077514\n",
      "    2, time1 = 0.000722514, time2 = 0.000722514\n",
      "        fib(2,)\n",
      "            fib(1,)\n",
      "        1, time1 = 0.000076803, time2 = 0.000076803\n",
      "            fib(0,)\n",
      "        0, time1 = 0.000076803, time2 = 0.000076803\n",
      "    1, time1 = 0.000397525, time2 = 0.000396814\n",
      "3, time1 = 0.001745127, time2 = 0.001745127\n"
     ]
    },
    {
     "data": {
      "text/plain": [
       "3"
      ]
     },
     "execution_count": 22,
     "metadata": {},
     "output_type": "execute_result"
    }
   ],
   "source": [
    "fib(4)"
   ]
  },
  {
   "cell_type": "code",
   "execution_count": 23,
   "metadata": {},
   "outputs": [
    {
     "name": "stdout",
     "output_type": "stream",
     "text": [
      "    factorial_r(5,)\n",
      "        factorial_r(4,)\n",
      "            factorial_r(3,)\n",
      "                factorial_r(2,)\n",
      "                    factorial_r(1,)\n",
      "                        factorial_r(0,)\n",
      "                    1, time1 = 0.000078936, time2 = 0.000079647\n",
      "                1, time1 = 0.000253876, time2 = 0.000253876\n",
      "            2, time1 = 0.000413881, time2 = 0.000413881\n",
      "        6, time1 = 0.000573176, time2 = 0.000573176\n",
      "    24, time1 = 0.000738159, time2 = 0.000737448\n",
      "120, time1 = 0.001089460, time2 = 0.001088038\n"
     ]
    },
    {
     "data": {
      "text/plain": [
       "120"
      ]
     },
     "execution_count": 23,
     "metadata": {},
     "output_type": "execute_result"
    }
   ],
   "source": [
    "factorial_r(5)"
   ]
  },
  {
   "cell_type": "code",
   "execution_count": 24,
   "metadata": {},
   "outputs": [
    {
     "name": "stdout",
     "output_type": "stream",
     "text": [
      "    factorial_tail(5,)\n",
      "        helper(5, 1)\n",
      "            helper(4, 5)\n",
      "                helper(3, 20)\n",
      "                    helper(2, 60)\n",
      "                        helper(1, 120)\n",
      "                            helper(0, 120)\n",
      "                        120, time1 = 0.000090314, time2 = 0.000090314\n",
      "                    120, time1 = 0.000287299, time2 = 0.000287299\n",
      "                120, time1 = 0.001008391, time2 = 0.001008391\n",
      "            120, time1 = 0.001214620, time2 = 0.001213909\n",
      "        120, time1 = 0.001414449, time2 = 0.001413738\n",
      "    120, time1 = 0.001612145, time2 = 0.001612145\n",
      "120, time1 = 0.001988336, time2 = 0.001987625\n"
     ]
    },
    {
     "data": {
      "text/plain": [
       "120"
      ]
     },
     "execution_count": 24,
     "metadata": {},
     "output_type": "execute_result"
    }
   ],
   "source": [
    "factorial_tail(5)"
   ]
  },
  {
   "cell_type": "markdown",
   "metadata": {},
   "source": [
    "9) Модернизировать пункт 8) при помощи functools.wraps().\n",
    "\n",
    "https://stackoverflow.com/a/309000"
   ]
  },
  {
   "cell_type": "markdown",
   "metadata": {},
   "source": [
    "10) Реализовать декоратор, который выводит на печать имя функции и ее аргументы (на одной строке) и длительность исполнения и возвращаемые значения функции (на другой строке). Вывод на печать оформляется отступами, соответсвующими вложенности вызова функции.\n",
    "\n",
    "Проверить на запуске рекурсивной реализации получения чисел Фибоначчи."
   ]
  },
  {
   "cell_type": "markdown",
   "metadata": {},
   "source": [
    "10) Реализовать декоратор, который выводит на печать имя функции и ее аргументы (на одной строке) и длительность исполнения и возвращаемые значения функции (на другой строке). Вывод на печать оформляется отступами, соответсвующими вложенности вызова функции.\n",
    "\n",
    "Проверить на запуске рекурсивной реализации получения чисел Фибоначчи."
   ]
  },
  {
   "cell_type": "code",
   "execution_count": null,
   "metadata": {
    "collapsed": true
   },
   "outputs": [],
   "source": []
  }
 ],
 "metadata": {
  "anaconda-cloud": {},
  "kernelspec": {
   "display_name": "Python 3",
   "language": "python",
   "name": "python3"
  },
  "language_info": {
   "codemirror_mode": {
    "name": "ipython",
    "version": 3
   },
   "file_extension": ".py",
   "mimetype": "text/x-python",
   "name": "python",
   "nbconvert_exporter": "python",
   "pygments_lexer": "ipython3",
   "version": "3.9.2"
  }
 },
 "nbformat": 4,
 "nbformat_minor": 1
}