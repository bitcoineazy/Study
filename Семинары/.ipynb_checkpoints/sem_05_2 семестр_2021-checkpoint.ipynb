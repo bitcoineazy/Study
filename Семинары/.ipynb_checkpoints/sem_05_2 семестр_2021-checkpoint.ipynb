{
 "cells": [
  {
   "cell_type": "markdown",
   "metadata": {},
   "source": [
    "## Функциональное программирование\n",
    "### Занятие 5\n",
    "\n",
    "\n",
    "1) Реализовать функцию factorial(n) двумя способами: с помощью цикла и рекурсии.\n",
    "\n",
    "1.1) С использованием глобальной переменной реализовать вывод на экран отладочной информации о вызовах функции factorial(n) печатающий с отступами, соответствующими глубине рекурсии.\n",
    "\n",
    "Пример:\n",
    "\n",
    "In: factorial(4)\n",
    "    \n",
    "    factorial(4)\n",
    "\n",
    "        factorial(3)\n",
    "        \n",
    "            factorial(2)\n",
    "\n",
    "                factorial(1)\n",
    "      \n",
    "                    factorial(0)\n",
    "                    \n",
    "1.2) Реализовать функции printIn(s) и printOut(s), которые выводят строки s с отступами, при этом каждый вывод printIn(s) приводит к увеличению отсутпа, а  каждый вывод printOut(s) приводит к уменьшению отсутпа.\n",
    "\n",
    "1.3) С использованием printIn(s) и printOut(s) реализовать отладочный вывод работы factorial(n) как для вызовов функций, так и для возвращаемых значений.\n",
    "\n",
    "Пример:\n",
    "\n",
    "In: factorial(4)\n",
    "\n",
    "    factorial(4)\n",
    "\n",
    "        factorial(3)\n",
    "        \n",
    "            factorial(2)\n",
    "    \n",
    "                factorial(1)\n",
    "      \n",
    "                    factorial(0)\n",
    "                    \n",
    "                    1\n",
    "                    \n",
    "                1\n",
    "                \n",
    "            2\n",
    "            \n",
    "        6\n",
    "        \n",
    "    24\n",
    "\n",
    "\n"
   ]
  },
  {
   "cell_type": "code",
   "execution_count": null,
   "metadata": {},
   "outputs": [],
   "source": [
    "#Цикл\n",
    "def factorial(n):\n",
    "    fact = 1\n",
    "    for num in range(2, n + 1):\n",
    "        fact *= num\n",
    "    print(fact)"
   ]
  },
  {
   "cell_type": "code",
   "execution_count": null,
   "metadata": {},
   "outputs": [],
   "source": [
    "#Рекурсия\n",
    "def factorial(n):\n",
    "    if n < 2:\n",
    "        return 1\n",
    "    else:\n",
    "        return n * factorial(n-1)"
   ]
  },
  {
   "cell_type": "code",
   "execution_count": 24,
   "metadata": {},
   "outputs": [],
   "source": [
    "def factorial_r(n):\n",
    "    global x\n",
    "    fact = 1\n",
    "    k = 0\n",
    "    x = n\n",
    "    sp_amount = 0\n",
    "\n",
    "    for num in range(2, n + 3):\n",
    "        fact *= num\n",
    "        k += 1\n",
    "        print(f'{\"    \" *k}factorial({x})')\n",
    "        x -= 1\n",
    "        sp_amount += 4\n",
    "\n",
    "    fact = 1\n",
    "    print(f'{\" \"*sp_amount}{fact}')\n",
    "    for reversed in range(1, n + 1):\n",
    "        fact *= reversed\n",
    "        print(f'{\" \"*(sp_amount-k)}{fact}')\n",
    "        x += 1\n",
    "        k += 3"
   ]
  },
  {
   "cell_type": "code",
   "execution_count": 25,
   "metadata": {},
   "outputs": [
    {
     "name": "stdout",
     "output_type": "stream",
     "text": [
      "    factorial(5)\n",
      "        factorial(4)\n",
      "            factorial(3)\n",
      "                factorial(2)\n",
      "                    factorial(1)\n",
      "                        factorial(0)\n",
      "                        1\n",
      "                  1\n",
      "               2\n",
      "            6\n",
      "         24\n",
      "      120\n"
     ]
    }
   ],
   "source": [
    "factorial_r(5)"
   ]
  },
  {
   "cell_type": "markdown",
   "metadata": {},
   "source": [
    "\n",
    "\n",
    "2) Рекурсивно реализовать функцию fib(n) вычисляющую значение n-го числа Фибоначи. Учесть возможность вычисления числа с отрицательным индексом.\n",
    "\n",
    "2.1) С использованием printIn(s) и printOut(s) реализовать отладочный вывод работы fib(n)\n",
    "\n"
   ]
  },
  {
   "cell_type": "code",
   "execution_count": 2,
   "metadata": {},
   "outputs": [],
   "source": [
    "def fib(n):\n",
    "    global x\n",
    "    x = 0\n",
    "    if n < 2:\n",
    "        return n\n",
    "    x += 1\n",
    "    return fib(n-2) + fib(n-1)\n"
   ]
  },
  {
   "cell_type": "code",
   "execution_count": 3,
   "metadata": {},
   "outputs": [
    {
     "name": "stdout",
     "output_type": "stream",
     "text": [
      "55\n"
     ]
    }
   ],
   "source": [
    "print(fib(10))"
   ]
  },
  {
   "cell_type": "markdown",
   "metadata": {},
   "source": [
    "3) Реализовать функцию, принимающую на вход итерируемый объект функций и возвращающую словарь, в котором ключ - это первое слово из аннотации функции, а значение - ссылка на функцию.\n",
    "\n"
   ]
  },
  {
   "cell_type": "code",
   "execution_count": 11,
   "metadata": {},
   "outputs": [
    {
     "name": "stdout",
     "output_type": "stream",
     "text": [
      "{'foo': '<function __main__.foo()', 'bar': '<function __main__.bar()', 'baz': '<function __main__.baz()', 'sk': '<function __main__.sk(*s)', 'br': '<function __main__.(расстояние=5)'}\n"
     ]
    }
   ],
   "source": [
    "\n",
    "def foo():\n",
    "    \"\"\"foo()\"\"\"\n",
    "    return 'something'\n",
    "\n",
    "def bar():\n",
    "    \"\"\"bar()\"\"\"\n",
    "    return 'anything'\n",
    "\n",
    "def baz():\n",
    "    \"\"\"baz()\"\"\"\n",
    "    return 'sert'\n",
    "\n",
    "def sk(s):\n",
    "    \"\"\"sk(*s)\"\"\"\n",
    "    z=''\n",
    "    for el in s:\n",
    "        z+=el\n",
    "    return z\n",
    "\n",
    "def br(length=5):\n",
    "    \"\"\"(расстояние=5)\"\"\"\n",
    "    return f'Предмет брошен на расстояние={length}'\n",
    "f_names = (foo,bar,baz,sk,br)\n",
    "\n",
    "def names2dict(*f_nm):\n",
    "    return {func.__name__: f'<function __main__.{func.__doc__}' for func in f_nm}\n",
    "\n",
    "func_dict = names2dict(*f_names)\n",
    "print(func_dict)\n"
   ]
  },
  {
   "cell_type": "markdown",
   "metadata": {},
   "source": [
    "4) Создать функцию реализующую REPL для словаря, созданного в задаче 3. Отдельно должен предусматриваться выход из цикла REPL."
   ]
  },
  {
   "cell_type": "code",
   "execution_count": 12,
   "metadata": {},
   "outputs": [
    {
     "name": "stdout",
     "output_type": "stream",
     "text": [
      "('foo', '<function __main__.foo()')\n",
      "('bar', '<function __main__.bar()')\n",
      "('baz', '<function __main__.baz()')\n",
      "('sk', '<function __main__.sk(*s)')\n",
      "('br', '<function __main__.(расстояние=5)')\n"
     ]
    }
   ],
   "source": [
    "\n",
    "def repl(f_dict):\n",
    "    for each in f_dict.items():\n",
    "        print(each)\n",
    "\n",
    "repl(func_dict)"
   ]
  },
  {
   "cell_type": "markdown",
   "metadata": {},
   "source": [
    "4.1) Доработать REPL из задачи 4 так, чтобы пользователь мог передвать произвольное количество аргументов в функцию (при вводе пользователя аргументы разделяются пробелами).\n",
    "\n",
    "Пример:\n",
    "\n",
    "ввод пользователя>СКЛЕИТЬ текст1 текст2 текст3\n",
    "\n",
    "результат>текст1текст2текст3"
   ]
  },
  {
   "cell_type": "code",
   "execution_count": 14,
   "metadata": {},
   "outputs": [
    {
     "name": "stdout",
     "output_type": "stream",
     "text": [
      "СКЛЕИТЬ 2 3 45 о аывавы ввв\n",
      "2345оаывавыввв\n"
     ]
    }
   ],
   "source": [
    "def repl_mod(input):\n",
    "    elements = input.split(' ')\n",
    "    elements.remove('СКЛЕИТЬ')\n",
    "    print(''.join(elements))\n",
    "repl_mod(input())"
   ]
  },
  {
   "cell_type": "markdown",
   "metadata": {},
   "source": [
    "4.2) Доработать REPL из задачи 4 так, чтобы пользователь мог передвать  аргументы в функцию по их имени(при вводе пользователя именованные аргументы опредлеяются как ИМЯ=ЗНАЧЕНИЕ). \n",
    "\n",
    "Пример:\n",
    "\n",
    "ввод пользователя>БРОСИТЬ расстояние=5 \n",
    "\n",
    "\n",
    "результат>Предмет брошен на расстояние 5"
   ]
  },
  {
   "cell_type": "code",
   "execution_count": 17,
   "metadata": {},
   "outputs": [
    {
     "name": "stdout",
     "output_type": "stream",
     "text": [
      "БРОСИТЬ расстояние=432423\n",
      "Предмет брошен на расстояние 432423\n"
     ]
    }
   ],
   "source": [
    "import re\n",
    "\n",
    "def repl_mod(input):\n",
    "    elements = input.split(' ')\n",
    "    if elements[0] == 'СКЛЕИТЬ':\n",
    "        elements.remove('СКЛЕИТЬ')\n",
    "        print(''.join(elements))\n",
    "    if elements[0] == 'БРОСИТЬ':\n",
    "        index = re.findall(r'\\S+[=]\\S+', input)\n",
    "        name_value = ''.join(index).split('=')\n",
    "        print(f'Предмет брошен на расстояние {name_value[1]}')\n",
    "        \n",
    "repl_mod(input())"
   ]
  },
  {
   "cell_type": "code",
   "execution_count": null,
   "metadata": {},
   "outputs": [],
   "source": []
  }
 ],
 "metadata": {
  "anaconda-cloud": {},
  "kernelspec": {
   "display_name": "Python 3",
   "language": "python",
   "name": "python3"
  },
  "language_info": {
   "codemirror_mode": {
    "name": "ipython",
    "version": 3
   },
   "file_extension": ".py",
   "mimetype": "text/x-python",
   "name": "python",
   "nbconvert_exporter": "python",
   "pygments_lexer": "ipython3",
   "version": "3.9.2"
  }
 },
 "nbformat": 4,
 "nbformat_minor": 1
}