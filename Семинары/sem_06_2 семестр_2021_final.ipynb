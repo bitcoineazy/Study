{
  "cells":[
    {
      "cell_type":"markdown",
      "source":[
        "### Семинар 6 "
      ],
      "metadata":{
        
      }
    },
    {
      "cell_type":"markdown",
      "source":[
        "5) Реализовать функцию вычисления факториала с помощью хвостовой рекурсии."
      ],
      "metadata":{
        
      }
    },
    {
      "cell_type":"code",
      "source":[
        "indent = 0\n",
        "def factorial_r(n):\n",
        "    def println(s):\n",
        "        global indent\n",
        "        indent += 1\n",
        "        print('    '*indent + str(s))\n",
        "        return s\n",
        "    def printout(s):\n",
        "        global indent\n",
        "        indent -= 1\n",
        "        print('    '*indent + str(s))\n",
        "        return s\n",
        "    \n",
        "    println(f'factorial({n})')\n",
        "    if n == 0:\n",
        "        return printout(1)\n",
        "    else:\n",
        "        return printout(factorial_r(n-1)*n)"
      ],
      "execution_count":0,
      "outputs":[
        
      ],
      "metadata":{
        
      }
    },
    {
      "cell_type":"code",
      "source":[
        "def factorial_tail(n):\n",
        "    def helper(n, acc = 1):\n",
        "        if n == 0:\n",
        "            return acc\n",
        "        else:\n",
        "            return helper(n - 1, acc * n)\n",
        "    return helper(n, 1)"
      ],
      "execution_count":0,
      "outputs":[
        
      ],
      "metadata":{
        
      }
    },
    {
      "cell_type":"code",
      "source":[
        "def factorial_r(n):\n",
        "    if n == 0:\n",
        "        return printout(1)\n",
        "    else:\n",
        "        return printout(factorial_r(n-1)*n)"
      ],
      "execution_count":0,
      "outputs":[
        
      ],
      "metadata":{
        
      }
    },
    {
      "cell_type":"code",
      "source":[
        "factorial_r(5)"
      ],
      "execution_count":0,
      "outputs":[
        
      ],
      "metadata":{
        
      }
    },
    {
      "cell_type":"code",
      "source":[
        "factorial_tail(5)"
      ],
      "execution_count":0,
      "outputs":[
        
      ],
      "metadata":{
        
      }
    },
    {
      "cell_type":"markdown",
      "source":[
        "6) Реализовать функцию подсчета n-го числа Фибоначчи с помощью хвостовой рекурсии."
      ],
      "metadata":{
        
      }
    },
    {
      "cell_type":"code",
      "source":[
        "def fib_tail(n):\n",
        "    def helper(n, res = 0, nex = 1): #Номер элемента (выступает в качестве шага), текущее значение, следующее значение\n",
        "        if n == 0:\n",
        "            return n\n",
        "        if n == 1:\n",
        "            return nex\n",
        "        return helper(n - 1, nex, res + nex)\n",
        "    return helper(n, 0, 1)\n",
        "\n",
        "fib_tail(9)\n",
        "            "
      ],
      "execution_count":0,
      "outputs":[
        
      ],
      "metadata":{
        
      }
    },
    {
      "cell_type":"markdown",
      "source":[
        "7) Реализовать декоратор, который выводит на печать возвращаемые значения функции."
      ],
      "metadata":{
        
      }
    },
    {
      "cell_type":"code",
      "source":[
        "import functools\n",
        "def print_dec(func):\n",
        "    @functools.wraps(func)\n",
        "    def wrapper(*args, **kwargs):\n",
        "        func()\n",
        "        func()\n",
        "    return wrapper"
      ],
      "execution_count":0,
      "outputs":[
        
      ],
      "metadata":{
        
      }
    },
    {
      "cell_type":"code",
      "source":[
        "\n",
        "@print_dec\n",
        "def foo():\n",
        "    print([1, 2, 3, 4])\n",
        "\n",
        "    \n",
        "foo()"
      ],
      "execution_count":0,
      "outputs":[
        
      ],
      "metadata":{
        
      }
    },
    {
      "cell_type":"code",
      "source":[
        
      ],
      "execution_count":0,
      "outputs":[
        
      ],
      "metadata":{
        
      }
    },
    {
      "cell_type":"code",
      "source":[
        
      ],
      "execution_count":0,
      "outputs":[
        
      ],
      "metadata":{
        
      }
    },
    {
      "cell_type":"markdown",
      "source":[
        "8) С помощью декоратора реализовать отладочный вывод работы factorial(n) как для вызовов функций, так и для возвращаемых значений."
      ],
      "metadata":{
        
      }
    },
    {
      "cell_type":"code",
      "source":[
        "import functools\n",
        "import time\n",
        "\n",
        "\n",
        "\n",
        "\n",
        "def fact_dec(func):\n",
        "    counter = 0\n",
        "    @functools.wraps(func)\n",
        "    def wrapper(x):\n",
        "        nonlocal counter\n",
        "        print('   '*counter+f'{func.__name__}({x})')\n",
        "        counter += 1\n",
        "        start_time = time.time()\n",
        "        fac_result = func(x)\n",
        "        end_time = time.time()\n",
        "        counter -= 1\n",
        "        print('   '*counter+f'({fac_result}), time={(end_time - start_time):.10f}')\n",
        "        return fac_result\n",
        "    return wrapper\n",
        "\n",
        "@fact_dec\n",
        "def factorial(x):\n",
        "    if x == 0:\n",
        "        return 1\n",
        "    else:\n",
        "        return x*factorial(x-1)\n"
      ],
      "execution_count":16,
      "outputs":[
        
      ],
      "metadata":{
        
      }
    },
    {
      "cell_type":"code",
      "source":[
        "factorial(12)\n",
        "\n",
        "\n"
      ],
      "execution_count":17,
      "outputs":[
        {
          "name":"stdout",
          "text":[
            "factorial(12)\n",
            "   factorial(11)\n",
            "      factorial(10)\n",
            "         factorial(9)\n",
            "            factorial(8)\n",
            "               factorial(7)\n",
            "                  factorial(6)\n",
            "                     factorial(5)\n",
            "                        factorial(4)\n",
            "                           factorial(3)\n",
            "                              factorial(2)\n",
            "                                 factorial(1)\n",
            "                                    factorial(0)\n",
            "                                    (1), time=0.0000007153\n",
            "                                 (1), time=0.0003643036\n",
            "                              (2), time=0.0007350445\n",
            "                           (6), time=0.0011365414\n",
            "                        (24), time=0.0015237331\n",
            "                     (120), time=0.0019130707\n",
            "                  (720), time=0.0022840500\n",
            "               (5040), time=0.0026872158\n",
            "            (40320), time=0.0030548573\n",
            "         (362880), time=0.0034513474\n",
            "      (3628800), time=0.0038218498\n",
            "   (39916800), time=0.0042142868\n",
            "(479001600), time=0.0059528351\n"
          ],
          "output_type":"stream"
        },
        {
          "data":{
            "text\/plain":[
              "479001600"
            ]
          },
          "metadata":{
            
          },
          "output_type":"display_data"
        }
      ],
      "metadata":{
        
      }
    },
    {
      "cell_type":"markdown",
      "source":[
        "9) Модернизировать пункт 8) при помощи functools.wraps().\n",
        "\n",
        "https:\/\/stackoverflow.com\/a\/309000"
      ],
      "metadata":{
        
      }
    },
    {
      "cell_type":"code",
      "source":[
        "def fib_dec(func):\n",
        "    counter = 0\n",
        "    @functools.wraps(func)\n",
        "    def wrapper(x):\n",
        "        nonlocal counter\n",
        "        print('   '*counter+f'{func.__name__}({x})')\n",
        "        counter += 1\n",
        "        start_time = time.time()\n",
        "        fac_result = func(x)\n",
        "        end_time = time.time()\n",
        "        counter -= 1\n",
        "        print('   '*counter+f'({fac_result}), time={end_time - start_time}')\n",
        "        return fac_result\n",
        "    return wrapper\n",
        "\n",
        "@fib_dec\n",
        "def fib(n):\n",
        "    if n < 2:\n",
        "        return n\n",
        "    return fib(n-2) + fib(n-1)"
      ],
      "execution_count":22,
      "outputs":[
        
      ],
      "metadata":{
        
      }
    },
    {
      "cell_type":"code",
      "source":[
        "fib(10)"
      ],
      "execution_count":23,
      "outputs":[
        {
          "name":"stdout",
          "text":[
            "fib(10)\n",
            "   fib(8)\n",
            "      fib(6)\n",
            "         fib(4)\n",
            "            fib(2)\n",
            "               fib(0)\n",
            "               (0), time=7.152557373046875e-07\n",
            "               fib(1)\n",
            "               (1), time=9.5367431640625e-07\n",
            "            (1), time=0.0002446174621582031\n",
            "            fib(3)\n",
            "               fib(1)\n",
            "               (1), time=7.152557373046875e-07\n",
            "               fib(2)\n",
            "                  fib(0)\n",
            "                  (0), time=7.152557373046875e-07\n",
            "                  fib(1)\n",
            "                  (1), time=4.76837158203125e-07\n",
            "               (1), time=0.0002353191375732422\n",
            "            (2), time=0.0004639625549316406\n",
            "         (3), time=0.0009362697601318359\n",
            "         fib(5)\n",
            "            fib(3)\n",
            "               fib(1)\n",
            "               (1), time=9.5367431640625e-07\n",
            "               fib(2)\n",
            "                  fib(0)\n",
            "                  (0), time=7.152557373046875e-07\n",
            "                  fib(1)\n",
            "                  (1), time=7.152557373046875e-07\n",
            "               (1), time=0.00022864341735839844\n",
            "            (2), time=0.00047135353088378906\n",
            "            fib(4)\n",
            "               fib(2)\n",
            "                  fib(0)\n",
            "                  (0), time=7.152557373046875e-07\n",
            "                  fib(1)\n",
            "                  (1), time=7.152557373046875e-07\n",
            "               (1), time=0.0002231597900390625\n",
            "               fib(3)\n",
            "                  fib(1)\n",
            "                  (1), time=7.152557373046875e-07\n",
            "                  fib(2)\n",
            "                     fib(0)\n",
            "                     (0), time=9.5367431640625e-07\n",
            "                     fib(1)\n",
            "                     (1), time=7.152557373046875e-07\n",
            "                  (1), time=0.00023174285888671875\n",
            "               (2), time=0.00046372413635253906\n",
            "            (3), time=0.0009024143218994141\n",
            "         (5), time=0.0015971660614013672\n",
            "      (8), time=0.0027544498443603516\n",
            "      fib(7)\n",
            "         fib(5)\n",
            "            fib(3)\n",
            "               fib(1)\n",
            "               (1), time=7.152557373046875e-07\n",
            "               fib(2)\n",
            "                  fib(0)\n",
            "                  (0), time=7.152557373046875e-07\n",
            "                  fib(1)\n",
            "                  (1), time=4.76837158203125e-07\n",
            "               (1), time=0.00022983551025390625\n",
            "            (2), time=0.0004508495330810547\n",
            "            fib(4)\n",
            "               fib(2)\n",
            "                  fib(0)\n",
            "                  (0), time=9.5367431640625e-07\n",
            "                  fib(1)\n",
            "                  (1), time=4.76837158203125e-07\n",
            "               (1), time=0.00041294097900390625\n",
            "               fib(3)\n",
            "                  fib(1)\n",
            "                  (1), time=4.76837158203125e-07\n",
            "                  fib(2)\n",
            "                     fib(0)\n",
            "                     (0), time=7.152557373046875e-07\n",
            "                     fib(1)\n",
            "                     (1), time=7.152557373046875e-07\n",
            "                  (1), time=0.0002377033233642578\n",
            "               (2), time=0.0004558563232421875\n",
            "            (3), time=0.0010831356048583984\n",
            "         (5), time=0.00177001953125\n",
            "         fib(6)\n",
            "            fib(4)\n",
            "               fib(2)\n",
            "                  fib(0)\n",
            "                  (0), time=4.76837158203125e-07\n",
            "                  fib(1)\n",
            "                  (1), time=4.76837158203125e-07\n",
            "               (1), time=0.0002315044403076172\n",
            "               fib(3)\n",
            "                  fib(1)\n",
            "                  (1), time=9.5367431640625e-07\n",
            "                  fib(2)\n",
            "                     fib(0)\n",
            "                     (0), time=7.152557373046875e-07\n",
            "                     fib(1)\n",
            "                     (1), time=4.76837158203125e-07\n",
            "                  (1), time=0.00022649765014648438\n",
            "               (2), time=0.00046896934509277344\n",
            "            (3), time=0.0009248256683349609\n",
            "            fib(5)\n",
            "               fib(3)\n",
            "                  fib(1)\n",
            "                  (1), time=9.5367431640625e-07\n",
            "                  fib(2)\n",
            "                     fib(0)\n",
            "                     (0), time=7.152557373046875e-07\n",
            "                     fib(1)\n",
            "                     (1), time=7.152557373046875e-07\n",
            "                  (1), time=0.0002377033233642578\n",
            "               (2), time=0.0004627704620361328\n",
            "               fib(4)\n",
            "                  fib(2)\n",
            "                     fib(0)\n",
            "                     (0), time=1.1920928955078125e-06\n",
            "                     fib(1)\n",
            "                     (1), time=4.76837158203125e-07\n",
            "                  (1), time=0.00023627281188964844\n",
            "                  fib(3)\n",
            "                     fib(1)\n",
            "                     (1), time=4.76837158203125e-07\n",
            "                     fib(2)\n",
            "                        fib(0)\n",
            "                        (0), time=9.5367431640625e-07\n",
            "                        fib(1)\n",
            "                        (1), time=7.152557373046875e-07\n",
            "                     (1), time=0.0002715587615966797\n",
            "                  (2), time=0.0005095005035400391\n",
            "               (3), time=0.0009903907775878906\n",
            "            (5), time=0.0017774105072021484\n",
            "         (8), time=0.003058910369873047\n",
            "      (13), time=0.005139827728271484\n",
            "   (21), time=0.008127450942993164\n",
            "   fib(9)\n",
            "      fib(7)\n",
            "         fib(5)\n",
            "            fib(3)\n",
            "               fib(1)\n",
            "               (1), time=4.76837158203125e-07\n",
            "               fib(2)\n",
            "                  fib(0)\n",
            "                  (0), time=9.5367431640625e-07\n",
            "                  fib(1)\n",
            "                  (1), time=4.76837158203125e-07\n",
            "               (1), time=0.00023174285888671875\n",
            "            (2), time=0.0004611015319824219\n",
            "            fib(4)\n",
            "               fib(2)\n",
            "                  fib(0)\n",
            "                  (0), time=7.152557373046875e-07\n",
            "                  fib(1)\n",
            "                  (1), time=7.152557373046875e-07\n",
            "               (1), time=0.0002281665802001953\n",
            "               fib(3)\n",
            "                  fib(1)\n",
            "                  (1), time=7.152557373046875e-07\n",
            "                  fib(2)\n",
            "                     fib(0)\n",
            "                     (0), time=9.5367431640625e-07\n",
            "                     fib(1)\n",
            "                     (1), time=4.76837158203125e-07\n",
            "                  (1), time=0.00023126602172851562\n",
            "               (2), time=0.0004436969757080078\n",
            "            (3), time=0.0008969306945800781\n",
            "         (5), time=0.0015668869018554688\n",
            "         fib(6)\n",
            "            fib(4)\n",
            "               fib(2)\n",
            "                  fib(0)\n",
            "                  (0), time=7.152557373046875e-07\n",
            "                  fib(1)\n",
            "                  (1), time=7.152557373046875e-07\n",
            "               (1), time=0.00022602081298828125\n",
            "               fib(3)\n",
            "                  fib(1)\n",
            "                  (1), time=7.152557373046875e-07\n",
            "                  fib(2)\n",
            "                     fib(0)\n",
            "                     (0), time=7.152557373046875e-07\n",
            "                     fib(1)\n",
            "                     (1), time=9.5367431640625e-07\n",
            "                  (1), time=0.0002334117889404297\n",
            "               (2), time=0.0004608631134033203\n",
            "            (3), time=0.0009067058563232422\n",
            "            fib(5)\n",
            "               fib(3)\n",
            "                  fib(1)\n",
            "                  (1), time=9.5367431640625e-07\n",
            "                  fib(2)\n",
            "                     fib(0)\n",
            "                     (0), time=1.1920928955078125e-06\n",
            "                     fib(1)\n",
            "                     (1), time=4.76837158203125e-07\n",
            "                  (1), time=0.00024509429931640625\n",
            "               (2), time=0.00047969818115234375\n",
            "               fib(4)\n",
            "                  fib(2)\n",
            "                     fib(0)\n",
            "                     (0), time=9.5367431640625e-07\n",
            "                     fib(1)\n",
            "                     (1), time=7.152557373046875e-07\n",
            "                  (1), time=0.0003921985626220703\n",
            "                  fib(3)\n",
            "                     fib(1)\n",
            "                     (1), time=4.76837158203125e-07\n",
            "                     fib(2)\n",
            "                        fib(0)\n",
            "                        (0), time=7.152557373046875e-07\n",
            "                        fib(1)\n",
            "                        (1), time=4.76837158203125e-07\n",
            "                     (1), time=0.0002434253692626953\n",
            "                  (2), time=0.0004944801330566406\n",
            "               (3), time=0.0011391639709472656\n",
            "            (5), time=0.0018377304077148438\n",
            "         (8), time=0.0029668807983398438\n",
            "      (13), time=0.004754066467285156\n",
            "      fib(8)\n",
            "         fib(6)\n",
            "            fib(4)\n",
            "               fib(2)\n",
            "                  fib(0)\n",
            "                  (0), time=4.76837158203125e-07\n",
            "                  fib(1)\n",
            "                  (1), time=9.5367431640625e-07\n",
            "               (1), time=0.00024580955505371094\n",
            "               fib(3)\n",
            "                  fib(1)\n",
            "                  (1), time=7.152557373046875e-07\n",
            "                  fib(2)\n",
            "                     fib(0)\n",
            "                     (0), time=1.1920928955078125e-06\n",
            "                     fib(1)\n",
            "                     (1), time=4.76837158203125e-07\n",
            "                  (1), time=0.0002346038818359375\n",
            "               (2), time=0.0004665851593017578\n",
            "            (3), time=0.0009503364562988281\n",
            "            fib(5)\n",
            "               fib(3)\n",
            "                  fib(1)\n",
            "                  (1), time=7.152557373046875e-07\n",
            "                  fib(2)\n",
            "                     fib(0)\n",
            "                     (0), time=9.5367431640625e-07\n",
            "                     fib(1)\n",
            "                     (1), time=7.152557373046875e-07\n",
            "                  (1), time=0.00024056434631347656\n",
            "               (2), time=0.00048089027404785156\n",
            "               fib(4)\n",
            "                  fib(2)\n",
            "                     fib(0)\n",
            "                     (0), time=9.5367431640625e-07\n",
            "                     fib(1)\n",
            "                     (1), time=4.76837158203125e-07\n",
            "                  (1), time=0.0002529621124267578\n",
            "                  fib(3)\n",
            "                     fib(1)\n",
            "                     (1), time=7.152557373046875e-07\n",
            "                     fib(2)\n",
            "                        fib(0)\n",
            "                        (0), time=9.5367431640625e-07\n",
            "                        fib(1)\n",
            "                        (1), time=4.76837158203125e-07\n",
            "                     (1), time=0.00015974044799804688\n",
            "                  (2), time=0.0003616809844970703\n",
            "               (3), time=0.0009176731109619141\n",
            "            (5), time=0.001636505126953125\n",
            "         (8), time=0.0028400421142578125\n",
            "         fib(7)\n",
            "            fib(5)\n",
            "               fib(3)\n",
            "                  fib(1)\n",
            "                  (1), time=9.5367431640625e-07\n",
            "                  fib(2)\n",
            "                     fib(0)\n",
            "                     (0), time=7.152557373046875e-07\n",
            "                     fib(1)\n",
            "                     (1), time=7.152557373046875e-07\n",
            "                  (1), time=0.0009150505065917969\n",
            "               (2), time=0.0010464191436767578\n",
            "               fib(4)\n",
            "                  fib(2)\n",
            "                     fib(0)\n",
            "                     (0), time=9.5367431640625e-07\n",
            "                     fib(1)\n",
            "                     (1), time=7.152557373046875e-07\n",
            "                  (1), time=9.322166442871094e-05\n",
            "                  fib(3)\n",
            "                     fib(1)\n",
            "                     (1), time=7.152557373046875e-07\n",
            "                     fib(2)\n",
            "                        fib(0)\n",
            "                        (0), time=7.152557373046875e-07\n",
            "                        fib(1)\n",
            "                        (1), time=7.152557373046875e-07\n",
            "                     (1), time=9.417533874511719e-05\n",
            "                  (2), time=0.00018739700317382812\n",
            "               (3), time=0.00037384033203125\n",
            "            (5), time=0.0015163421630859375\n",
            "            fib(6)\n",
            "               fib(4)\n",
            "                  fib(2)\n",
            "                     fib(0)\n",
            "                     (0), time=4.76837158203125e-07\n",
            "                     fib(1)\n",
            "                     (1), time=4.76837158203125e-07\n",
            "                  (1), time=9.417533874511719e-05\n",
            "                  fib(3)\n",
            "                     fib(1)\n",
            "                     (1), time=7.152557373046875e-07\n",
            "                     fib(2)\n",
            "                        fib(0)\n",
            "                        (0), time=7.152557373046875e-07\n",
            "                        fib(1)\n",
            "                        (1), time=4.76837158203125e-07\n",
            "                     (1), time=9.083747863769531e-05\n",
            "                  (2), time=0.0002601146697998047\n",
            "               (3), time=0.00044655799865722656\n",
            "               fib(5)\n",
            "                  fib(3)\n",
            "                     fib(1)\n",
            "                     (1), time=7.152557373046875e-07\n",
            "                     fib(2)\n",
            "                        fib(0)\n",
            "                        (0), time=4.76837158203125e-07\n",
            "                        fib(1)\n",
            "                        (1), time=9.5367431640625e-07\n",
            "                     (1), time=9.226799011230469e-05\n",
            "                  (2), time=0.00018072128295898438\n",
            "                  fib(4)\n",
            "                     fib(2)\n",
            "                        fib(0)\n",
            "                        (0), time=7.152557373046875e-07\n",
            "                        fib(1)\n",
            "                        (1), time=7.152557373046875e-07\n",
            "                     (1), time=9.655952453613281e-05\n",
            "                     fib(3)\n",
            "                        fib(1)\n",
            "                        (1), time=4.76837158203125e-07\n",
            "                        fib(2)\n",
            "                           fib(0)\n",
            "                           (0), time=1.430511474609375e-06\n",
            "                           fib(1)\n",
            "                           (1), time=7.152557373046875e-07\n",
            "                        (1), time=9.322166442871094e-05\n",
            "                     (2), time=0.00018715858459472656\n",
            "                  (3), time=0.0004515647888183594\n",
            "               (5), time=0.0007205009460449219\n",
            "            (8), time=0.0012559890747070312\n",
            "         (13), time=0.002884387969970703\n",
            "      (21), time=0.005883455276489258\n",
            "   (34), time=0.010822772979736328\n",
            "(55), time=0.019276142120361328\n"
          ],
          "output_type":"stream"
        },
        {
          "data":{
            "text\/plain":[
              "55"
            ]
          },
          "metadata":{
            
          },
          "output_type":"display_data"
        }
      ],
      "metadata":{
        
      }
    },
    {
      "cell_type":"markdown",
      "source":[
        "10) Реализовать декоратор, который выводит на печать имя функции и ее аргументы (на одной строке) и длительность исполнения и возвращаемые значения функции (на другой строке). Вывод на печать оформляется отступами, соответсвующими вложенности вызова функции.\n",
        "\n",
        "Проверить на запуске рекурсивной реализации получения чисел Фибоначчи."
      ],
      "metadata":{
        
      }
    },
    {
      "cell_type":"code",
      "source":[
        "def fib_dec(func):\n",
        "    @functools.wraps(func)\n",
        "    def wrapper(*args):\n",
        "        print(f' Имя ф-ции: {func.__name__}, Аргументы: {args}')\n",
        "        start_time = time.time()\n",
        "        result = func(*args)\n",
        "        end_time = time.time()\n",
        "        print(f'Длительность: {(end_time - start_time):.10f}, Возвращаемые значения: {result}')\n",
        "        return result\n",
        "    return wrapper\n",
        "\n",
        "\n",
        "@fib_dec\n",
        "def fib_tail(n):\n",
        "    @fib_dec\n",
        "    def helper(n, res = 0, nex = 1): #Номер элемента (выступает в качестве шага), текущее значение, следующее значение\n",
        "        if n == 0:\n",
        "            return n\n",
        "        if n == 1:\n",
        "            return nex\n",
        "        return helper(n - 1, nex, res + nex)\n",
        "    return helper(n, 0, 1)"
      ],
      "execution_count":0,
      "outputs":[
        
      ],
      "metadata":{
        
      }
    },
    {
      "cell_type":"markdown",
      "source":[
        "10) Реализовать декоратор, который выводит на печать имя функции и ее аргументы (на одной строке) и длительность исполнения и возвращаемые значения функции (на другой строке). Вывод на печать оформляется отступами, соответсвующими вложенности вызова функции.\n",
        "\n",
        "Проверить на запуске рекурсивной реализации получения чисел Фибоначчи."
      ],
      "metadata":{
        
      }
    },
    {
      "cell_type":"code",
      "source":[
        
      ],
      "execution_count":0,
      "outputs":[
        
      ],
      "metadata":{
        
      }
    }
  ],
  "metadata":{
    
  },
  "nbformat":4,
  "nbformat_minor":0
}