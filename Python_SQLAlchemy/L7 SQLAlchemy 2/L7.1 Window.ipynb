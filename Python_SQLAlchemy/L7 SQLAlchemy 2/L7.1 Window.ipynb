{
 "cells": [
  {
   "cell_type": "markdown",
   "id": "857892f1",
   "metadata": {
    "pycharm": {
     "name": "#%% md\n"
    }
   },
   "source": [
    "<img src=\"../Img/Python_SQL_PI.png\" style=\"width:100%\">\n",
    "\n",
    "\n",
    "<p style=\"font-size:160%;text-align:center\">Семинар 7.1. Оконные функции</p> \n",
    "\n",
    "<a id = Home></a>\n",
    "\n",
    "**12 мая 2022 года, чт**<br>\n",
    "5-я пара, 15:40 - 17:10<br>\n",
    "В4/3411(кк) (4-й Вешняковский проезд, 4)<br>\n",
    "ПИ20-1, ПИ20-2, ПИ20-3, ПИ20-4, ПИ20-5, ПИ20-6 (2 подгруппа)<br>\n",
    "\n",
    "**19 мая 2022 года, чт**<br>\n",
    "7-я пара, 18:55 - 20:25<br>\n",
    "В4/3411(кк) (4-й Вешняковский проезд, 4)<br>\n",
    "ПИ20-1, ПИ20-2, ПИ20-3, ПИ20-4, ПИ20-5, ПИ20-6 (1 подгруппа)<br>\n",
    "\n",
    "**23 мая 2022 года, пн**<br>\n",
    "2-я пара, 10:10 - 11:40<br>\n",
    "Щ38/509(кк) (ул. Щербаковская, 38)<br>\n",
    "ПИ20-1, ПИ20-2, ПИ20-3, ПИ20-4, ПИ20-5, ПИ20-6 (4 подгруппа)<br>\n",
    "\n",
    "4-я пара, 14:00 - 15:30<br>\n",
    "Щ38/509(кк) (ул. Щербаковская, 38)<br>\n",
    "Поток:ПИ20-1, ПИ20-2, ПИ20-3, ПИ20-4, ПИ20-5, ПИ20-6 (3 подгруппа)"
   ]
  },
  {
   "cell_type": "markdown",
   "id": "9cf8e3d5",
   "metadata": {
    "pycharm": {
     "name": "#%% md\n"
    }
   },
   "source": [
    "<p style=\"font-size:150%;text-align:center\">Литература</p>\n",
    "\n",
    "- Астахова И.Ф., Мельников В.М., Толстобров А.П., Фертиков В.В. СУБД: язык SQL в примерах и задачах.—М.:ФИЗМАТЛИТ, 2009. — 168 с. — ISBN 978-5-9221-0816-4.\n",
    "- Essential SQLAlchemy: Mapping Python to Databases 2nd Edition. Jason Myers, Rick Copeland. O'Reilly Media, Inc. 2015.\n",
    "- Официальный сайт СУБД SQLite https://sqlite.org\n",
    "- Официальный сайт библиотеки SQLAlchemy https://www.sqlalchemy.org/\n",
    "- Официальный сайт СУБД PostgreSQL https://www.postgresql.org/"
   ]
  },
  {
   "cell_type": "markdown",
   "id": "c0a89614",
   "metadata": {
    "pycharm": {
     "name": "#%% md\n"
    }
   },
   "source": [
    "<table align=left>\n",
    "    <tr><th colspan=2 style=\"text-align:left;font-size:1.17em\">student</th>\n",
    "    <tr><td style=\"text-align:left;font-size:1.17em\">student_id</td>\n",
    "        <td style=\"text-align:left;font-size:1.17em\">идентификатор студента</td></tr>\n",
    "    <tr><td style=\"text-align:left;font-size:1.17em\">surname</td>\n",
    "        <td style=\"text-align:left;font-size:1.17em\">фамилия студента</td></tr>\n",
    "    <tr><td style=\"text-align:left;font-size:1.17em\">name</td>\n",
    "        <td style=\"text-align:left;font-size:1.17em\">имя студента</td></tr>\n",
    "    <tr><td style=\"text-align:left;font-size:1.17em\">stipend</td>\n",
    "        <td style=\"text-align:left;font-size:1.17em\">стипендия, которую получает студент </td></tr>\n",
    "    <tr><td style=\"text-align:left;font-size:1.17em\">kurs</td>\n",
    "        <td style=\"text-align:left;font-size:1.17em\">курс, на котором учится студент </td></tr>\n",
    "    <tr><td style=\"text-align:left;font-size:1.17em\">city</td>\n",
    "        <td style=\"text-align:left;font-size:1.17em\">город, в котором живёт студент </td></tr>\n",
    "    <tr><td style=\"text-align:left;font-size:1.17em\">birthday</td>\n",
    "        <td style=\"text-align:left;font-size:1.17em\">дата рождения студента</td></tr>\n",
    "    <tr><td style=\"text-align:left;font-size:1.17em\">univ_id</td>\n",
    "        <td style=\"text-align:left;font-size:1.17em\">идентификатор университета, в котором учится студент</td></tr>\n",
    "</table>"
   ]
  },
  {
   "cell_type": "markdown",
   "id": "6c1040d4",
   "metadata": {
    "pycharm": {
     "name": "#%% md\n"
    }
   },
   "source": [
    "<table align=left>\n",
    "    <tr><th colspan=2 style=\"text-align:left;font-size:1.17em\">lecturer</th>\n",
    "    <tr><td style=\"text-align:left;font-size:1.17em\">lecturer_id</td>\n",
    "        <td style=\"text-align:left;font-size:1.17em\">идентификатор преподавателя</td></tr>\n",
    "    <tr><td style=\"text-align:left;font-size:1.17em\">surname</td>\n",
    "        <td style=\"text-align:left;font-size:1.17em\">фамилия преподавателя</td></tr>\n",
    "    <tr><td style=\"text-align:left;font-size:1.17em\">name</td>\n",
    "        <td style=\"text-align:left;font-size:1.17em\">имя преподавателя</td></tr>\n",
    "    <tr><td style=\"text-align:left;font-size:1.17em\">city</td>\n",
    "        <td style=\"text-align:left;font-size:1.17em\">город, в котором живет преподаватель</td></tr>\n",
    "    <tr><td style=\"text-align:left;font-size:1.17em\">univ_id</td>\n",
    "        <td style=\"text-align:left;font-size:1.17em\">идентификатор университета, в котором работает преподаватель</td></tr>\n",
    "</table>"
   ]
  },
  {
   "cell_type": "markdown",
   "id": "ff49ba91",
   "metadata": {
    "pycharm": {
     "name": "#%% md\n"
    }
   },
   "source": [
    "<table align=left>\n",
    "    <tr><th colspan=2 style=\"text-align:left;font-size:1.17em\">subject</th>\n",
    "    <tr><td style=\"text-align:left;font-size:1.17em\">subj_id</td>\n",
    "        <td style=\"text-align:left;font-size:1.17em\">идентификатор предмета обучения</td></tr>\n",
    "    <tr><td style=\"text-align:left;font-size:1.17em\">subj_name</td>\n",
    "        <td style=\"text-align:left;font-size:1.17em\">наименование предмета обучения</td></tr>\n",
    "    <tr><td style=\"text-align:left;font-size:1.17em\">hour</td>\n",
    "        <td style=\"text-align:left;font-size:1.17em\">количество часов, отводимых на изучение предмета</td></tr>\n",
    "    <tr><td style=\"text-align:left;font-size:1.17em\">semester</td>\n",
    "        <td style=\"text-align:left;font-size:1.17em\">семестр, в котором изучается данный предмет</td></tr>\n",
    "</table>"
   ]
  },
  {
   "cell_type": "markdown",
   "id": "d89143c6",
   "metadata": {
    "pycharm": {
     "name": "#%% md\n"
    }
   },
   "source": [
    "<table align=left>\n",
    "    <tr><th colspan=2 style=\"text-align:left;font-size:1.17em\">university</th>\n",
    "    <tr><td style=\"text-align:left;font-size:1.17em\">univ_id</td>\n",
    "        <td style=\"text-align:left;font-size:1.17em\">идентификатор университета</td></tr>\n",
    "    <tr><td style=\"text-align:left;font-size:1.17em\">univ_name</td>\n",
    "        <td style=\"text-align:left;font-size:1.17em\">название университета</td></tr>\n",
    "    <tr><td style=\"text-align:left;font-size:1.17em\">rating</td>\n",
    "        <td style=\"text-align:left;font-size:1.17em\">рейтинг университета</td></tr>\n",
    "    <tr><td style=\"text-align:left;font-size:1.17em\">city</td>\n",
    "        <td style=\"text-align:left;font-size:1.17em\">город, в котором расположен университет</td></tr>\n",
    "</table>"
   ]
  },
  {
   "cell_type": "markdown",
   "id": "287bb172",
   "metadata": {
    "pycharm": {
     "name": "#%% md\n"
    }
   },
   "source": [
    "<table align=left>\n",
    "    <tr><th colspan=2 style=\"text-align:left;font-size:1.17em\">exam_marks</th>\n",
    "    <tr><td style=\"text-align:left;font-size:1.17em\">exam_id</td>\n",
    "        <td style=\"text-align:left;font-size:1.17em\">идентификатор экзамена</td></tr>\n",
    "    <tr><td style=\"text-align:left;font-size:1.17em\">student_id</td>\n",
    "        <td style=\"text-align:left;font-size:1.17em\">идентификатор студента</td></tr>\n",
    "    <tr><td style=\"text-align:left;font-size:1.17em\">subj_id</td>\n",
    "        <td style=\"text-align:left;font-size:1.17em\">идентификатор предмета обучения</td></tr>\n",
    "    <tr><td style=\"text-align:left;font-size:1.17em\">mark</td>\n",
    "        <td style=\"text-align:left;font-size:1.17em\">экзаменационная оценка</td></tr>\n",
    "    <tr><td style=\"text-align:left;font-size:1.17em\">exam_date</td>\n",
    "        <td style=\"text-align:left;font-size:1.17em\">дата экзамена</td></tr>\n",
    "</table>"
   ]
  },
  {
   "cell_type": "markdown",
   "id": "e3ec662b",
   "metadata": {
    "pycharm": {
     "name": "#%% md\n"
    }
   },
   "source": [
    "<table align=left>\n",
    "    <tr><th colspan=2 style=\"text-align:left;font-size:1.17em\">subj_lect</th>\n",
    "    <tr><td style=\"text-align:left;font-size:1.17em\">lecturer_id</td>\n",
    "        <td style=\"text-align:left;font-size:1.17em\">идентификатор преподавателя</td></tr>\n",
    "    <tr><td style=\"text-align:left;font-size:1.17em\">subj_id</td>\n",
    "        <td style=\"text-align:left;font-size:1.17em\">идентификатор предмета</td></tr>\n",
    "</table>"
   ]
  },
  {
   "cell_type": "markdown",
   "id": "3386ba27",
   "metadata": {
    "pycharm": {
     "name": "#%% md\n"
    }
   },
   "source": [
    "<img src=\"../Img/Students_ERD.png\" style=\"width:90%\">"
   ]
  },
  {
   "cell_type": "markdown",
   "id": "9d033892",
   "metadata": {
    "pycharm": {
     "name": "#%% md\n"
    }
   },
   "source": [
    "<p style=\"font-size:150%;text-align:center\">Оконные функции</p>\n",
    "\n",
    "Оконная функция для каждой строки некоторого множества строк вычисляет значение, каким-либо образом связанное со всеми строками данного множества. Оконные функции похожи на агрегатные функции с той разницей, что, в отличие от традиционных агрегатных функций, результат группировки не приводит к сворачиванию множества строк до одной строки.\n",
    "\n",
    "Различают следующие типы оконных функций:\n",
    "- оконные функции упорядочивания;\n",
    "- агрегатные оконные функции;\n",
    "- оконные функции смещения.\n",
    "\n",
    "Синтаксис оконной функции:\n",
    "```\n",
    "НАЗВАНИЕ_ФУНКЦИИ ([АТРИБУТ])\n",
    "OVER (\n",
    "    [PARTITION BY УСЛОВИЕ_ГРУППИРОВКИ] \n",
    "    [ORDER BY УСЛОВИЕ_СОРТИРОВКИ]\n",
    "    [ROWS или RANGE ЗАДАНИЕ_ГРАНИЦ_В_ПРЕДЕЛАХ_ГРУППЫ] \n",
    "    )\n",
    "```\n",
    "\n",
    "Ознакомимся с работой оконных функций каждого типа.\n",
    "\n",
    "<p style=\"font-size:150%;text-align:center\">1. Оконные функции упорядочивания</p>\n",
    "\n",
    "К оконным функциям упорядочивания относятся ROW_NUMBER(), RANK(), DENSE_RANK(), NTILE().\n",
    "\n",
    "Оконная функция ROW_NUMBER() возвращает порядковый номер строки. Эта функция не требует указания параметра в скобках.\n",
    "\n",
    "<u>Пример 1.1.</u> Присвоить порядковый номер каждому предмету, упорядочив предметы по названию.\n",
    "```\n",
    "SELECT ROW_NUMBER () OVER (ORDER BY subj_name) AS subj_no,\n",
    "subject.*\n",
    "FROM subject;\n",
    "```\n",
    "\n",
    "В данном примере упорядочивание по названию обеспечено предложением ORDER BY. Предложение PARTITON BY позволяет применять оконную функцию к отдельным подгруппам строк. В следующем примере все предметы разбиваются на подгруппы по семестрам и нумерация предметов для каждой подгруппы начинается заново.\n",
    "\n",
    "<u>Пример 1.2.</u> Присвоить порядковый номер каждому предмету в рамках семестра.\n",
    "```\n",
    "SELECT ROW_NUMBER () OVER (PARTITION BY semester ORDER BY subj_name) AS subj_no_sem,\n",
    "subject.*\n",
    "FROM subject;\n",
    "```\n",
    "\n",
    "Функция RANK() вычисляет ранг строки в зависимости от значения атрибута в предложении ORDER BY. Рассчитаем ранг каждого предмета в зависимости от количества учебных часов по всей таблице предметов, не разбивая строки таблицы на какие-либо подгруппы.\n",
    "\n",
    "<u>Пример 1.3.</u> Ранжировать предметы в зависимости от количества учебных часов.\n",
    "```\n",
    "SELECT RANK () OVER (ORDER BY hour) AS subj_rank,\n",
    "subject.*\n",
    "FROM subject;\n",
    "```\n",
    "В результате выполнения запроса предметам с одинаковым количеством часов присвоено равное значение ранга. Если несколько предметов имеют одинаковый ранг, то при переходе к предмету с большим количеством часов назначается не следующее по порядку натуральное значение ранга, а увеличенное с учетом числа предшествующих предметов с одинаковым рангом. Этой особенностью функция RANK() отличается от функции DENSE_RANK(), которая не пропускает значений и всегда увеличивает ранг на единицу при увеличении значения параметра сортировки в предложении ORDER BY.\n",
    "\n",
    "<u>Пример 1.4.</u> Ранжирование с помощью DENSE_RANK().\n",
    "```\n",
    "SELECT DENSE_RANK () OVER (ORDER BY hour) AS subj_dense_rank,\n",
    "subject.*\n",
    "FROM subject;\n",
    "```\n",
    "\n",
    "Функция NTILE() разбивает строки на подгруппы и каждой подгруппе присваивает номер. Разобъем все предметы по количеству часов на три подгруппы. Для этого используем данную функцию с параметром 3: NTILE(3). Функция стремится разбить все строки на подгруппы так, чтобы в каждую подгруппу попало равное число строк. Если это невозможно (число строк не делится без остатка на число подгрупп), то подгруппы с меньшим номером получат больше строк.\n",
    "\n",
    "<u>Пример 1.5.</u> Разбить все предметы на три подгруппы по количеству часов.\n",
    "```\n",
    "SELECT NTILE (3) OVER (ORDER BY su.hour, su.subj_name) AS hour_tile,\n",
    "su.subj_name, su.hour\n",
    "FROM subject su;\n",
    "```\n",
    "\n",
    "<p style=\"font-size:150%;text-align:center\">2. Агрегатные оконные функции</p>\n",
    "\n",
    "Такие функции, как MIN(), MAX(), COUNT(), AVG(), SUM() относятся к агрегатным оконным функциям. Перечень агрегатных оконных функций зависит от конкретной реализации СУБД. Покажем с помощью агрегатной оконной функции SUM() суммарное количество часов, отводимое на изучение предметов каждого семестра.\n",
    "\n",
    "<u>Пример 2.1.</u> Показать суммарное количество учебных часов в каждом семестре.\n",
    "```\n",
    "SELECT su.subj_name, su.semester, su.hour,\n",
    "SUM (su.hour) OVER (PARTITION BY su.semester) AS sum_hour_sem\n",
    "FROM subject su;\n",
    "```\n",
    "В результате выполнения этого запроса мы получили в каждой строке суммарное число учебных часов всех предметов соответствующего семестра. Если же с помощью предложения ORDER BY добавть упорядочение по какому-либо параметру, то вместо столбца с суммарным количеством учебных часов в семестре мы получим столбец накопительного итога учебных часов. Для упорядочения выберем столбец названия предмета.\n",
    "\n",
    "<u>Пример 2.2.</u> Показать число учебных часов с накопительным итогом в каждом семестре в порядке по названию предмета.\n",
    "```\n",
    "SELECT su.subj_name, su.semester, su.hour,\n",
    "SUM (su.hour) OVER (PARTITION BY su.semester ORDER BY su.subj_name) AS run_total_hour_sem\n",
    "FROM subject su;\n",
    "```\n",
    "\n",
    "Так как оконные функции в процессе разбиения строк на подмножества не \"схлопывают\" группу строк до одной строки, их удобно использовать для анализа данных. Рассчитаем долю в процентах количества учебных часов каждого предмета семестра от общего количества учебных часов семестра.\n",
    "\n",
    "<u>Пример 2.3.</u> Вычислить долю в процентах количества учебных часов предметов семестра от общего количества учебных часов семестра.\n",
    "```\n",
    "SELECT A.*, ROUND(CAST(A.hour AS REAL)/A.sum_hour_sem * 100, 2) AS perc_hour_sem\n",
    "FROM (\n",
    "SELECT su.subj_name, su.semester, su.hour,\n",
    "SUM (su.hour) OVER (PARTITION BY su.semester) AS sum_hour_sem\n",
    "FROM subject su) AS A\n",
    "ORDER BY A.semester, A.subj_name;\n",
    "```\n",
    "\n",
    "В этом запросе мы использовали функцию CAST(), преобразующую целочисленное значение к значению вещественного типа и функцию ROUND() для округления результата до двух десятичных знаков. Особенности использования этих и многих других функций языка SQL зависят от конкретной СУБД. Так, например, в СУБД *postgresql* потребуется написать `CAST(A.hour AS NUMERIC)`.\n",
    "\n",
    "<p style=\"font-size:150%;text-align:center\">3. Оконные функции смещения</p>\n",
    "\n",
    "К оконным функциям смещения относятся такие оконные функции, как LAG(), LEAD(), FIRST_VALUE(), LAST_VALUE(), NTH_VALUE(). Эти функции возвращают смещенное значение атрибута с определённым лагом вперед или назад. Это свойство может использоваться для сравнения текущего значения строки с предыдущим, последующим, первым, последним или каким-либо конкретным значением строки подгруппы.\n",
    "\n",
    "<table>\n",
    "    <tr><th style=\"text-align:left;font-size:1.17em\">Функция</th>\n",
    "        <th style=\"text-align:left;font-size:1.17em\">Описание</th></tr>\n",
    "    <tr><td style=\"text-align:left;font-size:1.17em\">lag(value, offset)</td>\n",
    "        <td style=\"text-align:left;font-size:1.17em\">значение value из строки, отстоящей на offset строк назад от текущей</td></tr>\n",
    "    <tr><td style=\"text-align:left;font-size:1.17em\">lead(value, offset)</td>\n",
    "        <td style=\"text-align:left;font-size:1.17em\">значение value из строки, отстоящей на offset строк вперед от текущей</td></tr>\n",
    "    <tr><td style=\"text-align:left;font-size:1.17em\">first_value(value)</td>\n",
    "        <td style=\"text-align:left;font-size:1.17em\">значение value из первой строки</td></tr>\n",
    "    <tr><td style=\"text-align:left;font-size:1.17em\">last_value(value)</td>\n",
    "        <td style=\"text-align:left;font-size:1.17em\">значение value из последней строки </td></tr>\n",
    "    <tr><td style=\"text-align:left;font-size:1.17em\">nth_value(value, n)</td>\n",
    "        <td style=\"text-align:left;font-size:1.17em\">значение value из n-й строки </td></tr>\n",
    "</table>\n",
    "\n",
    "Покажем работу функции LAG() на примере. Для каждого семестра, начиная со второго, найдём, на сколько изменилось количество учебных часов по сравнению с предыдущим семестром. Для этого выполним запрос с группировкой по семестрам и суммированию числа часов, а затем применим к результату этого запроса оконную функцию LAG(), с помощью которой добавим копию столбца с суммой часов со смещением на одну позицию. Затем вычтем смещенное значение числа часов из исходного значения в каждой строке.\n",
    "\n",
    "<u>Пример 3.1.</u>\n",
    "```\n",
    "SELECT B.*, (B.sum_hour - B.lag_sum_hour) AS diff\n",
    "FROM (\n",
    "SELECT A.*, LAG (A.sum_hour) OVER () AS lag_sum_hour\n",
    "FROM (\n",
    "SELECT su.semester, SUM(su.hour) AS sum_hour\n",
    "FROM subject su\n",
    "GROUP BY su.semester) AS A\n",
    ") AS B\n",
    "WHERE B.lag_sum_hour IS NOT NULL;\n",
    "```\n",
    "\n",
    "По умолчанию функции LAG() и LEAD() сдвигают данные на одну позицию.\n",
    "\n",
    "<p style=\"font-size:150%;text-align:center\">4. Задание границ действия оконной функции</p>\n",
    "\n",
    "Границы применения оконной функции внутри подгруппы PARTITION уточняются с помощью предложений ROWS и RANGE. Для этого используются ключевые слова PRECEDING и FOLLOWING и указывается смещение относительно текущей записи, например:\n",
    "\n",
    "`ROWS BETWEEN 3 PRECEDING AND 2 FOLLOWING`\n",
    "\n",
    "Необходимость указывать границы связана с тем, что многие оконные функции по умолчанию распространяют свое действие не на все строки подгруппы от первой до последней, а на интервал (действуют в рамках) строк от первой до текущей. Чтобы в явном виде распространить действие оконной функции на всю подгруппу строк, используется ключевое слово UNBOUNDED, например:\n",
    "\n",
    "`ROWS BETWEEN UNBOUNDED PRECEDING AND UNBOUNDED FOLLOWING`\n",
    "\n",
    "Также, в некоторых случаях, может применяться указание на текущую строку с помощью ключевой фразы CURRENT ROW, например:\n",
    "\n",
    "`ROWS BETWEEN CURRENT ROW AND UNBOUNDED FOLLOWING`\n",
    "\n",
    "<u>Пример 4.1.</u> Рассчитать скользящее среднее числа сданных экзаменов в зависимости от месяца экзамена на основе текущего и двух предыдущих значений.\n",
    "```\n",
    "SELECT A.*,\n",
    "ROUND(AVG(A.em_count) \n",
    "OVER (ORDER BY A.month \n",
    "ROWS BETWEEN 2 preceding AND current row), 2) AS running_avg\n",
    "FROM (\n",
    "SELECT substr(em.exam_date, 6, 2) AS month, count(em.exam_id) AS em_count\n",
    "FROM exam_marks em\n",
    "GROUP BY month) A;\n",
    "```"
   ]
  },
  {
   "cell_type": "markdown",
   "id": "b81b1d4c",
   "metadata": {
    "pycharm": {
     "name": "#%% md\n"
    }
   },
   "source": [
    "<img src=../Img/pencil.png style=\"width:190px;height:190px\">\n",
    "<p style=\"background-color:powderblue; font-size:125%; color: rebeccapurple;text-align:center\">Выполните задания</p>\n",
    "<p>Выполните задания с помощью Jupyter Notebook. </p>\n",
    "\n",
    "1. Студентам 1 курса присвойте порядковые номера по дате рождения.\n",
    "2. Для каждого университета ранжируйте курсы по числу студентов на курсе. Результат должен содержать название университета, номер курса, число студентов на курсе, ранг курса. Меньшее число ранга присвойте курсу с большим числом студентов.\n",
    "3. В университетах ВГУ и НГУ ранжируйте (без пропуска значений ранга) студентов по убыванию стипендии в рамках своего университета.\n",
    "4. Всех студентов, сдававших экзамены, ранжируйте (без пропуска значений ранга) по убыванию средней оценки. Результат должен содержать номер ранга, фамилию, имя студента, среднюю оценку.\n",
    "5. Для каждого университета узнайте, сколько % студентов на каждом курсе университета от общего числа студентов университета. В результате покажите название университета, номер курса, количество студентов на курсе, долю студентов университета на курсе в %.\n",
    "6. Для каждого университета покажите долю в % числа студентов каждого курса от максимального числа студентов на курсе университета.\n",
    "7. Для каждого курса соответствующего университета рассчитайте относительный прирост средней экзаменационной оценки, упорядочив по номеру курса. Результат должен содержать: название университета, номер курса, среднюю оценку на курсе данного университета, значение относительного цепного прироста средней оценки."
   ]
  },
  {
   "cell_type": "markdown",
   "id": "60f45ee1",
   "metadata": {
    "pycharm": {
     "name": "#%% md\n"
    }
   },
   "source": [
    "<p style=\"font-size:150%\">Решение заданий семинара</p>"
   ]
  },
  {
   "cell_type": "code",
   "execution_count": 3,
   "outputs": [],
   "source": [
    "from sqlalchemy import create_engine\n",
    "import pandas as pd"
   ],
   "metadata": {
    "collapsed": false,
    "pycharm": {
     "name": "#%%\n"
    }
   }
  },
  {
   "cell_type": "markdown",
   "source": [],
   "metadata": {
    "collapsed": false,
    "pycharm": {
     "name": "#%% md\n"
    }
   }
  },
  {
   "cell_type": "code",
   "execution_count": 4,
   "outputs": [],
   "source": [
    "engine = create_engine('sqlite+pysqlite:///../Data/Students.db')"
   ],
   "metadata": {
    "collapsed": false,
    "pycharm": {
     "name": "#%%\n"
    }
   }
  },
  {
   "cell_type": "code",
   "execution_count": 5,
   "outputs": [
    {
     "data": {
      "text/plain": "'1. Студентам 1 курса присвойте порядковые номера по дате рождения.'"
     },
     "execution_count": 5,
     "metadata": {},
     "output_type": "execute_result"
    }
   ],
   "source": [
    "\"\"\"1. Студентам 1 курса присвойте порядковые номера по дате рождения.\"\"\"\n"
   ],
   "metadata": {
    "collapsed": false,
    "pycharm": {
     "name": "#%%\n"
    }
   }
  },
  {
   "cell_type": "markdown",
   "source": [
    "<img src=../Img/pencil-2841771.png style=\"width:39%\">\n",
    "<p style=\"background-color:pink; font-size:125%; color: black;text-align:center\">Домашнее задание</p>\n",
    "<p>Выполните домашнее задание с помощью Jupyter Notebook.</p>\n",
    "\n",
    "1. Студентам, обучающимся в ВГУ, присвойте порядковый номер, упорядочив по фамилии и имени.\n",
    "\n",
    "2. Предметы, по которым сдавались экзамены, ранжируйте по среднему баллу, полученному на экзаменах. Результат должен содержать название предмета, средний балл, номер ранга без пропусков. Предметам с большим значением среднего балла присвойте меньшее значение ранга. Значение среднего балла округлите до двух десятичных знаков.\n",
    "\n",
    "3. Ранжируйте преподавателей (без пропуска значений ранга) по количеству преподаваемых ими предметов.\n",
    "\n",
    "4. Ранжируйте семестры по количеству учебных часов.\n",
    "\n",
    "5. Рассчитайте относительный прирост суммарного количества учебных часов предметов семестра по мере увеличения номера семестра.\n",
    "\n",
    "6. Для каждого студента, обучающегося в своём городе, рассчитайте разницу в возрасте в днях с самым старшим из всех студентов, обучающихся в своём городе. Результат упорядочить по разности в возрасте."
   ],
   "metadata": {
    "collapsed": false,
    "pycharm": {
     "name": "#%% md\n"
    }
   }
  },
  {
   "cell_type": "markdown",
   "source": [
    "<p style=\"font-size:150%\">Решение домашнего задания</p>"
   ],
   "metadata": {
    "collapsed": false,
    "pycharm": {
     "name": "#%% md\n"
    }
   }
  },
  {
   "cell_type": "code",
   "execution_count": 6,
   "outputs": [
    {
     "data": {
      "text/plain": "                                          subj_name  semester  hour  \\\n0                                     Анализ данных         1    42   \n1                                       Информатика         1    56   \n2                                            Физика         1    34   \n3                                        Математика         2    56   \n4                                               ОБЖ         2    34   \n5           Программирование на языках Python и SQL         2    34   \n6                                   Английский язык         3    56   \n7          Обработка данных и моделирование в Excel         3    36   \n8                                           История         4    34   \n9   Теория вероятностей и математическая статистика         4    72   \n10                                      Физкультура         4    32   \n11                                      Физкультура         5    34   \n\n    sum_hour_sem  perc_hour_sem  \n0            132          31.82  \n1            132          42.42  \n2            132          25.76  \n3            124          45.16  \n4            124          27.42  \n5            124          27.42  \n6             92          60.87  \n7             92          39.13  \n8            138          24.64  \n9            138          52.17  \n10           138          23.19  \n11            34         100.00  ",
      "text/html": "<div>\n<style scoped>\n    .dataframe tbody tr th:only-of-type {\n        vertical-align: middle;\n    }\n\n    .dataframe tbody tr th {\n        vertical-align: top;\n    }\n\n    .dataframe thead th {\n        text-align: right;\n    }\n</style>\n<table border=\"1\" class=\"dataframe\">\n  <thead>\n    <tr style=\"text-align: right;\">\n      <th></th>\n      <th>subj_name</th>\n      <th>semester</th>\n      <th>hour</th>\n      <th>sum_hour_sem</th>\n      <th>perc_hour_sem</th>\n    </tr>\n  </thead>\n  <tbody>\n    <tr>\n      <th>0</th>\n      <td>Анализ данных</td>\n      <td>1</td>\n      <td>42</td>\n      <td>132</td>\n      <td>31.82</td>\n    </tr>\n    <tr>\n      <th>1</th>\n      <td>Информатика</td>\n      <td>1</td>\n      <td>56</td>\n      <td>132</td>\n      <td>42.42</td>\n    </tr>\n    <tr>\n      <th>2</th>\n      <td>Физика</td>\n      <td>1</td>\n      <td>34</td>\n      <td>132</td>\n      <td>25.76</td>\n    </tr>\n    <tr>\n      <th>3</th>\n      <td>Математика</td>\n      <td>2</td>\n      <td>56</td>\n      <td>124</td>\n      <td>45.16</td>\n    </tr>\n    <tr>\n      <th>4</th>\n      <td>ОБЖ</td>\n      <td>2</td>\n      <td>34</td>\n      <td>124</td>\n      <td>27.42</td>\n    </tr>\n    <tr>\n      <th>5</th>\n      <td>Программирование на языках Python и SQL</td>\n      <td>2</td>\n      <td>34</td>\n      <td>124</td>\n      <td>27.42</td>\n    </tr>\n    <tr>\n      <th>6</th>\n      <td>Английский язык</td>\n      <td>3</td>\n      <td>56</td>\n      <td>92</td>\n      <td>60.87</td>\n    </tr>\n    <tr>\n      <th>7</th>\n      <td>Обработка данных и моделирование в Excel</td>\n      <td>3</td>\n      <td>36</td>\n      <td>92</td>\n      <td>39.13</td>\n    </tr>\n    <tr>\n      <th>8</th>\n      <td>История</td>\n      <td>4</td>\n      <td>34</td>\n      <td>138</td>\n      <td>24.64</td>\n    </tr>\n    <tr>\n      <th>9</th>\n      <td>Теория вероятностей и математическая статистика</td>\n      <td>4</td>\n      <td>72</td>\n      <td>138</td>\n      <td>52.17</td>\n    </tr>\n    <tr>\n      <th>10</th>\n      <td>Физкультура</td>\n      <td>4</td>\n      <td>32</td>\n      <td>138</td>\n      <td>23.19</td>\n    </tr>\n    <tr>\n      <th>11</th>\n      <td>Физкультура</td>\n      <td>5</td>\n      <td>34</td>\n      <td>34</td>\n      <td>100.00</td>\n    </tr>\n  </tbody>\n</table>\n</div>"
     },
     "execution_count": 6,
     "metadata": {},
     "output_type": "execute_result"
    }
   ],
   "source": [
    "# Ваш код здесь\n",
    "# 2.3 Вычислить долю в процентах количества учебных часов предметов семестра от общего количества учебных часов семестра.\n",
    "conn = engine.connect()\n",
    "\n",
    "s = \"\"\"\n",
    "SELECT A.*, ROUND(CAST(A.hour AS REAL)/A.sum_hour_sem * 100, 2) AS perc_hour_sem\n",
    "FROM (\n",
    "SELECT su.subj_name, su.semester, su.hour,\n",
    "SUM (su.hour) OVER (PARTITION BY su.semester) AS sum_hour_sem\n",
    "FROM subject su) AS A\n",
    "ORDER BY A.semester, A.subj_name;\"\"\"\n",
    "\n",
    "#with engine.connect() as conn:\n",
    "    #result = conn.execute(s).all()\n",
    "    #print(len(result))\n",
    "\n",
    "pd.read_sql(s, conn)"
   ],
   "metadata": {
    "collapsed": false,
    "pycharm": {
     "name": "#%%\n"
    }
   }
  },
  {
   "cell_type": "code",
   "execution_count": 22,
   "outputs": [
    {
     "data": {
      "text/plain": "   semester  sum_hour  lag_sum_hour   diff\n0         1       132           NaN    NaN\n1         2       124         132.0   -8.0\n2         3        92         124.0  -32.0\n3         4       138          92.0   46.0\n4         5        34         138.0 -104.0",
      "text/html": "<div>\n<style scoped>\n    .dataframe tbody tr th:only-of-type {\n        vertical-align: middle;\n    }\n\n    .dataframe tbody tr th {\n        vertical-align: top;\n    }\n\n    .dataframe thead th {\n        text-align: right;\n    }\n</style>\n<table border=\"1\" class=\"dataframe\">\n  <thead>\n    <tr style=\"text-align: right;\">\n      <th></th>\n      <th>semester</th>\n      <th>sum_hour</th>\n      <th>lag_sum_hour</th>\n      <th>diff</th>\n    </tr>\n  </thead>\n  <tbody>\n    <tr>\n      <th>0</th>\n      <td>1</td>\n      <td>132</td>\n      <td>NaN</td>\n      <td>NaN</td>\n    </tr>\n    <tr>\n      <th>1</th>\n      <td>2</td>\n      <td>124</td>\n      <td>132.0</td>\n      <td>-8.0</td>\n    </tr>\n    <tr>\n      <th>2</th>\n      <td>3</td>\n      <td>92</td>\n      <td>124.0</td>\n      <td>-32.0</td>\n    </tr>\n    <tr>\n      <th>3</th>\n      <td>4</td>\n      <td>138</td>\n      <td>92.0</td>\n      <td>46.0</td>\n    </tr>\n    <tr>\n      <th>4</th>\n      <td>5</td>\n      <td>34</td>\n      <td>138.0</td>\n      <td>-104.0</td>\n    </tr>\n  </tbody>\n</table>\n</div>"
     },
     "execution_count": 22,
     "metadata": {},
     "output_type": "execute_result"
    }
   ],
   "source": [
    "# 3.1 Покажем работу функции LAG() на примере. Для каждого семестра, начиная со второго, найдём, на сколько изменилось количество учебных часов по сравнению с предыдущим семестром. Для этого выполним запрос с группировкой по семестрам и суммированию числа часов, а затем применим к результату этого запроса оконную функцию LAG(), с помощью которой добавим копию столбца с суммой часов со смещением на одну позицию. Затем вычтем смещенное значение числа часов из исходного значения в каждой строке.\n",
    "s = \"\"\"SELECT B.*, (B.sum_hour - B.lag_sum_hour) AS diff\n",
    "FROM (\n",
    "SELECT A.*, LAG (A.sum_hour) OVER () AS lag_sum_hour\n",
    "FROM (\n",
    "SELECT su.semester, SUM(su.hour) AS sum_hour\n",
    "FROM subject su\n",
    "GROUP BY su.semester) AS A\n",
    ") AS B\n",
    "--WHERE B.lag_sum_hour IS NOT NULL;\"\"\"\n",
    "\n",
    "pd.read_sql(s, conn)"
   ],
   "metadata": {
    "collapsed": false,
    "pycharm": {
     "name": "#%%\n"
    }
   }
  },
  {
   "cell_type": "code",
   "execution_count": 23,
   "outputs": [
    {
     "data": {
      "text/plain": "  month  em_count  running_avg\n0    01         3         3.00\n1    02         5         4.00\n2    05        21         9.67\n3    06        11        12.33\n4    08         1        11.00\n5    09         2         4.67\n6    10         1         1.33\n7    12         3         2.00",
      "text/html": "<div>\n<style scoped>\n    .dataframe tbody tr th:only-of-type {\n        vertical-align: middle;\n    }\n\n    .dataframe tbody tr th {\n        vertical-align: top;\n    }\n\n    .dataframe thead th {\n        text-align: right;\n    }\n</style>\n<table border=\"1\" class=\"dataframe\">\n  <thead>\n    <tr style=\"text-align: right;\">\n      <th></th>\n      <th>month</th>\n      <th>em_count</th>\n      <th>running_avg</th>\n    </tr>\n  </thead>\n  <tbody>\n    <tr>\n      <th>0</th>\n      <td>01</td>\n      <td>3</td>\n      <td>3.00</td>\n    </tr>\n    <tr>\n      <th>1</th>\n      <td>02</td>\n      <td>5</td>\n      <td>4.00</td>\n    </tr>\n    <tr>\n      <th>2</th>\n      <td>05</td>\n      <td>21</td>\n      <td>9.67</td>\n    </tr>\n    <tr>\n      <th>3</th>\n      <td>06</td>\n      <td>11</td>\n      <td>12.33</td>\n    </tr>\n    <tr>\n      <th>4</th>\n      <td>08</td>\n      <td>1</td>\n      <td>11.00</td>\n    </tr>\n    <tr>\n      <th>5</th>\n      <td>09</td>\n      <td>2</td>\n      <td>4.67</td>\n    </tr>\n    <tr>\n      <th>6</th>\n      <td>10</td>\n      <td>1</td>\n      <td>1.33</td>\n    </tr>\n    <tr>\n      <th>7</th>\n      <td>12</td>\n      <td>3</td>\n      <td>2.00</td>\n    </tr>\n  </tbody>\n</table>\n</div>"
     },
     "execution_count": 23,
     "metadata": {},
     "output_type": "execute_result"
    }
   ],
   "source": [
    "# 4.1 Рассчитать скользящее среднее числа сданных экзаменов в зависимости от месяца экзамена на основе текущего и двух предыдущих значений.\n",
    "s = \"\"\"SELECT A.*,\n",
    "ROUND(AVG(A.em_count)\n",
    "OVER (ORDER BY A.month\n",
    "ROWS BETWEEN 2 preceding AND current row), 2) AS running_avg\n",
    "FROM (\n",
    "SELECT substr(em.exam_date, 6, 2) AS month, count(em.exam_id) AS em_count\n",
    "FROM exam_marks em\n",
    "GROUP BY month) A;\"\"\"\n",
    "\n",
    "pd.read_sql(s, conn)"
   ],
   "metadata": {
    "collapsed": false,
    "pycharm": {
     "name": "#%%\n"
    }
   }
  },
  {
   "cell_type": "code",
   "execution_count": 24,
   "outputs": [
    {
     "data": {
      "text/plain": "                                          subj_name  semester  hour  \\\n0                                     Анализ данных         1    42   \n1                                       Информатика         1    56   \n2                                            Физика         1    34   \n3                                        Математика         2    56   \n4                                               ОБЖ         2    34   \n5           Программирование на языках Python и SQL         2    34   \n6                                   Английский язык         3    56   \n7          Обработка данных и моделирование в Excel         3    36   \n8                                           История         4    34   \n9   Теория вероятностей и математическая статистика         4    72   \n10                                      Физкультура         4    32   \n11                                      Физкультура         5    34   \n\n    run_total_hour_sem  \n0                   42  \n1                   98  \n2                  132  \n3                   56  \n4                   90  \n5                  124  \n6                   56  \n7                   92  \n8                   34  \n9                  106  \n10                 138  \n11                  34  ",
      "text/html": "<div>\n<style scoped>\n    .dataframe tbody tr th:only-of-type {\n        vertical-align: middle;\n    }\n\n    .dataframe tbody tr th {\n        vertical-align: top;\n    }\n\n    .dataframe thead th {\n        text-align: right;\n    }\n</style>\n<table border=\"1\" class=\"dataframe\">\n  <thead>\n    <tr style=\"text-align: right;\">\n      <th></th>\n      <th>subj_name</th>\n      <th>semester</th>\n      <th>hour</th>\n      <th>run_total_hour_sem</th>\n    </tr>\n  </thead>\n  <tbody>\n    <tr>\n      <th>0</th>\n      <td>Анализ данных</td>\n      <td>1</td>\n      <td>42</td>\n      <td>42</td>\n    </tr>\n    <tr>\n      <th>1</th>\n      <td>Информатика</td>\n      <td>1</td>\n      <td>56</td>\n      <td>98</td>\n    </tr>\n    <tr>\n      <th>2</th>\n      <td>Физика</td>\n      <td>1</td>\n      <td>34</td>\n      <td>132</td>\n    </tr>\n    <tr>\n      <th>3</th>\n      <td>Математика</td>\n      <td>2</td>\n      <td>56</td>\n      <td>56</td>\n    </tr>\n    <tr>\n      <th>4</th>\n      <td>ОБЖ</td>\n      <td>2</td>\n      <td>34</td>\n      <td>90</td>\n    </tr>\n    <tr>\n      <th>5</th>\n      <td>Программирование на языках Python и SQL</td>\n      <td>2</td>\n      <td>34</td>\n      <td>124</td>\n    </tr>\n    <tr>\n      <th>6</th>\n      <td>Английский язык</td>\n      <td>3</td>\n      <td>56</td>\n      <td>56</td>\n    </tr>\n    <tr>\n      <th>7</th>\n      <td>Обработка данных и моделирование в Excel</td>\n      <td>3</td>\n      <td>36</td>\n      <td>92</td>\n    </tr>\n    <tr>\n      <th>8</th>\n      <td>История</td>\n      <td>4</td>\n      <td>34</td>\n      <td>34</td>\n    </tr>\n    <tr>\n      <th>9</th>\n      <td>Теория вероятностей и математическая статистика</td>\n      <td>4</td>\n      <td>72</td>\n      <td>106</td>\n    </tr>\n    <tr>\n      <th>10</th>\n      <td>Физкультура</td>\n      <td>4</td>\n      <td>32</td>\n      <td>138</td>\n    </tr>\n    <tr>\n      <th>11</th>\n      <td>Физкультура</td>\n      <td>5</td>\n      <td>34</td>\n      <td>34</td>\n    </tr>\n  </tbody>\n</table>\n</div>"
     },
     "execution_count": 24,
     "metadata": {},
     "output_type": "execute_result"
    }
   ],
   "source": [
    "# 2.2 Показать число учебных часов с накопительным итогом в каждом семестре в порядке по названию предмета.\n",
    "s = \"\"\"SELECT su.subj_name, su.semester, su.hour,\n",
    "SUM (su.hour) OVER (PARTITION BY su.semester ORDER BY su.subj_name) AS run_total_hour_sem\n",
    "FROM subject su;\"\"\"\n",
    "\n",
    "pd.read_sql(s, conn)"
   ],
   "metadata": {
    "collapsed": false,
    "pycharm": {
     "name": "#%%\n"
    }
   }
  },
  {
   "cell_type": "markdown",
   "source": [],
   "metadata": {
    "collapsed": false,
    "pycharm": {
     "name": "#%% md\n"
    }
   }
  },
  {
   "cell_type": "code",
   "execution_count": 25,
   "outputs": [
    {
     "data": {
      "text/plain": "                                          subj_name  semester  hour  \\\n0                                       Информатика         1    56   \n1                                     Анализ данных         1    42   \n2                                            Физика         1    34   \n3           Программирование на языках Python и SQL         2    34   \n4                                               ОБЖ         2    34   \n5                                        Математика         2    56   \n6          Обработка данных и моделирование в Excel         3    36   \n7                                   Английский язык         3    56   \n8   Теория вероятностей и математическая статистика         4    72   \n9                                           История         4    34   \n10                                      Физкультура         4    32   \n11                                      Физкультура         5    34   \n\n    sum_hour_sem  \n0            132  \n1            132  \n2            132  \n3            124  \n4            124  \n5            124  \n6             92  \n7             92  \n8            138  \n9            138  \n10           138  \n11            34  ",
      "text/html": "<div>\n<style scoped>\n    .dataframe tbody tr th:only-of-type {\n        vertical-align: middle;\n    }\n\n    .dataframe tbody tr th {\n        vertical-align: top;\n    }\n\n    .dataframe thead th {\n        text-align: right;\n    }\n</style>\n<table border=\"1\" class=\"dataframe\">\n  <thead>\n    <tr style=\"text-align: right;\">\n      <th></th>\n      <th>subj_name</th>\n      <th>semester</th>\n      <th>hour</th>\n      <th>sum_hour_sem</th>\n    </tr>\n  </thead>\n  <tbody>\n    <tr>\n      <th>0</th>\n      <td>Информатика</td>\n      <td>1</td>\n      <td>56</td>\n      <td>132</td>\n    </tr>\n    <tr>\n      <th>1</th>\n      <td>Анализ данных</td>\n      <td>1</td>\n      <td>42</td>\n      <td>132</td>\n    </tr>\n    <tr>\n      <th>2</th>\n      <td>Физика</td>\n      <td>1</td>\n      <td>34</td>\n      <td>132</td>\n    </tr>\n    <tr>\n      <th>3</th>\n      <td>Программирование на языках Python и SQL</td>\n      <td>2</td>\n      <td>34</td>\n      <td>124</td>\n    </tr>\n    <tr>\n      <th>4</th>\n      <td>ОБЖ</td>\n      <td>2</td>\n      <td>34</td>\n      <td>124</td>\n    </tr>\n    <tr>\n      <th>5</th>\n      <td>Математика</td>\n      <td>2</td>\n      <td>56</td>\n      <td>124</td>\n    </tr>\n    <tr>\n      <th>6</th>\n      <td>Обработка данных и моделирование в Excel</td>\n      <td>3</td>\n      <td>36</td>\n      <td>92</td>\n    </tr>\n    <tr>\n      <th>7</th>\n      <td>Английский язык</td>\n      <td>3</td>\n      <td>56</td>\n      <td>92</td>\n    </tr>\n    <tr>\n      <th>8</th>\n      <td>Теория вероятностей и математическая статистика</td>\n      <td>4</td>\n      <td>72</td>\n      <td>138</td>\n    </tr>\n    <tr>\n      <th>9</th>\n      <td>История</td>\n      <td>4</td>\n      <td>34</td>\n      <td>138</td>\n    </tr>\n    <tr>\n      <th>10</th>\n      <td>Физкультура</td>\n      <td>4</td>\n      <td>32</td>\n      <td>138</td>\n    </tr>\n    <tr>\n      <th>11</th>\n      <td>Физкультура</td>\n      <td>5</td>\n      <td>34</td>\n      <td>34</td>\n    </tr>\n  </tbody>\n</table>\n</div>"
     },
     "execution_count": 25,
     "metadata": {},
     "output_type": "execute_result"
    }
   ],
   "source": [
    "# 2.1 Показать суммарное количество учебных часов в каждом семестре.\n",
    "s = \"\"\"SELECT su.subj_name, su.semester, su.hour,\n",
    "SUM (su.hour) OVER (PARTITION BY su.semester) AS sum_hour_sem\n",
    "FROM subject su;\"\"\"\n",
    "\n",
    "pd.read_sql(s, conn)"
   ],
   "metadata": {
    "collapsed": false,
    "pycharm": {
     "name": "#%%\n"
    }
   }
  },
  {
   "cell_type": "code",
   "execution_count": 26,
   "outputs": [
    {
     "data": {
      "text/plain": "    hour_tile                                        subj_name  hour\n0           1                                      Физкультура    32\n1           1                                          История    34\n2           1                                              ОБЖ    34\n3           1          Программирование на языках Python и SQL    34\n4           2                                           Физика    34\n5           2                                      Физкультура    34\n6           2         Обработка данных и моделирование в Excel    36\n7           2                                    Анализ данных    42\n8           3                                  Английский язык    56\n9           3                                      Информатика    56\n10          3                                       Математика    56\n11          3  Теория вероятностей и математическая статистика    72",
      "text/html": "<div>\n<style scoped>\n    .dataframe tbody tr th:only-of-type {\n        vertical-align: middle;\n    }\n\n    .dataframe tbody tr th {\n        vertical-align: top;\n    }\n\n    .dataframe thead th {\n        text-align: right;\n    }\n</style>\n<table border=\"1\" class=\"dataframe\">\n  <thead>\n    <tr style=\"text-align: right;\">\n      <th></th>\n      <th>hour_tile</th>\n      <th>subj_name</th>\n      <th>hour</th>\n    </tr>\n  </thead>\n  <tbody>\n    <tr>\n      <th>0</th>\n      <td>1</td>\n      <td>Физкультура</td>\n      <td>32</td>\n    </tr>\n    <tr>\n      <th>1</th>\n      <td>1</td>\n      <td>История</td>\n      <td>34</td>\n    </tr>\n    <tr>\n      <th>2</th>\n      <td>1</td>\n      <td>ОБЖ</td>\n      <td>34</td>\n    </tr>\n    <tr>\n      <th>3</th>\n      <td>1</td>\n      <td>Программирование на языках Python и SQL</td>\n      <td>34</td>\n    </tr>\n    <tr>\n      <th>4</th>\n      <td>2</td>\n      <td>Физика</td>\n      <td>34</td>\n    </tr>\n    <tr>\n      <th>5</th>\n      <td>2</td>\n      <td>Физкультура</td>\n      <td>34</td>\n    </tr>\n    <tr>\n      <th>6</th>\n      <td>2</td>\n      <td>Обработка данных и моделирование в Excel</td>\n      <td>36</td>\n    </tr>\n    <tr>\n      <th>7</th>\n      <td>2</td>\n      <td>Анализ данных</td>\n      <td>42</td>\n    </tr>\n    <tr>\n      <th>8</th>\n      <td>3</td>\n      <td>Английский язык</td>\n      <td>56</td>\n    </tr>\n    <tr>\n      <th>9</th>\n      <td>3</td>\n      <td>Информатика</td>\n      <td>56</td>\n    </tr>\n    <tr>\n      <th>10</th>\n      <td>3</td>\n      <td>Математика</td>\n      <td>56</td>\n    </tr>\n    <tr>\n      <th>11</th>\n      <td>3</td>\n      <td>Теория вероятностей и математическая статистика</td>\n      <td>72</td>\n    </tr>\n  </tbody>\n</table>\n</div>"
     },
     "execution_count": 26,
     "metadata": {},
     "output_type": "execute_result"
    }
   ],
   "source": [
    "# 1.5 Разбить все предметы на три подгруппы по количеству часов.\n",
    "s = \"\"\"SELECT NTILE (3) OVER (ORDER BY su.hour, su.subj_name) AS hour_tile,\n",
    "su.subj_name, su.hour\n",
    "FROM subject su;\"\"\"\n",
    "\n",
    "pd.read_sql(s, conn)"
   ],
   "metadata": {
    "collapsed": false,
    "pycharm": {
     "name": "#%%\n"
    }
   }
  },
  {
   "cell_type": "code",
   "execution_count": 27,
   "outputs": [
    {
     "data": {
      "text/plain": "    subj_dense_rank  subj_id                                        subj_name  \\\n0                 1       72                                      Физкультура   \n1                 2       11          Программирование на языках Python и SQL   \n2                 2       13                                              ОБЖ   \n3                 2       22                                           Физика   \n4                 2       56                                          История   \n5                 2       73                                      Физкультура   \n6                 3       14         Обработка данных и моделирование в Excel   \n7                 4       12                                    Анализ данных   \n8                 5       10                                      Информатика   \n9                 5       43                                       Математика   \n10                5       94                                  Английский язык   \n11                6       23  Теория вероятностей и математическая статистика   \n\n    hour  semester  \n0     32         4  \n1     34         2  \n2     34         2  \n3     34         1  \n4     34         4  \n5     34         5  \n6     36         3  \n7     42         1  \n8     56         1  \n9     56         2  \n10    56         3  \n11    72         4  ",
      "text/html": "<div>\n<style scoped>\n    .dataframe tbody tr th:only-of-type {\n        vertical-align: middle;\n    }\n\n    .dataframe tbody tr th {\n        vertical-align: top;\n    }\n\n    .dataframe thead th {\n        text-align: right;\n    }\n</style>\n<table border=\"1\" class=\"dataframe\">\n  <thead>\n    <tr style=\"text-align: right;\">\n      <th></th>\n      <th>subj_dense_rank</th>\n      <th>subj_id</th>\n      <th>subj_name</th>\n      <th>hour</th>\n      <th>semester</th>\n    </tr>\n  </thead>\n  <tbody>\n    <tr>\n      <th>0</th>\n      <td>1</td>\n      <td>72</td>\n      <td>Физкультура</td>\n      <td>32</td>\n      <td>4</td>\n    </tr>\n    <tr>\n      <th>1</th>\n      <td>2</td>\n      <td>11</td>\n      <td>Программирование на языках Python и SQL</td>\n      <td>34</td>\n      <td>2</td>\n    </tr>\n    <tr>\n      <th>2</th>\n      <td>2</td>\n      <td>13</td>\n      <td>ОБЖ</td>\n      <td>34</td>\n      <td>2</td>\n    </tr>\n    <tr>\n      <th>3</th>\n      <td>2</td>\n      <td>22</td>\n      <td>Физика</td>\n      <td>34</td>\n      <td>1</td>\n    </tr>\n    <tr>\n      <th>4</th>\n      <td>2</td>\n      <td>56</td>\n      <td>История</td>\n      <td>34</td>\n      <td>4</td>\n    </tr>\n    <tr>\n      <th>5</th>\n      <td>2</td>\n      <td>73</td>\n      <td>Физкультура</td>\n      <td>34</td>\n      <td>5</td>\n    </tr>\n    <tr>\n      <th>6</th>\n      <td>3</td>\n      <td>14</td>\n      <td>Обработка данных и моделирование в Excel</td>\n      <td>36</td>\n      <td>3</td>\n    </tr>\n    <tr>\n      <th>7</th>\n      <td>4</td>\n      <td>12</td>\n      <td>Анализ данных</td>\n      <td>42</td>\n      <td>1</td>\n    </tr>\n    <tr>\n      <th>8</th>\n      <td>5</td>\n      <td>10</td>\n      <td>Информатика</td>\n      <td>56</td>\n      <td>1</td>\n    </tr>\n    <tr>\n      <th>9</th>\n      <td>5</td>\n      <td>43</td>\n      <td>Математика</td>\n      <td>56</td>\n      <td>2</td>\n    </tr>\n    <tr>\n      <th>10</th>\n      <td>5</td>\n      <td>94</td>\n      <td>Английский язык</td>\n      <td>56</td>\n      <td>3</td>\n    </tr>\n    <tr>\n      <th>11</th>\n      <td>6</td>\n      <td>23</td>\n      <td>Теория вероятностей и математическая статистика</td>\n      <td>72</td>\n      <td>4</td>\n    </tr>\n  </tbody>\n</table>\n</div>"
     },
     "execution_count": 27,
     "metadata": {},
     "output_type": "execute_result"
    }
   ],
   "source": [
    "# 1.4 Ранжирование с помощью DENSE_RANK().\n",
    "s = \"\"\"SELECT DENSE_RANK () OVER (ORDER BY hour) AS subj_dense_rank,\n",
    "subject.*\n",
    "FROM subject;\"\"\"\n",
    "\n",
    "pd.read_sql(s, conn)"
   ],
   "metadata": {
    "collapsed": false,
    "pycharm": {
     "name": "#%%\n"
    }
   }
  },
  {
   "cell_type": "code",
   "execution_count": 28,
   "outputs": [
    {
     "data": {
      "text/plain": "    subj_rank  subj_id                                        subj_name  hour  \\\n0           1       72                                      Физкультура    32   \n1           2       11          Программирование на языках Python и SQL    34   \n2           2       13                                              ОБЖ    34   \n3           2       22                                           Физика    34   \n4           2       56                                          История    34   \n5           2       73                                      Физкультура    34   \n6           7       14         Обработка данных и моделирование в Excel    36   \n7           8       12                                    Анализ данных    42   \n8           9       10                                      Информатика    56   \n9           9       43                                       Математика    56   \n10          9       94                                  Английский язык    56   \n11         12       23  Теория вероятностей и математическая статистика    72   \n\n    semester  \n0          4  \n1          2  \n2          2  \n3          1  \n4          4  \n5          5  \n6          3  \n7          1  \n8          1  \n9          2  \n10         3  \n11         4  ",
      "text/html": "<div>\n<style scoped>\n    .dataframe tbody tr th:only-of-type {\n        vertical-align: middle;\n    }\n\n    .dataframe tbody tr th {\n        vertical-align: top;\n    }\n\n    .dataframe thead th {\n        text-align: right;\n    }\n</style>\n<table border=\"1\" class=\"dataframe\">\n  <thead>\n    <tr style=\"text-align: right;\">\n      <th></th>\n      <th>subj_rank</th>\n      <th>subj_id</th>\n      <th>subj_name</th>\n      <th>hour</th>\n      <th>semester</th>\n    </tr>\n  </thead>\n  <tbody>\n    <tr>\n      <th>0</th>\n      <td>1</td>\n      <td>72</td>\n      <td>Физкультура</td>\n      <td>32</td>\n      <td>4</td>\n    </tr>\n    <tr>\n      <th>1</th>\n      <td>2</td>\n      <td>11</td>\n      <td>Программирование на языках Python и SQL</td>\n      <td>34</td>\n      <td>2</td>\n    </tr>\n    <tr>\n      <th>2</th>\n      <td>2</td>\n      <td>13</td>\n      <td>ОБЖ</td>\n      <td>34</td>\n      <td>2</td>\n    </tr>\n    <tr>\n      <th>3</th>\n      <td>2</td>\n      <td>22</td>\n      <td>Физика</td>\n      <td>34</td>\n      <td>1</td>\n    </tr>\n    <tr>\n      <th>4</th>\n      <td>2</td>\n      <td>56</td>\n      <td>История</td>\n      <td>34</td>\n      <td>4</td>\n    </tr>\n    <tr>\n      <th>5</th>\n      <td>2</td>\n      <td>73</td>\n      <td>Физкультура</td>\n      <td>34</td>\n      <td>5</td>\n    </tr>\n    <tr>\n      <th>6</th>\n      <td>7</td>\n      <td>14</td>\n      <td>Обработка данных и моделирование в Excel</td>\n      <td>36</td>\n      <td>3</td>\n    </tr>\n    <tr>\n      <th>7</th>\n      <td>8</td>\n      <td>12</td>\n      <td>Анализ данных</td>\n      <td>42</td>\n      <td>1</td>\n    </tr>\n    <tr>\n      <th>8</th>\n      <td>9</td>\n      <td>10</td>\n      <td>Информатика</td>\n      <td>56</td>\n      <td>1</td>\n    </tr>\n    <tr>\n      <th>9</th>\n      <td>9</td>\n      <td>43</td>\n      <td>Математика</td>\n      <td>56</td>\n      <td>2</td>\n    </tr>\n    <tr>\n      <th>10</th>\n      <td>9</td>\n      <td>94</td>\n      <td>Английский язык</td>\n      <td>56</td>\n      <td>3</td>\n    </tr>\n    <tr>\n      <th>11</th>\n      <td>12</td>\n      <td>23</td>\n      <td>Теория вероятностей и математическая статистика</td>\n      <td>72</td>\n      <td>4</td>\n    </tr>\n  </tbody>\n</table>\n</div>"
     },
     "execution_count": 28,
     "metadata": {},
     "output_type": "execute_result"
    }
   ],
   "source": [
    "# 1.3 Ранжировать предметы в зависимости от количества учебных часов.\n",
    "s = \"\"\"SELECT RANK () OVER (ORDER BY hour) AS subj_rank,\n",
    "subject.*\n",
    "FROM subject;\"\"\"\n",
    "\n",
    "pd.read_sql(s, conn)"
   ],
   "metadata": {
    "collapsed": false,
    "pycharm": {
     "name": "#%%\n"
    }
   }
  },
  {
   "cell_type": "code",
   "execution_count": 30,
   "outputs": [
    {
     "data": {
      "text/plain": "    subj_no_sem  subj_id                                        subj_name  \\\n0             1       12                                    Анализ данных   \n1             2       10                                      Информатика   \n2             3       22                                           Физика   \n3             1       43                                       Математика   \n4             2       13                                              ОБЖ   \n5             3       11          Программирование на языках Python и SQL   \n6             1       94                                  Английский язык   \n7             2       14         Обработка данных и моделирование в Excel   \n8             1       56                                          История   \n9             2       23  Теория вероятностей и математическая статистика   \n10            3       72                                      Физкультура   \n11            1       73                                      Физкультура   \n\n    hour  semester  \n0     42         1  \n1     56         1  \n2     34         1  \n3     56         2  \n4     34         2  \n5     34         2  \n6     56         3  \n7     36         3  \n8     34         4  \n9     72         4  \n10    32         4  \n11    34         5  ",
      "text/html": "<div>\n<style scoped>\n    .dataframe tbody tr th:only-of-type {\n        vertical-align: middle;\n    }\n\n    .dataframe tbody tr th {\n        vertical-align: top;\n    }\n\n    .dataframe thead th {\n        text-align: right;\n    }\n</style>\n<table border=\"1\" class=\"dataframe\">\n  <thead>\n    <tr style=\"text-align: right;\">\n      <th></th>\n      <th>subj_no_sem</th>\n      <th>subj_id</th>\n      <th>subj_name</th>\n      <th>hour</th>\n      <th>semester</th>\n    </tr>\n  </thead>\n  <tbody>\n    <tr>\n      <th>0</th>\n      <td>1</td>\n      <td>12</td>\n      <td>Анализ данных</td>\n      <td>42</td>\n      <td>1</td>\n    </tr>\n    <tr>\n      <th>1</th>\n      <td>2</td>\n      <td>10</td>\n      <td>Информатика</td>\n      <td>56</td>\n      <td>1</td>\n    </tr>\n    <tr>\n      <th>2</th>\n      <td>3</td>\n      <td>22</td>\n      <td>Физика</td>\n      <td>34</td>\n      <td>1</td>\n    </tr>\n    <tr>\n      <th>3</th>\n      <td>1</td>\n      <td>43</td>\n      <td>Математика</td>\n      <td>56</td>\n      <td>2</td>\n    </tr>\n    <tr>\n      <th>4</th>\n      <td>2</td>\n      <td>13</td>\n      <td>ОБЖ</td>\n      <td>34</td>\n      <td>2</td>\n    </tr>\n    <tr>\n      <th>5</th>\n      <td>3</td>\n      <td>11</td>\n      <td>Программирование на языках Python и SQL</td>\n      <td>34</td>\n      <td>2</td>\n    </tr>\n    <tr>\n      <th>6</th>\n      <td>1</td>\n      <td>94</td>\n      <td>Английский язык</td>\n      <td>56</td>\n      <td>3</td>\n    </tr>\n    <tr>\n      <th>7</th>\n      <td>2</td>\n      <td>14</td>\n      <td>Обработка данных и моделирование в Excel</td>\n      <td>36</td>\n      <td>3</td>\n    </tr>\n    <tr>\n      <th>8</th>\n      <td>1</td>\n      <td>56</td>\n      <td>История</td>\n      <td>34</td>\n      <td>4</td>\n    </tr>\n    <tr>\n      <th>9</th>\n      <td>2</td>\n      <td>23</td>\n      <td>Теория вероятностей и математическая статистика</td>\n      <td>72</td>\n      <td>4</td>\n    </tr>\n    <tr>\n      <th>10</th>\n      <td>3</td>\n      <td>72</td>\n      <td>Физкультура</td>\n      <td>32</td>\n      <td>4</td>\n    </tr>\n    <tr>\n      <th>11</th>\n      <td>1</td>\n      <td>73</td>\n      <td>Физкультура</td>\n      <td>34</td>\n      <td>5</td>\n    </tr>\n  </tbody>\n</table>\n</div>"
     },
     "execution_count": 30,
     "metadata": {},
     "output_type": "execute_result"
    }
   ],
   "source": [
    "# 1.2 Присвоить порядковый номер каждому предмету в рамках семестра.\n",
    "s = \"\"\"SELECT ROW_NUMBER () OVER (PARTITION BY semester ORDER BY subj_name) AS subj_no_sem,\n",
    "subject.*\n",
    "FROM subject;\"\"\"\n",
    "\n",
    "\n",
    "pd.read_sql(s, conn)"
   ],
   "metadata": {
    "collapsed": false,
    "pycharm": {
     "name": "#%%\n"
    }
   }
  },
  {
   "cell_type": "code",
   "execution_count": 31,
   "outputs": [
    {
     "data": {
      "text/plain": "    subj_no  subj_id                                        subj_name  hour  \\\n0         1       12                                    Анализ данных    42   \n1         2       94                                  Английский язык    56   \n2         3       10                                      Информатика    56   \n3         4       56                                          История    34   \n4         5       43                                       Математика    56   \n5         6       13                                              ОБЖ    34   \n6         7       14         Обработка данных и моделирование в Excel    36   \n7         8       11          Программирование на языках Python и SQL    34   \n8         9       23  Теория вероятностей и математическая статистика    72   \n9        10       22                                           Физика    34   \n10       11       72                                      Физкультура    32   \n11       12       73                                      Физкультура    34   \n\n    semester  \n0          1  \n1          3  \n2          1  \n3          4  \n4          2  \n5          2  \n6          3  \n7          2  \n8          4  \n9          1  \n10         4  \n11         5  ",
      "text/html": "<div>\n<style scoped>\n    .dataframe tbody tr th:only-of-type {\n        vertical-align: middle;\n    }\n\n    .dataframe tbody tr th {\n        vertical-align: top;\n    }\n\n    .dataframe thead th {\n        text-align: right;\n    }\n</style>\n<table border=\"1\" class=\"dataframe\">\n  <thead>\n    <tr style=\"text-align: right;\">\n      <th></th>\n      <th>subj_no</th>\n      <th>subj_id</th>\n      <th>subj_name</th>\n      <th>hour</th>\n      <th>semester</th>\n    </tr>\n  </thead>\n  <tbody>\n    <tr>\n      <th>0</th>\n      <td>1</td>\n      <td>12</td>\n      <td>Анализ данных</td>\n      <td>42</td>\n      <td>1</td>\n    </tr>\n    <tr>\n      <th>1</th>\n      <td>2</td>\n      <td>94</td>\n      <td>Английский язык</td>\n      <td>56</td>\n      <td>3</td>\n    </tr>\n    <tr>\n      <th>2</th>\n      <td>3</td>\n      <td>10</td>\n      <td>Информатика</td>\n      <td>56</td>\n      <td>1</td>\n    </tr>\n    <tr>\n      <th>3</th>\n      <td>4</td>\n      <td>56</td>\n      <td>История</td>\n      <td>34</td>\n      <td>4</td>\n    </tr>\n    <tr>\n      <th>4</th>\n      <td>5</td>\n      <td>43</td>\n      <td>Математика</td>\n      <td>56</td>\n      <td>2</td>\n    </tr>\n    <tr>\n      <th>5</th>\n      <td>6</td>\n      <td>13</td>\n      <td>ОБЖ</td>\n      <td>34</td>\n      <td>2</td>\n    </tr>\n    <tr>\n      <th>6</th>\n      <td>7</td>\n      <td>14</td>\n      <td>Обработка данных и моделирование в Excel</td>\n      <td>36</td>\n      <td>3</td>\n    </tr>\n    <tr>\n      <th>7</th>\n      <td>8</td>\n      <td>11</td>\n      <td>Программирование на языках Python и SQL</td>\n      <td>34</td>\n      <td>2</td>\n    </tr>\n    <tr>\n      <th>8</th>\n      <td>9</td>\n      <td>23</td>\n      <td>Теория вероятностей и математическая статистика</td>\n      <td>72</td>\n      <td>4</td>\n    </tr>\n    <tr>\n      <th>9</th>\n      <td>10</td>\n      <td>22</td>\n      <td>Физика</td>\n      <td>34</td>\n      <td>1</td>\n    </tr>\n    <tr>\n      <th>10</th>\n      <td>11</td>\n      <td>72</td>\n      <td>Физкультура</td>\n      <td>32</td>\n      <td>4</td>\n    </tr>\n    <tr>\n      <th>11</th>\n      <td>12</td>\n      <td>73</td>\n      <td>Физкультура</td>\n      <td>34</td>\n      <td>5</td>\n    </tr>\n  </tbody>\n</table>\n</div>"
     },
     "execution_count": 31,
     "metadata": {},
     "output_type": "execute_result"
    }
   ],
   "source": [
    "# 1.1 Присвоить порядковый номер каждому предмету, упорядочив предметы по названию.\n",
    "s = \"\"\"SELECT ROW_NUMBER () OVER (ORDER BY subj_name) AS subj_no,\n",
    "subject.*\n",
    "FROM subject;\"\"\"\n",
    "\n",
    "pd.read_sql(s, conn)"
   ],
   "metadata": {
    "collapsed": false,
    "pycharm": {
     "name": "#%%\n"
    }
   }
  },
  {
   "cell_type": "code",
   "execution_count": 55,
   "outputs": [
    {
     "name": "stdout",
     "output_type": "stream",
     "text": [
      "[('01', 3, 3.0), ('02', 5, 4.0), ('05', 21, 9.67), ('06', 11, 12.33), ('08', 1, 11.0), ('09', 2, 4.67), ('10', 1, 1.33), ('12', 3, 2.0)]\n"
     ]
    },
    {
     "data": {
      "text/plain": "<matplotlib.legend.Legend at 0x7fcbacb0ea30>"
     },
     "execution_count": 55,
     "metadata": {},
     "output_type": "execute_result"
    },
    {
     "data": {
      "text/plain": "<Figure size 432x288 with 1 Axes>",
      "image/png": "[encoded data removed]"
     },
     "metadata": {
      "needs_background": "light"
     },
     "output_type": "display_data"
    }
   ],
   "source": [
    "# 4.1 Рассчитать скользящее среднее числа сданных экзаменов в зависимости от месяца экзамена на основе текущего и двух предыдущих значений.\n",
    "s = \"\"\"SELECT A.*,\n",
    "ROUND(AVG(A.em_count)\n",
    "OVER (ORDER BY A.month\n",
    "ROWS BETWEEN 2 preceding AND current row), 2) AS running_avg\n",
    "FROM (\n",
    "SELECT substr(em.exam_date, 6, 2) AS month, count(em.exam_id) AS em_count\n",
    "FROM exam_marks em\n",
    "GROUP BY month) A;\"\"\"\n",
    "\n",
    "pd.read_sql(s, conn)\n",
    "\n",
    "data = []\n",
    "\n",
    "\n",
    "result = conn.execute(s).all()\n",
    "for row in result:\n",
    "    data.append(row)\n",
    "\n",
    "print(data)\n",
    "\n",
    "import matplotlib.pyplot as plt\n",
    "\n",
    "plt.plot([x[0] for x in data], [x[1] for x in data], label='sum')\n",
    "plt.plot([x[2] for x in data], label='average')\n",
    "plt.grid()\n",
    "plt.legend()"
   ],
   "metadata": {
    "collapsed": false,
    "pycharm": {
     "name": "#%%\n"
    }
   }
  },
  {
   "cell_type": "markdown",
   "source": [
    "# Решение задач семинара"
   ],
   "metadata": {
    "collapsed": false,
    "pycharm": {
     "name": "#%% md\n"
    }
   }
  },
  {
   "cell_type": "markdown",
   "source": [
    "1. Студентам 1 курса присвойте порядковые номера по дате рождения.\n",
    "2. Для каждого университета ранжируйте курсы по числу студентов на курсе. Результат должен содержать название университета, номер курса, число студентов на курсе, ранг курса. Меньшее число ранга присвойте курсу с большим числом студентов.\n",
    "3. В университетах ВГУ и НГУ ранжируйте (без пропуска значений ранга) студентов по убыванию стипендии в рамках своего университета.\n",
    "4. Всех студентов, сдававших экзамены, ранжируйте (без пропуска значений ранга) по убыванию средней оценки. Результат должен содержать номер ранга, фамилию, имя студента, среднюю оценку.\n",
    "5. Для каждого университета узнайте, сколько % студентов на каждом курсе университета от общего числа студентов университета. В результате покажите название университета, номер курса, количество студентов на курсе, долю студентов университета на курсе в %.\n",
    "6. Для каждого университета покажите долю в % числа студентов каждого курса от максимального числа студентов на курсе университета.\n",
    "7. Для каждого курса соответствующего университета рассчитайте относительный прирост средней экзаменационной оценки, упорядочив по номеру курса. Результат должен содержать: название университета, номер курса, среднюю оценку на курсе данного университета, значение относительного цепного прироста средней оценки."
   ],
   "metadata": {
    "collapsed": false,
    "pycharm": {
     "name": "#%% md\n"
    }
   }
  },
  {
   "cell_type": "code",
   "execution_count": 59,
   "outputs": [
    {
     "data": {
      "text/plain": "    student_id    surname      name  stipend  kurs          city  \\\n0           94  Васильева    Оксана        0     1      Кизилюрт   \n1          113    Аксенов   Валерий      150     1      Мурманск   \n2           78   Агафонов   Василий      150     1       Грозный   \n3           95   Сорокина   Валерия      150     1      Енисейск   \n4           99   Борисова    Марина      150     1      Рославль   \n5          114      Панов   Арсений      250     1     Геленджик   \n6          105    Антонов  Анатолий      100     1     Сыктывкар   \n7          123    Веселов     Тимур      150     1  Невинномысск   \n8          201    Архипов    Андрей      180     1          Орел   \n9          135    Комаров      Ипат        0     1      Нерчинск   \n10         128   Васильев    Матвей      100     1     Чебоксары   \n11          63        Пак     Ирина      100     1       Магадан   \n12         136     Ефимов      Яков      200     1     Тимашевск   \n13          64        Жук    Оксана      250     1       Воркута   \n14         205    Иванова     Мария      200     1        Липецк   \n15          61   Соколова        Ия      100     1     Колпашево   \n16           1     Иванов      Иван      150     1          Орел   \n17          15  Ордуханян   Рафаэль      120     1        Липецк   \n\n                      birthday  univ_id  \\\n0   1994-05-14 00:00:00.000000       32   \n1   1994-10-27 00:00:00.000000       10   \n2   1994-10-29 00:00:00.000000       10   \n3   1995-03-01 00:00:00.000000       45   \n4   1995-08-07 00:00:00.000000       10   \n5   1996-12-23 00:00:00.000000       32   \n6   1997-04-08 00:00:00.000000       22   \n7   1998-04-28 00:00:00.000000       11   \n8   2000-01-28 00:00:00.000000       22   \n9   2000-07-17 00:00:00.000000       14   \n10  2000-07-18 00:00:00.000000       46   \n11  2000-08-22 00:00:00.000000       15   \n12  2000-09-23 00:00:00.000000       32   \n13  2000-11-16 00:00:00.000000       47   \n14  2002-04-11 00:00:00.000000       32   \n15  2002-06-25 00:00:00.000000       18   \n16  2002-12-03 00:00:00.000000       10   \n17  2003-06-01 00:00:00.000000       18   \n\n    row_number() over (ORDER BY date(birthday))  \n0                                             1  \n1                                             2  \n2                                             3  \n3                                             4  \n4                                             5  \n5                                             6  \n6                                             7  \n7                                             8  \n8                                             9  \n9                                            10  \n10                                           11  \n11                                           12  \n12                                           13  \n13                                           14  \n14                                           15  \n15                                           16  \n16                                           17  \n17                                           18  ",
      "text/html": "<div>\n<style scoped>\n    .dataframe tbody tr th:only-of-type {\n        vertical-align: middle;\n    }\n\n    .dataframe tbody tr th {\n        vertical-align: top;\n    }\n\n    .dataframe thead th {\n        text-align: right;\n    }\n</style>\n<table border=\"1\" class=\"dataframe\">\n  <thead>\n    <tr style=\"text-align: right;\">\n      <th></th>\n      <th>student_id</th>\n      <th>surname</th>\n      <th>name</th>\n      <th>stipend</th>\n      <th>kurs</th>\n      <th>city</th>\n      <th>birthday</th>\n      <th>univ_id</th>\n      <th>row_number() over (ORDER BY date(birthday))</th>\n    </tr>\n  </thead>\n  <tbody>\n    <tr>\n      <th>0</th>\n      <td>94</td>\n      <td>Васильева</td>\n      <td>Оксана</td>\n      <td>0</td>\n      <td>1</td>\n      <td>Кизилюрт</td>\n      <td>1994-05-14 00:00:00.000000</td>\n      <td>32</td>\n      <td>1</td>\n    </tr>\n    <tr>\n      <th>1</th>\n      <td>113</td>\n      <td>Аксенов</td>\n      <td>Валерий</td>\n      <td>150</td>\n      <td>1</td>\n      <td>Мурманск</td>\n      <td>1994-10-27 00:00:00.000000</td>\n      <td>10</td>\n      <td>2</td>\n    </tr>\n    <tr>\n      <th>2</th>\n      <td>78</td>\n      <td>Агафонов</td>\n      <td>Василий</td>\n      <td>150</td>\n      <td>1</td>\n      <td>Грозный</td>\n      <td>1994-10-29 00:00:00.000000</td>\n      <td>10</td>\n      <td>3</td>\n    </tr>\n    <tr>\n      <th>3</th>\n      <td>95</td>\n      <td>Сорокина</td>\n      <td>Валерия</td>\n      <td>150</td>\n      <td>1</td>\n      <td>Енисейск</td>\n      <td>1995-03-01 00:00:00.000000</td>\n      <td>45</td>\n      <td>4</td>\n    </tr>\n    <tr>\n      <th>4</th>\n      <td>99</td>\n      <td>Борисова</td>\n      <td>Марина</td>\n      <td>150</td>\n      <td>1</td>\n      <td>Рославль</td>\n      <td>1995-08-07 00:00:00.000000</td>\n      <td>10</td>\n      <td>5</td>\n    </tr>\n    <tr>\n      <th>5</th>\n      <td>114</td>\n      <td>Панов</td>\n      <td>Арсений</td>\n      <td>250</td>\n      <td>1</td>\n      <td>Геленджик</td>\n      <td>1996-12-23 00:00:00.000000</td>\n      <td>32</td>\n      <td>6</td>\n    </tr>\n    <tr>\n      <th>6</th>\n      <td>105</td>\n      <td>Антонов</td>\n      <td>Анатолий</td>\n      <td>100</td>\n      <td>1</td>\n      <td>Сыктывкар</td>\n      <td>1997-04-08 00:00:00.000000</td>\n      <td>22</td>\n      <td>7</td>\n    </tr>\n    <tr>\n      <th>7</th>\n      <td>123</td>\n      <td>Веселов</td>\n      <td>Тимур</td>\n      <td>150</td>\n      <td>1</td>\n      <td>Невинномысск</td>\n      <td>1998-04-28 00:00:00.000000</td>\n      <td>11</td>\n      <td>8</td>\n    </tr>\n    <tr>\n      <th>8</th>\n      <td>201</td>\n      <td>Архипов</td>\n      <td>Андрей</td>\n      <td>180</td>\n      <td>1</td>\n      <td>Орел</td>\n      <td>2000-01-28 00:00:00.000000</td>\n      <td>22</td>\n      <td>9</td>\n    </tr>\n    <tr>\n      <th>9</th>\n      <td>135</td>\n      <td>Комаров</td>\n      <td>Ипат</td>\n      <td>0</td>\n      <td>1</td>\n      <td>Нерчинск</td>\n      <td>2000-07-17 00:00:00.000000</td>\n      <td>14</td>\n      <td>10</td>\n    </tr>\n    <tr>\n      <th>10</th>\n      <td>128</td>\n      <td>Васильев</td>\n      <td>Матвей</td>\n      <td>100</td>\n      <td>1</td>\n      <td>Чебоксары</td>\n      <td>2000-07-18 00:00:00.000000</td>\n      <td>46</td>\n      <td>11</td>\n    </tr>\n    <tr>\n      <th>11</th>\n      <td>63</td>\n      <td>Пак</td>\n      <td>Ирина</td>\n      <td>100</td>\n      <td>1</td>\n      <td>Магадан</td>\n      <td>2000-08-22 00:00:00.000000</td>\n      <td>15</td>\n      <td>12</td>\n    </tr>\n    <tr>\n      <th>12</th>\n      <td>136</td>\n      <td>Ефимов</td>\n      <td>Яков</td>\n      <td>200</td>\n      <td>1</td>\n      <td>Тимашевск</td>\n      <td>2000-09-23 00:00:00.000000</td>\n      <td>32</td>\n      <td>13</td>\n    </tr>\n    <tr>\n      <th>13</th>\n      <td>64</td>\n      <td>Жук</td>\n      <td>Оксана</td>\n      <td>250</td>\n      <td>1</td>\n      <td>Воркута</td>\n      <td>2000-11-16 00:00:00.000000</td>\n      <td>47</td>\n      <td>14</td>\n    </tr>\n    <tr>\n      <th>14</th>\n      <td>205</td>\n      <td>Иванова</td>\n      <td>Мария</td>\n      <td>200</td>\n      <td>1</td>\n      <td>Липецк</td>\n      <td>2002-04-11 00:00:00.000000</td>\n      <td>32</td>\n      <td>15</td>\n    </tr>\n    <tr>\n      <th>15</th>\n      <td>61</td>\n      <td>Соколова</td>\n      <td>Ия</td>\n      <td>100</td>\n      <td>1</td>\n      <td>Колпашево</td>\n      <td>2002-06-25 00:00:00.000000</td>\n      <td>18</td>\n      <td>16</td>\n    </tr>\n    <tr>\n      <th>16</th>\n      <td>1</td>\n      <td>Иванов</td>\n      <td>Иван</td>\n      <td>150</td>\n      <td>1</td>\n      <td>Орел</td>\n      <td>2002-12-03 00:00:00.000000</td>\n      <td>10</td>\n      <td>17</td>\n    </tr>\n    <tr>\n      <th>17</th>\n      <td>15</td>\n      <td>Ордуханян</td>\n      <td>Рафаэль</td>\n      <td>120</td>\n      <td>1</td>\n      <td>Липецк</td>\n      <td>2003-06-01 00:00:00.000000</td>\n      <td>18</td>\n      <td>18</td>\n    </tr>\n  </tbody>\n</table>\n</div>"
     },
     "execution_count": 59,
     "metadata": {},
     "output_type": "execute_result"
    }
   ],
   "source": [
    "# 1. Студентам 1 курса присвойте порядковые номера по дате рождения.\n",
    "\n",
    "s = \"\"\"\n",
    "SELECT *, row_number() over (ORDER BY date(birthday)) FROM student WHERE kurs = 1\n",
    "\"\"\"\n",
    "\n",
    "pd.read_sql(s, conn)"
   ],
   "metadata": {
    "collapsed": false,
    "pycharm": {
     "name": "#%%\n"
    }
   }
  },
  {
   "cell_type": "code",
   "execution_count": 65,
   "outputs": [
    {
     "data": {
      "text/plain": "    univ_id         univ_name  rating             city  student_id  \\\n0        10               ВГУ   296.0          Воронеж           3   \n1        10               ВГУ   296.0          Воронеж           1   \n2        32               РГУ   416.0           Ростов          94   \n3        44              ФинУ   330.0           Москва         107   \n4        10               ВГУ   296.0          Воронеж          10   \n5        10               ВГУ   296.0          Воронеж          55   \n6        14               БГУ   326.0         Белгород         110   \n7        18              ВГМА   327.0          Воронеж          77   \n8        22               МГУ   606.0           Москва           6   \n9        22               МГУ   606.0           Москва          75   \n10       44              ФинУ   330.0           Москва          68   \n11       45  МГТУ им. Баумана   372.0           Москва          82   \n12       46   ФГБОУ \"Политех\"   304.0  Санкт-Петербург          70   \n13       46   ФГБОУ \"Политех\"   304.0  Санкт-Петербург          86   \n14       47               КФУ     NaN           Казань         117   \n15       48              УЛГУ   231.0        Ульяновск          56   \n16       14               БГУ   326.0         Белгород          90   \n17       14               БГУ   326.0         Белгород          32   \n18       18              ВГМА   327.0          Воронеж          15   \n19       22               МГУ   606.0           Москва         105   \n20       22               МГУ   606.0           Москва          74   \n21       32               РГУ   416.0           Ростов          85   \n22       44              ФинУ   330.0           Москва          73   \n23       47               КФУ     NaN           Казань         108   \n24       48              УЛГУ   231.0        Ульяновск          60   \n25       10               ВГУ   296.0          Воронеж         116   \n26       11               НГУ   345.0      Новосибирск         123   \n27       11               НГУ   345.0      Новосибирск         126   \n28       11               НГУ   345.0      Новосибирск          58   \n29       11               НГУ   345.0      Новосибирск         103   \n30       14               БГУ   326.0         Белгород         135   \n31       14               БГУ   326.0         Белгород         202   \n32       15               ТГУ   368.0            Томск          63   \n33       15               ТГУ   368.0            Томск          92   \n34       18              ВГМА   327.0          Воронеж          71   \n35       18              ВГМА   327.0          Воронеж          89   \n36       32               РГУ   416.0           Ростов          79   \n37       44              ФинУ   330.0           Москва          80   \n38       45  МГТУ им. Баумана   372.0           Москва          95   \n39       45  МГТУ им. Баумана   372.0           Москва          69   \n40       46   ФГБОУ \"Политех\"   304.0  Санкт-Петербург         128   \n41       46   ФГБОУ \"Политех\"   304.0  Санкт-Петербург         121   \n42       46   ФГБОУ \"Политех\"   304.0  Санкт-Петербург         144   \n43       47               КФУ     NaN           Казань          64   \n\n       surname         name  stipend  kurs                  city  \\\n0       Петров         Петр      200     3                 Курск   \n1       Иванов         Иван      150     1                  Орел   \n2    Васильева       Оксана        0     1              Кизилюрт   \n3      Морозов       Кирилл      250     2  Кропоткин (Краснод.)   \n4     Кузнецов        Борис        0     2                Брянск   \n5       Белкин        Вадим      250     5               Воронеж   \n6      Суханов   Константин      250     3                 Курск   \n7       Мишина     Светлана      150     2                Рыльск   \n8      Сидоров        Вадим      150     4                Москва   \n9     Игнатова      Зинаида      100     5                Ростов   \n10    Казакова        Ольга      250     4              Кемерово   \n11      Лапина     Элеонора      150     3                Джубга   \n12    Миронова         Анна      200     2           Владикавказ   \n13      Жукова        Фекла      150     3               Магадан   \n14     Лазарев   Константин      100     2    Славянск-на-Кубани   \n15         Дуб    Елизавета      150     2              Усть-Кут   \n16     Костина         Кира        0     4               Устюжна   \n17       Котов        Павел      150     5              Белгород   \n18   Ордуханян      Рафаэль      120     1                Липецк   \n19     Антонов     Анатолий      100     1             Сыктывкар   \n20     Гуляева      Рукижат        0     3    Невельск (Сахалин)   \n21    Казакова        Мария      150     4               Нальчик   \n22    Одинцова        Лидия      100     5     Верхний Баскунчак   \n23     Назаров        Икром      150     4                Саянск   \n24     Рожкова      Пелагея        0     3              Рубцовск   \n25     Федоров    Гостомысл      100     4         Новый Уренгой   \n26     Веселов        Тимур      150     1          Невинномысск   \n27       Жуков         Пров        0     3                Кыштым   \n28   Журавлева         Вера        0     4           Новосибирск   \n29    Трофимов    Владислав      250     5             Верхоянск   \n30     Комаров         Ипат        0     1              Нерчинск   \n31  Владимиров     Анатолий      200     2                 Курск   \n32         Пак        Ирина      100     1               Магадан   \n33  Мельникова     Светлана      250     4  Кропоткин (Краснод.)   \n34     Кондрат      Синицин      200     4                  Ишим   \n35     Валерия  Овчинникова      200     5              Улан-Удэ   \n36  Афанасьева     Анжелика        0     2                   Уфа   \n37     Фролова     Василиса      100     3            Кисловодск   \n38    Сорокина      Валерия      150     1              Енисейск   \n39      Шубина        Елена        0     2         Камень-на-Оби   \n40    Васильев       Матвей      100     1             Чебоксары   \n41    Воронова     Антонина        0     4          Усть-Джегута   \n42    Ситников     Викентий      150     5               Иркутск   \n43         Жук       Оксана      250     1               Воркута   \n\n                      birthday  univ_id  COUNT(student_id)  \\\n0   2000-12-01 00:00:00.000000       10                  5   \n1   2002-12-03 00:00:00.000000       10                  4   \n2   1994-05-14 00:00:00.000000       32                  4   \n3   2000-09-29 00:00:00.000000       44                  4   \n4   2001-12-08 00:00:00.000000       10                  3   \n5   2000-01-07 00:00:00.000000       10                  3   \n6   1996-11-22 00:00:00.000000       14                  3   \n7   1997-05-22 00:00:00.000000       18                  3   \n8   1999-06-07 00:00:00.000000       22                  3   \n9   2000-09-26 00:00:00.000000       22                  3   \n10  2000-03-29 00:00:00.000000       44                  3   \n11  1997-11-23 00:00:00.000000       45                  3   \n12  2000-10-08 00:00:00.000000       46                  3   \n13  1998-10-06 00:00:00.000000       46                  3   \n14  1998-05-22 00:00:00.000000       47                  3   \n15  2004-07-04 00:00:00.000000       48                  3   \n16  1995-07-15 00:00:00.000000       14                  2   \n17  2001-02-28 00:00:00.000000       14                  2   \n18  2003-06-01 00:00:00.000000       18                  2   \n19  1997-04-08 00:00:00.000000       22                  2   \n20  2002-07-23 00:00:00.000000       22                  2   \n21  1994-02-18 00:00:00.000000       32                  2   \n22  2002-03-07 00:00:00.000000       44                  2   \n23  2001-12-15 00:00:00.000000       47                  2   \n24  2001-09-15 00:00:00.000000       48                  2   \n25  2000-11-16 00:00:00.000000       10                  1   \n26  1998-04-28 00:00:00.000000       11                  1   \n27  1998-09-11 00:00:00.000000       11                  1   \n28  2003-06-14 00:00:00.000000       11                  1   \n29  1995-03-24 00:00:00.000000       11                  1   \n30  2000-07-17 00:00:00.000000       14                  1   \n31  2003-05-21 00:00:00.000000       14                  1   \n32  2000-08-22 00:00:00.000000       15                  1   \n33  1998-03-24 00:00:00.000000       15                  1   \n34  2001-02-23 00:00:00.000000       18                  1   \n35  2000-06-15 00:00:00.000000       18                  1   \n36  1996-11-22 00:00:00.000000       32                  1   \n37  1999-06-02 00:00:00.000000       44                  1   \n38  1995-03-01 00:00:00.000000       45                  1   \n39  2002-08-24 00:00:00.000000       45                  1   \n40  2000-07-18 00:00:00.000000       46                  1   \n41  1999-02-04 00:00:00.000000       46                  1   \n42  2003-10-05 00:00:00.000000       46                  1   \n43  2000-11-16 00:00:00.000000       47                  1   \n\n    rank() over ( ORDER BY COUNT(student_id))  \n0                                          44  \n1                                          41  \n2                                          41  \n3                                          41  \n4                                          29  \n5                                          29  \n6                                          29  \n7                                          29  \n8                                          29  \n9                                          29  \n10                                         29  \n11                                         29  \n12                                         29  \n13                                         29  \n14                                         29  \n15                                         29  \n16                                         20  \n17                                         20  \n18                                         20  \n19                                         20  \n20                                         20  \n21                                         20  \n22                                         20  \n23                                         20  \n24                                         20  \n25                                          1  \n26                                          1  \n27                                          1  \n28                                          1  \n29                                          1  \n30                                          1  \n31                                          1  \n32                                          1  \n33                                          1  \n34                                          1  \n35                                          1  \n36                                          1  \n37                                          1  \n38                                          1  \n39                                          1  \n40                                          1  \n41                                          1  \n42                                          1  \n43                                          1  ",
      "text/html": "<div>\n<style scoped>\n    .dataframe tbody tr th:only-of-type {\n        vertical-align: middle;\n    }\n\n    .dataframe tbody tr th {\n        vertical-align: top;\n    }\n\n    .dataframe thead th {\n        text-align: right;\n    }\n</style>\n<table border=\"1\" class=\"dataframe\">\n  <thead>\n    <tr style=\"text-align: right;\">\n      <th></th>\n      <th>univ_id</th>\n      <th>univ_name</th>\n      <th>rating</th>\n      <th>city</th>\n      <th>student_id</th>\n      <th>surname</th>\n      <th>name</th>\n      <th>stipend</th>\n      <th>kurs</th>\n      <th>city</th>\n      <th>birthday</th>\n      <th>univ_id</th>\n      <th>COUNT(student_id)</th>\n      <th>rank() over ( ORDER BY COUNT(student_id))</th>\n    </tr>\n  </thead>\n  <tbody>\n    <tr>\n      <th>0</th>\n      <td>10</td>\n      <td>ВГУ</td>\n      <td>296.0</td>\n      <td>Воронеж</td>\n      <td>3</td>\n      <td>Петров</td>\n      <td>Петр</td>\n      <td>200</td>\n      <td>3</td>\n      <td>Курск</td>\n      <td>2000-12-01 00:00:00.000000</td>\n      <td>10</td>\n      <td>5</td>\n      <td>44</td>\n    </tr>\n    <tr>\n      <th>1</th>\n      <td>10</td>\n      <td>ВГУ</td>\n      <td>296.0</td>\n      <td>Воронеж</td>\n      <td>1</td>\n      <td>Иванов</td>\n      <td>Иван</td>\n      <td>150</td>\n      <td>1</td>\n      <td>Орел</td>\n      <td>2002-12-03 00:00:00.000000</td>\n      <td>10</td>\n      <td>4</td>\n      <td>41</td>\n    </tr>\n    <tr>\n      <th>2</th>\n      <td>32</td>\n      <td>РГУ</td>\n      <td>416.0</td>\n      <td>Ростов</td>\n      <td>94</td>\n      <td>Васильева</td>\n      <td>Оксана</td>\n      <td>0</td>\n      <td>1</td>\n      <td>Кизилюрт</td>\n      <td>1994-05-14 00:00:00.000000</td>\n      <td>32</td>\n      <td>4</td>\n      <td>41</td>\n    </tr>\n    <tr>\n      <th>3</th>\n      <td>44</td>\n      <td>ФинУ</td>\n      <td>330.0</td>\n      <td>Москва</td>\n      <td>107</td>\n      <td>Морозов</td>\n      <td>Кирилл</td>\n      <td>250</td>\n      <td>2</td>\n      <td>Кропоткин (Краснод.)</td>\n      <td>2000-09-29 00:00:00.000000</td>\n      <td>44</td>\n      <td>4</td>\n      <td>41</td>\n    </tr>\n    <tr>\n      <th>4</th>\n      <td>10</td>\n      <td>ВГУ</td>\n      <td>296.0</td>\n      <td>Воронеж</td>\n      <td>10</td>\n      <td>Кузнецов</td>\n      <td>Борис</td>\n      <td>0</td>\n      <td>2</td>\n      <td>Брянск</td>\n      <td>2001-12-08 00:00:00.000000</td>\n      <td>10</td>\n      <td>3</td>\n      <td>29</td>\n    </tr>\n    <tr>\n      <th>5</th>\n      <td>10</td>\n      <td>ВГУ</td>\n      <td>296.0</td>\n      <td>Воронеж</td>\n      <td>55</td>\n      <td>Белкин</td>\n      <td>Вадим</td>\n      <td>250</td>\n      <td>5</td>\n      <td>Воронеж</td>\n      <td>2000-01-07 00:00:00.000000</td>\n      <td>10</td>\n      <td>3</td>\n      <td>29</td>\n    </tr>\n    <tr>\n      <th>6</th>\n      <td>14</td>\n      <td>БГУ</td>\n      <td>326.0</td>\n      <td>Белгород</td>\n      <td>110</td>\n      <td>Суханов</td>\n      <td>Константин</td>\n      <td>250</td>\n      <td>3</td>\n      <td>Курск</td>\n      <td>1996-11-22 00:00:00.000000</td>\n      <td>14</td>\n      <td>3</td>\n      <td>29</td>\n    </tr>\n    <tr>\n      <th>7</th>\n      <td>18</td>\n      <td>ВГМА</td>\n      <td>327.0</td>\n      <td>Воронеж</td>\n      <td>77</td>\n      <td>Мишина</td>\n      <td>Светлана</td>\n      <td>150</td>\n      <td>2</td>\n      <td>Рыльск</td>\n      <td>1997-05-22 00:00:00.000000</td>\n      <td>18</td>\n      <td>3</td>\n      <td>29</td>\n    </tr>\n    <tr>\n      <th>8</th>\n      <td>22</td>\n      <td>МГУ</td>\n      <td>606.0</td>\n      <td>Москва</td>\n      <td>6</td>\n      <td>Сидоров</td>\n      <td>Вадим</td>\n      <td>150</td>\n      <td>4</td>\n      <td>Москва</td>\n      <td>1999-06-07 00:00:00.000000</td>\n      <td>22</td>\n      <td>3</td>\n      <td>29</td>\n    </tr>\n    <tr>\n      <th>9</th>\n      <td>22</td>\n      <td>МГУ</td>\n      <td>606.0</td>\n      <td>Москва</td>\n      <td>75</td>\n      <td>Игнатова</td>\n      <td>Зинаида</td>\n      <td>100</td>\n      <td>5</td>\n      <td>Ростов</td>\n      <td>2000-09-26 00:00:00.000000</td>\n      <td>22</td>\n      <td>3</td>\n      <td>29</td>\n    </tr>\n    <tr>\n      <th>10</th>\n      <td>44</td>\n      <td>ФинУ</td>\n      <td>330.0</td>\n      <td>Москва</td>\n      <td>68</td>\n      <td>Казакова</td>\n      <td>Ольга</td>\n      <td>250</td>\n      <td>4</td>\n      <td>Кемерово</td>\n      <td>2000-03-29 00:00:00.000000</td>\n      <td>44</td>\n      <td>3</td>\n      <td>29</td>\n    </tr>\n    <tr>\n      <th>11</th>\n      <td>45</td>\n      <td>МГТУ им. Баумана</td>\n      <td>372.0</td>\n      <td>Москва</td>\n      <td>82</td>\n      <td>Лапина</td>\n      <td>Элеонора</td>\n      <td>150</td>\n      <td>3</td>\n      <td>Джубга</td>\n      <td>1997-11-23 00:00:00.000000</td>\n      <td>45</td>\n      <td>3</td>\n      <td>29</td>\n    </tr>\n    <tr>\n      <th>12</th>\n      <td>46</td>\n      <td>ФГБОУ \"Политех\"</td>\n      <td>304.0</td>\n      <td>Санкт-Петербург</td>\n      <td>70</td>\n      <td>Миронова</td>\n      <td>Анна</td>\n      <td>200</td>\n      <td>2</td>\n      <td>Владикавказ</td>\n      <td>2000-10-08 00:00:00.000000</td>\n      <td>46</td>\n      <td>3</td>\n      <td>29</td>\n    </tr>\n    <tr>\n      <th>13</th>\n      <td>46</td>\n      <td>ФГБОУ \"Политех\"</td>\n      <td>304.0</td>\n      <td>Санкт-Петербург</td>\n      <td>86</td>\n      <td>Жукова</td>\n      <td>Фекла</td>\n      <td>150</td>\n      <td>3</td>\n      <td>Магадан</td>\n      <td>1998-10-06 00:00:00.000000</td>\n      <td>46</td>\n      <td>3</td>\n      <td>29</td>\n    </tr>\n    <tr>\n      <th>14</th>\n      <td>47</td>\n      <td>КФУ</td>\n      <td>NaN</td>\n      <td>Казань</td>\n      <td>117</td>\n      <td>Лазарев</td>\n      <td>Константин</td>\n      <td>100</td>\n      <td>2</td>\n      <td>Славянск-на-Кубани</td>\n      <td>1998-05-22 00:00:00.000000</td>\n      <td>47</td>\n      <td>3</td>\n      <td>29</td>\n    </tr>\n    <tr>\n      <th>15</th>\n      <td>48</td>\n      <td>УЛГУ</td>\n      <td>231.0</td>\n      <td>Ульяновск</td>\n      <td>56</td>\n      <td>Дуб</td>\n      <td>Елизавета</td>\n      <td>150</td>\n      <td>2</td>\n      <td>Усть-Кут</td>\n      <td>2004-07-04 00:00:00.000000</td>\n      <td>48</td>\n      <td>3</td>\n      <td>29</td>\n    </tr>\n    <tr>\n      <th>16</th>\n      <td>14</td>\n      <td>БГУ</td>\n      <td>326.0</td>\n      <td>Белгород</td>\n      <td>90</td>\n      <td>Костина</td>\n      <td>Кира</td>\n      <td>0</td>\n      <td>4</td>\n      <td>Устюжна</td>\n      <td>1995-07-15 00:00:00.000000</td>\n      <td>14</td>\n      <td>2</td>\n      <td>20</td>\n    </tr>\n    <tr>\n      <th>17</th>\n      <td>14</td>\n      <td>БГУ</td>\n      <td>326.0</td>\n      <td>Белгород</td>\n      <td>32</td>\n      <td>Котов</td>\n      <td>Павел</td>\n      <td>150</td>\n      <td>5</td>\n      <td>Белгород</td>\n      <td>2001-02-28 00:00:00.000000</td>\n      <td>14</td>\n      <td>2</td>\n      <td>20</td>\n    </tr>\n    <tr>\n      <th>18</th>\n      <td>18</td>\n      <td>ВГМА</td>\n      <td>327.0</td>\n      <td>Воронеж</td>\n      <td>15</td>\n      <td>Ордуханян</td>\n      <td>Рафаэль</td>\n      <td>120</td>\n      <td>1</td>\n      <td>Липецк</td>\n      <td>2003-06-01 00:00:00.000000</td>\n      <td>18</td>\n      <td>2</td>\n      <td>20</td>\n    </tr>\n    <tr>\n      <th>19</th>\n      <td>22</td>\n      <td>МГУ</td>\n      <td>606.0</td>\n      <td>Москва</td>\n      <td>105</td>\n      <td>Антонов</td>\n      <td>Анатолий</td>\n      <td>100</td>\n      <td>1</td>\n      <td>Сыктывкар</td>\n      <td>1997-04-08 00:00:00.000000</td>\n      <td>22</td>\n      <td>2</td>\n      <td>20</td>\n    </tr>\n    <tr>\n      <th>20</th>\n      <td>22</td>\n      <td>МГУ</td>\n      <td>606.0</td>\n      <td>Москва</td>\n      <td>74</td>\n      <td>Гуляева</td>\n      <td>Рукижат</td>\n      <td>0</td>\n      <td>3</td>\n      <td>Невельск (Сахалин)</td>\n      <td>2002-07-23 00:00:00.000000</td>\n      <td>22</td>\n      <td>2</td>\n      <td>20</td>\n    </tr>\n    <tr>\n      <th>21</th>\n      <td>32</td>\n      <td>РГУ</td>\n      <td>416.0</td>\n      <td>Ростов</td>\n      <td>85</td>\n      <td>Казакова</td>\n      <td>Мария</td>\n      <td>150</td>\n      <td>4</td>\n      <td>Нальчик</td>\n      <td>1994-02-18 00:00:00.000000</td>\n      <td>32</td>\n      <td>2</td>\n      <td>20</td>\n    </tr>\n    <tr>\n      <th>22</th>\n      <td>44</td>\n      <td>ФинУ</td>\n      <td>330.0</td>\n      <td>Москва</td>\n      <td>73</td>\n      <td>Одинцова</td>\n      <td>Лидия</td>\n      <td>100</td>\n      <td>5</td>\n      <td>Верхний Баскунчак</td>\n      <td>2002-03-07 00:00:00.000000</td>\n      <td>44</td>\n      <td>2</td>\n      <td>20</td>\n    </tr>\n    <tr>\n      <th>23</th>\n      <td>47</td>\n      <td>КФУ</td>\n      <td>NaN</td>\n      <td>Казань</td>\n      <td>108</td>\n      <td>Назаров</td>\n      <td>Икром</td>\n      <td>150</td>\n      <td>4</td>\n      <td>Саянск</td>\n      <td>2001-12-15 00:00:00.000000</td>\n      <td>47</td>\n      <td>2</td>\n      <td>20</td>\n    </tr>\n    <tr>\n      <th>24</th>\n      <td>48</td>\n      <td>УЛГУ</td>\n      <td>231.0</td>\n      <td>Ульяновск</td>\n      <td>60</td>\n      <td>Рожкова</td>\n      <td>Пелагея</td>\n      <td>0</td>\n      <td>3</td>\n      <td>Рубцовск</td>\n      <td>2001-09-15 00:00:00.000000</td>\n      <td>48</td>\n      <td>2</td>\n      <td>20</td>\n    </tr>\n    <tr>\n      <th>25</th>\n      <td>10</td>\n      <td>ВГУ</td>\n      <td>296.0</td>\n      <td>Воронеж</td>\n      <td>116</td>\n      <td>Федоров</td>\n      <td>Гостомысл</td>\n      <td>100</td>\n      <td>4</td>\n      <td>Новый Уренгой</td>\n      <td>2000-11-16 00:00:00.000000</td>\n      <td>10</td>\n      <td>1</td>\n      <td>1</td>\n    </tr>\n    <tr>\n      <th>26</th>\n      <td>11</td>\n      <td>НГУ</td>\n      <td>345.0</td>\n      <td>Новосибирск</td>\n      <td>123</td>\n      <td>Веселов</td>\n      <td>Тимур</td>\n      <td>150</td>\n      <td>1</td>\n      <td>Невинномысск</td>\n      <td>1998-04-28 00:00:00.000000</td>\n      <td>11</td>\n      <td>1</td>\n      <td>1</td>\n    </tr>\n    <tr>\n      <th>27</th>\n      <td>11</td>\n      <td>НГУ</td>\n      <td>345.0</td>\n      <td>Новосибирск</td>\n      <td>126</td>\n      <td>Жуков</td>\n      <td>Пров</td>\n      <td>0</td>\n      <td>3</td>\n      <td>Кыштым</td>\n      <td>1998-09-11 00:00:00.000000</td>\n      <td>11</td>\n      <td>1</td>\n      <td>1</td>\n    </tr>\n    <tr>\n      <th>28</th>\n      <td>11</td>\n      <td>НГУ</td>\n      <td>345.0</td>\n      <td>Новосибирск</td>\n      <td>58</td>\n      <td>Журавлева</td>\n      <td>Вера</td>\n      <td>0</td>\n      <td>4</td>\n      <td>Новосибирск</td>\n      <td>2003-06-14 00:00:00.000000</td>\n      <td>11</td>\n      <td>1</td>\n      <td>1</td>\n    </tr>\n    <tr>\n      <th>29</th>\n      <td>11</td>\n      <td>НГУ</td>\n      <td>345.0</td>\n      <td>Новосибирск</td>\n      <td>103</td>\n      <td>Трофимов</td>\n      <td>Владислав</td>\n      <td>250</td>\n      <td>5</td>\n      <td>Верхоянск</td>\n      <td>1995-03-24 00:00:00.000000</td>\n      <td>11</td>\n      <td>1</td>\n      <td>1</td>\n    </tr>\n    <tr>\n      <th>30</th>\n      <td>14</td>\n      <td>БГУ</td>\n      <td>326.0</td>\n      <td>Белгород</td>\n      <td>135</td>\n      <td>Комаров</td>\n      <td>Ипат</td>\n      <td>0</td>\n      <td>1</td>\n      <td>Нерчинск</td>\n      <td>2000-07-17 00:00:00.000000</td>\n      <td>14</td>\n      <td>1</td>\n      <td>1</td>\n    </tr>\n    <tr>\n      <th>31</th>\n      <td>14</td>\n      <td>БГУ</td>\n      <td>326.0</td>\n      <td>Белгород</td>\n      <td>202</td>\n      <td>Владимиров</td>\n      <td>Анатолий</td>\n      <td>200</td>\n      <td>2</td>\n      <td>Курск</td>\n      <td>2003-05-21 00:00:00.000000</td>\n      <td>14</td>\n      <td>1</td>\n      <td>1</td>\n    </tr>\n    <tr>\n      <th>32</th>\n      <td>15</td>\n      <td>ТГУ</td>\n      <td>368.0</td>\n      <td>Томск</td>\n      <td>63</td>\n      <td>Пак</td>\n      <td>Ирина</td>\n      <td>100</td>\n      <td>1</td>\n      <td>Магадан</td>\n      <td>2000-08-22 00:00:00.000000</td>\n      <td>15</td>\n      <td>1</td>\n      <td>1</td>\n    </tr>\n    <tr>\n      <th>33</th>\n      <td>15</td>\n      <td>ТГУ</td>\n      <td>368.0</td>\n      <td>Томск</td>\n      <td>92</td>\n      <td>Мельникова</td>\n      <td>Светлана</td>\n      <td>250</td>\n      <td>4</td>\n      <td>Кропоткин (Краснод.)</td>\n      <td>1998-03-24 00:00:00.000000</td>\n      <td>15</td>\n      <td>1</td>\n      <td>1</td>\n    </tr>\n    <tr>\n      <th>34</th>\n      <td>18</td>\n      <td>ВГМА</td>\n      <td>327.0</td>\n      <td>Воронеж</td>\n      <td>71</td>\n      <td>Кондрат</td>\n      <td>Синицин</td>\n      <td>200</td>\n      <td>4</td>\n      <td>Ишим</td>\n      <td>2001-02-23 00:00:00.000000</td>\n      <td>18</td>\n      <td>1</td>\n      <td>1</td>\n    </tr>\n    <tr>\n      <th>35</th>\n      <td>18</td>\n      <td>ВГМА</td>\n      <td>327.0</td>\n      <td>Воронеж</td>\n      <td>89</td>\n      <td>Валерия</td>\n      <td>Овчинникова</td>\n      <td>200</td>\n      <td>5</td>\n      <td>Улан-Удэ</td>\n      <td>2000-06-15 00:00:00.000000</td>\n      <td>18</td>\n      <td>1</td>\n      <td>1</td>\n    </tr>\n    <tr>\n      <th>36</th>\n      <td>32</td>\n      <td>РГУ</td>\n      <td>416.0</td>\n      <td>Ростов</td>\n      <td>79</td>\n      <td>Афанасьева</td>\n      <td>Анжелика</td>\n      <td>0</td>\n      <td>2</td>\n      <td>Уфа</td>\n      <td>1996-11-22 00:00:00.000000</td>\n      <td>32</td>\n      <td>1</td>\n      <td>1</td>\n    </tr>\n    <tr>\n      <th>37</th>\n      <td>44</td>\n      <td>ФинУ</td>\n      <td>330.0</td>\n      <td>Москва</td>\n      <td>80</td>\n      <td>Фролова</td>\n      <td>Василиса</td>\n      <td>100</td>\n      <td>3</td>\n      <td>Кисловодск</td>\n      <td>1999-06-02 00:00:00.000000</td>\n      <td>44</td>\n      <td>1</td>\n      <td>1</td>\n    </tr>\n    <tr>\n      <th>38</th>\n      <td>45</td>\n      <td>МГТУ им. Баумана</td>\n      <td>372.0</td>\n      <td>Москва</td>\n      <td>95</td>\n      <td>Сорокина</td>\n      <td>Валерия</td>\n      <td>150</td>\n      <td>1</td>\n      <td>Енисейск</td>\n      <td>1995-03-01 00:00:00.000000</td>\n      <td>45</td>\n      <td>1</td>\n      <td>1</td>\n    </tr>\n    <tr>\n      <th>39</th>\n      <td>45</td>\n      <td>МГТУ им. Баумана</td>\n      <td>372.0</td>\n      <td>Москва</td>\n      <td>69</td>\n      <td>Шубина</td>\n      <td>Елена</td>\n      <td>0</td>\n      <td>2</td>\n      <td>Камень-на-Оби</td>\n      <td>2002-08-24 00:00:00.000000</td>\n      <td>45</td>\n      <td>1</td>\n      <td>1</td>\n    </tr>\n    <tr>\n      <th>40</th>\n      <td>46</td>\n      <td>ФГБОУ \"Политех\"</td>\n      <td>304.0</td>\n      <td>Санкт-Петербург</td>\n      <td>128</td>\n      <td>Васильев</td>\n      <td>Матвей</td>\n      <td>100</td>\n      <td>1</td>\n      <td>Чебоксары</td>\n      <td>2000-07-18 00:00:00.000000</td>\n      <td>46</td>\n      <td>1</td>\n      <td>1</td>\n    </tr>\n    <tr>\n      <th>41</th>\n      <td>46</td>\n      <td>ФГБОУ \"Политех\"</td>\n      <td>304.0</td>\n      <td>Санкт-Петербург</td>\n      <td>121</td>\n      <td>Воронова</td>\n      <td>Антонина</td>\n      <td>0</td>\n      <td>4</td>\n      <td>Усть-Джегута</td>\n      <td>1999-02-04 00:00:00.000000</td>\n      <td>46</td>\n      <td>1</td>\n      <td>1</td>\n    </tr>\n    <tr>\n      <th>42</th>\n      <td>46</td>\n      <td>ФГБОУ \"Политех\"</td>\n      <td>304.0</td>\n      <td>Санкт-Петербург</td>\n      <td>144</td>\n      <td>Ситников</td>\n      <td>Викентий</td>\n      <td>150</td>\n      <td>5</td>\n      <td>Иркутск</td>\n      <td>2003-10-05 00:00:00.000000</td>\n      <td>46</td>\n      <td>1</td>\n      <td>1</td>\n    </tr>\n    <tr>\n      <th>43</th>\n      <td>47</td>\n      <td>КФУ</td>\n      <td>NaN</td>\n      <td>Казань</td>\n      <td>64</td>\n      <td>Жук</td>\n      <td>Оксана</td>\n      <td>250</td>\n      <td>1</td>\n      <td>Воркута</td>\n      <td>2000-11-16 00:00:00.000000</td>\n      <td>47</td>\n      <td>1</td>\n      <td>1</td>\n    </tr>\n  </tbody>\n</table>\n</div>"
     },
     "execution_count": 65,
     "metadata": {},
     "output_type": "execute_result"
    }
   ],
   "source": [
    "# 2. Для каждого университета ранжируйте курсы по числу студентов на курсе. Результат должен содержать название университета, номер курса, число студентов на курсе, ранг курса. Меньшее число ранга присвойте курсу с большим числом студентов.\n",
    "\n",
    "s = \"\"\"SELECT *, COUNT(student_id), rank() over ( ORDER BY COUNT(student_id)) FROM university JOIN student s on university.univ_id = s.univ_id GROUP BY university.univ_id, kurs ORDER BY  COUNT(student_id) desc\"\"\"\n",
    "\n",
    "pd.read_sql(s, conn)"
   ],
   "metadata": {
    "collapsed": false,
    "pycharm": {
     "name": "#%%\n"
    }
   }
  },
  {
   "cell_type": "code",
   "execution_count": 7,
   "outputs": [
    {
     "data": {
      "text/plain": "    dense_rank() over (ORDER BY AVG(em.mark))     surname        name  \\\n0                                           1      Иванов        Иван   \n1                                           1    Сергеева       Фёкла   \n2                                           1    Одинцова       Лидия   \n3                                           1      Мишина    Светлана   \n4                                           1  Афанасьева    Анжелика   \n5                                           1    Сорокина       Ирина   \n6                                           1   Вишнякова      Анжела   \n7                                           1     Суханов  Константин   \n8                                           1     Федоров   Гостомысл   \n9                                           1       Жуков        Пров   \n10                                          2   Ордуханян     Рафаэль   \n11                                          2  Мельникова       Дарья   \n12                                          2  Калашников     Евгений   \n13                                          2    Трофимов   Владислав   \n14                                          2     Веселов       Тимур   \n15                                          2    Вячеслав     Пахомов   \n16                                          3    Казакова       Мария   \n17                                          4     Кондрат     Синицин   \n18                                          4     Антонов    Анатолий   \n19                                          4     Петрова   Екатерина   \n20                                          5     Зайцева       Ольга   \n21                                          6     Сидоров       Вадим   \n22                                          6       Котов       Павел   \n23                                          6    Семенова    Вероника   \n24                                          6         Пак       Ирина   \n25                                          6         Жук      Оксана   \n26                                          6     Костина        Кира   \n27                                          6  Мельникова    Светлана   \n28                                          6     Лазарев  Константин   \n29                                          6    Васильев      Матвей   \n30                                          6       Лукин       Артем   \n31                                          7    Кузнецов       Борис   \n32                                          7      Белкин       Вадим   \n33                                          7      Лапина    Элеонора   \n34                                          7     Жданова       Ирина   \n35                                          7     Блохина      Ираида   \n36                                          7    Борисова      Марина   \n\n    AVG(em.mark)  \n0            1.0  \n1            1.0  \n2            1.0  \n3            1.0  \n4            1.0  \n5            1.0  \n6            1.0  \n7            1.0  \n8            1.0  \n9            1.0  \n10           2.0  \n11           2.0  \n12           2.0  \n13           2.0  \n14           2.0  \n15           2.0  \n16           2.5  \n17           3.0  \n18           3.0  \n19           3.0  \n20           3.5  \n21           4.0  \n22           4.0  \n23           4.0  \n24           4.0  \n25           4.0  \n26           4.0  \n27           4.0  \n28           4.0  \n29           4.0  \n30           4.0  \n31           5.0  \n32           5.0  \n33           5.0  \n34           5.0  \n35           5.0  \n36           5.0  ",
      "text/html": "<div>\n<style scoped>\n    .dataframe tbody tr th:only-of-type {\n        vertical-align: middle;\n    }\n\n    .dataframe tbody tr th {\n        vertical-align: top;\n    }\n\n    .dataframe thead th {\n        text-align: right;\n    }\n</style>\n<table border=\"1\" class=\"dataframe\">\n  <thead>\n    <tr style=\"text-align: right;\">\n      <th></th>\n      <th>dense_rank() over (ORDER BY AVG(em.mark))</th>\n      <th>surname</th>\n      <th>name</th>\n      <th>AVG(em.mark)</th>\n    </tr>\n  </thead>\n  <tbody>\n    <tr>\n      <th>0</th>\n      <td>1</td>\n      <td>Иванов</td>\n      <td>Иван</td>\n      <td>1.0</td>\n    </tr>\n    <tr>\n      <th>1</th>\n      <td>1</td>\n      <td>Сергеева</td>\n      <td>Фёкла</td>\n      <td>1.0</td>\n    </tr>\n    <tr>\n      <th>2</th>\n      <td>1</td>\n      <td>Одинцова</td>\n      <td>Лидия</td>\n      <td>1.0</td>\n    </tr>\n    <tr>\n      <th>3</th>\n      <td>1</td>\n      <td>Мишина</td>\n      <td>Светлана</td>\n      <td>1.0</td>\n    </tr>\n    <tr>\n      <th>4</th>\n      <td>1</td>\n      <td>Афанасьева</td>\n      <td>Анжелика</td>\n      <td>1.0</td>\n    </tr>\n    <tr>\n      <th>5</th>\n      <td>1</td>\n      <td>Сорокина</td>\n      <td>Ирина</td>\n      <td>1.0</td>\n    </tr>\n    <tr>\n      <th>6</th>\n      <td>1</td>\n      <td>Вишнякова</td>\n      <td>Анжела</td>\n      <td>1.0</td>\n    </tr>\n    <tr>\n      <th>7</th>\n      <td>1</td>\n      <td>Суханов</td>\n      <td>Константин</td>\n      <td>1.0</td>\n    </tr>\n    <tr>\n      <th>8</th>\n      <td>1</td>\n      <td>Федоров</td>\n      <td>Гостомысл</td>\n      <td>1.0</td>\n    </tr>\n    <tr>\n      <th>9</th>\n      <td>1</td>\n      <td>Жуков</td>\n      <td>Пров</td>\n      <td>1.0</td>\n    </tr>\n    <tr>\n      <th>10</th>\n      <td>2</td>\n      <td>Ордуханян</td>\n      <td>Рафаэль</td>\n      <td>2.0</td>\n    </tr>\n    <tr>\n      <th>11</th>\n      <td>2</td>\n      <td>Мельникова</td>\n      <td>Дарья</td>\n      <td>2.0</td>\n    </tr>\n    <tr>\n      <th>12</th>\n      <td>2</td>\n      <td>Калашников</td>\n      <td>Евгений</td>\n      <td>2.0</td>\n    </tr>\n    <tr>\n      <th>13</th>\n      <td>2</td>\n      <td>Трофимов</td>\n      <td>Владислав</td>\n      <td>2.0</td>\n    </tr>\n    <tr>\n      <th>14</th>\n      <td>2</td>\n      <td>Веселов</td>\n      <td>Тимур</td>\n      <td>2.0</td>\n    </tr>\n    <tr>\n      <th>15</th>\n      <td>2</td>\n      <td>Вячеслав</td>\n      <td>Пахомов</td>\n      <td>2.0</td>\n    </tr>\n    <tr>\n      <th>16</th>\n      <td>3</td>\n      <td>Казакова</td>\n      <td>Мария</td>\n      <td>2.5</td>\n    </tr>\n    <tr>\n      <th>17</th>\n      <td>4</td>\n      <td>Кондрат</td>\n      <td>Синицин</td>\n      <td>3.0</td>\n    </tr>\n    <tr>\n      <th>18</th>\n      <td>4</td>\n      <td>Антонов</td>\n      <td>Анатолий</td>\n      <td>3.0</td>\n    </tr>\n    <tr>\n      <th>19</th>\n      <td>4</td>\n      <td>Петрова</td>\n      <td>Екатерина</td>\n      <td>3.0</td>\n    </tr>\n    <tr>\n      <th>20</th>\n      <td>5</td>\n      <td>Зайцева</td>\n      <td>Ольга</td>\n      <td>3.5</td>\n    </tr>\n    <tr>\n      <th>21</th>\n      <td>6</td>\n      <td>Сидоров</td>\n      <td>Вадим</td>\n      <td>4.0</td>\n    </tr>\n    <tr>\n      <th>22</th>\n      <td>6</td>\n      <td>Котов</td>\n      <td>Павел</td>\n      <td>4.0</td>\n    </tr>\n    <tr>\n      <th>23</th>\n      <td>6</td>\n      <td>Семенова</td>\n      <td>Вероника</td>\n      <td>4.0</td>\n    </tr>\n    <tr>\n      <th>24</th>\n      <td>6</td>\n      <td>Пак</td>\n      <td>Ирина</td>\n      <td>4.0</td>\n    </tr>\n    <tr>\n      <th>25</th>\n      <td>6</td>\n      <td>Жук</td>\n      <td>Оксана</td>\n      <td>4.0</td>\n    </tr>\n    <tr>\n      <th>26</th>\n      <td>6</td>\n      <td>Костина</td>\n      <td>Кира</td>\n      <td>4.0</td>\n    </tr>\n    <tr>\n      <th>27</th>\n      <td>6</td>\n      <td>Мельникова</td>\n      <td>Светлана</td>\n      <td>4.0</td>\n    </tr>\n    <tr>\n      <th>28</th>\n      <td>6</td>\n      <td>Лазарев</td>\n      <td>Константин</td>\n      <td>4.0</td>\n    </tr>\n    <tr>\n      <th>29</th>\n      <td>6</td>\n      <td>Васильев</td>\n      <td>Матвей</td>\n      <td>4.0</td>\n    </tr>\n    <tr>\n      <th>30</th>\n      <td>6</td>\n      <td>Лукин</td>\n      <td>Артем</td>\n      <td>4.0</td>\n    </tr>\n    <tr>\n      <th>31</th>\n      <td>7</td>\n      <td>Кузнецов</td>\n      <td>Борис</td>\n      <td>5.0</td>\n    </tr>\n    <tr>\n      <th>32</th>\n      <td>7</td>\n      <td>Белкин</td>\n      <td>Вадим</td>\n      <td>5.0</td>\n    </tr>\n    <tr>\n      <th>33</th>\n      <td>7</td>\n      <td>Лапина</td>\n      <td>Элеонора</td>\n      <td>5.0</td>\n    </tr>\n    <tr>\n      <th>34</th>\n      <td>7</td>\n      <td>Жданова</td>\n      <td>Ирина</td>\n      <td>5.0</td>\n    </tr>\n    <tr>\n      <th>35</th>\n      <td>7</td>\n      <td>Блохина</td>\n      <td>Ираида</td>\n      <td>5.0</td>\n    </tr>\n    <tr>\n      <th>36</th>\n      <td>7</td>\n      <td>Борисова</td>\n      <td>Марина</td>\n      <td>5.0</td>\n    </tr>\n  </tbody>\n</table>\n</div>"
     },
     "execution_count": 7,
     "metadata": {},
     "output_type": "execute_result"
    }
   ],
   "source": [
    "# 4. Всех студентов, сдававших экзамены, ранжируйте (без пропуска значений ранга) по убыванию средней оценки. Результат должен содержать номер ранга, фамилию, имя студента, среднюю оценку.\n",
    "\n",
    "s = \"\"\"SELECT dense_rank() over (ORDER BY AVG(em.mark)), student.surname, student.name, AVG(em.mark) from student join exam_marks em on student.student_id = em.student_id GROUP BY em.student_id\"\"\"\n",
    "\n",
    "pd.read_sql(s, conn)"
   ],
   "metadata": {
    "collapsed": false,
    "pycharm": {
     "name": "#%%\n"
    }
   }
  },
  {
   "cell_type": "code",
   "execution_count": 9,
   "outputs": [
    {
     "data": {
      "text/plain": "           univ_name  kurs  student_count  student_unive_max  persent\n0                БГУ     1              1                  3    33.33\n1                БГУ     2              1                  3    33.33\n2                БГУ     3              3                  3   100.00\n3                БГУ     4              2                  3    66.67\n4                БГУ     5              2                  3    66.67\n5               ВГМА     1              2                  3    66.67\n6               ВГМА     2              3                  3   100.00\n7               ВГМА     4              1                  3    33.33\n8               ВГМА     5              1                  3    33.33\n9                ВГУ     1              4                  5    80.00\n10               ВГУ     2              3                  5    60.00\n11               ВГУ     3              5                  5   100.00\n12               ВГУ     4              1                  5    20.00\n13               ВГУ     5              3                  5    60.00\n14               КФУ     1              1                  3    33.33\n15               КФУ     2              3                  3   100.00\n16               КФУ     4              2                  3    66.67\n17  МГТУ им. Баумана     1              1                  3    33.33\n18  МГТУ им. Баумана     2              1                  3    33.33\n19  МГТУ им. Баумана     3              3                  3   100.00\n20               МГУ     1              2                  3    66.67\n21               МГУ     3              2                  3    66.67\n22               МГУ     4              3                  3   100.00\n23               МГУ     5              3                  3   100.00\n24               НГУ     1              1                  1   100.00\n25               НГУ     3              1                  1   100.00\n26               НГУ     4              1                  1   100.00\n27               НГУ     5              1                  1   100.00\n28               РГУ     1              4                  4   100.00\n29               РГУ     2              1                  4    25.00\n30               РГУ     4              2                  4    50.00\n31               ТГУ     1              1                  1   100.00\n32               ТГУ     4              1                  1   100.00\n33              УЛГУ     2              3                  3   100.00\n34              УЛГУ     3              2                  3    66.67\n35   ФГБОУ \"Политех\"     1              1                  3    33.33\n36   ФГБОУ \"Политех\"     2              3                  3   100.00\n37   ФГБОУ \"Политех\"     3              3                  3   100.00\n38   ФГБОУ \"Политех\"     4              1                  3    33.33\n39   ФГБОУ \"Политех\"     5              1                  3    33.33\n40              ФинУ     2              4                  4   100.00\n41              ФинУ     3              1                  4    25.00\n42              ФинУ     4              3                  4    75.00\n43              ФинУ     5              2                  4    50.00",
      "text/html": "<div>\n<style scoped>\n    .dataframe tbody tr th:only-of-type {\n        vertical-align: middle;\n    }\n\n    .dataframe tbody tr th {\n        vertical-align: top;\n    }\n\n    .dataframe thead th {\n        text-align: right;\n    }\n</style>\n<table border=\"1\" class=\"dataframe\">\n  <thead>\n    <tr style=\"text-align: right;\">\n      <th></th>\n      <th>univ_name</th>\n      <th>kurs</th>\n      <th>student_count</th>\n      <th>student_unive_max</th>\n      <th>persent</th>\n    </tr>\n  </thead>\n  <tbody>\n    <tr>\n      <th>0</th>\n      <td>БГУ</td>\n      <td>1</td>\n      <td>1</td>\n      <td>3</td>\n      <td>33.33</td>\n    </tr>\n    <tr>\n      <th>1</th>\n      <td>БГУ</td>\n      <td>2</td>\n      <td>1</td>\n      <td>3</td>\n      <td>33.33</td>\n    </tr>\n    <tr>\n      <th>2</th>\n      <td>БГУ</td>\n      <td>3</td>\n      <td>3</td>\n      <td>3</td>\n      <td>100.00</td>\n    </tr>\n    <tr>\n      <th>3</th>\n      <td>БГУ</td>\n      <td>4</td>\n      <td>2</td>\n      <td>3</td>\n      <td>66.67</td>\n    </tr>\n    <tr>\n      <th>4</th>\n      <td>БГУ</td>\n      <td>5</td>\n      <td>2</td>\n      <td>3</td>\n      <td>66.67</td>\n    </tr>\n    <tr>\n      <th>5</th>\n      <td>ВГМА</td>\n      <td>1</td>\n      <td>2</td>\n      <td>3</td>\n      <td>66.67</td>\n    </tr>\n    <tr>\n      <th>6</th>\n      <td>ВГМА</td>\n      <td>2</td>\n      <td>3</td>\n      <td>3</td>\n      <td>100.00</td>\n    </tr>\n    <tr>\n      <th>7</th>\n      <td>ВГМА</td>\n      <td>4</td>\n      <td>1</td>\n      <td>3</td>\n      <td>33.33</td>\n    </tr>\n    <tr>\n      <th>8</th>\n      <td>ВГМА</td>\n      <td>5</td>\n      <td>1</td>\n      <td>3</td>\n      <td>33.33</td>\n    </tr>\n    <tr>\n      <th>9</th>\n      <td>ВГУ</td>\n      <td>1</td>\n      <td>4</td>\n      <td>5</td>\n      <td>80.00</td>\n    </tr>\n    <tr>\n      <th>10</th>\n      <td>ВГУ</td>\n      <td>2</td>\n      <td>3</td>\n      <td>5</td>\n      <td>60.00</td>\n    </tr>\n    <tr>\n      <th>11</th>\n      <td>ВГУ</td>\n      <td>3</td>\n      <td>5</td>\n      <td>5</td>\n      <td>100.00</td>\n    </tr>\n    <tr>\n      <th>12</th>\n      <td>ВГУ</td>\n      <td>4</td>\n      <td>1</td>\n      <td>5</td>\n      <td>20.00</td>\n    </tr>\n    <tr>\n      <th>13</th>\n      <td>ВГУ</td>\n      <td>5</td>\n      <td>3</td>\n      <td>5</td>\n      <td>60.00</td>\n    </tr>\n    <tr>\n      <th>14</th>\n      <td>КФУ</td>\n      <td>1</td>\n      <td>1</td>\n      <td>3</td>\n      <td>33.33</td>\n    </tr>\n    <tr>\n      <th>15</th>\n      <td>КФУ</td>\n      <td>2</td>\n      <td>3</td>\n      <td>3</td>\n      <td>100.00</td>\n    </tr>\n    <tr>\n      <th>16</th>\n      <td>КФУ</td>\n      <td>4</td>\n      <td>2</td>\n      <td>3</td>\n      <td>66.67</td>\n    </tr>\n    <tr>\n      <th>17</th>\n      <td>МГТУ им. Баумана</td>\n      <td>1</td>\n      <td>1</td>\n      <td>3</td>\n      <td>33.33</td>\n    </tr>\n    <tr>\n      <th>18</th>\n      <td>МГТУ им. Баумана</td>\n      <td>2</td>\n      <td>1</td>\n      <td>3</td>\n      <td>33.33</td>\n    </tr>\n    <tr>\n      <th>19</th>\n      <td>МГТУ им. Баумана</td>\n      <td>3</td>\n      <td>3</td>\n      <td>3</td>\n      <td>100.00</td>\n    </tr>\n    <tr>\n      <th>20</th>\n      <td>МГУ</td>\n      <td>1</td>\n      <td>2</td>\n      <td>3</td>\n      <td>66.67</td>\n    </tr>\n    <tr>\n      <th>21</th>\n      <td>МГУ</td>\n      <td>3</td>\n      <td>2</td>\n      <td>3</td>\n      <td>66.67</td>\n    </tr>\n    <tr>\n      <th>22</th>\n      <td>МГУ</td>\n      <td>4</td>\n      <td>3</td>\n      <td>3</td>\n      <td>100.00</td>\n    </tr>\n    <tr>\n      <th>23</th>\n      <td>МГУ</td>\n      <td>5</td>\n      <td>3</td>\n      <td>3</td>\n      <td>100.00</td>\n    </tr>\n    <tr>\n      <th>24</th>\n      <td>НГУ</td>\n      <td>1</td>\n      <td>1</td>\n      <td>1</td>\n      <td>100.00</td>\n    </tr>\n    <tr>\n      <th>25</th>\n      <td>НГУ</td>\n      <td>3</td>\n      <td>1</td>\n      <td>1</td>\n      <td>100.00</td>\n    </tr>\n    <tr>\n      <th>26</th>\n      <td>НГУ</td>\n      <td>4</td>\n      <td>1</td>\n      <td>1</td>\n      <td>100.00</td>\n    </tr>\n    <tr>\n      <th>27</th>\n      <td>НГУ</td>\n      <td>5</td>\n      <td>1</td>\n      <td>1</td>\n      <td>100.00</td>\n    </tr>\n    <tr>\n      <th>28</th>\n      <td>РГУ</td>\n      <td>1</td>\n      <td>4</td>\n      <td>4</td>\n      <td>100.00</td>\n    </tr>\n    <tr>\n      <th>29</th>\n      <td>РГУ</td>\n      <td>2</td>\n      <td>1</td>\n      <td>4</td>\n      <td>25.00</td>\n    </tr>\n    <tr>\n      <th>30</th>\n      <td>РГУ</td>\n      <td>4</td>\n      <td>2</td>\n      <td>4</td>\n      <td>50.00</td>\n    </tr>\n    <tr>\n      <th>31</th>\n      <td>ТГУ</td>\n      <td>1</td>\n      <td>1</td>\n      <td>1</td>\n      <td>100.00</td>\n    </tr>\n    <tr>\n      <th>32</th>\n      <td>ТГУ</td>\n      <td>4</td>\n      <td>1</td>\n      <td>1</td>\n      <td>100.00</td>\n    </tr>\n    <tr>\n      <th>33</th>\n      <td>УЛГУ</td>\n      <td>2</td>\n      <td>3</td>\n      <td>3</td>\n      <td>100.00</td>\n    </tr>\n    <tr>\n      <th>34</th>\n      <td>УЛГУ</td>\n      <td>3</td>\n      <td>2</td>\n      <td>3</td>\n      <td>66.67</td>\n    </tr>\n    <tr>\n      <th>35</th>\n      <td>ФГБОУ \"Политех\"</td>\n      <td>1</td>\n      <td>1</td>\n      <td>3</td>\n      <td>33.33</td>\n    </tr>\n    <tr>\n      <th>36</th>\n      <td>ФГБОУ \"Политех\"</td>\n      <td>2</td>\n      <td>3</td>\n      <td>3</td>\n      <td>100.00</td>\n    </tr>\n    <tr>\n      <th>37</th>\n      <td>ФГБОУ \"Политех\"</td>\n      <td>3</td>\n      <td>3</td>\n      <td>3</td>\n      <td>100.00</td>\n    </tr>\n    <tr>\n      <th>38</th>\n      <td>ФГБОУ \"Политех\"</td>\n      <td>4</td>\n      <td>1</td>\n      <td>3</td>\n      <td>33.33</td>\n    </tr>\n    <tr>\n      <th>39</th>\n      <td>ФГБОУ \"Политех\"</td>\n      <td>5</td>\n      <td>1</td>\n      <td>3</td>\n      <td>33.33</td>\n    </tr>\n    <tr>\n      <th>40</th>\n      <td>ФинУ</td>\n      <td>2</td>\n      <td>4</td>\n      <td>4</td>\n      <td>100.00</td>\n    </tr>\n    <tr>\n      <th>41</th>\n      <td>ФинУ</td>\n      <td>3</td>\n      <td>1</td>\n      <td>4</td>\n      <td>25.00</td>\n    </tr>\n    <tr>\n      <th>42</th>\n      <td>ФинУ</td>\n      <td>4</td>\n      <td>3</td>\n      <td>4</td>\n      <td>75.00</td>\n    </tr>\n    <tr>\n      <th>43</th>\n      <td>ФинУ</td>\n      <td>5</td>\n      <td>2</td>\n      <td>4</td>\n      <td>50.00</td>\n    </tr>\n  </tbody>\n</table>\n</div>"
     },
     "execution_count": 9,
     "metadata": {},
     "output_type": "execute_result"
    }
   ],
   "source": [
    "# 5. Для каждого университета узнайте, сколько % студентов на каждом курсе университета от общего числа студентов университета. В результате покажите название университета, номер курса, количество студентов на курсе, долю студентов университета на курсе в %.\n",
    "\n",
    "s = \"\"\"\n",
    "with A as (\n",
    "SELECT u.univ_name, st.kurs, count(st.student_id) as student_count\n",
    "FROM student st JOIN university u on st.univ_id=u.univ_id\n",
    "GROUP by u.univ_name, st.kurs\n",
    ")\n",
    "\n",
    "select A.*, max(A.student_count) OVER (PARTITION by A.univ_name) as student_unive_max,\n",
    "round(100.0 * A.student_count / max(A.student_count) over (PARTITION by A.univ_name), 2) as persent\n",
    "From A;\n",
    "\"\"\"\n",
    "\n",
    "pd.read_sql(s, conn)"
   ],
   "metadata": {
    "collapsed": false,
    "pycharm": {
     "name": "#%%\n"
    }
   }
  },
  {
   "cell_type": "code",
   "execution_count": null,
   "outputs": [],
   "source": [
    "# 6. Для каждого университета покажите долю в % числа студентов каждого курса от максимального числа студентов на курсе университета.\n",
    "\n",
    "s = \"\"\"\n",
    "with A as (\n",
    "SELECT u.univ_name, st.kurs, count(st.student_id) as student_count\n",
    "FROM student st JOIN university u on st.univ_id=u.univ_id\n",
    "GROUP by u.univ_name, st.kurs\n",
    ")\n",
    "\n",
    "select A.*, max(A.student_count) OVER (PARTITION by A.univ_name) as student_unive_max,\n",
    "round(100.0 * A.student_count / max(A.student_count) over (PARTITION by A.univ_name), 2) as persent\n",
    "From A;\n",
    "\"\"\"\n",
    "\n",
    "pd.read_sql(s, conn)"
   ],
   "metadata": {
    "collapsed": false,
    "pycharm": {
     "name": "#%%\n"
    }
   }
  }
 ],
 "metadata": {
  "kernelspec": {
   "display_name": "Python 3 (ipykernel)",
   "language": "python",
   "name": "python3"
  },
  "language_info": {
   "codemirror_mode": {
    "name": "ipython",
    "version": 3
   },
   "file_extension": ".py",
   "mimetype": "text/x-python",
   "name": "python",
   "nbconvert_exporter": "python",
   "pygments_lexer": "ipython3",
   "version": "3.9.7"
  }
 },
 "nbformat": 4,
 "nbformat_minor": 5
}