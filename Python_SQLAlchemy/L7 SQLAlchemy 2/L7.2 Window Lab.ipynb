{
 "cells": [
  {
   "cell_type": "markdown",
   "id": "857892f1",
   "metadata": {},
   "source": [
    "<img src=\"../Img/Python_SQL_PI.png\" style=\"width:100%\">\n",
    "\n",
    "\n",
    "<p style=\"font-size:160%;text-align:center\">Семинар 7.2. (15) Оконные функции: лабораторная работа</p> \n",
    "\n",
    "<a id = Home></a>\n",
    "\n",
    "**12 мая 2022 года, чт**<br>\n",
    "6-я пара, 17:20 - 18:50<br>\n",
    "В4/3411(кк) (4-й Вешняковский проезд, 4)<br>\n",
    "ПИ20-1, ПИ20-2, ПИ20-3, ПИ20-4, ПИ20-5, ПИ20-6 (2 подгруппа)<br>\n",
    "\n",
    "**23 мая 2022 года, пн**<br>\n",
    "3-я пара, 11:50 - 13:20<br>\n",
    "Щ38/509(кк) (ул. Щербаковская, 38)<br>\n",
    "ПИ20-1, ПИ20-2, ПИ20-3, ПИ20-4, ПИ20-5, ПИ20-6 (4 подгруппа)<br>\n",
    "\n",
    "**26 мая 2022 года, чт**<br>\n",
    "5-я пара, 15:40 - 17:10<br>\n",
    "В4/3411(кк) (4-й Вешняковский проезд, 4)<br>\n",
    "ПИ20-1, ПИ20-2, ПИ20-3, ПИ20-4, ПИ20-5, ПИ20-6 (1 подгруппа)<br>\n",
    "\n",
    "**30 мая 2022 года, пн**<br>\n",
    "1-я пара, 08:30 - 10:00<br>\n",
    "Щ38/509(кк) (ул. Щербаковская, 38)<br>\n",
    "Поток:ПИ20-1, ПИ20-2, ПИ20-3, ПИ20-4, ПИ20-5, ПИ20-6 (3 подгруппа)"
   ]
  },
  {
   "cell_type": "markdown",
   "id": "9cf8e3d5",
   "metadata": {},
   "source": [
    "<p style=\"font-size:150%;text-align:center\">Литература</p>\n",
    "\n",
    "- Астахова И.Ф., Мельников В.М., Толстобров А.П., Фертиков В.В. СУБД: язык SQL в примерах и задачах.—М.:ФИЗМАТЛИТ, 2009. — 168 с. — ISBN 978-5-9221-0816-4.\n",
    "- Essential SQLAlchemy: Mapping Python to Databases 2nd Edition. Jason Myers, Rick Copeland. O'Reilly Media, Inc. 2015.\n",
    "- Официальный сайт СУБД SQLite https://sqlite.org\n",
    "- Официальный сайт библиотеки SQLAlchemy https://www.sqlalchemy.org/\n",
    "- Официальный сайт СУБД PostgreSQL https://www.postgresql.org/"
   ]
  },
  {
   "cell_type": "markdown",
   "id": "b81b1d4c",
   "metadata": {},
   "source": [
    "<img src=\"../Img/Cycling.png\">\n",
    "\n",
    "В лабораторной работе студенты обрабатывают и анализируют данные о поездках пользователей сервиса проката велосипедов https://capitalbikeshare.com/\n",
    "\n",
    "Все необходимые для выполнения работы исходные данные скопированы преподавателем в папку ../Data\n",
    "\n",
    "<p style=\"background-color:powderblue; font-size:125%; color: rebeccapurple;text-align:center\">Выполните задания</p>\n",
    "<p>Выполните задания с помощью Jupyter Notebook. </p>\n",
    "\n",
    "1. Изучите источник исходных данных в соответсвии с Вашим вариантом работы: CSV-файл с данными о поездках между станциями сервиса проката велосипедов.\n",
    "\n",
    "<table>\n",
    "    <tr><th style=\"text-align:left\">Вариант</th><th>Источник</th></tr>\n",
    "    <tr><td style=\"text-align:left\">1</td><td>BikeShare_01_02.csv</td></tr>\n",
    "    <tr><td style=\"text-align:left\">2</td><td>BikeShare_03_04.csv</td></tr>\n",
    "    <tr><td style=\"text-align:left\">3</td><td>BikeShare_05_06.csv</td></tr>\n",
    "    <tr><td style=\"text-align:left\">4</td><td>BikeShare_07_08.csv</td></tr>\n",
    "    <tr><td style=\"text-align:left\">5</td><td>BikeShare_09_10.csv</td></tr>\n",
    "    <tr><td style=\"text-align:left\">6</td><td>BikeShare_11_12.csv</td></tr>\n",
    "    <tr><td style=\"text-align:left\">7</td><td>BikeShare_13_14.csv</td></tr>\n",
    "    <tr><td style=\"text-align:left\">8</td><td>BikeShare_15_16.csv</td></tr>\n",
    "    <tr><td style=\"text-align:left\">9</td><td>BikeShare_17_18.csv</td></tr>\n",
    "    <tr><td style=\"text-align:left\">10</td><td>BikeShare_19_20.csv</td></tr>\n",
    "</table>"
   ]
  },
  {
   "cell_type": "markdown",
   "id": "671c359a",
   "metadata": {},
   "source": [
    "2. Создайте базу данных СУБД SQLite в файле BikeShareService.sqlite\n",
    "\n",
    "3. Создайте таблицу BikeShare со следующей структурой\n",
    "\n",
    "```\n",
    "DROP TABLE IF EXISTS BikeShare;\n",
    "\n",
    "CREATE TABLE BikeShare (\n",
    "\tride_id text PRIMARY KEY,\n",
    "\trideable_type text,\n",
    "\tstarted_at text,\n",
    "\tended_at text,\n",
    "\tstart_station_name text,\n",
    "\tstart_station_id integer,\n",
    "\tend_station_name text,\n",
    "\tend_station_id integer,\n",
    "\tstart_lat real,\n",
    "\tstart_lng real,\n",
    "\tend_lat real,\n",
    "\tend_lng real,\n",
    "\tmember_casual text,\n",
    "\tduration integer);\n",
    "```\n",
    "\n",
    "4. Наполните БД BikeShareService данными из CSV источника.\n",
    "\n",
    "5. Выполните SQL-запросы к базе данных:\n",
    "\n",
    "    5.1. Покажите длительность с накопительным итогом по поездкам, начавшимся в интервале с 9:00 до 12:00 в порядке возрастания времени начала поездки.\n",
    "    \n",
    "    5.2. Покажите среднее время продолжительности поездки по каждой паре станций отправления и назначения.\n",
    "    \n",
    "    5.3. Покажите, сколько в проценках занимает время каждой поездки между начальной и конечной станциями от суммарного времени, затраченного на все поездки между станциями данной пары.\n",
    "    \n",
    "    5.4. Покажите 4 самых долгих поездки с каждой станции отправления упорядоченные по станции отправления и по убыванию длительности поездки для данной станции.\n",
    "    \n",
    "    5.5. Разбейти поездки на квантили по длительности, упорядочив по возрастанию длительности."
   ]
  },
  {
   "cell_type": "markdown",
   "id": "60f45ee1",
   "metadata": {},
   "source": [
    "<p style=\"font-size:150%\">Решение заданий лабораторной работы</p>"
   ]
  },
  {
   "cell_type": "code",
   "execution_count": null,
   "id": "705f8f86",
   "metadata": {},
   "outputs": [],
   "source": [
    "from sqlalchemy import create_engine, MetaData, Table, text"
   ]
  },
  {
   "cell_type": "code",
   "execution_count": null,
   "id": "18ff810b",
   "metadata": {},
   "outputs": [],
   "source": [
    "engine = create_engine('sqlite+pysqlite:///../Data/BikeshareServise.sqlite')\n",
    "metadata = MetaData()\n",
    "metadata.reflect(bind=engine)"
   ]
  }
 ],
 "metadata": {
  "kernelspec": {
   "display_name": "Python 3 (ipykernel)",
   "language": "python",
   "name": "python3"
  },
  "language_info": {
   "codemirror_mode": {
    "name": "ipython",
    "version": 3
   },
   "file_extension": ".py",
   "mimetype": "text/x-python",
   "name": "python",
   "nbconvert_exporter": "python",
   "pygments_lexer": "ipython3",
   "version": "3.9.7"
  }
 },
 "nbformat": 4,
 "nbformat_minor": 5
}
