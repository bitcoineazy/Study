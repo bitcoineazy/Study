{
 "cells": [
  {
   "cell_type": "markdown",
   "metadata": {
    "pycharm": {
     "name": "#%% md\n"
    }
   },
   "source": [
    "<img src=\"../Img/Python_SQL_PI.png\" style=\"width:100%\">"
   ]
  },
  {
   "cell_type": "markdown",
   "metadata": {
    "pycharm": {
     "name": "#%% md\n"
    }
   },
   "source": [
    "<p style=\"font-size:180%;text-align:center\">Лекция 6. Библиотека SQLAlchemy 2.0</p>\n",
    "\n",
    "<br><br>\n",
    "21 апреля 2022 года, чт., В4/3501 (4-й Вешняковский проезд, 4), 6-я пара, 17:20 - 18:50 <br>\n",
    "ПИ20-1, ПИ20-2, ПИ20-3 <br>\n",
    "\n",
    "25 апреля 2022 года, пн., Щ38/512 (ул. Щербаковская, 38), 1-я пара, 08:30 - 10:00 <br>\n",
    "ПИ20-4, ПИ20-5, ПИ20-6 <br>\n",
    "\n",
    "Смирнов Михаил Викторович, доцент Департамента анализа данных и машинного обучения Финансового университета при Правительстве Российской Федерации. mvsmirnov@fa.ru\n",
    "\n",
    "<br><br>\n",
    "\n",
    "<p style=\"font-size:180%;text-align:center\">Лекция 7. Библиотека SQLAlchemy 2.0, продолжение</p>\n",
    "\n",
    "<br><br>\n",
    "5 мая 2022 года, чт., В4/3501 (4-й Вешняковский проезд, 4), 6-я пара, 17:20 - 18:50 <br>\n",
    "ПИ20-1, ПИ20-2, ПИ20-3 <br>\n",
    "\n",
    "23 мая 2022 года, пн., Щ38/512 (ул. Щербаковская, 38), 1-я пара, 08:30 - 10:00 <br>\n",
    "ПИ20-4, ПИ20-5, ПИ20-6 <br>\n",
    "\n",
    "Смирнов Михаил Викторович, доцент Департамента анализа данных и машинного обучения Финансового университета при Правительстве Российской Федерации. mvsmirnov@fa.ru\n",
    "\n",
    "<p style=\"text-align:center\">Москва - 2022</p>\n",
    "\n",
    "При подготовке материалов учебных занятий использовались источники\n",
    "- Essential SQLAlchemy: Mapping Python to Databases 2nd Edition. Jason Myers, Rick Copeland. O'Reilly Media, Inc. 2015.\n",
    "- Официальный сайт СУБД sqlite https://sqlite.org\n",
    "- Официальный сайт библиотеки sqlalchemy https://www.sqlalchemy.org/\n",
    "\n",
    "\n",
    "SQLAlchemy реализует два API: Core — ядро и ORM - объектно-реляционное сопоставление.\n",
    "\n",
    "**SQLAlchemy Core** является базовой архитектурой для SQLAlchemy как «набора инструментов для работы с базами данных». Библиотека предоставляет инструменты для управления подключением к базе данных, взаимодействия с запросами и результатами базы данных, а также для программного использования SQL-выражений.\n",
    "\n",
    "**SQLAlchemy ORM** основывается на Core, предоставляя дополнительные возможности реляционного сопоставления объектов.\n",
    "ORM предоставляет дополнительный уровень конфигурации, позволяющий сопоставлять пользовательские классы Python с таблицами базы данных и другими конструкциями, а также механизм, известный как сеанс. Затем он расширяет язык выражений SQL базового уровня, позволяя составлять и вызывать SQL-запросы в терминах пользовательских объектов.\n",
    "\n",
    "<Table align=left>\n",
    "<tr><td bgcolor=#0dcaf0></td><td style=\"text-align:left;font-size:10pt\">\n",
    "Таким цветом слева будут отмечены сведения, принципиально важные для ORM-подхода.\n",
    "</td></tr></Table>\n",
    "\n",
    "<br><br>\n",
    "<a id = Home></a>\n",
    "\n",
    "<p style=\"font-size:150%\"> Оглавление </p>\n",
    "\n",
    "1. [Механизм подключения к базе данных](#1)\n",
    "2. [Транзакции и программный интерфейс приложения](#2)\n",
    "3. [Метаданные базы данных](#3)\n",
    "4. [Работа с данными](#4)\n",
    "5. [Манипуляция данными с помощью ORM](#5)"
   ]
  },
  {
   "cell_type": "markdown",
   "metadata": {
    "pycharm": {
     "name": "#%% md\n"
    }
   },
   "source": [
    "<p style=\"font-size:150%\"> Проверка версии SQLAlchemy </p>\n",
    "\n",
    "Для выполнения кода примеров требуется версия SQLAlchemy 1.4."
   ]
  },
  {
   "cell_type": "code",
   "execution_count": 1,
   "metadata": {
    "pycharm": {
     "name": "#%%\n"
    }
   },
   "outputs": [
    {
     "data": {
      "text/plain": [
       "'1.4.16'"
      ]
     },
     "execution_count": 1,
     "metadata": {},
     "output_type": "execute_result"
    }
   ],
   "source": [
    "# Проверка версии SQL Alchemy\n",
    "import sqlalchemy\n",
    "sqlalchemy.__version__"
   ]
  },
  {
   "cell_type": "markdown",
   "metadata": {
    "pycharm": {
     "name": "#%% md\n"
    }
   },
   "source": [
    "<p style=\"font-size:150%\"> Версия 1.4 в стиле 2.0 </p>\n",
    "\n",
    "Планируемая следующая версия SQLAlchemy — это верстия 2.0. В версии 1.4 уже реализован интерфейс в стиле 2.0, и чтобы его использовать, введен параметр `future`."
   ]
  },
  {
   "cell_type": "markdown",
   "metadata": {
    "pycharm": {
     "name": "#%% md\n"
    }
   },
   "source": [
    "<a id=1></a>\n",
    "\n",
    "[К оглавлению](#Home)\n",
    "\n",
    "# 1. Механизм подключения к базе данных\n",
    "\n",
    "Начало любого приложения SQLAlchemy — это объект, называемый *Engine* (механизм, движок). Этот объект действует как центральный источник подключения к базе данных, предоставляя как движок, так и пространство хранения, называемое пулом подключений к базой данных. Механизм обычно представляет собой глобальный объект, создаваемый для определенного сервера базы данных и настроенный с использованием строки URL-адреса хоста базы данных или серверной части.\n",
    "\n",
    "В этой лекции мы будем использовать базу данных SQLite в памяти. Это простой способ протестировать функциональность, не требуя создания новой реальной, либо уже существующей базы данных. Движок создается с помощью функции *create_engine()*. В качестве одного из аргументов используем `future=True`, чтобы начать работу в стиле 2.0."
   ]
  },
  {
   "cell_type": "code",
   "execution_count": 2,
   "metadata": {
    "pycharm": {
     "name": "#%%\n"
    }
   },
   "outputs": [],
   "source": [
    "from sqlalchemy import create_engine\n",
    "engine = create_engine(\"sqlite+pysqlite:///:memory:\", echo=True, future=True)"
   ]
  },
  {
   "cell_type": "markdown",
   "metadata": {
    "pycharm": {
     "name": "#%% md\n"
    }
   },
   "source": [
    "Параметр в виде строки URL укзаывает на три вещи:\n",
    "1. Название СУБД, в данном случае это *sqlite*.\n",
    "2. Программный интерфейс приложения для работы с БД, *pysqlite*.\n",
    "3. Название и местонахождение БД, в данном случае в памяти.\n",
    "\n",
    "<p style=\"font-size:125%\">Ленивое подключение</p>\n",
    "\n",
    "Создание движка *engine* само по себе не приводит к подключению к базе данных до тех пор, пока движок не получит какое-либо задание.\n",
    "\n",
    "Мы установили значение парметра *future=True*, чтобы использовать стиль версии 2.0:\n",
    "Мы также установили параметр *echo=True*, чтобы движок журналировал SQL команды. "
   ]
  },
  {
   "cell_type": "markdown",
   "metadata": {
    "pycharm": {
     "name": "#%% md\n"
    }
   },
   "source": [
    "<a id=2></a>\n",
    "\n",
    "[К оглавлению](#Home)\n",
    "\n",
    "# 2. Транзакции и программный интерфейс приложения\n",
    "\n",
    "Теперь, когда объект *Engine* готов к работе, изучим базовую работу движка и его основные интерактивные конечные точки, *Connection* и *Result*. Мы дополнительно представим фасад *ORM* для этих объектов, известный как *Session*.\n",
    "\n",
    "<Table>\n",
    "<tr><td bgcolor=#0dcaf0></td><td style=\"text-align:left;font-size:10pt\">\n",
    "    При использовании <i>ORM</i> движок управляется другим объектом, называемым <i>сеансом — Session</i>. Сеанс в SQLAlchemy подчеркивает транзакционный способ выполнения, который в значительной степени идентичен объекту <i>Connection</i>, обсуждаемому ниже. Поэтому, хотя этот подраздел ориентирован на пользователей <i>Core</i>, все концепции здесь по существу также относятся к использованию <i>ORM</i>. В конце этого раздела рассмотрим отличия шаблона выполнения <i>Connection</i> от шаблона <i>Session</i> .\n",
    "</td></tr></Table>\n",
    "\n",
    "Поскольку нам еще только предстоит знакомство с языком выражений *SQLAlchemy*, который является основным для этой библиотеки, мы будем здесь использовать функцию, называемую *text()*, которая позволяет нам писать операторы *SQL* как текст. Отметим, что текстовый SQL в повседневном использовании SQLAlchemy является скорее исключением, чем правилом для большинства задач, хотя он всегда остается полностью доступным.\n",
    "\n",
    "<p style=\"font-size:150%\"> Организация подключения </p>\n",
    "\n",
    "Единственная цель объекта Engine с точки зрения пользователя — предоставить подключение к базе данных, называемое *Connection*. При работе с *Core* напрямую объект *Connection* обеспечивает взаимодействие с базой данных. Поскольку подключение представляет собой открытый ресурс для базы данных, мы хотим всегда ограничивать область использования этого объекта определенным контекстом, и лучший способ сделать это — использовать форму диспетчера контекста Python, также известную как оператор *with*. Проиллюстрируем выполнение выражения текстовой строки «Hello World» с помощью текстового оператора SQL."
   ]
  },
  {
   "cell_type": "code",
   "execution_count": 3,
   "metadata": {
    "pycharm": {
     "name": "#%%\n"
    }
   },
   "outputs": [
    {
     "name": "stdout",
     "output_type": "stream",
     "text": [
      "2022-05-05 15:17:28,584 INFO sqlalchemy.engine.Engine BEGIN (implicit)\n",
      "2022-05-05 15:17:28,589 INFO sqlalchemy.engine.Engine select 'hello world'\n",
      "2022-05-05 15:17:28,590 INFO sqlalchemy.engine.Engine [generated in 0.00677s] ()\n",
      "[('hello world',)]\n",
      "2022-05-05 15:17:28,593 INFO sqlalchemy.engine.Engine ROLLBACK\n"
     ]
    }
   ],
   "source": [
    "from sqlalchemy import text\n",
    "\n",
    "with engine.connect() as conn:\n",
    "    result = conn.execute(text(\"select 'hello world'\"))\n",
    "    print(result.all())"
   ]
  },
  {
   "cell_type": "markdown",
   "metadata": {
    "pycharm": {
     "name": "#%% md\n"
    }
   },
   "source": [
    "В приведенном примере диспетчер контекста обеспечил подключение к базе данных, а также поместил операцию в транзакцию. Использование Python DBAPI по умолчанию означает то, что транзакция всегда выполняется. Когда операция завершается, выдается ROLLBACK для завершения транзакции. Транзакция не фиксируется автоматически. Когда мы хотим зафиксировать изменения, нам нужно вызвать `Connection.commit()`."
   ]
  },
  {
   "cell_type": "markdown",
   "metadata": {
    "pycharm": {
     "name": "#%% md\n"
    }
   },
   "source": [
    "<p style=\"font-size:150%\">Завершение изменений</p>\n",
    "\n",
    "Итак, объект соединения не завершает изменения по умолчанию. Что надо сделать, чтобы завершить изменения? покажем это на примере. Создадим таблицу, вставим в неё данные, а затем завершим изменения с помощью метода `Connection.commit()` внутри той же области, в которой мы с помощью диспетчера контекста создали объект соединения."
   ]
  },
  {
   "cell_type": "code",
   "execution_count": 4,
   "metadata": {
    "pycharm": {
     "name": "#%%\n"
    }
   },
   "outputs": [
    {
     "name": "stdout",
     "output_type": "stream",
     "text": [
      "2022-05-05 15:17:28,613 INFO sqlalchemy.engine.Engine BEGIN (implicit)\n",
      "2022-05-05 15:17:28,614 INFO sqlalchemy.engine.Engine CREATE TABLE some_table (x int, y int)\n",
      "2022-05-05 15:17:28,616 INFO sqlalchemy.engine.Engine [generated in 0.00358s] ()\n",
      "2022-05-05 15:17:28,619 INFO sqlalchemy.engine.Engine INSERT INTO some_table (x, y) VALUES (?, ?)\n",
      "2022-05-05 15:17:28,619 INFO sqlalchemy.engine.Engine [generated in 0.00145s] ((1, 1), (2, 4))\n",
      "2022-05-05 15:17:28,623 INFO sqlalchemy.engine.Engine COMMIT\n"
     ]
    }
   ],
   "source": [
    "# \"commit as you go\"\n",
    "with engine.connect() as conn:\n",
    "    conn.execute(text(\"CREATE TABLE some_table (x int, y int)\"))\n",
    "    conn.execute(text(\"INSERT INTO some_table (x, y) VALUES (:x, :y)\"),\n",
    "                 [{\"x\": 1, \"y\": 1}, {\"x\": 2, \"y\": 4}])\n",
    "    conn.commit()"
   ]
  },
  {
   "cell_type": "markdown",
   "metadata": {
    "pycharm": {
     "name": "#%% md\n"
    }
   },
   "source": [
    "Мы создали два оператора SQL, которые обычно являются транзакционными: оператор *CREATE TABLE* и параметризованный оператор *INSERT* (приведенный выше синтаксис параметризации обсуждается несколькими разделами ниже в разделе «Отправка нескольких параметров»). Поскольку мы хотим, чтобы проделанная нами работа была зафиксирована в нашем блоке, мы вызываем метод `Connection.commit()`, который завершает транзакцию. После того, как мы вызовем этот метод внутри блока, мы можем продолжить выполнение других операторов SQL, и, если мы захотим, мы можем снова вызвать `Connection.commit()` для последующих операторов. SQLAlchemy относится к этому стилю как к «фиксации по ходу» выполнения - «commit as you go».\n",
    "\n",
    "Существует также другой стиль фиксации данных, который заключается в том, что мы можем заранее объявить наш блок «подключения» блоком транзакции. Для этого режима работы мы используем метод `Engine.begin()` для получения соединения, а не метод `Engine.connect()`. Этот метод управляет областью соединения и заключает все действия внутри транзакции с *COMMIT* в случае успеха или *ROLLBACK* в случае возникновения исключения. В дальнейшем этот стиль может именоваться \"начать сразу\" — *begin once*."
   ]
  },
  {
   "cell_type": "code",
   "execution_count": 5,
   "metadata": {
    "pycharm": {
     "name": "#%%\n"
    }
   },
   "outputs": [
    {
     "name": "stdout",
     "output_type": "stream",
     "text": [
      "2022-05-05 15:17:28,637 INFO sqlalchemy.engine.Engine BEGIN (implicit)\n",
      "2022-05-05 15:17:28,640 INFO sqlalchemy.engine.Engine INSERT INTO some_table (x, y) VALUES (?, ?)\n",
      "2022-05-05 15:17:28,643 INFO sqlalchemy.engine.Engine [cached since 0.02384s ago] ((6, 8), (9, 10))\n",
      "2022-05-05 15:17:28,645 INFO sqlalchemy.engine.Engine COMMIT\n"
     ]
    }
   ],
   "source": [
    "# \"begin once\"\n",
    "with engine.begin() as conn:\n",
    "    conn.execute(\n",
    "        text(\"INSERT INTO some_table (x, y) VALUES (:x, :y)\"),\n",
    "        [{\"x\": 6, \"y\": 8}, {\"x\": 9, \"y\": 10}]\n",
    "    )"
   ]
  },
  {
   "cell_type": "markdown",
   "metadata": {
    "pycharm": {
     "name": "#%% md\n"
    }
   },
   "source": [
    "<Table>\n",
    "    <tr><td bgcolor=#adb5bd></td><td style=\"text-align:left; font-size:10pt\">\n",
    "\n",
    "Что значит BEGIN (implicit)?\n",
    "\n",
    "В начале блока транзакции журнал показал строку «BEGIN (неявно)». «Неявно» здесь означает, что SQLAlchemy считает, что это начало неявной транзакции DBAPI. Например, вы можете зарегистрировать обработчики событий для перехвата этого события.\n",
    "\n",
    "Дополнительно о событиях: https://docs.sqlalchemy.org/en/14/core/events.html#core-sql-events\n",
    "</td></tr></Table>"
   ]
  },
  {
   "cell_type": "markdown",
   "metadata": {
    "pycharm": {
     "name": "#%% md\n"
    }
   },
   "source": [
    "<p style=\"font-size:150%\"> Основы выполнения SQL-выражений </p>\n",
    "\n",
    "Мы изучили примеры, в которых операторы SQL выполняются с использованием метода `Connection.execute()` в сочетании с объектом  `text()` и возвратом объекта *Result*. Проиллюстрируем более подробно взаимодействие этих компонентов.\n",
    "\n",
    "<Table>\n",
    "<tr><td bgcolor=#0dcaf0></td><td style=\"text-align:left; font-size:10pt\">\n",
    "Большая часть содержимого этого раздела одинаково хорошо применима к ORM при использовании метода Session.execute(), который работает очень похоже на метод Connection.execute(), включая то, что строки результатов ORM доставляются с использованием объекта <a href=\"https://docs.sqlalchemy.org/en/14/core/connections.html#sqlalchemy.engine.Result\"> Result </a>.\n",
    "        </td></tr>\n",
    "</Table>\n",
    "\n",
    "<p style=\"font-size:120%\">Получение строк</p>\n",
    "\n",
    "Сначала проиллюстрируем объект *Result*, используя строки, которые мы вставили ранее, выполнив оператор *SELECT* для созданной нами таблицы:"
   ]
  },
  {
   "cell_type": "code",
   "execution_count": 6,
   "metadata": {
    "pycharm": {
     "name": "#%%\n"
    }
   },
   "outputs": [
    {
     "name": "stdout",
     "output_type": "stream",
     "text": [
      "2022-05-05 15:17:28,664 INFO sqlalchemy.engine.Engine BEGIN (implicit)\n",
      "2022-05-05 15:17:28,666 INFO sqlalchemy.engine.Engine SELECT x, y FROM some_table\n",
      "2022-05-05 15:17:28,668 INFO sqlalchemy.engine.Engine [generated in 0.00358s] ()\n",
      "x: 1  y: 1\n",
      "x: 2  y: 4\n",
      "x: 6  y: 8\n",
      "x: 9  y: 10\n",
      "2022-05-05 15:17:28,671 INFO sqlalchemy.engine.Engine ROLLBACK\n"
     ]
    }
   ],
   "source": [
    "with engine.connect() as conn:\n",
    "    result = conn.execute(text(\"SELECT x, y FROM some_table\"))\n",
    "    for row in result:\n",
    "        print(f\"x: {row.x}  y: {row.y}\")"
   ]
  },
  {
   "cell_type": "markdown",
   "metadata": {
    "pycharm": {
     "name": "#%% md\n"
    }
   },
   "source": [
    "Команда «SELECT» выбрала все строки из таблицы. Возвращаемый объект *Result* является итерируемым объектом строк результатов.\n",
    "\n",
    "*Result* имеет множество методов для выборки и преобразования строк, таких как показанный ранее метод `Result.all()`, который возвращает список всех объектов *Row*. Он также реализует интерфейс итератора `Python`, так что мы можем напрямую перебирать коллекцию объектов *Row*.\n",
    "\n",
    "Сами объекты *Row* должны действовать как <a href=\"https://docs.python.org/3/library/collections.html#collections.namedtuple\"> именованные кортежи </a> Python. Ниже проиллюстрируем различные способы доступа к строкам.\n",
    "\n",
    "- Позиционное. Этот стиль заключается в назначении переменных каждому атрибуту строки позиционно:\n",
    "\n",
    "```\n",
    "result = conn.execute(text(\"select x, y from some_table\"))\n",
    "for x, y in result:\n",
    "    print(x, y)\n",
    "```\n",
    "\n",
    "- По индексу. Кортежи — это упорядоченные неизменяемые коллекции, к элементам которых можно обращаться обычным образом по целочисленному индексу\n",
    "\n",
    "```\n",
    "with engine.connect() as conn:\n",
    "    result = conn.execute(text(\"select x, y from some_table\"))\n",
    "    for row in result:\n",
    "        x, y = row[0], row[1]\n",
    "        print(x, y)\n",
    "```\n",
    "- По имени атрибута. \n",
    "Поскольку это именованные кортежи Python, они имеют динамические имена атрибутов, соответствующие именам каждого столбца. Эти имена обычно являются именами, которые оператор SQL присваивает столбцам в каждой строке.\n",
    "\n",
    "```\n",
    "with engine.connect() as conn:\n",
    "    result = conn.execute(text(\"select x, y from some_table\"))\n",
    "    for row in result:\n",
    "        print(f\"Row: {row.x} {row.y}\")\n",
    "```\n",
    "\n",
    "- По сопоставлению. Чтобы получать строки в качестве объектов сопоставления Python, что по сути является версией \"для чтения\" обычного объекта *dict*, *Result* может быть преобразован в объект *MappingResult* с использованием модификатора `Result.mappings()`. Это объект результата, который дает подобные словарю объекты *RowMapping*, а не объекты *Row*:\n",
    "\n",
    "```\n",
    "with engine.connect() as conn:\n",
    "    result = conn.execute(text(\"select x, y from some_table\"))\n",
    "    for dict_row in result.mappings():\n",
    "        x, y = dict_row['x'], dict_row['y']\n",
    "        print(x,y)\n",
    "```\n",
    "\n",
    "<p style=\"font-size:150%\">Отправка параметров</p>\n",
    "\n",
    "Операторы SQL обычно сопровождаются данными, которые должны быть переданы вместе с самим оператором, как мы видели ранее в примере вставки *INSERT*. Таким образом, метод `Connection.execute()` также принимает параметры, которые называются связанными параметрами. Элементарным примером может быть то, что мы хотим ограничить оператор «SELECT» только строками, которые соответствуют определенным критериям, например, строками, в которых значение «y» превышает определенное значение, переданное функции.\n",
    "\n",
    "Чтобы добиться этого, мы добавляем в выражение условие *WHERE* новый параметр с именем «y»; функция `text()` принимает его, используя формат двоеточия «:y». Фактическое значение «:y» затем передается в качестве второго аргумента функции `Connection.execute()` в виде словаря:"
   ]
  },
  {
   "cell_type": "code",
   "execution_count": 7,
   "metadata": {
    "pycharm": {
     "name": "#%%\n"
    }
   },
   "outputs": [
    {
     "name": "stdout",
     "output_type": "stream",
     "text": [
      "2022-05-05 15:17:28,695 INFO sqlalchemy.engine.Engine BEGIN (implicit)\n",
      "2022-05-05 15:17:28,697 INFO sqlalchemy.engine.Engine SELECT x, y FROM some_table WHERE y > ?\n",
      "2022-05-05 15:17:28,699 INFO sqlalchemy.engine.Engine [generated in 0.00346s] (2,)\n",
      "x: 2  y: 4\n",
      "x: 6  y: 8\n",
      "x: 9  y: 10\n",
      "2022-05-05 15:17:28,703 INFO sqlalchemy.engine.Engine ROLLBACK\n"
     ]
    }
   ],
   "source": [
    "with engine.connect() as conn:\n",
    "    result = conn.execute(\n",
    "        text(\"SELECT x, y FROM some_table WHERE y > :y\"),\n",
    "        {\"y\": 2}\n",
    "    )\n",
    "    for row in result:\n",
    "       print(f\"x: {row.x}  y: {row.y}\")"
   ]
  },
  {
   "cell_type": "markdown",
   "metadata": {
    "pycharm": {
     "name": "#%% md\n"
    }
   },
   "source": [
    "В журналированном выводе SQL мы видим, что связанный параметр `:y` преобразован в вопросительный знак, когда он был отправлен в базу данных SQLite. Это связано с тем, что драйвер базы данных SQLite использует формат передачи параметров в стиле вопросительного знака, который является форматом, разрешенным спецификацией DBAPI.\n",
    "\n",
    "<Table><tr><td bgcolor=#adb5bd></td><td style=\"text-align:left; font-size:10pt\">\n",
    "Как упоминалось в начале этого раздела, текстовый SQL не является обычным способом работы с SQLAlchemy. Однако при использовании текстового SQL литеральные значения Python, даже нетекстовые, такие как целые числа или даты, никогда не должны напрямую преобразовываться в строку SQL; всегда следует использовать параметр. Это наиболее известно как способ избежать атак с помощью SQL-инъекций. Однако это также позволяет диалектам SQLAlchemy и/или DBAPI правильно обрабатывать входящие входные данные для серверной части. За исключением случаев использования простого текстового SQL, SQLAlchemy Core Expression API гарантирует, что литеральные значения Python передаются в качестве связанных параметров, где это необходимо.\n",
    "</td></tr></Table>\n",
    "\n",
    "<p style=\"font-size:150%\"> Отправка нескольких параметров </p>\n",
    "\n",
    "В примере с фиксацией изменений мы выполнили оператор INSERT, где оказалось, что мы можем вставить сразу несколько строк в базу данных. Для операторов, которые работают с данными, но не возвращают наборы результатов, а именно операторов DML, таких как «INSERT», мы можем отправить в метод `Connection.execute()` несколько параметров в списке словарей:"
   ]
  },
  {
   "cell_type": "code",
   "execution_count": 8,
   "metadata": {
    "pycharm": {
     "name": "#%%\n"
    }
   },
   "outputs": [
    {
     "name": "stdout",
     "output_type": "stream",
     "text": [
      "2022-05-05 15:17:28,724 INFO sqlalchemy.engine.Engine BEGIN (implicit)\n",
      "2022-05-05 15:17:28,726 INFO sqlalchemy.engine.Engine INSERT INTO some_table (x, y) VALUES (?, ?)\n",
      "2022-05-05 15:17:28,728 INFO sqlalchemy.engine.Engine [cached since 0.1087s ago] ((11, 12), (13, 14))\n",
      "2022-05-05 15:17:28,730 INFO sqlalchemy.engine.Engine COMMIT\n"
     ]
    }
   ],
   "source": [
    "with engine.connect() as conn:\n",
    "    conn.execute(\n",
    "        text(\"INSERT INTO some_table (x, y) VALUES (:x, :y)\"),\n",
    "        [{\"x\": 11, \"y\": 12}, {\"x\": 13, \"y\": 14}]\n",
    "    )\n",
    "    conn.commit()"
   ]
  },
  {
   "cell_type": "markdown",
   "metadata": {
    "pycharm": {
     "name": "#%% md\n"
    }
   },
   "source": [
    "На самом деле, объекты *Connection* используют возможность DBAPI, известную как `cursor.executemany()`. Этот метод выполняет эквивалентную операцию вызова данного оператора SQL для каждого набора параметров в отдельности. DBAPI может оптимизировать эту операцию различными способами, используя подготовленные операторы или в некоторых случаях объединяя наборы параметров в один оператор SQL. Некоторые диалекты SQLAlchemy могут также использовать альтернативные API для этого случая, такие как диалект *psycopg2* для *PostgreSQL*, который в таких случаях использует более производительные API.\n",
    "\n",
    "<Table align=left>\n",
    "<tr><td bgcolor=#0dcaf0></td><td style=\"text-align:left;font-size:10pt\">\n",
    "Интерфейс ORM использует другой подход передачи нескольких параметров операторам INSERT/UPDATE/DELETE.\n",
    "</td></tr></Table>\n",
    "\n",
    "<br><p>\n",
    "<p style=\"font-size:150%\">Связывание параметров с операторами SQL-выражения</p>\n",
    "\n",
    "Два предыдущих примера иллюстрируют ряд параметров, передаваемых вместе с оператором SQL. Для выполнения выражений с одним параметром, использование параметров в SQLAlchemy на самом деле чаще всего осуществляется путем связывания с оператором, что является основной функцией языка выражений SQL и позволяет создавать запросы, которые могут быть составлены естественным образом. Эта концепция будет обсуждаться более подробно в следующих разделах. Предварительно отметим, что сама конструкция *text()*, являющаяся частью языка выражений SQL, поддерживает эту функцию с помощью метода `TextClause.bindparams()`; это <a href=\"https://docs.sqlalchemy.org/en/14/glossary.html#term-generative\">генеративный</a> метод, который возвращает новую копию конструкции SQL, дополненную значениями параметров, которые мы хотим передать:"
   ]
  },
  {
   "cell_type": "code",
   "execution_count": 9,
   "metadata": {
    "pycharm": {
     "name": "#%%\n"
    }
   },
   "outputs": [
    {
     "name": "stdout",
     "output_type": "stream",
     "text": [
      "2022-05-05 15:17:28,754 INFO sqlalchemy.engine.Engine BEGIN (implicit)\n",
      "2022-05-05 15:17:28,755 INFO sqlalchemy.engine.Engine SELECT x, y FROM some_table WHERE (y > ?) AND (x > ?) ORDER BY x, y\n",
      "2022-05-05 15:17:28,758 INFO sqlalchemy.engine.Engine [generated in 0.00378s] (6, 0)\n",
      "x: 6  y: 8\n",
      "x: 9  y: 10\n",
      "x: 11  y: 12\n",
      "x: 13  y: 14\n",
      "2022-05-05 15:17:28,761 INFO sqlalchemy.engine.Engine ROLLBACK\n"
     ]
    }
   ],
   "source": [
    "stmt = text(\"SELECT x, y FROM some_table WHERE (y > :y) AND (x > :x) ORDER BY x, y\").bindparams(y=6, x=0)\n",
    "with engine.connect() as conn:\n",
    "    result = conn.execute(stmt)\n",
    "    for row in result:\n",
    "       print(f\"x: {row.x}  y: {row.y}\")"
   ]
  },
  {
   "cell_type": "markdown",
   "metadata": {
    "pycharm": {
     "name": "#%% md\n"
    }
   },
   "source": [
    "Отметим, что в результате связывания параметра с SQL-выражением, метод `Connection.execute()` сформировал как строку SQL, так и отдельный кортеж параметров, в данном случае, из двух элементов.\n",
    "\n",
    "<p style=\"font-size:150%\">Выполнение сеанса ORM</p>\n",
    "\n",
    "<Table align=left>\n",
    "<tr><td bgcolor=#0dcaf0></td><td style=\"text-align:left;font-size:10pt\">\n",
    "Как упоминалось ранее, большинство приведенных выше шаблонов и примеров также применимы для объектно-реляционного сопоставления ORM.\n",
    "</td></tr></Table><br><br>\n",
    "\n",
    "Основным объектом при использовании ORM является сеанс — *Session*. В SQLAlchemy этот объект используется способом, похожим на метод *Connection*, и фактически, когда используется сеанс, он ссылается на внутреннее подключение *Connection*, которое он использует для генерации SQL-выражения.\n",
    "\n",
    "Сеанс имеет несколько различных шаблонов создания, проиллюстрируем здесь базовый, который отслеживает то, как используется соединение. Создадим сеанс в диспетчере контекста:"
   ]
  },
  {
   "cell_type": "code",
   "execution_count": 10,
   "metadata": {
    "scrolled": true,
    "pycharm": {
     "name": "#%%\n"
    }
   },
   "outputs": [
    {
     "name": "stdout",
     "output_type": "stream",
     "text": [
      "2022-05-05 15:17:28,888 INFO sqlalchemy.engine.Engine BEGIN (implicit)\n",
      "2022-05-05 15:17:28,890 INFO sqlalchemy.engine.Engine SELECT x, y FROM some_table WHERE y > ? ORDER BY x, y\n",
      "2022-05-05 15:17:28,892 INFO sqlalchemy.engine.Engine [generated in 0.00191s] (6,)\n",
      "x: 6  y: 8\n",
      "x: 9  y: 10\n",
      "x: 11  y: 12\n",
      "x: 13  y: 14\n",
      "2022-05-05 15:17:28,897 INFO sqlalchemy.engine.Engine ROLLBACK\n"
     ]
    }
   ],
   "source": [
    "from sqlalchemy.orm import Session\n",
    "\n",
    "stmt = text(\"SELECT x, y FROM some_table WHERE y > :y ORDER BY x, y\").bindparams(y=6)\n",
    "with Session(engine) as session:\n",
    "    result = session.execute(stmt)\n",
    "    for row in result:\n",
    "       print(f\"x: {row.x}  y: {row.y}\")"
   ]
  },
  {
   "cell_type": "markdown",
   "metadata": {
    "pycharm": {
     "name": "#%% md\n"
    }
   },
   "source": [
    "Сравним этот пример с примером в предыдущем параграфе «Связывание параметров с оператором». Мы заменяем вызов `engine.connect() as conn` на `Session(engine) as session`, а затем используем `Session.execute()` точно так же, как и с методом `Connection.execute()`.\n",
    "\n",
    "Кроме того, как и *Подключение*, *Сеанс* следует шаблону поведения «фиксации по ходу» с использованием метода `Session.commit()`, показанного ниже с использованием  SQL-оператора *UPDATE*."
   ]
  },
  {
   "cell_type": "code",
   "execution_count": 11,
   "metadata": {
    "pycharm": {
     "name": "#%%\n"
    }
   },
   "outputs": [
    {
     "name": "stdout",
     "output_type": "stream",
     "text": [
      "2022-05-05 15:17:28,914 INFO sqlalchemy.engine.Engine BEGIN (implicit)\n",
      "2022-05-05 15:17:28,915 INFO sqlalchemy.engine.Engine UPDATE some_table SET y=? WHERE x=?\n",
      "2022-05-05 15:17:28,918 INFO sqlalchemy.engine.Engine [generated in 0.00175s] ((11, 9), (15, 13))\n",
      "2022-05-05 15:17:28,920 INFO sqlalchemy.engine.Engine COMMIT\n"
     ]
    }
   ],
   "source": [
    "with Session(engine) as session:\n",
    "    result = session.execute(\n",
    "        text(\"UPDATE some_table SET y=:y WHERE x=:x\"),\n",
    "        [{\"x\": 9, \"y\":11}, {\"x\": 13, \"y\": 15}]\n",
    "    )\n",
    "    session.commit()"
   ]
  },
  {
   "cell_type": "markdown",
   "metadata": {
    "pycharm": {
     "name": "#%% md\n"
    }
   },
   "source": [
    "В этом примере мы вызвали оператор UPDATE, используя связанный параметр в стиле «executemany» и заканчивая блок фиксацией по ходу «commit as you go».\n",
    "\n",
    "<Table align=\"left\">\n",
    "    <tr><td bgcolor=#0dcaf0></td>\n",
    "        <td style=\"text-align:left;font-size:10pt\">\n",
    "Примечание. Сеанс не удерживает подключение Connection после завершения транзакции. Он получает новое соединение от движка, когда в следующий раз требуется выполнение SQL-запроса к базе данных.\n",
    "        </td></tr>\n",
    "</Table>\n",
    "\n",
    "<br><br><p>\n",
    "У Сеанса, очевидно, значительно больше особенностей, однако понимание того, что метод `Session.execute()` используется так же, как `Connection.execute()`, поможет нам изучить примеры, которые последуют позже.\n",
    "</p>\n",
    "\n",
    "Дополнительно: <a href=\"https://docs.sqlalchemy.org/en/14/orm/session_basics.html#id1\">Основы Сеанса</a>"
   ]
  },
  {
   "cell_type": "markdown",
   "metadata": {
    "pycharm": {
     "name": "#%% md\n"
    }
   },
   "source": [
    "<a id=3></a>\n",
    "\n",
    "[К оглавлению](#Home)\n",
    "\n",
    "# 3. Метаданные базы данных\n",
    "\n",
    "Центральным элементом обоих интерфейсов SQLAlchemy — как Core, так и ORM, является язык выражений SQL, предназначенный для SQL-запросов. Основой для этих запросов являются объекты Python, представляющие такие понятия базы данных, как таблицы и столбцы. Эти объекты вместе известны как <a href=\"https://docs.sqlalchemy.org/en/14/glossary.html#term-database-metadata\">метаданные базы данных</a>.\n",
    "\n",
    "Наиболее распространенные базовые объекты <a href=\"https://docs.sqlalchemy.org/en/14/core/metadata.html#sqlalchemy.schema.MetaData\"> метаданных </a> базы данных в SQLAlchemy известны как таблица <a href=\"https://docs.sqlalchemy.org/en/14/core/metadata.html#sqlalchemy.schema.Table\"> *Table* </a> и столбец <a href=\"https://docs.sqlalchemy.org/en/14/core/metadata.html#sqlalchemy.schema.Column\"> *Column* </a>. Покажем, как эти объекты используются в интерфейсах *Core* и *ORM*.\n",
    "\n",
    "<p style=\"font-size:150%\">Создание метаданных таблиц</p>\n",
    "\n",
    "Когда мы работаем с реляционной базой данных, одной из базовых структур для составления запросов является таблица. В SQLAlchemy «таблица» представлена объектом Python с аналогичным названием <a href=\"https://docs.sqlalchemy.org/en/14/core/metadata.html#sqlalchemy.schema.Table\">*Table*</a>.\n",
    "\n",
    "Чтобы начать использовать язык выражений SQLAlchemy, нам нужно создать объекты *Table*, представляющие все таблицы базы данных, с которыми мы собираемся работать. Каждая таблица может быть объявлена, то есть мы явно прописываем в исходном коде, как выглядит или **отображается** таблица, что означает, что мы генерируем объект на основе того, что уже присутствует в конкретной базе данных. Эти два подхода также можно комбинировать разными способами.\n",
    "\n",
    "Независимо от того, будем ли мы объявлять или отображать таблицы БД, мы начинаем с коллекции, известной как объект метаданных. Этот объект, по сути, представляет собой фасад словаря Python, в котором хранится ряд объектов *Table*, привязанных к их строковым именам. Построение объекта Метаданных выглядит так:"
   ]
  },
  {
   "cell_type": "code",
   "execution_count": 12,
   "metadata": {
    "pycharm": {
     "name": "#%%\n"
    }
   },
   "outputs": [],
   "source": [
    "from sqlalchemy import MetaData\n",
    "metadata_obj = MetaData()"
   ]
  },
  {
   "cell_type": "markdown",
   "metadata": {
    "pycharm": {
     "name": "#%% md\n"
    }
   },
   "source": [
    "Наличие одного объекта *MetaData* для всего приложения является наиболее распространенным случаем. Такой объект представляется переменной уровня модуля в одном месте в приложении, как «модель» или «схема базы данных». В общем случае, в приложении может быть более одного объекта метаданных, но как правило, все объекты таблиц, связанных друг с другом, принадлежат одному объекту метаданных.\n",
    "\n",
    "Когда у нас есть объект *MetaData*, мы можем объявить объекты Table. Рассмотрим учебную базу данных, в которой таблица пользователей будет представлять пользователей веб-сайта, а таблица адресов — список адресов электронной почты пользователей. Обычно мы присваиваем каждому объекту *Table* переменную, с помощью которой мы будем ссылаться на таблицу в коде приложения."
   ]
  },
  {
   "cell_type": "code",
   "execution_count": 13,
   "metadata": {
    "pycharm": {
     "name": "#%%\n"
    }
   },
   "outputs": [],
   "source": [
    "from sqlalchemy import Table, Column, Integer, String\n",
    "user_table = Table(\n",
    "    \"user_account\",\n",
    "    metadata_obj,\n",
    "    Column('id', Integer, primary_key=True),\n",
    "    Column('name', String(30)),\n",
    "    Column('fullname', String)\n",
    ")"
   ]
  },
  {
   "cell_type": "markdown",
   "metadata": {
    "pycharm": {
     "name": "#%% md\n"
    }
   },
   "source": [
    "Заметим, что приведенная выше конструкция таблицы похожа на оператор SQL CREATE TABLE: начинется с имени таблицы, затем перечисляется каждый столбец, указывается имя и тип данных. Объекты, которые мы используем выше:\n",
    "\n",
    "- Таблица — представляет собой таблицу базы данных и присваивает себя коллекции метаданных.\n",
    "- Столбец — представляет столбец в таблице базы данных и присваивает себя объекту таблицы. Столбец обычно включает строку имени и тип. Доступ к коллекции столбцов с точки зрения родительской таблицы обычно осуществляется через ассоциативный массив, расположенный в <a href=\"https://docs.sqlalchemy.org/en/14/core/metadata.html#sqlalchemy.schema.Table.c\">Table.c</a>:"
   ]
  },
  {
   "cell_type": "code",
   "execution_count": 14,
   "metadata": {
    "pycharm": {
     "name": "#%%\n"
    }
   },
   "outputs": [
    {
     "data": {
      "text/plain": [
       "Column('name', String(length=30), table=<user_account>)"
      ]
     },
     "execution_count": 14,
     "metadata": {},
     "output_type": "execute_result"
    }
   ],
   "source": [
    "user_table.c.name"
   ]
  },
  {
   "cell_type": "code",
   "execution_count": 15,
   "metadata": {
    "pycharm": {
     "name": "#%%\n"
    }
   },
   "outputs": [
    {
     "data": {
      "text/plain": [
       "['id', 'name', 'fullname']"
      ]
     },
     "execution_count": 15,
     "metadata": {},
     "output_type": "execute_result"
    }
   ],
   "source": [
    "user_table.c.keys()"
   ]
  },
  {
   "cell_type": "markdown",
   "metadata": {
    "pycharm": {
     "name": "#%% md\n"
    }
   },
   "source": [
    "<a href=\"https://docs.sqlalchemy.org/en/14/core/type_basics.html#sqlalchemy.types.Integer\">Integer</a>, <a href=\"https://docs.sqlalchemy.org/en/14/core/type_basics.html#sqlalchemy.types.String\">String</a> — эти классы представляют типы данных SQL и могут быть указаны для столбца с ограничением на размер или без ограничений. Выше мы указали длину «30» для столбца «имя», поэтому мы создали экземпляр String (30). Но для «id» и «fullname» мы размер не указывали.\n",
    "\n",
    "Дополнительно: <a href=\"https://docs.sqlalchemy.org/en/14/core/metadata.html\">Описание структуры базы данных с помощью метаданных</a>.\n",
    "\n",
    "В следующем разделе мы проиллюстрируем одну из основных функций объекта таблицы, которая заключается в выполнении команд DDL. Но сначала объявим вторую таблицу.\n",
    "\n",
    "<p style=\"font-size:150%\">Объявление простых ограничений</p>\n",
    "\n",
    "Первый столбец в приведенной выше таблице *user_table* включает параметр `Column.primary_key`, который указывает на то, что этот столбец должен быть частью первичного ключа таблицы. Сам первичный ключ представлен конструкцией *PrimaryKeyConstraint*, которую мы можем видеть в атрибуте `Table.primary_key` объекта Table:"
   ]
  },
  {
   "cell_type": "code",
   "execution_count": 16,
   "metadata": {
    "pycharm": {
     "name": "#%%\n"
    }
   },
   "outputs": [
    {
     "data": {
      "text/plain": [
       "PrimaryKeyConstraint(Column('id', Integer(), table=<user_account>, primary_key=True, nullable=False))"
      ]
     },
     "execution_count": 16,
     "metadata": {},
     "output_type": "execute_result"
    }
   ],
   "source": [
    "user_table.primary_key"
   ]
  },
  {
   "cell_type": "markdown",
   "metadata": {
    "pycharm": {
     "name": "#%% md\n"
    }
   },
   "source": [
    "Другое ограничение, которое чаще всего объявляется явно — это объект *ForeignKeyConstraint*, соответствующий ограничению внешнего ключа базы данных. Когда мы объявляем таблицы, которые связаны друг с другом, SQLAlchemy использует наличие этих объявлений ограничений внешнего ключа не только для того, чтобы они генерировались в операторах CREATE для базы данных, но и для помощи в построении выражений SQL.\n",
    "\n",
    "Ограничение *ForeignKeyConstraint*, которое включает только один столбец в целевой таблице, обычно объявляется с использованием сокращенной записи на уровне столбца через объект *ForeignKey*. Ниже мы объявляем вторую таблицу — таблицу адресов, которая будет иметь ограничение внешнего ключа, ссылающееся на пользовательскую таблицу:"
   ]
  },
  {
   "cell_type": "code",
   "execution_count": 17,
   "metadata": {
    "pycharm": {
     "name": "#%%\n"
    }
   },
   "outputs": [],
   "source": [
    "from sqlalchemy import ForeignKey\n",
    "address_table = Table(\n",
    "    \"address\",\n",
    "    metadata_obj,\n",
    "    Column('id', Integer, primary_key=True),\n",
    "    Column('user_id', ForeignKey('user_account.id'), nullable=False),\n",
    "    Column('email_address', String, nullable=False)\n",
    ")"
   ]
  },
  {
   "cell_type": "markdown",
   "metadata": {
    "pycharm": {
     "name": "#%% md\n"
    }
   },
   "source": [
    "В приведенной выше таблице также представлен третий тип ограничения, которым в SQL является ограничение «NOT NULL», указанное с помощью параметра `Column.nullable`.\n",
    "\n",
    "<Table align=\"left\">\n",
    "    <tr><td bgcolor=#adb5bd></td>\n",
    "        <td style=\"text-align:left; font-size:10pt\">\n",
    "Совет.\n",
    "\n",
    "При использовании объекта ForeignKey в определении столбца мы можем опустить тип данных - он автоматически выводится из связанного столбца; в приведенном выше примере - это тип данных Integer столбца user_account.id.\n",
    "        </td></tr>\n",
    "</Table>"
   ]
  },
  {
   "cell_type": "markdown",
   "metadata": {
    "pycharm": {
     "name": "#%% md\n"
    }
   },
   "source": [
    "Завершим выполнение команд DDL для таблиц пользователей и адресов.\n",
    "\n",
    "<p style=\"font-size:150%\">Отправка команд DDL в базу данных</p>\n",
    "\n",
    "Мы построили иерархию объектов для представления двух таблиц базы данных, начиная с корневого объекта *MetaData*, затем два объекта *Table*, каждый из которых содержит набор объектов *Column* и *Constraint*. Эта объектная структура будет в центре большинства последующих операций, которые мы будем выполнять как с *Core*, так и с *ORM*.\n",
    "\n",
    "Первая полезная вещь, которую мы можем сделать с этой структурой — это отправить операторы DDL CREATE TABLE в нашу базу данных SQLite. У нас уже есть все инструменты, необходимые для этого, а именно: вызов метода `MetaData.create_all()` и отправка ему движка *Engine*, который ссылается на целевую базу данных:"
   ]
  },
  {
   "cell_type": "code",
   "execution_count": 18,
   "metadata": {
    "pycharm": {
     "name": "#%%\n"
    }
   },
   "outputs": [
    {
     "name": "stdout",
     "output_type": "stream",
     "text": [
      "2022-05-05 15:17:29,057 INFO sqlalchemy.engine.Engine BEGIN (implicit)\n",
      "2022-05-05 15:17:29,058 INFO sqlalchemy.engine.Engine PRAGMA main.table_info(\"user_account\")\n",
      "2022-05-05 15:17:29,062 INFO sqlalchemy.engine.Engine [raw sql] ()\n",
      "2022-05-05 15:17:29,064 INFO sqlalchemy.engine.Engine PRAGMA temp.table_info(\"user_account\")\n",
      "2022-05-05 15:17:29,065 INFO sqlalchemy.engine.Engine [raw sql] ()\n",
      "2022-05-05 15:17:29,067 INFO sqlalchemy.engine.Engine PRAGMA main.table_info(\"address\")\n",
      "2022-05-05 15:17:29,068 INFO sqlalchemy.engine.Engine [raw sql] ()\n",
      "2022-05-05 15:17:29,070 INFO sqlalchemy.engine.Engine PRAGMA temp.table_info(\"address\")\n",
      "2022-05-05 15:17:29,072 INFO sqlalchemy.engine.Engine [raw sql] ()\n",
      "2022-05-05 15:17:29,074 INFO sqlalchemy.engine.Engine \n",
      "CREATE TABLE user_account (\n",
      "\tid INTEGER NOT NULL, \n",
      "\tname VARCHAR(30), \n",
      "\tfullname VARCHAR, \n",
      "\tPRIMARY KEY (id)\n",
      ")\n",
      "\n",
      "\n",
      "2022-05-05 15:17:29,076 INFO sqlalchemy.engine.Engine [no key 0.00157s] ()\n",
      "2022-05-05 15:17:29,079 INFO sqlalchemy.engine.Engine \n",
      "CREATE TABLE address (\n",
      "\tid INTEGER NOT NULL, \n",
      "\tuser_id INTEGER NOT NULL, \n",
      "\temail_address VARCHAR NOT NULL, \n",
      "\tPRIMARY KEY (id), \n",
      "\tFOREIGN KEY(user_id) REFERENCES user_account (id)\n",
      ")\n",
      "\n",
      "\n",
      "2022-05-05 15:17:29,080 INFO sqlalchemy.engine.Engine [no key 0.00113s] ()\n",
      "2022-05-05 15:17:29,082 INFO sqlalchemy.engine.Engine COMMIT\n"
     ]
    }
   ],
   "source": [
    "metadata_obj.create_all(engine)"
   ]
  },
  {
   "cell_type": "markdown",
   "metadata": {
    "pycharm": {
     "name": "#%% md\n"
    }
   },
   "source": [
    "Процесс создания DDL по умолчанию включает некоторые специфичные для SQLite операторы PRAGMA, которые проверяют существование каждой таблицы перед отправкой CREATE. Полная последовательность шагов включена в пару BEGIN/COMMIT для поддержки транзакционного DDL (SQLite действительно поддерживает транзакционный DDL, однако драйвер базы данных sqlite3 исторически запускает DDL в режиме «автоматической фиксации»).\n",
    "\n",
    "Процесс создания также заботится об отправке операторов CREATE в правильном порядке: ограничение FOREIGN KEY зависит от существующей пользовательской таблицы, поэтому таблица адресов создается второй. В более сложных сценариях зависимостей ограничения FOREIGN KEY также могут применяться к таблицам постфактум с использованием ALTER.\n",
    "\n",
    "Объект *MetaData* также имеет метод `MetaData.drop_all()`, который выдает операторы DROP в обратном по отношению к CREATE порядке для удаления элементов схемы.\n",
    "\n",
    "<p style=\"font-size:150%\">Определение метаданных таблицы с помощью ORM</p>\n",
    "\n",
    "В этом разделе, посвященном только ORM, будет представлен пример объявления той же структуры базы данных, что и в предыдущем разделе, с использованием парадигмы конфигурации, более ориентированной на ORM. При использовании ORM процесс объявления метаданных таблицы обычно сочетается с процессом объявления сопоставленных классов. Сопоставленный класс — это класс Python, который мы хотели бы создать, который затем будет иметь атрибуты, которые будут связаны со столбцами в таблице базы данных. Хотя существует несколько вариантов того, как это достигается, наиболее распространенный стиль известен как декларативный и позволяет нам одновременно объявлять наши определяемые пользователем классы и метаданные таблицы.\n",
    "\n",
    "<p style=\"font-size:150%\">Установка реестра</p>\n",
    "\n",
    "При создании ORM коллекция метаданных содержится в объекте, называемом <a href=\"https://docs.sqlalchemy.org/en/14/orm/mapping_api.html#sqlalchemy.orm.registry\">реестром</a>. Мы создаём реестр вот так:"
   ]
  },
  {
   "cell_type": "code",
   "execution_count": 19,
   "metadata": {
    "pycharm": {
     "name": "#%%\n"
    }
   },
   "outputs": [],
   "source": [
    "from sqlalchemy.orm import registry\n",
    "mapper_registry = registry()"
   ]
  },
  {
   "cell_type": "markdown",
   "metadata": {
    "pycharm": {
     "name": "#%% md\n"
    }
   },
   "source": [
    "После создания реестр сразу включает в себя объект метаданных, который будет содержать в себе коллекцию таблиц."
   ]
  },
  {
   "cell_type": "code",
   "execution_count": 20,
   "metadata": {
    "pycharm": {
     "name": "#%%\n"
    }
   },
   "outputs": [
    {
     "data": {
      "text/plain": [
       "MetaData()"
      ]
     },
     "execution_count": 20,
     "metadata": {},
     "output_type": "execute_result"
    }
   ],
   "source": [
    "mapper_registry.metadata"
   ]
  },
  {
   "cell_type": "markdown",
   "metadata": {
    "pycharm": {
     "name": "#%% md\n"
    }
   },
   "source": [
    "Вместо того, чтобы объявлять объекты *Table* напрямую, мы теперь будем объявлять их косвенно через директивы, применяемые к нашим отображаемым классам. В наиболее распространенном подходе каждый отображаемый класс происходит от общего базового класса, известного как **декларативная база**. Получим новую декларативную базу из реестра с помощью метода `register.generate_base()`:\n",
    "\n",
    "```\n",
    "Base = mapper_registry.generate_base()\n",
    "```\n",
    "\n",
    "Совет<br>\n",
    "Шаги по созданию реестра и класса декларативной базы могут быть объединены с помощью известрной функции *declarative_base()*."
   ]
  },
  {
   "cell_type": "code",
   "execution_count": 21,
   "metadata": {
    "pycharm": {
     "name": "#%%\n"
    }
   },
   "outputs": [],
   "source": [
    "from sqlalchemy.orm import declarative_base\n",
    "Base = declarative_base()"
   ]
  },
  {
   "cell_type": "markdown",
   "metadata": {
    "pycharm": {
     "name": "#%% md\n"
    }
   },
   "source": [
    "<p style=\"font-size:150%\">Объявление сопоставленных классов</p>\n",
    "\n",
    "Приведенный выше базовый объект — это класс Python, который будет служить базовым для классов ORM, которые мы объявляем. Теперь мы можем определить классы ORM для таблиц пользователей и адресов в терминах новых классов *User* и *Address*:"
   ]
  },
  {
   "cell_type": "code",
   "execution_count": 22,
   "metadata": {
    "pycharm": {
     "name": "#%%\n"
    }
   },
   "outputs": [],
   "source": [
    "from sqlalchemy import Table, Column, Integer, String, ForeignKey\n",
    "from sqlalchemy.orm import relationship\n",
    "class User(Base):\n",
    "    __tablename__ = 'user_account'\n",
    "    id = Column(Integer, primary_key=True)\n",
    "    name = Column(String(30))\n",
    "    fullname = Column(String)\n",
    "    addresses = relationship(\"Address\", back_populates=\"user\")\n",
    "    def __repr__(self):\n",
    "        return f\"User(id={self.id!r}, name={self.name!r}, fullname={self.fullname!r})\"\n",
    "\n",
    "class Address(Base):\n",
    "    __tablename__ = 'address'\n",
    "    id = Column(Integer, primary_key=True)\n",
    "    email_address = Column(String, nullable=False)\n",
    "    user_id = Column(Integer, ForeignKey('user_account.id'))\n",
    "    user = relationship(\"User\", back_populates=\"addresses\")\n",
    "    def __repr__(self):\n",
    "        return f\"Address(id={self.id!r}, email_address={self.email_address!r})\""
   ]
  },
  {
   "cell_type": "markdown",
   "metadata": {
    "pycharm": {
     "name": "#%% md\n"
    }
   },
   "source": [
    "Вышеупомянутые два класса теперь являются нашими сопоставленными классами и доступны для использования в операциях запросов, которые будут описаны позже. Но они также включают в себя объекты Table, которые были сгенерированы как часть процесса декларативного сопоставления и эквивалентны тем, которые мы объявили непосредственно в предыдущем разделе Core. Мы можем увидеть эти объекты Table из декларативного сопоставленного класса, используя атрибут `.__table__`:"
   ]
  },
  {
   "cell_type": "code",
   "execution_count": 23,
   "metadata": {
    "pycharm": {
     "name": "#%%\n"
    }
   },
   "outputs": [
    {
     "data": {
      "text/plain": [
       "Table('user_account', MetaData(), Column('id', Integer(), table=<user_account>, primary_key=True, nullable=False), Column('name', String(length=30), table=<user_account>), Column('fullname', String(), table=<user_account>), schema=None)"
      ]
     },
     "execution_count": 23,
     "metadata": {},
     "output_type": "execute_result"
    }
   ],
   "source": [
    "User.__table__"
   ]
  },
  {
   "cell_type": "markdown",
   "metadata": {
    "pycharm": {
     "name": "#%% md\n"
    }
   },
   "source": [
    "Объект *Table* был сгенерирован в результате декларативного процесса на основе атрибута `.__tablename__`, определенного для каждого из наших классов, а также посредством использования объектов *Column*, назначенных атрибутам внутри классов. Эти объекты *Column* обычно объявляются без явного поля «имя» внутри конструктора, так как декларативный процесс присвоит имя автоматически на основе имени используемого атрибута.\n",
    "\n",
    "<p style=\"font-size:120%\">Другие сведения о сопоставленном классе</p>\n",
    "\n",
    "Обратим внимание на следующие атрибуты:\n",
    "\n",
    "Классы имеют автоматически сгенерированный метод `__init__()`, которые позволяют осуществлять параметризованное построение объектов. Мы можем также создать собственный метод `__init__()`.  `__init__()` позволяет нам создавать объекты и адреса, передавая имена атрибутов, большинство из которых связаны непосредственно с объектами *Column*, как имена параметров:"
   ]
  },
  {
   "cell_type": "code",
   "execution_count": 24,
   "metadata": {
    "pycharm": {
     "name": "#%%\n"
    }
   },
   "outputs": [],
   "source": [
    "sandy = User(name=\"sandy\", fullname=\"Sandy Cheeks\")"
   ]
  },
  {
   "cell_type": "markdown",
   "metadata": {
    "pycharm": {
     "name": "#%% md\n"
    }
   },
   "source": [
    "метод `__repr__()` необязателен и предназначен лишь для того, чтобы наши пользовательские классы имели описательное строковое представление:"
   ]
  },
  {
   "cell_type": "code",
   "execution_count": 25,
   "metadata": {
    "pycharm": {
     "name": "#%%\n"
    }
   },
   "outputs": [
    {
     "data": {
      "text/plain": [
       "User(id=None, name='sandy', fullname='Sandy Cheeks')"
      ]
     },
     "execution_count": 25,
     "metadata": {},
     "output_type": "execute_result"
    }
   ],
   "source": [
    "sandy"
   ]
  },
  {
   "cell_type": "markdown",
   "metadata": {
    "pycharm": {
     "name": "#%% md\n"
    }
   },
   "source": [
    "Отметим, что атрибут *id* автоматически возвращает *None*, а не вызывает *AttributeError*, как этого можно было бы ожидать в Python.\n",
    "\n",
    "Мы также включили двунаправленное отношение — это еще одна полностью необязательная конструкция,  называемая *relationship()* для обоих классов, которая указывает ORM, что классы *User* и *Address* ссылаются друг на друга в соотношении один ко многим.\n",
    "\n",
    "<p style=\"font-size:150%\">Отправка DDL в базу данных</p>\n",
    "\n",
    "Выполнение команды DDL с сопоставленными классами ORM ничем не отличается от аналогичного действия с помощью интерейса Core. Если бы мы хотели выполнить команды DDL для объектов *Table*, которые мы создали как часть наших декларативно сопоставленных классов, мы по-прежнему могли бы использовать `MetaData.create_all()`.\n",
    "\n",
    "В нашем случае мы уже создали в базе данных таблицы пользователей и адресов. Если бы мы этого еще не сделали, мы могли бы свободно использовать метаданные, связанные с нашим реестром, и декларативный базовый класс ORM, чтобы сделать это, используя `MetaData.create_all()`:\n",
    "\n",
    "```\n",
    "# выполнение команды CREATE statements с конкретным реестром ORM\n",
    "mapper_registry.metadata.create_all(engine)\n",
    "Base.metadata.create_all(engine)\n",
    "```"
   ]
  },
  {
   "cell_type": "markdown",
   "metadata": {
    "pycharm": {
     "name": "#%% md\n"
    }
   },
   "source": [
    "<p style=\"font-size:150%\">Совместное использование интерфейсов Core и ORM Declarative</p>\n",
    "\n",
    "В качестве альтернативного подхода к процессу сопоставления, показанному ранее в разделе «Объявление сопоставленных классов», мы также можем использовать объекты таблиц, которые мы создали непосредственно в разделе «Создание метаданных таблиц», в сочетании с декларативными сопоставленными классами из сгенерированного `declarative_base()` базового класса.\n",
    "\n",
    "Такой подход называют гибридным, и он состоит в прямом назначении атрибута `.__table__`, а не в декларативном процессе:\n",
    "\n",
    "```\n",
    "mapper_registry = registry()\n",
    "Base = mapper_registry.generate_base()\n",
    "\n",
    "class User(Base):\n",
    "    __table__ = user_table\n",
    "\n",
    "    addresses = relationship(\"Address\", back_populates=\"user\")\n",
    "\n",
    "    def __repr__(self):\n",
    "        return f\"User({self.name!r}, {self.fullname!r})\"\n",
    "\n",
    "class Address(Base):\n",
    "    __table__ = address_table\n",
    "\n",
    "    user = relationship(\"User\", back_populates=\"addresses\")\n",
    "\n",
    "    def __repr__(self):\n",
    "        return f\"Address({self.email_address!r})\"\n",
    "```\n",
    "\n",
    "Эти два класса эквивалентны классам, созданным в прдыдущем примере раздела \"Объявление сопоставленных классов\"."
   ]
  },
  {
   "cell_type": "markdown",
   "metadata": {
    "pycharm": {
     "name": "#%% md\n"
    }
   },
   "source": [
    "<p style=\"font-size:150%\">Отображение таблиц</p>\n",
    "\n",
    "Отображение таблицы относится к процессу чтения текущего состояния базы данных. В предыдущих разделах мы объявляли табличные объекты в Python, а затем отправляли команды DDL в базу данных. Процесс отображения делает это в обратном порядке.\n",
    "\n",
    "В качестве примера отражения создадим новый объект таблицы, отображающий таблицу *some_table*, которую мы создали вручную в более ранних разделах этого документа. Используем конструктор таблицы, укажем имя таблицы и объект метаданных, к которым она будет принадлежать. Затем, вместо того, чтобы создавать столбцы и ограничения, передадим в конструктор целевой движок с помощью параметра `Table.autoload_with`:"
   ]
  },
  {
   "cell_type": "code",
   "execution_count": 26,
   "metadata": {
    "pycharm": {
     "name": "#%%\n"
    }
   },
   "outputs": [
    {
     "name": "stdout",
     "output_type": "stream",
     "text": [
      "2022-05-05 15:17:29,251 INFO sqlalchemy.engine.Engine BEGIN (implicit)\n",
      "2022-05-05 15:17:29,253 INFO sqlalchemy.engine.Engine PRAGMA main.table_xinfo(\"some_table\")\n",
      "2022-05-05 15:17:29,255 INFO sqlalchemy.engine.Engine [raw sql] ()\n",
      "2022-05-05 15:17:29,259 INFO sqlalchemy.engine.Engine SELECT sql FROM  (SELECT * FROM sqlite_master UNION ALL   SELECT * FROM sqlite_temp_master) WHERE name = ? AND type = 'table'\n",
      "2022-05-05 15:17:29,259 INFO sqlalchemy.engine.Engine [raw sql] ('some_table',)\n",
      "2022-05-05 15:17:29,267 INFO sqlalchemy.engine.Engine PRAGMA main.foreign_key_list(\"some_table\")\n",
      "2022-05-05 15:17:29,267 INFO sqlalchemy.engine.Engine [raw sql] ()\n",
      "2022-05-05 15:17:29,275 INFO sqlalchemy.engine.Engine PRAGMA temp.foreign_key_list(\"some_table\")\n",
      "2022-05-05 15:17:29,279 INFO sqlalchemy.engine.Engine [raw sql] ()\n",
      "2022-05-05 15:17:29,281 INFO sqlalchemy.engine.Engine SELECT sql FROM  (SELECT * FROM sqlite_master UNION ALL   SELECT * FROM sqlite_temp_master) WHERE name = ? AND type = 'table'\n",
      "2022-05-05 15:17:29,282 INFO sqlalchemy.engine.Engine [raw sql] ('some_table',)\n",
      "2022-05-05 15:17:29,287 INFO sqlalchemy.engine.Engine PRAGMA main.index_list(\"some_table\")\n",
      "2022-05-05 15:17:29,288 INFO sqlalchemy.engine.Engine [raw sql] ()\n",
      "2022-05-05 15:17:29,294 INFO sqlalchemy.engine.Engine PRAGMA temp.index_list(\"some_table\")\n",
      "2022-05-05 15:17:29,298 INFO sqlalchemy.engine.Engine [raw sql] ()\n",
      "2022-05-05 15:17:29,299 INFO sqlalchemy.engine.Engine PRAGMA main.index_list(\"some_table\")\n",
      "2022-05-05 15:17:29,301 INFO sqlalchemy.engine.Engine [raw sql] ()\n",
      "2022-05-05 15:17:29,303 INFO sqlalchemy.engine.Engine PRAGMA temp.index_list(\"some_table\")\n",
      "2022-05-05 15:17:29,304 INFO sqlalchemy.engine.Engine [raw sql] ()\n",
      "2022-05-05 15:17:29,307 INFO sqlalchemy.engine.Engine SELECT sql FROM  (SELECT * FROM sqlite_master UNION ALL   SELECT * FROM sqlite_temp_master) WHERE name = ? AND type = 'table'\n",
      "2022-05-05 15:17:29,309 INFO sqlalchemy.engine.Engine [raw sql] ('some_table',)\n",
      "2022-05-05 15:17:29,317 INFO sqlalchemy.engine.Engine ROLLBACK\n"
     ]
    }
   ],
   "source": [
    "some_table = Table(\"some_table\", metadata_obj, autoload_with=engine)"
   ]
  },
  {
   "cell_type": "markdown",
   "metadata": {
    "pycharm": {
     "name": "#%% md\n"
    }
   },
   "source": [
    "По завершении этого процесса объект *some_table* содержит информацию о столбцах этой таблицы. Теперь этот объект можно использовать также как и другие таблицы, объявленные явно:"
   ]
  },
  {
   "cell_type": "code",
   "execution_count": 27,
   "metadata": {
    "pycharm": {
     "name": "#%%\n"
    }
   },
   "outputs": [
    {
     "data": {
      "text/plain": [
       "Table('some_table', MetaData(), Column('x', INTEGER(), table=<some_table>), Column('y', INTEGER(), table=<some_table>), schema=None)"
      ]
     },
     "execution_count": 27,
     "metadata": {},
     "output_type": "execute_result"
    }
   ],
   "source": [
    "some_table"
   ]
  },
  {
   "cell_type": "markdown",
   "metadata": {
    "pycharm": {
     "name": "#%% md\n"
    }
   },
   "source": [
    "Более подробно об отображении таблиц в <a href=\"https://docs.sqlalchemy.org/en/14/core/reflection.html\">документации</a>.\n",
    "\n",
    "[К оглавлению](#Home)\n",
    "\n",
    "<a id=4></a>\n",
    "\n",
    "# 4. Работа с данными: INSERT, UPDATE, DELETE, SELECT\n",
    "\n",
    "<p style=\"font-size:150%; font-weight:bold\">4.1. Вставка с помощью Core</p>\n",
    "\n",
    "Для вставки строк с помощью интерфейса Core используем функцию *insert()*."
   ]
  },
  {
   "cell_type": "code",
   "execution_count": 28,
   "metadata": {
    "pycharm": {
     "name": "#%%\n"
    }
   },
   "outputs": [],
   "source": [
    "from sqlalchemy import insert\n",
    "stmt = insert(user_table).values(name='tcampion', fullname='Campion Thomas')"
   ]
  },
  {
   "cell_type": "markdown",
   "metadata": {
    "pycharm": {
     "name": "#%% md\n"
    }
   },
   "source": [
    "Это SQL-выражение можно представить в текстовом виде:"
   ]
  },
  {
   "cell_type": "code",
   "execution_count": 29,
   "metadata": {
    "pycharm": {
     "name": "#%%\n"
    }
   },
   "outputs": [
    {
     "name": "stdout",
     "output_type": "stream",
     "text": [
      "INSERT INTO user_account (name, fullname) VALUES (:name, :fullname)\n"
     ]
    }
   ],
   "source": [
    "print(stmt)"
   ]
  },
  {
   "cell_type": "markdown",
   "metadata": {
    "pycharm": {
     "name": "#%% md\n"
    }
   },
   "source": [
    "Метод <a href=\"https://docs.sqlalchemy.org/en/14/core/foundation.html#sqlalchemy.sql.expression.ClauseElement.compile\">ClauseElement.compile()</a> возвращает компилированный объект. Если применить его к объекту SQL-выражения, получим"
   ]
  },
  {
   "cell_type": "code",
   "execution_count": 30,
   "metadata": {
    "pycharm": {
     "name": "#%%\n"
    }
   },
   "outputs": [
    {
     "data": {
      "text/plain": [
       "<sqlalchemy.sql.compiler.StrSQLCompiler at 0x24ea753c508>"
      ]
     },
     "execution_count": 30,
     "metadata": {},
     "output_type": "execute_result"
    }
   ],
   "source": [
    "stmt.compile()"
   ]
  },
  {
   "cell_type": "markdown",
   "metadata": {
    "pycharm": {
     "name": "#%% md\n"
    }
   },
   "source": [
    "Функция *str()* возвращает текстовое представление объекта."
   ]
  },
  {
   "cell_type": "code",
   "execution_count": 31,
   "metadata": {
    "pycharm": {
     "name": "#%%\n"
    }
   },
   "outputs": [
    {
     "data": {
      "text/plain": [
       "'INSERT INTO user_account (name, fullname) VALUES (:name, :fullname)'"
      ]
     },
     "execution_count": 31,
     "metadata": {},
     "output_type": "execute_result"
    }
   ],
   "source": [
    "str(stmt.compile())"
   ]
  },
  {
   "cell_type": "markdown",
   "metadata": {
    "pycharm": {
     "name": "#%% md\n"
    }
   },
   "source": [
    "Свойство *params* показывает значение параметров SQL-выражения."
   ]
  },
  {
   "cell_type": "code",
   "execution_count": 32,
   "metadata": {
    "pycharm": {
     "name": "#%%\n"
    }
   },
   "outputs": [
    {
     "data": {
      "text/plain": [
       "{'name': 'tcampion', 'fullname': 'Campion Thomas'}"
      ]
     },
     "execution_count": 32,
     "metadata": {},
     "output_type": "execute_result"
    }
   ],
   "source": [
    "stmt.compile().params"
   ]
  },
  {
   "cell_type": "markdown",
   "metadata": {
    "pycharm": {
     "name": "#%% md\n"
    }
   },
   "source": [
    "Выполним SQL-выражение."
   ]
  },
  {
   "cell_type": "code",
   "execution_count": 33,
   "metadata": {
    "scrolled": true,
    "pycharm": {
     "name": "#%%\n"
    }
   },
   "outputs": [
    {
     "name": "stdout",
     "output_type": "stream",
     "text": [
      "2022-05-05 15:17:29,459 INFO sqlalchemy.engine.Engine BEGIN (implicit)\n",
      "2022-05-05 15:17:29,463 INFO sqlalchemy.engine.Engine INSERT INTO user_account (name, fullname) VALUES (?, ?)\n",
      "2022-05-05 15:17:29,466 INFO sqlalchemy.engine.Engine [generated in 0.00615s] ('tcampion', 'Campion Thomas')\n",
      "2022-05-05 15:17:29,466 INFO sqlalchemy.engine.Engine COMMIT\n"
     ]
    }
   ],
   "source": [
    "with engine.connect() as conn:\n",
    "    result = conn.execute(stmt)\n",
    "    conn.commit()"
   ]
  },
  {
   "cell_type": "markdown",
   "metadata": {
    "pycharm": {
     "name": "#%% md\n"
    }
   },
   "source": [
    "В приведенной выше простой форме оператор INSERT возвращает целочисленное значение первичного ключа, которое мы можем получить с помощью метода доступа `CursorResult.inserted_primary_key`:"
   ]
  },
  {
   "cell_type": "code",
   "execution_count": 34,
   "metadata": {
    "pycharm": {
     "name": "#%%\n"
    }
   },
   "outputs": [
    {
     "data": {
      "text/plain": [
       "(1,)"
      ]
     },
     "execution_count": 34,
     "metadata": {},
     "output_type": "execute_result"
    }
   ],
   "source": [
    "result.inserted_primary_key"
   ]
  },
  {
   "cell_type": "markdown",
   "metadata": {
    "pycharm": {
     "name": "#%% md\n"
    }
   },
   "source": [
    "Полученное значение является кортежем, так как в общем случае первичный ключ может состоять из более чем одного атрибута. Возвращаемый с помощью *inserted_primary_key* кортеж является именованным, представляет собой объект типа строки *Row*:"
   ]
  },
  {
   "cell_type": "code",
   "execution_count": 35,
   "metadata": {
    "pycharm": {
     "name": "#%%\n"
    }
   },
   "outputs": [
    {
     "name": "stdout",
     "output_type": "stream",
     "text": [
      "{'id': 1}\n"
     ]
    }
   ],
   "source": [
    "row = result.inserted_primary_key\n",
    "print(row._mapping)"
   ]
  },
  {
   "cell_type": "markdown",
   "metadata": {
    "pycharm": {
     "name": "#%% md\n"
    }
   },
   "source": [
    "В приведенном выше примере использовался метод `Insert.values()` для явного создания предложения VALUES инструкции SQL INSERT. На самом деле у этого метода есть несколько вариантов, которые допускают специальные формы, такие как несколько строк в одном выражении. Обычный способ использования Insert заключается в том, что предложение VALUES генерируется автоматически из параметров, переданных методу Connection.execute(). Вставим еще две строки, чтобы проиллюстрировать это:"
   ]
  },
  {
   "cell_type": "code",
   "execution_count": 36,
   "metadata": {
    "pycharm": {
     "name": "#%%\n"
    }
   },
   "outputs": [
    {
     "name": "stdout",
     "output_type": "stream",
     "text": [
      "2022-05-05 15:17:29,536 INFO sqlalchemy.engine.Engine BEGIN (implicit)\n",
      "2022-05-05 15:17:29,537 INFO sqlalchemy.engine.Engine INSERT INTO user_account (name, fullname) VALUES (?, ?)\n",
      "2022-05-05 15:17:29,541 INFO sqlalchemy.engine.Engine [generated in 0.00409s] (('nnigrino', 'Nigrino Niccolo'), ('gcaccini', 'Caccini Giulio'), ('talbinoni', 'Albinoni Thomaso'), ('fmilano', 'Da Milano Francesko'), ('gbfontana', 'Giovanni Battista'))\n",
      "2022-05-05 15:17:29,542 INFO sqlalchemy.engine.Engine COMMIT\n"
     ]
    }
   ],
   "source": [
    "with engine.connect() as conn:\n",
    "    result = conn.execute(\n",
    "        insert(user_table),\n",
    "        [\n",
    "            {\"name\": \"nnigrino\", \"fullname\": \"Nigrino Niccolo\"},\n",
    "            {\"name\": \"gcaccini\", \"fullname\": \"Caccini Giulio\"},\n",
    "            {\"name\": \"talbinoni\", \"fullname\": \"Albinoni Thomaso\"},\n",
    "            {\"name\": \"fmilano\", \"fullname\": \"Da Milano Francesko\"},\n",
    "            {\"name\": \"gbfontana\", \"fullname\": \"Giovanni Battista\"}\n",
    "        ]\n",
    "    )\n",
    "    conn.commit()"
   ]
  },
  {
   "cell_type": "markdown",
   "metadata": {
    "pycharm": {
     "name": "#%% md\n"
    }
   },
   "source": [
    "Этот код имеет форму «executemany», ранее использованную нами в подразделе «Отправка нескольких параметров» с помощью конструкции *text()*, однако, теперь нам не потребовалось создавать команду SQL в текстовом виде. Передавая словарь или список словарей в метод `Connection.execute()` в сочетании с конструкцией *Insert*, *Connection* гарантирует, что передаваемые имена столбцов будут автоматически выражены в предложении *VALUES* команды *Insert*."
   ]
  },
  {
   "cell_type": "markdown",
   "metadata": {
    "pycharm": {
     "name": "#%% md\n"
    }
   },
   "source": [
    "<p style=\"font-size:150%\">INSERT…FROM SELECT</p>\n",
    "\n",
    "Конструкция *Insert* может составлять SQL-выражение, в котором команда INSERT получает строки непосредственно из SELECT с помощью метода `Insert.from_select()`:"
   ]
  },
  {
   "cell_type": "code",
   "execution_count": 37,
   "metadata": {
    "pycharm": {
     "name": "#%%\n"
    }
   },
   "outputs": [
    {
     "name": "stdout",
     "output_type": "stream",
     "text": [
      "INSERT INTO address (user_id, email_address) SELECT user_account.id, user_account.name || :name_1 AS anon_1 \n",
      "FROM user_account\n"
     ]
    }
   ],
   "source": [
    "from sqlalchemy import select\n",
    "\n",
    "select_stmt = select(user_table.c.id, user_table.c.name + \"@aol.com\") # Получаем строки таблицы user_account\n",
    "\n",
    "# Вставляем в таблицу address\n",
    "insert_stmt = insert(address_table).from_select(\n",
    "    [\"user_id\", \"email_address\"], select_stmt\n",
    ")\n",
    "print(insert_stmt)"
   ]
  },
  {
   "cell_type": "code",
   "execution_count": 38,
   "metadata": {
    "pycharm": {
     "name": "#%%\n"
    }
   },
   "outputs": [
    {
     "name": "stdout",
     "output_type": "stream",
     "text": [
      "2022-05-05 15:17:29,579 INFO sqlalchemy.engine.Engine BEGIN (implicit)\n",
      "2022-05-05 15:17:29,580 INFO sqlalchemy.engine.Engine INSERT INTO address (user_id, email_address) SELECT user_account.id, user_account.name || ? AS anon_1 \n",
      "FROM user_account\n",
      "2022-05-05 15:17:29,582 INFO sqlalchemy.engine.Engine [generated in 0.00362s] ('@aol.com',)\n",
      "2022-05-05 15:17:29,584 INFO sqlalchemy.engine.Engine COMMIT\n"
     ]
    }
   ],
   "source": [
    "with engine.connect() as conn:\n",
    "    result = conn.execute(insert_stmt)\n",
    "    conn.commit()"
   ]
  },
  {
   "cell_type": "markdown",
   "metadata": {
    "pycharm": {
     "name": "#%% md\n"
    }
   },
   "source": [
    "<p style=\"font-size:150%\">INSERT…RETURNING</p>\n",
    "\n",
    "Предложение RETURNING для поддерживаемых серверов БД используется автоматически для извлечения последнего вставленного значения первичного ключа, а также значений по умолчанию для сервера. Однако предложение RETURNING также может быть указано явно с помощью метода `Insert.returning()`, в этом случае объект Result содержит возвращаемые значения:"
   ]
  },
  {
   "cell_type": "code",
   "execution_count": 39,
   "metadata": {
    "pycharm": {
     "name": "#%%\n"
    }
   },
   "outputs": [
    {
     "name": "stdout",
     "output_type": "stream",
     "text": [
      "INSERT INTO address (id, user_id, email_address) VALUES (:id, :user_id, :email_address) RETURNING address.id, address.email_address\n"
     ]
    }
   ],
   "source": [
    "insert_stmt = insert(address_table).returning(address_table.c.id, address_table.c.email_address)\n",
    "print(insert_stmt)"
   ]
  },
  {
   "cell_type": "markdown",
   "metadata": {
    "pycharm": {
     "name": "#%% md\n"
    }
   },
   "source": [
    "Предложение RETURNING можно комбинировать с FROM SELECT"
   ]
  },
  {
   "cell_type": "code",
   "execution_count": 40,
   "metadata": {
    "pycharm": {
     "name": "#%%\n"
    }
   },
   "outputs": [
    {
     "name": "stdout",
     "output_type": "stream",
     "text": [
      "INSERT INTO address (user_id, email_address) SELECT user_account.id, user_account.name || :name_1 AS anon_1 \n",
      "FROM user_account \n",
      "WHERE user_account.id > :id_1 RETURNING address.id, address.email_address\n"
     ]
    }
   ],
   "source": [
    "select_stmt = select(user_table.c.id, user_table.c.name + \"@mail.ru\")\n",
    "select_stmt = select_stmt.where(user_table.c.id > 3)\n",
    "\n",
    "insert_stmt = insert(address_table).from_select(\n",
    "    [\"user_id\", \"email_address\"], select_stmt\n",
    ")\n",
    "print(insert_stmt.returning(address_table.c.id, address_table.c.email_address))"
   ]
  },
  {
   "cell_type": "code",
   "execution_count": 41,
   "metadata": {
    "pycharm": {
     "name": "#%%\n"
    }
   },
   "outputs": [
    {
     "name": "stdout",
     "output_type": "stream",
     "text": [
      "2022-05-05 15:17:29,654 INFO sqlalchemy.engine.Engine BEGIN (implicit)\n",
      "2022-05-05 15:17:29,656 INFO sqlalchemy.engine.Engine INSERT INTO address (user_id, email_address) SELECT user_account.id, user_account.name || ? AS anon_1 \n",
      "FROM user_account \n",
      "WHERE user_account.id > ?\n",
      "2022-05-05 15:17:29,660 INFO sqlalchemy.engine.Engine [generated in 0.00542s] ('@mail.ru', 3)\n",
      "2022-05-05 15:17:29,663 INFO sqlalchemy.engine.Engine COMMIT\n"
     ]
    }
   ],
   "source": [
    "with engine.connect() as conn:\n",
    "    result = conn.execute(insert_stmt)\n",
    "    conn.commit()"
   ]
  },
  {
   "cell_type": "markdown",
   "metadata": {
    "pycharm": {
     "name": "#%% md\n"
    }
   },
   "source": [
    "Для более наглядной демонстрации примеров добавим некоторым пользователям адрес электронной почты в домене @yandex.ru"
   ]
  },
  {
   "cell_type": "code",
   "execution_count": 42,
   "metadata": {
    "pycharm": {
     "name": "#%%\n"
    }
   },
   "outputs": [
    {
     "name": "stdout",
     "output_type": "stream",
     "text": [
      "2022-05-05 15:17:29,681 INFO sqlalchemy.engine.Engine BEGIN (implicit)\n",
      "2022-05-05 15:17:29,682 INFO sqlalchemy.engine.Engine INSERT INTO address (user_id, email_address) SELECT user_account.id, user_account.name || ? AS anon_1 \n",
      "FROM user_account \n",
      "WHERE user_account.id > ?\n",
      "2022-05-05 15:17:29,685 INFO sqlalchemy.engine.Engine [cached since 0.03028s ago] ('@yandex.ru', 4)\n",
      "2022-05-05 15:17:29,687 INFO sqlalchemy.engine.Engine COMMIT\n"
     ]
    }
   ],
   "source": [
    "select_stmt = select(user_table.c.id, user_table.c.name + \"@yandex.ru\")\n",
    "select_stmt = select_stmt.where(user_table.c.id > 4)\n",
    "\n",
    "insert_stmt = insert(address_table).from_select(\n",
    "    [\"user_id\", \"email_address\"], select_stmt\n",
    ")\n",
    "\n",
    "with engine.connect() as conn:\n",
    "    result = conn.execute(insert_stmt)\n",
    "    conn.commit()"
   ]
  },
  {
   "cell_type": "markdown",
   "metadata": {
    "pycharm": {
     "name": "#%% md\n"
    }
   },
   "source": [
    "<p style=\"font-size:150%; font-weight:bold\">4.2. Селекция строк с помощью Core или ORM</p>\n",
    "\n",
    "И для Core, и для ORM функция *select()* генерирует конструкцию Select, которая используется для всех запросов SELECT. Передаваемый таким методам, как `Connection.execute()` в Core и `Session.execute()` в ORM, оператор SELECT выполняется в текущей транзакции, а строки результатов доступны через возвращаемый объект Result.\n",
    "\n",
    "\n",
    "<p style=\"font-size:150%\">4.2.1. Построение SQL-выражения с помощью метода select()</p>\n",
    "\n",
    "Метод *select()* позволяет создать SQL-выражение аналогично тому, как это было рассмотрено выше для функции *insert()*."
   ]
  },
  {
   "cell_type": "code",
   "execution_count": 43,
   "metadata": {
    "scrolled": true,
    "pycharm": {
     "name": "#%%\n"
    }
   },
   "outputs": [
    {
     "name": "stdout",
     "output_type": "stream",
     "text": [
      "SELECT user_account.id, user_account.name, user_account.fullname \n",
      "FROM user_account \n",
      "WHERE user_account.name = :name_1\n"
     ]
    }
   ],
   "source": [
    "from sqlalchemy import select\n",
    "stmt = select(user_table).where(user_table.c.name == 'tcampion')\n",
    "print(stmt)"
   ]
  },
  {
   "cell_type": "markdown",
   "metadata": {
    "pycharm": {
     "name": "#%% md\n"
    }
   },
   "source": [
    "Для выполнения SQL-выражения мы передаём его в исполняемый метод. Выражение с использованием команды SELECT возвращает строки, по которым можно совершить итерацию."
   ]
  },
  {
   "cell_type": "code",
   "execution_count": 44,
   "metadata": {
    "pycharm": {
     "name": "#%%\n"
    }
   },
   "outputs": [
    {
     "name": "stdout",
     "output_type": "stream",
     "text": [
      "2022-05-05 15:17:29,719 INFO sqlalchemy.engine.Engine BEGIN (implicit)\n",
      "2022-05-05 15:17:29,720 INFO sqlalchemy.engine.Engine SELECT user_account.id, user_account.name, user_account.fullname \n",
      "FROM user_account \n",
      "WHERE user_account.name = ?\n",
      "2022-05-05 15:17:29,723 INFO sqlalchemy.engine.Engine [generated in 0.00390s] ('tcampion',)\n",
      "(1, 'tcampion', 'Campion Thomas')\n",
      "2022-05-05 15:17:29,727 INFO sqlalchemy.engine.Engine ROLLBACK\n"
     ]
    }
   ],
   "source": [
    "with engine.connect() as conn:\n",
    "    for row in conn.execute(stmt):\n",
    "        print(row)"
   ]
  },
  {
   "cell_type": "markdown",
   "metadata": {
    "pycharm": {
     "name": "#%% md\n"
    }
   },
   "source": [
    "При использовании ORM мы передаём сформированное с помощью *select()* SQL-выражение методу `Session.execute()` в сеансе. Используя этот подход, мы продолжаем получать объекты *Row* из результата, однако эти строки теперь могут включать экземпляры класса User как отдельные элементы в каждой строке:"
   ]
  },
  {
   "cell_type": "code",
   "execution_count": 45,
   "metadata": {
    "scrolled": true,
    "pycharm": {
     "name": "#%%\n"
    }
   },
   "outputs": [
    {
     "name": "stdout",
     "output_type": "stream",
     "text": [
      "2022-05-05 15:17:29,750 INFO sqlalchemy.engine.Engine BEGIN (implicit)\n",
      "2022-05-05 15:17:29,754 INFO sqlalchemy.engine.Engine SELECT user_account.id, user_account.name, user_account.fullname \n",
      "FROM user_account \n",
      "WHERE user_account.name = ?\n",
      "2022-05-05 15:17:29,754 INFO sqlalchemy.engine.Engine [generated in 0.00222s] ('tcampion',)\n",
      "(User(id=1, name='tcampion', fullname='Campion Thomas'),)\n",
      "2022-05-05 15:17:29,766 INFO sqlalchemy.engine.Engine ROLLBACK\n"
     ]
    }
   ],
   "source": [
    "stmt = select(User).where(User.name == 'tcampion')\n",
    "with Session(engine) as session:\n",
    "    for row in session.execute(stmt):\n",
    "        print(row)"
   ]
  },
  {
   "cell_type": "markdown",
   "metadata": {
    "pycharm": {
     "name": "#%% md\n"
    }
   },
   "source": [
    "Распечатаем всех пользователей и все адреса пользователей."
   ]
  },
  {
   "cell_type": "code",
   "execution_count": 46,
   "metadata": {
    "pycharm": {
     "name": "#%%\n"
    }
   },
   "outputs": [
    {
     "name": "stdout",
     "output_type": "stream",
     "text": [
      "2022-05-05 15:17:29,791 INFO sqlalchemy.engine.Engine BEGIN (implicit)\n",
      "2022-05-05 15:17:29,797 INFO sqlalchemy.engine.Engine SELECT user_account.id, user_account.name, user_account.fullname \n",
      "FROM user_account\n",
      "2022-05-05 15:17:29,800 INFO sqlalchemy.engine.Engine [generated in 0.00214s] ()\n",
      "id:1, name:tcampion, fullname:Campion Thomas\n",
      "id:2, name:nnigrino, fullname:Nigrino Niccolo\n",
      "id:3, name:gcaccini, fullname:Caccini Giulio\n",
      "id:4, name:talbinoni, fullname:Albinoni Thomaso\n",
      "id:5, name:fmilano, fullname:Da Milano Francesko\n",
      "id:6, name:gbfontana, fullname:Giovanni Battista\n",
      "2022-05-05 15:17:29,807 INFO sqlalchemy.engine.Engine ROLLBACK\n"
     ]
    }
   ],
   "source": [
    "stmt = select(User.id, User.name, User.fullname)\n",
    "with Session(engine) as session:\n",
    "    for row in session.execute(stmt):\n",
    "        print(f\"id:{row.id}, name:{row.name}, fullname:{row.fullname}\")"
   ]
  },
  {
   "cell_type": "code",
   "execution_count": 47,
   "metadata": {
    "pycharm": {
     "name": "#%%\n"
    }
   },
   "outputs": [
    {
     "name": "stdout",
     "output_type": "stream",
     "text": [
      "2022-05-05 15:17:29,830 INFO sqlalchemy.engine.Engine BEGIN (implicit)\n",
      "2022-05-05 15:17:29,830 INFO sqlalchemy.engine.Engine SELECT address.id, address.user_id, address.email_address \n",
      "FROM address\n",
      "2022-05-05 15:17:29,839 INFO sqlalchemy.engine.Engine [generated in 0.00303s] ()\n",
      "id:1, user:1, email:tcampion@aol.com\n",
      "id:2, user:2, email:nnigrino@aol.com\n",
      "id:3, user:3, email:gcaccini@aol.com\n",
      "id:4, user:4, email:talbinoni@aol.com\n",
      "id:5, user:5, email:fmilano@aol.com\n",
      "id:6, user:6, email:gbfontana@aol.com\n",
      "id:7, user:4, email:talbinoni@mail.ru\n",
      "id:8, user:5, email:fmilano@mail.ru\n",
      "id:9, user:6, email:gbfontana@mail.ru\n",
      "id:10, user:5, email:fmilano@yandex.ru\n",
      "id:11, user:6, email:gbfontana@yandex.ru\n",
      "2022-05-05 15:17:29,848 INFO sqlalchemy.engine.Engine ROLLBACK\n"
     ]
    }
   ],
   "source": [
    "stmt = select(Address.id, Address.user_id, Address.email_address)\n",
    "with Session(engine) as session:\n",
    "    for row in session.execute(stmt):\n",
    "        print(f\"id:{row.id}, user:{row.user_id}, email:{row.email_address}\")"
   ]
  },
  {
   "cell_type": "markdown",
   "metadata": {
    "pycharm": {
     "name": "#%% md\n"
    }
   },
   "source": [
    "<p style=\"font-size:150%\">4.2.2. Определение предложений COLUMNS и FROM</p>\n",
    "\n",
    "Функция *select()* принимает позиционные элементы, представляющие любое количество выражений *Column* и/или *Table*, а также широкий спектр совместимых объектов, которые преобразуются в список SQL-выражений. Эти элементы также служат  для создания предложения FROM, которое неявно выводится из переданных столбцов и табличных выражений."
   ]
  },
  {
   "cell_type": "code",
   "execution_count": 48,
   "metadata": {
    "pycharm": {
     "name": "#%%\n"
    }
   },
   "outputs": [
    {
     "name": "stdout",
     "output_type": "stream",
     "text": [
      "SELECT user_account.id, user_account.name, user_account.fullname \n",
      "FROM user_account\n"
     ]
    }
   ],
   "source": [
    "print(select(user_table))"
   ]
  },
  {
   "cell_type": "markdown",
   "metadata": {
    "pycharm": {
     "name": "#%% md\n"
    }
   },
   "source": [
    "Чтобы выбрать данные из отдельных столбцов с использованием подхода *Core*, доступ к объектам столбцов осуществляется с помощью `Table.c`. Предложение FROM будет сформировано как набор всех объектов *Table*."
   ]
  },
  {
   "cell_type": "code",
   "execution_count": 49,
   "metadata": {
    "scrolled": true,
    "pycharm": {
     "name": "#%%\n"
    }
   },
   "outputs": [
    {
     "name": "stdout",
     "output_type": "stream",
     "text": [
      "SELECT user_account.name, user_account.fullname \n",
      "FROM user_account\n"
     ]
    }
   ],
   "source": [
    "print(select(user_table.c.name, user_table.c.fullname))"
   ]
  },
  {
   "cell_type": "markdown",
   "metadata": {
    "pycharm": {
     "name": "#%% md\n"
    }
   },
   "source": [
    "<p style=\"font-size:125%\">4.2.2.1. Выбор сущностей и столбцов с помощью ORM</p>\n",
    "\n",
    "Выберем атрибуты класса *User*."
   ]
  },
  {
   "cell_type": "code",
   "execution_count": 50,
   "metadata": {
    "scrolled": true,
    "pycharm": {
     "name": "#%%\n"
    }
   },
   "outputs": [
    {
     "name": "stdout",
     "output_type": "stream",
     "text": [
      "SELECT user_account.id, user_account.name, user_account.fullname \n",
      "FROM user_account\n"
     ]
    }
   ],
   "source": [
    "print(select(User))"
   ]
  },
  {
   "cell_type": "markdown",
   "metadata": {
    "pycharm": {
     "name": "#%% md\n"
    }
   },
   "source": [
    "Далее, если выполнить это выражение с помощью метода `session.execute()`, мы получим объекты строк как \n",
    "экземпляры класса *User*."
   ]
  },
  {
   "cell_type": "code",
   "execution_count": 51,
   "metadata": {
    "pycharm": {
     "name": "#%%\n"
    }
   },
   "outputs": [
    {
     "name": "stdout",
     "output_type": "stream",
     "text": [
      "2022-05-05 15:17:29,934 INFO sqlalchemy.engine.Engine BEGIN (implicit)\n",
      "2022-05-05 15:17:29,942 INFO sqlalchemy.engine.Engine SELECT user_account.id, user_account.name, user_account.fullname \n",
      "FROM user_account\n",
      "2022-05-05 15:17:29,942 INFO sqlalchemy.engine.Engine [generated in 0.00293s] ()\n"
     ]
    },
    {
     "data": {
      "text/plain": [
       "(User(id=1, name='tcampion', fullname='Campion Thomas'),)"
      ]
     },
     "execution_count": 51,
     "metadata": {},
     "output_type": "execute_result"
    }
   ],
   "source": [
    "row = session.execute(select(User)).first()\n",
    "row"
   ]
  },
  {
   "cell_type": "markdown",
   "metadata": {
    "pycharm": {
     "name": "#%% md\n"
    }
   },
   "source": [
    "Мы получили одну строку таблицы пользователей. К результату можно обратиться по индексу."
   ]
  },
  {
   "cell_type": "code",
   "execution_count": 52,
   "metadata": {
    "pycharm": {
     "name": "#%%\n"
    }
   },
   "outputs": [
    {
     "data": {
      "text/plain": [
       "User(id=1, name='tcampion', fullname='Campion Thomas')"
      ]
     },
     "execution_count": 52,
     "metadata": {},
     "output_type": "execute_result"
    }
   ],
   "source": [
    "row[0]"
   ]
  },
  {
   "cell_type": "markdown",
   "metadata": {
    "pycharm": {
     "name": "#%% md\n"
    }
   },
   "source": [
    "Вместо выбора всех столбцов, мы можем указать отдельные атрибуты класса."
   ]
  },
  {
   "cell_type": "code",
   "execution_count": 53,
   "metadata": {
    "pycharm": {
     "name": "#%%\n"
    }
   },
   "outputs": [
    {
     "name": "stdout",
     "output_type": "stream",
     "text": [
      "2022-05-05 15:17:30,013 INFO sqlalchemy.engine.Engine SELECT user_account.name, user_account.fullname \n",
      "FROM user_account\n",
      "2022-05-05 15:17:30,015 INFO sqlalchemy.engine.Engine [generated in 0.00194s] ()\n"
     ]
    },
    {
     "data": {
      "text/plain": [
       "('tcampion', 'Campion Thomas')"
      ]
     },
     "execution_count": 53,
     "metadata": {},
     "output_type": "execute_result"
    }
   ],
   "source": [
    "row = session.execute(select(User.name, User.fullname)).first()\n",
    "row"
   ]
  },
  {
   "cell_type": "markdown",
   "metadata": {
    "pycharm": {
     "name": "#%% md\n"
    }
   },
   "source": [
    "Покажем применение этой техники для выбора атрибутов из двух таблиц - пользователей и адресов."
   ]
  },
  {
   "cell_type": "code",
   "execution_count": 54,
   "metadata": {
    "pycharm": {
     "name": "#%%\n"
    }
   },
   "outputs": [
    {
     "name": "stdout",
     "output_type": "stream",
     "text": [
      "2022-05-05 15:17:30,041 INFO sqlalchemy.engine.Engine SELECT user_account.name, address.id, address.email_address, address.user_id \n",
      "FROM user_account, address \n",
      "WHERE user_account.id = address.user_id ORDER BY address.id\n",
      "2022-05-05 15:17:30,049 INFO sqlalchemy.engine.Engine [generated in 0.00280s] ()\n"
     ]
    },
    {
     "data": {
      "text/plain": [
       "[('tcampion', Address(id=1, email_address='tcampion@aol.com')),\n",
       " ('nnigrino', Address(id=2, email_address='nnigrino@aol.com')),\n",
       " ('gcaccini', Address(id=3, email_address='gcaccini@aol.com')),\n",
       " ('talbinoni', Address(id=4, email_address='talbinoni@aol.com')),\n",
       " ('fmilano', Address(id=5, email_address='fmilano@aol.com')),\n",
       " ('gbfontana', Address(id=6, email_address='gbfontana@aol.com')),\n",
       " ('talbinoni', Address(id=7, email_address='talbinoni@mail.ru')),\n",
       " ('fmilano', Address(id=8, email_address='fmilano@mail.ru')),\n",
       " ('gbfontana', Address(id=9, email_address='gbfontana@mail.ru')),\n",
       " ('fmilano', Address(id=10, email_address='fmilano@yandex.ru')),\n",
       " ('gbfontana', Address(id=11, email_address='gbfontana@yandex.ru'))]"
      ]
     },
     "execution_count": 54,
     "metadata": {},
     "output_type": "execute_result"
    }
   ],
   "source": [
    "session.execute(\n",
    "    select(User.name, Address).\n",
    "    where(User.id==Address.user_id).\n",
    "    order_by(Address.id)\n",
    ").all()"
   ]
  },
  {
   "cell_type": "markdown",
   "metadata": {
    "pycharm": {
     "name": "#%% md\n"
    }
   },
   "source": [
    "<p style=\"font-size:125%\">4.2.2.2. Выбор строк с использованием метки</p>\n",
    "\n",
    "Метод `ColumnElement.label()`, а также одноименный метод, доступный для атрибутов ORM, создаёт метку столбца или SQL-выражения, позволяя ему иметь конкретное имя в результирующем отношении. В дальнейшем эту метку можно использовать в коде программы."
   ]
  },
  {
   "cell_type": "code",
   "execution_count": 55,
   "metadata": {
    "scrolled": true,
    "pycharm": {
     "name": "#%%\n"
    }
   },
   "outputs": [
    {
     "name": "stdout",
     "output_type": "stream",
     "text": [
      "2022-05-05 15:17:30,082 INFO sqlalchemy.engine.Engine BEGIN (implicit)\n",
      "2022-05-05 15:17:30,091 INFO sqlalchemy.engine.Engine SELECT ? || user_account.name || ? AS username, ? || user_account.fullname AS fullname \n",
      "FROM user_account ORDER BY user_account.name\n",
      "2022-05-05 15:17:30,097 INFO sqlalchemy.engine.Engine [generated in 0.00936s] ('Username: ', '\\t', 'UserFullName: ')\n",
      "Username: fmilano\t UserFullName: Da Milano Francesko\n",
      "Username: gbfontana\t UserFullName: Giovanni Battista\n",
      "Username: gcaccini\t UserFullName: Caccini Giulio\n",
      "Username: nnigrino\t UserFullName: Nigrino Niccolo\n",
      "Username: talbinoni\t UserFullName: Albinoni Thomaso\n",
      "Username: tcampion\t UserFullName: Campion Thomas\n",
      "2022-05-05 15:17:30,101 INFO sqlalchemy.engine.Engine ROLLBACK\n"
     ]
    }
   ],
   "source": [
    "from sqlalchemy import func, cast\n",
    "stmt = (\n",
    "    select(\n",
    "        (('Username: ' + user_table.c.name + '\\t').label('username'), \\\n",
    "         ('UserFullName: '+user_table.c.fullname).label('fullname')),\n",
    "    ).order_by(user_table.c.name)\n",
    ")\n",
    "\n",
    "with engine.connect() as conn:\n",
    "    for row in conn.execute(stmt):\n",
    "        print(row.username, row.fullname)"
   ]
  },
  {
   "cell_type": "raw",
   "metadata": {
    "pycharm": {
     "name": "#%% raw\n"
    }
   },
   "source": [
    "См. также: <a href=\"https://docs.sqlalchemy.org/en/14/tutorial/data_select.html#tutorial-order-by-label\">Сортировка и группировка с помощью меток</a>\n",
    "\n",
    "<p style=\"font-size:125%\">4.2.2.3. Селекция с использованием текстовых констант</p>\n",
    "\n",
    "Когда мы создаём объект селекции *Select* с помощью функции *select()*, мы обычно передаём ей последовательность объектов таблиц и столбцов, определенных в метаданных. В ходе селекции с помощью объектно-ориентированного подхода ORM мы передаём сопоставленные атрибуты, преставляющие столбцы. Однако, некоторые части SQL-выражения, такие как строковые константы, удобнее формировать в текстовом виде. Для этого можно использовать функцию *text()*, введенную ранее. Следующий пример иллюстрирует использование текстовой константы в запросе."
   ]
  },
  {
   "cell_type": "code",
   "execution_count": 56,
   "metadata": {
    "scrolled": true,
    "pycharm": {
     "name": "#%%\n"
    }
   },
   "outputs": [
    {
     "name": "stdout",
     "output_type": "stream",
     "text": [
      "2022-05-05 15:17:30,124 INFO sqlalchemy.engine.Engine BEGIN (implicit)\n",
      "2022-05-05 15:17:30,125 INFO sqlalchemy.engine.Engine SELECT 'текстовая константа', user_account.name \n",
      "FROM user_account \n",
      "WHERE user_account.id < ? ORDER BY user_account.name\n",
      "2022-05-05 15:17:30,128 INFO sqlalchemy.engine.Engine [generated in 0.00369s] (3,)\n",
      "[('текстовая константа', 'nnigrino'), ('текстовая константа', 'tcampion')]\n",
      "2022-05-05 15:17:30,132 INFO sqlalchemy.engine.Engine ROLLBACK\n"
     ]
    }
   ],
   "source": [
    "from sqlalchemy import text\n",
    "stmt = (\n",
    "    select(\n",
    "        text(\"'текстовая константа'\"), user_table.c.name\n",
    "    ).where(user_table.c.id < 3).order_by(user_table.c.name)\n",
    ")\n",
    "with engine.connect() as conn:\n",
    "    print(conn.execute(stmt).all())"
   ]
  },
  {
   "cell_type": "markdown",
   "metadata": {
    "pycharm": {
     "name": "#%% md\n"
    }
   },
   "source": [
    "Конструкция *text()* может использоваться для буквального ввода команд SQL. Мы можем получить больше функциональности из нашего текстового фрагмента, используя конструкцию *literal_column()*. Этот объект похож на *text()*, за исключением того, что вместо произвольного текста он явно представляет один «столбец», который затем может быть помечен и на него можно ссылаться в подзапросах и других выражениях:"
   ]
  },
  {
   "cell_type": "code",
   "execution_count": 57,
   "metadata": {
    "pycharm": {
     "name": "#%%\n"
    }
   },
   "outputs": [
    {
     "name": "stdout",
     "output_type": "stream",
     "text": [
      "2022-05-05 15:17:30,164 INFO sqlalchemy.engine.Engine BEGIN (implicit)\n",
      "2022-05-05 15:17:30,166 INFO sqlalchemy.engine.Engine SELECT 'некоторый текст' AS p, user_account.name AS q \n",
      "FROM user_account ORDER BY user_account.name\n",
      "2022-05-05 15:17:30,167 INFO sqlalchemy.engine.Engine [generated in 0.00505s] ()\n",
      "некоторый текст, fmilano\n",
      "некоторый текст, gbfontana\n",
      "некоторый текст, gcaccini\n",
      "некоторый текст, nnigrino\n",
      "некоторый текст, talbinoni\n",
      "некоторый текст, tcampion\n",
      "2022-05-05 15:17:30,175 INFO sqlalchemy.engine.Engine ROLLBACK\n"
     ]
    }
   ],
   "source": [
    "from sqlalchemy import literal_column\n",
    "stmt = (\n",
    "    select(\n",
    "        literal_column(\"'некоторый текст'\").label(\"p\"), user_table.c.name.label(\"q\")\n",
    "    ).order_by(user_table.c.name)\n",
    ")\n",
    "with engine.connect() as conn:\n",
    "    for row in conn.execute(stmt):\n",
    "        print(f\"{row.p}, {row.q}\")"
   ]
  },
  {
   "cell_type": "markdown",
   "metadata": {
    "pycharm": {
     "name": "#%% md\n"
    }
   },
   "source": [
    "<p style=\"font-size:150%\">4.2.3. Предложение WHERE</p>\n",
    "\n",
    "Предложение WHERE позволяет устанавливать условие (предикат) на отбор строк отношения. Используются операторы ==, !=, <, >, >=. "
   ]
  },
  {
   "cell_type": "code",
   "execution_count": 58,
   "metadata": {
    "pycharm": {
     "name": "#%%\n"
    }
   },
   "outputs": [
    {
     "name": "stdout",
     "output_type": "stream",
     "text": [
      "SELECT user_account.id, user_account.name, user_account.fullname \n",
      "FROM user_account \n",
      "WHERE user_account.name = :name_1\n"
     ]
    }
   ],
   "source": [
    "clause_1 = (user_table.c.name == 'tcampion')\n",
    "clause_2 = (address_table.c.user_id > 10)\n",
    "\n",
    "print(select(user_table).where(clause_1))"
   ]
  },
  {
   "cell_type": "markdown",
   "metadata": {
    "pycharm": {
     "name": "#%% md\n"
    }
   },
   "source": [
    "Для добавления условий, выполняющихся одновременно, метод *where()* можно повторять неограниченное число раз."
   ]
  },
  {
   "cell_type": "code",
   "execution_count": 59,
   "metadata": {
    "pycharm": {
     "name": "#%%\n"
    }
   },
   "outputs": [
    {
     "name": "stdout",
     "output_type": "stream",
     "text": [
      "SELECT address.email_address \n",
      "FROM address, user_account \n",
      "WHERE user_account.name = :name_1 AND address.user_id = user_account.id\n"
     ]
    }
   ],
   "source": [
    "print(\n",
    "    select(address_table.c.email_address).\n",
    "    where(user_table.c.name == 'tcampion').\n",
    "    where(address_table.c.user_id == user_table.c.id)\n",
    ")"
   ]
  },
  {
   "cell_type": "markdown",
   "metadata": {
    "pycharm": {
     "name": "#%% md\n"
    }
   },
   "source": [
    "Также, один метод *where()* может содержать множество условий."
   ]
  },
  {
   "cell_type": "code",
   "execution_count": 60,
   "metadata": {
    "pycharm": {
     "name": "#%%\n"
    }
   },
   "outputs": [
    {
     "name": "stdout",
     "output_type": "stream",
     "text": [
      "SELECT address.email_address \n",
      "FROM address, user_account \n",
      "WHERE user_account.name = :name_1 AND address.user_id = user_account.id\n"
     ]
    }
   ],
   "source": [
    "print(\n",
    "    select(address_table.c.email_address).\n",
    "    where(\n",
    "         user_table.c.name == 'tcampion',\n",
    "         address_table.c.user_id == user_table.c.id\n",
    "    )\n",
    ")"
   ]
  },
  {
   "cell_type": "markdown",
   "metadata": {
    "pycharm": {
     "name": "#%% md\n"
    }
   },
   "source": [
    "Логическое сложение OR и умножение AND можно применить, если использовать <a href=\"https://docs.sqlalchemy.org/en/14/core/sqlelement.html#sqlalchemy.sql.expression\"> функции </a> *or_()* и *and_()*."
   ]
  },
  {
   "cell_type": "code",
   "execution_count": 61,
   "metadata": {
    "pycharm": {
     "name": "#%%\n"
    }
   },
   "outputs": [
    {
     "name": "stdout",
     "output_type": "stream",
     "text": [
      "SELECT address.email_address \n",
      "FROM address, user_account \n",
      "WHERE (user_account.name = :name_1 OR user_account.name = :name_2) AND address.user_id = user_account.id\n"
     ]
    }
   ],
   "source": [
    "# Получить почтовые адреса пользователей с именами vivaldin и bond.\n",
    "from sqlalchemy import and_, or_\n",
    "print(\n",
    "    select(Address.email_address).\n",
    "    where(\n",
    "        and_(\n",
    "            or_(User.name == 'tcampion', User.name == 'nnigrino'),\n",
    "            Address.user_id == User.id\n",
    "        )\n",
    "    )\n",
    ")"
   ]
  },
  {
   "cell_type": "markdown",
   "metadata": {
    "pycharm": {
     "name": "#%% md\n"
    }
   },
   "source": [
    "Для простых сравнений «на равенство» с одним объектом также есть популярный метод, известный как `Select.filter_by()`, который принимает аргументы ключевого слова, соответствующие ключам столбцов или именам атрибутов ORM."
   ]
  },
  {
   "cell_type": "code",
   "execution_count": 62,
   "metadata": {
    "pycharm": {
     "name": "#%%\n"
    }
   },
   "outputs": [
    {
     "name": "stdout",
     "output_type": "stream",
     "text": [
      "SELECT user_account.id, user_account.name, user_account.fullname \n",
      "FROM user_account \n",
      "WHERE user_account.name = :name_1 AND user_account.fullname = :fullname_1\n"
     ]
    }
   ],
   "source": [
    "print(\n",
    "    select(User).filter_by(name='tcampion', fullname='Campion Thomas')\n",
    ")"
   ]
  },
  {
   "cell_type": "markdown",
   "metadata": {
    "pycharm": {
     "name": "#%% md\n"
    }
   },
   "source": [
    "См. также: <a href=\"https://docs.sqlalchemy.org/en/14/core/operators.html\">использовнаие операторов в SQLAlchemy</a>\n",
    "\n",
    "<p style=\"font-size:150%\">4.2.4. Предложение FROM в явном виде и соединение JOIN</p>\n",
    "\n",
    "Как мы видели ранее, предложение FROM обычно выводится на основе выражений, которые мы устанавливаем в предложении столбцов, а также других элементов Select. То есть, если мы устанавливаем один столбец из определенной таблицы в предложении COLUMNS, то эта таблица помещается в предложение FROM:"
   ]
  },
  {
   "cell_type": "code",
   "execution_count": 63,
   "metadata": {
    "pycharm": {
     "name": "#%%\n"
    }
   },
   "outputs": [
    {
     "name": "stdout",
     "output_type": "stream",
     "text": [
      "SELECT user_account.name \n",
      "FROM user_account\n"
     ]
    }
   ],
   "source": [
    "print(select(user_table.c.name))"
   ]
  },
  {
   "cell_type": "markdown",
   "metadata": {
    "pycharm": {
     "name": "#%% md\n"
    }
   },
   "source": [
    "Так же происходит, когда мы отбираем данные из столбцов, принадлежащих разным таблицам."
   ]
  },
  {
   "cell_type": "code",
   "execution_count": 64,
   "metadata": {
    "pycharm": {
     "name": "#%%\n"
    }
   },
   "outputs": [
    {
     "name": "stdout",
     "output_type": "stream",
     "text": [
      "SELECT user_account.name, address.email_address \n",
      "FROM user_account, address\n"
     ]
    }
   ],
   "source": [
    "print(select(user_table.c.name, address_table.c.email_address))"
   ]
  },
  {
   "cell_type": "markdown",
   "metadata": {
    "pycharm": {
     "name": "#%% md\n"
    }
   },
   "source": [
    "Чтобы СОЕДИНИТЬ эти две таблицы вместе, мы обычно используем один из двух методов в Select. Первый — это метод `Select.join_from()`, который позволяет нам явно указать левую и правую стороны JOIN:"
   ]
  },
  {
   "cell_type": "code",
   "execution_count": 65,
   "metadata": {
    "pycharm": {
     "name": "#%%\n"
    }
   },
   "outputs": [
    {
     "name": "stdout",
     "output_type": "stream",
     "text": [
      "SELECT user_account.name, address.email_address \n",
      "FROM user_account JOIN address ON user_account.id = address.user_id\n"
     ]
    }
   ],
   "source": [
    "print(\n",
    "    select(user_table.c.name, address_table.c.email_address).\n",
    "    join_from(user_table, address_table)\n",
    ")"
   ]
  },
  {
   "cell_type": "markdown",
   "metadata": {
    "pycharm": {
     "name": "#%% md\n"
    }
   },
   "source": [
    "Другим является метод `Select.join()`, который указывает только правую часть JOIN, левая сторона выводится неявно:"
   ]
  },
  {
   "cell_type": "code",
   "execution_count": 66,
   "metadata": {
    "pycharm": {
     "name": "#%%\n"
    }
   },
   "outputs": [
    {
     "name": "stdout",
     "output_type": "stream",
     "text": [
      "SELECT user_account.name, address.email_address \n",
      "FROM user_account JOIN address ON user_account.id = address.user_id\n"
     ]
    }
   ],
   "source": [
    "print(\n",
    "    select(user_table.c.name, address_table.c.email_address).\n",
    "    join(address_table)\n",
    ")"
   ]
  },
  {
   "cell_type": "markdown",
   "metadata": {
    "pycharm": {
     "name": "#%% md\n"
    }
   },
   "source": [
    "В этих примерах условие соединения ON сформировано неявно. Однако, его можно указывать в явном виде.\n",
    "\n",
    "У нас также есть возможность явно добавлять элементы в предложение FROM. Для этого в следующем примере мы используем метод `Select.select_from()` чтобы указать первую таблицу соединения *user_account* и далее `Select.join()`."
   ]
  },
  {
   "cell_type": "code",
   "execution_count": 67,
   "metadata": {
    "pycharm": {
     "name": "#%%\n"
    }
   },
   "outputs": [
    {
     "name": "stdout",
     "output_type": "stream",
     "text": [
      "SELECT address.email_address \n",
      "FROM user_account JOIN address ON user_account.id = address.user_id\n"
     ]
    }
   ],
   "source": [
    "print(\n",
    "    select(address_table.c.email_address).\n",
    "    select_from(user_table).join(address_table)\n",
    ")"
   ]
  },
  {
   "cell_type": "markdown",
   "metadata": {
    "pycharm": {
     "name": "#%% md\n"
    }
   },
   "source": [
    "Другой пример, когда может понадобиться использование метода *select_from()* - использование функции *count()* по всем атрибутам без указания имен таблиц и атрибутов."
   ]
  },
  {
   "cell_type": "code",
   "execution_count": 68,
   "metadata": {
    "pycharm": {
     "name": "#%%\n"
    }
   },
   "outputs": [
    {
     "name": "stdout",
     "output_type": "stream",
     "text": [
      "SELECT count(:count_2) AS count_1 \n",
      "FROM user_account\n"
     ]
    }
   ],
   "source": [
    "from sqlalchemy import func\n",
    "print (\n",
    "    select(func.count('*')).select_from(user_table)\n",
    ")"
   ]
  },
  {
   "cell_type": "markdown",
   "metadata": {
    "pycharm": {
     "name": "#%% md\n"
    }
   },
   "source": [
    "Больше примеров в <a href=\"https://docs.sqlalchemy.org/en/14/orm/queryguide.html\">ORM Querying Guide</a>\n",
    "\n",
    "<p style=\"font-size:125%\">4.2.4.1. Формирование условия соединения</p>\n",
    "\n",
    "Предыдущие примеры использования соединения JOIN показали, что конструкция Select может соединять две таблицы и автоматически создавать предложение ON. Так происходило, потому что таблица *address* содержит ограничение ForeignKeyConstraint, которое обеспечивает ссылку на таблицу *user_account*.\n",
    "\n",
    "Если левая и правая стороны соединения не имеют такого ограничения или есть несколько ограничений, нам нужно указать предложение ON напрямую. В этом случае `Select.join()`, и `Select.join_from()` принимают дополнительный аргумент для предложения ON, который задается с использованием той же механики SQL-выражения, что мы видели в предложении WHERE:"
   ]
  },
  {
   "cell_type": "code",
   "execution_count": 69,
   "metadata": {
    "pycharm": {
     "name": "#%%\n"
    }
   },
   "outputs": [
    {
     "name": "stdout",
     "output_type": "stream",
     "text": [
      "SELECT address.email_address \n",
      "FROM user_account JOIN address ON user_account.id = address.user_id\n"
     ]
    }
   ],
   "source": [
    "print(\n",
    "    select(address_table.c.email_address).\n",
    "    select_from(user_table).\n",
    "    join(address_table, user_table.c.id == address_table.c.user_id)\n",
    ")"
   ]
  },
  {
   "cell_type": "markdown",
   "metadata": {
    "pycharm": {
     "name": "#%% md\n"
    }
   },
   "source": [
    "<p style=\"font-size:125%\">4.2.4.2. Внешнее и полное соединения</p>\n",
    "\n",
    "Оба метода `Select.join()` и `Select.join_from()` принимают аргументы ключевых слов `Select.join.isouter` и `Select.join.full`, которые позволяют создавать предложения левого внешнего LEFT OUTER JOIN и полного FULL OUTER JOIN соединений:"
   ]
  },
  {
   "cell_type": "code",
   "execution_count": 70,
   "metadata": {
    "pycharm": {
     "name": "#%%\n"
    }
   },
   "outputs": [
    {
     "name": "stdout",
     "output_type": "stream",
     "text": [
      "SELECT user_account.id, user_account.name, user_account.fullname \n",
      "FROM user_account LEFT OUTER JOIN address ON user_account.id = address.user_id\n",
      "SELECT user_account.id, user_account.name, user_account.fullname \n",
      "FROM user_account FULL OUTER JOIN address ON user_account.id = address.user_id\n"
     ]
    }
   ],
   "source": [
    "print(\n",
    "    select(user_table).join(address_table, isouter=True)\n",
    ")\n",
    "\n",
    "print(\n",
    "    select(user_table).join(address_table, full=True)\n",
    ")"
   ]
  },
  {
   "cell_type": "markdown",
   "metadata": {
    "pycharm": {
     "name": "#%% md\n"
    }
   },
   "source": [
    "Существуют также методы:\n",
    "\n",
    "`Select.outerjoin()`, эквивалентный использованию `.join(..., isouter=True)`;<br>\n",
    "`Select.outerjoin_from()`, эквивалентный использованию `join_from(..., isouter=True)`.\n",
    "\n",
    "<Table align=\"left\">\n",
    "    <tr><td bgcolor=#adb5bd></td>\n",
    "        <td style=\"text-align:left; font-size:10pt\">\n",
    "Примечание.\n",
    "\n",
    "SQLAlchemy не поддерживает команду RIGHT OUTER JOIN. Вместо этого поменяйте местами таблицы и используйте LEFT OUTER JOIN.\n",
    "        </td></tr>\n",
    "</Table>"
   ]
  },
  {
   "cell_type": "markdown",
   "metadata": {
    "pycharm": {
     "name": "#%% md\n"
    }
   },
   "source": [
    "<p style=\"font-size:150%\">4.2.5. Предложения ORDER BY, GROUP BY, HAVING</p>\n",
    "\n",
    "<p style=\"font-size:120%\">4.2.5.1. ORDER BY</p>\n",
    "\n",
    "Для упорядочивания результатов запросов используется метод <a href=\"https://docs.sqlalchemy.org/en/14/core/selectable.html#sqlalchemy.sql.expression.Select.order_by\">` Select.order_by() `.</a>"
   ]
  },
  {
   "cell_type": "code",
   "execution_count": 71,
   "metadata": {
    "pycharm": {
     "name": "#%%\n"
    }
   },
   "outputs": [
    {
     "name": "stdout",
     "output_type": "stream",
     "text": [
      "SELECT user_account.id, user_account.name, user_account.fullname \n",
      "FROM user_account ORDER BY user_account.name\n"
     ]
    }
   ],
   "source": [
    "print(select(user_table).order_by(user_table.c.name))"
   ]
  },
  {
   "cell_type": "markdown",
   "metadata": {
    "pycharm": {
     "name": "#%% md\n"
    }
   },
   "source": [
    "Для упорядочивания по возрастанию или убыванию использем методы `ColumnElement.asc()` или `ColumnElement.desc()`"
   ]
  },
  {
   "cell_type": "code",
   "execution_count": 72,
   "metadata": {
    "pycharm": {
     "name": "#%%\n"
    }
   },
   "outputs": [
    {
     "name": "stdout",
     "output_type": "stream",
     "text": [
      "SELECT user_account.id, user_account.name, user_account.fullname \n",
      "FROM user_account ORDER BY user_account.fullname DESC\n"
     ]
    }
   ],
   "source": [
    "print(select(User).order_by(User.fullname.desc()))"
   ]
  },
  {
   "cell_type": "markdown",
   "metadata": {
    "pycharm": {
     "name": "#%% md\n"
    }
   },
   "source": [
    "<p style=\"font-size:120%\">4.2.5.2. Агрегатные функции с группировкой и фильтрацией</p>\n",
    "\n",
    "Группировка в SQL позволяет вычислять значение агрегатной функции для группы строк. Агрегатная функция SQL выполняется с помощью специального конструктора *func.* Покажем это на примере вычисления количества пользователей в таблице *user_account*."
   ]
  },
  {
   "cell_type": "code",
   "execution_count": 73,
   "metadata": {
    "scrolled": true,
    "pycharm": {
     "name": "#%%\n"
    }
   },
   "outputs": [
    {
     "name": "stdout",
     "output_type": "stream",
     "text": [
      "2022-05-05 15:17:30,578 INFO sqlalchemy.engine.Engine BEGIN (implicit)\n",
      "2022-05-05 15:17:30,581 INFO sqlalchemy.engine.Engine SELECT count(user_account.id) AS count_1 \n",
      "FROM user_account\n",
      "2022-05-05 15:17:30,581 INFO sqlalchemy.engine.Engine [generated in 0.00482s] ()\n",
      "6\n",
      "2022-05-05 15:17:30,581 INFO sqlalchemy.engine.Engine ROLLBACK\n"
     ]
    }
   ],
   "source": [
    "from sqlalchemy import func\n",
    "count_fn = func.count(user_table.c.id)\n",
    "\n",
    "with engine.connect() as conn:\n",
    "    result = conn.execute(count_fn).scalar()\n",
    "    print(result)"
   ]
  },
  {
   "cell_type": "markdown",
   "metadata": {
    "pycharm": {
     "name": "#%% md\n"
    }
   },
   "source": [
    "Более подробно о работе с функциями: https://docs.sqlalchemy.org/en/14/tutorial/data_select.html#tutorial-functions\n",
    "\n",
    "HAVING позволяет применить фильтр к результатам группировки. Для этого используются методы `Select.group_by()` и `Select.having()`.\n",
    "\n",
    "Покажем имена и количество адресов пользователей, имеющих более одного адреса."
   ]
  },
  {
   "cell_type": "code",
   "execution_count": 74,
   "metadata": {
    "scrolled": true,
    "pycharm": {
     "name": "#%%\n"
    }
   },
   "outputs": [
    {
     "name": "stdout",
     "output_type": "stream",
     "text": [
      "2022-05-05 15:17:30,612 INFO sqlalchemy.engine.Engine BEGIN (implicit)\n",
      "2022-05-05 15:17:30,614 INFO sqlalchemy.engine.Engine SELECT user_account.name, count(address.id) AS count \n",
      "FROM user_account JOIN address ON user_account.id = address.user_id GROUP BY user_account.name \n",
      "HAVING count(address.id) > ?\n",
      "2022-05-05 15:17:30,615 INFO sqlalchemy.engine.Engine [generated in 0.00538s] (1,)\n",
      "[('fmilano', 3), ('gbfontana', 3), ('talbinoni', 2)]\n",
      "2022-05-05 15:17:30,615 INFO sqlalchemy.engine.Engine ROLLBACK\n"
     ]
    }
   ],
   "source": [
    "with engine.connect() as conn:\n",
    "    result = conn.execute(\n",
    "        select(User.name, func.count(Address.id).label(\"count\")).\n",
    "        join(Address).\n",
    "        group_by(User.name).\n",
    "        having(func.count(Address.id) > 1)\n",
    "    )\n",
    "    print(result.all())"
   ]
  },
  {
   "cell_type": "markdown",
   "metadata": {
    "pycharm": {
     "name": "#%% md\n"
    }
   },
   "source": [
    "<p style=\"font-size:120%\">4.2.5.3. Использование метки для группировки и упорядочивания</p>\n",
    "\n",
    "Иногда требуется группировать или упорядочивать по результатом выражений с участием столбцов. И для того, чтобы не вводить и не вычислять выражения заново, используются метки."
   ]
  },
  {
   "cell_type": "code",
   "execution_count": 75,
   "metadata": {
    "pycharm": {
     "name": "#%%\n"
    }
   },
   "outputs": [
    {
     "name": "stdout",
     "output_type": "stream",
     "text": [
      "2022-05-05 15:17:30,642 INFO sqlalchemy.engine.Engine BEGIN (implicit)\n",
      "2022-05-05 15:17:30,646 INFO sqlalchemy.engine.Engine SELECT address.user_id, count(address.id) AS num_addresses \n",
      "FROM address GROUP BY address.user_id ORDER BY num_addresses DESC, address.user_id\n",
      "2022-05-05 15:17:30,648 INFO sqlalchemy.engine.Engine [generated in 0.00368s] ()\n",
      "user_id: 5, num_addresses: 3\n",
      "user_id: 6, num_addresses: 3\n",
      "user_id: 4, num_addresses: 2\n",
      "user_id: 1, num_addresses: 1\n",
      "user_id: 2, num_addresses: 1\n",
      "user_id: 3, num_addresses: 1\n",
      "2022-05-05 15:17:30,652 INFO sqlalchemy.engine.Engine ROLLBACK\n"
     ]
    }
   ],
   "source": [
    "from sqlalchemy import func, desc\n",
    "stmt = select(\n",
    "        Address.user_id,\n",
    "        func.count(Address.id).label('num_addresses')).\\\n",
    "        group_by('user_id').order_by(desc('num_addresses'), 'user_id')\n",
    "\n",
    "with engine.connect() as conn:\n",
    "    result = conn.execute(stmt)\n",
    "    for row in result:\n",
    "        print(f\"{list(row.keys())[0]}: {row.user_id}, {list(row.keys())[1]}: {row.num_addresses}\")"
   ]
  },
  {
   "cell_type": "markdown",
   "metadata": {
    "pycharm": {
     "name": "#%% md\n"
    }
   },
   "source": [
    "<p style=\"font-size:150%\">4.2.6. Псевдонимы</p>\n",
    "\n",
    "Псевдонимы используют для сокращённой записи наименований, а также чтобы избежать конфликтов и получить верный результат в случае, когда к одной и той же таблице в одном запросе обращаются более одного раза.\n",
    "\n",
    "<p style=\"font-size:125%\">4.2.6.1. Псевдонимы в интерфйсе Core</p>\n",
    "\n",
    "В интерфейсе Core для псевдонима используется метод ` FromClause.alias()`. Покажем на примере выполнения запроса, в котором используются две таблицы *user_account* под разными псевдонимами. Найдём пары пользователей, идентификаторы которых отличаются в два раза."
   ]
  },
  {
   "cell_type": "code",
   "execution_count": 76,
   "metadata": {
    "pycharm": {
     "name": "#%%\n"
    }
   },
   "outputs": [
    {
     "name": "stdout",
     "output_type": "stream",
     "text": [
      "2022-05-05 15:17:30,679 INFO sqlalchemy.engine.Engine BEGIN (implicit)\n",
      "2022-05-05 15:17:30,687 INFO sqlalchemy.engine.Engine SELECT usr_1.id, usr_1.name, usr_2.id AS id_1, usr_2.name AS name_1 \n",
      "FROM user_account AS usr_1, user_account AS usr_2 \n",
      "WHERE cast(usr_2.id as real) / usr_1.id = ?\n",
      "2022-05-05 15:17:30,689 INFO sqlalchemy.engine.Engine [generated in 0.00427s] (2.0,)\n",
      "[(1, 'tcampion', 2, 'nnigrino'), (2, 'nnigrino', 4, 'talbinoni'), (3, 'gcaccini', 6, 'gbfontana')]\n",
      "2022-05-05 15:17:30,690 INFO sqlalchemy.engine.Engine ROLLBACK\n"
     ]
    },
    {
     "name": "stderr",
     "output_type": "stream",
     "text": [
      "C:\\Users\\myfri\\anaconda3\\lib\\site-packages\\ipykernel_launcher.py:7: SAWarning: SELECT statement has a cartesian product between FROM element(s) \"usr_1\" and FROM element \"usr_2\".  Apply join condition(s) between each element to resolve.\n",
      "  import sys\n"
     ]
    }
   ],
   "source": [
    "usr_1 = user_table.alias('usr_1')\n",
    "usr_2 = user_table.alias('usr_2')\n",
    "stmt = select(usr_1.c.id, usr_1.c.name, usr_2.c.id, usr_2.c.name)\n",
    "stmt = stmt.where(text('cast(usr_2.id as real)') / usr_1.c.id == 2.0)\n",
    "\n",
    "with engine.connect() as conn:\n",
    "    result = conn.execute(stmt).all()\n",
    "    print(result)"
   ]
  },
  {
   "cell_type": "markdown",
   "metadata": {
    "pycharm": {
     "name": "#%% md\n"
    }
   },
   "source": [
    "<p style=\"font-size:125%\">4.2.6.2. Псевдонимы в интерфйсе ORM</p>\n",
    "\n",
    "В интрефейсе ORM псевдонимы задаются с помощью функции *aliased()*. В следующем примере с помощью псевдонимов производится отбор пользователей, имеющих два определённых e-mail адреса."
   ]
  },
  {
   "cell_type": "code",
   "execution_count": 77,
   "metadata": {
    "pycharm": {
     "name": "#%%\n"
    }
   },
   "outputs": [
    {
     "name": "stdout",
     "output_type": "stream",
     "text": [
      "2022-05-05 15:17:30,726 INFO sqlalchemy.engine.Engine BEGIN (implicit)\n",
      "2022-05-05 15:17:30,729 INFO sqlalchemy.engine.Engine SELECT user_account.id, user_account.name, user_account.fullname \n",
      "FROM user_account JOIN address AS address_1 ON user_account.id = address_1.user_id JOIN address AS address_2 ON user_account.id = address_2.user_id \n",
      "WHERE address_1.email_address LIKE ? AND address_2.email_address LIKE ?\n",
      "2022-05-05 15:17:30,729 INFO sqlalchemy.engine.Engine [generated in 0.00554s] ('%aol.com', '%@mail.ru')\n",
      "[(4, 'talbinoni', 'Albinoni Thomaso'), (5, 'fmilano', 'Da Milano Francesko'), (6, 'gbfontana', 'Giovanni Battista')]\n",
      "2022-05-05 15:17:30,729 INFO sqlalchemy.engine.Engine ROLLBACK\n"
     ]
    }
   ],
   "source": [
    "from sqlalchemy.orm import aliased\n",
    "address_alias_1 = aliased(Address)\n",
    "address_alias_2 = aliased(Address)\n",
    "stmt = (\n",
    "    select(User).\n",
    "    join_from(User, address_alias_1).\\\n",
    "    where(address_alias_1.email_address.like('%aol.com')).\\\n",
    "    join_from(User, address_alias_2).\\\n",
    "    where(address_alias_2.email_address.like('%@mail.ru'))\n",
    ")\n",
    "with engine.connect() as conn:\n",
    "    result = conn.execute(stmt).all()\n",
    "    print(result)"
   ]
  },
  {
   "cell_type": "markdown",
   "metadata": {
    "pycharm": {
     "name": "#%% md\n"
    }
   },
   "source": [
    "<p style=\"font-size:150%\">4.2.7. Подзапросы и табличные выражения (ТВ)</p>\n",
    "\n",
    "Для определения подзапроса и ТВ в SQLAlchemy используются методы `Select.subquery()` и `Select.cte()`. Любой из таких объектов может использоваться в предложении FROM SQL-выражения. \n",
    "\n",
    "<p style=\"font-size:120%\">4.2.7.1. Подзапросы</p>\n",
    "\n",
    "Создадим выражение подзапроса для подсчёта числа адресов каждого пользователя. Используем метод `Select.subquery()`."
   ]
  },
  {
   "cell_type": "code",
   "execution_count": 78,
   "metadata": {
    "pycharm": {
     "name": "#%%\n"
    }
   },
   "outputs": [],
   "source": [
    "subq = select(\n",
    "    func.count(address_table.c.id).label(\"count\"),\n",
    "    address_table.c.user_id\n",
    ").group_by(address_table.c.user_id).subquery()"
   ]
  },
  {
   "cell_type": "markdown",
   "metadata": {
    "pycharm": {
     "name": "#%% md\n"
    }
   },
   "source": [
    "Сам по себе подзапрос может быть распечатан в текстовом виде без дополнительных скобок."
   ]
  },
  {
   "cell_type": "code",
   "execution_count": 79,
   "metadata": {
    "pycharm": {
     "name": "#%%\n"
    }
   },
   "outputs": [
    {
     "name": "stdout",
     "output_type": "stream",
     "text": [
      "SELECT count(address.id) AS count, address.user_id \n",
      "FROM address GROUP BY address.user_id\n"
     ]
    }
   ],
   "source": [
    "print(subq)"
   ]
  },
  {
   "cell_type": "markdown",
   "metadata": {
    "pycharm": {
     "name": "#%% md\n"
    }
   },
   "source": [
    "Объект подзапроса в SQL-выражении ведёт себя также как и любой объект таблицы."
   ]
  },
  {
   "cell_type": "code",
   "execution_count": 80,
   "metadata": {
    "pycharm": {
     "name": "#%%\n"
    }
   },
   "outputs": [
    {
     "name": "stdout",
     "output_type": "stream",
     "text": [
      "SELECT anon_1.user_id, anon_1.count \n",
      "FROM (SELECT count(address.id) AS count, address.user_id AS user_id \n",
      "FROM address GROUP BY address.user_id) AS anon_1\n"
     ]
    }
   ],
   "source": [
    "print(select(subq.c.user_id, subq.c.count))"
   ]
  },
  {
   "cell_type": "markdown",
   "metadata": {
    "pycharm": {
     "name": "#%% md\n"
    }
   },
   "source": [
    "Теперь мы можем связать подзапрос к таблице адресов с запросом *Select* к таблице пользователей."
   ]
  },
  {
   "cell_type": "code",
   "execution_count": 81,
   "metadata": {
    "pycharm": {
     "name": "#%%\n"
    }
   },
   "outputs": [
    {
     "name": "stdout",
     "output_type": "stream",
     "text": [
      "SELECT user_account.name, user_account.fullname, anon_1.count \n",
      "FROM user_account JOIN (SELECT count(address.id) AS count, address.user_id AS user_id \n",
      "FROM address GROUP BY address.user_id) AS anon_1 ON user_account.id = anon_1.user_id\n"
     ]
    }
   ],
   "source": [
    "stmt = select(\n",
    "   user_table.c.name,\n",
    "   user_table.c.fullname,\n",
    "   subq.c.count\n",
    ").join_from(user_table, subq)\n",
    "\n",
    "print(stmt)"
   ]
  },
  {
   "cell_type": "markdown",
   "metadata": {
    "pycharm": {
     "name": "#%% md\n"
    }
   },
   "source": [
    "В этом примере мы использовали метод `Select.join_from()` и неявное условие соединения `user_table.c.id==address_table.c.user_id`, обеспеченное ссылочной целостностью БД.\n",
    "\n",
    "<p style=\"font-size:125%\">4.2.7.2. Табличные выражения</p>\n",
    "\n",
    "Использование табличных выражений (ТВ) аналогично подзапросам с той лишь разницей, что применяется метод метод `Select.cte()`. Однако, SQL-выражение в текстовом виде имеет больше отличий. Сравните:"
   ]
  },
  {
   "cell_type": "code",
   "execution_count": 82,
   "metadata": {
    "pycharm": {
     "name": "#%%\n"
    }
   },
   "outputs": [
    {
     "name": "stdout",
     "output_type": "stream",
     "text": [
      "WITH \"A1\" AS \n",
      "(SELECT count(address.id) AS count, address.user_id AS user_id \n",
      "FROM address GROUP BY address.user_id)\n",
      " SELECT user_account.name, user_account.fullname, \"A1\".count \n",
      "FROM user_account JOIN \"A1\" ON user_account.id = \"A1\".user_id\n"
     ]
    }
   ],
   "source": [
    "subq = select(\n",
    "    func.count(address_table.c.id).label('count'),\n",
    "    address_table.c.user_id\n",
    ").group_by(address_table.c.user_id).cte('A1')\n",
    "\n",
    "stmt = select(\n",
    "   user_table.c.name,\n",
    "   user_table.c.fullname,\n",
    "   subq.c.count\n",
    ").join_from(user_table, subq)\n",
    "\n",
    "print(stmt)"
   ]
  },
  {
   "cell_type": "markdown",
   "metadata": {
    "pycharm": {
     "name": "#%% md\n"
    }
   },
   "source": [
    "<p style=\"font-size:125%\">4.2.7.3. Подзапросы и табличные выражения в стиле ORM</p>\n",
    " \n",
    "В интерфейсе ORM функция aliased() может быть использована для связывания ORM-сущностей, таких, как классы User или Address, с каким-либо источником строк, таким, как таблица или выборка с помощью SQL-запроса.\n",
    "\n",
    "В следующем примере применим к подзапросу функцию <a href=\"https://docs.sqlalchemy.org/en/14/orm/query.html#sqlalchemy.orm.aliased\">aliased()</a>, с помощью которой свяжем имя Address с записями таблицы адресов с учётом фильтра."
   ]
  },
  {
   "cell_type": "code",
   "execution_count": 83,
   "metadata": {
    "pycharm": {
     "name": "#%%\n"
    }
   },
   "outputs": [
    {
     "name": "stdout",
     "output_type": "stream",
     "text": [
      "2022-05-05 15:17:30,878 INFO sqlalchemy.engine.Engine BEGIN (implicit)\n",
      "2022-05-05 15:17:30,889 INFO sqlalchemy.engine.Engine SELECT user_account.id, user_account.name, user_account.fullname, anon_1.id AS id_1, anon_1.email_address, anon_1.user_id \n",
      "FROM user_account JOIN (SELECT address.id AS id, address.email_address AS email_address, address.user_id AS user_id \n",
      "FROM address \n",
      "WHERE address.email_address NOT LIKE ?) AS anon_1 ON user_account.id = anon_1.user_id ORDER BY user_account.id, anon_1.id\n",
      "2022-05-05 15:17:30,892 INFO sqlalchemy.engine.Engine [generated in 0.00314s] ('%@aol.com',)\n",
      "User(id=4, name='talbinoni', fullname='Albinoni Thomaso') Address(id=7, email_address='talbinoni@mail.ru')\n",
      "User(id=5, name='fmilano', fullname='Da Milano Francesko') Address(id=8, email_address='fmilano@mail.ru')\n",
      "User(id=5, name='fmilano', fullname='Da Milano Francesko') Address(id=10, email_address='fmilano@yandex.ru')\n",
      "User(id=6, name='gbfontana', fullname='Giovanni Battista') Address(id=9, email_address='gbfontana@mail.ru')\n",
      "User(id=6, name='gbfontana', fullname='Giovanni Battista') Address(id=11, email_address='gbfontana@yandex.ru')\n",
      "2022-05-05 15:17:30,900 INFO sqlalchemy.engine.Engine ROLLBACK\n"
     ]
    }
   ],
   "source": [
    "subq = select(Address).where(~Address.email_address.like('%@aol.com')).subquery()\n",
    "address_subq = aliased(Address, subq)\n",
    "stmt = select(User, address_subq)\n",
    "stmt = stmt.join_from(User, address_subq)\n",
    "stmt = stmt.order_by(User.id, address_subq.id)\n",
    "with Session(engine) as session:\n",
    "    for user, address in session.execute(stmt):\n",
    "        print(f\"{user} {address}\")"
   ]
  },
  {
   "cell_type": "markdown",
   "metadata": {
    "pycharm": {
     "name": "#%% md\n"
    }
   },
   "source": [
    "Этот же пример с использованием ТВ."
   ]
  },
  {
   "cell_type": "code",
   "execution_count": 84,
   "metadata": {
    "pycharm": {
     "name": "#%%\n"
    }
   },
   "outputs": [
    {
     "name": "stdout",
     "output_type": "stream",
     "text": [
      "2022-05-05 15:17:30,931 INFO sqlalchemy.engine.Engine BEGIN (implicit)\n",
      "2022-05-05 15:17:30,953 INFO sqlalchemy.engine.Engine WITH anon_1 AS \n",
      "(SELECT address.id AS id, address.email_address AS email_address, address.user_id AS user_id \n",
      "FROM address \n",
      "WHERE address.email_address NOT LIKE ?)\n",
      " SELECT user_account.id, user_account.name, user_account.fullname, anon_1.id AS id_1, anon_1.email_address, anon_1.user_id \n",
      "FROM user_account JOIN anon_1 ON user_account.id = anon_1.user_id ORDER BY user_account.id, anon_1.id\n",
      "2022-05-05 15:17:30,953 INFO sqlalchemy.engine.Engine [generated in 0.00326s] ('%@aol.com',)\n",
      "User(id=4, name='talbinoni', fullname='Albinoni Thomaso') Address(id=7, email_address='talbinoni@mail.ru')\n",
      "User(id=5, name='fmilano', fullname='Da Milano Francesko') Address(id=8, email_address='fmilano@mail.ru')\n",
      "User(id=5, name='fmilano', fullname='Da Milano Francesko') Address(id=10, email_address='fmilano@yandex.ru')\n",
      "User(id=6, name='gbfontana', fullname='Giovanni Battista') Address(id=9, email_address='gbfontana@mail.ru')\n",
      "User(id=6, name='gbfontana', fullname='Giovanni Battista') Address(id=11, email_address='gbfontana@yandex.ru')\n",
      "2022-05-05 15:17:30,969 INFO sqlalchemy.engine.Engine ROLLBACK\n"
     ]
    }
   ],
   "source": [
    "cte_obj = select(Address).where(~Address.email_address.like('%@aol.com')).cte()\n",
    "address_cte = aliased(Address, cte_obj)\n",
    "stmt = select(User, address_cte).join_from(User, address_cte).order_by(User.id, address_cte.id)\n",
    "with Session(engine) as session:\n",
    "    for user, address in session.execute(stmt):\n",
    "        print(f\"{user} {address}\")"
   ]
  },
  {
   "cell_type": "markdown",
   "metadata": {
    "pycharm": {
     "name": "#%% md\n"
    }
   },
   "source": [
    "<p style=\"font-size:150%\">4.2.8. Скалярные и связанные подзапросы</p>\n",
    "\n",
    "Скалярный подзапрос возвращает ноль или одну строку в одном столбце. Связанный подзапрос — это скалярный подзапрос, ссылающийся на таблицу внешнего запроса и возвращающий скаларное значение для каждой записи отношения, формируемого внешним запросом. Результат выполнения связанного скалярного запроса сказывается на значении предиката внешнего запроса. Скалярный подзапрос может использовать агрегатную функцию. Скалярный подзапрос необходимо обозначать явно с помощью метода `Select.scalar_subquery()`. В текстовом виде это обычное SQL-выражение, использующее команду SELECT с участием двух таблиц."
   ]
  },
  {
   "cell_type": "code",
   "execution_count": 85,
   "metadata": {
    "pycharm": {
     "name": "#%%\n"
    }
   },
   "outputs": [
    {
     "name": "stdout",
     "output_type": "stream",
     "text": [
      "(SELECT count(address.id) AS count_1 \n",
      "FROM address, user_account \n",
      "WHERE user_account.id = address.user_id)\n"
     ]
    }
   ],
   "source": [
    "subq = select(func.count(address_table.c.id)).\\\n",
    "            where(user_table.c.id == address_table.c.user_id).\\\n",
    "            scalar_subquery()\n",
    "print(subq)"
   ]
  },
  {
   "cell_type": "markdown",
   "metadata": {
    "pycharm": {
     "name": "#%% md\n"
    }
   },
   "source": [
    "Объект подзапроса может участвовать в выражениях, например"
   ]
  },
  {
   "cell_type": "code",
   "execution_count": 86,
   "metadata": {
    "pycharm": {
     "name": "#%%\n"
    }
   },
   "outputs": [
    {
     "name": "stdout",
     "output_type": "stream",
     "text": [
      "(SELECT count(address.id) AS count_1 \n",
      "FROM address, user_account \n",
      "WHERE user_account.id = address.user_id) = :param_1\n"
     ]
    }
   ],
   "source": [
    "print(subq == 5)"
   ]
  },
  {
   "cell_type": "markdown",
   "metadata": {
    "pycharm": {
     "name": "#%% md\n"
    }
   },
   "source": [
    "Если подзапрос к таблице *address* указать в конструкторе *Select*, а именно в перечислении столбцов вместе со столбцами таблицы *user_account*, призойдёт автоматическое связывание *user_account* с *address*, при этом таблица *user_account* не появляется в предложении FROM основного запроса."
   ]
  },
  {
   "cell_type": "code",
   "execution_count": 87,
   "metadata": {
    "pycharm": {
     "name": "#%%\n"
    }
   },
   "outputs": [
    {
     "name": "stdout",
     "output_type": "stream",
     "text": [
      "SELECT user_account.name, (SELECT count(address.id) AS count_1 \n",
      "FROM address \n",
      "WHERE user_account.id = address.user_id) AS address_count \n",
      "FROM user_account\n"
     ]
    }
   ],
   "source": [
    "stmt = select(user_table.c.name, subq.label(\"address_count\"))\n",
    "print(stmt)"
   ]
  },
  {
   "cell_type": "markdown",
   "metadata": {
    "pycharm": {
     "name": "#%% md\n"
    }
   },
   "source": [
    "Возникает ошибка, если связывание неоднозначно. В следующем примере одним из источников строк является подзапрос *subq*. Этот источник может быть связан как с *user_table*, так и с *address_table*. Поэтому возникает ошибка в ходе формирования предложения FROM SQL-выражения.\n",
    "\n",
    "```\n",
    "stmt = select(\n",
    "    user_table.c.name,\n",
    "    address_table.c.email_address,\n",
    "    subq.label(\"address_count\")\n",
    ").\\\n",
    "join_from(user_table, address_table).\\\n",
    "order_by(user_table.c.id, address_table.c.id)\n",
    "print(stmt)\n",
    "\n",
    "...\n",
    "InvalidRequestError: Select statement '<... Select object at ...>' returned\n",
    "no FROM clauses due to auto-correlation; specify correlate(<tables>) to\n",
    "control correlation manually.\n",
    "```"
   ]
  },
  {
   "cell_type": "markdown",
   "metadata": {
    "pycharm": {
     "name": "#%% md\n"
    }
   },
   "source": [
    "Чтобы избежать ошибки, требуется в явном виде указать, что подзапрос *subq* связывается с таблицей *user_table*. Для связывания используем метод <a href=\"https://docs.sqlalchemy.org/en/14/core/selectable.html#sqlalchemy.sql.expression.ScalarSelect.correlate\"> `ScalarSelect.correlate()`</a> или метод <a href=\"https://docs.sqlalchemy.org/en/14/core/selectable.html#sqlalchemy.sql.expression.ScalarSelect.correlate_except\">ScalarSelect.correlate_except()</a>"
   ]
  },
  {
   "cell_type": "code",
   "execution_count": 88,
   "metadata": {
    "pycharm": {
     "name": "#%%\n"
    }
   },
   "outputs": [
    {
     "name": "stdout",
     "output_type": "stream",
     "text": [
      "(SELECT count(address.id) AS count_1 \n",
      "FROM address, user_account \n",
      "WHERE user_account.id = address.user_id)\n"
     ]
    }
   ],
   "source": [
    "subq = select(func.count(address_table.c.id)).\\\n",
    "            where(user_table.c.id == address_table.c.user_id).\\\n",
    "            scalar_subquery().correlate(user_table)\n",
    "print(subq)"
   ]
  },
  {
   "cell_type": "markdown",
   "metadata": {
    "pycharm": {
     "name": "#%% md\n"
    }
   },
   "source": [
    "Теперь используем этот подзапрос."
   ]
  },
  {
   "cell_type": "code",
   "execution_count": 89,
   "metadata": {
    "pycharm": {
     "name": "#%%\n"
    }
   },
   "outputs": [
    {
     "name": "stdout",
     "output_type": "stream",
     "text": [
      "2022-05-05 15:17:31,068 INFO sqlalchemy.engine.Engine BEGIN (implicit)\n",
      "2022-05-05 15:17:31,073 INFO sqlalchemy.engine.Engine SELECT user_account.name, address.email_address, (SELECT count(address.id) AS count_1 \n",
      "FROM address \n",
      "WHERE user_account.id = address.user_id) AS address_count \n",
      "FROM user_account JOIN address ON user_account.id = address.user_id ORDER BY user_account.id, address.id\n",
      "2022-05-05 15:17:31,073 INFO sqlalchemy.engine.Engine [generated in 0.00532s] ()\n",
      "('tcampion', 'tcampion@aol.com', 1)\n",
      "('nnigrino', 'nnigrino@aol.com', 1)\n",
      "('gcaccini', 'gcaccini@aol.com', 1)\n",
      "('talbinoni', 'talbinoni@aol.com', 2)\n",
      "('talbinoni', 'talbinoni@mail.ru', 2)\n",
      "('fmilano', 'fmilano@aol.com', 3)\n",
      "('fmilano', 'fmilano@mail.ru', 3)\n",
      "('fmilano', 'fmilano@yandex.ru', 3)\n",
      "('gbfontana', 'gbfontana@aol.com', 3)\n",
      "('gbfontana', 'gbfontana@mail.ru', 3)\n",
      "('gbfontana', 'gbfontana@yandex.ru', 3)\n",
      "2022-05-05 15:17:31,081 INFO sqlalchemy.engine.Engine ROLLBACK\n"
     ]
    }
   ],
   "source": [
    "with engine.connect() as conn:\n",
    "    result = conn.execute(\n",
    "        select(\n",
    "            user_table.c.name,\n",
    "            address_table.c.email_address,\n",
    "            subq.label(\"address_count\")\n",
    "            ).\n",
    "        join_from(user_table, address_table).\n",
    "        order_by(user_table.c.id, address_table.c.id)\n",
    "    )\n",
    "    for item in result:\n",
    "        print(item)"
   ]
  },
  {
   "cell_type": "markdown",
   "metadata": {
    "pycharm": {
     "name": "#%% md\n"
    }
   },
   "source": [
    "<p style=\"font-size:150%\">4.2.9. Объединение и операции над множествами</p>\n",
    "\n",
    "Рассмотрим работу операции объединения с помощью UNION, а также операции над множествами с помощью INTERSECT [ALL] и EXCEPT [ALL]. Для выполнения этих операций в библиотеке SQLAlchemy используются методы `union_all()`, `intersect_all()` и `except_all()`."
   ]
  },
  {
   "cell_type": "code",
   "execution_count": 90,
   "metadata": {
    "pycharm": {
     "name": "#%%\n"
    }
   },
   "outputs": [
    {
     "name": "stdout",
     "output_type": "stream",
     "text": [
      "2022-05-05 15:17:31,114 INFO sqlalchemy.engine.Engine BEGIN (implicit)\n",
      "2022-05-05 15:17:31,116 INFO sqlalchemy.engine.Engine SELECT user_account.id, user_account.name, user_account.fullname \n",
      "FROM user_account \n",
      "WHERE user_account.name = ? UNION ALL SELECT user_account.id, user_account.name, user_account.fullname \n",
      "FROM user_account \n",
      "WHERE user_account.name = ?\n",
      "2022-05-05 15:17:31,116 INFO sqlalchemy.engine.Engine [generated in 0.00400s] ('tcampion', 'gcaccini')\n",
      "[(1, 'tcampion', 'Campion Thomas'), (3, 'gcaccini', 'Caccini Giulio')]\n",
      "2022-05-05 15:17:31,116 INFO sqlalchemy.engine.Engine ROLLBACK\n"
     ]
    }
   ],
   "source": [
    "from sqlalchemy import union_all\n",
    "\n",
    "stmt1 = select(user_table).where(user_table.c.name == 'tcampion')\n",
    "stmt2 = select(user_table).where(user_table.c.name == 'gcaccini')\n",
    "u = union_all(stmt1, stmt2)\n",
    "\n",
    "with engine.connect() as conn:\n",
    "    result = conn.execute(u)\n",
    "    print(result.all())"
   ]
  },
  {
   "cell_type": "markdown",
   "metadata": {
    "pycharm": {
     "name": "#%% md\n"
    }
   },
   "source": [
    "Результат объединения можно использовать в подзапросе. Для этого в следующем примере с помощью метода `SelectBase.subquery()` создадим объект подзапроса с коллекцией <a href=\"https://docs.sqlalchemy.org/en/14/core/selectable.html#sqlalchemy.sql.expression.FromClause.c\">`FromClause.c`</a>, на элементы которой можно в дальнейшем ссылаться во внешнем запросе. В следующем примере к именам пользователей из результата объединения добавим информацию об адресах."
   ]
  },
  {
   "cell_type": "code",
   "execution_count": 91,
   "metadata": {
    "pycharm": {
     "name": "#%%\n"
    }
   },
   "outputs": [
    {
     "name": "stdout",
     "output_type": "stream",
     "text": [
      "2022-05-05 15:17:31,152 INFO sqlalchemy.engine.Engine BEGIN (implicit)\n",
      "2022-05-05 15:17:31,157 INFO sqlalchemy.engine.Engine SELECT anon_1.name, address.email_address \n",
      "FROM address JOIN (SELECT user_account.id AS id, user_account.name AS name, user_account.fullname AS fullname \n",
      "FROM user_account \n",
      "WHERE user_account.name = ? UNION ALL SELECT user_account.id AS id, user_account.name AS name, user_account.fullname AS fullname \n",
      "FROM user_account \n",
      "WHERE user_account.name = ?) AS anon_1 ON anon_1.id = address.user_id ORDER BY anon_1.name, address.email_address\n",
      "2022-05-05 15:17:31,157 INFO sqlalchemy.engine.Engine [generated in 0.00549s] ('tcampion', 'gcaccini')\n",
      "[('gcaccini', 'gcaccini@aol.com'), ('tcampion', 'tcampion@aol.com')]\n",
      "2022-05-05 15:17:31,157 INFO sqlalchemy.engine.Engine ROLLBACK\n"
     ]
    }
   ],
   "source": [
    "u_subq = u.subquery()\n",
    "stmt = (\n",
    "    select(u_subq.c.name, address_table.c.email_address).\n",
    "    join_from(address_table, u_subq).\n",
    "    order_by(u_subq.c.name, address_table.c.email_address)\n",
    ")\n",
    "with engine.connect() as conn:\n",
    "    result = conn.execute(stmt)\n",
    "    print(result.all())"
   ]
  },
  {
   "cell_type": "markdown",
   "metadata": {
    "pycharm": {
     "name": "#%% md\n"
    }
   },
   "source": [
    "<p style=\"font-size:125%\">4.2.9.1. Объединение с помощью ORM</p>\n",
    "\n",
    "Составим объединение результатов двух выборок."
   ]
  },
  {
   "cell_type": "code",
   "execution_count": 92,
   "metadata": {
    "pycharm": {
     "name": "#%%\n"
    }
   },
   "outputs": [
    {
     "name": "stdout",
     "output_type": "stream",
     "text": [
      "2022-05-05 15:17:31,195 INFO sqlalchemy.engine.Engine BEGIN (implicit)\n",
      "2022-05-05 15:17:31,197 INFO sqlalchemy.engine.Engine SELECT anon_1.name, address.email_address \n",
      "FROM address JOIN (SELECT user_account.id AS id, user_account.name AS name, user_account.fullname AS fullname \n",
      "FROM user_account \n",
      "WHERE user_account.name = ? UNION ALL SELECT user_account.id AS id, user_account.name AS name, user_account.fullname AS fullname \n",
      "FROM user_account \n",
      "WHERE user_account.name = ?) AS anon_1 ON anon_1.id = address.user_id ORDER BY anon_1.name, address.email_address\n",
      "2022-05-05 15:17:31,197 INFO sqlalchemy.engine.Engine [cached since 0.04716s ago] ('tcampion', 'gcaccini')\n",
      "[('gcaccini', 'gcaccini@aol.com'), ('tcampion', 'tcampion@aol.com')]\n",
      "2022-05-05 15:17:31,205 INFO sqlalchemy.engine.Engine ROLLBACK\n"
     ]
    }
   ],
   "source": [
    "stmt1 = select(User).where(User.name == 'tcampion')\n",
    "stmt2 = select(User).where(User.name == 'gcaccini')\n",
    "u = union_all(stmt1, stmt2)\n",
    "\n",
    "with engine.connect() as conn:\n",
    "    result = conn.execute(stmt).all()\n",
    "    print(result)"
   ]
  },
  {
   "cell_type": "markdown",
   "metadata": {
    "pycharm": {
     "name": "#%% md\n"
    }
   },
   "source": [
    "Аналогичный результат получим с помощью методов `.from_statement()` и `.scalars()`."
   ]
  },
  {
   "cell_type": "code",
   "execution_count": 93,
   "metadata": {
    "pycharm": {
     "name": "#%%\n"
    }
   },
   "outputs": [
    {
     "name": "stdout",
     "output_type": "stream",
     "text": [
      "2022-05-05 15:17:31,230 INFO sqlalchemy.engine.Engine BEGIN (implicit)\n",
      "2022-05-05 15:17:31,231 INFO sqlalchemy.engine.Engine SELECT user_account.id, user_account.name, user_account.fullname \n",
      "FROM user_account \n",
      "WHERE user_account.name = ? UNION ALL SELECT user_account.id, user_account.name, user_account.fullname \n",
      "FROM user_account \n",
      "WHERE user_account.name = ?\n",
      "2022-05-05 15:17:31,231 INFO sqlalchemy.engine.Engine [generated in 0.00294s] ('tcampion', 'gcaccini')\n",
      "User(id=1, name='tcampion', fullname='Campion Thomas')\n",
      "User(id=3, name='gcaccini', fullname='Caccini Giulio')\n",
      "2022-05-05 15:17:31,239 INFO sqlalchemy.engine.Engine ROLLBACK\n"
     ]
    }
   ],
   "source": [
    "orm_stmt = select(User).from_statement(u)\n",
    "with Session(engine) as session:\n",
    "    for obj in session.execute(orm_stmt).scalars():\n",
    "        print(obj)"
   ]
  },
  {
   "cell_type": "markdown",
   "metadata": {
    "pycharm": {
     "name": "#%% md\n"
    }
   },
   "source": [
    "Результат объединения также можно использовать в качестве подзапроса в стиле ORM. Следующий пример даёт такй же результат объединения, как и представленный выше."
   ]
  },
  {
   "cell_type": "code",
   "execution_count": 94,
   "metadata": {
    "pycharm": {
     "name": "#%%\n"
    }
   },
   "outputs": [
    {
     "name": "stdout",
     "output_type": "stream",
     "text": [
      "2022-05-05 15:17:31,302 INFO sqlalchemy.engine.Engine BEGIN (implicit)\n",
      "2022-05-05 15:17:31,317 INFO sqlalchemy.engine.Engine SELECT anon_1.id, anon_1.name, anon_1.fullname \n",
      "FROM (SELECT user_account.id AS id, user_account.name AS name, user_account.fullname AS fullname \n",
      "FROM user_account \n",
      "WHERE user_account.name = ? UNION ALL SELECT user_account.id AS id, user_account.name AS name, user_account.fullname AS fullname \n",
      "FROM user_account \n",
      "WHERE user_account.name = ?) AS anon_1 ORDER BY anon_1.id\n",
      "2022-05-05 15:17:31,321 INFO sqlalchemy.engine.Engine [generated in 0.00261s] ('tcampion', 'gcaccini')\n",
      "User(id=1, name='tcampion', fullname='Campion Thomas')\n",
      "User(id=3, name='gcaccini', fullname='Caccini Giulio')\n",
      "2022-05-05 15:17:31,322 INFO sqlalchemy.engine.Engine ROLLBACK\n"
     ]
    }
   ],
   "source": [
    "user_alias = aliased(User, u.subquery())\n",
    "orm_stmt = select(user_alias).order_by(user_alias.id)\n",
    "with Session(engine) as session:\n",
    "    for obj in session.execute(orm_stmt).scalars():\n",
    "        print(obj)"
   ]
  },
  {
   "cell_type": "markdown",
   "metadata": {
    "pycharm": {
     "name": "#%% md\n"
    }
   },
   "source": [
    "<p style=\"font-size:150%\">4.2.10. Подзапросы существования EXISTS</p>\n",
    "\n",
    "Функция EXISTS языка SQL используется в скалярных подзапросах, возвращающих логическое значение. В следующем примере с помощью метода `SelectBase.exists()` найдём пользователей, имеющих более одного адреса."
   ]
  },
  {
   "cell_type": "code",
   "execution_count": 95,
   "metadata": {
    "scrolled": false,
    "pycharm": {
     "name": "#%%\n"
    }
   },
   "outputs": [
    {
     "name": "stdout",
     "output_type": "stream",
     "text": [
      "2022-05-05 15:17:31,364 INFO sqlalchemy.engine.Engine BEGIN (implicit)\n",
      "2022-05-05 15:17:31,370 INFO sqlalchemy.engine.Engine SELECT DISTINCT user_account.name \n",
      "FROM user_account JOIN address ON user_account.id = address.user_id \n",
      "WHERE EXISTS (SELECT address_2.id \n",
      "FROM address AS address_2 \n",
      "WHERE address_2.user_id = user_account.id AND address_2.id != address.id)\n",
      "2022-05-05 15:17:31,371 INFO sqlalchemy.engine.Engine [generated in 0.00586s] ()\n",
      "[('talbinoni',), ('fmilano',), ('gbfontana',)]\n",
      "2022-05-05 15:17:31,371 INFO sqlalchemy.engine.Engine ROLLBACK\n"
     ]
    }
   ],
   "source": [
    "address_table_2 = address_table.alias('address_2')\n",
    "\n",
    "subq = (\n",
    "    select(address_table_2.c.id)\\\n",
    "    .where(address_table_2.c.user_id == user_table.c.id)\\\n",
    "    .where(address_table_2.c.id != address_table.c.id)\\\n",
    ").exists()\n",
    "with engine.connect() as conn:\n",
    "    result = conn.execute(\n",
    "        select(user_table.c.name).distinct().join(address_table).where(subq)\n",
    "    )\n",
    "    print(result.all())"
   ]
  },
  {
   "cell_type": "markdown",
   "metadata": {
    "pycharm": {
     "name": "#%% md\n"
    }
   },
   "source": [
    "Подзапросы существования часто используют с отрицанием. Найдём пользователей, у которых нет адресов в домене @mail.ru"
   ]
  },
  {
   "cell_type": "code",
   "execution_count": 96,
   "metadata": {
    "pycharm": {
     "name": "#%%\n"
    }
   },
   "outputs": [
    {
     "name": "stdout",
     "output_type": "stream",
     "text": [
      "2022-05-05 15:17:31,403 INFO sqlalchemy.engine.Engine BEGIN (implicit)\n",
      "2022-05-05 15:17:31,406 INFO sqlalchemy.engine.Engine SELECT user_account.name \n",
      "FROM user_account \n",
      "WHERE NOT (EXISTS (SELECT address.id \n",
      "FROM address \n",
      "WHERE user_account.id = address.user_id AND address.email_address LIKE ?))\n",
      "2022-05-05 15:17:31,407 INFO sqlalchemy.engine.Engine [generated in 0.00405s] ('%@mail.ru',)\n",
      "[('tcampion',), ('nnigrino',), ('gcaccini',)]\n",
      "2022-05-05 15:17:31,412 INFO sqlalchemy.engine.Engine ROLLBACK\n"
     ]
    }
   ],
   "source": [
    "subq = (\n",
    "    select(address_table.c.id).\n",
    "    where(user_table.c.id == address_table.c.user_id).\n",
    "    where(address_table.c.email_address.like(\"%@mail.ru\"))\n",
    ").exists()\n",
    "with engine.connect() as conn:\n",
    "    result = conn.execute(\n",
    "        select(user_table.c.name).where(~subq)\n",
    "    )\n",
    "    print(result.all())"
   ]
  },
  {
   "cell_type": "markdown",
   "metadata": {
    "pycharm": {
     "name": "#%% md\n"
    }
   },
   "source": [
    "<p style=\"font-size:150%\">4.2.11. Функции SQL</p>\n",
    "\n",
    "Ранее мы уже использовали конструктор <a href=\"https://docs.sqlalchemy.org/en/14/core/sqlelement.html#sqlalchemy.sql.expression.func\">func</a> для создания объектов функций. Приведем несколько примеров использования наиболее часто встречающихся функций.\n",
    "\n",
    "- функция count(). Агрегатная функция, возвращающая число строк."
   ]
  },
  {
   "cell_type": "code",
   "execution_count": 97,
   "metadata": {
    "pycharm": {
     "name": "#%%\n"
    }
   },
   "outputs": [
    {
     "name": "stdout",
     "output_type": "stream",
     "text": [
      "SELECT count(*) AS count_1 \n",
      "FROM user_account\n"
     ]
    }
   ],
   "source": [
    "print(select(func.count()).select_from(user_table))"
   ]
  },
  {
   "cell_type": "markdown",
   "metadata": {
    "pycharm": {
     "name": "#%% md\n"
    }
   },
   "source": [
    "- функция lower(). текстовая функция, возвращающая строку строчными буквами."
   ]
  },
  {
   "cell_type": "code",
   "execution_count": 98,
   "metadata": {
    "pycharm": {
     "name": "#%%\n"
    }
   },
   "outputs": [
    {
     "name": "stdout",
     "output_type": "stream",
     "text": [
      "SELECT lower(:lower_2) AS lower_1\n"
     ]
    }
   ],
   "source": [
    "print(select(func.lower(\"A String With Much UPPERCASE\")))"
   ]
  },
  {
   "cell_type": "markdown",
   "metadata": {
    "pycharm": {
     "name": "#%% md\n"
    }
   },
   "source": [
    "- Функция now(). Возвращает текущую дату и время."
   ]
  },
  {
   "cell_type": "code",
   "execution_count": 99,
   "metadata": {
    "pycharm": {
     "name": "#%%\n"
    }
   },
   "outputs": [
    {
     "name": "stdout",
     "output_type": "stream",
     "text": [
      "2022-05-05 15:17:31,477 INFO sqlalchemy.engine.Engine BEGIN (implicit)\n",
      "2022-05-05 15:17:31,479 INFO sqlalchemy.engine.Engine SELECT CURRENT_TIMESTAMP AS now_1\n",
      "2022-05-05 15:17:31,481 INFO sqlalchemy.engine.Engine [generated in 0.00379s] ()\n",
      "[(datetime.datetime(2022, 5, 5, 12, 17, 31),)]\n",
      "2022-05-05 15:17:31,483 INFO sqlalchemy.engine.Engine ROLLBACK\n"
     ]
    }
   ],
   "source": [
    "stmt = select(func.now())\n",
    "with engine.connect() as conn:\n",
    "    result = conn.execute(stmt)\n",
    "    print(result.all())"
   ]
  },
  {
   "cell_type": "markdown",
   "metadata": {
    "pycharm": {
     "name": "#%% md\n"
    }
   },
   "source": [
    "Необходимо помнить, что особенности использования функций зависят от конкретной СУБД."
   ]
  },
  {
   "cell_type": "code",
   "execution_count": 100,
   "metadata": {
    "pycharm": {
     "name": "#%%\n"
    }
   },
   "outputs": [
    {
     "name": "stdout",
     "output_type": "stream",
     "text": [
      "SELECT now() AS now_1\n",
      "SELECT CURRENT_TIMESTAMP AS now_1 FROM DUAL\n"
     ]
    }
   ],
   "source": [
    "from sqlalchemy.dialects import postgresql\n",
    "print(select(func.now()).compile(dialect=postgresql.dialect()))\n",
    "\n",
    "from sqlalchemy.dialects import oracle\n",
    "print(select(func.now()).compile(dialect=oracle.dialect()))"
   ]
  },
  {
   "cell_type": "markdown",
   "metadata": {
    "pycharm": {
     "name": "#%% md\n"
    }
   },
   "source": [
    "<p style=\"font-size:125%\">4.2.11.1. Возвращаемый тип данных SQL-функции</p>\n",
    "\n",
    "Поскольку функции участвуют в выражениях со значениями столбцов, они также имеют типы данных SQL, которые описывают тип данных сгенерированного выражения SQL.\n",
    "\n",
    "Доступ к возвращаемому типу SQL-выржения любой функции SQL можно получить, как правило, в целях отладки, обратившись к атрибуту `Function.type`:"
   ]
  },
  {
   "cell_type": "code",
   "execution_count": 101,
   "metadata": {
    "pycharm": {
     "name": "#%%\n"
    }
   },
   "outputs": [
    {
     "name": "stdout",
     "output_type": "stream",
     "text": [
      "DATETIME\n",
      "2022-05-05 15:17:31,596 INFO sqlalchemy.engine.Engine BEGIN (implicit)\n",
      "2022-05-05 15:17:31,597 INFO sqlalchemy.engine.Engine SELECT CURRENT_TIMESTAMP AS now\n",
      "2022-05-05 15:17:31,599 INFO sqlalchemy.engine.Engine [generated in 0.00348s] ()\n",
      "What time is now: 2022-05-05 12:17:31\n",
      "2022-05-05 15:17:31,602 INFO sqlalchemy.engine.Engine ROLLBACK\n"
     ]
    }
   ],
   "source": [
    "print(func.now().type)\n",
    "\n",
    "s = select(func.now().label('now'))\n",
    "with engine.connect() as conn:\n",
    "    result = conn.execute(s).scalars()\n",
    "    for row in result:\n",
    "        print('What time is now:', row)"
   ]
  },
  {
   "cell_type": "markdown",
   "metadata": {
    "pycharm": {
     "name": "#%% md\n"
    }
   },
   "source": [
    "Используем функцию SQLite *json_object()* для вывода результатов запроса в формате JSON."
   ]
  },
  {
   "cell_type": "code",
   "execution_count": 102,
   "metadata": {
    "pycharm": {
     "name": "#%%\n"
    }
   },
   "outputs": [
    {
     "name": "stdout",
     "output_type": "stream",
     "text": [
      "SELECT json_object(:json_object_2, user_account.id, :json_object_3, user_account.name, :json_object_4, address.email_address) AS json_object_1 \n",
      "FROM user_account JOIN address ON user_account.id = address.user_id \n",
      "WHERE user_account.id < :id_1\n"
     ]
    },
    {
     "data": {
      "text/plain": [
       "'\\nwith engine.connect() as conn:\\n    result = conn.execute(stmt).all()\\n    for row in result:\\n        print(row[0])'"
      ]
     },
     "execution_count": 102,
     "metadata": {},
     "output_type": "execute_result"
    }
   ],
   "source": [
    "f = func.json_object('id', user_table.c.id,\\\n",
    "                    'name', user_table.c.name,\\\n",
    "                    'address', address_table.c.email_address)\n",
    "\n",
    "stmt = select(f)\n",
    "stmt = stmt.join_from(user_table, address_table)\n",
    "stmt = stmt.where(user_table.c.id < 3)\n",
    "\n",
    "print(stmt)\n",
    "\n",
    "\"\"\"\n",
    "with engine.connect() as conn:\n",
    "    result = conn.execute(stmt).all()\n",
    "    for row in result:\n",
    "        print(row[0])\"\"\""
   ]
  },
  {
   "cell_type": "markdown",
   "metadata": {
    "pycharm": {
     "name": "#%% md\n"
    }
   },
   "source": [
    "<p style=\"font-size:125%\">4.2.11.2. Оконные функции</p>\n",
    "\n",
    "Оконная функция позволяет использовать агрегатные функции SQL особым образом, вычисляя совокупное значение по строкам, возвращаемым в группе, по мере обработки отдельных строк результата. В то время как агрегатная функция, такая как *max()*, даст максимальное значение столбца в наборе строк, использование такой же оконной функции позволяет получить максимальное значение для каждой строки.\n",
    "\n",
    "В SQL оконные функции позволяют указать строки, к которым функция должна применяться, значение «подраздела», которое рассматривает окно по различным подмножествам строк, и выражение «упорядочить по», которое указывает порядок, в котором оконная функция применяется к строкам.\n",
    "\n",
    "В SQLAlchemy все функции SQL, сгенерированные пространством имен func, включают метод `FunctionElement.over()`, который предоставляет оконную функцию или синтаксис «OVER»; полученная конструкция является конструкцией Over.\n",
    "\n",
    "Обычной функцией, используемой с оконными функциями, является функция row_number(), которая просто подсчитывает строки. Мы можем разделить это количество строк по имени пользователя, чтобы пронумеровать адреса электронной почты отдельных пользователей. В следующем примере разделим все адреса на подгруппы по имени пользователя и отсортируем в обратном порядке по адресу."
   ]
  },
  {
   "cell_type": "code",
   "execution_count": 103,
   "metadata": {
    "pycharm": {
     "name": "#%%\n"
    }
   },
   "outputs": [
    {
     "name": "stdout",
     "output_type": "stream",
     "text": [
      "2022-05-05 15:17:31,678 INFO sqlalchemy.engine.Engine BEGIN (implicit)\n",
      "2022-05-05 15:17:31,680 INFO sqlalchemy.engine.Engine SELECT row_number() OVER (PARTITION BY user_account.name ORDER BY address.email_address DESC) AS anon_1, user_account.name, address.email_address \n",
      "FROM user_account JOIN address ON user_account.id = address.user_id\n",
      "2022-05-05 15:17:31,683 INFO sqlalchemy.engine.Engine [generated in 0.00443s] ()\n",
      "(1, 'fmilano', 'fmilano@yandex.ru')\n",
      "(2, 'fmilano', 'fmilano@mail.ru')\n",
      "(3, 'fmilano', 'fmilano@aol.com')\n",
      "(1, 'gbfontana', 'gbfontana@yandex.ru')\n",
      "(2, 'gbfontana', 'gbfontana@mail.ru')\n",
      "(3, 'gbfontana', 'gbfontana@aol.com')\n",
      "(1, 'gcaccini', 'gcaccini@aol.com')\n",
      "(1, 'nnigrino', 'nnigrino@aol.com')\n",
      "(1, 'talbinoni', 'talbinoni@mail.ru')\n",
      "(2, 'talbinoni', 'talbinoni@aol.com')\n",
      "(1, 'tcampion', 'tcampion@aol.com')\n",
      "2022-05-05 15:17:31,702 INFO sqlalchemy.engine.Engine ROLLBACK\n"
     ]
    }
   ],
   "source": [
    "stmt = select(\n",
    "    func.row_number().over(partition_by=user_table.c.name, \\\n",
    "                           order_by=desc(address_table.c.email_address)),\n",
    "    user_table.c.name,\n",
    "    address_table.c.email_address\n",
    ").select_from(user_table).join(address_table)\n",
    "with engine.connect() as conn:  \n",
    "    result = conn.execute(stmt)\n",
    "    for row in result:\n",
    "        print(row)"
   ]
  },
  {
   "cell_type": "markdown",
   "metadata": {
    "pycharm": {
     "name": "#%% md\n"
    }
   },
   "source": [
    "В следующем примере мы применили три оконных функции. Первая функция возвращает порядковый номер строки, вторая функция возвращает число строк для одинаковых имен пользователей с накоплением, последняя функция ыозвращает количество строк результата."
   ]
  },
  {
   "cell_type": "code",
   "execution_count": 104,
   "metadata": {
    "pycharm": {
     "name": "#%%\n"
    }
   },
   "outputs": [
    {
     "name": "stdout",
     "output_type": "stream",
     "text": [
      "2022-05-05 15:17:31,737 INFO sqlalchemy.engine.Engine BEGIN (implicit)\n",
      "2022-05-05 15:17:31,740 INFO sqlalchemy.engine.Engine SELECT row_number() OVER () AS anon_1, count(*) OVER (ORDER BY user_account.name) AS anon_2, count(*) OVER () AS anon_3, user_account.name, address.email_address \n",
      "FROM user_account JOIN address ON user_account.id = address.user_id\n",
      "2022-05-05 15:17:31,744 INFO sqlalchemy.engine.Engine [generated in 0.00714s] ()\n",
      "(1, 3, 11, 'fmilano', 'fmilano@aol.com')\n",
      "(2, 3, 11, 'fmilano', 'fmilano@mail.ru')\n",
      "(3, 3, 11, 'fmilano', 'fmilano@yandex.ru')\n",
      "(4, 6, 11, 'gbfontana', 'gbfontana@aol.com')\n",
      "(5, 6, 11, 'gbfontana', 'gbfontana@mail.ru')\n",
      "(6, 6, 11, 'gbfontana', 'gbfontana@yandex.ru')\n",
      "(7, 7, 11, 'gcaccini', 'gcaccini@aol.com')\n",
      "(8, 8, 11, 'nnigrino', 'nnigrino@aol.com')\n",
      "(9, 10, 11, 'talbinoni', 'talbinoni@aol.com')\n",
      "(10, 10, 11, 'talbinoni', 'talbinoni@mail.ru')\n",
      "(11, 11, 11, 'tcampion', 'tcampion@aol.com')\n",
      "2022-05-05 15:17:31,751 INFO sqlalchemy.engine.Engine ROLLBACK\n"
     ]
    }
   ],
   "source": [
    "stmt = select(\n",
    "    func.row_number().over(),\n",
    "    func.count().over(order_by=user_table.c.name),\n",
    "    func.count().over(),\n",
    "    user_table.c.name,\n",
    "    address_table.c.email_address).select_from(user_table).join(address_table)\n",
    "\n",
    "with engine.connect() as conn:  \n",
    "    result = conn.execute(stmt)\n",
    "    for row in result:\n",
    "        print(row)"
   ]
  },
  {
   "cell_type": "markdown",
   "metadata": {
    "pycharm": {
     "name": "#%% md\n"
    }
   },
   "source": [
    "<p style=\"font-size:125%\">4.2.11.3. Предложение FILTER</p>\n",
    "\n",
    "Многие СУБД поддерживают предложение FILTER для ограничения числа строк, на которые действует агрегатная функция."
   ]
  },
  {
   "cell_type": "code",
   "execution_count": 105,
   "metadata": {
    "pycharm": {
     "name": "#%%\n"
    }
   },
   "outputs": [
    {
     "name": "stdout",
     "output_type": "stream",
     "text": [
      "2022-05-05 15:17:31,778 INFO sqlalchemy.engine.Engine BEGIN (implicit)\n",
      "2022-05-05 15:17:31,784 INFO sqlalchemy.engine.Engine SELECT count(address.email_address) FILTER (WHERE user_account.name = ?) AS anon_1, count(address.email_address) FILTER (WHERE user_account.name = ?) AS anon_2 \n",
      "FROM user_account JOIN address ON user_account.id = address.user_id\n",
      "2022-05-05 15:17:31,787 INFO sqlalchemy.engine.Engine [generated in 0.00384s] ('fmilano', 'talbinoni')\n",
      "[(3, 2)]\n",
      "2022-05-05 15:17:31,789 INFO sqlalchemy.engine.Engine ROLLBACK\n"
     ]
    }
   ],
   "source": [
    "stmt = select(\n",
    "    func.count(address_table.c.email_address).filter(user_table.c.name == 'fmilano'),\n",
    "    func.count(address_table.c.email_address).filter(user_table.c.name == 'talbinoni')\n",
    ").select_from(user_table).join(address_table)\n",
    "with engine.connect() as conn:  \n",
    "    result = conn.execute(stmt)\n",
    "    print(result.all())"
   ]
  },
  {
   "cell_type": "markdown",
   "metadata": {
    "pycharm": {
     "name": "#%% md\n"
    }
   },
   "source": [
    "<p style=\"font-size:150%; font-weight:bold\">4.3. Обновление и удаление строк с помощью Core</p>\n",
    "\n",
    "В этом разделе рассмотрим возможности интерфейса Core по обновлению и удалению данных.\n",
    "\n",
    "<p style=\"font-size:150%\">4.3.1. Обновление</p>\n",
    "\n",
    "Как правило, команда UPDATE языка SQL одновляет данные в одной таблице по условию, при этом ничего не возвращает. Однако, в некоторых СУБД релизована команда UPDATE, способная обновлять сразу несколько таблиц. Кроме того, с помощью предложения RETURNING некоторые СУБД пвозвращают обновлённые данные. Стандартная команда UPDATE применяется с помощью Core следующим образом:"
   ]
  },
  {
   "cell_type": "code",
   "execution_count": 106,
   "metadata": {
    "pycharm": {
     "name": "#%%\n"
    }
   },
   "outputs": [
    {
     "name": "stdout",
     "output_type": "stream",
     "text": [
      "UPDATE user_account SET name=:name, fullname=:fullname WHERE user_account.name = :name_1 {'name': 'rgiazotto', 'fullname': 'Giazotto Remo', 'name_1': 'talbinoni'}\n"
     ]
    }
   ],
   "source": [
    "from sqlalchemy import update\n",
    "stmt = (\n",
    "    update(user_table).where(user_table.c.name == 'talbinoni').\n",
    "    values(name = 'rgiazotto', fullname='Giazotto Remo')\n",
    ")\n",
    "print(stmt, stmt.compile().params)"
   ]
  },
  {
   "cell_type": "markdown",
   "metadata": {
    "pycharm": {
     "name": "#%% md\n"
    }
   },
   "source": [
    "Метод `Update.values()` управляет содержимым предложения SET команды UPDATE. Похожий метод `Insert.values()` ранее применялся нами для вставки записей. Обновляемые значения передаются в функцию с помощь имен столбцов, выступающих здесь в роли именованных  аргументов.\n",
    "\n",
    "SQLAlchemy поддерживает все основные формы команды UPDATE, в том числе, позволяет использовать SQL-выражения с участием столбцов."
   ]
  },
  {
   "cell_type": "code",
   "execution_count": 107,
   "metadata": {
    "pycharm": {
     "name": "#%%\n"
    }
   },
   "outputs": [
    {
     "data": {
      "text/plain": [
       "Table('user_account', MetaData(), Column('id', Integer(), table=<user_account>, primary_key=True, nullable=False), Column('name', String(length=30), table=<user_account>), Column('fullname', String(), table=<user_account>), schema=None)"
      ]
     },
     "execution_count": 107,
     "metadata": {},
     "output_type": "execute_result"
    }
   ],
   "source": [
    "user_table"
   ]
  },
  {
   "cell_type": "code",
   "execution_count": 108,
   "metadata": {
    "pycharm": {
     "name": "#%%\n"
    }
   },
   "outputs": [
    {
     "name": "stdout",
     "output_type": "stream",
     "text": [
      "UPDATE user_account SET name=(:name_1 || user_account.name)\n"
     ]
    }
   ],
   "source": [
    "stmt = (\n",
    "    update(user_table).\n",
    "    values(name=\"Username: \" + user_table.c.name)\n",
    ")\n",
    "print(stmt)"
   ]
  },
  {
   "cell_type": "markdown",
   "metadata": {
    "pycharm": {
     "name": "#%% md\n"
    }
   },
   "source": [
    "Для выполнения команды UPDATE в стиле executemany() используется функция `bindparam()`."
   ]
  },
  {
   "cell_type": "code",
   "execution_count": 109,
   "metadata": {
    "pycharm": {
     "name": "#%%\n"
    }
   },
   "outputs": [
    {
     "name": "stdout",
     "output_type": "stream",
     "text": [
      "2022-05-05 15:17:31,890 INFO sqlalchemy.engine.Engine BEGIN (implicit)\n",
      "2022-05-05 15:17:31,894 INFO sqlalchemy.engine.Engine UPDATE user_account SET name=? WHERE user_account.name = ?\n",
      "2022-05-05 15:17:31,900 INFO sqlalchemy.engine.Engine [generated in 0.00279s] (('ed', 'jack'), ('mary', 'wendy'), ('jake', 'jim'))\n",
      "2022-05-05 15:17:31,902 INFO sqlalchemy.engine.Engine COMMIT\n"
     ]
    }
   ],
   "source": [
    "from sqlalchemy import bindparam\n",
    "stmt = (\n",
    "  update(user_table).\n",
    "  where(user_table.c.name == bindparam('oldname')).\n",
    "  values(name=bindparam('newname'))\n",
    ")\n",
    "with engine.begin() as conn:\n",
    "  conn.execute(\n",
    "      stmt,\n",
    "      [\n",
    "         {'oldname':'jack', 'newname':'ed'},\n",
    "         {'oldname':'wendy', 'newname':'mary'},\n",
    "         {'oldname':'jim', 'newname':'jake'},\n",
    "      ]\n",
    "  )"
   ]
  },
  {
   "cell_type": "markdown",
   "metadata": {
    "pycharm": {
     "name": "#%% md\n"
    }
   },
   "source": [
    "<p style=\"font-size:125%\">Связанное обновление</p>\n",
    "\n",
    "Команда UPDATE может использовать строки в других таблицах с помощью связанного подзапроса."
   ]
  },
  {
   "cell_type": "code",
   "execution_count": 110,
   "metadata": {
    "pycharm": {
     "name": "#%%\n"
    }
   },
   "outputs": [
    {
     "name": "stdout",
     "output_type": "stream",
     "text": [
      "UPDATE user_account SET fullname=(SELECT address.email_address \n",
      "FROM address \n",
      "WHERE address.user_id = user_account.id ORDER BY address.id\n",
      " LIMIT :param_1)\n"
     ]
    }
   ],
   "source": [
    "scalar_subq = (\n",
    "  select(address_table.c.email_address).\n",
    "  where(address_table.c.user_id == user_table.c.id).\n",
    "  order_by(address_table.c.id).\n",
    "  limit(1).\n",
    "  scalar_subquery()\n",
    ")\n",
    "update_stmt = update(user_table).values(fullname=scalar_subq)\n",
    "print(update_stmt)"
   ]
  },
  {
   "cell_type": "markdown",
   "metadata": {
    "pycharm": {
     "name": "#%% md\n"
    }
   },
   "source": [
    "<p style=\"font-size:125%\">UPDATE ..FROM</p>\n",
    "\n",
    "Некоторые СУБД, такие, как PostgreSQL и MySQL поддерживают синтаксис \"UPDATE FROM\", который позволяет указывать дополнительные таблицы в предложении FROM. Такой синтасис будет сгенерирован неявно в случае, когда в предложении WHERE SQL-выражения появляются дполнительные таблицы."
   ]
  },
  {
   "cell_type": "code",
   "execution_count": 111,
   "metadata": {
    "pycharm": {
     "name": "#%%\n"
    }
   },
   "outputs": [
    {
     "name": "stdout",
     "output_type": "stream",
     "text": [
      "UPDATE user_account SET fullname=:fullname FROM address WHERE user_account.id = address.user_id AND address.email_address = :email_address_1\n"
     ]
    }
   ],
   "source": [
    "update_stmt = (\n",
    "   update(user_table).\n",
    "   where(user_table.c.id == address_table.c.user_id).\n",
    "   where(address_table.c.email_address == 'patrick@aol.com').\n",
    "   values(fullname='Pat')\n",
    " )\n",
    "print(update_stmt)"
   ]
  },
  {
   "cell_type": "markdown",
   "metadata": {
    "pycharm": {
     "name": "#%% md\n"
    }
   },
   "source": [
    "<p style=\"font-size:125%\">Параметризованное упорядоченное обновление</p>\n",
    "\n",
    "Другой особенностью MySQL является обновление с учетом порядка параметров в предложении SET. Для этой цели в SQLAlchemy предусмотрен метод `Update.ordered_values()`, принимающий последовательность кортежей."
   ]
  },
  {
   "cell_type": "code",
   "execution_count": 112,
   "metadata": {
    "pycharm": {
     "name": "#%%\n"
    }
   },
   "outputs": [
    {
     "name": "stdout",
     "output_type": "stream",
     "text": [
      "UPDATE some_table SET y=:y, x=(some_table.y + :y_1)\n"
     ]
    }
   ],
   "source": [
    "update_stmt = (\n",
    "    update(some_table).\n",
    "    ordered_values(\n",
    "        (some_table.c.y, 20),\n",
    "        (some_table.c.x, some_table.c.y + 10)\n",
    "    )\n",
    ")\n",
    "print(update_stmt)"
   ]
  },
  {
   "cell_type": "markdown",
   "metadata": {
    "pycharm": {
     "name": "#%% md\n"
    }
   },
   "source": [
    "<p style=\"font-size:150%\">4.3.2. Удаление</p>\n",
    "\n",
    "Для удалния строк в SQLAlchemy предусмотрена функция delete(). Как правило, данная функция не возвращает удаленные строки, если не применяется поддерживаемое некоторыми СУБД предложение RETURNING."
   ]
  },
  {
   "cell_type": "code",
   "execution_count": 113,
   "metadata": {
    "pycharm": {
     "name": "#%%\n"
    }
   },
   "outputs": [
    {
     "name": "stdout",
     "output_type": "stream",
     "text": [
      "DELETE FROM user_account WHERE user_account.name = :name_1\n"
     ]
    }
   ],
   "source": [
    "from sqlalchemy import delete\n",
    "stmt = delete(user_table).where(user_table.c.name == 'patrick')\n",
    "print(stmt)"
   ]
  },
  {
   "cell_type": "markdown",
   "metadata": {
    "pycharm": {
     "name": "#%% md\n"
    }
   },
   "source": [
    "<p style=\"font-size:125%\">Удаление с помощью нескольких таблиц</p>\n",
    "\n",
    "Функция delete(), так же, как и update(), может использовать несколько таблиц. данная функциональность является особенностью СУБД MySQL."
   ]
  },
  {
   "cell_type": "code",
   "execution_count": 114,
   "metadata": {
    "pycharm": {
     "name": "#%%\n"
    }
   },
   "outputs": [
    {
     "name": "stdout",
     "output_type": "stream",
     "text": [
      "DELETE FROM user_account USING user_account, address WHERE user_account.id = address.user_id AND address.email_address = %s\n"
     ]
    }
   ],
   "source": [
    "delete_stmt = (\n",
    "   delete(user_table).\n",
    "   where(user_table.c.id == address_table.c.user_id).\n",
    "   where(address_table.c.email_address == 'patrick@aol.com')\n",
    " )\n",
    "from sqlalchemy.dialects import mysql\n",
    "print(delete_stmt.compile(dialect=mysql.dialect()))"
   ]
  },
  {
   "cell_type": "markdown",
   "metadata": {
    "pycharm": {
     "name": "#%% md\n"
    }
   },
   "source": [
    "<p style=\"font-size:150%\">4.3.3. Получение числа удалённых или обновлённых строк</p>"
   ]
  },
  {
   "cell_type": "code",
   "execution_count": 115,
   "metadata": {
    "pycharm": {
     "name": "#%%\n"
    }
   },
   "outputs": [
    {
     "name": "stdout",
     "output_type": "stream",
     "text": [
      "2022-05-05 15:17:32,093 INFO sqlalchemy.engine.Engine BEGIN (implicit)\n",
      "2022-05-05 15:17:32,093 INFO sqlalchemy.engine.Engine UPDATE user_account SET name=?, fullname=? WHERE user_account.name = ?\n",
      "2022-05-05 15:17:32,101 INFO sqlalchemy.engine.Engine [generated in 0.00243s] ('rgiazotto', 'Giazotto Remo', 'talbinoni')\n",
      "1\n",
      "2022-05-05 15:17:32,109 INFO sqlalchemy.engine.Engine COMMIT\n"
     ]
    }
   ],
   "source": [
    "stmt = (\n",
    "    update(user_table).where(user_table.c.name == 'talbinoni').\n",
    "    values(name = 'rgiazotto', fullname='Giazotto Remo')\n",
    ")\n",
    "with engine.begin() as conn:\n",
    "    result = conn.execute(stmt)\n",
    "    print(result.rowcount)"
   ]
  },
  {
   "cell_type": "markdown",
   "metadata": {
    "pycharm": {
     "name": "#%% md\n"
    }
   },
   "source": [
    "<p style=\"font-size:150%\">4.3.4. Предложение RETURNING в командах UPDATE и DELETE</p>\n",
    "\n",
    "Поддержка предложения RETURNING реализована с помощью методов `Update.returning()` и `Delete.returning()`. Если применить эти методы в запросах к СУБД, поддерживающей RETURNING, они вернут затронутые изменениями записи в итерируемом объекте Result."
   ]
  },
  {
   "cell_type": "code",
   "execution_count": 116,
   "metadata": {
    "pycharm": {
     "name": "#%%\n"
    }
   },
   "outputs": [
    {
     "name": "stdout",
     "output_type": "stream",
     "text": [
      "UPDATE user_account SET fullname=:fullname WHERE user_account.name = :name_1 RETURNING user_account.id, user_account.name\n",
      "DELETE FROM user_account WHERE user_account.name = :name_1 RETURNING user_account.id, user_account.name\n"
     ]
    }
   ],
   "source": [
    "update_stmt = (\n",
    "    update(user_table).where(user_table.c.name == 'patrick').\n",
    "    values(fullname='Patrick the Star').\n",
    "    returning(user_table.c.id, user_table.c.name)\n",
    ")\n",
    "print(update_stmt)\n",
    "\n",
    "\n",
    "delete_stmt = (\n",
    "    delete(user_table).where(user_table.c.name == 'patrick').\n",
    "    returning(user_table.c.id, user_table.c.name)\n",
    ")\n",
    "print(delete_stmt)"
   ]
  },
  {
   "cell_type": "markdown",
   "metadata": {
    "pycharm": {
     "name": "#%% md\n"
    }
   },
   "source": [
    "<p style=\"font-size:150%; font-weight:bold\">Источники</p>\n",
    "\n",
    "Дополнительные источники информации о реализации команд UPDATE и DELETE с помощью SQLAlchemy.\n",
    "\n",
    "- <a href=\"https://docs.sqlalchemy.org/en/14/core/dml.html#sqlalchemy.sql.expression.Update\">Update</a><br>\n",
    "- <a href=\"https://docs.sqlalchemy.org/en/14/core/dml.html#sqlalchemy.sql.expression.Delete\">Delete</a><br>\n",
    "- <a href=\"https://docs.sqlalchemy.org/en/14/tutorial/orm_data_manipulation.html#tutorial-orm-enabled-update\">ORM-enabled UPDATE statements</a><br>\n",
    "- <a href=\"https://docs.sqlalchemy.org/en/14/tutorial/orm_data_manipulation.html#tutorial-orm-enabled-delete\">ORM-enabled DELETE Statements</a><br>"
   ]
  },
  {
   "cell_type": "markdown",
   "metadata": {
    "pycharm": {
     "name": "#%% md\n"
    }
   },
   "source": [
    "[К оглавлению](#Home)\n",
    "\n",
    "<a id=5></a>\n",
    "\n",
    "# Манипуляция данными с помощью ORM\n",
    "\n",
    "<p style=\"font-size:150%\">Вставка строк с помощью ORM</p>\n",
    "\n",
    "При использовании ORM объект Сеанса отвечает за создание конструкций Вставки и их отправку в транзакции. Способ, которым мы инструктируем Сеанс сделать это, заключается в добавлении к нему записей объекта; Затем Сеанс гарантирует, что эти новые записи будут отправлены в базу данных, когда это потребуется, используя процесс, известный как сброс.\n",
    "\n",
    "\n",
    "<p style=\"font-size:125%\">Экземпляры классов представляют строки</p>\n",
    "\n",
    "В то время как в предыдущем примере мы сгенерировали вставку, используя словари Python, чтобы указать данные, которые мы хотели добавить, в случае применения интерфейса ORM мы напрямую используем пользовательские классы Python, которые мы определили ранее в разделе «Определение метаданных таблицы с помощью ORM». Классы User и Address служили местом для определения того, как должны выглядеть соответствующие таблицы базы данных. Эти классы также служат расширяемыми объектами данных, которые мы также используем для создания и управления строками внутри транзакции. Ниже мы создадим два объекта User, каждый из которых представляет потенциальную строку базы данных для вставки:"
   ]
  },
  {
   "cell_type": "code",
   "execution_count": 117,
   "metadata": {
    "pycharm": {
     "name": "#%%\n"
    }
   },
   "outputs": [],
   "source": [
    "squidward = User(name=\"squidward\", fullname=\"Squidward Tentacles\")\n",
    "krabs = User(name=\"ehkrabs\", fullname=\"Eugene H. Krabs\")"
   ]
  },
  {
   "cell_type": "markdown",
   "metadata": {
    "pycharm": {
     "name": "#%% md\n"
    }
   },
   "source": [
    "Мы можем создавать эти объекты, используя имена сопоставленных столбцов в качестве аргументов ключевого слова в конструкторе. Это возможно, поскольку класс User включает в себя автоматически сгенерированный конструктор `__init__()`, который был предоставлен сопоставлением ORM, чтобы мы могли создавать каждый объект, используя имена столбцов в качестве ключей в конструкторе."
   ]
  },
  {
   "cell_type": "code",
   "execution_count": 118,
   "metadata": {
    "pycharm": {
     "name": "#%%\n"
    }
   },
   "outputs": [
    {
     "data": {
      "text/plain": [
       "User(id=None, name='squidward', fullname='Squidward Tentacles')"
      ]
     },
     "execution_count": 118,
     "metadata": {},
     "output_type": "execute_result"
    }
   ],
   "source": [
    "squidward"
   ]
  }
 ],
 "metadata": {
  "kernelspec": {
   "display_name": "Python 3",
   "language": "python",
   "name": "python3"
  },
  "language_info": {
   "codemirror_mode": {
    "name": "ipython",
    "version": 3
   },
   "file_extension": ".py",
   "mimetype": "text/x-python",
   "name": "python",
   "nbconvert_exporter": "python",
   "pygments_lexer": "ipython3",
   "version": "3.7.6"
  }
 },
 "nbformat": 4,
 "nbformat_minor": 5
}