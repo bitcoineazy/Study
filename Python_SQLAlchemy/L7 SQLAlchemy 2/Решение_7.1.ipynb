{
 "cells": [
  {
   "cell_type": "markdown",
   "source": [
    "<img src=../Img/pencil-2841771.png style=\"width:39%\">\n",
    "<p style=\"background-color:pink; font-size:125%; color: black;text-align:center\">Домашнее задание</p>\n",
    "<p>Выполните домашнее задание с помощью Jupyter Notebook.</p>\n",
    "\n",
    "1. Студентам, обучающимся в ВГУ, присвойте порядковый номер, упорядочив по фамилии и имени.\n",
    "\n",
    "2. Предметы, по которым сдавались экзамены, ранжируйте по среднему баллу, полученному на экзаменах. Результат должен содержать название предмета, средний балл, номер ранга без пропусков. Предметам с большим значением среднего балла присвойте меньшее значение ранга. Значение среднего балла округлите до двух десятичных знаков.\n",
    "\n",
    "3. Ранжируйте преподавателей (без пропуска значений ранга) по количеству преподаваемых ими предметов.\n",
    "\n",
    "4. Ранжируйте семестры по количеству учебных часов.\n",
    "\n",
    "5. Рассчитайте относительный прирост суммарного количества учебных часов предметов семестра по мере увеличения номера семестра.\n",
    "\n",
    "6. Для каждого студента, обучающегося в своём городе, рассчитайте разницу в возрасте в днях с самым старшим из всех студентов, обучающихся в своём городе. Результат упорядочить по разности в возрасте."
   ],
   "metadata": {
    "collapsed": false,
    "pycharm": {
     "name": "#%% md\n"
    }
   }
  },
  {
   "cell_type": "code",
   "execution_count": 18,
   "outputs": [],
   "source": [
    "from sqlalchemy import create_engine\n",
    "import pandas as pd"
   ],
   "metadata": {
    "collapsed": false,
    "pycharm": {
     "name": "#%%\n"
    }
   }
  },
  {
   "cell_type": "code",
   "execution_count": 19,
   "outputs": [],
   "source": [
    "engine = create_engine('sqlite+pysqlite:///../Data/Students.db')"
   ],
   "metadata": {
    "collapsed": false,
    "pycharm": {
     "name": "#%%\n"
    }
   }
  },
  {
   "cell_type": "code",
   "execution_count": 20,
   "outputs": [],
   "source": [
    "conn = engine.connect()"
   ],
   "metadata": {
    "collapsed": false,
    "pycharm": {
     "name": "#%%\n"
    }
   }
  },
  {
   "cell_type": "code",
   "execution_count": 21,
   "outputs": [
    {
     "data": {
      "text/plain": "    dense_rank  student_id     surname       name\n0            1          78    Агафонов    Василий\n1            2         113     Аксенов    Валерий\n2            3          55      Белкин      Вадим\n3            4          99    Борисова     Марина\n4            5          88     Жданова      Ирина\n5            6          12     Зайцева      Ольга\n6            7           1      Иванов       Иван\n7            8          10    Кузнецов      Борис\n8            9         654       Лукин      Артем\n9           10          76  Мельникова      Дарья\n10          11          66   Некрасова   Вероника\n11          12         265      Павлов     Андрей\n12          13           3      Петров       Петр\n13          14          62    Семенова   Вероника\n14          15          65    Сергеева      Фёкла\n15          16         116     Федоров  Гостомысл",
      "text/html": "<div>\n<style scoped>\n    .dataframe tbody tr th:only-of-type {\n        vertical-align: middle;\n    }\n\n    .dataframe tbody tr th {\n        vertical-align: top;\n    }\n\n    .dataframe thead th {\n        text-align: right;\n    }\n</style>\n<table border=\"1\" class=\"dataframe\">\n  <thead>\n    <tr style=\"text-align: right;\">\n      <th></th>\n      <th>dense_rank</th>\n      <th>student_id</th>\n      <th>surname</th>\n      <th>name</th>\n    </tr>\n  </thead>\n  <tbody>\n    <tr>\n      <th>0</th>\n      <td>1</td>\n      <td>78</td>\n      <td>Агафонов</td>\n      <td>Василий</td>\n    </tr>\n    <tr>\n      <th>1</th>\n      <td>2</td>\n      <td>113</td>\n      <td>Аксенов</td>\n      <td>Валерий</td>\n    </tr>\n    <tr>\n      <th>2</th>\n      <td>3</td>\n      <td>55</td>\n      <td>Белкин</td>\n      <td>Вадим</td>\n    </tr>\n    <tr>\n      <th>3</th>\n      <td>4</td>\n      <td>99</td>\n      <td>Борисова</td>\n      <td>Марина</td>\n    </tr>\n    <tr>\n      <th>4</th>\n      <td>5</td>\n      <td>88</td>\n      <td>Жданова</td>\n      <td>Ирина</td>\n    </tr>\n    <tr>\n      <th>5</th>\n      <td>6</td>\n      <td>12</td>\n      <td>Зайцева</td>\n      <td>Ольга</td>\n    </tr>\n    <tr>\n      <th>6</th>\n      <td>7</td>\n      <td>1</td>\n      <td>Иванов</td>\n      <td>Иван</td>\n    </tr>\n    <tr>\n      <th>7</th>\n      <td>8</td>\n      <td>10</td>\n      <td>Кузнецов</td>\n      <td>Борис</td>\n    </tr>\n    <tr>\n      <th>8</th>\n      <td>9</td>\n      <td>654</td>\n      <td>Лукин</td>\n      <td>Артем</td>\n    </tr>\n    <tr>\n      <th>9</th>\n      <td>10</td>\n      <td>76</td>\n      <td>Мельникова</td>\n      <td>Дарья</td>\n    </tr>\n    <tr>\n      <th>10</th>\n      <td>11</td>\n      <td>66</td>\n      <td>Некрасова</td>\n      <td>Вероника</td>\n    </tr>\n    <tr>\n      <th>11</th>\n      <td>12</td>\n      <td>265</td>\n      <td>Павлов</td>\n      <td>Андрей</td>\n    </tr>\n    <tr>\n      <th>12</th>\n      <td>13</td>\n      <td>3</td>\n      <td>Петров</td>\n      <td>Петр</td>\n    </tr>\n    <tr>\n      <th>13</th>\n      <td>14</td>\n      <td>62</td>\n      <td>Семенова</td>\n      <td>Вероника</td>\n    </tr>\n    <tr>\n      <th>14</th>\n      <td>15</td>\n      <td>65</td>\n      <td>Сергеева</td>\n      <td>Фёкла</td>\n    </tr>\n    <tr>\n      <th>15</th>\n      <td>16</td>\n      <td>116</td>\n      <td>Федоров</td>\n      <td>Гостомысл</td>\n    </tr>\n  </tbody>\n</table>\n</div>"
     },
     "execution_count": 21,
     "metadata": {},
     "output_type": "execute_result"
    }
   ],
   "source": [
    "# 1. Студентам, обучающимся в ВГУ, присвойте порядковый номер, упорядочив по фамилии и имени.\n",
    "\n",
    "s = \"\"\"\n",
    "SELECT rank () OVER (ORDER BY st.surname, st.name) AS dense_rank,\n",
    "st.student_id, st.surname, st.name\n",
    "FROM student st JOIN university u ON st.univ_id=u.univ_id\n",
    "WHERE u.univ_name = 'ВГУ'\n",
    "\"\"\"\n",
    "\n",
    "pd.read_sql(s, conn)"
   ],
   "metadata": {
    "collapsed": false,
    "pycharm": {
     "name": "#%%\n"
    }
   }
  },
  {
   "cell_type": "code",
   "execution_count": 22,
   "outputs": [
    {
     "data": {
      "text/plain": "   dense_rank  subj_id                                 subj_name  avd_mark\n0           1       14  Обработка данных и моделирование в Excel      4.00\n1           2       94                           Английский язык      3.75\n2           3       10                               Информатика      3.33\n3           3       11   Программирование на языках Python и SQL      3.33\n4           4       56                                   История      3.14\n5           5       73                               Физкультура      3.00\n6           6       22                                    Физика      2.83\n7           7       13                                       ОБЖ      2.50\n8           8       12                             Анализ данных      2.00\n9           8       43                                Математика      2.00",
      "text/html": "<div>\n<style scoped>\n    .dataframe tbody tr th:only-of-type {\n        vertical-align: middle;\n    }\n\n    .dataframe tbody tr th {\n        vertical-align: top;\n    }\n\n    .dataframe thead th {\n        text-align: right;\n    }\n</style>\n<table border=\"1\" class=\"dataframe\">\n  <thead>\n    <tr style=\"text-align: right;\">\n      <th></th>\n      <th>dense_rank</th>\n      <th>subj_id</th>\n      <th>subj_name</th>\n      <th>avd_mark</th>\n    </tr>\n  </thead>\n  <tbody>\n    <tr>\n      <th>0</th>\n      <td>1</td>\n      <td>14</td>\n      <td>Обработка данных и моделирование в Excel</td>\n      <td>4.00</td>\n    </tr>\n    <tr>\n      <th>1</th>\n      <td>2</td>\n      <td>94</td>\n      <td>Английский язык</td>\n      <td>3.75</td>\n    </tr>\n    <tr>\n      <th>2</th>\n      <td>3</td>\n      <td>10</td>\n      <td>Информатика</td>\n      <td>3.33</td>\n    </tr>\n    <tr>\n      <th>3</th>\n      <td>3</td>\n      <td>11</td>\n      <td>Программирование на языках Python и SQL</td>\n      <td>3.33</td>\n    </tr>\n    <tr>\n      <th>4</th>\n      <td>4</td>\n      <td>56</td>\n      <td>История</td>\n      <td>3.14</td>\n    </tr>\n    <tr>\n      <th>5</th>\n      <td>5</td>\n      <td>73</td>\n      <td>Физкультура</td>\n      <td>3.00</td>\n    </tr>\n    <tr>\n      <th>6</th>\n      <td>6</td>\n      <td>22</td>\n      <td>Физика</td>\n      <td>2.83</td>\n    </tr>\n    <tr>\n      <th>7</th>\n      <td>7</td>\n      <td>13</td>\n      <td>ОБЖ</td>\n      <td>2.50</td>\n    </tr>\n    <tr>\n      <th>8</th>\n      <td>8</td>\n      <td>12</td>\n      <td>Анализ данных</td>\n      <td>2.00</td>\n    </tr>\n    <tr>\n      <th>9</th>\n      <td>8</td>\n      <td>43</td>\n      <td>Математика</td>\n      <td>2.00</td>\n    </tr>\n  </tbody>\n</table>\n</div>"
     },
     "execution_count": 22,
     "metadata": {},
     "output_type": "execute_result"
    }
   ],
   "source": [
    "# 2. Предметы, по которым сдавались экзамены, ранжируйте по среднему баллу, полученному на экзаменах. Результат должен содержать название предмета, средний балл, номер ранга без пропусков. Предметам с большим значением среднего балла присвойте меньшее значение ранга. Значение среднего балла округлите до двух десятичных знаков.\n",
    "\n",
    "s = \"\"\"\n",
    "WITH A as (\n",
    "SELECT su.subj_id, su.subj_name, avg(em.mark) AS avg_m\n",
    "from exam_marks em Join subject su on em.subj_id=su.subj_id\n",
    "GROUP by em.subj_id\n",
    ")\n",
    "\n",
    "SELECT dense_rank() OVER(ORDER by A.avg_m DESC) as dense_rank, A.subj_id, A.subj_name, round(A.avg_m, 2) AS avd_mark\n",
    "FROM A\n",
    "\"\"\"\n",
    "\n",
    "pd.read_sql(s, conn)"
   ],
   "metadata": {
    "collapsed": false,
    "pycharm": {
     "name": "#%%\n"
    }
   }
  },
  {
   "cell_type": "code",
   "execution_count": 23,
   "outputs": [
    {
     "data": {
      "text/plain": "    ranc  lecturer_id     surname      name  count_subj\n0      1            2     Зайцева      Юлия           2\n1      1            6   Максимова    Иванна           2\n2      1           11    Куликова    Ираида           2\n3      1           16      Волков    Михаил           2\n4      1           22    Беспалов     Юлиан           2\n5      1          108     Струков   Николай           2\n6      2            1    Сафонова     Лукия           1\n7      2            3   Мамонтова   Акулина           1\n8      2            5     Брагина    Нинель           1\n9      2           12  Кудрявцева      Анна           1\n10     2           15    Дорофеев  Прокофий           1\n11     2           18       Зимин     Юлиан           1\n12     2           19    Алексеев    Елисей           1\n13     2           20     Тихонов   Ладомир           1\n14     2           23     Беляков   Мефодий           1\n15     2           24  Колесников     Борис           1\n16     2           46     Никонов      Иван           1\n17     2           74     Лагутин     Павел           1",
      "text/html": "<div>\n<style scoped>\n    .dataframe tbody tr th:only-of-type {\n        vertical-align: middle;\n    }\n\n    .dataframe tbody tr th {\n        vertical-align: top;\n    }\n\n    .dataframe thead th {\n        text-align: right;\n    }\n</style>\n<table border=\"1\" class=\"dataframe\">\n  <thead>\n    <tr style=\"text-align: right;\">\n      <th></th>\n      <th>ranc</th>\n      <th>lecturer_id</th>\n      <th>surname</th>\n      <th>name</th>\n      <th>count_subj</th>\n    </tr>\n  </thead>\n  <tbody>\n    <tr>\n      <th>0</th>\n      <td>1</td>\n      <td>2</td>\n      <td>Зайцева</td>\n      <td>Юлия</td>\n      <td>2</td>\n    </tr>\n    <tr>\n      <th>1</th>\n      <td>1</td>\n      <td>6</td>\n      <td>Максимова</td>\n      <td>Иванна</td>\n      <td>2</td>\n    </tr>\n    <tr>\n      <th>2</th>\n      <td>1</td>\n      <td>11</td>\n      <td>Куликова</td>\n      <td>Ираида</td>\n      <td>2</td>\n    </tr>\n    <tr>\n      <th>3</th>\n      <td>1</td>\n      <td>16</td>\n      <td>Волков</td>\n      <td>Михаил</td>\n      <td>2</td>\n    </tr>\n    <tr>\n      <th>4</th>\n      <td>1</td>\n      <td>22</td>\n      <td>Беспалов</td>\n      <td>Юлиан</td>\n      <td>2</td>\n    </tr>\n    <tr>\n      <th>5</th>\n      <td>1</td>\n      <td>108</td>\n      <td>Струков</td>\n      <td>Николай</td>\n      <td>2</td>\n    </tr>\n    <tr>\n      <th>6</th>\n      <td>2</td>\n      <td>1</td>\n      <td>Сафонова</td>\n      <td>Лукия</td>\n      <td>1</td>\n    </tr>\n    <tr>\n      <th>7</th>\n      <td>2</td>\n      <td>3</td>\n      <td>Мамонтова</td>\n      <td>Акулина</td>\n      <td>1</td>\n    </tr>\n    <tr>\n      <th>8</th>\n      <td>2</td>\n      <td>5</td>\n      <td>Брагина</td>\n      <td>Нинель</td>\n      <td>1</td>\n    </tr>\n    <tr>\n      <th>9</th>\n      <td>2</td>\n      <td>12</td>\n      <td>Кудрявцева</td>\n      <td>Анна</td>\n      <td>1</td>\n    </tr>\n    <tr>\n      <th>10</th>\n      <td>2</td>\n      <td>15</td>\n      <td>Дорофеев</td>\n      <td>Прокофий</td>\n      <td>1</td>\n    </tr>\n    <tr>\n      <th>11</th>\n      <td>2</td>\n      <td>18</td>\n      <td>Зимин</td>\n      <td>Юлиан</td>\n      <td>1</td>\n    </tr>\n    <tr>\n      <th>12</th>\n      <td>2</td>\n      <td>19</td>\n      <td>Алексеев</td>\n      <td>Елисей</td>\n      <td>1</td>\n    </tr>\n    <tr>\n      <th>13</th>\n      <td>2</td>\n      <td>20</td>\n      <td>Тихонов</td>\n      <td>Ладомир</td>\n      <td>1</td>\n    </tr>\n    <tr>\n      <th>14</th>\n      <td>2</td>\n      <td>23</td>\n      <td>Беляков</td>\n      <td>Мефодий</td>\n      <td>1</td>\n    </tr>\n    <tr>\n      <th>15</th>\n      <td>2</td>\n      <td>24</td>\n      <td>Колесников</td>\n      <td>Борис</td>\n      <td>1</td>\n    </tr>\n    <tr>\n      <th>16</th>\n      <td>2</td>\n      <td>46</td>\n      <td>Никонов</td>\n      <td>Иван</td>\n      <td>1</td>\n    </tr>\n    <tr>\n      <th>17</th>\n      <td>2</td>\n      <td>74</td>\n      <td>Лагутин</td>\n      <td>Павел</td>\n      <td>1</td>\n    </tr>\n  </tbody>\n</table>\n</div>"
     },
     "execution_count": 23,
     "metadata": {},
     "output_type": "execute_result"
    }
   ],
   "source": [
    "# 3. Ранжируйте преподавателей (без пропуска значений ранга) по количеству преподаваемых ими предметов.\n",
    "\n",
    "s = \"\"\"\n",
    "WITH A as (\n",
    "SELECT lu.lecturer_id, lu.surname, lu.name, count(sl.subj_id) AS count_subj\n",
    "from lecturer lu Join subj_lect sl on lu.lecturer_id=sl.lecturer_id\n",
    "GROUP by lu.lecturer_id\n",
    ")\n",
    "\n",
    "SELECT dense_rank() OVER (ORDER BY A.count_subj desc) as ranc, A.*\n",
    "FROM A;\n",
    "\"\"\"\n",
    "\n",
    "pd.read_sql(s, conn)"
   ],
   "metadata": {
    "collapsed": false,
    "pycharm": {
     "name": "#%%\n"
    }
   }
  },
  {
   "cell_type": "code",
   "execution_count": 24,
   "outputs": [
    {
     "data": {
      "text/plain": "   semester  Кол-во учебных часов  Ранг по кол-ву учебных часов\n0         5                    34                             1\n1         3                    92                             2\n2         2                   124                             3\n3         1                   132                             4\n4         4                   138                             5",
      "text/html": "<div>\n<style scoped>\n    .dataframe tbody tr th:only-of-type {\n        vertical-align: middle;\n    }\n\n    .dataframe tbody tr th {\n        vertical-align: top;\n    }\n\n    .dataframe thead th {\n        text-align: right;\n    }\n</style>\n<table border=\"1\" class=\"dataframe\">\n  <thead>\n    <tr style=\"text-align: right;\">\n      <th></th>\n      <th>semester</th>\n      <th>Кол-во учебных часов</th>\n      <th>Ранг по кол-ву учебных часов</th>\n    </tr>\n  </thead>\n  <tbody>\n    <tr>\n      <th>0</th>\n      <td>5</td>\n      <td>34</td>\n      <td>1</td>\n    </tr>\n    <tr>\n      <th>1</th>\n      <td>3</td>\n      <td>92</td>\n      <td>2</td>\n    </tr>\n    <tr>\n      <th>2</th>\n      <td>2</td>\n      <td>124</td>\n      <td>3</td>\n    </tr>\n    <tr>\n      <th>3</th>\n      <td>1</td>\n      <td>132</td>\n      <td>4</td>\n    </tr>\n    <tr>\n      <th>4</th>\n      <td>4</td>\n      <td>138</td>\n      <td>5</td>\n    </tr>\n  </tbody>\n</table>\n</div>"
     },
     "execution_count": 24,
     "metadata": {},
     "output_type": "execute_result"
    }
   ],
   "source": [
    "# 4. Ранжируйте семестры по количеству учебных часов.\n",
    "\n",
    "s = \"\"\"SELECT semester, SUM(hour) AS \"Кол-во учебных часов\", rank() over (order by sum(hour)) AS \"Ранг по кол-ву учебных часов\" FROM subject GROUP BY semester\"\"\"\n",
    "\n",
    "pd.read_sql(s, conn)"
   ],
   "metadata": {
    "collapsed": false,
    "pycharm": {
     "name": "#%%\n"
    }
   }
  },
  {
   "cell_type": "code",
   "execution_count": 25,
   "outputs": [
    {
     "data": {
      "text/plain": "   semester  Кол-во учебных часов  Прирост суммарного кол-ва учебных часов\n0         1                   132                                      NaN\n1         2                   124                                     -8.0\n2         3                    92                                    -32.0\n3         4                   138                                     46.0\n4         5                    34                                   -104.0",
      "text/html": "<div>\n<style scoped>\n    .dataframe tbody tr th:only-of-type {\n        vertical-align: middle;\n    }\n\n    .dataframe tbody tr th {\n        vertical-align: top;\n    }\n\n    .dataframe thead th {\n        text-align: right;\n    }\n</style>\n<table border=\"1\" class=\"dataframe\">\n  <thead>\n    <tr style=\"text-align: right;\">\n      <th></th>\n      <th>semester</th>\n      <th>Кол-во учебных часов</th>\n      <th>Прирост суммарного кол-ва учебных часов</th>\n    </tr>\n  </thead>\n  <tbody>\n    <tr>\n      <th>0</th>\n      <td>1</td>\n      <td>132</td>\n      <td>NaN</td>\n    </tr>\n    <tr>\n      <th>1</th>\n      <td>2</td>\n      <td>124</td>\n      <td>-8.0</td>\n    </tr>\n    <tr>\n      <th>2</th>\n      <td>3</td>\n      <td>92</td>\n      <td>-32.0</td>\n    </tr>\n    <tr>\n      <th>3</th>\n      <td>4</td>\n      <td>138</td>\n      <td>46.0</td>\n    </tr>\n    <tr>\n      <th>4</th>\n      <td>5</td>\n      <td>34</td>\n      <td>-104.0</td>\n    </tr>\n  </tbody>\n</table>\n</div>"
     },
     "execution_count": 25,
     "metadata": {},
     "output_type": "execute_result"
    }
   ],
   "source": [
    "# 5. Рассчитайте относительный прирост суммарного количества учебных часов предметов семестра по мере увеличения номера семестра.\n",
    "\n",
    "s = \"\"\"\n",
    "SELECT semester, SUM(hour) AS \"Кол-во учебных часов\",\n",
    "(sum(hour) - lag(sum(hour)) over ()) AS \"Прирост суммарного кол-ва учебных часов\"\n",
    "FROM subject GROUP BY semester ORDER BY semester\n",
    "\"\"\"\n",
    "\n",
    "pd.read_sql(s, conn)"
   ],
   "metadata": {
    "collapsed": false,
    "pycharm": {
     "name": "#%%\n"
    }
   }
  },
  {
   "cell_type": "code",
   "execution_count": 26,
   "outputs": [
    {
     "data": {
      "text/plain": "   student_id       name    surname                    birthday  age_day_diff\n0           6      Вадим    Сидоров  1999-06-07 00:00:00.000000           0.0\n1          55      Вадим     Белкин  2000-01-07 00:00:00.000000         214.0\n2         265     Андрей     Павлов  2000-11-05 00:00:00.000000         517.0\n3          32      Павел      Котов  2001-02-28 00:00:00.000000         632.0\n4         203  Екатерина    Петрова  2001-05-21 00:00:00.000000         714.0\n5         200  Александр    Баранов  2001-08-18 00:00:00.000000         803.0\n6         654      Артем      Лукин  2001-12-01 00:00:00.000000         908.0\n7         207      Федор   Миронова  2002-04-15 00:00:00.000000        1043.0\n8          58       Вера  Журавлева  2003-06-14 00:00:00.000000        1468.0",
      "text/html": "<div>\n<style scoped>\n    .dataframe tbody tr th:only-of-type {\n        vertical-align: middle;\n    }\n\n    .dataframe tbody tr th {\n        vertical-align: top;\n    }\n\n    .dataframe thead th {\n        text-align: right;\n    }\n</style>\n<table border=\"1\" class=\"dataframe\">\n  <thead>\n    <tr style=\"text-align: right;\">\n      <th></th>\n      <th>student_id</th>\n      <th>name</th>\n      <th>surname</th>\n      <th>birthday</th>\n      <th>age_day_diff</th>\n    </tr>\n  </thead>\n  <tbody>\n    <tr>\n      <th>0</th>\n      <td>6</td>\n      <td>Вадим</td>\n      <td>Сидоров</td>\n      <td>1999-06-07 00:00:00.000000</td>\n      <td>0.0</td>\n    </tr>\n    <tr>\n      <th>1</th>\n      <td>55</td>\n      <td>Вадим</td>\n      <td>Белкин</td>\n      <td>2000-01-07 00:00:00.000000</td>\n      <td>214.0</td>\n    </tr>\n    <tr>\n      <th>2</th>\n      <td>265</td>\n      <td>Андрей</td>\n      <td>Павлов</td>\n      <td>2000-11-05 00:00:00.000000</td>\n      <td>517.0</td>\n    </tr>\n    <tr>\n      <th>3</th>\n      <td>32</td>\n      <td>Павел</td>\n      <td>Котов</td>\n      <td>2001-02-28 00:00:00.000000</td>\n      <td>632.0</td>\n    </tr>\n    <tr>\n      <th>4</th>\n      <td>203</td>\n      <td>Екатерина</td>\n      <td>Петрова</td>\n      <td>2001-05-21 00:00:00.000000</td>\n      <td>714.0</td>\n    </tr>\n    <tr>\n      <th>5</th>\n      <td>200</td>\n      <td>Александр</td>\n      <td>Баранов</td>\n      <td>2001-08-18 00:00:00.000000</td>\n      <td>803.0</td>\n    </tr>\n    <tr>\n      <th>6</th>\n      <td>654</td>\n      <td>Артем</td>\n      <td>Лукин</td>\n      <td>2001-12-01 00:00:00.000000</td>\n      <td>908.0</td>\n    </tr>\n    <tr>\n      <th>7</th>\n      <td>207</td>\n      <td>Федор</td>\n      <td>Миронова</td>\n      <td>2002-04-15 00:00:00.000000</td>\n      <td>1043.0</td>\n    </tr>\n    <tr>\n      <th>8</th>\n      <td>58</td>\n      <td>Вера</td>\n      <td>Журавлева</td>\n      <td>2003-06-14 00:00:00.000000</td>\n      <td>1468.0</td>\n    </tr>\n  </tbody>\n</table>\n</div>"
     },
     "execution_count": 26,
     "metadata": {},
     "output_type": "execute_result"
    }
   ],
   "source": [
    "# 6. Для каждого студента, обучающегося в своём городе, рассчитайте разницу в возрасте в днях с самым старшим из всех студентов, обучающихся в своём городе. Результат упорядочить по разности в возрасте.\n",
    "\n",
    "s = \"\"\"\n",
    "SELECT student_id, name, surname, birthday,\n",
    "       (julianday(birthday) -\n",
    "        (SELECT min(julianday(birthday))\n",
    "         FROM student JOIN university u on u.univ_id = student.univ_id\n",
    "         WHERE student.city = u.city)) age_day_diff FROM student\n",
    "             JOIN university u on u.univ_id = student.univ_id\n",
    "                                                    WHERE student.city = u.city ORDER BY age_day_diff\n",
    "\"\"\"\n",
    "\n",
    "pd.read_sql(s, conn)"
   ],
   "metadata": {
    "collapsed": false,
    "pycharm": {
     "name": "#%%\n"
    }
   }
  }
 ],
 "metadata": {
  "kernelspec": {
   "display_name": "Python 3",
   "language": "python",
   "name": "python3"
  },
  "language_info": {
   "codemirror_mode": {
    "name": "ipython",
    "version": 2
   },
   "file_extension": ".py",
   "mimetype": "text/x-python",
   "name": "python",
   "nbconvert_exporter": "python",
   "pygments_lexer": "ipython2",
   "version": "2.7.6"
  }
 },
 "nbformat": 4,
 "nbformat_minor": 0
}