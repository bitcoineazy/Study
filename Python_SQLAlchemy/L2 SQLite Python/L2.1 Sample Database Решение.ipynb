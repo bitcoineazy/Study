{
 "cells": [
  {
   "cell_type": "markdown",
   "metadata": {
    "pycharm": {
     "name": "#%% md\n"
    }
   },
   "source": [
    "<img src=\"../Img/Python_SQL_PI.png\" style=\"width:100%\">\n",
    "\n",
    "\n",
    "<p style=\"font-size:22px;text-align:center\">Семинар 2.1. Учебная база данных</p> \n",
    "\n",
    "<a id = Home></a>\n",
    "\n",
    "21 февраля 2022 года<br>\n",
    "Поток: ПИ20-1, ПИ20-2, ПИ20-3, ПИ20-4, ПИ20-5, ПИ20-6(4 подгруппа)<br>\n",
    "ПИ20-1, ПИ20-2, ПИ20-3, ПИ20-4, ПИ20-5, ПИ20-6(3 подгруппа)\n",
    "\n",
    "24 февраля 2022 года<br>\n",
    "ПИ20-1, ПИ20-2, ПИ20-3, ПИ20-4, ПИ20-5, ПИ20-6(1 подгруппа)<br>\n",
    "ПИ20-1, ПИ20-2, ПИ20-3, ПИ20-4, ПИ20-5, ПИ20-6(2 подгруппа)"
   ]
  },
  {
   "cell_type": "markdown",
   "metadata": {
    "pycharm": {
     "name": "#%% md\n"
    }
   },
   "source": [
    "<img src=\"../Img/t1.1_student.png\" style=\"width:60%\">\n",
    "\n",
    "```\n",
    "STUDENT_ID — числовой код, идентифицирующий студента (идентификатор студента),\n",
    "SURNAME — фамилия студента,\n",
    "NAME — имя студента,\n",
    "STIPEND — стипендия, которую получает студент,\n",
    "KURS — курс, на котором учится студент,\n",
    "CITY — город, в котором живет студент,\n",
    "BIRTHDAY — дата рождения студента,\n",
    "UNIV_ID — идентификатор университета, в котором учится студент.\n",
    "```\n",
    "\n",
    "<img src=\"../Img/t1.2_lecturer.png\" style=\"width:60%\">\n",
    "\n",
    "```\n",
    "LECTURER_ID — идентификатор преподавателя,\n",
    "SURNAME — фамилия преподавателя,\n",
    "NAME — имя преподавателя,\n",
    "CITY — город, в котором живет преподаватель,\n",
    "UNIV_ID — идентификатор университета, в котором работает преподаватель\n",
    "```\n",
    "\n",
    "<img src=\"../Img/t1.3_subject.png\" style=\"width:60%\">\n",
    "\n",
    "```\n",
    "SUBJ_ID — идентификатор предмета обучения,\n",
    "SUBJ_NAME — наименование предмета обучения,\n",
    "HOUR — количество часов, отводимых на изучение предмета,\n",
    "SEMESTER — семестр, в котором изучается данный предмет.\n",
    "```\n",
    "\n",
    "<img src=\"../Img/t1.4_university.png\" style=\"width:60%\">\n",
    "\n",
    "```\n",
    "UNIV_ID — идентификатор университета,\n",
    "UNIV_NAME — название университета,\n",
    "RATING — рейтинг университета,\n",
    "CITY — город, в котором расположен университет.\n",
    "```\n",
    "\n",
    "<img src=\"../Img/t1.5_exam_marks.png\" style=\"width:60%\">\n",
    "\n",
    "```\n",
    "EXAM_ID — идентификатор экзамена,\n",
    "STUDENT_ID — идентификатор студента,\n",
    "SUBJ_ID — идентификатор предмета обучения,\n",
    "MARK — экзаменационная оценка,\n",
    "EXAM_DATE — дата экзамена.\n",
    "```\n",
    "\n",
    "<img src=\"../Img/t1.6_subj_lect.png\" style=\"width:40%\">\n",
    "\n",
    "```\n",
    "LECTURER_ID — идентификатор преподавателя,\n",
    "SUBJ_ID — идентификатор предмета обучения.\n",
    "\n",
    "\n",
    "ВОПРОСЫ\n",
    "1. Какие поля приведенных таблиц являются первичными ключами?\n",
    "2. Какие данные хранятся в столбце 2 в таблице “Предмет обучения”?\n",
    "3. Как по-другому называется строка? столбец?\n",
    "4. Почему мы не можем запросить для просмотра первые пять строк?\n",
    "\n",
    "\n",
    "ЗАДАНИЯ, ЧАСТЬ I\n",
    "\n",
    "1. Создайте на языке Пайтон структуру учебной базы данных студентов Students.db\n",
    "2. Наполните базыу данных данными\n",
    "\n",
    "ЗАДАНИЯ, ЧАСТЬ II\n",
    "\n",
    "Выполните запросы к базе данных студентов.\n",
    "\n",
    "1. Напишите запрос к таблице SUBJECT, выводящий для каждой ее строки идентификатор (номер) предмета обучения, его наименование, семестр, в котором он читается, и количество отводимых на него часов.\n",
    "2. Напишите запрос, позволяющий вывести все строки таблицы EXAM_MARKS, в которых предмет обучения имеет номер (SUBJ_ID), равный 22.\n",
    "3. Напишите запрос, выбирающий все данные из таблицы STUDENT, расположив столбцы таблицы в следующем порядке: KURS, SURNAME, NAME, STIPEND.\n",
    "4. Напишите запрос SELECT, который для каждого предмета обучения (SUBJECT) выполняет вывод его наименования (SUBJ_NAME) и следом за ним количества часов (HOUR) в 4-м семестре (SEMESTR).\n",
    "5. Напишите запрос, позволяющий получить из таблицы EXAM_MARKS значения столбца MARK (экзаменационная оценка) для всех студентов, исключив из списка повторение одинаковых строк.\n",
    "6. Напишите запрос, который выполняет вывод списка фамилий студентов, обучающихся на третьем и более старших курсах.\n",
    "7. Напишите запрос, выбирающий данные фамилию, имя и номер курса для студентов, получающих стипендию больше 140.\n",
    "8. Напишите запрос, выполняющий выборку из таблицы SUBJECT названий всех предметов обучения, на которые отводится более 30 часов.\n",
    "9. Напишите запрос, который выполняет вывод списка университетов, рейтинг которых превышает 300 баллов.\n",
    "10. Напишите запрос к таблице STUDENT для вывода списка всех студентов со стипендией не меньше 100, живущих в Воронеже — с указанием фамилии (SURNAME), имени (NAME) и номера курса (KURS).\n",
    "11. Какие данные будут получены в результате выполнения запроса?\n",
    "\n",
    "SELECT *\n",
    "FROM STUDENT\n",
    "WHERE (STIPEND < 100 OR\n",
    "NOT (BIRTHDAY >= ‘10/03/1980’\n",
    "AND STUDENT_ID > 1003));\n",
    "\n",
    "12. Какие данные будут получены в результате выполнения запроса?\n",
    "\n",
    "SELECT *\n",
    "FROM STUDENT\n",
    "WHERE NOT ((BIRTHDAY = ‘10/03/1980’ OR\n",
    "STIPEND > 100)\n",
    "AND STUDENT_ID >= 1003);\n",
    "\n",
    "13. Напишите запрос для получения списка студентов старше 25 лет, обучающихся на 1-м курсе.\n",
    "14. Напишите запрос для получения списка предметов, для которых в 1-м семестре отведено более 100 часов.\n",
    "15. Напишите запрос для получения списка преподавателей, живущих в Воронеже.\n",
    "16. Напишите запрос для получения списка университетов, расположенных в Москве и имеющих рейтинг меньший, чем у ВГУ. Константу в ограничении на рейтинг можно определить по этой же таблице.\n",
    "17. Напишите запрос для получения списка студентов, проживающих в Воронеже и не получающих стипендию.\n",
    "18. Напишите запрос для получения списка студентов моложе 20 лет.\n",
    "```"
   ]
  },
  {
   "cell_type": "markdown",
   "metadata": {
    "pycharm": {
     "name": "#%% md\n"
    }
   },
   "source": [
    "# Решение, часть 1."
   ]
  },
  {
   "cell_type": "code",
   "execution_count": 1,
   "metadata": {
    "pycharm": {
     "name": "#%%\n"
    }
   },
   "outputs": [],
   "source": [
    "import sqlite3"
   ]
  },
  {
   "cell_type": "code",
   "execution_count": 2,
   "metadata": {
    "pycharm": {
     "name": "#%%\n"
    }
   },
   "outputs": [],
   "source": [
    "conn=sqlite3.connect(\"L21_Solution.db\")\n",
    "crs=conn.cursor()"
   ]
  },
  {
   "cell_type": "code",
   "execution_count": 3,
   "metadata": {
    "pycharm": {
     "name": "#%%\n"
    }
   },
   "outputs": [],
   "source": [
    "#  Создадим sql-выражения\n",
    "\n",
    "create_student = \"\"\"\n",
    "CREATE TABLE IF NOT EXISTS student (\n",
    "  STUDENT_ID integer PRIMARY KEY,\n",
    "  SURNAME text NOT NULL,\n",
    "  NAME text NOT NULL,\n",
    "  STIPEND integer NOT NULL, \n",
    "  KURS text NOT NULL,\n",
    "  CITY text,\n",
    "  BIRTHDAY text,\n",
    "  UNIV_ID integer NOT NULL,\n",
    "  FOREIGN KEY (UNIV_ID) REFERENCES university (UNIV_ID)\n",
    ");\n",
    "\"\"\"\n",
    "\n",
    "create_university = \"\"\"\n",
    "CREATE TABLE IF NOT EXISTS university (\n",
    "  UNIV_ID integer PRIMARY KEY,\n",
    "  UNIV_NAME text NOT NULL,\n",
    "  RATING integer NOT NULL,\n",
    "  CITY text NOT NULL\n",
    ");\n",
    "\"\"\"\n",
    "\n",
    "create_lecturer = \"\"\"\n",
    "CREATE TABLE IF NOT EXISTS lecturer (\n",
    "  LECTURER_ID integer PRIMARY KEY,\n",
    "  SURNAME text NOT NULL,\n",
    "  NAME text NOT NULL,\n",
    "  CITY text NOT NULL,\n",
    "  UNIV_ID integer NOT NULL,\n",
    "  FOREIGN KEY (UNIV_ID) REFERENCES university (UNIV_ID)\n",
    ");\n",
    "\"\"\"\n",
    "\n",
    "create_subject = \"\"\"\n",
    "CREATE TABLE IF NOT EXISTS subject (\n",
    "  SUBJ_ID integer PRIMARY KEY,\n",
    "  SUBJ_NAME text NOT NULL,\n",
    "  HOUR integer NOT NULL,\n",
    "  SEMESTER integer NOT NULL\n",
    ");\n",
    "\"\"\"\n",
    "\n",
    "create_exam_marks = \"\"\"\n",
    "CREATE TABLE IF NOT EXISTS exam_marks (\n",
    "  EXAM_ID integer PRIMARY KEY,\n",
    "  STUDENT_ID integer NOT NULL,\n",
    "  SUBJ_ID integer NOT NULL,\n",
    "  MARK integer,\n",
    "  EXAM_DATE text NOT NULL,\n",
    "  FOREIGN KEY (STUDENT_ID) REFERENCES student (STUDENT_ID),\n",
    "  FOREIGN KEY (SUBJ_ID) REFERENCES subject (SUBJ_ID)\n",
    ");\n",
    "\"\"\"\n",
    "\n",
    "create_subj_lect = \"\"\"\n",
    "CREATE TABLE IF NOT EXISTS subj_lect (\n",
    "  LECTURER_ID integer NOT NULL,\n",
    "  SUBJ_ID integer NOT NULL,\n",
    "  PRIMARY KEY (LECTURER_ID, SUBJ_ID),\n",
    "  FOREIGN KEY (SUBJ_ID) REFERENCES subject (SUBJ_ID),\n",
    "  FOREIGN KEY (LECTURER_ID) REFERENCES lecture (LECTURER_ID)\n",
    ");\n",
    "\"\"\""
   ]
  },
  {
   "cell_type": "code",
   "execution_count": 4,
   "metadata": {
    "pycharm": {
     "name": "#%%\n"
    }
   },
   "outputs": [],
   "source": [
    "all_tables = [create_student, create_lecturer, create_subject, \n",
    "              create_university, create_exam_marks, create_subj_lect]\n",
    "for t in all_tables:\n",
    "    crs.execute(t)"
   ]
  },
  {
   "cell_type": "code",
   "execution_count": 5,
   "metadata": {
    "pycharm": {
     "name": "#%%\n"
    }
   },
   "outputs": [],
   "source": [
    "# Чтобы добавить несколько строк данных в таблицу, используем метод cursor.executemany()\n",
    "\n",
    "def insert_record(table, columns, values):\n",
    "  if len(columns) ==  2:\n",
    "    crs.executemany(f\"INSERT INTO {table} VALUES (?, ?);\", values)\n",
    "  if len(columns) ==  4:\n",
    "    crs.executemany(f\"INSERT INTO {table} VALUES (?, ?, ?, ?);\", values)\n",
    "  if len(columns) ==  5:\n",
    "    crs.executemany(f\"INSERT INTO {table} VALUES (?, ?, ?, ?, ?);\", values)\n",
    "  if len(columns) ==  8:\n",
    "    crs.executemany(f\"INSERT INTO {table} VALUES (?, ?, ?, ?, ?, ?, ?, ?);\", values)"
   ]
  },
  {
   "cell_type": "code",
   "execution_count": 6,
   "metadata": {
    "pycharm": {
     "name": "#%%\n"
    }
   },
   "outputs": [],
   "source": [
    "insert_record('subj_lect', ['lecturer_id', 'subj_id'], \n",
    "              [('24', '24'), ('46', '46'), ('74','74'), \n",
    "               ('108', '108'), ('276', '276'), ('328', '328')])\n",
    "\n",
    "insert_record('university', ['univ_id', 'univ_name', 'rating', 'city'], \n",
    "              [(\"22\", \"МГУ\", \"610\", \"Москва\"), (\"10\", \"ВГУ\", \"296\", \"Воронеж\"), \n",
    "               (\"11\", \"НГУ\", \"345\", \"Новосибирск\"), (\"32\", \"РГУ\", \"421\", \"Ростов\"), \n",
    "               (\"14\", \"БГУ\", \"326\", \"Белгород\"), (\"15\", \"ТГУ\", \"373\", \"Томск\"), \n",
    "               (\"18\", \"ВГМА\", \"327\", \"Воронеж\")])\n",
    "\n",
    "insert_record('lecturer', ['lecturer_id', 'surname', 'name', 'city', 'univ_id'], \n",
    "              [('24', 'Колесников', 'Борис', 'Воронеж', '10'), \n",
    "               ('46', 'Никонов', 'Иван', 'Воронеж', '10'), \n",
    "               ('74', 'Лагутин', 'Павел', 'Москва', '22'), \n",
    "               ('108', 'Струков', 'Николай', 'Москва', '22'), \n",
    "               ('276', 'Николаев', 'Виктор', 'Воронеж', '10'), \n",
    "               ('328', 'Сорокин', 'Андрей', 'Орел', '10')])\n",
    "\n",
    "insert_record('student', \n",
    "              ['student_id', 'surname', 'name', 'stipend', 'kurs', 'city', 'birthday', 'univ_id'], \n",
    "              [('1', 'Иванов', 'Иван', '150', '1', 'Орел', '1988-12-03', '10'), \n",
    "               ('3', 'Петров', 'Петр', '200', '3', 'Курск', '1986-12-11', '10'), \n",
    "               ('6', 'Сидоров', 'Вадим', '150', '4', 'Москва', '1985-06-07', '22'), \n",
    "               ('10', 'Кузнецов', 'Борис', '0', '2', 'Брянск', '1987-12-08', '10'), \n",
    "               ('12', 'Зайцева', 'Ольга', '250', '2', 'Липецк', '1987-05-21', '10'), \n",
    "               ('265', 'Павлов', 'Андрей', '0', '3', 'Воронеж', '1985-11-05', '10'), \n",
    "               ('32', 'Котов', 'Павел', '150', '5', 'Белгород', None, '14'), \n",
    "               ('654', 'Лукин', 'Артем', '200', '3', 'Воронеж', '1987-12-11', '10'), \n",
    "               ('276', 'Петров', 'Антон', '200', '4', None, '1987-08-05', '22'), \n",
    "               ('55', 'Белкин', 'Вадим', '250', '5', 'Воронеж', '1986-01-20', '10')])\n",
    "\n",
    "insert_record('exam_marks', ['exam_id', 'stident_id', 'subj_id', 'mark', 'exam_date'], \n",
    "              [('145', '12', '10', '5', '2006-01-12'), ('34', '32', '10', '4', '2006-01-23'), \n",
    "               ('75', '55', '10', '5', '2006-01-05'), ('238', '12', '22', '3', '2005-06-17'), \n",
    "               ('639', '55', '22', None, '2005-06-22'), ('43', '6', '22', '4', '2006-01-18')])\n",
    "\n",
    "insert_record('subject', ['subj_id', 'subj_name', 'hour', 'semester'], \n",
    "              [('10', 'Информатика', '56', '1'), ('22', 'Физика', '34', '1'), \n",
    "               ('43', 'Математика', '56', '2'), ('56', 'История', '34', '4'), \n",
    "               ('94', 'Английский', '56', '3'), ('73', 'Физкультура', '34', '5')])\n",
    "\n",
    "conn.commit()"
   ]
  },
  {
   "cell_type": "markdown",
   "metadata": {
    "pycharm": {
     "name": "#%% md\n"
    }
   },
   "source": [
    "# Решение, часть II"
   ]
  },
  {
   "cell_type": "code",
   "execution_count": 14,
   "metadata": {
    "pycharm": {
     "name": "#%%\n"
    }
   },
   "outputs": [],
   "source": [
    "import pandas as pd\n",
    "from datetime import datetime"
   ]
  },
  {
   "cell_type": "code",
   "execution_count": 8,
   "metadata": {
    "pycharm": {
     "name": "#%%\n"
    }
   },
   "outputs": [
    {
     "data": {
      "text/plain": [
       "[(10, 'Информатика', 56, 1),\n",
       " (22, 'Физика', 34, 1),\n",
       " (43, 'Математика', 56, 2),\n",
       " (56, 'История', 34, 4),\n",
       " (73, 'Физкультура', 34, 5),\n",
       " (94, 'Английский', 56, 3)]"
      ]
     },
     "execution_count": 8,
     "metadata": {},
     "output_type": "execute_result"
    }
   ],
   "source": [
    "# 1\n",
    "crs.execute('SELECT * FROM subject;')\n",
    "rows = crs.fetchall()\n",
    "rows"
   ]
  },
  {
   "cell_type": "code",
   "execution_count": 12,
   "metadata": {
    "pycharm": {
     "name": "#%%\n"
    }
   },
   "outputs": [
    {
     "data": {
      "text/html": [
       "<div>\n",
       "<style scoped>\n",
       "    .dataframe tbody tr th:only-of-type {\n",
       "        vertical-align: middle;\n",
       "    }\n",
       "\n",
       "    .dataframe tbody tr th {\n",
       "        vertical-align: top;\n",
       "    }\n",
       "\n",
       "    .dataframe thead th {\n",
       "        text-align: right;\n",
       "    }\n",
       "</style>\n",
       "<table border=\"1\" class=\"dataframe\">\n",
       "  <thead>\n",
       "    <tr style=\"text-align: right;\">\n",
       "      <th></th>\n",
       "      <th>EXAM_ID</th>\n",
       "      <th>STUDENT_ID</th>\n",
       "      <th>SUBJ_ID</th>\n",
       "      <th>MARK</th>\n",
       "      <th>EXAM_DATE</th>\n",
       "    </tr>\n",
       "  </thead>\n",
       "  <tbody>\n",
       "    <tr>\n",
       "      <th>0</th>\n",
       "      <td>43</td>\n",
       "      <td>6</td>\n",
       "      <td>22</td>\n",
       "      <td>4.0</td>\n",
       "      <td>2006-01-18</td>\n",
       "    </tr>\n",
       "    <tr>\n",
       "      <th>1</th>\n",
       "      <td>238</td>\n",
       "      <td>12</td>\n",
       "      <td>22</td>\n",
       "      <td>3.0</td>\n",
       "      <td>2005-06-17</td>\n",
       "    </tr>\n",
       "    <tr>\n",
       "      <th>2</th>\n",
       "      <td>639</td>\n",
       "      <td>55</td>\n",
       "      <td>22</td>\n",
       "      <td>NaN</td>\n",
       "      <td>2005-06-22</td>\n",
       "    </tr>\n",
       "  </tbody>\n",
       "</table>\n",
       "</div>"
      ],
      "text/plain": [
       "   EXAM_ID  STUDENT_ID  SUBJ_ID  MARK   EXAM_DATE\n",
       "0       43           6       22   4.0  2006-01-18\n",
       "1      238          12       22   3.0  2005-06-17\n",
       "2      639          55       22   NaN  2005-06-22"
      ]
     },
     "execution_count": 12,
     "metadata": {},
     "output_type": "execute_result"
    }
   ],
   "source": [
    "#2\n",
    "stmt='SELECT * FROM exam_marks where subj_id=22;'\n",
    "rows = crs.fetchall()\n",
    "df=pd.read_sql(stmt,conn)\n",
    "df"
   ]
  }
 ],
 "metadata": {
  "kernelspec": {
   "display_name": "Python 3",
   "language": "python",
   "name": "python3"
  },
  "language_info": {
   "codemirror_mode": {
    "name": "ipython",
    "version": 3
   },
   "file_extension": ".py",
   "mimetype": "text/x-python",
   "name": "python",
   "nbconvert_exporter": "python",
   "pygments_lexer": "ipython3",
   "version": "3.7.6"
  }
 },
 "nbformat": 4,
 "nbformat_minor": 5
}