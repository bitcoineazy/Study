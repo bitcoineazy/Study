{
 "cells": [
  {
   "cell_type": "markdown",
   "id": "31963a08",
   "metadata": {
    "pycharm": {
     "name": "#%% md\n"
    }
   },
   "source": [
    "<img src=\"../Img/Python_SQL_PI.png\" style=\"width:100%\">\n",
    "\n",
    "\n",
    "<p style=\"font-size:160%;text-align:center\">Семинар 6.1. Соединение таблиц с помощью оператора LEFT OUTER JOIN</p> \n",
    "\n",
    "<a id = Home></a>\n",
    "\n",
    "**21 апреля 2022 года, чт**<br>\n",
    "5-я пара, 15:40 - 17:10<br>\n",
    "В4/3411(кк) (4-й Вешняковский проезд, 4)<br>\n",
    "ПИ20-1, ПИ20-2, ПИ20-3, ПИ20-4, ПИ20-5, ПИ20-6 (2 подгруппа)<br>\n",
    "\n",
    "\n",
    "**25 апреля 2022 года, пн**<br>\n",
    "2-я пара, 10:10 - 11:40<br>\n",
    "Щ38/509(кк) (ул. Щербаковская, 38)<br>\n",
    "ПИ20-1, ПИ20-2, ПИ20-3, ПИ20-4, ПИ20-5, ПИ20-6 (4 подгруппа)<br>\n",
    "\n",
    "3-я пара, 11:50 - 13:20<br>\n",
    "Щ38/509(кк) (ул. Щербаковская, 38)<br>\n",
    "Поток:ПИ20-1, ПИ20-2, ПИ20-3, ПИ20-4, ПИ20-5, ПИ20-6 (3 подгруппа)\n",
    "\n",
    "\n",
    "**28 апреля 2022 года, чт**<br>\n",
    "6-я пара, 17:20 - 18:50<br>\n",
    "В4/3411(кк) (4-й Вешняковский проезд, 4)<br>\n",
    "ПИ20-1, ПИ20-2, ПИ20-3, ПИ20-4, ПИ20-5, ПИ20-6 (1 подгруппа)<br>\n",
    "\n",
    "\n"
   ]
  },
  {
   "cell_type": "markdown",
   "id": "f6575b35",
   "metadata": {
    "pycharm": {
     "name": "#%% md\n"
    }
   },
   "source": [
    "\n",
    "```\n",
    "STUDENT\n",
    "STUDENT_ID — числовой код, идентифицирующий студента (идентификатор студента),\n",
    "SURNAME — фамилия студента,\n",
    "NAME — имя студента,\n",
    "STIPEND — стипендия, которую получает студент,\n",
    "KURS — курс, на котором учится студент,\n",
    "CITY — город, в котором живет студент,\n",
    "BIRTHDAY — дата рождения студента,\n",
    "UNIV_ID — идентификатор университета, в котором учится студент.\n",
    "\n",
    "\n",
    "LECTURER\n",
    "LECTURER_ID — идентификатор преподавателя,\n",
    "SURNAME — фамилия преподавателя,\n",
    "NAME — имя преподавателя,\n",
    "CITY — город, в котором живет преподаватель,\n",
    "UNIV_ID — идентификатор университета, в котором работает преподаватель\n",
    "\n",
    "\n",
    "SUBJECT\n",
    "SUBJ_ID — идентификатор предмета обучения,\n",
    "SUBJ_NAME — наименование предмета обучения,\n",
    "HOUR — количество часов, отводимых на изучение предмета,\n",
    "SEMESTER — семестр, в котором изучается данный предмет.\n",
    "\n",
    "\n",
    "UNIVERSITY\n",
    "UNIV_ID — идентификатор университета,\n",
    "UNIV_NAME — название университета,\n",
    "RATING — рейтинг университета,\n",
    "CITY — город, в котором расположен университет.\n",
    "\n",
    "\n",
    "EXAM_MARKS\n",
    "EXAM_ID — идентификатор экзамена,\n",
    "STUDENT_ID — идентификатор студента,\n",
    "SUBJ_ID — идентификатор предмета обучения,\n",
    "MARK — экзаменационная оценка,\n",
    "EXAM_DATE — дата экзамена.\n",
    "\n",
    "\n",
    "SUBJ_LECT\n",
    "LECTURER_ID — идентификатор преподавателя,\n",
    "SUBJ_ID — идентификатор предмета обучения.\n",
    "```\n",
    "\n",
    "<img src=\"../Img/Students_Schema.png\" style=\"width:60%\">"
   ]
  },
  {
   "cell_type": "code",
   "execution_count": 2,
   "id": "b43644d8",
   "metadata": {
    "pycharm": {
     "name": "#%%\n"
    }
   },
   "outputs": [],
   "source": [
    "#! pip install sqlalchemy"
   ]
  },
  {
   "cell_type": "code",
   "execution_count": 1,
   "id": "37e97907",
   "metadata": {
    "pycharm": {
     "name": "#%%\n"
    }
   },
   "outputs": [],
   "source": [
    "import pandas as pd\n",
    "from sqlalchemy import MetaData, Table, create_engine, select, and_, or_, not_, text\n",
    "from sqlalchemy.sql import func, distinct, exists"
   ]
  },
  {
   "cell_type": "code",
   "execution_count": 2,
   "id": "eb4393e8",
   "metadata": {
    "pycharm": {
     "name": "#%%\n"
    }
   },
   "outputs": [],
   "source": [
    "engine = create_engine('sqlite:///../Data/Students.db')\n",
    "metadata_obj = MetaData() # Объект-контейнер, содержит информацию о схеме данных\n",
    "metadata_obj.reflect(bind=engine) # Отображение БД"
   ]
  },
  {
   "cell_type": "markdown",
   "id": "3797f17f",
   "metadata": {
    "pycharm": {
     "name": "#%% md\n"
    }
   },
   "source": [
    "Создание объектов таблиц"
   ]
  },
  {
   "cell_type": "code",
   "execution_count": 3,
   "id": "6e812caf",
   "metadata": {
    "pycharm": {
     "name": "#%%\n"
    }
   },
   "outputs": [],
   "source": [
    "exam_marks=Table(\"exam_marks\", metadata_obj, autoload=True, autoload_with=\"engine\")\n",
    "lecturer=Table(\"lecturer\", metadata_obj, autoload=True, autoload_with=\"engine\")\n",
    "student=Table(\"student\", metadata_obj, autoload=True, autoload_with=\"engine\")\n",
    "subj_lect=Table(\"subj_lect\", metadata_obj, autoload=True, autoload_with=\"engine\")\n",
    "subject=Table(\"subject\", metadata_obj, autoload=True, autoload_with=\"engine\")\n",
    "university=Table(\"university\", metadata_obj, autolad=True, autolad_with=\"engine\")"
   ]
  },
  {
   "cell_type": "code",
   "execution_count": 4,
   "id": "5e0c68fe",
   "metadata": {
    "pycharm": {
     "name": "#%%\n"
    }
   },
   "outputs": [],
   "source": [
    "conn=engine.connect() # Соединение"
   ]
  },
  {
   "cell_type": "markdown",
   "id": "fb742d9f",
   "metadata": {
    "pycharm": {
     "name": "#%% md\n"
    }
   },
   "source": [
    "<img src=../Img/pencil.png style=\"width:190px;height:190px\">\n",
    "<p style=\"background-color:powderblue; font-size:125%; color: rebeccapurple;\">Выполните задания</p>\n",
    "<p>Выполните задания с помощью соедиинения таблиц в Jupyter Notebook </p>\n",
    "\n",
    "1. Напишите запрос, который выполняет вывод фамилий студентов, сдававших экзамены, вместе с идентификаторами каждого сданного ими предмета обучения.\n",
    "\n",
    "2. Напишите запрос, который выполняет выборку фамилий всех студентов, с указанием для студентов, сдававших экзамены, идентификаторов сданных ими предметов обучения.\n",
    "\n",
    "3. Напишите запрос, который выполняет вывод фамилий студентов, сдававших экзамены, вместе с наименованиями каждого сданного ими предмета обучения.\n",
    "\n",
    "4. Напишите запрос на выдачу списка всех студентов. Для студентов, сдававших экзамены, укажите названия соответствующих предметов обучения.\n",
    "\n",
    "5. Напишите запрос на выдачу названий всех предметов, по которым студенты получили только хорошие (4 и 5) оценки. В выходных данных должны быть приведены фамилии студентов, названия предметов и оценка.\n",
    "\n",
    "6. Напишите запрос, который выполняет вывод списка университетов с рейтингом, превышающим 300, вместе со значением максимального размера стипендии, получаемой студентами в этих университетах.\n",
    "\n",
    "7. Напишите запрос на выдачу списка студентов (в алфавитном порядке фамилий) вместе со значением рейтинга университета, где каждый из них учится, включив в список и тех студентов, место учебы которых в базе данных не указано.\n",
    "\n",
    "8. Напишите запрос для получения списка всех студентов вместе с названиями университетов, в которых они учатся. Отдельным запросом получите записи, расширяющие данный список по сравнению с тем, который был бы получен внутренним соединением.\n",
    "\n",
    "9. Напишите запрос для получения списка всех университетов вместе с фамилиями студентов, в них обучающихся. Отдельным запросом получите записи, расширяющие данный список по сравнению с тем, который был бы получен внутренним соединением.\n",
    "\n",
    "10. Напишите запрос для получения списка всех университетов вместе с фамилиями преподавателей, в них работающих. Отдельным запросом получите записи, расширяющие данный список по сравнению с тем, который был бы получен внутренним соединением.\n",
    "\n",
    "11. Напишите запрос для получения списка всех преподавателей вместе с университетами, в которых они работают. Есть ли отличие списка от того, который был бы получен внутренним соединением? Подтвердите отдельным запросом ваш вывод.\n",
    "\n",
    "12. Напишите запрос для получения списка всех студентов и оценок, полученных ими на экзаменах. Отдельным запросом получите записи, расширяющие данный список по сравнению с тем, который был бы получен внутренним соединением.\n",
    "\n",
    "13. Напишите запрос для получения списка всех экзаменационных оценок вместе с фамилиями получивших их студентов. Есть ли отличие списка от того, который был бы получен внутренним соединением? Подтвердите отдельным запросом ваш вывод.\n",
    "\n",
    "14. Напишите запрос для получения полного списка предметов с соответствующими экзаменационными оценками. Есть ли отличие списка от того, который был бы получен внутренним соединением? Подтвердите отдельным запросом ваш вывод.\n",
    "\n",
    "15. Напишите запрос для получения полного списка оценок вместе с названиями предметов, по которым они получены. Есть ли отличие списка от того, который был бы получен внутренним соединением? Подтвердите отдельным запросом ваш вывод."
   ]
  },
  {
   "cell_type": "markdown",
   "id": "5002382e",
   "metadata": {
    "pycharm": {
     "name": "#%% md\n"
    }
   },
   "source": [
    "# Решение"
   ]
  },
  {
   "cell_type": "code",
   "execution_count": 12,
   "outputs": [
    {
     "name": "stdout",
     "output_type": "stream",
     "text": [
      "SELECT student.surname, exam_marks.subj_id \n",
      "FROM student JOIN exam_marks ON student.student_id = exam_marks.student_id \n",
      "WHERE exam_marks.mark > :mark_1\n"
     ]
    },
    {
     "data": {
      "text/plain": "       surname  subj_id\n0     Казакова       73\n1          Жук       73\n2      Кондрат       10\n3      Лазарев       56\n4      Блохина       22\n5      Жданова       56\n6     Семенова       94\n7   Мельникова       10\n8     Борисова       94\n9     Васильев       73\n10     Петрова       43\n11     Антонов       10\n12     Костина       22\n13    Васильев       13\n14    Кузнецов       12\n15      Лапина       56\n16       Котов       10\n17     Сидоров       22\n18      Белкин       10\n19       Лукин       11\n20         Пак       11\n21         Пак       94\n22         Пак       73\n23  Мельникова       14\n24  Мельникова       56\n25     Зайцева       10",
      "text/html": "<div>\n<style scoped>\n    .dataframe tbody tr th:only-of-type {\n        vertical-align: middle;\n    }\n\n    .dataframe tbody tr th {\n        vertical-align: top;\n    }\n\n    .dataframe thead th {\n        text-align: right;\n    }\n</style>\n<table border=\"1\" class=\"dataframe\">\n  <thead>\n    <tr style=\"text-align: right;\">\n      <th></th>\n      <th>surname</th>\n      <th>subj_id</th>\n    </tr>\n  </thead>\n  <tbody>\n    <tr>\n      <th>0</th>\n      <td>Казакова</td>\n      <td>73</td>\n    </tr>\n    <tr>\n      <th>1</th>\n      <td>Жук</td>\n      <td>73</td>\n    </tr>\n    <tr>\n      <th>2</th>\n      <td>Кондрат</td>\n      <td>10</td>\n    </tr>\n    <tr>\n      <th>3</th>\n      <td>Лазарев</td>\n      <td>56</td>\n    </tr>\n    <tr>\n      <th>4</th>\n      <td>Блохина</td>\n      <td>22</td>\n    </tr>\n    <tr>\n      <th>5</th>\n      <td>Жданова</td>\n      <td>56</td>\n    </tr>\n    <tr>\n      <th>6</th>\n      <td>Семенова</td>\n      <td>94</td>\n    </tr>\n    <tr>\n      <th>7</th>\n      <td>Мельникова</td>\n      <td>10</td>\n    </tr>\n    <tr>\n      <th>8</th>\n      <td>Борисова</td>\n      <td>94</td>\n    </tr>\n    <tr>\n      <th>9</th>\n      <td>Васильев</td>\n      <td>73</td>\n    </tr>\n    <tr>\n      <th>10</th>\n      <td>Петрова</td>\n      <td>43</td>\n    </tr>\n    <tr>\n      <th>11</th>\n      <td>Антонов</td>\n      <td>10</td>\n    </tr>\n    <tr>\n      <th>12</th>\n      <td>Костина</td>\n      <td>22</td>\n    </tr>\n    <tr>\n      <th>13</th>\n      <td>Васильев</td>\n      <td>13</td>\n    </tr>\n    <tr>\n      <th>14</th>\n      <td>Кузнецов</td>\n      <td>12</td>\n    </tr>\n    <tr>\n      <th>15</th>\n      <td>Лапина</td>\n      <td>56</td>\n    </tr>\n    <tr>\n      <th>16</th>\n      <td>Котов</td>\n      <td>10</td>\n    </tr>\n    <tr>\n      <th>17</th>\n      <td>Сидоров</td>\n      <td>22</td>\n    </tr>\n    <tr>\n      <th>18</th>\n      <td>Белкин</td>\n      <td>10</td>\n    </tr>\n    <tr>\n      <th>19</th>\n      <td>Лукин</td>\n      <td>11</td>\n    </tr>\n    <tr>\n      <th>20</th>\n      <td>Пак</td>\n      <td>11</td>\n    </tr>\n    <tr>\n      <th>21</th>\n      <td>Пак</td>\n      <td>94</td>\n    </tr>\n    <tr>\n      <th>22</th>\n      <td>Пак</td>\n      <td>73</td>\n    </tr>\n    <tr>\n      <th>23</th>\n      <td>Мельникова</td>\n      <td>14</td>\n    </tr>\n    <tr>\n      <th>24</th>\n      <td>Мельникова</td>\n      <td>56</td>\n    </tr>\n    <tr>\n      <th>25</th>\n      <td>Зайцева</td>\n      <td>10</td>\n    </tr>\n  </tbody>\n</table>\n</div>"
     },
     "execution_count": 12,
     "metadata": {},
     "output_type": "execute_result"
    }
   ],
   "source": [
    "# Ваш код здесь.\n",
    "\n",
    "# 1. Напишите запрос, который выполняет вывод фамилий студентов, сдававших экзамены, вместе с идентификаторами каждого сданного ими предмета обучения.\n",
    "\n",
    "\n",
    "s = select(student.c.surname, exam_marks.c.subj_id).join(exam_marks, student.c.student_id == exam_marks.c.student_id).where(exam_marks.c.mark > 2)\n",
    "\n",
    "print(s)\n",
    "pd.read_sql(s, conn)"
   ],
   "metadata": {
    "collapsed": false,
    "pycharm": {
     "name": "#%%\n"
    }
   }
  },
  {
   "cell_type": "code",
   "execution_count": 20,
   "outputs": [
    {
     "name": "stdout",
     "output_type": "stream",
     "text": [
      "SELECT student.surname, exam_marks.subj_id \n",
      "FROM student LEFT OUTER JOIN exam_marks ON student.student_id = exam_marks.student_id\n"
     ]
    },
    {
     "data": {
      "text/plain": "     surname  subj_id\n0     Иванов     43.0\n1     Петров      NaN\n2    Сидоров     22.0\n3   Кузнецов     12.0\n4    Зайцева     10.0\n..       ...      ...\n95   Киселев      NaN\n96  Миронова      NaN\n97    Павлов      NaN\n98    Петров      NaN\n99     Лукин     11.0\n\n[100 rows x 2 columns]",
      "text/html": "<div>\n<style scoped>\n    .dataframe tbody tr th:only-of-type {\n        vertical-align: middle;\n    }\n\n    .dataframe tbody tr th {\n        vertical-align: top;\n    }\n\n    .dataframe thead th {\n        text-align: right;\n    }\n</style>\n<table border=\"1\" class=\"dataframe\">\n  <thead>\n    <tr style=\"text-align: right;\">\n      <th></th>\n      <th>surname</th>\n      <th>subj_id</th>\n    </tr>\n  </thead>\n  <tbody>\n    <tr>\n      <th>0</th>\n      <td>Иванов</td>\n      <td>43.0</td>\n    </tr>\n    <tr>\n      <th>1</th>\n      <td>Петров</td>\n      <td>NaN</td>\n    </tr>\n    <tr>\n      <th>2</th>\n      <td>Сидоров</td>\n      <td>22.0</td>\n    </tr>\n    <tr>\n      <th>3</th>\n      <td>Кузнецов</td>\n      <td>12.0</td>\n    </tr>\n    <tr>\n      <th>4</th>\n      <td>Зайцева</td>\n      <td>10.0</td>\n    </tr>\n    <tr>\n      <th>...</th>\n      <td>...</td>\n      <td>...</td>\n    </tr>\n    <tr>\n      <th>95</th>\n      <td>Киселев</td>\n      <td>NaN</td>\n    </tr>\n    <tr>\n      <th>96</th>\n      <td>Миронова</td>\n      <td>NaN</td>\n    </tr>\n    <tr>\n      <th>97</th>\n      <td>Павлов</td>\n      <td>NaN</td>\n    </tr>\n    <tr>\n      <th>98</th>\n      <td>Петров</td>\n      <td>NaN</td>\n    </tr>\n    <tr>\n      <th>99</th>\n      <td>Лукин</td>\n      <td>11.0</td>\n    </tr>\n  </tbody>\n</table>\n<p>100 rows × 2 columns</p>\n</div>"
     },
     "execution_count": 20,
     "metadata": {},
     "output_type": "execute_result"
    }
   ],
   "source": [
    "# 2. Напишите запрос, который выполняет выборку фамилий всех студентов, с указанием для студентов, сдававших экзамены, идентификаторов сданных ими предметов обучения.\n",
    "\n",
    "s = select(student.c.surname, exam_marks.c.subj_id).join(exam_marks, isouter=True)\n",
    "\n",
    "print(s)\n",
    "pd.read_sql(s, conn)"
   ],
   "metadata": {
    "collapsed": false,
    "pycharm": {
     "name": "#%%\n"
    }
   }
  },
  {
   "cell_type": "code",
   "execution_count": 23,
   "outputs": [
    {
     "name": "stdout",
     "output_type": "stream",
     "text": [
      "SELECT student.surname, subject.subj_name \n",
      "FROM student JOIN exam_marks ON exam_marks.student_id = student.student_id JOIN subject ON subject.subj_id = exam_marks.subj_id \n",
      "WHERE exam_marks.mark > :mark_1 ORDER BY student.surname\n"
     ]
    },
    {
     "data": {
      "text/plain": "       surname                                 subj_name\n0      Антонов                               Информатика\n1       Белкин                               Информатика\n2      Блохина                                    Физика\n3     Борисова                           Английский язык\n4     Васильев                               Физкультура\n5     Васильев                                       ОБЖ\n6      Жданова                                   История\n7          Жук                               Физкультура\n8      Зайцева                               Информатика\n9     Казакова                               Физкультура\n10     Кондрат                               Информатика\n11     Костина                                    Физика\n12       Котов                               Информатика\n13    Кузнецов                             Анализ данных\n14     Лазарев                                   История\n15      Лапина                                   История\n16       Лукин   Программирование на языках Python и SQL\n17  Мельникова                               Информатика\n18  Мельникова  Обработка данных и моделирование в Excel\n19  Мельникова                                   История\n20         Пак   Программирование на языках Python и SQL\n21         Пак                           Английский язык\n22         Пак                               Физкультура\n23     Петрова                                Математика\n24    Семенова                           Английский язык\n25     Сидоров                                    Физика",
      "text/html": "<div>\n<style scoped>\n    .dataframe tbody tr th:only-of-type {\n        vertical-align: middle;\n    }\n\n    .dataframe tbody tr th {\n        vertical-align: top;\n    }\n\n    .dataframe thead th {\n        text-align: right;\n    }\n</style>\n<table border=\"1\" class=\"dataframe\">\n  <thead>\n    <tr style=\"text-align: right;\">\n      <th></th>\n      <th>surname</th>\n      <th>subj_name</th>\n    </tr>\n  </thead>\n  <tbody>\n    <tr>\n      <th>0</th>\n      <td>Антонов</td>\n      <td>Информатика</td>\n    </tr>\n    <tr>\n      <th>1</th>\n      <td>Белкин</td>\n      <td>Информатика</td>\n    </tr>\n    <tr>\n      <th>2</th>\n      <td>Блохина</td>\n      <td>Физика</td>\n    </tr>\n    <tr>\n      <th>3</th>\n      <td>Борисова</td>\n      <td>Английский язык</td>\n    </tr>\n    <tr>\n      <th>4</th>\n      <td>Васильев</td>\n      <td>Физкультура</td>\n    </tr>\n    <tr>\n      <th>5</th>\n      <td>Васильев</td>\n      <td>ОБЖ</td>\n    </tr>\n    <tr>\n      <th>6</th>\n      <td>Жданова</td>\n      <td>История</td>\n    </tr>\n    <tr>\n      <th>7</th>\n      <td>Жук</td>\n      <td>Физкультура</td>\n    </tr>\n    <tr>\n      <th>8</th>\n      <td>Зайцева</td>\n      <td>Информатика</td>\n    </tr>\n    <tr>\n      <th>9</th>\n      <td>Казакова</td>\n      <td>Физкультура</td>\n    </tr>\n    <tr>\n      <th>10</th>\n      <td>Кондрат</td>\n      <td>Информатика</td>\n    </tr>\n    <tr>\n      <th>11</th>\n      <td>Костина</td>\n      <td>Физика</td>\n    </tr>\n    <tr>\n      <th>12</th>\n      <td>Котов</td>\n      <td>Информатика</td>\n    </tr>\n    <tr>\n      <th>13</th>\n      <td>Кузнецов</td>\n      <td>Анализ данных</td>\n    </tr>\n    <tr>\n      <th>14</th>\n      <td>Лазарев</td>\n      <td>История</td>\n    </tr>\n    <tr>\n      <th>15</th>\n      <td>Лапина</td>\n      <td>История</td>\n    </tr>\n    <tr>\n      <th>16</th>\n      <td>Лукин</td>\n      <td>Программирование на языках Python и SQL</td>\n    </tr>\n    <tr>\n      <th>17</th>\n      <td>Мельникова</td>\n      <td>Информатика</td>\n    </tr>\n    <tr>\n      <th>18</th>\n      <td>Мельникова</td>\n      <td>Обработка данных и моделирование в Excel</td>\n    </tr>\n    <tr>\n      <th>19</th>\n      <td>Мельникова</td>\n      <td>История</td>\n    </tr>\n    <tr>\n      <th>20</th>\n      <td>Пак</td>\n      <td>Программирование на языках Python и SQL</td>\n    </tr>\n    <tr>\n      <th>21</th>\n      <td>Пак</td>\n      <td>Английский язык</td>\n    </tr>\n    <tr>\n      <th>22</th>\n      <td>Пак</td>\n      <td>Физкультура</td>\n    </tr>\n    <tr>\n      <th>23</th>\n      <td>Петрова</td>\n      <td>Математика</td>\n    </tr>\n    <tr>\n      <th>24</th>\n      <td>Семенова</td>\n      <td>Английский язык</td>\n    </tr>\n    <tr>\n      <th>25</th>\n      <td>Сидоров</td>\n      <td>Физика</td>\n    </tr>\n  </tbody>\n</table>\n</div>"
     },
     "execution_count": 23,
     "metadata": {},
     "output_type": "execute_result"
    }
   ],
   "source": [
    "# 3. Напишите запрос, который выполняет вывод фамилий студентов, сдававших экзамены, вместе с наименованиями каждого сданного ими предмета обучения.\n",
    "\n",
    "s = select(student.c.surname, subject.c.subj_name).join(exam_marks, exam_marks.c.student_id == student.c.student_id).join(subject, subject.c.subj_id == exam_marks.c.subj_id).where(exam_marks.c.mark > 2).order_by(student.c.surname)\n",
    "\n",
    "print(s)\n",
    "pd.read_sql(s, conn)"
   ],
   "metadata": {
    "collapsed": false,
    "pycharm": {
     "name": "#%%\n"
    }
   }
  },
  {
   "cell_type": "code",
   "execution_count": 32,
   "outputs": [
    {
     "name": "stdout",
     "output_type": "stream",
     "text": [
      "SELECT student.surname, subject.subj_name \n",
      "FROM student LEFT OUTER JOIN exam_marks ON exam_marks.student_id = student.student_id LEFT OUTER JOIN subject ON subject.subj_id = exam_marks.subj_id ORDER BY student.surname\n"
     ]
    },
    {
     "data": {
      "text/plain": "       surname      subj_name\n0     Агафонов           None\n1      Аксенов           None\n2      Антонов    Информатика\n3      Архипов           None\n4   Афанасьева  Анализ данных\n..         ...            ...\n95     Федоров  Анализ данных\n96     Фролова           None\n97      Ширяев           None\n98      Шубина           None\n99        Юдин           None\n\n[100 rows x 2 columns]",
      "text/html": "<div>\n<style scoped>\n    .dataframe tbody tr th:only-of-type {\n        vertical-align: middle;\n    }\n\n    .dataframe tbody tr th {\n        vertical-align: top;\n    }\n\n    .dataframe thead th {\n        text-align: right;\n    }\n</style>\n<table border=\"1\" class=\"dataframe\">\n  <thead>\n    <tr style=\"text-align: right;\">\n      <th></th>\n      <th>surname</th>\n      <th>subj_name</th>\n    </tr>\n  </thead>\n  <tbody>\n    <tr>\n      <th>0</th>\n      <td>Агафонов</td>\n      <td>None</td>\n    </tr>\n    <tr>\n      <th>1</th>\n      <td>Аксенов</td>\n      <td>None</td>\n    </tr>\n    <tr>\n      <th>2</th>\n      <td>Антонов</td>\n      <td>Информатика</td>\n    </tr>\n    <tr>\n      <th>3</th>\n      <td>Архипов</td>\n      <td>None</td>\n    </tr>\n    <tr>\n      <th>4</th>\n      <td>Афанасьева</td>\n      <td>Анализ данных</td>\n    </tr>\n    <tr>\n      <th>...</th>\n      <td>...</td>\n      <td>...</td>\n    </tr>\n    <tr>\n      <th>95</th>\n      <td>Федоров</td>\n      <td>Анализ данных</td>\n    </tr>\n    <tr>\n      <th>96</th>\n      <td>Фролова</td>\n      <td>None</td>\n    </tr>\n    <tr>\n      <th>97</th>\n      <td>Ширяев</td>\n      <td>None</td>\n    </tr>\n    <tr>\n      <th>98</th>\n      <td>Шубина</td>\n      <td>None</td>\n    </tr>\n    <tr>\n      <th>99</th>\n      <td>Юдин</td>\n      <td>None</td>\n    </tr>\n  </tbody>\n</table>\n<p>100 rows × 2 columns</p>\n</div>"
     },
     "execution_count": 32,
     "metadata": {},
     "output_type": "execute_result"
    }
   ],
   "source": [
    "# 4. Напишите запрос на выдачу списка всех студентов. Для студентов, сдававших экзамены, укажите названия соответствующих предметов обучения.\n",
    "\n",
    "s = select(student.c.surname, subject.c.subj_name).outerjoin(exam_marks, exam_marks.c.student_id == student.c.student_id).outerjoin(subject).order_by(student.c.surname)\n",
    "\n",
    "print(s)\n",
    "pd.read_sql(s, conn)"
   ],
   "metadata": {
    "collapsed": false,
    "pycharm": {
     "name": "#%%\n"
    }
   }
  },
  {
   "cell_type": "code",
   "execution_count": 36,
   "outputs": [
    {
     "name": "stdout",
     "output_type": "stream",
     "text": [
      "SELECT student.surname, subject.subj_name, exam_marks.mark \n",
      "FROM student JOIN exam_marks ON exam_marks.student_id = student.student_id JOIN subject ON subject.subj_id = exam_marks.subj_id \n",
      "WHERE exam_marks.mark >= :mark_1\n"
     ]
    },
    {
     "data": {
      "text/plain": "       surname                                 subj_name  mark\n0     Казакова                               Физкультура     4\n1          Жук                               Физкультура     4\n2      Лазарев                                   История     4\n3      Блохина                                    Физика     5\n4      Жданова                                   История     5\n5     Семенова                           Английский язык     4\n6   Мельникова                               Информатика     5\n7     Борисова                           Английский язык     5\n8      Костина                                    Физика     4\n9     Васильев                                       ОБЖ     5\n10    Кузнецов                             Анализ данных     5\n11      Лапина                                   История     5\n12       Котов                               Информатика     4\n13     Сидоров                                    Физика     4\n14      Белкин                               Информатика     5\n15       Лукин   Программирование на языках Python и SQL     4\n16         Пак   Программирование на языках Python и SQL     5\n17         Пак                           Английский язык     4\n18  Мельникова  Обработка данных и моделирование в Excel     4\n19     Зайцева                               Информатика     5",
      "text/html": "<div>\n<style scoped>\n    .dataframe tbody tr th:only-of-type {\n        vertical-align: middle;\n    }\n\n    .dataframe tbody tr th {\n        vertical-align: top;\n    }\n\n    .dataframe thead th {\n        text-align: right;\n    }\n</style>\n<table border=\"1\" class=\"dataframe\">\n  <thead>\n    <tr style=\"text-align: right;\">\n      <th></th>\n      <th>surname</th>\n      <th>subj_name</th>\n      <th>mark</th>\n    </tr>\n  </thead>\n  <tbody>\n    <tr>\n      <th>0</th>\n      <td>Казакова</td>\n      <td>Физкультура</td>\n      <td>4</td>\n    </tr>\n    <tr>\n      <th>1</th>\n      <td>Жук</td>\n      <td>Физкультура</td>\n      <td>4</td>\n    </tr>\n    <tr>\n      <th>2</th>\n      <td>Лазарев</td>\n      <td>История</td>\n      <td>4</td>\n    </tr>\n    <tr>\n      <th>3</th>\n      <td>Блохина</td>\n      <td>Физика</td>\n      <td>5</td>\n    </tr>\n    <tr>\n      <th>4</th>\n      <td>Жданова</td>\n      <td>История</td>\n      <td>5</td>\n    </tr>\n    <tr>\n      <th>5</th>\n      <td>Семенова</td>\n      <td>Английский язык</td>\n      <td>4</td>\n    </tr>\n    <tr>\n      <th>6</th>\n      <td>Мельникова</td>\n      <td>Информатика</td>\n      <td>5</td>\n    </tr>\n    <tr>\n      <th>7</th>\n      <td>Борисова</td>\n      <td>Английский язык</td>\n      <td>5</td>\n    </tr>\n    <tr>\n      <th>8</th>\n      <td>Костина</td>\n      <td>Физика</td>\n      <td>4</td>\n    </tr>\n    <tr>\n      <th>9</th>\n      <td>Васильев</td>\n      <td>ОБЖ</td>\n      <td>5</td>\n    </tr>\n    <tr>\n      <th>10</th>\n      <td>Кузнецов</td>\n      <td>Анализ данных</td>\n      <td>5</td>\n    </tr>\n    <tr>\n      <th>11</th>\n      <td>Лапина</td>\n      <td>История</td>\n      <td>5</td>\n    </tr>\n    <tr>\n      <th>12</th>\n      <td>Котов</td>\n      <td>Информатика</td>\n      <td>4</td>\n    </tr>\n    <tr>\n      <th>13</th>\n      <td>Сидоров</td>\n      <td>Физика</td>\n      <td>4</td>\n    </tr>\n    <tr>\n      <th>14</th>\n      <td>Белкин</td>\n      <td>Информатика</td>\n      <td>5</td>\n    </tr>\n    <tr>\n      <th>15</th>\n      <td>Лукин</td>\n      <td>Программирование на языках Python и SQL</td>\n      <td>4</td>\n    </tr>\n    <tr>\n      <th>16</th>\n      <td>Пак</td>\n      <td>Программирование на языках Python и SQL</td>\n      <td>5</td>\n    </tr>\n    <tr>\n      <th>17</th>\n      <td>Пак</td>\n      <td>Английский язык</td>\n      <td>4</td>\n    </tr>\n    <tr>\n      <th>18</th>\n      <td>Мельникова</td>\n      <td>Обработка данных и моделирование в Excel</td>\n      <td>4</td>\n    </tr>\n    <tr>\n      <th>19</th>\n      <td>Зайцева</td>\n      <td>Информатика</td>\n      <td>5</td>\n    </tr>\n  </tbody>\n</table>\n</div>"
     },
     "execution_count": 36,
     "metadata": {},
     "output_type": "execute_result"
    }
   ],
   "source": [
    "# 5. Напишите запрос на выдачу названий всех предметов, по которым студенты получили только хорошие (4 и 5) оценки. В выходных данных должны быть приведены фамилии студентов, названия предметов и оценка.\n",
    "\n",
    "s = select(student.c.surname, subject.c.subj_name, exam_marks.c.mark).join(exam_marks, exam_marks.c.student_id == student.c.student_id).join(subject).where(exam_marks.c.mark >= 4)\n",
    "\n",
    "print(s)\n",
    "pd.read_sql(s, conn)"
   ],
   "metadata": {
    "collapsed": false,
    "pycharm": {
     "name": "#%%\n"
    }
   }
  },
  {
   "cell_type": "code",
   "execution_count": 43,
   "outputs": [
    {
     "name": "stdout",
     "output_type": "stream",
     "text": [
      "SELECT university.univ_id, university.univ_name, university.rating, university.city, max(student.stipend) AS max_1 \n",
      "FROM university JOIN student ON university.univ_id = student.univ_id \n",
      "WHERE university.rating > :rating_1 GROUP BY university.univ_id\n"
     ]
    },
    {
     "data": {
      "text/plain": "   univ_id         univ_name  rating             city  max_1\n0       11               НГУ     345      Новосибирск    250\n1       14               БГУ     326         Белгород    250\n2       15               ТГУ     368            Томск    250\n3       18              ВГМА     327          Воронеж    200\n4       22               МГУ     606           Москва    250\n5       32               РГУ     416           Ростов    250\n6       44              ФинУ     330           Москва    250\n7       45  МГТУ им. Баумана     372           Москва    200\n8       46   ФГБОУ \"Политех\"     304  Санкт-Петербург    200",
      "text/html": "<div>\n<style scoped>\n    .dataframe tbody tr th:only-of-type {\n        vertical-align: middle;\n    }\n\n    .dataframe tbody tr th {\n        vertical-align: top;\n    }\n\n    .dataframe thead th {\n        text-align: right;\n    }\n</style>\n<table border=\"1\" class=\"dataframe\">\n  <thead>\n    <tr style=\"text-align: right;\">\n      <th></th>\n      <th>univ_id</th>\n      <th>univ_name</th>\n      <th>rating</th>\n      <th>city</th>\n      <th>max_1</th>\n    </tr>\n  </thead>\n  <tbody>\n    <tr>\n      <th>0</th>\n      <td>11</td>\n      <td>НГУ</td>\n      <td>345</td>\n      <td>Новосибирск</td>\n      <td>250</td>\n    </tr>\n    <tr>\n      <th>1</th>\n      <td>14</td>\n      <td>БГУ</td>\n      <td>326</td>\n      <td>Белгород</td>\n      <td>250</td>\n    </tr>\n    <tr>\n      <th>2</th>\n      <td>15</td>\n      <td>ТГУ</td>\n      <td>368</td>\n      <td>Томск</td>\n      <td>250</td>\n    </tr>\n    <tr>\n      <th>3</th>\n      <td>18</td>\n      <td>ВГМА</td>\n      <td>327</td>\n      <td>Воронеж</td>\n      <td>200</td>\n    </tr>\n    <tr>\n      <th>4</th>\n      <td>22</td>\n      <td>МГУ</td>\n      <td>606</td>\n      <td>Москва</td>\n      <td>250</td>\n    </tr>\n    <tr>\n      <th>5</th>\n      <td>32</td>\n      <td>РГУ</td>\n      <td>416</td>\n      <td>Ростов</td>\n      <td>250</td>\n    </tr>\n    <tr>\n      <th>6</th>\n      <td>44</td>\n      <td>ФинУ</td>\n      <td>330</td>\n      <td>Москва</td>\n      <td>250</td>\n    </tr>\n    <tr>\n      <th>7</th>\n      <td>45</td>\n      <td>МГТУ им. Баумана</td>\n      <td>372</td>\n      <td>Москва</td>\n      <td>200</td>\n    </tr>\n    <tr>\n      <th>8</th>\n      <td>46</td>\n      <td>ФГБОУ \"Политех\"</td>\n      <td>304</td>\n      <td>Санкт-Петербург</td>\n      <td>200</td>\n    </tr>\n  </tbody>\n</table>\n</div>"
     },
     "execution_count": 43,
     "metadata": {},
     "output_type": "execute_result"
    }
   ],
   "source": [
    "# 6. Напишите запрос, который выполняет вывод списка университетов с рейтингом, превышающим 300, вместе со значением максимального размера стипендии, получаемой студентами в этих университетах.\n",
    "\n",
    "s = select(university, func.max(student.c.stipend)).join(student, university.c.univ_id == student.c.univ_id).where(university.c.rating > 300).group_by(university.c.univ_id)\n",
    "\n",
    "print(s)\n",
    "pd.read_sql(s, conn)"
   ],
   "metadata": {
    "collapsed": false,
    "pycharm": {
     "name": "#%%\n"
    }
   }
  },
  {
   "cell_type": "code",
   "execution_count": 49,
   "outputs": [
    {
     "name": "stdout",
     "output_type": "stream",
     "text": [
      "SELECT student.surname, university.rating, university.univ_id \n",
      "FROM student LEFT OUTER JOIN university ON university.univ_id = student.univ_id ORDER BY student.surname\n"
     ]
    },
    {
     "data": {
      "text/plain": "       surname  rating  univ_id\n0     Агафонов   296.0       10\n1      Аксенов   296.0       10\n2      Антонов   606.0       22\n3      Архипов   606.0       22\n4   Афанасьева   416.0       32\n..         ...     ...      ...\n85     Федоров   296.0       10\n86     Фролова   330.0       44\n87      Ширяев   304.0       46\n88      Шубина   372.0       45\n89        Юдин   327.0       18\n\n[90 rows x 3 columns]",
      "text/html": "<div>\n<style scoped>\n    .dataframe tbody tr th:only-of-type {\n        vertical-align: middle;\n    }\n\n    .dataframe tbody tr th {\n        vertical-align: top;\n    }\n\n    .dataframe thead th {\n        text-align: right;\n    }\n</style>\n<table border=\"1\" class=\"dataframe\">\n  <thead>\n    <tr style=\"text-align: right;\">\n      <th></th>\n      <th>surname</th>\n      <th>rating</th>\n      <th>univ_id</th>\n    </tr>\n  </thead>\n  <tbody>\n    <tr>\n      <th>0</th>\n      <td>Агафонов</td>\n      <td>296.0</td>\n      <td>10</td>\n    </tr>\n    <tr>\n      <th>1</th>\n      <td>Аксенов</td>\n      <td>296.0</td>\n      <td>10</td>\n    </tr>\n    <tr>\n      <th>2</th>\n      <td>Антонов</td>\n      <td>606.0</td>\n      <td>22</td>\n    </tr>\n    <tr>\n      <th>3</th>\n      <td>Архипов</td>\n      <td>606.0</td>\n      <td>22</td>\n    </tr>\n    <tr>\n      <th>4</th>\n      <td>Афанасьева</td>\n      <td>416.0</td>\n      <td>32</td>\n    </tr>\n    <tr>\n      <th>...</th>\n      <td>...</td>\n      <td>...</td>\n      <td>...</td>\n    </tr>\n    <tr>\n      <th>85</th>\n      <td>Федоров</td>\n      <td>296.0</td>\n      <td>10</td>\n    </tr>\n    <tr>\n      <th>86</th>\n      <td>Фролова</td>\n      <td>330.0</td>\n      <td>44</td>\n    </tr>\n    <tr>\n      <th>87</th>\n      <td>Ширяев</td>\n      <td>304.0</td>\n      <td>46</td>\n    </tr>\n    <tr>\n      <th>88</th>\n      <td>Шубина</td>\n      <td>372.0</td>\n      <td>45</td>\n    </tr>\n    <tr>\n      <th>89</th>\n      <td>Юдин</td>\n      <td>327.0</td>\n      <td>18</td>\n    </tr>\n  </tbody>\n</table>\n<p>90 rows × 3 columns</p>\n</div>"
     },
     "execution_count": 49,
     "metadata": {},
     "output_type": "execute_result"
    }
   ],
   "source": [
    "# 7. Напишите запрос на выдачу списка студентов (в алфавитном порядке фамилий) вместе со значением рейтинга университета, где каждый из них учится, включив в список и тех студентов, место учебы которых в базе данных не указано.\n",
    "\n",
    "s = select(student.c.surname, university.c.rating, university.c.univ_id).outerjoin(university).order_by(student.c.surname)\n",
    "\n",
    "print(s)\n",
    "pd.read_sql(s, conn)"
   ],
   "metadata": {
    "collapsed": false,
    "pycharm": {
     "name": "#%%\n"
    }
   }
  },
  {
   "cell_type": "code",
   "execution_count": 53,
   "outputs": [
    {
     "name": "stdout",
     "output_type": "stream",
     "text": [
      "SELECT student.surname, student.name, university.univ_name \n",
      "FROM student LEFT OUTER JOIN university ON university.univ_id = student.univ_id\n"
     ]
    },
    {
     "data": {
      "text/plain": "     surname      name         univ_name\n0     Иванов      Иван               ВГУ\n1     Петров      Петр               ВГУ\n2    Сидоров     Вадим               МГУ\n3   Кузнецов     Борис               ВГУ\n4    Зайцева     Ольга               ВГУ\n..       ...       ...               ...\n85   Киселев  Владимир              ФинУ\n86  Миронова     Федор  МГТУ им. Баумана\n87    Павлов    Андрей               ВГУ\n88    Петров     Антон               МГУ\n89     Лукин     Артем               ВГУ\n\n[90 rows x 3 columns]",
      "text/html": "<div>\n<style scoped>\n    .dataframe tbody tr th:only-of-type {\n        vertical-align: middle;\n    }\n\n    .dataframe tbody tr th {\n        vertical-align: top;\n    }\n\n    .dataframe thead th {\n        text-align: right;\n    }\n</style>\n<table border=\"1\" class=\"dataframe\">\n  <thead>\n    <tr style=\"text-align: right;\">\n      <th></th>\n      <th>surname</th>\n      <th>name</th>\n      <th>univ_name</th>\n    </tr>\n  </thead>\n  <tbody>\n    <tr>\n      <th>0</th>\n      <td>Иванов</td>\n      <td>Иван</td>\n      <td>ВГУ</td>\n    </tr>\n    <tr>\n      <th>1</th>\n      <td>Петров</td>\n      <td>Петр</td>\n      <td>ВГУ</td>\n    </tr>\n    <tr>\n      <th>2</th>\n      <td>Сидоров</td>\n      <td>Вадим</td>\n      <td>МГУ</td>\n    </tr>\n    <tr>\n      <th>3</th>\n      <td>Кузнецов</td>\n      <td>Борис</td>\n      <td>ВГУ</td>\n    </tr>\n    <tr>\n      <th>4</th>\n      <td>Зайцева</td>\n      <td>Ольга</td>\n      <td>ВГУ</td>\n    </tr>\n    <tr>\n      <th>...</th>\n      <td>...</td>\n      <td>...</td>\n      <td>...</td>\n    </tr>\n    <tr>\n      <th>85</th>\n      <td>Киселев</td>\n      <td>Владимир</td>\n      <td>ФинУ</td>\n    </tr>\n    <tr>\n      <th>86</th>\n      <td>Миронова</td>\n      <td>Федор</td>\n      <td>МГТУ им. Баумана</td>\n    </tr>\n    <tr>\n      <th>87</th>\n      <td>Павлов</td>\n      <td>Андрей</td>\n      <td>ВГУ</td>\n    </tr>\n    <tr>\n      <th>88</th>\n      <td>Петров</td>\n      <td>Антон</td>\n      <td>МГУ</td>\n    </tr>\n    <tr>\n      <th>89</th>\n      <td>Лукин</td>\n      <td>Артем</td>\n      <td>ВГУ</td>\n    </tr>\n  </tbody>\n</table>\n<p>90 rows × 3 columns</p>\n</div>"
     },
     "execution_count": 53,
     "metadata": {},
     "output_type": "execute_result"
    }
   ],
   "source": [
    "# 8. Напишите запрос для получения списка всех студентов вместе с названиями университетов, в которых они учатся. Отдельным запросом получите записи, расширяющие данный список по сравнению с тем, который был бы получен внутренним соединением.\n",
    "\n",
    "s = select(student.c.surname, student.c.name, university.c.univ_name).join(university, university.c.univ_id == student.c.univ_id)\n",
    "\n",
    "s_1 = select(student.c.surname, student.c.name, university.c.univ_name).outerjoin(university, university.c.univ_id == student.c.univ_id)\n",
    "\n",
    "\n",
    "print(s_1)\n",
    "#pd.read_sql(s, conn)\n",
    "pd.read_sql(s_1, conn)"
   ],
   "metadata": {
    "collapsed": false,
    "pycharm": {
     "name": "#%%\n"
    }
   }
  },
  {
   "cell_type": "code",
   "execution_count": 67,
   "outputs": [
    {
     "name": "stdout",
     "output_type": "stream",
     "text": [
      "SELECT student.surname, student.name, university.univ_name \n",
      "FROM university LEFT OUTER JOIN student ON university.univ_id = student.univ_id ORDER BY university.univ_name\n"
     ]
    },
    {
     "data": {
      "text/plain": "       surname        name univ_name\n0   Владимиров    Анатолий       БГУ\n1     Вячеслав     Пахомов       БГУ\n2      Комаров        Ипат       БГУ\n3   Кондратьев     Николай       БГУ\n4      Костина        Кира       БГУ\n..         ...         ...       ...\n86     Морозов      Кирилл      ФинУ\n87    Одинцова       Лидия      ФинУ\n88      Петров       Вадим      ФинУ\n89   Пономарев  Варфоромей      ФинУ\n90     Фролова    Василиса      ФинУ\n\n[91 rows x 3 columns]",
      "text/html": "<div>\n<style scoped>\n    .dataframe tbody tr th:only-of-type {\n        vertical-align: middle;\n    }\n\n    .dataframe tbody tr th {\n        vertical-align: top;\n    }\n\n    .dataframe thead th {\n        text-align: right;\n    }\n</style>\n<table border=\"1\" class=\"dataframe\">\n  <thead>\n    <tr style=\"text-align: right;\">\n      <th></th>\n      <th>surname</th>\n      <th>name</th>\n      <th>univ_name</th>\n    </tr>\n  </thead>\n  <tbody>\n    <tr>\n      <th>0</th>\n      <td>Владимиров</td>\n      <td>Анатолий</td>\n      <td>БГУ</td>\n    </tr>\n    <tr>\n      <th>1</th>\n      <td>Вячеслав</td>\n      <td>Пахомов</td>\n      <td>БГУ</td>\n    </tr>\n    <tr>\n      <th>2</th>\n      <td>Комаров</td>\n      <td>Ипат</td>\n      <td>БГУ</td>\n    </tr>\n    <tr>\n      <th>3</th>\n      <td>Кондратьев</td>\n      <td>Николай</td>\n      <td>БГУ</td>\n    </tr>\n    <tr>\n      <th>4</th>\n      <td>Костина</td>\n      <td>Кира</td>\n      <td>БГУ</td>\n    </tr>\n    <tr>\n      <th>...</th>\n      <td>...</td>\n      <td>...</td>\n      <td>...</td>\n    </tr>\n    <tr>\n      <th>86</th>\n      <td>Морозов</td>\n      <td>Кирилл</td>\n      <td>ФинУ</td>\n    </tr>\n    <tr>\n      <th>87</th>\n      <td>Одинцова</td>\n      <td>Лидия</td>\n      <td>ФинУ</td>\n    </tr>\n    <tr>\n      <th>88</th>\n      <td>Петров</td>\n      <td>Вадим</td>\n      <td>ФинУ</td>\n    </tr>\n    <tr>\n      <th>89</th>\n      <td>Пономарев</td>\n      <td>Варфоромей</td>\n      <td>ФинУ</td>\n    </tr>\n    <tr>\n      <th>90</th>\n      <td>Фролова</td>\n      <td>Василиса</td>\n      <td>ФинУ</td>\n    </tr>\n  </tbody>\n</table>\n<p>91 rows × 3 columns</p>\n</div>"
     },
     "execution_count": 67,
     "metadata": {},
     "output_type": "execute_result"
    }
   ],
   "source": [
    "# 9. Напишите запрос для получения списка всех университетов вместе с фамилиями студентов, в них обучающихся. Отдельным запросом получите записи, расширяющие данный список по сравнению с тем, который был бы получен внутренним соединением.\n",
    "\n",
    "s = select(student.c.surname, student.c.name, university.c.univ_name).join(student, isouter=True).order_by(university.c.univ_name)\n",
    "\n",
    "print(s)\n",
    "\n",
    "pd.read_sql(s, conn)"
   ],
   "metadata": {
    "collapsed": false,
    "pycharm": {
     "name": "#%%\n"
    }
   }
  },
  {
   "cell_type": "code",
   "execution_count": 57,
   "outputs": [
    {
     "name": "stdout",
     "output_type": "stream",
     "text": [
      "SELECT university.univ_name, lecturer.surname \n",
      "FROM university JOIN lecturer ON lecturer.univ_id = university.univ_id ORDER BY lecturer.surname\n"
     ]
    },
    {
     "data": {
      "text/plain": "           univ_name     surname\n0                ВГУ    Алексеев\n1               ВГМА   Артемьева\n2                РГУ     Беляков\n3                ТГУ    Беспалов\n4               ВГМА   Богданова\n5               УЛГУ     Брагина\n6   МГТУ им. Баумана      Волков\n7               УЛГУ   Дмитриева\n8                РГУ    Дорофеев\n9               УЛГУ     Елисеев\n10               ВГУ     Зайцева\n11   ФГБОУ \"Политех\"       Зимин\n12               ВГУ      Зыкова\n13               ВГУ  Колесников\n14              ВГМА     Крюкова\n15               КФУ  Кудрявцева\n16               КФУ    Куликова\n17               МГУ     Лагутин\n18               ВГУ   Максимова\n19               НГУ   Мамонтова\n20               ВГУ    Николаев\n21               ВГУ     Никонов\n22              ВГМА     Сафонов\n23   ФГБОУ \"Политех\"    Сафонова\n24              ВГМА   Ситникова\n25               ВГУ     Сорокин\n26   ФГБОУ \"Политех\"    Стрелков\n27               МГУ     Струков\n28               ТГУ     Тихонов",
      "text/html": "<div>\n<style scoped>\n    .dataframe tbody tr th:only-of-type {\n        vertical-align: middle;\n    }\n\n    .dataframe tbody tr th {\n        vertical-align: top;\n    }\n\n    .dataframe thead th {\n        text-align: right;\n    }\n</style>\n<table border=\"1\" class=\"dataframe\">\n  <thead>\n    <tr style=\"text-align: right;\">\n      <th></th>\n      <th>univ_name</th>\n      <th>surname</th>\n    </tr>\n  </thead>\n  <tbody>\n    <tr>\n      <th>0</th>\n      <td>ВГУ</td>\n      <td>Алексеев</td>\n    </tr>\n    <tr>\n      <th>1</th>\n      <td>ВГМА</td>\n      <td>Артемьева</td>\n    </tr>\n    <tr>\n      <th>2</th>\n      <td>РГУ</td>\n      <td>Беляков</td>\n    </tr>\n    <tr>\n      <th>3</th>\n      <td>ТГУ</td>\n      <td>Беспалов</td>\n    </tr>\n    <tr>\n      <th>4</th>\n      <td>ВГМА</td>\n      <td>Богданова</td>\n    </tr>\n    <tr>\n      <th>5</th>\n      <td>УЛГУ</td>\n      <td>Брагина</td>\n    </tr>\n    <tr>\n      <th>6</th>\n      <td>МГТУ им. Баумана</td>\n      <td>Волков</td>\n    </tr>\n    <tr>\n      <th>7</th>\n      <td>УЛГУ</td>\n      <td>Дмитриева</td>\n    </tr>\n    <tr>\n      <th>8</th>\n      <td>РГУ</td>\n      <td>Дорофеев</td>\n    </tr>\n    <tr>\n      <th>9</th>\n      <td>УЛГУ</td>\n      <td>Елисеев</td>\n    </tr>\n    <tr>\n      <th>10</th>\n      <td>ВГУ</td>\n      <td>Зайцева</td>\n    </tr>\n    <tr>\n      <th>11</th>\n      <td>ФГБОУ \"Политех\"</td>\n      <td>Зимин</td>\n    </tr>\n    <tr>\n      <th>12</th>\n      <td>ВГУ</td>\n      <td>Зыкова</td>\n    </tr>\n    <tr>\n      <th>13</th>\n      <td>ВГУ</td>\n      <td>Колесников</td>\n    </tr>\n    <tr>\n      <th>14</th>\n      <td>ВГМА</td>\n      <td>Крюкова</td>\n    </tr>\n    <tr>\n      <th>15</th>\n      <td>КФУ</td>\n      <td>Кудрявцева</td>\n    </tr>\n    <tr>\n      <th>16</th>\n      <td>КФУ</td>\n      <td>Куликова</td>\n    </tr>\n    <tr>\n      <th>17</th>\n      <td>МГУ</td>\n      <td>Лагутин</td>\n    </tr>\n    <tr>\n      <th>18</th>\n      <td>ВГУ</td>\n      <td>Максимова</td>\n    </tr>\n    <tr>\n      <th>19</th>\n      <td>НГУ</td>\n      <td>Мамонтова</td>\n    </tr>\n    <tr>\n      <th>20</th>\n      <td>ВГУ</td>\n      <td>Николаев</td>\n    </tr>\n    <tr>\n      <th>21</th>\n      <td>ВГУ</td>\n      <td>Никонов</td>\n    </tr>\n    <tr>\n      <th>22</th>\n      <td>ВГМА</td>\n      <td>Сафонов</td>\n    </tr>\n    <tr>\n      <th>23</th>\n      <td>ФГБОУ \"Политех\"</td>\n      <td>Сафонова</td>\n    </tr>\n    <tr>\n      <th>24</th>\n      <td>ВГМА</td>\n      <td>Ситникова</td>\n    </tr>\n    <tr>\n      <th>25</th>\n      <td>ВГУ</td>\n      <td>Сорокин</td>\n    </tr>\n    <tr>\n      <th>26</th>\n      <td>ФГБОУ \"Политех\"</td>\n      <td>Стрелков</td>\n    </tr>\n    <tr>\n      <th>27</th>\n      <td>МГУ</td>\n      <td>Струков</td>\n    </tr>\n    <tr>\n      <th>28</th>\n      <td>ТГУ</td>\n      <td>Тихонов</td>\n    </tr>\n  </tbody>\n</table>\n</div>"
     },
     "execution_count": 57,
     "metadata": {},
     "output_type": "execute_result"
    }
   ],
   "source": [
    "# 10. Напишите запрос для получения списка всех университетов вместе с фамилиями преподавателей, в них работающих. Отдельным запросом получите записи, расширяющие данный список по сравнению с тем, который был бы получен внутренним соединением.\n",
    "\n",
    "s = select(university.c.univ_name, lecturer.c.surname).join(lecturer, lecturer.c.univ_id == university.c.univ_id).order_by(lecturer.c.surname)\n",
    "\n",
    "print(s)\n",
    "pd.read_sql(s, conn)"
   ],
   "metadata": {
    "collapsed": false,
    "pycharm": {
     "name": "#%%\n"
    }
   }
  },
  {
   "cell_type": "code",
   "execution_count": null,
   "outputs": [],
   "source": [
    "# 11. Напишите запрос для получения списка всех преподавателей вместе с университетами, в которых они работают. Есть ли отличие списка от того, который был бы получен внутренним соединением? Подтвердите отдельным запросом ваш вывод.\n",
    "\n",
    "#s = select()"
   ],
   "metadata": {
    "collapsed": false,
    "pycharm": {
     "name": "#%%\n"
    }
   }
  },
  {
   "cell_type": "code",
   "execution_count": 59,
   "outputs": [
    {
     "name": "stdout",
     "output_type": "stream",
     "text": [
      "SELECT student.surname, student.name, exam_marks.mark \n",
      "FROM student JOIN exam_marks ON exam_marks.student_id = student.student_id ORDER BY student.surname\n"
     ]
    },
    {
     "data": {
      "text/plain": "       surname        name  mark\n0      Антонов    Анатолий   3.0\n1   Афанасьева    Анжелика   1.0\n2       Белкин       Вадим   5.0\n3       Белкин       Вадим   NaN\n4      Блохина      Ираида   5.0\n5     Борисова      Марина   5.0\n6     Васильев      Матвей   3.0\n7     Васильев      Матвей   5.0\n8      Веселов       Тимур   2.0\n9    Вишнякова      Анжела   1.0\n10    Вячеслав     Пахомов   2.0\n11     Жданова       Ирина   5.0\n12         Жук      Оксана   4.0\n13       Жуков        Пров   1.0\n14     Зайцева       Ольга   2.0\n15     Зайцева       Ольга   5.0\n16      Иванов        Иван   1.0\n17    Казакова       Мария   4.0\n18    Казакова       Мария   1.0\n19  Калашников     Евгений   2.0\n20  Калашников     Евгений   2.0\n21     Кондрат     Синицин   3.0\n22     Костина        Кира   4.0\n23       Котов       Павел   4.0\n24    Кузнецов       Борис   5.0\n25     Лазарев  Константин   4.0\n26      Лапина    Элеонора   5.0\n27       Лукин       Артем   4.0\n28  Мельникова       Дарья   2.0\n29  Мельникова       Дарья   2.0\n30  Мельникова    Светлана   5.0\n31  Мельникова    Светлана   4.0\n32  Мельникова    Светлана   3.0\n33      Мишина    Светлана   1.0\n34    Одинцова       Лидия   1.0\n35   Ордуханян     Рафаэль   2.0\n36         Пак       Ирина   5.0\n37         Пак       Ирина   4.0\n38         Пак       Ирина   3.0\n39     Петрова   Екатерина   3.0\n40    Семенова    Вероника   4.0\n41    Сергеева       Фёкла   1.0\n42     Сидоров       Вадим   4.0\n43    Сорокина       Ирина   1.0\n44     Суханов  Константин   1.0\n45    Трофимов   Владислав   2.0\n46     Федоров   Гостомысл   1.0",
      "text/html": "<div>\n<style scoped>\n    .dataframe tbody tr th:only-of-type {\n        vertical-align: middle;\n    }\n\n    .dataframe tbody tr th {\n        vertical-align: top;\n    }\n\n    .dataframe thead th {\n        text-align: right;\n    }\n</style>\n<table border=\"1\" class=\"dataframe\">\n  <thead>\n    <tr style=\"text-align: right;\">\n      <th></th>\n      <th>surname</th>\n      <th>name</th>\n      <th>mark</th>\n    </tr>\n  </thead>\n  <tbody>\n    <tr>\n      <th>0</th>\n      <td>Антонов</td>\n      <td>Анатолий</td>\n      <td>3.0</td>\n    </tr>\n    <tr>\n      <th>1</th>\n      <td>Афанасьева</td>\n      <td>Анжелика</td>\n      <td>1.0</td>\n    </tr>\n    <tr>\n      <th>2</th>\n      <td>Белкин</td>\n      <td>Вадим</td>\n      <td>5.0</td>\n    </tr>\n    <tr>\n      <th>3</th>\n      <td>Белкин</td>\n      <td>Вадим</td>\n      <td>NaN</td>\n    </tr>\n    <tr>\n      <th>4</th>\n      <td>Блохина</td>\n      <td>Ираида</td>\n      <td>5.0</td>\n    </tr>\n    <tr>\n      <th>5</th>\n      <td>Борисова</td>\n      <td>Марина</td>\n      <td>5.0</td>\n    </tr>\n    <tr>\n      <th>6</th>\n      <td>Васильев</td>\n      <td>Матвей</td>\n      <td>3.0</td>\n    </tr>\n    <tr>\n      <th>7</th>\n      <td>Васильев</td>\n      <td>Матвей</td>\n      <td>5.0</td>\n    </tr>\n    <tr>\n      <th>8</th>\n      <td>Веселов</td>\n      <td>Тимур</td>\n      <td>2.0</td>\n    </tr>\n    <tr>\n      <th>9</th>\n      <td>Вишнякова</td>\n      <td>Анжела</td>\n      <td>1.0</td>\n    </tr>\n    <tr>\n      <th>10</th>\n      <td>Вячеслав</td>\n      <td>Пахомов</td>\n      <td>2.0</td>\n    </tr>\n    <tr>\n      <th>11</th>\n      <td>Жданова</td>\n      <td>Ирина</td>\n      <td>5.0</td>\n    </tr>\n    <tr>\n      <th>12</th>\n      <td>Жук</td>\n      <td>Оксана</td>\n      <td>4.0</td>\n    </tr>\n    <tr>\n      <th>13</th>\n      <td>Жуков</td>\n      <td>Пров</td>\n      <td>1.0</td>\n    </tr>\n    <tr>\n      <th>14</th>\n      <td>Зайцева</td>\n      <td>Ольга</td>\n      <td>2.0</td>\n    </tr>\n    <tr>\n      <th>15</th>\n      <td>Зайцева</td>\n      <td>Ольга</td>\n      <td>5.0</td>\n    </tr>\n    <tr>\n      <th>16</th>\n      <td>Иванов</td>\n      <td>Иван</td>\n      <td>1.0</td>\n    </tr>\n    <tr>\n      <th>17</th>\n      <td>Казакова</td>\n      <td>Мария</td>\n      <td>4.0</td>\n    </tr>\n    <tr>\n      <th>18</th>\n      <td>Казакова</td>\n      <td>Мария</td>\n      <td>1.0</td>\n    </tr>\n    <tr>\n      <th>19</th>\n      <td>Калашников</td>\n      <td>Евгений</td>\n      <td>2.0</td>\n    </tr>\n    <tr>\n      <th>20</th>\n      <td>Калашников</td>\n      <td>Евгений</td>\n      <td>2.0</td>\n    </tr>\n    <tr>\n      <th>21</th>\n      <td>Кондрат</td>\n      <td>Синицин</td>\n      <td>3.0</td>\n    </tr>\n    <tr>\n      <th>22</th>\n      <td>Костина</td>\n      <td>Кира</td>\n      <td>4.0</td>\n    </tr>\n    <tr>\n      <th>23</th>\n      <td>Котов</td>\n      <td>Павел</td>\n      <td>4.0</td>\n    </tr>\n    <tr>\n      <th>24</th>\n      <td>Кузнецов</td>\n      <td>Борис</td>\n      <td>5.0</td>\n    </tr>\n    <tr>\n      <th>25</th>\n      <td>Лазарев</td>\n      <td>Константин</td>\n      <td>4.0</td>\n    </tr>\n    <tr>\n      <th>26</th>\n      <td>Лапина</td>\n      <td>Элеонора</td>\n      <td>5.0</td>\n    </tr>\n    <tr>\n      <th>27</th>\n      <td>Лукин</td>\n      <td>Артем</td>\n      <td>4.0</td>\n    </tr>\n    <tr>\n      <th>28</th>\n      <td>Мельникова</td>\n      <td>Дарья</td>\n      <td>2.0</td>\n    </tr>\n    <tr>\n      <th>29</th>\n      <td>Мельникова</td>\n      <td>Дарья</td>\n      <td>2.0</td>\n    </tr>\n    <tr>\n      <th>30</th>\n      <td>Мельникова</td>\n      <td>Светлана</td>\n      <td>5.0</td>\n    </tr>\n    <tr>\n      <th>31</th>\n      <td>Мельникова</td>\n      <td>Светлана</td>\n      <td>4.0</td>\n    </tr>\n    <tr>\n      <th>32</th>\n      <td>Мельникова</td>\n      <td>Светлана</td>\n      <td>3.0</td>\n    </tr>\n    <tr>\n      <th>33</th>\n      <td>Мишина</td>\n      <td>Светлана</td>\n      <td>1.0</td>\n    </tr>\n    <tr>\n      <th>34</th>\n      <td>Одинцова</td>\n      <td>Лидия</td>\n      <td>1.0</td>\n    </tr>\n    <tr>\n      <th>35</th>\n      <td>Ордуханян</td>\n      <td>Рафаэль</td>\n      <td>2.0</td>\n    </tr>\n    <tr>\n      <th>36</th>\n      <td>Пак</td>\n      <td>Ирина</td>\n      <td>5.0</td>\n    </tr>\n    <tr>\n      <th>37</th>\n      <td>Пак</td>\n      <td>Ирина</td>\n      <td>4.0</td>\n    </tr>\n    <tr>\n      <th>38</th>\n      <td>Пак</td>\n      <td>Ирина</td>\n      <td>3.0</td>\n    </tr>\n    <tr>\n      <th>39</th>\n      <td>Петрова</td>\n      <td>Екатерина</td>\n      <td>3.0</td>\n    </tr>\n    <tr>\n      <th>40</th>\n      <td>Семенова</td>\n      <td>Вероника</td>\n      <td>4.0</td>\n    </tr>\n    <tr>\n      <th>41</th>\n      <td>Сергеева</td>\n      <td>Фёкла</td>\n      <td>1.0</td>\n    </tr>\n    <tr>\n      <th>42</th>\n      <td>Сидоров</td>\n      <td>Вадим</td>\n      <td>4.0</td>\n    </tr>\n    <tr>\n      <th>43</th>\n      <td>Сорокина</td>\n      <td>Ирина</td>\n      <td>1.0</td>\n    </tr>\n    <tr>\n      <th>44</th>\n      <td>Суханов</td>\n      <td>Константин</td>\n      <td>1.0</td>\n    </tr>\n    <tr>\n      <th>45</th>\n      <td>Трофимов</td>\n      <td>Владислав</td>\n      <td>2.0</td>\n    </tr>\n    <tr>\n      <th>46</th>\n      <td>Федоров</td>\n      <td>Гостомысл</td>\n      <td>1.0</td>\n    </tr>\n  </tbody>\n</table>\n</div>"
     },
     "execution_count": 59,
     "metadata": {},
     "output_type": "execute_result"
    }
   ],
   "source": [
    "# 12. Напишите запрос для получения списка всех студентов и оценок, полученных ими на экзаменах. Отдельным запросом получите записи, расширяющие данный список по сравнению с тем, который был бы получен внутренним соединением.\n",
    "\n",
    "s = select(student.c.surname, student.c.name, exam_marks.c.mark).join(exam_marks, exam_marks.c.student_id == student.c.student_id).order_by(student.c.surname)\n",
    "\n",
    "print(s)\n",
    "pd.read_sql(s, conn)"
   ],
   "metadata": {
    "collapsed": false,
    "pycharm": {
     "name": "#%%\n"
    }
   }
  },
  {
   "cell_type": "code",
   "execution_count": 60,
   "outputs": [
    {
     "name": "stdout",
     "output_type": "stream",
     "text": [
      "SELECT exam_marks.mark, student.surname \n",
      "FROM exam_marks JOIN student ON exam_marks.student_id = student.student_id ORDER BY student.surname\n"
     ]
    },
    {
     "data": {
      "text/plain": "    mark     surname\n0    3.0     Антонов\n1    1.0  Афанасьева\n2    5.0      Белкин\n3    NaN      Белкин\n4    5.0     Блохина\n5    5.0    Борисова\n6    3.0    Васильев\n7    5.0    Васильев\n8    2.0     Веселов\n9    1.0   Вишнякова\n10   2.0    Вячеслав\n11   5.0     Жданова\n12   4.0         Жук\n13   1.0       Жуков\n14   2.0     Зайцева\n15   5.0     Зайцева\n16   1.0      Иванов\n17   4.0    Казакова\n18   1.0    Казакова\n19   2.0  Калашников\n20   2.0  Калашников\n21   3.0     Кондрат\n22   4.0     Костина\n23   4.0       Котов\n24   5.0    Кузнецов\n25   4.0     Лазарев\n26   5.0      Лапина\n27   4.0       Лукин\n28   2.0  Мельникова\n29   2.0  Мельникова\n30   5.0  Мельникова\n31   4.0  Мельникова\n32   3.0  Мельникова\n33   1.0      Мишина\n34   1.0    Одинцова\n35   2.0   Ордуханян\n36   5.0         Пак\n37   4.0         Пак\n38   3.0         Пак\n39   3.0     Петрова\n40   4.0    Семенова\n41   1.0    Сергеева\n42   4.0     Сидоров\n43   1.0    Сорокина\n44   1.0     Суханов\n45   2.0    Трофимов\n46   1.0     Федоров",
      "text/html": "<div>\n<style scoped>\n    .dataframe tbody tr th:only-of-type {\n        vertical-align: middle;\n    }\n\n    .dataframe tbody tr th {\n        vertical-align: top;\n    }\n\n    .dataframe thead th {\n        text-align: right;\n    }\n</style>\n<table border=\"1\" class=\"dataframe\">\n  <thead>\n    <tr style=\"text-align: right;\">\n      <th></th>\n      <th>mark</th>\n      <th>surname</th>\n    </tr>\n  </thead>\n  <tbody>\n    <tr>\n      <th>0</th>\n      <td>3.0</td>\n      <td>Антонов</td>\n    </tr>\n    <tr>\n      <th>1</th>\n      <td>1.0</td>\n      <td>Афанасьева</td>\n    </tr>\n    <tr>\n      <th>2</th>\n      <td>5.0</td>\n      <td>Белкин</td>\n    </tr>\n    <tr>\n      <th>3</th>\n      <td>NaN</td>\n      <td>Белкин</td>\n    </tr>\n    <tr>\n      <th>4</th>\n      <td>5.0</td>\n      <td>Блохина</td>\n    </tr>\n    <tr>\n      <th>5</th>\n      <td>5.0</td>\n      <td>Борисова</td>\n    </tr>\n    <tr>\n      <th>6</th>\n      <td>3.0</td>\n      <td>Васильев</td>\n    </tr>\n    <tr>\n      <th>7</th>\n      <td>5.0</td>\n      <td>Васильев</td>\n    </tr>\n    <tr>\n      <th>8</th>\n      <td>2.0</td>\n      <td>Веселов</td>\n    </tr>\n    <tr>\n      <th>9</th>\n      <td>1.0</td>\n      <td>Вишнякова</td>\n    </tr>\n    <tr>\n      <th>10</th>\n      <td>2.0</td>\n      <td>Вячеслав</td>\n    </tr>\n    <tr>\n      <th>11</th>\n      <td>5.0</td>\n      <td>Жданова</td>\n    </tr>\n    <tr>\n      <th>12</th>\n      <td>4.0</td>\n      <td>Жук</td>\n    </tr>\n    <tr>\n      <th>13</th>\n      <td>1.0</td>\n      <td>Жуков</td>\n    </tr>\n    <tr>\n      <th>14</th>\n      <td>2.0</td>\n      <td>Зайцева</td>\n    </tr>\n    <tr>\n      <th>15</th>\n      <td>5.0</td>\n      <td>Зайцева</td>\n    </tr>\n    <tr>\n      <th>16</th>\n      <td>1.0</td>\n      <td>Иванов</td>\n    </tr>\n    <tr>\n      <th>17</th>\n      <td>4.0</td>\n      <td>Казакова</td>\n    </tr>\n    <tr>\n      <th>18</th>\n      <td>1.0</td>\n      <td>Казакова</td>\n    </tr>\n    <tr>\n      <th>19</th>\n      <td>2.0</td>\n      <td>Калашников</td>\n    </tr>\n    <tr>\n      <th>20</th>\n      <td>2.0</td>\n      <td>Калашников</td>\n    </tr>\n    <tr>\n      <th>21</th>\n      <td>3.0</td>\n      <td>Кондрат</td>\n    </tr>\n    <tr>\n      <th>22</th>\n      <td>4.0</td>\n      <td>Костина</td>\n    </tr>\n    <tr>\n      <th>23</th>\n      <td>4.0</td>\n      <td>Котов</td>\n    </tr>\n    <tr>\n      <th>24</th>\n      <td>5.0</td>\n      <td>Кузнецов</td>\n    </tr>\n    <tr>\n      <th>25</th>\n      <td>4.0</td>\n      <td>Лазарев</td>\n    </tr>\n    <tr>\n      <th>26</th>\n      <td>5.0</td>\n      <td>Лапина</td>\n    </tr>\n    <tr>\n      <th>27</th>\n      <td>4.0</td>\n      <td>Лукин</td>\n    </tr>\n    <tr>\n      <th>28</th>\n      <td>2.0</td>\n      <td>Мельникова</td>\n    </tr>\n    <tr>\n      <th>29</th>\n      <td>2.0</td>\n      <td>Мельникова</td>\n    </tr>\n    <tr>\n      <th>30</th>\n      <td>5.0</td>\n      <td>Мельникова</td>\n    </tr>\n    <tr>\n      <th>31</th>\n      <td>4.0</td>\n      <td>Мельникова</td>\n    </tr>\n    <tr>\n      <th>32</th>\n      <td>3.0</td>\n      <td>Мельникова</td>\n    </tr>\n    <tr>\n      <th>33</th>\n      <td>1.0</td>\n      <td>Мишина</td>\n    </tr>\n    <tr>\n      <th>34</th>\n      <td>1.0</td>\n      <td>Одинцова</td>\n    </tr>\n    <tr>\n      <th>35</th>\n      <td>2.0</td>\n      <td>Ордуханян</td>\n    </tr>\n    <tr>\n      <th>36</th>\n      <td>5.0</td>\n      <td>Пак</td>\n    </tr>\n    <tr>\n      <th>37</th>\n      <td>4.0</td>\n      <td>Пак</td>\n    </tr>\n    <tr>\n      <th>38</th>\n      <td>3.0</td>\n      <td>Пак</td>\n    </tr>\n    <tr>\n      <th>39</th>\n      <td>3.0</td>\n      <td>Петрова</td>\n    </tr>\n    <tr>\n      <th>40</th>\n      <td>4.0</td>\n      <td>Семенова</td>\n    </tr>\n    <tr>\n      <th>41</th>\n      <td>1.0</td>\n      <td>Сергеева</td>\n    </tr>\n    <tr>\n      <th>42</th>\n      <td>4.0</td>\n      <td>Сидоров</td>\n    </tr>\n    <tr>\n      <th>43</th>\n      <td>1.0</td>\n      <td>Сорокина</td>\n    </tr>\n    <tr>\n      <th>44</th>\n      <td>1.0</td>\n      <td>Суханов</td>\n    </tr>\n    <tr>\n      <th>45</th>\n      <td>2.0</td>\n      <td>Трофимов</td>\n    </tr>\n    <tr>\n      <th>46</th>\n      <td>1.0</td>\n      <td>Федоров</td>\n    </tr>\n  </tbody>\n</table>\n</div>"
     },
     "execution_count": 60,
     "metadata": {},
     "output_type": "execute_result"
    }
   ],
   "source": [
    "# 13. Напишите запрос для получения списка всех экзаменационных оценок вместе с фамилиями получивших их студентов. Есть ли отличие списка от того, который был бы получен внутренним соединением? Подтвердите отдельным запросом ваш вывод.\n",
    "\n",
    "s = select(exam_marks.c.mark, student.c.surname).join(student, exam_marks.c.student_id == student.c.student_id).order_by(student.c.surname)\n",
    "\n",
    "print(s)\n",
    "pd.read_sql(s, conn)"
   ],
   "metadata": {
    "collapsed": false,
    "pycharm": {
     "name": "#%%\n"
    }
   }
  },
  {
   "cell_type": "code",
   "execution_count": null,
   "outputs": [],
   "source": [],
   "metadata": {
    "collapsed": false,
    "pycharm": {
     "name": "#%%\n"
    }
   }
  }
 ],
 "metadata": {
  "kernelspec": {
   "display_name": "Python 3 (ipykernel)",
   "language": "python",
   "name": "python3"
  },
  "language_info": {
   "codemirror_mode": {
    "name": "ipython",
    "version": 3
   },
   "file_extension": ".py",
   "mimetype": "text/x-python",
   "name": "python",
   "nbconvert_exporter": "python",
   "pygments_lexer": "ipython3",
   "version": "3.9.7"
  }
 },
 "nbformat": 4,
 "nbformat_minor": 5
}