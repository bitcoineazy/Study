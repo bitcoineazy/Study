{
 "cells": [
  {
   "cell_type": "markdown",
   "id": "31963a08",
   "metadata": {
    "pycharm": {
     "name": "#%% md\n"
    }
   },
   "source": [
    "<img src=\"../Img/Python_SQL_PI.png\" style=\"width:100%\">\n",
    "\n",
    "\n",
    "<p style=\"font-size:160%;text-align:center\">Семинар 6.2 (13). Оператор UNION</p> \n",
    "\n",
    "<a id = Home></a>\n",
    "\n",
    "**5 мая 2022 года, чт**<br>\n",
    "5-я пара, 15:40 - 17:10<br>\n",
    "В4/3411(кк) (4-й Вешняковский проезд, 4)<br>\n",
    "ПИ20-1, ПИ20-2, ПИ20-3, ПИ20-4, ПИ20-5, ПИ20-6 (2 подгруппа)<br>\n",
    "\n",
    "7-я пара, 18:55 - 20:25<br>\n",
    "В4/3411(кк) (4-й Вешняковский проезд, 4)<br>\n",
    "ПИ20-1, ПИ20-2, ПИ20-3, ПИ20-4, ПИ20-5, ПИ20-6 (1 подгруппа)<br>\n",
    "\n",
    "\n",
    "**16 мая 2022 года, пн**<br>\n",
    "1-я пара, 8:30 - 10:00<br>\n",
    "Щ38/509(кк) (ул. Щербаковская, 38)<br>\n",
    "ПИ20-1, ПИ20-2, ПИ20-3, ПИ20-4, ПИ20-5, ПИ20-6 (3 подгруппа)<br>\n",
    "\n",
    "2-я пара, 10:10 - 11:40<br>\n",
    "Щ38/509(кк) (ул. Щербаковская, 38)<br>\n",
    "Поток:ПИ20-1, ПИ20-2, ПИ20-3, ПИ20-4, ПИ20-5, ПИ20-6 (4 подгруппа)"
   ]
  },
  {
   "cell_type": "markdown",
   "id": "b156e02a",
   "metadata": {
    "pycharm": {
     "name": "#%% md\n"
    }
   },
   "source": [
    "<p style=\"font-size:150%;text-align:center\">Литература</p>\n",
    "\n",
    "- Астахова И.Ф., Мельников В.М., Толстобров А.П., Фертиков В.В. СУБД: язык SQL в примерах и задачах.—М.:ФИЗМАТЛИТ, 2009. — 168 с. — ISBN 978-5-9221-0816-4.\n",
    "- Essential SQLAlchemy: Mapping Python to Databases 2nd Edition. Jason Myers, Rick Copeland. O'Reilly Media, Inc. 2015.\n",
    "- Официальный сайт СУБД sqlite https://sqlite.org\n",
    "- Официальный сайт библиотеки SQLAlchemy https://www.sqlalchemy.org/"
   ]
  },
  {
   "cell_type": "markdown",
   "id": "f6575b35",
   "metadata": {
    "pycharm": {
     "name": "#%% md\n"
    }
   },
   "source": [
    "\n",
    "```\n",
    "STUDENT\n",
    "STUDENT_ID — числовой код, идентифицирующий студента (идентификатор студента),\n",
    "SURNAME — фамилия студента,\n",
    "NAME — имя студента,\n",
    "STIPEND — стипендия, которую получает студент,\n",
    "KURS — курс, на котором учится студент,\n",
    "CITY — город, в котором живет студент,\n",
    "BIRTHDAY — дата рождения студента,\n",
    "UNIV_ID — идентификатор университета, в котором учится студент.\n",
    "\n",
    "\n",
    "LECTURER\n",
    "LECTURER_ID — идентификатор преподавателя,\n",
    "SURNAME — фамилия преподавателя,\n",
    "NAME — имя преподавателя,\n",
    "CITY — город, в котором живет преподаватель,\n",
    "UNIV_ID — идентификатор университета, в котором работает преподаватель\n",
    "\n",
    "\n",
    "SUBJECT\n",
    "SUBJ_ID — идентификатор предмета обучения,\n",
    "SUBJ_NAME — наименование предмета обучения,\n",
    "HOUR — количество часов, отводимых на изучение предмета,\n",
    "SEMESTER — семестр, в котором изучается данный предмет.\n",
    "\n",
    "\n",
    "UNIVERSITY\n",
    "UNIV_ID — идентификатор университета,\n",
    "UNIV_NAME — название университета,\n",
    "RATING — рейтинг университета,\n",
    "CITY — город, в котором расположен университет.\n",
    "\n",
    "\n",
    "EXAM_MARKS\n",
    "EXAM_ID — идентификатор экзамена,\n",
    "STUDENT_ID — идентификатор студента,\n",
    "SUBJ_ID — идентификатор предмета обучения,\n",
    "MARK — экзаменационная оценка,\n",
    "EXAM_DATE — дата экзамена.\n",
    "\n",
    "\n",
    "SUBJ_LECT\n",
    "LECTURER_ID — идентификатор преподавателя,\n",
    "SUBJ_ID — идентификатор предмета обучения.\n",
    "```\n",
    "\n",
    "<img src=\"../Img/Students_Schema.png\" style=\"width:60%\">"
   ]
  },
  {
   "cell_type": "markdown",
   "id": "59cbb788",
   "metadata": {
    "pycharm": {
     "name": "#%% md\n"
    }
   },
   "source": [
    "<p style=\"font-size:150%\">Оператор UNION</p>\n",
    "\n",
    "Оператор UNION используется для объединения выходных данных двух или более SQL-запросов в единое множество строк и столбцов. Например, для того, чтобы получить в одной таблице фамилии и\n",
    "идентификаторы студентов и преподавателей из Москвы, можно использовать следующий запрос:\n",
    "\n",
    "```\n",
    "SELECT 'Студент' AS 'Роль', surname, student_id AS id\n",
    "FROM student\n",
    "WHERE city = 'Москва'\n",
    "UNION\n",
    "SELECT 'Преподаватель', surname, lecturer_id\n",
    "FROM lecturer\n",
    "WHERE city = 'Москва';\n",
    "```\n",
    "\n",
    "Обратите внимание на то, что символом “;” (точка с запятой) оканчивается только последний запрос. Отсутствие этого символа в конце SELECT-запроса означает, что этот запрос, как и следующий за ним, является частью общего запроса с UNION.\n",
    "\n",
    "Использование оператора UNION возможно только при объединении запросов, соответствующие столбцы которых совместимы по объединению. Совместимость по объединению означает, что столбцы, как минимум, должны относиться к одному типу. При этом если говорить о таких конкретных характеристиках типов, как, например, количество символов для полей символьного типа, размер и точность числовых полей, то возможность оператора UNION зависит от конкретной реализации СУБД. В одних системах задание оператора UNION требует полного совпадения характеристик типов столбцов, а в других возможно неявное приведение отличающихся характеристик.\n",
    "\n",
    "<p style=\"font-size:150%\">Управление дублированием строк при объединении</p>\n",
    "\n",
    "В отличие от обычных запросов, UNION автоматически исключает из выходных данных дубликаты строк: например, в запросе\n",
    "\n",
    "```\n",
    "SELECT city\n",
    "FROM student\n",
    "UNION\n",
    "SELECT city\n",
    "FROM lecturer;\n",
    "```\n",
    "\n",
    "совпадающие наименования городов будут исключены. Если все же необходимо в каждом запросе вывести все строки независимо от того, имеются ли такие же строки в других объединяемых запросах, то следует использовать во множественном запросе конструкцию с оператором UNION ALL.\n",
    "\n",
    "```\n",
    "SELECT city\n",
    "FROM student\n",
    "UNION ALL\n",
    "SELECT city\n",
    "FROM lecturer;\n",
    "```\n",
    "\n",
    "Приведем еще один пример использования оператора UNION. Пусть необходимо составить отчет, содержащий для каждой даты сдачи экзаменов сведения по каждому студенту, получившему максимальную или минимальную оценку.\n",
    "\n",
    "```\n",
    "SELECT 'макс оц', A.student_id, surname, mark, date(exam_date)\n",
    "FROM student A, exam_marks B\n",
    "WHERE (A.student_id = B.student_id\n",
    "AND B.mark =\n",
    "(SELECT max(mark)\n",
    "FROM exam_marks C\n",
    "WHERE C.exam_date = B.exam_date))\n",
    "UNION ALL\n",
    "SELECT 'мин оц', A.student_id, surname, mark, date(exam_date)\n",
    "FROM student A, exam_marks B\n",
    "WHERE (A.student_id = B.student_id\n",
    "AND B.mark =\n",
    "(SELECT min(mark)\n",
    "FROM exam_marks C\n",
    "WHERE C.exam_date = B.exam_date));\n",
    "```\n",
    "\n",
    "<p style=\"font-size:150%\">Упорядочивание результатов объединения</p>\n",
    "\n",
    "Предложение ORDER BY применяется для упорядочения выходных данных объединения запросов так же, как и для отдельных запросов.\n",
    "\n",
    "<p style=\"font-size:150%\">Специальное использование объединения</p>\n",
    "\n",
    "Часто полезна операция объединения двух запросов, в которой второй запрос выбирает строки, исключенные первым. Рассмотрим пример. Пусть в таблице STUDENT имеются записи о студентах без указания идентификатора университета. Требуется составить список студентов с указанием наименования университета для тех студентов, у которых эти данные есть, но при этом не отбрасывая и студентов, у которых университет не указан. Можно получить желаемые сведения, сформировав объединение двух запросов, один из которых выполняет выборку студентов с названиями их университетов,\n",
    "а второй выбирает студентов с NULL-значениями в поле UNIV_ID. В данном случае оказывается полезной возможность вставки в запрос констант, в нашем случае текстовой константы ‘неизвестен’, чтобы\n",
    "отметить в списке тех студентов, у которых отсутствует информация об университете.\n",
    "\n",
    "```\n",
    "SELECT surname, name, univ_name\n",
    "FROM student, university\n",
    "WHERE student.univ_id = university.univ_id\n",
    "UNION\n",
    "SELECT surname, name, ‘неизвестен’\n",
    "FROM student\n",
    "WHERE univ_id IS NULL\n",
    "ORDER BY 1;\n",
    "```\n",
    "\n",
    "Для совместимости столбцов объединяемых запросов константу 'неизвестен' во втором запросе следует дополнить пробелами так, чтобы ее длина соответствовала длине поля UNIV_NAME или использовать для согласования типов функцию CAST. В некоторых СУБД согласование типов поля и замещающей его текстовой константы осуществляется автоматически."
   ]
  },
  {
   "cell_type": "code",
   "execution_count": 1,
   "id": "b43644d8",
   "metadata": {
    "pycharm": {
     "name": "#%%\n"
    }
   },
   "outputs": [],
   "source": [
    "#! pip install sqlalchemy"
   ]
  },
  {
   "cell_type": "code",
   "execution_count": 189,
   "id": "37e97907",
   "metadata": {
    "pycharm": {
     "name": "#%%\n"
    }
   },
   "outputs": [],
   "source": [
    "from sqlalchemy import MetaData, Table, create_engine, select, and_, or_, not_, text, desc\n",
    "from sqlalchemy import union, union_all\n",
    "from sqlalchemy.sql import func, distinct, exists\n",
    "import pandas as pd"
   ]
  },
  {
   "cell_type": "code",
   "execution_count": 3,
   "id": "eb4393e8",
   "metadata": {
    "pycharm": {
     "name": "#%%\n"
    }
   },
   "outputs": [],
   "source": [
    "engine = create_engine('sqlite:///../Data/Students.db')\n",
    "metadata_obj = MetaData() # Объект-контейнер, содержит информацию о схеме данных\n",
    "metadata_obj.reflect(bind=engine) # Отображение БД"
   ]
  },
  {
   "cell_type": "markdown",
   "id": "3797f17f",
   "metadata": {
    "pycharm": {
     "name": "#%% md\n"
    }
   },
   "source": [
    "Создание объектов таблиц"
   ]
  },
  {
   "cell_type": "code",
   "execution_count": 4,
   "id": "6e812caf",
   "metadata": {
    "pycharm": {
     "name": "#%%\n"
    }
   },
   "outputs": [],
   "source": [
    "exam_marks=Table(\"exam_marks\", metadata_obj, autoload=True, autoload_with=\"engine\")\n",
    "lecturer=Table(\"lecturer\", metadata_obj, autoload=True, autoload_with=\"engine\")\n",
    "student=Table(\"student\", metadata_obj, autoload=True, autoload_with=\"engine\")\n",
    "subj_lect=Table(\"subj_lect\", metadata_obj, autoload=True, autoload_with=\"engine\")\n",
    "subject=Table(\"subject\", metadata_obj, autoload=True, autoload_with=\"engine\")\n",
    "university=Table(\"university\", metadata_obj, autolad=True, autolad_with=\"engine\")"
   ]
  },
  {
   "cell_type": "code",
   "execution_count": 5,
   "id": "5e0c68fe",
   "metadata": {
    "pycharm": {
     "name": "#%%\n"
    }
   },
   "outputs": [],
   "source": [
    "conn=engine.connect() # Соединение"
   ]
  },
  {
   "cell_type": "markdown",
   "id": "fb742d9f",
   "metadata": {
    "pycharm": {
     "name": "#%% md\n"
    }
   },
   "source": [
    "<img src=../Img/pencil.png style=\"width:190px;height:190px\">\n",
    "<p style=\"background-color:powderblue; font-size:125%; color: rebeccapurple;\">Выполните задания</p>\n",
    "<p>Выполните задания с помощью соедиинения таблиц в Jupyter Notebook </p>\n",
    "\n",
    "1. Создайте объединение двух запросов, которые выдают значения полей *univ_name*, *city*, *rating* для всех университетов. Те из них, у которых рейтинг равен или выше 300, должны иметь комментарий ‘высокий’, все остальные — ‘низкий’.\n",
    "\n",
    "2. Напишите команду, которая выдает список фамилий студентов с комментарием: 'успевает' у студентов, имеющих все положительные оценки; 'не успевает' для сдававших экзамены, но имеющих хотя бы одну неудовлетворительную оценку; 'не сдавал' — для всех остальных. В выводимом результате фамилии студентов упорядочите по алфавиту.\n",
    "\n",
    "3. Выведите объединенный список студентов и преподавателей, живущих в Москве, с соответствующими комментариями 'студент' или 'преподаватель'.\n",
    "\n",
    "4. Выведите объединенный список студентов и преподавателей ВГУ с соответствующими комментариями 'студент' или 'преподаватель'.\n",
    "\n",
    "5. Для каждого города выведите названия университетов с минимальным и максимальным для данного города рейтингом. Пометьте строки списка словами ‘min’ и ‘max’, поместив их в дополнительном столбце. Резулььтат должен содержать название города, название университета, рейтинг. Упорядочите результат по городу.\n",
    "\n",
    "6. Для каждого курса выведите фамилии студентов, получающих минимальные и максимальные на их курсе стипендии. Пометьте строки списка словами ‘min’ и ‘max’, поместив их в дополнительном столбце.\n",
    "\n",
    "7. Для каждого курса выведите фамилии самого старшего и самого младшего студентов. Пометьте строки списка словами 'младший' и 'старший', поместив их в дополнительном столбце.\n",
    "\n",
    "8. Напишите запрос для получения полного списка университетов вместе с количеством студентов, которые в них учатся. Для университетов, не имеющих студентов, поместите в список фразу ‘Студентов нет’. отсортируйте результат по убыванию числа студентов.\n",
    "\n",
    "9. Напишите запрос для получения полного списка университетов вместе с фамилиями преподавателей, в них работающих. Для университетов, не имеющих преподавателей, поместите в список фразу ‘Преподавателей нет’. результат должен содержать название университета, фамилию и имя преподавателя. отсортируйте результат по фамилии и имени преподавателя.\n",
    "\n",
    "10. Выведите полный список студентов вместе с оценками, полученными ими на экзаменах. Для студентов, не сдававших экзамены, в поле оценки поместите 0."
   ]
  },
  {
   "cell_type": "markdown",
   "id": "5002382e",
   "metadata": {
    "pycharm": {
     "name": "#%% md\n"
    }
   },
   "source": [
    "# Решение"
   ]
  },
  {
   "cell_type": "code",
   "execution_count": 6,
   "id": "60777279",
   "metadata": {
    "pycharm": {
     "name": "#%%\n"
    }
   },
   "outputs": [],
   "source": [
    "st = student.alias('st')\n",
    "em = exam_marks.alias('em')\n",
    "u = university.alias('u')\n",
    "l = lecturer.alias('l')\n",
    "sl = subj_lect.alias('sl')\n",
    "su = subject.alias('su')"
   ]
  },
  {
   "cell_type": "code",
   "execution_count": 7,
   "outputs": [
    {
     "name": "stdout",
     "output_type": "stream",
     "text": [
      "SELECT 'Высокий' AS rating, u.univ_name, u.city, u.rating \n",
      "FROM university AS u \n",
      "WHERE u.rating >= :rating_1 UNION ALL SELECT 'Низкий' AS rating, u.univ_name, u.city, u.rating \n",
      "FROM university AS u \n",
      "WHERE u.rating < :rating_2 ORDER BY rating, univ_name\n"
     ]
    },
    {
     "data": {
      "text/plain": "     rating         univ_name             city  rating\n0   Высокий               БГУ         Белгород     326\n1   Высокий              ВГМА          Воронеж     327\n2   Высокий  МГТУ им. Баумана           Москва     372\n3   Высокий               МГУ           Москва     606\n4   Высокий              МФТИ           Москва     500\n5   Высокий               НГУ      Новосибирск     345\n6   Высокий               РГУ           Ростов     416\n7   Высокий               ТГУ            Томск     368\n8   Высокий   ФГБОУ \"Политех\"  Санкт-Петербург     304\n9   Высокий              ФинУ           Москва     330\n10   Низкий               ВГУ          Воронеж     296\n11   Низкий              УЛГУ        Ульяновск     231",
      "text/html": "<div>\n<style scoped>\n    .dataframe tbody tr th:only-of-type {\n        vertical-align: middle;\n    }\n\n    .dataframe tbody tr th {\n        vertical-align: top;\n    }\n\n    .dataframe thead th {\n        text-align: right;\n    }\n</style>\n<table border=\"1\" class=\"dataframe\">\n  <thead>\n    <tr style=\"text-align: right;\">\n      <th></th>\n      <th>rating</th>\n      <th>univ_name</th>\n      <th>city</th>\n      <th>rating</th>\n    </tr>\n  </thead>\n  <tbody>\n    <tr>\n      <th>0</th>\n      <td>Высокий</td>\n      <td>БГУ</td>\n      <td>Белгород</td>\n      <td>326</td>\n    </tr>\n    <tr>\n      <th>1</th>\n      <td>Высокий</td>\n      <td>ВГМА</td>\n      <td>Воронеж</td>\n      <td>327</td>\n    </tr>\n    <tr>\n      <th>2</th>\n      <td>Высокий</td>\n      <td>МГТУ им. Баумана</td>\n      <td>Москва</td>\n      <td>372</td>\n    </tr>\n    <tr>\n      <th>3</th>\n      <td>Высокий</td>\n      <td>МГУ</td>\n      <td>Москва</td>\n      <td>606</td>\n    </tr>\n    <tr>\n      <th>4</th>\n      <td>Высокий</td>\n      <td>МФТИ</td>\n      <td>Москва</td>\n      <td>500</td>\n    </tr>\n    <tr>\n      <th>5</th>\n      <td>Высокий</td>\n      <td>НГУ</td>\n      <td>Новосибирск</td>\n      <td>345</td>\n    </tr>\n    <tr>\n      <th>6</th>\n      <td>Высокий</td>\n      <td>РГУ</td>\n      <td>Ростов</td>\n      <td>416</td>\n    </tr>\n    <tr>\n      <th>7</th>\n      <td>Высокий</td>\n      <td>ТГУ</td>\n      <td>Томск</td>\n      <td>368</td>\n    </tr>\n    <tr>\n      <th>8</th>\n      <td>Высокий</td>\n      <td>ФГБОУ \"Политех\"</td>\n      <td>Санкт-Петербург</td>\n      <td>304</td>\n    </tr>\n    <tr>\n      <th>9</th>\n      <td>Высокий</td>\n      <td>ФинУ</td>\n      <td>Москва</td>\n      <td>330</td>\n    </tr>\n    <tr>\n      <th>10</th>\n      <td>Низкий</td>\n      <td>ВГУ</td>\n      <td>Воронеж</td>\n      <td>296</td>\n    </tr>\n    <tr>\n      <th>11</th>\n      <td>Низкий</td>\n      <td>УЛГУ</td>\n      <td>Ульяновск</td>\n      <td>231</td>\n    </tr>\n  </tbody>\n</table>\n</div>"
     },
     "execution_count": 7,
     "metadata": {},
     "output_type": "execute_result"
    }
   ],
   "source": [
    "\"\"\" 1. Ваш код здесь\"\"\"\n",
    "\n",
    "s1 = select(text(\"'Высокий' AS rating\"), u.c.univ_name, u.c.city, u.c.rating)\n",
    "s1 = s1.where(u.c.rating >= 300)\n",
    "\n",
    "s2 = select(text(\"'Низкий' AS rating\"), u.c.univ_name, u.c.city, u.c.rating)\n",
    "s2 = s2.where(u.c.rating < 300)\n",
    "\n",
    "stmt = union_all(s1, s2, )\n",
    "\n",
    "stmt = stmt.order_by(text(\"rating\"), u.c.univ_name)\n",
    "\n",
    "print(stmt)\n",
    "\n",
    "pd.read_sql(stmt, conn)"
   ],
   "metadata": {
    "collapsed": false,
    "pycharm": {
     "name": "#%%\n"
    }
   }
  },
  {
   "cell_type": "code",
   "execution_count": 89,
   "outputs": [
    {
     "name": "stdout",
     "output_type": "stream",
     "text": [
      "SELECT 'Не успевает' AS успеваемость, student.student_id, student.surname, student.name, student.stipend, student.kurs, student.city, student.birthday, student.univ_id \n",
      "FROM student, exam_marks \n",
      "WHERE student.student_id = exam_marks.student_id AND exam_marks.mark IS NULL UNION ALL SELECT DISTINCT 'Не успевает' AS успеваемость, student.student_id, student.surname, student.name, student.stipend, student.kurs, student.city, student.birthday, student.univ_id \n",
      "FROM student, exam_marks \n",
      "WHERE student.student_id = exam_marks.student_id AND exam_marks.mark IN (__[POSTCOMPILE_mark_1]) UNION ALL SELECT 'Успевает' AS успеваемость, student.student_id, student.surname, student.name, student.stipend, student.kurs, student.city, student.birthday, student.univ_id \n",
      "FROM student, exam_marks \n",
      "WHERE student.student_id = exam_marks.student_id AND exam_marks.mark IN (__[POSTCOMPILE_mark_2]) AND (student.student_id NOT IN (SELECT st.student_id \n",
      "FROM student AS st, exam_marks AS em \n",
      "WHERE st.student_id = em.student_id AND em.mark IN (__[POSTCOMPILE_mark_3]))) AND (student.student_id NOT IN (SELECT st.student_id \n",
      "FROM student AS st, exam_marks AS em \n",
      "WHERE st.student_id = em.student_id AND em.mark IS NULL)) UNION ALL SELECT 'Не сдавал' AS успеваемость, student.student_id, student.surname, student.name, student.stipend, student.kurs, student.city, student.birthday, student.univ_id \n",
      "FROM student \n",
      "WHERE (student.student_id NOT IN (SELECT exam_marks.student_id \n",
      "FROM exam_marks)) ORDER BY surname\n"
     ]
    },
    {
     "data": {
      "text/plain": "   успеваемость  student_id     surname       name  stipend  kurs  \\\n0     Не сдавал          78    Агафонов    Василий      150     1   \n1     Не сдавал         113     Аксенов    Валерий      150     1   \n2   Не успевает         105     Антонов   Анатолий      100     1   \n3     Не сдавал         201     Архипов     Андрей      180     1   \n4   Не успевает          79  Афанасьева   Анжелика        0     2   \n..          ...         ...         ...        ...      ...   ...   \n85  Не успевает         116     Федоров  Гостомысл      100     4   \n86    Не сдавал          80     Фролова   Василиса      100     3   \n87    Не сдавал         140      Ширяев     Андрей      150     2   \n88    Не сдавал          69      Шубина      Елена        0     2   \n89    Не сдавал         124        Юдин      Савва        0     2   \n\n             city   birthday  univ_id  \n0         Грозный 1994-10-29       10  \n1        Мурманск 1994-10-27       10  \n2       Сыктывкар 1997-04-08       22  \n3            Орел 2000-01-28       22  \n4             Уфа 1996-11-22       32  \n..            ...        ...      ...  \n85  Новый Уренгой 2000-11-16       10  \n86     Кисловодск 1999-06-02       44  \n87         Джубга 1997-09-13       46  \n88  Камень-на-Оби 2002-08-24       45  \n89         Усинск 2001-12-02       18  \n\n[90 rows x 9 columns]",
      "text/html": "<div>\n<style scoped>\n    .dataframe tbody tr th:only-of-type {\n        vertical-align: middle;\n    }\n\n    .dataframe tbody tr th {\n        vertical-align: top;\n    }\n\n    .dataframe thead th {\n        text-align: right;\n    }\n</style>\n<table border=\"1\" class=\"dataframe\">\n  <thead>\n    <tr style=\"text-align: right;\">\n      <th></th>\n      <th>успеваемость</th>\n      <th>student_id</th>\n      <th>surname</th>\n      <th>name</th>\n      <th>stipend</th>\n      <th>kurs</th>\n      <th>city</th>\n      <th>birthday</th>\n      <th>univ_id</th>\n    </tr>\n  </thead>\n  <tbody>\n    <tr>\n      <th>0</th>\n      <td>Не сдавал</td>\n      <td>78</td>\n      <td>Агафонов</td>\n      <td>Василий</td>\n      <td>150</td>\n      <td>1</td>\n      <td>Грозный</td>\n      <td>1994-10-29</td>\n      <td>10</td>\n    </tr>\n    <tr>\n      <th>1</th>\n      <td>Не сдавал</td>\n      <td>113</td>\n      <td>Аксенов</td>\n      <td>Валерий</td>\n      <td>150</td>\n      <td>1</td>\n      <td>Мурманск</td>\n      <td>1994-10-27</td>\n      <td>10</td>\n    </tr>\n    <tr>\n      <th>2</th>\n      <td>Не успевает</td>\n      <td>105</td>\n      <td>Антонов</td>\n      <td>Анатолий</td>\n      <td>100</td>\n      <td>1</td>\n      <td>Сыктывкар</td>\n      <td>1997-04-08</td>\n      <td>22</td>\n    </tr>\n    <tr>\n      <th>3</th>\n      <td>Не сдавал</td>\n      <td>201</td>\n      <td>Архипов</td>\n      <td>Андрей</td>\n      <td>180</td>\n      <td>1</td>\n      <td>Орел</td>\n      <td>2000-01-28</td>\n      <td>22</td>\n    </tr>\n    <tr>\n      <th>4</th>\n      <td>Не успевает</td>\n      <td>79</td>\n      <td>Афанасьева</td>\n      <td>Анжелика</td>\n      <td>0</td>\n      <td>2</td>\n      <td>Уфа</td>\n      <td>1996-11-22</td>\n      <td>32</td>\n    </tr>\n    <tr>\n      <th>...</th>\n      <td>...</td>\n      <td>...</td>\n      <td>...</td>\n      <td>...</td>\n      <td>...</td>\n      <td>...</td>\n      <td>...</td>\n      <td>...</td>\n      <td>...</td>\n    </tr>\n    <tr>\n      <th>85</th>\n      <td>Не успевает</td>\n      <td>116</td>\n      <td>Федоров</td>\n      <td>Гостомысл</td>\n      <td>100</td>\n      <td>4</td>\n      <td>Новый Уренгой</td>\n      <td>2000-11-16</td>\n      <td>10</td>\n    </tr>\n    <tr>\n      <th>86</th>\n      <td>Не сдавал</td>\n      <td>80</td>\n      <td>Фролова</td>\n      <td>Василиса</td>\n      <td>100</td>\n      <td>3</td>\n      <td>Кисловодск</td>\n      <td>1999-06-02</td>\n      <td>44</td>\n    </tr>\n    <tr>\n      <th>87</th>\n      <td>Не сдавал</td>\n      <td>140</td>\n      <td>Ширяев</td>\n      <td>Андрей</td>\n      <td>150</td>\n      <td>2</td>\n      <td>Джубга</td>\n      <td>1997-09-13</td>\n      <td>46</td>\n    </tr>\n    <tr>\n      <th>88</th>\n      <td>Не сдавал</td>\n      <td>69</td>\n      <td>Шубина</td>\n      <td>Елена</td>\n      <td>0</td>\n      <td>2</td>\n      <td>Камень-на-Оби</td>\n      <td>2002-08-24</td>\n      <td>45</td>\n    </tr>\n    <tr>\n      <th>89</th>\n      <td>Не сдавал</td>\n      <td>124</td>\n      <td>Юдин</td>\n      <td>Савва</td>\n      <td>0</td>\n      <td>2</td>\n      <td>Усинск</td>\n      <td>2001-12-02</td>\n      <td>18</td>\n    </tr>\n  </tbody>\n</table>\n<p>90 rows × 9 columns</p>\n</div>"
     },
     "execution_count": 89,
     "metadata": {},
     "output_type": "execute_result"
    }
   ],
   "source": [
    "# 2. Напишите команду, которая выдает список фамилий студентов с комментарием: 'успевает' у студентов, имеющих все положительные оценки; 'не успевает' для сдававших экзамены, но имеющих хотя бы одну неудовлетворительную оценку; 'не сдавал' — для всех остальных. В выводимом результате фамилии студентов упорядочите по алфавиту.\n",
    "\n",
    "s1 = select(text(\"'Не успевает' AS успеваемость\"), student).where(student.c.student_id == exam_marks.c.student_id, exam_marks.c.mark == None)\n",
    "\n",
    "s2 = select(text(\"'Не успевает' AS успеваемость\"), student).where(student.c.student_id == exam_marks.c.student_id, exam_marks.c.mark.in_([1,2,3])).distinct()\n",
    "\n",
    "s3_subq = select(st.c.student_id).where(st.c.student_id == em.c.student_id, em.c.mark.in_([1, 2, 3]))\n",
    "s3_subq_2 = select(st.c.student_id).where(st.c.student_id == em.c.student_id, em.c.mark == None)\n",
    "s3 = select(text(\"'Успевает' AS успеваемость\"), student).where(student.c.student_id == exam_marks.c.student_id, exam_marks.c.mark.in_([4, 5])).where(student.c.student_id.not_in(s3_subq)).where(student.c.student_id.not_in(s3_subq_2))\n",
    "\n",
    "s4_subq = select(exam_marks.c.student_id)\n",
    "s4 = select(text(\"'Не сдавал' AS успеваемость\"), student).where(student.c.student_id.not_in(s4_subq))\n",
    "\n",
    "stmt = union_all(s1, s2, s3, s4).order_by(student.c.surname)\n",
    "\n",
    "print(stmt)\n",
    "pd.read_sql(stmt, conn)"
   ],
   "metadata": {
    "collapsed": false,
    "pycharm": {
     "name": "#%%\n"
    }
   }
  },
  {
   "cell_type": "code",
   "execution_count": 9,
   "outputs": [
    {
     "name": "stdout",
     "output_type": "stream",
     "text": [
      "SELECT 'Студент' AS Статус, student.name \n",
      "FROM student \n",
      "WHERE student.city = :city_1 UNION ALL SELECT 'Преподаватель' AS Статус, lecturer.name \n",
      "FROM lecturer \n",
      "WHERE lecturer.city = :city_2\n"
     ]
    },
    {
     "data": {
      "text/plain": "          Статус       name\n0        Студент      Вадим\n1        Студент  Александр\n2        Студент      Федор\n3  Преподаватель      Павел\n4  Преподаватель    Николай",
      "text/html": "<div>\n<style scoped>\n    .dataframe tbody tr th:only-of-type {\n        vertical-align: middle;\n    }\n\n    .dataframe tbody tr th {\n        vertical-align: top;\n    }\n\n    .dataframe thead th {\n        text-align: right;\n    }\n</style>\n<table border=\"1\" class=\"dataframe\">\n  <thead>\n    <tr style=\"text-align: right;\">\n      <th></th>\n      <th>Статус</th>\n      <th>name</th>\n    </tr>\n  </thead>\n  <tbody>\n    <tr>\n      <th>0</th>\n      <td>Студент</td>\n      <td>Вадим</td>\n    </tr>\n    <tr>\n      <th>1</th>\n      <td>Студент</td>\n      <td>Александр</td>\n    </tr>\n    <tr>\n      <th>2</th>\n      <td>Студент</td>\n      <td>Федор</td>\n    </tr>\n    <tr>\n      <th>3</th>\n      <td>Преподаватель</td>\n      <td>Павел</td>\n    </tr>\n    <tr>\n      <th>4</th>\n      <td>Преподаватель</td>\n      <td>Николай</td>\n    </tr>\n  </tbody>\n</table>\n</div>"
     },
     "execution_count": 9,
     "metadata": {},
     "output_type": "execute_result"
    }
   ],
   "source": [
    "# 3. Выведите объединенный список студентов и преподавателей, живущих в Москве, с соответствующими комментариями 'студент' или 'преподаватель'.\n",
    "\n",
    "s1 = select(text(\"'Студент' AS Статус\"), student.c.name).where(student.c.city == \"Москва\")\n",
    "\n",
    "s2 = select(text(\"'Преподаватель' AS Статус\"), lecturer.c.name).where(lecturer.c.city == \"Москва\")\n",
    "\n",
    "stmt = union_all(s1, s2)\n",
    "\n",
    "print(stmt)\n",
    "pd.read_sql(stmt, conn)"
   ],
   "metadata": {
    "collapsed": false,
    "pycharm": {
     "name": "#%%\n"
    }
   }
  },
  {
   "cell_type": "code",
   "execution_count": 61,
   "outputs": [
    {
     "name": "stdout",
     "output_type": "stream",
     "text": [
      "SELECT 'Студент' AS Статус, student.name \n",
      "FROM student \n",
      "WHERE student.univ_id = :univ_id_1 UNION ALL SELECT 'Преподаватель' AS Статус, lecturer.name \n",
      "FROM lecturer \n",
      "WHERE lecturer.univ_id = :univ_id_2\n"
     ]
    },
    {
     "data": {
      "text/plain": "           Статус       name\n0         Студент       Иван\n1         Студент       Петр\n2         Студент      Борис\n3         Студент      Ольга\n4         Студент      Вадим\n5         Студент   Вероника\n6         Студент      Фёкла\n7         Студент   Вероника\n8         Студент      Дарья\n9         Студент    Василий\n10        Студент      Ирина\n11        Студент     Марина\n12        Студент    Валерий\n13        Студент  Гостомысл\n14        Студент     Андрей\n15        Студент      Артем\n16  Преподаватель       Юлия\n17  Преподаватель     Иванна\n18  Преподаватель     Оксана\n19  Преподаватель     Елисей\n20  Преподаватель      Борис\n21  Преподаватель       Иван\n22  Преподаватель     Виктор\n23  Преподаватель     Андрей",
      "text/html": "<div>\n<style scoped>\n    .dataframe tbody tr th:only-of-type {\n        vertical-align: middle;\n    }\n\n    .dataframe tbody tr th {\n        vertical-align: top;\n    }\n\n    .dataframe thead th {\n        text-align: right;\n    }\n</style>\n<table border=\"1\" class=\"dataframe\">\n  <thead>\n    <tr style=\"text-align: right;\">\n      <th></th>\n      <th>Статус</th>\n      <th>name</th>\n    </tr>\n  </thead>\n  <tbody>\n    <tr>\n      <th>0</th>\n      <td>Студент</td>\n      <td>Иван</td>\n    </tr>\n    <tr>\n      <th>1</th>\n      <td>Студент</td>\n      <td>Петр</td>\n    </tr>\n    <tr>\n      <th>2</th>\n      <td>Студент</td>\n      <td>Борис</td>\n    </tr>\n    <tr>\n      <th>3</th>\n      <td>Студент</td>\n      <td>Ольга</td>\n    </tr>\n    <tr>\n      <th>4</th>\n      <td>Студент</td>\n      <td>Вадим</td>\n    </tr>\n    <tr>\n      <th>5</th>\n      <td>Студент</td>\n      <td>Вероника</td>\n    </tr>\n    <tr>\n      <th>6</th>\n      <td>Студент</td>\n      <td>Фёкла</td>\n    </tr>\n    <tr>\n      <th>7</th>\n      <td>Студент</td>\n      <td>Вероника</td>\n    </tr>\n    <tr>\n      <th>8</th>\n      <td>Студент</td>\n      <td>Дарья</td>\n    </tr>\n    <tr>\n      <th>9</th>\n      <td>Студент</td>\n      <td>Василий</td>\n    </tr>\n    <tr>\n      <th>10</th>\n      <td>Студент</td>\n      <td>Ирина</td>\n    </tr>\n    <tr>\n      <th>11</th>\n      <td>Студент</td>\n      <td>Марина</td>\n    </tr>\n    <tr>\n      <th>12</th>\n      <td>Студент</td>\n      <td>Валерий</td>\n    </tr>\n    <tr>\n      <th>13</th>\n      <td>Студент</td>\n      <td>Гостомысл</td>\n    </tr>\n    <tr>\n      <th>14</th>\n      <td>Студент</td>\n      <td>Андрей</td>\n    </tr>\n    <tr>\n      <th>15</th>\n      <td>Студент</td>\n      <td>Артем</td>\n    </tr>\n    <tr>\n      <th>16</th>\n      <td>Преподаватель</td>\n      <td>Юлия</td>\n    </tr>\n    <tr>\n      <th>17</th>\n      <td>Преподаватель</td>\n      <td>Иванна</td>\n    </tr>\n    <tr>\n      <th>18</th>\n      <td>Преподаватель</td>\n      <td>Оксана</td>\n    </tr>\n    <tr>\n      <th>19</th>\n      <td>Преподаватель</td>\n      <td>Елисей</td>\n    </tr>\n    <tr>\n      <th>20</th>\n      <td>Преподаватель</td>\n      <td>Борис</td>\n    </tr>\n    <tr>\n      <th>21</th>\n      <td>Преподаватель</td>\n      <td>Иван</td>\n    </tr>\n    <tr>\n      <th>22</th>\n      <td>Преподаватель</td>\n      <td>Виктор</td>\n    </tr>\n    <tr>\n      <th>23</th>\n      <td>Преподаватель</td>\n      <td>Андрей</td>\n    </tr>\n  </tbody>\n</table>\n</div>"
     },
     "execution_count": 61,
     "metadata": {},
     "output_type": "execute_result"
    }
   ],
   "source": [
    "# 4. Выведите объединенный список студентов и преподавателей ВГУ с соответствующими комментариями 'студент' или 'преподаватель'.\n",
    "s1 = select(text(\"'Студент' AS Статус\"), student.c.name).where(student.c.univ_id == university.c.univ_id, university.c.univ_name == \"ВГУ\")\n",
    "\n",
    "s2 = select(text(\"'Преподаватель' AS Статус\"), lecturer.c.name).where(lecturer.c.univ_id == university.c.univ_id, university.c.univ_name == \"ВГУ\")\n",
    "\n",
    "stmt = union_all(s1, s2)\n",
    "\n",
    "print(stmt)\n",
    "pd.read_sql(stmt, conn)"
   ],
   "metadata": {
    "collapsed": false,
    "pycharm": {
     "name": "#%%\n"
    }
   }
  },
  {
   "cell_type": "code",
   "execution_count": 115,
   "outputs": [
    {
     "name": "stdout",
     "output_type": "stream",
     "text": [
      "SELECT 'min' AS Rating, university.city, university.univ_name, university.rating \n",
      "FROM university GROUP BY university.city \n",
      "HAVING min(university.rating) UNION ALL SELECT 'max' AS Rating, university.city, university.univ_name, university.rating \n",
      "FROM university GROUP BY university.city \n",
      "HAVING max(university.rating) UNION ALL SELECT 'min' AS Rating, university.city, university.univ_name, university.rating \n",
      "FROM university \n",
      "WHERE university.rating IS NULL GROUP BY university.city UNION ALL SELECT 'max' AS Rating, university.city, university.univ_name, university.rating \n",
      "FROM university \n",
      "WHERE university.rating IS NULL GROUP BY university.city ORDER BY city\n"
     ]
    },
    {
     "data": {
      "text/plain": "   Rating             city        univ_name  rating\n0     min         Белгород              БГУ   326.0\n1     max         Белгород              БГУ   326.0\n2     min          Воронеж              ВГУ   296.0\n3     max          Воронеж             ВГМА   327.0\n4     min           Казань              КФУ     NaN\n5     max           Казань              КФУ     NaN\n6     min           Москва             ФинУ   330.0\n7     max           Москва              МГУ   606.0\n8     min      Новосибирск              НГУ   345.0\n9     max      Новосибирск              НГУ   345.0\n10    min           Ростов              РГУ   416.0\n11    max           Ростов              РГУ   416.0\n12    min  Санкт-Петербург  ФГБОУ \"Политех\"   304.0\n13    max  Санкт-Петербург  ФГБОУ \"Политех\"   304.0\n14    min            Томск              ТГУ   368.0\n15    max            Томск              ТГУ   368.0\n16    min        Ульяновск             УЛГУ   231.0\n17    max        Ульяновск             УЛГУ   231.0",
      "text/html": "<div>\n<style scoped>\n    .dataframe tbody tr th:only-of-type {\n        vertical-align: middle;\n    }\n\n    .dataframe tbody tr th {\n        vertical-align: top;\n    }\n\n    .dataframe thead th {\n        text-align: right;\n    }\n</style>\n<table border=\"1\" class=\"dataframe\">\n  <thead>\n    <tr style=\"text-align: right;\">\n      <th></th>\n      <th>Rating</th>\n      <th>city</th>\n      <th>univ_name</th>\n      <th>rating</th>\n    </tr>\n  </thead>\n  <tbody>\n    <tr>\n      <th>0</th>\n      <td>min</td>\n      <td>Белгород</td>\n      <td>БГУ</td>\n      <td>326.0</td>\n    </tr>\n    <tr>\n      <th>1</th>\n      <td>max</td>\n      <td>Белгород</td>\n      <td>БГУ</td>\n      <td>326.0</td>\n    </tr>\n    <tr>\n      <th>2</th>\n      <td>min</td>\n      <td>Воронеж</td>\n      <td>ВГУ</td>\n      <td>296.0</td>\n    </tr>\n    <tr>\n      <th>3</th>\n      <td>max</td>\n      <td>Воронеж</td>\n      <td>ВГМА</td>\n      <td>327.0</td>\n    </tr>\n    <tr>\n      <th>4</th>\n      <td>min</td>\n      <td>Казань</td>\n      <td>КФУ</td>\n      <td>NaN</td>\n    </tr>\n    <tr>\n      <th>5</th>\n      <td>max</td>\n      <td>Казань</td>\n      <td>КФУ</td>\n      <td>NaN</td>\n    </tr>\n    <tr>\n      <th>6</th>\n      <td>min</td>\n      <td>Москва</td>\n      <td>ФинУ</td>\n      <td>330.0</td>\n    </tr>\n    <tr>\n      <th>7</th>\n      <td>max</td>\n      <td>Москва</td>\n      <td>МГУ</td>\n      <td>606.0</td>\n    </tr>\n    <tr>\n      <th>8</th>\n      <td>min</td>\n      <td>Новосибирск</td>\n      <td>НГУ</td>\n      <td>345.0</td>\n    </tr>\n    <tr>\n      <th>9</th>\n      <td>max</td>\n      <td>Новосибирск</td>\n      <td>НГУ</td>\n      <td>345.0</td>\n    </tr>\n    <tr>\n      <th>10</th>\n      <td>min</td>\n      <td>Ростов</td>\n      <td>РГУ</td>\n      <td>416.0</td>\n    </tr>\n    <tr>\n      <th>11</th>\n      <td>max</td>\n      <td>Ростов</td>\n      <td>РГУ</td>\n      <td>416.0</td>\n    </tr>\n    <tr>\n      <th>12</th>\n      <td>min</td>\n      <td>Санкт-Петербург</td>\n      <td>ФГБОУ \"Политех\"</td>\n      <td>304.0</td>\n    </tr>\n    <tr>\n      <th>13</th>\n      <td>max</td>\n      <td>Санкт-Петербург</td>\n      <td>ФГБОУ \"Политех\"</td>\n      <td>304.0</td>\n    </tr>\n    <tr>\n      <th>14</th>\n      <td>min</td>\n      <td>Томск</td>\n      <td>ТГУ</td>\n      <td>368.0</td>\n    </tr>\n    <tr>\n      <th>15</th>\n      <td>max</td>\n      <td>Томск</td>\n      <td>ТГУ</td>\n      <td>368.0</td>\n    </tr>\n    <tr>\n      <th>16</th>\n      <td>min</td>\n      <td>Ульяновск</td>\n      <td>УЛГУ</td>\n      <td>231.0</td>\n    </tr>\n    <tr>\n      <th>17</th>\n      <td>max</td>\n      <td>Ульяновск</td>\n      <td>УЛГУ</td>\n      <td>231.0</td>\n    </tr>\n  </tbody>\n</table>\n</div>"
     },
     "execution_count": 115,
     "metadata": {},
     "output_type": "execute_result"
    }
   ],
   "source": [
    "#5. Для каждого города выведите названия университетов с минимальным и максимальным для данного города рейтингом. Пометьте строки списка словами ‘min’ и ‘max’, поместив их в дополнительном столбце. Резулььтат должен содержать название города, название университета, рейтинг. Упорядочите результат по городу.\n",
    "\n",
    "s1 = select(text(\"'min' AS Rating\"), university.c.city, university.c.univ_name, university.c.rating).group_by(university.c.city).having(func.min(university.c.rating))\n",
    "\n",
    "s2 = select(text(\"'max' AS Rating\"), university.c.city, university.c.univ_name, university.c.rating).group_by(university.c.city).having(func.max(university.c.rating))\n",
    "\n",
    "s3 = select(text(\"'min' AS Rating\"), university.c.city, university.c.univ_name, university.c.rating).where(university.c.rating == None).group_by(university.c.city)\n",
    "s4 = select(text(\"'max' AS Rating\"), university.c.city, university.c.univ_name, university.c.rating).where(university.c.rating == None).group_by(university.c.city)\n",
    "\n",
    "stmt = union_all(s1, s2, s3, s4).order_by(university.c.city)\n",
    "\n",
    "print(stmt)\n",
    "pd.read_sql(stmt, conn)"
   ],
   "metadata": {
    "collapsed": false,
    "pycharm": {
     "name": "#%%\n"
    }
   }
  },
  {
   "cell_type": "code",
   "execution_count": 125,
   "outputs": [
    {
     "name": "stdout",
     "output_type": "stream",
     "text": [
      "SELECT 'min' AS Stip, student.student_id, student.surname, student.name, student.stipend, student.kurs, student.city, student.birthday, student.univ_id \n",
      "FROM student GROUP BY student.kurs \n",
      "HAVING min(student.stipend) OR min(student.stipend) = :min_1 UNION ALL SELECT 'max' AS Stip, student.student_id, student.surname, student.name, student.stipend, student.kurs, student.city, student.birthday, student.univ_id \n",
      "FROM student GROUP BY student.kurs \n",
      "HAVING max(student.stipend)\n"
     ]
    },
    {
     "data": {
      "text/plain": "  Stip  student_id    surname     name  stipend  kurs           city  \\\n0  min          94  Васильева   Оксана        0     1       Кизилюрт   \n1  min          10   Кузнецов    Борис        0     2         Брянск   \n2  min          60    Рожкова  Пелагея        0     3       Рубцовск   \n3  min          58  Журавлева     Вера        0     4    Новосибирск   \n4  min          57  Кудряшова     Вера      100     5  Нижневартовск   \n5  max          64        Жук   Оксана      250     1        Воркута   \n6  max          12    Зайцева    Ольга      250     2         Липецк   \n7  max          91    Блохина   Ираида      250     3  Новый Уренгой   \n8  max          68   Казакова    Ольга      250     4       Кемерово   \n9  max          55     Белкин    Вадим      250     5        Воронеж   \n\n    birthday  univ_id  \n0 1994-05-14       32  \n1 2001-12-08       10  \n2 2001-09-15       48  \n3 2003-06-14       11  \n4 2002-02-18       14  \n5 2000-11-16       47  \n6 2001-05-01       10  \n7 1997-03-23       22  \n8 2000-03-29       44  \n9 2000-01-07       10  ",
      "text/html": "<div>\n<style scoped>\n    .dataframe tbody tr th:only-of-type {\n        vertical-align: middle;\n    }\n\n    .dataframe tbody tr th {\n        vertical-align: top;\n    }\n\n    .dataframe thead th {\n        text-align: right;\n    }\n</style>\n<table border=\"1\" class=\"dataframe\">\n  <thead>\n    <tr style=\"text-align: right;\">\n      <th></th>\n      <th>Stip</th>\n      <th>student_id</th>\n      <th>surname</th>\n      <th>name</th>\n      <th>stipend</th>\n      <th>kurs</th>\n      <th>city</th>\n      <th>birthday</th>\n      <th>univ_id</th>\n    </tr>\n  </thead>\n  <tbody>\n    <tr>\n      <th>0</th>\n      <td>min</td>\n      <td>94</td>\n      <td>Васильева</td>\n      <td>Оксана</td>\n      <td>0</td>\n      <td>1</td>\n      <td>Кизилюрт</td>\n      <td>1994-05-14</td>\n      <td>32</td>\n    </tr>\n    <tr>\n      <th>1</th>\n      <td>min</td>\n      <td>10</td>\n      <td>Кузнецов</td>\n      <td>Борис</td>\n      <td>0</td>\n      <td>2</td>\n      <td>Брянск</td>\n      <td>2001-12-08</td>\n      <td>10</td>\n    </tr>\n    <tr>\n      <th>2</th>\n      <td>min</td>\n      <td>60</td>\n      <td>Рожкова</td>\n      <td>Пелагея</td>\n      <td>0</td>\n      <td>3</td>\n      <td>Рубцовск</td>\n      <td>2001-09-15</td>\n      <td>48</td>\n    </tr>\n    <tr>\n      <th>3</th>\n      <td>min</td>\n      <td>58</td>\n      <td>Журавлева</td>\n      <td>Вера</td>\n      <td>0</td>\n      <td>4</td>\n      <td>Новосибирск</td>\n      <td>2003-06-14</td>\n      <td>11</td>\n    </tr>\n    <tr>\n      <th>4</th>\n      <td>min</td>\n      <td>57</td>\n      <td>Кудряшова</td>\n      <td>Вера</td>\n      <td>100</td>\n      <td>5</td>\n      <td>Нижневартовск</td>\n      <td>2002-02-18</td>\n      <td>14</td>\n    </tr>\n    <tr>\n      <th>5</th>\n      <td>max</td>\n      <td>64</td>\n      <td>Жук</td>\n      <td>Оксана</td>\n      <td>250</td>\n      <td>1</td>\n      <td>Воркута</td>\n      <td>2000-11-16</td>\n      <td>47</td>\n    </tr>\n    <tr>\n      <th>6</th>\n      <td>max</td>\n      <td>12</td>\n      <td>Зайцева</td>\n      <td>Ольга</td>\n      <td>250</td>\n      <td>2</td>\n      <td>Липецк</td>\n      <td>2001-05-01</td>\n      <td>10</td>\n    </tr>\n    <tr>\n      <th>7</th>\n      <td>max</td>\n      <td>91</td>\n      <td>Блохина</td>\n      <td>Ираида</td>\n      <td>250</td>\n      <td>3</td>\n      <td>Новый Уренгой</td>\n      <td>1997-03-23</td>\n      <td>22</td>\n    </tr>\n    <tr>\n      <th>8</th>\n      <td>max</td>\n      <td>68</td>\n      <td>Казакова</td>\n      <td>Ольга</td>\n      <td>250</td>\n      <td>4</td>\n      <td>Кемерово</td>\n      <td>2000-03-29</td>\n      <td>44</td>\n    </tr>\n    <tr>\n      <th>9</th>\n      <td>max</td>\n      <td>55</td>\n      <td>Белкин</td>\n      <td>Вадим</td>\n      <td>250</td>\n      <td>5</td>\n      <td>Воронеж</td>\n      <td>2000-01-07</td>\n      <td>10</td>\n    </tr>\n  </tbody>\n</table>\n</div>"
     },
     "execution_count": 125,
     "metadata": {},
     "output_type": "execute_result"
    }
   ],
   "source": [
    "# 6. Для каждого курса выведите фамилии студентов, получающих минимальные и максимальные на их курсе стипендии. Пометьте строки списка словами ‘min’ и ‘max’, поместив их в дополнительном столбце.\n",
    "\n",
    "s1 = select(text(\"'min' AS Stip\"), student).group_by(student.c.kurs).having(or_(func.min(student.c.stipend), func.min(student.c.stipend) == 0))\n",
    "\n",
    "s2 = select(text(\"'max' AS Stip\"), student).group_by(student.c.kurs).having(func.max(student.c.stipend))\n",
    "\n",
    "stmt = union_all(s1, s2)\n",
    "\n",
    "print(stmt)\n",
    "pd.read_sql(stmt, conn)"
   ],
   "metadata": {
    "collapsed": false,
    "pycharm": {
     "name": "#%%\n"
    }
   }
  },
  {
   "cell_type": "code",
   "execution_count": 130,
   "outputs": [
    {
     "name": "stdout",
     "output_type": "stream",
     "text": [
      "SELECT 'Младший', student.student_id, student.surname, student.name, student.stipend, student.kurs, student.city, student.birthday, student.univ_id \n",
      "FROM student GROUP BY student.kurs \n",
      "HAVING min(date(student.birthday)) UNION ALL SELECT 'Старший', student.student_id, student.surname, student.name, student.stipend, student.kurs, student.city, student.birthday, student.univ_id \n",
      "FROM student GROUP BY student.kurs \n",
      "HAVING max(date(student.birthday))\n"
     ]
    },
    {
     "data": {
      "text/plain": "  'Младший'  student_id    surname       name  stipend  kurs         city  \\\n0   Младший          94  Васильева     Оксана        0     1     Кизилюрт   \n1   Младший         131    Ковалев       Ефим      200     2    Волгоград   \n2   Младший          83   Сорокина      Ирина      200     3       Усмань   \n3   Младший          85   Казакова      Мария      150     4      Нальчик   \n4   Младший         103   Трофимов  Владислав      250     5    Верхоянск   \n5   Старший          15  Ордуханян    Рафаэль      120     1       Липецк   \n6   Старший          66  Некрасова   Вероника      250     2      Иркутск   \n7   Старший          62   Семенова   Вероника        0     3      Вологда   \n8   Старший          58  Журавлева       Вера        0     4  Новосибирск   \n9   Старший         144   Ситников   Викентий      150     5      Иркутск   \n\n    birthday  univ_id  \n0 1994-05-14       32  \n1 1995-11-28       47  \n2 1993-09-28       48  \n3 1994-02-18       32  \n4 1995-03-24       11  \n5 2003-06-01       18  \n6 2004-08-23       10  \n7 2003-10-04       10  \n8 2003-06-14       11  \n9 2003-10-05       46  ",
      "text/html": "<div>\n<style scoped>\n    .dataframe tbody tr th:only-of-type {\n        vertical-align: middle;\n    }\n\n    .dataframe tbody tr th {\n        vertical-align: top;\n    }\n\n    .dataframe thead th {\n        text-align: right;\n    }\n</style>\n<table border=\"1\" class=\"dataframe\">\n  <thead>\n    <tr style=\"text-align: right;\">\n      <th></th>\n      <th>'Младший'</th>\n      <th>student_id</th>\n      <th>surname</th>\n      <th>name</th>\n      <th>stipend</th>\n      <th>kurs</th>\n      <th>city</th>\n      <th>birthday</th>\n      <th>univ_id</th>\n    </tr>\n  </thead>\n  <tbody>\n    <tr>\n      <th>0</th>\n      <td>Младший</td>\n      <td>94</td>\n      <td>Васильева</td>\n      <td>Оксана</td>\n      <td>0</td>\n      <td>1</td>\n      <td>Кизилюрт</td>\n      <td>1994-05-14</td>\n      <td>32</td>\n    </tr>\n    <tr>\n      <th>1</th>\n      <td>Младший</td>\n      <td>131</td>\n      <td>Ковалев</td>\n      <td>Ефим</td>\n      <td>200</td>\n      <td>2</td>\n      <td>Волгоград</td>\n      <td>1995-11-28</td>\n      <td>47</td>\n    </tr>\n    <tr>\n      <th>2</th>\n      <td>Младший</td>\n      <td>83</td>\n      <td>Сорокина</td>\n      <td>Ирина</td>\n      <td>200</td>\n      <td>3</td>\n      <td>Усмань</td>\n      <td>1993-09-28</td>\n      <td>48</td>\n    </tr>\n    <tr>\n      <th>3</th>\n      <td>Младший</td>\n      <td>85</td>\n      <td>Казакова</td>\n      <td>Мария</td>\n      <td>150</td>\n      <td>4</td>\n      <td>Нальчик</td>\n      <td>1994-02-18</td>\n      <td>32</td>\n    </tr>\n    <tr>\n      <th>4</th>\n      <td>Младший</td>\n      <td>103</td>\n      <td>Трофимов</td>\n      <td>Владислав</td>\n      <td>250</td>\n      <td>5</td>\n      <td>Верхоянск</td>\n      <td>1995-03-24</td>\n      <td>11</td>\n    </tr>\n    <tr>\n      <th>5</th>\n      <td>Старший</td>\n      <td>15</td>\n      <td>Ордуханян</td>\n      <td>Рафаэль</td>\n      <td>120</td>\n      <td>1</td>\n      <td>Липецк</td>\n      <td>2003-06-01</td>\n      <td>18</td>\n    </tr>\n    <tr>\n      <th>6</th>\n      <td>Старший</td>\n      <td>66</td>\n      <td>Некрасова</td>\n      <td>Вероника</td>\n      <td>250</td>\n      <td>2</td>\n      <td>Иркутск</td>\n      <td>2004-08-23</td>\n      <td>10</td>\n    </tr>\n    <tr>\n      <th>7</th>\n      <td>Старший</td>\n      <td>62</td>\n      <td>Семенова</td>\n      <td>Вероника</td>\n      <td>0</td>\n      <td>3</td>\n      <td>Вологда</td>\n      <td>2003-10-04</td>\n      <td>10</td>\n    </tr>\n    <tr>\n      <th>8</th>\n      <td>Старший</td>\n      <td>58</td>\n      <td>Журавлева</td>\n      <td>Вера</td>\n      <td>0</td>\n      <td>4</td>\n      <td>Новосибирск</td>\n      <td>2003-06-14</td>\n      <td>11</td>\n    </tr>\n    <tr>\n      <th>9</th>\n      <td>Старший</td>\n      <td>144</td>\n      <td>Ситников</td>\n      <td>Викентий</td>\n      <td>150</td>\n      <td>5</td>\n      <td>Иркутск</td>\n      <td>2003-10-05</td>\n      <td>46</td>\n    </tr>\n  </tbody>\n</table>\n</div>"
     },
     "execution_count": 130,
     "metadata": {},
     "output_type": "execute_result"
    }
   ],
   "source": [
    "# 7. Для каждого курса выведите фамилии самого старшего и самого младшего студентов. Пометьте строки списка словами 'младший' и 'старший', поместив их в дополнительном столбце.\n",
    "\n",
    "s1 = select(text(\"'Младший'\"), student).group_by(student.c.kurs).having(func.min(func.date(student.c.birthday)))\n",
    "\n",
    "s2 = select(text(\"'Старший'\"), student).group_by(student.c.kurs).having(func.max(func.date(student.c.birthday)))\n",
    "\n",
    "stmt = union_all(s1, s2)\n",
    "\n",
    "print(stmt)\n",
    "pd.read_sql(stmt, conn)"
   ],
   "metadata": {
    "collapsed": false,
    "pycharm": {
     "name": "#%%\n"
    }
   }
  },
  {
   "cell_type": "code",
   "execution_count": 160,
   "outputs": [
    {
     "name": "stdout",
     "output_type": "stream",
     "text": [
      "SELECT university.univ_id, university.univ_name, university.rating, university.city, count(student.univ_id) AS \"Кол-во студентов\" \n",
      "FROM university JOIN student ON university.univ_id = student.univ_id GROUP BY university.univ_id UNION ALL SELECT university.univ_id, university.univ_name, university.rating, university.city, 'Студентов нет' \n",
      "FROM university \n",
      "WHERE (university.univ_id NOT IN (SELECT student.univ_id \n",
      "FROM student)) GROUP BY university.univ_id\n"
     ]
    },
    {
     "data": {
      "text/plain": "    univ_id         univ_name  rating             city Кол-во студентов\n0        10               ВГУ   296.0          Воронеж               16\n1        11               НГУ   345.0      Новосибирск                4\n2        14               БГУ   326.0         Белгород                9\n3        15               ТГУ   368.0            Томск                2\n4        18              ВГМА   327.0          Воронеж                7\n5        22               МГУ   606.0           Москва               10\n6        32               РГУ   416.0           Ростов                7\n7        44              ФинУ   330.0           Москва               10\n8        45  МГТУ им. Баумана   372.0           Москва                5\n9        46   ФГБОУ \"Политех\"   304.0  Санкт-Петербург                9\n10       47               КФУ     NaN           Казань                6\n11       48              УЛГУ   231.0        Ульяновск                5\n12       12              МФТИ   500.0           Москва    Студентов нет",
      "text/html": "<div>\n<style scoped>\n    .dataframe tbody tr th:only-of-type {\n        vertical-align: middle;\n    }\n\n    .dataframe tbody tr th {\n        vertical-align: top;\n    }\n\n    .dataframe thead th {\n        text-align: right;\n    }\n</style>\n<table border=\"1\" class=\"dataframe\">\n  <thead>\n    <tr style=\"text-align: right;\">\n      <th></th>\n      <th>univ_id</th>\n      <th>univ_name</th>\n      <th>rating</th>\n      <th>city</th>\n      <th>Кол-во студентов</th>\n    </tr>\n  </thead>\n  <tbody>\n    <tr>\n      <th>0</th>\n      <td>10</td>\n      <td>ВГУ</td>\n      <td>296.0</td>\n      <td>Воронеж</td>\n      <td>16</td>\n    </tr>\n    <tr>\n      <th>1</th>\n      <td>11</td>\n      <td>НГУ</td>\n      <td>345.0</td>\n      <td>Новосибирск</td>\n      <td>4</td>\n    </tr>\n    <tr>\n      <th>2</th>\n      <td>14</td>\n      <td>БГУ</td>\n      <td>326.0</td>\n      <td>Белгород</td>\n      <td>9</td>\n    </tr>\n    <tr>\n      <th>3</th>\n      <td>15</td>\n      <td>ТГУ</td>\n      <td>368.0</td>\n      <td>Томск</td>\n      <td>2</td>\n    </tr>\n    <tr>\n      <th>4</th>\n      <td>18</td>\n      <td>ВГМА</td>\n      <td>327.0</td>\n      <td>Воронеж</td>\n      <td>7</td>\n    </tr>\n    <tr>\n      <th>5</th>\n      <td>22</td>\n      <td>МГУ</td>\n      <td>606.0</td>\n      <td>Москва</td>\n      <td>10</td>\n    </tr>\n    <tr>\n      <th>6</th>\n      <td>32</td>\n      <td>РГУ</td>\n      <td>416.0</td>\n      <td>Ростов</td>\n      <td>7</td>\n    </tr>\n    <tr>\n      <th>7</th>\n      <td>44</td>\n      <td>ФинУ</td>\n      <td>330.0</td>\n      <td>Москва</td>\n      <td>10</td>\n    </tr>\n    <tr>\n      <th>8</th>\n      <td>45</td>\n      <td>МГТУ им. Баумана</td>\n      <td>372.0</td>\n      <td>Москва</td>\n      <td>5</td>\n    </tr>\n    <tr>\n      <th>9</th>\n      <td>46</td>\n      <td>ФГБОУ \"Политех\"</td>\n      <td>304.0</td>\n      <td>Санкт-Петербург</td>\n      <td>9</td>\n    </tr>\n    <tr>\n      <th>10</th>\n      <td>47</td>\n      <td>КФУ</td>\n      <td>NaN</td>\n      <td>Казань</td>\n      <td>6</td>\n    </tr>\n    <tr>\n      <th>11</th>\n      <td>48</td>\n      <td>УЛГУ</td>\n      <td>231.0</td>\n      <td>Ульяновск</td>\n      <td>5</td>\n    </tr>\n    <tr>\n      <th>12</th>\n      <td>12</td>\n      <td>МФТИ</td>\n      <td>500.0</td>\n      <td>Москва</td>\n      <td>Студентов нет</td>\n    </tr>\n  </tbody>\n</table>\n</div>"
     },
     "execution_count": 160,
     "metadata": {},
     "output_type": "execute_result"
    }
   ],
   "source": [
    "# 8. Напишите запрос для получения полного списка университетов вместе с количеством студентов, которые в них учатся. Для университетов, не имеющих студентов, поместите в список фразу ‘Студентов нет’. отсортируйте результат по убыванию числа студентов.\n",
    "\n",
    "s1 = select(university, func.count(student.c.univ_id).label(\"Кол-во студентов\")).join(student).group_by(university.c.univ_id)\n",
    "\n",
    "s2_subq = select(student.c.univ_id)\n",
    "s2 = select(university, text(\"'Студентов нет'\")).group_by(university.c.univ_id).where(university.c.univ_id.not_in(s2_subq))\n",
    "\n",
    "stmt = union_all(s1, s2)\n",
    "print(stmt)\n",
    "pd.read_sql(stmt, conn)"
   ],
   "metadata": {
    "collapsed": false,
    "pycharm": {
     "name": "#%%\n"
    }
   }
  },
  {
   "cell_type": "code",
   "execution_count": 168,
   "outputs": [
    {
     "name": "stdout",
     "output_type": "stream",
     "text": [
      "SELECT university.univ_name, lecturer.surname \n",
      "FROM university, lecturer \n",
      "WHERE university.univ_id = lecturer.univ_id UNION ALL SELECT university.univ_name, 'Преподавателей нет' \n",
      "FROM university \n",
      "WHERE (university.univ_id NOT IN (SELECT lecturer.univ_id \n",
      "FROM lecturer))\n"
     ]
    },
    {
     "data": {
      "text/plain": "           univ_name             surname\n0    ФГБОУ \"Политех\"            Сафонова\n1                ВГУ             Зайцева\n2                НГУ           Мамонтова\n3               ВГМА           Богданова\n4               УЛГУ             Брагина\n5                ВГУ           Максимова\n6               УЛГУ           Дмитриева\n7               ВГМА           Ситникова\n8               ВГМА             Крюкова\n9               ВГМА           Артемьева\n10               КФУ            Куликова\n11               КФУ          Кудрявцева\n12               ВГУ              Зыкова\n13   ФГБОУ \"Политех\"            Стрелков\n14               РГУ            Дорофеев\n15  МГТУ им. Баумана              Волков\n16              ВГМА             Сафонов\n17   ФГБОУ \"Политех\"               Зимин\n18               ВГУ            Алексеев\n19               ТГУ             Тихонов\n20              УЛГУ             Елисеев\n21               ТГУ            Беспалов\n22               РГУ             Беляков\n23               ВГУ          Колесников\n24               ВГУ             Никонов\n25               МГУ             Лагутин\n26               МГУ             Струков\n27               ВГУ            Николаев\n28               ВГУ             Сорокин\n29              МФТИ  Преподавателей нет\n30               БГУ  Преподавателей нет\n31              ФинУ  Преподавателей нет",
      "text/html": "<div>\n<style scoped>\n    .dataframe tbody tr th:only-of-type {\n        vertical-align: middle;\n    }\n\n    .dataframe tbody tr th {\n        vertical-align: top;\n    }\n\n    .dataframe thead th {\n        text-align: right;\n    }\n</style>\n<table border=\"1\" class=\"dataframe\">\n  <thead>\n    <tr style=\"text-align: right;\">\n      <th></th>\n      <th>univ_name</th>\n      <th>surname</th>\n    </tr>\n  </thead>\n  <tbody>\n    <tr>\n      <th>0</th>\n      <td>ФГБОУ \"Политех\"</td>\n      <td>Сафонова</td>\n    </tr>\n    <tr>\n      <th>1</th>\n      <td>ВГУ</td>\n      <td>Зайцева</td>\n    </tr>\n    <tr>\n      <th>2</th>\n      <td>НГУ</td>\n      <td>Мамонтова</td>\n    </tr>\n    <tr>\n      <th>3</th>\n      <td>ВГМА</td>\n      <td>Богданова</td>\n    </tr>\n    <tr>\n      <th>4</th>\n      <td>УЛГУ</td>\n      <td>Брагина</td>\n    </tr>\n    <tr>\n      <th>5</th>\n      <td>ВГУ</td>\n      <td>Максимова</td>\n    </tr>\n    <tr>\n      <th>6</th>\n      <td>УЛГУ</td>\n      <td>Дмитриева</td>\n    </tr>\n    <tr>\n      <th>7</th>\n      <td>ВГМА</td>\n      <td>Ситникова</td>\n    </tr>\n    <tr>\n      <th>8</th>\n      <td>ВГМА</td>\n      <td>Крюкова</td>\n    </tr>\n    <tr>\n      <th>9</th>\n      <td>ВГМА</td>\n      <td>Артемьева</td>\n    </tr>\n    <tr>\n      <th>10</th>\n      <td>КФУ</td>\n      <td>Куликова</td>\n    </tr>\n    <tr>\n      <th>11</th>\n      <td>КФУ</td>\n      <td>Кудрявцева</td>\n    </tr>\n    <tr>\n      <th>12</th>\n      <td>ВГУ</td>\n      <td>Зыкова</td>\n    </tr>\n    <tr>\n      <th>13</th>\n      <td>ФГБОУ \"Политех\"</td>\n      <td>Стрелков</td>\n    </tr>\n    <tr>\n      <th>14</th>\n      <td>РГУ</td>\n      <td>Дорофеев</td>\n    </tr>\n    <tr>\n      <th>15</th>\n      <td>МГТУ им. Баумана</td>\n      <td>Волков</td>\n    </tr>\n    <tr>\n      <th>16</th>\n      <td>ВГМА</td>\n      <td>Сафонов</td>\n    </tr>\n    <tr>\n      <th>17</th>\n      <td>ФГБОУ \"Политех\"</td>\n      <td>Зимин</td>\n    </tr>\n    <tr>\n      <th>18</th>\n      <td>ВГУ</td>\n      <td>Алексеев</td>\n    </tr>\n    <tr>\n      <th>19</th>\n      <td>ТГУ</td>\n      <td>Тихонов</td>\n    </tr>\n    <tr>\n      <th>20</th>\n      <td>УЛГУ</td>\n      <td>Елисеев</td>\n    </tr>\n    <tr>\n      <th>21</th>\n      <td>ТГУ</td>\n      <td>Беспалов</td>\n    </tr>\n    <tr>\n      <th>22</th>\n      <td>РГУ</td>\n      <td>Беляков</td>\n    </tr>\n    <tr>\n      <th>23</th>\n      <td>ВГУ</td>\n      <td>Колесников</td>\n    </tr>\n    <tr>\n      <th>24</th>\n      <td>ВГУ</td>\n      <td>Никонов</td>\n    </tr>\n    <tr>\n      <th>25</th>\n      <td>МГУ</td>\n      <td>Лагутин</td>\n    </tr>\n    <tr>\n      <th>26</th>\n      <td>МГУ</td>\n      <td>Струков</td>\n    </tr>\n    <tr>\n      <th>27</th>\n      <td>ВГУ</td>\n      <td>Николаев</td>\n    </tr>\n    <tr>\n      <th>28</th>\n      <td>ВГУ</td>\n      <td>Сорокин</td>\n    </tr>\n    <tr>\n      <th>29</th>\n      <td>МФТИ</td>\n      <td>Преподавателей нет</td>\n    </tr>\n    <tr>\n      <th>30</th>\n      <td>БГУ</td>\n      <td>Преподавателей нет</td>\n    </tr>\n    <tr>\n      <th>31</th>\n      <td>ФинУ</td>\n      <td>Преподавателей нет</td>\n    </tr>\n  </tbody>\n</table>\n</div>"
     },
     "execution_count": 168,
     "metadata": {},
     "output_type": "execute_result"
    }
   ],
   "source": [
    "# 9. Напишите запрос для получения полного списка университетов вместе с фамилиями преподавателей, в них работающих. Для университетов, не имеющих преподавателей, поместите в список фразу ‘Преподавателей нет’. результат должен содержать название университета, фамилию и имя преподавателя. отсортируйте результат по фамилии и имени преподавателя.\n",
    "\n",
    "s1 = select(university.c.univ_name, lecturer.c.surname).where(university.c.univ_id == lecturer.c.univ_id)\n",
    "\n",
    "s2_subq = select(lecturer.c.univ_id)\n",
    "s2 = select(university.c.univ_name, text(\"'Преподавателей нет'\")).where(university.c.univ_id.not_in(s2_subq))\n",
    "\n",
    "stmt = union_all(s1, s2)\n",
    "\n",
    "print(stmt)\n",
    "pd.read_sql(stmt, conn)"
   ],
   "metadata": {
    "collapsed": false,
    "pycharm": {
     "name": "#%%\n"
    }
   }
  },
  {
   "cell_type": "code",
   "execution_count": 202,
   "outputs": [
    {
     "name": "stdout",
     "output_type": "stream",
     "text": [
      "SELECT student.student_id, student.surname, student.name, student.stipend, student.kurs, student.city, student.birthday, student.univ_id, mark \n",
      "FROM student, exam_marks \n",
      "WHERE student.student_id = exam_marks.student_id UNION ALL SELECT student.student_id, student.surname, student.name, student.stipend, student.kurs, student.city, student.birthday, student.univ_id, '0' \n",
      "FROM student \n",
      "WHERE (student.student_id NOT IN (SELECT exam_marks.student_id \n",
      "FROM exam_marks))\n"
     ]
    },
    {
     "data": {
      "text/plain": "    student_id    surname      name  stipend  kurs       city   birthday  \\\n0           97  Вишнякова    Анжела      200     2    Иваново 2002-02-10   \n1           85   Казакова     Мария      150     4    Нальчик 1994-02-18   \n2           64        Жук    Оксана      250     1    Воркута 2000-11-16   \n3          126      Жуков      Пров        0     3     Кыштым 1998-09-11   \n4           71    Кондрат   Синицин      200     4       Ишим 2001-02-23   \n..         ...        ...       ...      ...   ...        ...        ...   \n95         205    Иванова     Мария      200     1     Липецк 2002-04-11   \n96         206    Киселев  Владимир      210     2       Орел 2003-02-10   \n97         207   Миронова     Федор      200     3     Москва 2002-04-15   \n98         265     Павлов    Андрей        0     3    Воронеж 2000-11-05   \n99         276     Петров     Антон      200     4  Ульяновск 2001-08-05   \n\n    univ_id mark  \n0        46    1  \n1        32    4  \n2        47    4  \n3        11    1  \n4        18    3  \n..      ...  ...  \n95       32    0  \n96       44    0  \n97       45    0  \n98       10    0  \n99       22    0  \n\n[100 rows x 9 columns]",
      "text/html": "<div>\n<style scoped>\n    .dataframe tbody tr th:only-of-type {\n        vertical-align: middle;\n    }\n\n    .dataframe tbody tr th {\n        vertical-align: top;\n    }\n\n    .dataframe thead th {\n        text-align: right;\n    }\n</style>\n<table border=\"1\" class=\"dataframe\">\n  <thead>\n    <tr style=\"text-align: right;\">\n      <th></th>\n      <th>student_id</th>\n      <th>surname</th>\n      <th>name</th>\n      <th>stipend</th>\n      <th>kurs</th>\n      <th>city</th>\n      <th>birthday</th>\n      <th>univ_id</th>\n      <th>mark</th>\n    </tr>\n  </thead>\n  <tbody>\n    <tr>\n      <th>0</th>\n      <td>97</td>\n      <td>Вишнякова</td>\n      <td>Анжела</td>\n      <td>200</td>\n      <td>2</td>\n      <td>Иваново</td>\n      <td>2002-02-10</td>\n      <td>46</td>\n      <td>1</td>\n    </tr>\n    <tr>\n      <th>1</th>\n      <td>85</td>\n      <td>Казакова</td>\n      <td>Мария</td>\n      <td>150</td>\n      <td>4</td>\n      <td>Нальчик</td>\n      <td>1994-02-18</td>\n      <td>32</td>\n      <td>4</td>\n    </tr>\n    <tr>\n      <th>2</th>\n      <td>64</td>\n      <td>Жук</td>\n      <td>Оксана</td>\n      <td>250</td>\n      <td>1</td>\n      <td>Воркута</td>\n      <td>2000-11-16</td>\n      <td>47</td>\n      <td>4</td>\n    </tr>\n    <tr>\n      <th>3</th>\n      <td>126</td>\n      <td>Жуков</td>\n      <td>Пров</td>\n      <td>0</td>\n      <td>3</td>\n      <td>Кыштым</td>\n      <td>1998-09-11</td>\n      <td>11</td>\n      <td>1</td>\n    </tr>\n    <tr>\n      <th>4</th>\n      <td>71</td>\n      <td>Кондрат</td>\n      <td>Синицин</td>\n      <td>200</td>\n      <td>4</td>\n      <td>Ишим</td>\n      <td>2001-02-23</td>\n      <td>18</td>\n      <td>3</td>\n    </tr>\n    <tr>\n      <th>...</th>\n      <td>...</td>\n      <td>...</td>\n      <td>...</td>\n      <td>...</td>\n      <td>...</td>\n      <td>...</td>\n      <td>...</td>\n      <td>...</td>\n      <td>...</td>\n    </tr>\n    <tr>\n      <th>95</th>\n      <td>205</td>\n      <td>Иванова</td>\n      <td>Мария</td>\n      <td>200</td>\n      <td>1</td>\n      <td>Липецк</td>\n      <td>2002-04-11</td>\n      <td>32</td>\n      <td>0</td>\n    </tr>\n    <tr>\n      <th>96</th>\n      <td>206</td>\n      <td>Киселев</td>\n      <td>Владимир</td>\n      <td>210</td>\n      <td>2</td>\n      <td>Орел</td>\n      <td>2003-02-10</td>\n      <td>44</td>\n      <td>0</td>\n    </tr>\n    <tr>\n      <th>97</th>\n      <td>207</td>\n      <td>Миронова</td>\n      <td>Федор</td>\n      <td>200</td>\n      <td>3</td>\n      <td>Москва</td>\n      <td>2002-04-15</td>\n      <td>45</td>\n      <td>0</td>\n    </tr>\n    <tr>\n      <th>98</th>\n      <td>265</td>\n      <td>Павлов</td>\n      <td>Андрей</td>\n      <td>0</td>\n      <td>3</td>\n      <td>Воронеж</td>\n      <td>2000-11-05</td>\n      <td>10</td>\n      <td>0</td>\n    </tr>\n    <tr>\n      <th>99</th>\n      <td>276</td>\n      <td>Петров</td>\n      <td>Антон</td>\n      <td>200</td>\n      <td>4</td>\n      <td>Ульяновск</td>\n      <td>2001-08-05</td>\n      <td>22</td>\n      <td>0</td>\n    </tr>\n  </tbody>\n</table>\n<p>100 rows × 9 columns</p>\n</div>"
     },
     "execution_count": 202,
     "metadata": {},
     "output_type": "execute_result"
    }
   ],
   "source": [
    "# 10. Выведите полный список студентов вместе с оценками, полученными ими на экзаменах. Для студентов, не сдававших экзамены, в поле оценки поместите 0.\n",
    "\n",
    "s1 = select(student, exam_marks.c.mark).where(student.c.student_id == exam_marks.c.student_id)\n",
    "\n",
    "s2_subq = select(exam_marks.c.student_id)\n",
    "s2 = select(student, text(\"'0'\")).where(student.c.student_id.not_in(s2_subq))\n",
    "\n",
    "stmt = union_all(s1, s2)\n",
    "\n",
    "print(stmt)\n",
    "pd.read_sql(stmt, conn)"
   ],
   "metadata": {
    "collapsed": false,
    "pycharm": {
     "name": "#%%\n"
    }
   }
  },
  {
   "cell_type": "code",
   "execution_count": null,
   "outputs": [],
   "source": [],
   "metadata": {
    "collapsed": false,
    "pycharm": {
     "name": "#%%\n"
    }
   }
  }
 ],
 "metadata": {
  "kernelspec": {
   "display_name": "Python 3 (ipykernel)",
   "language": "python",
   "name": "python3"
  },
  "language_info": {
   "codemirror_mode": {
    "name": "ipython",
    "version": 3
   },
   "file_extension": ".py",
   "mimetype": "text/x-python",
   "name": "python",
   "nbconvert_exporter": "python",
   "pygments_lexer": "ipython3",
   "version": "3.9.7"
  }
 },
 "nbformat": 4,
 "nbformat_minor": 5
}