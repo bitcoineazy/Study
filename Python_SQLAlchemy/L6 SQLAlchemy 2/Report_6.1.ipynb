{
 "cells": [
  {
   "cell_type": "code",
   "execution_count": 1,
   "metadata": {
    "collapsed": true,
    "pycharm": {
     "name": "#%%\n"
    }
   },
   "outputs": [],
   "source": [
    "from sqlalchemy import MetaData, Table, create_engine, select, and_, or_, not_, text\n",
    "from sqlalchemy.sql import func, distinct, exists\n",
    "import pandas as pd"
   ]
  },
  {
   "cell_type": "code",
   "execution_count": 2,
   "outputs": [],
   "source": [
    "engine = create_engine('sqlite:///../Data/Students.db')\n",
    "metadata_obj = MetaData() # Объект-контейнер, содержит информацию о схеме данных\n",
    "metadata_obj.reflect(bind=engine) # Отображение БД"
   ],
   "metadata": {
    "collapsed": false,
    "pycharm": {
     "name": "#%%\n"
    }
   }
  },
  {
   "cell_type": "code",
   "execution_count": 3,
   "outputs": [],
   "source": [
    "exam_marks=Table(\"exam_marks\", metadata_obj, autoload=True, autoload_with=\"engine\")\n",
    "lecturer=Table(\"lecturer\", metadata_obj, autoload=True, autoload_with=\"engine\")\n",
    "student=Table(\"student\", metadata_obj, autoload=True, autoload_with=\"engine\")\n",
    "subj_lect=Table(\"subj_lect\", metadata_obj, autoload=True, autoload_with=\"engine\")\n",
    "subject=Table(\"subject\", metadata_obj, autoload=True, autoload_with=\"engine\")\n",
    "university=Table(\"university\", metadata_obj, autolad=True, autolad_with=\"engine\")\n",
    "\n",
    "st = student.alias()\n",
    "em = exam_marks.alias()\n",
    "su = subject.alias()\n",
    "un = university.alias()\n",
    "le = lecturer.alias()\n",
    "sl = subj_lect.alias()"
   ],
   "metadata": {
    "collapsed": false,
    "pycharm": {
     "name": "#%%\n"
    }
   }
  },
  {
   "cell_type": "code",
   "execution_count": 4,
   "outputs": [],
   "source": [
    "conn=engine.connect() # Соединение"
   ],
   "metadata": {
    "collapsed": false,
    "pycharm": {
     "name": "#%%\n"
    }
   }
  },
  {
   "cell_type": "markdown",
   "source": [
    "<img src=../Img/pencil.png style=\"width:190px;height:190px\">\n",
    "<p style=\"background-color:powderblue; font-size:125%; color: rebeccapurple;\">Выполните задания</p>\n",
    "<p>Выполните задания с помощью соедиинения таблиц в Jupyter Notebook </p>\n",
    "\n",
    "1. Напишите запрос, который выполняет вывод фамилий студентов, сдававших экзамены, вместе с идентификаторами каждого сданного ими предмета обучения.\n",
    "\n",
    "2. Напишите запрос, который выполняет выборку фамилий всех студентов, с указанием для студентов, сдававших экзамены, идентификаторов сданных ими предметов обучения.\n",
    "\n",
    "3. Напишите запрос, который выполняет вывод фамилий студентов, сдававших экзамены, вместе с наименованиями каждого сданного ими предмета обучения.\n",
    "\n",
    "4. Напишите запрос на выдачу списка всех студентов. Для студентов, сдававших экзамены, укажите названия соответствующих предметов обучения.\n",
    "\n",
    "5. Напишите запрос на выдачу названий всех предметов, по которым студенты получили только хорошие (4 и 5) оценки. В выходных данных должны быть приведены фамилии студентов, названия предметов и оценка.\n",
    "\n",
    "6. Напишите запрос, который выполняет вывод списка университетов с рейтингом, превышающим 300, вместе со значением максимального размера стипендии, получаемой студентами в этих университетах.\n",
    "\n",
    "7. Напишите запрос на выдачу списка студентов (в алфавитном порядке фамилий) вместе со значением рейтинга университета, где каждый из них учится, включив в список и тех студентов, место учебы которых в базе данных не указано.\n",
    "\n",
    "8. Напишите запрос для получения списка всех студентов вместе с названиями университетов, в которых они учатся. Отдельным запросом получите записи, расширяющие данный список по сравнению с тем, который был бы получен внутренним соединением.\n",
    "\n",
    "9. Напишите запрос для получения списка всех университетов вместе с фамилиями студентов, в них обучающихся. Отдельным запросом получите записи, расширяющие данный список по сравнению с тем, который был бы получен внутренним соединением.\n",
    "\n",
    "10. Напишите запрос для получения списка всех университетов вместе с фамилиями преподавателей, в них работающих. Отдельным запросом получите записи, расширяющие данный список по сравнению с тем, который был бы получен внутренним соединением.\n",
    "\n",
    "11. Напишите запрос для получения списка всех преподавателей вместе с университетами, в которых они работают. Есть ли отличие списка от того, который был бы получен внутренним соединением? Подтвердите отдельным запросом ваш вывод.\n",
    "\n",
    "12. Напишите запрос для получения списка всех студентов и оценок, полученных ими на экзаменах. Отдельным запросом получите записи, расширяющие данный список по сравнению с тем, который был бы получен внутренним соединением.\n",
    "\n",
    "13. Напишите запрос для получения списка всех экзаменационных оценок вместе с фамилиями получивших их студентов. Есть ли отличие списка от того, который был бы получен внутренним соединением? Подтвердите отдельным запросом ваш вывод.\n",
    "\n",
    "14. Напишите запрос для получения полного списка предметов с соответствующими экзаменационными оценками. Есть ли отличие списка от того, который был бы получен внутренним соединением? Подтвердите отдельным запросом ваш вывод.\n",
    "\n",
    "15. Напишите запрос для получения полного списка оценок вместе с названиями предметов, по которым они получены. Есть ли отличие списка от того, который был бы получен внутренним соединением? Подтвердите отдельным запросом ваш вывод."
   ],
   "metadata": {
    "collapsed": false,
    "pycharm": {
     "name": "#%% md\n"
    }
   }
  },
  {
   "cell_type": "markdown",
   "source": [
    "# Решение"
   ],
   "metadata": {
    "collapsed": false,
    "pycharm": {
     "name": "#%% md\n"
    }
   }
  },
  {
   "cell_type": "code",
   "execution_count": 34,
   "outputs": [
    {
     "name": "stdout",
     "output_type": "stream",
     "text": [
      "SELECT student.surname, exam_marks.subj_id \n",
      "FROM student JOIN exam_marks ON student.student_id = exam_marks.student_id \n",
      "WHERE exam_marks.mark > :mark_1\n"
     ]
    },
    {
     "data": {
      "text/plain": "       surname  subj_id\n0     Казакова       73\n1          Жук       73\n2      Кондрат       10\n3      Лазарев       56\n4      Блохина       22\n5      Жданова       56\n6     Семенова       94\n7   Мельникова       10\n8     Борисова       94\n9     Васильев       73\n10     Петрова       43\n11     Антонов       10\n12     Костина       22\n13    Васильев       13\n14    Кузнецов       12\n15      Лапина       56\n16       Котов       10\n17     Сидоров       22\n18      Белкин       10\n19       Лукин       11\n20         Пак       11\n21         Пак       94\n22         Пак       73\n23  Мельникова       14\n24  Мельникова       56\n25     Зайцева       10",
      "text/html": "<div>\n<style scoped>\n    .dataframe tbody tr th:only-of-type {\n        vertical-align: middle;\n    }\n\n    .dataframe tbody tr th {\n        vertical-align: top;\n    }\n\n    .dataframe thead th {\n        text-align: right;\n    }\n</style>\n<table border=\"1\" class=\"dataframe\">\n  <thead>\n    <tr style=\"text-align: right;\">\n      <th></th>\n      <th>surname</th>\n      <th>subj_id</th>\n    </tr>\n  </thead>\n  <tbody>\n    <tr>\n      <th>0</th>\n      <td>Казакова</td>\n      <td>73</td>\n    </tr>\n    <tr>\n      <th>1</th>\n      <td>Жук</td>\n      <td>73</td>\n    </tr>\n    <tr>\n      <th>2</th>\n      <td>Кондрат</td>\n      <td>10</td>\n    </tr>\n    <tr>\n      <th>3</th>\n      <td>Лазарев</td>\n      <td>56</td>\n    </tr>\n    <tr>\n      <th>4</th>\n      <td>Блохина</td>\n      <td>22</td>\n    </tr>\n    <tr>\n      <th>5</th>\n      <td>Жданова</td>\n      <td>56</td>\n    </tr>\n    <tr>\n      <th>6</th>\n      <td>Семенова</td>\n      <td>94</td>\n    </tr>\n    <tr>\n      <th>7</th>\n      <td>Мельникова</td>\n      <td>10</td>\n    </tr>\n    <tr>\n      <th>8</th>\n      <td>Борисова</td>\n      <td>94</td>\n    </tr>\n    <tr>\n      <th>9</th>\n      <td>Васильев</td>\n      <td>73</td>\n    </tr>\n    <tr>\n      <th>10</th>\n      <td>Петрова</td>\n      <td>43</td>\n    </tr>\n    <tr>\n      <th>11</th>\n      <td>Антонов</td>\n      <td>10</td>\n    </tr>\n    <tr>\n      <th>12</th>\n      <td>Костина</td>\n      <td>22</td>\n    </tr>\n    <tr>\n      <th>13</th>\n      <td>Васильев</td>\n      <td>13</td>\n    </tr>\n    <tr>\n      <th>14</th>\n      <td>Кузнецов</td>\n      <td>12</td>\n    </tr>\n    <tr>\n      <th>15</th>\n      <td>Лапина</td>\n      <td>56</td>\n    </tr>\n    <tr>\n      <th>16</th>\n      <td>Котов</td>\n      <td>10</td>\n    </tr>\n    <tr>\n      <th>17</th>\n      <td>Сидоров</td>\n      <td>22</td>\n    </tr>\n    <tr>\n      <th>18</th>\n      <td>Белкин</td>\n      <td>10</td>\n    </tr>\n    <tr>\n      <th>19</th>\n      <td>Лукин</td>\n      <td>11</td>\n    </tr>\n    <tr>\n      <th>20</th>\n      <td>Пак</td>\n      <td>11</td>\n    </tr>\n    <tr>\n      <th>21</th>\n      <td>Пак</td>\n      <td>94</td>\n    </tr>\n    <tr>\n      <th>22</th>\n      <td>Пак</td>\n      <td>73</td>\n    </tr>\n    <tr>\n      <th>23</th>\n      <td>Мельникова</td>\n      <td>14</td>\n    </tr>\n    <tr>\n      <th>24</th>\n      <td>Мельникова</td>\n      <td>56</td>\n    </tr>\n    <tr>\n      <th>25</th>\n      <td>Зайцева</td>\n      <td>10</td>\n    </tr>\n  </tbody>\n</table>\n</div>"
     },
     "execution_count": 34,
     "metadata": {},
     "output_type": "execute_result"
    }
   ],
   "source": [
    "# 1. Напишите запрос, который выполняет вывод фамилий студентов, сдававших экзамены, вместе с идентификаторами каждого сданного ими предмета обучения.\n",
    "\n",
    "s = select(student.c.surname, exam_marks.c.subj_id).join(exam_marks, student.c.student_id == exam_marks.c.student_id).where(exam_marks.c.mark > 2)\n",
    "\n",
    "print(s)\n",
    "pd.read_sql(s, conn)"
   ],
   "metadata": {
    "collapsed": false,
    "pycharm": {
     "name": "#%%\n"
    }
   }
  },
  {
   "cell_type": "code",
   "execution_count": 35,
   "outputs": [
    {
     "name": "stdout",
     "output_type": "stream",
     "text": [
      "SELECT student.surname, exam_marks.subj_id \n",
      "FROM student LEFT OUTER JOIN exam_marks ON student.student_id = exam_marks.student_id\n"
     ]
    },
    {
     "data": {
      "text/plain": "     surname  subj_id\n0     Иванов     43.0\n1     Петров      NaN\n2    Сидоров     22.0\n3   Кузнецов     12.0\n4    Зайцева     10.0\n..       ...      ...\n95   Киселев      NaN\n96  Миронова      NaN\n97    Павлов      NaN\n98    Петров      NaN\n99     Лукин     11.0\n\n[100 rows x 2 columns]",
      "text/html": "<div>\n<style scoped>\n    .dataframe tbody tr th:only-of-type {\n        vertical-align: middle;\n    }\n\n    .dataframe tbody tr th {\n        vertical-align: top;\n    }\n\n    .dataframe thead th {\n        text-align: right;\n    }\n</style>\n<table border=\"1\" class=\"dataframe\">\n  <thead>\n    <tr style=\"text-align: right;\">\n      <th></th>\n      <th>surname</th>\n      <th>subj_id</th>\n    </tr>\n  </thead>\n  <tbody>\n    <tr>\n      <th>0</th>\n      <td>Иванов</td>\n      <td>43.0</td>\n    </tr>\n    <tr>\n      <th>1</th>\n      <td>Петров</td>\n      <td>NaN</td>\n    </tr>\n    <tr>\n      <th>2</th>\n      <td>Сидоров</td>\n      <td>22.0</td>\n    </tr>\n    <tr>\n      <th>3</th>\n      <td>Кузнецов</td>\n      <td>12.0</td>\n    </tr>\n    <tr>\n      <th>4</th>\n      <td>Зайцева</td>\n      <td>10.0</td>\n    </tr>\n    <tr>\n      <th>...</th>\n      <td>...</td>\n      <td>...</td>\n    </tr>\n    <tr>\n      <th>95</th>\n      <td>Киселев</td>\n      <td>NaN</td>\n    </tr>\n    <tr>\n      <th>96</th>\n      <td>Миронова</td>\n      <td>NaN</td>\n    </tr>\n    <tr>\n      <th>97</th>\n      <td>Павлов</td>\n      <td>NaN</td>\n    </tr>\n    <tr>\n      <th>98</th>\n      <td>Петров</td>\n      <td>NaN</td>\n    </tr>\n    <tr>\n      <th>99</th>\n      <td>Лукин</td>\n      <td>11.0</td>\n    </tr>\n  </tbody>\n</table>\n<p>100 rows × 2 columns</p>\n</div>"
     },
     "execution_count": 35,
     "metadata": {},
     "output_type": "execute_result"
    }
   ],
   "source": [
    "# 2. Напишите запрос, который выполняет выборку фамилий всех студентов, с указанием для студентов, сдававших экзамены, идентификаторов сданных ими предметов обучения.\n",
    "\n",
    "s = select(student.c.surname, exam_marks.c.subj_id).join(exam_marks, isouter=True)\n",
    "\n",
    "print(s)\n",
    "pd.read_sql(s, conn)"
   ],
   "metadata": {
    "collapsed": false,
    "pycharm": {
     "name": "#%%\n"
    }
   }
  },
  {
   "cell_type": "code",
   "execution_count": 36,
   "outputs": [
    {
     "name": "stdout",
     "output_type": "stream",
     "text": [
      "SELECT student.surname, subject.subj_name \n",
      "FROM student JOIN exam_marks ON exam_marks.student_id = student.student_id JOIN subject ON subject.subj_id = exam_marks.subj_id \n",
      "WHERE exam_marks.mark > :mark_1 ORDER BY student.surname\n"
     ]
    },
    {
     "data": {
      "text/plain": "       surname                                 subj_name\n0      Антонов                               Информатика\n1       Белкин                               Информатика\n2      Блохина                                    Физика\n3     Борисова                           Английский язык\n4     Васильев                               Физкультура\n5     Васильев                                       ОБЖ\n6      Жданова                                   История\n7          Жук                               Физкультура\n8      Зайцева                               Информатика\n9     Казакова                               Физкультура\n10     Кондрат                               Информатика\n11     Костина                                    Физика\n12       Котов                               Информатика\n13    Кузнецов                             Анализ данных\n14     Лазарев                                   История\n15      Лапина                                   История\n16       Лукин   Программирование на языках Python и SQL\n17  Мельникова                               Информатика\n18  Мельникова  Обработка данных и моделирование в Excel\n19  Мельникова                                   История\n20         Пак   Программирование на языках Python и SQL\n21         Пак                           Английский язык\n22         Пак                               Физкультура\n23     Петрова                                Математика\n24    Семенова                           Английский язык\n25     Сидоров                                    Физика",
      "text/html": "<div>\n<style scoped>\n    .dataframe tbody tr th:only-of-type {\n        vertical-align: middle;\n    }\n\n    .dataframe tbody tr th {\n        vertical-align: top;\n    }\n\n    .dataframe thead th {\n        text-align: right;\n    }\n</style>\n<table border=\"1\" class=\"dataframe\">\n  <thead>\n    <tr style=\"text-align: right;\">\n      <th></th>\n      <th>surname</th>\n      <th>subj_name</th>\n    </tr>\n  </thead>\n  <tbody>\n    <tr>\n      <th>0</th>\n      <td>Антонов</td>\n      <td>Информатика</td>\n    </tr>\n    <tr>\n      <th>1</th>\n      <td>Белкин</td>\n      <td>Информатика</td>\n    </tr>\n    <tr>\n      <th>2</th>\n      <td>Блохина</td>\n      <td>Физика</td>\n    </tr>\n    <tr>\n      <th>3</th>\n      <td>Борисова</td>\n      <td>Английский язык</td>\n    </tr>\n    <tr>\n      <th>4</th>\n      <td>Васильев</td>\n      <td>Физкультура</td>\n    </tr>\n    <tr>\n      <th>5</th>\n      <td>Васильев</td>\n      <td>ОБЖ</td>\n    </tr>\n    <tr>\n      <th>6</th>\n      <td>Жданова</td>\n      <td>История</td>\n    </tr>\n    <tr>\n      <th>7</th>\n      <td>Жук</td>\n      <td>Физкультура</td>\n    </tr>\n    <tr>\n      <th>8</th>\n      <td>Зайцева</td>\n      <td>Информатика</td>\n    </tr>\n    <tr>\n      <th>9</th>\n      <td>Казакова</td>\n      <td>Физкультура</td>\n    </tr>\n    <tr>\n      <th>10</th>\n      <td>Кондрат</td>\n      <td>Информатика</td>\n    </tr>\n    <tr>\n      <th>11</th>\n      <td>Костина</td>\n      <td>Физика</td>\n    </tr>\n    <tr>\n      <th>12</th>\n      <td>Котов</td>\n      <td>Информатика</td>\n    </tr>\n    <tr>\n      <th>13</th>\n      <td>Кузнецов</td>\n      <td>Анализ данных</td>\n    </tr>\n    <tr>\n      <th>14</th>\n      <td>Лазарев</td>\n      <td>История</td>\n    </tr>\n    <tr>\n      <th>15</th>\n      <td>Лапина</td>\n      <td>История</td>\n    </tr>\n    <tr>\n      <th>16</th>\n      <td>Лукин</td>\n      <td>Программирование на языках Python и SQL</td>\n    </tr>\n    <tr>\n      <th>17</th>\n      <td>Мельникова</td>\n      <td>Информатика</td>\n    </tr>\n    <tr>\n      <th>18</th>\n      <td>Мельникова</td>\n      <td>Обработка данных и моделирование в Excel</td>\n    </tr>\n    <tr>\n      <th>19</th>\n      <td>Мельникова</td>\n      <td>История</td>\n    </tr>\n    <tr>\n      <th>20</th>\n      <td>Пак</td>\n      <td>Программирование на языках Python и SQL</td>\n    </tr>\n    <tr>\n      <th>21</th>\n      <td>Пак</td>\n      <td>Английский язык</td>\n    </tr>\n    <tr>\n      <th>22</th>\n      <td>Пак</td>\n      <td>Физкультура</td>\n    </tr>\n    <tr>\n      <th>23</th>\n      <td>Петрова</td>\n      <td>Математика</td>\n    </tr>\n    <tr>\n      <th>24</th>\n      <td>Семенова</td>\n      <td>Английский язык</td>\n    </tr>\n    <tr>\n      <th>25</th>\n      <td>Сидоров</td>\n      <td>Физика</td>\n    </tr>\n  </tbody>\n</table>\n</div>"
     },
     "execution_count": 36,
     "metadata": {},
     "output_type": "execute_result"
    }
   ],
   "source": [
    "# 3. Напишите запрос, который выполняет вывод фамилий студентов, сдававших экзамены, вместе с наименованиями каждого сданного ими предмета обучения.\n",
    "\n",
    "s = select(student.c.surname, subject.c.subj_name).join(exam_marks, exam_marks.c.student_id == student.c.student_id).join(subject, subject.c.subj_id == exam_marks.c.subj_id).where(exam_marks.c.mark > 2).order_by(student.c.surname)\n",
    "\n",
    "print(s)\n",
    "pd.read_sql(s, conn)"
   ],
   "metadata": {
    "collapsed": false,
    "pycharm": {
     "name": "#%%\n"
    }
   }
  },
  {
   "cell_type": "code",
   "execution_count": 37,
   "outputs": [
    {
     "name": "stdout",
     "output_type": "stream",
     "text": [
      "SELECT student.surname, subject.subj_name \n",
      "FROM student LEFT OUTER JOIN exam_marks ON exam_marks.student_id = student.student_id LEFT OUTER JOIN subject ON subject.subj_id = exam_marks.subj_id ORDER BY student.surname\n"
     ]
    },
    {
     "data": {
      "text/plain": "       surname      subj_name\n0     Агафонов           None\n1      Аксенов           None\n2      Антонов    Информатика\n3      Архипов           None\n4   Афанасьева  Анализ данных\n..         ...            ...\n95     Федоров  Анализ данных\n96     Фролова           None\n97      Ширяев           None\n98      Шубина           None\n99        Юдин           None\n\n[100 rows x 2 columns]",
      "text/html": "<div>\n<style scoped>\n    .dataframe tbody tr th:only-of-type {\n        vertical-align: middle;\n    }\n\n    .dataframe tbody tr th {\n        vertical-align: top;\n    }\n\n    .dataframe thead th {\n        text-align: right;\n    }\n</style>\n<table border=\"1\" class=\"dataframe\">\n  <thead>\n    <tr style=\"text-align: right;\">\n      <th></th>\n      <th>surname</th>\n      <th>subj_name</th>\n    </tr>\n  </thead>\n  <tbody>\n    <tr>\n      <th>0</th>\n      <td>Агафонов</td>\n      <td>None</td>\n    </tr>\n    <tr>\n      <th>1</th>\n      <td>Аксенов</td>\n      <td>None</td>\n    </tr>\n    <tr>\n      <th>2</th>\n      <td>Антонов</td>\n      <td>Информатика</td>\n    </tr>\n    <tr>\n      <th>3</th>\n      <td>Архипов</td>\n      <td>None</td>\n    </tr>\n    <tr>\n      <th>4</th>\n      <td>Афанасьева</td>\n      <td>Анализ данных</td>\n    </tr>\n    <tr>\n      <th>...</th>\n      <td>...</td>\n      <td>...</td>\n    </tr>\n    <tr>\n      <th>95</th>\n      <td>Федоров</td>\n      <td>Анализ данных</td>\n    </tr>\n    <tr>\n      <th>96</th>\n      <td>Фролова</td>\n      <td>None</td>\n    </tr>\n    <tr>\n      <th>97</th>\n      <td>Ширяев</td>\n      <td>None</td>\n    </tr>\n    <tr>\n      <th>98</th>\n      <td>Шубина</td>\n      <td>None</td>\n    </tr>\n    <tr>\n      <th>99</th>\n      <td>Юдин</td>\n      <td>None</td>\n    </tr>\n  </tbody>\n</table>\n<p>100 rows × 2 columns</p>\n</div>"
     },
     "execution_count": 37,
     "metadata": {},
     "output_type": "execute_result"
    }
   ],
   "source": [
    "# 4. Напишите запрос на выдачу списка всех студентов. Для студентов, сдававших экзамены, укажите названия соответствующих предметов обучения.\n",
    "\n",
    "s = select(student.c.surname, subject.c.subj_name).outerjoin(exam_marks, exam_marks.c.student_id == student.c.student_id).outerjoin(subject).order_by(student.c.surname)\n",
    "\n",
    "print(s)\n",
    "pd.read_sql(s, conn)"
   ],
   "metadata": {
    "collapsed": false,
    "pycharm": {
     "name": "#%%\n"
    }
   }
  },
  {
   "cell_type": "code",
   "execution_count": 38,
   "outputs": [
    {
     "name": "stdout",
     "output_type": "stream",
     "text": [
      "SELECT student.surname, subject.subj_name, exam_marks.mark \n",
      "FROM student JOIN exam_marks ON exam_marks.student_id = student.student_id JOIN subject ON subject.subj_id = exam_marks.subj_id \n",
      "WHERE exam_marks.mark >= :mark_1\n"
     ]
    },
    {
     "data": {
      "text/plain": "       surname                                 subj_name  mark\n0     Казакова                               Физкультура     4\n1          Жук                               Физкультура     4\n2      Лазарев                                   История     4\n3      Блохина                                    Физика     5\n4      Жданова                                   История     5\n5     Семенова                           Английский язык     4\n6   Мельникова                               Информатика     5\n7     Борисова                           Английский язык     5\n8      Костина                                    Физика     4\n9     Васильев                                       ОБЖ     5\n10    Кузнецов                             Анализ данных     5\n11      Лапина                                   История     5\n12       Котов                               Информатика     4\n13     Сидоров                                    Физика     4\n14      Белкин                               Информатика     5\n15       Лукин   Программирование на языках Python и SQL     4\n16         Пак   Программирование на языках Python и SQL     5\n17         Пак                           Английский язык     4\n18  Мельникова  Обработка данных и моделирование в Excel     4\n19     Зайцева                               Информатика     5",
      "text/html": "<div>\n<style scoped>\n    .dataframe tbody tr th:only-of-type {\n        vertical-align: middle;\n    }\n\n    .dataframe tbody tr th {\n        vertical-align: top;\n    }\n\n    .dataframe thead th {\n        text-align: right;\n    }\n</style>\n<table border=\"1\" class=\"dataframe\">\n  <thead>\n    <tr style=\"text-align: right;\">\n      <th></th>\n      <th>surname</th>\n      <th>subj_name</th>\n      <th>mark</th>\n    </tr>\n  </thead>\n  <tbody>\n    <tr>\n      <th>0</th>\n      <td>Казакова</td>\n      <td>Физкультура</td>\n      <td>4</td>\n    </tr>\n    <tr>\n      <th>1</th>\n      <td>Жук</td>\n      <td>Физкультура</td>\n      <td>4</td>\n    </tr>\n    <tr>\n      <th>2</th>\n      <td>Лазарев</td>\n      <td>История</td>\n      <td>4</td>\n    </tr>\n    <tr>\n      <th>3</th>\n      <td>Блохина</td>\n      <td>Физика</td>\n      <td>5</td>\n    </tr>\n    <tr>\n      <th>4</th>\n      <td>Жданова</td>\n      <td>История</td>\n      <td>5</td>\n    </tr>\n    <tr>\n      <th>5</th>\n      <td>Семенова</td>\n      <td>Английский язык</td>\n      <td>4</td>\n    </tr>\n    <tr>\n      <th>6</th>\n      <td>Мельникова</td>\n      <td>Информатика</td>\n      <td>5</td>\n    </tr>\n    <tr>\n      <th>7</th>\n      <td>Борисова</td>\n      <td>Английский язык</td>\n      <td>5</td>\n    </tr>\n    <tr>\n      <th>8</th>\n      <td>Костина</td>\n      <td>Физика</td>\n      <td>4</td>\n    </tr>\n    <tr>\n      <th>9</th>\n      <td>Васильев</td>\n      <td>ОБЖ</td>\n      <td>5</td>\n    </tr>\n    <tr>\n      <th>10</th>\n      <td>Кузнецов</td>\n      <td>Анализ данных</td>\n      <td>5</td>\n    </tr>\n    <tr>\n      <th>11</th>\n      <td>Лапина</td>\n      <td>История</td>\n      <td>5</td>\n    </tr>\n    <tr>\n      <th>12</th>\n      <td>Котов</td>\n      <td>Информатика</td>\n      <td>4</td>\n    </tr>\n    <tr>\n      <th>13</th>\n      <td>Сидоров</td>\n      <td>Физика</td>\n      <td>4</td>\n    </tr>\n    <tr>\n      <th>14</th>\n      <td>Белкин</td>\n      <td>Информатика</td>\n      <td>5</td>\n    </tr>\n    <tr>\n      <th>15</th>\n      <td>Лукин</td>\n      <td>Программирование на языках Python и SQL</td>\n      <td>4</td>\n    </tr>\n    <tr>\n      <th>16</th>\n      <td>Пак</td>\n      <td>Программирование на языках Python и SQL</td>\n      <td>5</td>\n    </tr>\n    <tr>\n      <th>17</th>\n      <td>Пак</td>\n      <td>Английский язык</td>\n      <td>4</td>\n    </tr>\n    <tr>\n      <th>18</th>\n      <td>Мельникова</td>\n      <td>Обработка данных и моделирование в Excel</td>\n      <td>4</td>\n    </tr>\n    <tr>\n      <th>19</th>\n      <td>Зайцева</td>\n      <td>Информатика</td>\n      <td>5</td>\n    </tr>\n  </tbody>\n</table>\n</div>"
     },
     "execution_count": 38,
     "metadata": {},
     "output_type": "execute_result"
    }
   ],
   "source": [
    "# 5. Напишите запрос на выдачу названий всех предметов, по которым студенты получили только хорошие (4 и 5) оценки. В выходных данных должны быть приведены фамилии студентов, названия предметов и оценка.\n",
    "\n",
    "s = select(student.c.surname, subject.c.subj_name, exam_marks.c.mark).join(exam_marks, exam_marks.c.student_id == student.c.student_id).join(subject).where(exam_marks.c.mark >= 4)\n",
    "\n",
    "print(s)\n",
    "pd.read_sql(s, conn)"
   ],
   "metadata": {
    "collapsed": false,
    "pycharm": {
     "name": "#%%\n"
    }
   }
  },
  {
   "cell_type": "code",
   "execution_count": 39,
   "outputs": [
    {
     "name": "stdout",
     "output_type": "stream",
     "text": [
      "SELECT university.univ_id, university.univ_name, university.rating, university.city, max(student.stipend) AS max_1 \n",
      "FROM university JOIN student ON university.univ_id = student.univ_id \n",
      "WHERE university.rating > :rating_1 GROUP BY university.univ_id\n"
     ]
    },
    {
     "data": {
      "text/plain": "   univ_id         univ_name  rating             city  max_1\n0       11               НГУ     345      Новосибирск    250\n1       14               БГУ     326         Белгород    250\n2       15               ТГУ     368            Томск    250\n3       18              ВГМА     327          Воронеж    200\n4       22               МГУ     606           Москва    250\n5       32               РГУ     416           Ростов    250\n6       44              ФинУ     330           Москва    250\n7       45  МГТУ им. Баумана     372           Москва    200\n8       46   ФГБОУ \"Политех\"     304  Санкт-Петербург    200",
      "text/html": "<div>\n<style scoped>\n    .dataframe tbody tr th:only-of-type {\n        vertical-align: middle;\n    }\n\n    .dataframe tbody tr th {\n        vertical-align: top;\n    }\n\n    .dataframe thead th {\n        text-align: right;\n    }\n</style>\n<table border=\"1\" class=\"dataframe\">\n  <thead>\n    <tr style=\"text-align: right;\">\n      <th></th>\n      <th>univ_id</th>\n      <th>univ_name</th>\n      <th>rating</th>\n      <th>city</th>\n      <th>max_1</th>\n    </tr>\n  </thead>\n  <tbody>\n    <tr>\n      <th>0</th>\n      <td>11</td>\n      <td>НГУ</td>\n      <td>345</td>\n      <td>Новосибирск</td>\n      <td>250</td>\n    </tr>\n    <tr>\n      <th>1</th>\n      <td>14</td>\n      <td>БГУ</td>\n      <td>326</td>\n      <td>Белгород</td>\n      <td>250</td>\n    </tr>\n    <tr>\n      <th>2</th>\n      <td>15</td>\n      <td>ТГУ</td>\n      <td>368</td>\n      <td>Томск</td>\n      <td>250</td>\n    </tr>\n    <tr>\n      <th>3</th>\n      <td>18</td>\n      <td>ВГМА</td>\n      <td>327</td>\n      <td>Воронеж</td>\n      <td>200</td>\n    </tr>\n    <tr>\n      <th>4</th>\n      <td>22</td>\n      <td>МГУ</td>\n      <td>606</td>\n      <td>Москва</td>\n      <td>250</td>\n    </tr>\n    <tr>\n      <th>5</th>\n      <td>32</td>\n      <td>РГУ</td>\n      <td>416</td>\n      <td>Ростов</td>\n      <td>250</td>\n    </tr>\n    <tr>\n      <th>6</th>\n      <td>44</td>\n      <td>ФинУ</td>\n      <td>330</td>\n      <td>Москва</td>\n      <td>250</td>\n    </tr>\n    <tr>\n      <th>7</th>\n      <td>45</td>\n      <td>МГТУ им. Баумана</td>\n      <td>372</td>\n      <td>Москва</td>\n      <td>200</td>\n    </tr>\n    <tr>\n      <th>8</th>\n      <td>46</td>\n      <td>ФГБОУ \"Политех\"</td>\n      <td>304</td>\n      <td>Санкт-Петербург</td>\n      <td>200</td>\n    </tr>\n  </tbody>\n</table>\n</div>"
     },
     "execution_count": 39,
     "metadata": {},
     "output_type": "execute_result"
    }
   ],
   "source": [
    "# 6. Напишите запрос, который выполняет вывод списка университетов с рейтингом, превышающим 300, вместе со значением максимального размера стипендии, получаемой студентами в этих университетах.\n",
    "\n",
    "s = select(university, func.max(student.c.stipend)).join(student, university.c.univ_id == student.c.univ_id).where(university.c.rating > 300).group_by(university.c.univ_id)\n",
    "\n",
    "print(s)\n",
    "pd.read_sql(s, conn)"
   ],
   "metadata": {
    "collapsed": false,
    "pycharm": {
     "name": "#%%\n"
    }
   }
  },
  {
   "cell_type": "code",
   "execution_count": 40,
   "outputs": [
    {
     "name": "stdout",
     "output_type": "stream",
     "text": [
      "SELECT student.surname, university.rating, university.univ_id \n",
      "FROM student LEFT OUTER JOIN university ON university.univ_id = student.univ_id ORDER BY student.surname\n"
     ]
    },
    {
     "data": {
      "text/plain": "       surname  rating  univ_id\n0     Агафонов   296.0       10\n1      Аксенов   296.0       10\n2      Антонов   606.0       22\n3      Архипов   606.0       22\n4   Афанасьева   416.0       32\n..         ...     ...      ...\n85     Федоров   296.0       10\n86     Фролова   330.0       44\n87      Ширяев   304.0       46\n88      Шубина   372.0       45\n89        Юдин   327.0       18\n\n[90 rows x 3 columns]",
      "text/html": "<div>\n<style scoped>\n    .dataframe tbody tr th:only-of-type {\n        vertical-align: middle;\n    }\n\n    .dataframe tbody tr th {\n        vertical-align: top;\n    }\n\n    .dataframe thead th {\n        text-align: right;\n    }\n</style>\n<table border=\"1\" class=\"dataframe\">\n  <thead>\n    <tr style=\"text-align: right;\">\n      <th></th>\n      <th>surname</th>\n      <th>rating</th>\n      <th>univ_id</th>\n    </tr>\n  </thead>\n  <tbody>\n    <tr>\n      <th>0</th>\n      <td>Агафонов</td>\n      <td>296.0</td>\n      <td>10</td>\n    </tr>\n    <tr>\n      <th>1</th>\n      <td>Аксенов</td>\n      <td>296.0</td>\n      <td>10</td>\n    </tr>\n    <tr>\n      <th>2</th>\n      <td>Антонов</td>\n      <td>606.0</td>\n      <td>22</td>\n    </tr>\n    <tr>\n      <th>3</th>\n      <td>Архипов</td>\n      <td>606.0</td>\n      <td>22</td>\n    </tr>\n    <tr>\n      <th>4</th>\n      <td>Афанасьева</td>\n      <td>416.0</td>\n      <td>32</td>\n    </tr>\n    <tr>\n      <th>...</th>\n      <td>...</td>\n      <td>...</td>\n      <td>...</td>\n    </tr>\n    <tr>\n      <th>85</th>\n      <td>Федоров</td>\n      <td>296.0</td>\n      <td>10</td>\n    </tr>\n    <tr>\n      <th>86</th>\n      <td>Фролова</td>\n      <td>330.0</td>\n      <td>44</td>\n    </tr>\n    <tr>\n      <th>87</th>\n      <td>Ширяев</td>\n      <td>304.0</td>\n      <td>46</td>\n    </tr>\n    <tr>\n      <th>88</th>\n      <td>Шубина</td>\n      <td>372.0</td>\n      <td>45</td>\n    </tr>\n    <tr>\n      <th>89</th>\n      <td>Юдин</td>\n      <td>327.0</td>\n      <td>18</td>\n    </tr>\n  </tbody>\n</table>\n<p>90 rows × 3 columns</p>\n</div>"
     },
     "execution_count": 40,
     "metadata": {},
     "output_type": "execute_result"
    }
   ],
   "source": [
    "# 7. Напишите запрос на выдачу списка студентов (в алфавитном порядке фамилий) вместе со значением рейтинга университета, где каждый из них учится, включив в список и тех студентов, место учебы которых в базе данных не указано.\n",
    "\n",
    "s = select(student.c.surname, university.c.rating, university.c.univ_id).outerjoin(university).order_by(student.c.surname)\n",
    "\n",
    "print(s)\n",
    "pd.read_sql(s, conn)"
   ],
   "metadata": {
    "collapsed": false,
    "pycharm": {
     "name": "#%%\n"
    }
   }
  },
  {
   "cell_type": "code",
   "execution_count": 41,
   "outputs": [
    {
     "name": "stdout",
     "output_type": "stream",
     "text": [
      "SELECT student_1.surname, university_1.univ_name \n",
      "FROM student AS student_1 JOIN university AS university_1 ON student_1.univ_id = university_1.univ_id ORDER BY student_1.surname\n"
     ]
    },
    {
     "data": {
      "text/plain": "       surname         univ_name\n0     Агафонов               ВГУ\n1      Аксенов               ВГУ\n2      Антонов               МГУ\n3      Архипов               МГУ\n4   Афанасьева               РГУ\n..         ...               ...\n85     Федоров               ВГУ\n86     Фролова              ФинУ\n87      Ширяев   ФГБОУ \"Политех\"\n88      Шубина  МГТУ им. Баумана\n89        Юдин              ВГМА\n\n[90 rows x 2 columns]",
      "text/html": "<div>\n<style scoped>\n    .dataframe tbody tr th:only-of-type {\n        vertical-align: middle;\n    }\n\n    .dataframe tbody tr th {\n        vertical-align: top;\n    }\n\n    .dataframe thead th {\n        text-align: right;\n    }\n</style>\n<table border=\"1\" class=\"dataframe\">\n  <thead>\n    <tr style=\"text-align: right;\">\n      <th></th>\n      <th>surname</th>\n      <th>univ_name</th>\n    </tr>\n  </thead>\n  <tbody>\n    <tr>\n      <th>0</th>\n      <td>Агафонов</td>\n      <td>ВГУ</td>\n    </tr>\n    <tr>\n      <th>1</th>\n      <td>Аксенов</td>\n      <td>ВГУ</td>\n    </tr>\n    <tr>\n      <th>2</th>\n      <td>Антонов</td>\n      <td>МГУ</td>\n    </tr>\n    <tr>\n      <th>3</th>\n      <td>Архипов</td>\n      <td>МГУ</td>\n    </tr>\n    <tr>\n      <th>4</th>\n      <td>Афанасьева</td>\n      <td>РГУ</td>\n    </tr>\n    <tr>\n      <th>...</th>\n      <td>...</td>\n      <td>...</td>\n    </tr>\n    <tr>\n      <th>85</th>\n      <td>Федоров</td>\n      <td>ВГУ</td>\n    </tr>\n    <tr>\n      <th>86</th>\n      <td>Фролова</td>\n      <td>ФинУ</td>\n    </tr>\n    <tr>\n      <th>87</th>\n      <td>Ширяев</td>\n      <td>ФГБОУ \"Политех\"</td>\n    </tr>\n    <tr>\n      <th>88</th>\n      <td>Шубина</td>\n      <td>МГТУ им. Баумана</td>\n    </tr>\n    <tr>\n      <th>89</th>\n      <td>Юдин</td>\n      <td>ВГМА</td>\n    </tr>\n  </tbody>\n</table>\n<p>90 rows × 2 columns</p>\n</div>"
     },
     "execution_count": 41,
     "metadata": {},
     "output_type": "execute_result"
    }
   ],
   "source": [
    "# 8. Напишите запрос для получения списка всех студентов вместе с названиями университетов, в которых они учатся. Отдельным запросом получите записи, расширяющие данный список по сравнению с тем, который был бы получен внутренним соединением.\n",
    "\n",
    "s = select(st.c.surname, un.c.univ_name)\n",
    "s = s.join(un, st.c.univ_id==un.c.univ_id)\n",
    "s = s.order_by(st.c.surname)\n",
    "\n",
    "print(s)\n",
    "pd.read_sql(s, conn)"
   ],
   "metadata": {
    "collapsed": false,
    "pycharm": {
     "name": "#%%\n"
    }
   }
  },
  {
   "cell_type": "code",
   "execution_count": 42,
   "outputs": [
    {
     "name": "stdout",
     "output_type": "stream",
     "text": [
      "SELECT student_1.surname, university_1.univ_name \n",
      "FROM student AS student_1 LEFT OUTER JOIN university AS university_1 ON student_1.univ_id = university_1.univ_id \n",
      "WHERE NOT (EXISTS (SELECT student_2.student_id \n",
      "FROM student AS student_2, student AS student_1 JOIN university AS university_2 ON student_1.univ_id = university_2.univ_id \n",
      "WHERE student_2.student_id = student_1.student_id)) ORDER BY student_1.surname\n"
     ]
    },
    {
     "data": {
      "text/plain": "Empty DataFrame\nColumns: [surname, univ_name]\nIndex: []",
      "text/html": "<div>\n<style scoped>\n    .dataframe tbody tr th:only-of-type {\n        vertical-align: middle;\n    }\n\n    .dataframe tbody tr th {\n        vertical-align: top;\n    }\n\n    .dataframe thead th {\n        text-align: right;\n    }\n</style>\n<table border=\"1\" class=\"dataframe\">\n  <thead>\n    <tr style=\"text-align: right;\">\n      <th></th>\n      <th>surname</th>\n      <th>univ_name</th>\n    </tr>\n  </thead>\n  <tbody>\n  </tbody>\n</table>\n</div>"
     },
     "execution_count": 42,
     "metadata": {},
     "output_type": "execute_result"
    }
   ],
   "source": [
    "st2 = student.alias()\n",
    "un2 = university.alias()\n",
    "\n",
    "sq = select(st2.c.student_id)\n",
    "sq = sq.join(un2, st.c.univ_id==un2.c.univ_id)\n",
    "sq = sq.where(st2.c.student_id==st.c.student_id).exists()\n",
    "\n",
    "s = select(st.c.surname, un.c.univ_name)\n",
    "s = s.outerjoin(un, st.c.univ_id==un.c.univ_id)\n",
    "s = s.where(~sq)\n",
    "s = s.order_by(st.c.surname)\n",
    "\n",
    "print(s)\n",
    "pd.read_sql(s, conn)"
   ],
   "metadata": {
    "collapsed": false,
    "pycharm": {
     "name": "#%%\n"
    }
   }
  },
  {
   "cell_type": "code",
   "execution_count": 43,
   "outputs": [
    {
     "name": "stdout",
     "output_type": "stream",
     "text": [
      "SELECT student_1.surname, university_1.univ_name \n",
      "FROM university AS university_1 JOIN student AS student_1 ON student_1.univ_id = university_1.univ_id ORDER BY student_1.surname\n"
     ]
    },
    {
     "data": {
      "text/plain": "       surname         univ_name\n0     Агафонов               ВГУ\n1      Аксенов               ВГУ\n2      Антонов               МГУ\n3      Архипов               МГУ\n4   Афанасьева               РГУ\n..         ...               ...\n85     Федоров               ВГУ\n86     Фролова              ФинУ\n87      Ширяев   ФГБОУ \"Политех\"\n88      Шубина  МГТУ им. Баумана\n89        Юдин              ВГМА\n\n[90 rows x 2 columns]",
      "text/html": "<div>\n<style scoped>\n    .dataframe tbody tr th:only-of-type {\n        vertical-align: middle;\n    }\n\n    .dataframe tbody tr th {\n        vertical-align: top;\n    }\n\n    .dataframe thead th {\n        text-align: right;\n    }\n</style>\n<table border=\"1\" class=\"dataframe\">\n  <thead>\n    <tr style=\"text-align: right;\">\n      <th></th>\n      <th>surname</th>\n      <th>univ_name</th>\n    </tr>\n  </thead>\n  <tbody>\n    <tr>\n      <th>0</th>\n      <td>Агафонов</td>\n      <td>ВГУ</td>\n    </tr>\n    <tr>\n      <th>1</th>\n      <td>Аксенов</td>\n      <td>ВГУ</td>\n    </tr>\n    <tr>\n      <th>2</th>\n      <td>Антонов</td>\n      <td>МГУ</td>\n    </tr>\n    <tr>\n      <th>3</th>\n      <td>Архипов</td>\n      <td>МГУ</td>\n    </tr>\n    <tr>\n      <th>4</th>\n      <td>Афанасьева</td>\n      <td>РГУ</td>\n    </tr>\n    <tr>\n      <th>...</th>\n      <td>...</td>\n      <td>...</td>\n    </tr>\n    <tr>\n      <th>85</th>\n      <td>Федоров</td>\n      <td>ВГУ</td>\n    </tr>\n    <tr>\n      <th>86</th>\n      <td>Фролова</td>\n      <td>ФинУ</td>\n    </tr>\n    <tr>\n      <th>87</th>\n      <td>Ширяев</td>\n      <td>ФГБОУ \"Политех\"</td>\n    </tr>\n    <tr>\n      <th>88</th>\n      <td>Шубина</td>\n      <td>МГТУ им. Баумана</td>\n    </tr>\n    <tr>\n      <th>89</th>\n      <td>Юдин</td>\n      <td>ВГМА</td>\n    </tr>\n  </tbody>\n</table>\n<p>90 rows × 2 columns</p>\n</div>"
     },
     "execution_count": 43,
     "metadata": {},
     "output_type": "execute_result"
    }
   ],
   "source": [
    "# 9. Напишите запрос для получения списка всех университетов вместе с фамилиями студентов, в них обучающихся. Отдельным запросом получите записи, расширяющие данный список по сравнению с тем, который был бы получен внутренним соединением.\n",
    "\n",
    "s = select(st.c.surname, un.c.univ_name)\n",
    "s = s.join_from(un, st, st.c.univ_id==un.c.univ_id)\n",
    "s = s.order_by(st.c.surname)\n",
    "\n",
    "print(s)\n",
    "pd.read_sql(s, conn)"
   ],
   "metadata": {
    "collapsed": false,
    "pycharm": {
     "name": "#%%\n"
    }
   }
  },
  {
   "cell_type": "code",
   "execution_count": 44,
   "outputs": [
    {
     "name": "stdout",
     "output_type": "stream",
     "text": [
      "SELECT student_1.surname, university_1.univ_name \n",
      "FROM university AS university_1 LEFT OUTER JOIN student AS student_1 ON student_1.univ_id = university_1.univ_id \n",
      "WHERE NOT (EXISTS (SELECT university_2.univ_id \n",
      "FROM university AS university_2 JOIN student AS student_2 ON university_2.univ_id = student_2.univ_id \n",
      "WHERE university_2.univ_id = university_1.univ_id)) ORDER BY student_1.surname\n"
     ]
    },
    {
     "data": {
      "text/plain": "  surname univ_name\n0    None      МФТИ",
      "text/html": "<div>\n<style scoped>\n    .dataframe tbody tr th:only-of-type {\n        vertical-align: middle;\n    }\n\n    .dataframe tbody tr th {\n        vertical-align: top;\n    }\n\n    .dataframe thead th {\n        text-align: right;\n    }\n</style>\n<table border=\"1\" class=\"dataframe\">\n  <thead>\n    <tr style=\"text-align: right;\">\n      <th></th>\n      <th>surname</th>\n      <th>univ_name</th>\n    </tr>\n  </thead>\n  <tbody>\n    <tr>\n      <th>0</th>\n      <td>None</td>\n      <td>МФТИ</td>\n    </tr>\n  </tbody>\n</table>\n</div>"
     },
     "execution_count": 44,
     "metadata": {},
     "output_type": "execute_result"
    }
   ],
   "source": [
    "st2 = student.alias()\n",
    "un2 = university.alias()\n",
    "\n",
    "sq = select(un2.c.univ_id)\n",
    "sq = sq.join_from(un2, st2)\n",
    "sq = sq.where(un2.c.univ_id==un.c.univ_id).exists()\n",
    "\n",
    "s = select(st.c.surname, un.c.univ_name)\n",
    "s = s.outerjoin_from(un, st, st.c.univ_id==un.c.univ_id)\n",
    "s = s.where(~sq)\n",
    "s = s.order_by(st.c.surname)\n",
    "\n",
    "print(s)\n",
    "pd.read_sql(s, conn)"
   ],
   "metadata": {
    "collapsed": false,
    "pycharm": {
     "name": "#%%\n"
    }
   }
  },
  {
   "cell_type": "code",
   "execution_count": 45,
   "outputs": [
    {
     "name": "stdout",
     "output_type": "stream",
     "text": [
      "SELECT university_1.univ_name, lecturer_1.surname || :surname_1 || lecturer_1.name AS anon_1 \n",
      "FROM university AS university_1 JOIN lecturer AS lecturer_1 ON lecturer_1.univ_id = university_1.univ_id ORDER BY university_1.univ_name\n"
     ]
    },
    {
     "data": {
      "text/plain": "           univ_name              anon_1\n0               ВГМА    Богданова Оксана\n1               ВГМА  Ситникова Светлана\n2               ВГМА     Крюкова Людмила\n3               ВГМА      Артемьева Майя\n4               ВГМА     Сафонов Будимир\n5                ВГУ        Зайцева Юлия\n6                ВГУ    Максимова Иванна\n7                ВГУ       Зыкова Оксана\n8                ВГУ     Алексеев Елисей\n9                ВГУ    Колесников Борис\n10               ВГУ        Никонов Иван\n11               ВГУ     Николаев Виктор\n12               ВГУ      Сорокин Андрей\n13               КФУ     Куликова Ираида\n14               КФУ     Кудрявцева Анна\n15  МГТУ им. Баумана       Волков Михаил\n16               МГУ       Лагутин Павел\n17               МГУ     Струков Николай\n18               НГУ   Мамонтова Акулина\n19               РГУ   Дорофеев Прокофий\n20               РГУ     Беляков Мефодий\n21               ТГУ     Тихонов Ладомир\n22               ТГУ      Беспалов Юлиан\n23              УЛГУ      Брагина Нинель\n24              УЛГУ    Дмитриева Оксана\n25              УЛГУ   Елисеев Виссарион\n26   ФГБОУ \"Политех\"      Сафонова Лукия\n27   ФГБОУ \"Политех\"     Стрелков Руслан\n28   ФГБОУ \"Политех\"         Зимин Юлиан",
      "text/html": "<div>\n<style scoped>\n    .dataframe tbody tr th:only-of-type {\n        vertical-align: middle;\n    }\n\n    .dataframe tbody tr th {\n        vertical-align: top;\n    }\n\n    .dataframe thead th {\n        text-align: right;\n    }\n</style>\n<table border=\"1\" class=\"dataframe\">\n  <thead>\n    <tr style=\"text-align: right;\">\n      <th></th>\n      <th>univ_name</th>\n      <th>anon_1</th>\n    </tr>\n  </thead>\n  <tbody>\n    <tr>\n      <th>0</th>\n      <td>ВГМА</td>\n      <td>Богданова Оксана</td>\n    </tr>\n    <tr>\n      <th>1</th>\n      <td>ВГМА</td>\n      <td>Ситникова Светлана</td>\n    </tr>\n    <tr>\n      <th>2</th>\n      <td>ВГМА</td>\n      <td>Крюкова Людмила</td>\n    </tr>\n    <tr>\n      <th>3</th>\n      <td>ВГМА</td>\n      <td>Артемьева Майя</td>\n    </tr>\n    <tr>\n      <th>4</th>\n      <td>ВГМА</td>\n      <td>Сафонов Будимир</td>\n    </tr>\n    <tr>\n      <th>5</th>\n      <td>ВГУ</td>\n      <td>Зайцева Юлия</td>\n    </tr>\n    <tr>\n      <th>6</th>\n      <td>ВГУ</td>\n      <td>Максимова Иванна</td>\n    </tr>\n    <tr>\n      <th>7</th>\n      <td>ВГУ</td>\n      <td>Зыкова Оксана</td>\n    </tr>\n    <tr>\n      <th>8</th>\n      <td>ВГУ</td>\n      <td>Алексеев Елисей</td>\n    </tr>\n    <tr>\n      <th>9</th>\n      <td>ВГУ</td>\n      <td>Колесников Борис</td>\n    </tr>\n    <tr>\n      <th>10</th>\n      <td>ВГУ</td>\n      <td>Никонов Иван</td>\n    </tr>\n    <tr>\n      <th>11</th>\n      <td>ВГУ</td>\n      <td>Николаев Виктор</td>\n    </tr>\n    <tr>\n      <th>12</th>\n      <td>ВГУ</td>\n      <td>Сорокин Андрей</td>\n    </tr>\n    <tr>\n      <th>13</th>\n      <td>КФУ</td>\n      <td>Куликова Ираида</td>\n    </tr>\n    <tr>\n      <th>14</th>\n      <td>КФУ</td>\n      <td>Кудрявцева Анна</td>\n    </tr>\n    <tr>\n      <th>15</th>\n      <td>МГТУ им. Баумана</td>\n      <td>Волков Михаил</td>\n    </tr>\n    <tr>\n      <th>16</th>\n      <td>МГУ</td>\n      <td>Лагутин Павел</td>\n    </tr>\n    <tr>\n      <th>17</th>\n      <td>МГУ</td>\n      <td>Струков Николай</td>\n    </tr>\n    <tr>\n      <th>18</th>\n      <td>НГУ</td>\n      <td>Мамонтова Акулина</td>\n    </tr>\n    <tr>\n      <th>19</th>\n      <td>РГУ</td>\n      <td>Дорофеев Прокофий</td>\n    </tr>\n    <tr>\n      <th>20</th>\n      <td>РГУ</td>\n      <td>Беляков Мефодий</td>\n    </tr>\n    <tr>\n      <th>21</th>\n      <td>ТГУ</td>\n      <td>Тихонов Ладомир</td>\n    </tr>\n    <tr>\n      <th>22</th>\n      <td>ТГУ</td>\n      <td>Беспалов Юлиан</td>\n    </tr>\n    <tr>\n      <th>23</th>\n      <td>УЛГУ</td>\n      <td>Брагина Нинель</td>\n    </tr>\n    <tr>\n      <th>24</th>\n      <td>УЛГУ</td>\n      <td>Дмитриева Оксана</td>\n    </tr>\n    <tr>\n      <th>25</th>\n      <td>УЛГУ</td>\n      <td>Елисеев Виссарион</td>\n    </tr>\n    <tr>\n      <th>26</th>\n      <td>ФГБОУ \"Политех\"</td>\n      <td>Сафонова Лукия</td>\n    </tr>\n    <tr>\n      <th>27</th>\n      <td>ФГБОУ \"Политех\"</td>\n      <td>Стрелков Руслан</td>\n    </tr>\n    <tr>\n      <th>28</th>\n      <td>ФГБОУ \"Политех\"</td>\n      <td>Зимин Юлиан</td>\n    </tr>\n  </tbody>\n</table>\n</div>"
     },
     "execution_count": 45,
     "metadata": {},
     "output_type": "execute_result"
    }
   ],
   "source": [
    "# 10. Напишите запрос для получения списка всех университетов вместе с фамилиями преподавателей, в них работающих. Отдельным запросом получите записи, расширяющие данный список по сравнению с тем, который был бы получен внутренним соединением.\n",
    "\n",
    "s = select(un.c.univ_name, le.c.surname + \" \" + le.c.name)\n",
    "s = s.join_from(un, le, le.c.univ_id==un.c.univ_id)\n",
    "s = s.order_by(un.c.univ_name)\n",
    "\n",
    "print(s)\n",
    "pd.read_sql(s, conn)"
   ],
   "metadata": {
    "collapsed": false,
    "pycharm": {
     "name": "#%%\n"
    }
   }
  },
  {
   "cell_type": "code",
   "execution_count": 46,
   "outputs": [
    {
     "name": "stdout",
     "output_type": "stream",
     "text": [
      "SELECT student_1.surname, university_1.univ_name \n",
      "FROM university AS university_1 LEFT OUTER JOIN student AS student_1 ON student_1.univ_id = university_1.univ_id \n",
      "WHERE NOT (EXISTS (SELECT university_2.univ_id \n",
      "FROM university AS university_2 JOIN student AS student_2 ON university_2.univ_id = student_2.univ_id \n",
      "WHERE university_2.univ_id = university_1.univ_id)) ORDER BY student_1.surname\n"
     ]
    },
    {
     "data": {
      "text/plain": "  surname univ_name\n0    None      МФТИ",
      "text/html": "<div>\n<style scoped>\n    .dataframe tbody tr th:only-of-type {\n        vertical-align: middle;\n    }\n\n    .dataframe tbody tr th {\n        vertical-align: top;\n    }\n\n    .dataframe thead th {\n        text-align: right;\n    }\n</style>\n<table border=\"1\" class=\"dataframe\">\n  <thead>\n    <tr style=\"text-align: right;\">\n      <th></th>\n      <th>surname</th>\n      <th>univ_name</th>\n    </tr>\n  </thead>\n  <tbody>\n    <tr>\n      <th>0</th>\n      <td>None</td>\n      <td>МФТИ</td>\n    </tr>\n  </tbody>\n</table>\n</div>"
     },
     "execution_count": 46,
     "metadata": {},
     "output_type": "execute_result"
    }
   ],
   "source": [
    "st2 = student.alias()\n",
    "un2 = university.alias()\n",
    "\n",
    "sq = select(un2.c.univ_id)\n",
    "sq = sq.join_from(un2, st2)\n",
    "sq = sq.where(un2.c.univ_id==un.c.univ_id).exists()\n",
    "\n",
    "s = select(st.c.surname, un.c.univ_name)\n",
    "s = s.outerjoin_from(un, st, st.c.univ_id==un.c.univ_id)\n",
    "s = s.where(~sq)\n",
    "s = s.order_by(st.c.surname)\n",
    "\n",
    "print(s)\n",
    "pd.read_sql(s, conn)"
   ],
   "metadata": {
    "collapsed": false,
    "pycharm": {
     "name": "#%%\n"
    }
   }
  },
  {
   "cell_type": "code",
   "execution_count": 47,
   "outputs": [
    {
     "name": "stdout",
     "output_type": "stream",
     "text": [
      "SELECT lecturer_1.surname || :surname_1 || lecturer_1.name AS \"lecture name\", university_1.univ_name \n",
      "FROM university AS university_1 JOIN lecturer AS lecturer_1 ON lecturer_1.univ_id = university_1.univ_id ORDER BY university_1.univ_name\n"
     ]
    },
    {
     "data": {
      "text/plain": "          lecture name         univ_name\n0     Богданова Оксана              ВГМА\n1   Ситникова Светлана              ВГМА\n2      Крюкова Людмила              ВГМА\n3       Артемьева Майя              ВГМА\n4      Сафонов Будимир              ВГМА\n5         Зайцева Юлия               ВГУ\n6     Максимова Иванна               ВГУ\n7        Зыкова Оксана               ВГУ\n8      Алексеев Елисей               ВГУ\n9     Колесников Борис               ВГУ\n10        Никонов Иван               ВГУ\n11     Николаев Виктор               ВГУ\n12      Сорокин Андрей               ВГУ\n13     Куликова Ираида               КФУ\n14     Кудрявцева Анна               КФУ\n15       Волков Михаил  МГТУ им. Баумана\n16       Лагутин Павел               МГУ\n17     Струков Николай               МГУ\n18   Мамонтова Акулина               НГУ\n19   Дорофеев Прокофий               РГУ\n20     Беляков Мефодий               РГУ\n21     Тихонов Ладомир               ТГУ\n22      Беспалов Юлиан               ТГУ\n23      Брагина Нинель              УЛГУ\n24    Дмитриева Оксана              УЛГУ\n25   Елисеев Виссарион              УЛГУ\n26      Сафонова Лукия   ФГБОУ \"Политех\"\n27     Стрелков Руслан   ФГБОУ \"Политех\"\n28         Зимин Юлиан   ФГБОУ \"Политех\"",
      "text/html": "<div>\n<style scoped>\n    .dataframe tbody tr th:only-of-type {\n        vertical-align: middle;\n    }\n\n    .dataframe tbody tr th {\n        vertical-align: top;\n    }\n\n    .dataframe thead th {\n        text-align: right;\n    }\n</style>\n<table border=\"1\" class=\"dataframe\">\n  <thead>\n    <tr style=\"text-align: right;\">\n      <th></th>\n      <th>lecture name</th>\n      <th>univ_name</th>\n    </tr>\n  </thead>\n  <tbody>\n    <tr>\n      <th>0</th>\n      <td>Богданова Оксана</td>\n      <td>ВГМА</td>\n    </tr>\n    <tr>\n      <th>1</th>\n      <td>Ситникова Светлана</td>\n      <td>ВГМА</td>\n    </tr>\n    <tr>\n      <th>2</th>\n      <td>Крюкова Людмила</td>\n      <td>ВГМА</td>\n    </tr>\n    <tr>\n      <th>3</th>\n      <td>Артемьева Майя</td>\n      <td>ВГМА</td>\n    </tr>\n    <tr>\n      <th>4</th>\n      <td>Сафонов Будимир</td>\n      <td>ВГМА</td>\n    </tr>\n    <tr>\n      <th>5</th>\n      <td>Зайцева Юлия</td>\n      <td>ВГУ</td>\n    </tr>\n    <tr>\n      <th>6</th>\n      <td>Максимова Иванна</td>\n      <td>ВГУ</td>\n    </tr>\n    <tr>\n      <th>7</th>\n      <td>Зыкова Оксана</td>\n      <td>ВГУ</td>\n    </tr>\n    <tr>\n      <th>8</th>\n      <td>Алексеев Елисей</td>\n      <td>ВГУ</td>\n    </tr>\n    <tr>\n      <th>9</th>\n      <td>Колесников Борис</td>\n      <td>ВГУ</td>\n    </tr>\n    <tr>\n      <th>10</th>\n      <td>Никонов Иван</td>\n      <td>ВГУ</td>\n    </tr>\n    <tr>\n      <th>11</th>\n      <td>Николаев Виктор</td>\n      <td>ВГУ</td>\n    </tr>\n    <tr>\n      <th>12</th>\n      <td>Сорокин Андрей</td>\n      <td>ВГУ</td>\n    </tr>\n    <tr>\n      <th>13</th>\n      <td>Куликова Ираида</td>\n      <td>КФУ</td>\n    </tr>\n    <tr>\n      <th>14</th>\n      <td>Кудрявцева Анна</td>\n      <td>КФУ</td>\n    </tr>\n    <tr>\n      <th>15</th>\n      <td>Волков Михаил</td>\n      <td>МГТУ им. Баумана</td>\n    </tr>\n    <tr>\n      <th>16</th>\n      <td>Лагутин Павел</td>\n      <td>МГУ</td>\n    </tr>\n    <tr>\n      <th>17</th>\n      <td>Струков Николай</td>\n      <td>МГУ</td>\n    </tr>\n    <tr>\n      <th>18</th>\n      <td>Мамонтова Акулина</td>\n      <td>НГУ</td>\n    </tr>\n    <tr>\n      <th>19</th>\n      <td>Дорофеев Прокофий</td>\n      <td>РГУ</td>\n    </tr>\n    <tr>\n      <th>20</th>\n      <td>Беляков Мефодий</td>\n      <td>РГУ</td>\n    </tr>\n    <tr>\n      <th>21</th>\n      <td>Тихонов Ладомир</td>\n      <td>ТГУ</td>\n    </tr>\n    <tr>\n      <th>22</th>\n      <td>Беспалов Юлиан</td>\n      <td>ТГУ</td>\n    </tr>\n    <tr>\n      <th>23</th>\n      <td>Брагина Нинель</td>\n      <td>УЛГУ</td>\n    </tr>\n    <tr>\n      <th>24</th>\n      <td>Дмитриева Оксана</td>\n      <td>УЛГУ</td>\n    </tr>\n    <tr>\n      <th>25</th>\n      <td>Елисеев Виссарион</td>\n      <td>УЛГУ</td>\n    </tr>\n    <tr>\n      <th>26</th>\n      <td>Сафонова Лукия</td>\n      <td>ФГБОУ \"Политех\"</td>\n    </tr>\n    <tr>\n      <th>27</th>\n      <td>Стрелков Руслан</td>\n      <td>ФГБОУ \"Политех\"</td>\n    </tr>\n    <tr>\n      <th>28</th>\n      <td>Зимин Юлиан</td>\n      <td>ФГБОУ \"Политех\"</td>\n    </tr>\n  </tbody>\n</table>\n</div>"
     },
     "execution_count": 47,
     "metadata": {},
     "output_type": "execute_result"
    }
   ],
   "source": [
    "# 11. Напишите запрос для получения списка всех преподавателей вместе с университетами, в которых они работают. Есть ли отличие списка от того, который был бы получен внутренним соединением? Подтвердите отдельным запросом ваш вывод.\n",
    "\n",
    "\n",
    "s = select((le.c.surname + \" \" + le.c.name).label('lecture name'), un.c.univ_name)\n",
    "s = s.join_from(un, le, le.c.univ_id==un.c.univ_id)\n",
    "s = s.order_by(un.c.univ_name)\n",
    "\n",
    "print(s)\n",
    "pd.read_sql(s, conn)"
   ],
   "metadata": {
    "collapsed": false,
    "pycharm": {
     "name": "#%%\n"
    }
   }
  },
  {
   "cell_type": "code",
   "execution_count": 48,
   "outputs": [
    {
     "name": "stdout",
     "output_type": "stream",
     "text": [
      "SELECT lecturer_1.surname || :surname_1 || lecturer_1.name AS \"lecture name\", university_1.univ_name \n",
      "FROM lecturer AS lecturer_1 LEFT OUTER JOIN university AS university_1 ON lecturer_1.univ_id = university_1.univ_id \n",
      "WHERE NOT (EXISTS (SELECT university_2.univ_id \n",
      "FROM university AS university_2 JOIN lecturer AS lecturer_2 ON lecturer_2.univ_id = university_2.univ_id \n",
      "WHERE university_2.univ_id = university_1.univ_id))\n"
     ]
    },
    {
     "data": {
      "text/plain": "Empty DataFrame\nColumns: [lecture name, univ_name]\nIndex: []",
      "text/html": "<div>\n<style scoped>\n    .dataframe tbody tr th:only-of-type {\n        vertical-align: middle;\n    }\n\n    .dataframe tbody tr th {\n        vertical-align: top;\n    }\n\n    .dataframe thead th {\n        text-align: right;\n    }\n</style>\n<table border=\"1\" class=\"dataframe\">\n  <thead>\n    <tr style=\"text-align: right;\">\n      <th></th>\n      <th>lecture name</th>\n      <th>univ_name</th>\n    </tr>\n  </thead>\n  <tbody>\n  </tbody>\n</table>\n</div>"
     },
     "execution_count": 48,
     "metadata": {},
     "output_type": "execute_result"
    }
   ],
   "source": [
    "un2 = university.alias()\n",
    "le2 = lecturer.alias()\n",
    "\n",
    "sq = select(un2.c.univ_id)\n",
    "sq = sq.join_from(un2, le2, le2.c.univ_id==un2.c.univ_id)\n",
    "sq = sq.where(un2.c.univ_id==un.c.univ_id).exists()\n",
    "\n",
    "s = select((le.c.surname+ \" \" + le.c.name).label('lecture name'), un.c.univ_name )\n",
    "s = s.outerjoin_from(le, un, le.c.univ_id==un.c.univ_id)\n",
    "s = s.where(~sq)\n",
    "\n",
    "print(s)\n",
    "pd.read_sql(s, conn)"
   ],
   "metadata": {
    "collapsed": false,
    "pycharm": {
     "name": "#%%\n"
    }
   }
  },
  {
   "cell_type": "code",
   "execution_count": 49,
   "outputs": [
    {
     "name": "stdout",
     "output_type": "stream",
     "text": [
      "SELECT student_1.surname || :surname_1 || student_1.name AS \"student name\", exam_marks_1.mark \n",
      "FROM student AS student_1 JOIN exam_marks AS exam_marks_1 ON student_1.student_id = exam_marks_1.student_id ORDER BY student_1.student_id\n"
     ]
    },
    {
     "data": {
      "text/plain": "           student name  mark\n0           Иванов Иван   1.0\n1         Сидоров Вадим   4.0\n2        Кузнецов Борис   5.0\n3         Зайцева Ольга   2.0\n4         Зайцева Ольга   5.0\n5     Ордуханян Рафаэль   2.0\n6           Котов Павел   4.0\n7          Белкин Вадим   5.0\n8          Белкин Вадим   NaN\n9     Семенова Вероника   4.0\n10            Пак Ирина   5.0\n11            Пак Ирина   4.0\n12            Пак Ирина   3.0\n13           Жук Оксана   4.0\n14       Сергеева Фёкла   1.0\n15      Кондрат Синицин   3.0\n16       Одинцова Лидия   1.0\n17     Мельникова Дарья   2.0\n18     Мельникова Дарья   2.0\n19      Мишина Светлана   1.0\n20  Афанасьева Анжелика   1.0\n21      Лапина Элеонора   5.0\n22       Сорокина Ирина   1.0\n23       Казакова Мария   4.0\n24       Казакова Мария   1.0\n25        Жданова Ирина   5.0\n26         Костина Кира   4.0\n27       Блохина Ираида   5.0\n28  Мельникова Светлана   5.0\n29  Мельникова Светлана   4.0\n30  Мельникова Светлана   3.0\n31     Вишнякова Анжела   1.0\n32      Борисова Марина   5.0\n33   Калашников Евгений   2.0\n34   Калашников Евгений   2.0\n35   Трофимов Владислав   2.0\n36     Антонов Анатолий   3.0\n37   Суханов Константин   1.0\n38    Федоров Гостомысл   1.0\n39   Лазарев Константин   4.0\n40        Веселов Тимур   2.0\n41           Жуков Пров   1.0\n42      Васильев Матвей   3.0\n43      Васильев Матвей   5.0\n44     Вячеслав Пахомов   2.0\n45    Петрова Екатерина   3.0\n46          Лукин Артем   4.0",
      "text/html": "<div>\n<style scoped>\n    .dataframe tbody tr th:only-of-type {\n        vertical-align: middle;\n    }\n\n    .dataframe tbody tr th {\n        vertical-align: top;\n    }\n\n    .dataframe thead th {\n        text-align: right;\n    }\n</style>\n<table border=\"1\" class=\"dataframe\">\n  <thead>\n    <tr style=\"text-align: right;\">\n      <th></th>\n      <th>student name</th>\n      <th>mark</th>\n    </tr>\n  </thead>\n  <tbody>\n    <tr>\n      <th>0</th>\n      <td>Иванов Иван</td>\n      <td>1.0</td>\n    </tr>\n    <tr>\n      <th>1</th>\n      <td>Сидоров Вадим</td>\n      <td>4.0</td>\n    </tr>\n    <tr>\n      <th>2</th>\n      <td>Кузнецов Борис</td>\n      <td>5.0</td>\n    </tr>\n    <tr>\n      <th>3</th>\n      <td>Зайцева Ольга</td>\n      <td>2.0</td>\n    </tr>\n    <tr>\n      <th>4</th>\n      <td>Зайцева Ольга</td>\n      <td>5.0</td>\n    </tr>\n    <tr>\n      <th>5</th>\n      <td>Ордуханян Рафаэль</td>\n      <td>2.0</td>\n    </tr>\n    <tr>\n      <th>6</th>\n      <td>Котов Павел</td>\n      <td>4.0</td>\n    </tr>\n    <tr>\n      <th>7</th>\n      <td>Белкин Вадим</td>\n      <td>5.0</td>\n    </tr>\n    <tr>\n      <th>8</th>\n      <td>Белкин Вадим</td>\n      <td>NaN</td>\n    </tr>\n    <tr>\n      <th>9</th>\n      <td>Семенова Вероника</td>\n      <td>4.0</td>\n    </tr>\n    <tr>\n      <th>10</th>\n      <td>Пак Ирина</td>\n      <td>5.0</td>\n    </tr>\n    <tr>\n      <th>11</th>\n      <td>Пак Ирина</td>\n      <td>4.0</td>\n    </tr>\n    <tr>\n      <th>12</th>\n      <td>Пак Ирина</td>\n      <td>3.0</td>\n    </tr>\n    <tr>\n      <th>13</th>\n      <td>Жук Оксана</td>\n      <td>4.0</td>\n    </tr>\n    <tr>\n      <th>14</th>\n      <td>Сергеева Фёкла</td>\n      <td>1.0</td>\n    </tr>\n    <tr>\n      <th>15</th>\n      <td>Кондрат Синицин</td>\n      <td>3.0</td>\n    </tr>\n    <tr>\n      <th>16</th>\n      <td>Одинцова Лидия</td>\n      <td>1.0</td>\n    </tr>\n    <tr>\n      <th>17</th>\n      <td>Мельникова Дарья</td>\n      <td>2.0</td>\n    </tr>\n    <tr>\n      <th>18</th>\n      <td>Мельникова Дарья</td>\n      <td>2.0</td>\n    </tr>\n    <tr>\n      <th>19</th>\n      <td>Мишина Светлана</td>\n      <td>1.0</td>\n    </tr>\n    <tr>\n      <th>20</th>\n      <td>Афанасьева Анжелика</td>\n      <td>1.0</td>\n    </tr>\n    <tr>\n      <th>21</th>\n      <td>Лапина Элеонора</td>\n      <td>5.0</td>\n    </tr>\n    <tr>\n      <th>22</th>\n      <td>Сорокина Ирина</td>\n      <td>1.0</td>\n    </tr>\n    <tr>\n      <th>23</th>\n      <td>Казакова Мария</td>\n      <td>4.0</td>\n    </tr>\n    <tr>\n      <th>24</th>\n      <td>Казакова Мария</td>\n      <td>1.0</td>\n    </tr>\n    <tr>\n      <th>25</th>\n      <td>Жданова Ирина</td>\n      <td>5.0</td>\n    </tr>\n    <tr>\n      <th>26</th>\n      <td>Костина Кира</td>\n      <td>4.0</td>\n    </tr>\n    <tr>\n      <th>27</th>\n      <td>Блохина Ираида</td>\n      <td>5.0</td>\n    </tr>\n    <tr>\n      <th>28</th>\n      <td>Мельникова Светлана</td>\n      <td>5.0</td>\n    </tr>\n    <tr>\n      <th>29</th>\n      <td>Мельникова Светлана</td>\n      <td>4.0</td>\n    </tr>\n    <tr>\n      <th>30</th>\n      <td>Мельникова Светлана</td>\n      <td>3.0</td>\n    </tr>\n    <tr>\n      <th>31</th>\n      <td>Вишнякова Анжела</td>\n      <td>1.0</td>\n    </tr>\n    <tr>\n      <th>32</th>\n      <td>Борисова Марина</td>\n      <td>5.0</td>\n    </tr>\n    <tr>\n      <th>33</th>\n      <td>Калашников Евгений</td>\n      <td>2.0</td>\n    </tr>\n    <tr>\n      <th>34</th>\n      <td>Калашников Евгений</td>\n      <td>2.0</td>\n    </tr>\n    <tr>\n      <th>35</th>\n      <td>Трофимов Владислав</td>\n      <td>2.0</td>\n    </tr>\n    <tr>\n      <th>36</th>\n      <td>Антонов Анатолий</td>\n      <td>3.0</td>\n    </tr>\n    <tr>\n      <th>37</th>\n      <td>Суханов Константин</td>\n      <td>1.0</td>\n    </tr>\n    <tr>\n      <th>38</th>\n      <td>Федоров Гостомысл</td>\n      <td>1.0</td>\n    </tr>\n    <tr>\n      <th>39</th>\n      <td>Лазарев Константин</td>\n      <td>4.0</td>\n    </tr>\n    <tr>\n      <th>40</th>\n      <td>Веселов Тимур</td>\n      <td>2.0</td>\n    </tr>\n    <tr>\n      <th>41</th>\n      <td>Жуков Пров</td>\n      <td>1.0</td>\n    </tr>\n    <tr>\n      <th>42</th>\n      <td>Васильев Матвей</td>\n      <td>3.0</td>\n    </tr>\n    <tr>\n      <th>43</th>\n      <td>Васильев Матвей</td>\n      <td>5.0</td>\n    </tr>\n    <tr>\n      <th>44</th>\n      <td>Вячеслав Пахомов</td>\n      <td>2.0</td>\n    </tr>\n    <tr>\n      <th>45</th>\n      <td>Петрова Екатерина</td>\n      <td>3.0</td>\n    </tr>\n    <tr>\n      <th>46</th>\n      <td>Лукин Артем</td>\n      <td>4.0</td>\n    </tr>\n  </tbody>\n</table>\n</div>"
     },
     "execution_count": 49,
     "metadata": {},
     "output_type": "execute_result"
    }
   ],
   "source": [
    "# 12. Напишите запрос для получения списка всех студентов и оценок, полученных ими на экзаменах. Отдельным запросом получите записи, расширяющие данный список по сравнению с тем, который был бы получен внутренним соединением.\n",
    "\n",
    "s = select((st.c.surname + \" \" + st.c.name).label('student name'), em.c.mark)\n",
    "s = s.join_from(st, em, st.c.student_id==em.c.student_id)\n",
    "s = s.order_by(st.c.student_id)\n",
    "\n",
    "print(s)\n",
    "pd.read_sql(s, conn)"
   ],
   "metadata": {
    "collapsed": false,
    "pycharm": {
     "name": "#%%\n"
    }
   }
  },
  {
   "cell_type": "code",
   "execution_count": 50,
   "outputs": [
    {
     "name": "stdout",
     "output_type": "stream",
     "text": [
      "SELECT student_1.student_id, student_1.surname || :surname_1 || student_1.name AS \"student name\", exam_marks_1.exam_id \n",
      "FROM student AS student_1 LEFT OUTER JOIN exam_marks AS exam_marks_1 ON student_1.student_id = exam_marks_1.student_id \n",
      "WHERE NOT (EXISTS (SELECT student_2.student_id \n",
      "FROM student AS student_2 JOIN exam_marks AS exam_marks_2 ON student_2.student_id = exam_marks_2.student_id \n",
      "WHERE student_2.student_id = student_1.student_id)) ORDER BY student_1.student_id\n"
     ]
    },
    {
     "data": {
      "text/plain": "    student_id          student name exam_id\n0            3           Петров Петр    None\n1           56         Дуб Елизавета    None\n2           57        Кудряшова Вера    None\n3           58        Журавлева Вера    None\n4           60       Рожкова Пелагея    None\n5           61           Соколова Ия    None\n6           66    Некрасова Вероника    None\n7           68        Казакова Ольга    None\n8           69          Шубина Елена    None\n9           70         Миронова Анна    None\n10          72      Пономарева Алина    None\n11          74       Гуляева Рукижат    None\n12          75      Игнатова Зинаида    None\n13          78      Агафонов Василий    None\n14          80      Фролова Василиса    None\n15          86          Жукова Фекла    None\n16          89   Валерия Овчинникова    None\n17          94      Васильева Оксана    None\n18          95      Сорокина Валерия    None\n19          96       Тимофеева Фаина    None\n20         104       Бирюков Герасим    None\n21         107        Морозов Кирилл    None\n22         108         Назаров Икром    None\n23         112         Захаров Софон    None\n24         113       Аксенов Валерий    None\n25         114         Панов Арсений    None\n26         118    Кондратьев Николай    None\n27         121     Воронова Антонина    None\n28         124            Юдин Савва    None\n29         125  Пономарев Варфоромей    None\n30         130        Кудряшов Роман    None\n31         131          Ковалев Ефим    None\n32         133        Жуковский Юрий    None\n33         135          Комаров Ипат    None\n34         136           Ефимов Яков    None\n35         137        Кулаков Феофан    None\n36         139         Журавлев Фома    None\n37         140         Ширяев Андрей    None\n38         141        Ершов Митрофан    None\n39         143        Бирюков Мартин    None\n40         144     Ситников Викентий    None\n41         146         Русаков Давид    None\n42         147         Симонов Семен    None\n43         148         Гуляев Кузьма    None\n44         200     Баранов Александр    None\n45         201        Архипов Андрей    None\n46         202   Владимиров Анатолий    None\n47         204          Петров Вадим    None\n48         205         Иванова Мария    None\n49         206      Киселев Владимир    None\n50         207        Миронова Федор    None\n51         265         Павлов Андрей    None\n52         276          Петров Антон    None",
      "text/html": "<div>\n<style scoped>\n    .dataframe tbody tr th:only-of-type {\n        vertical-align: middle;\n    }\n\n    .dataframe tbody tr th {\n        vertical-align: top;\n    }\n\n    .dataframe thead th {\n        text-align: right;\n    }\n</style>\n<table border=\"1\" class=\"dataframe\">\n  <thead>\n    <tr style=\"text-align: right;\">\n      <th></th>\n      <th>student_id</th>\n      <th>student name</th>\n      <th>exam_id</th>\n    </tr>\n  </thead>\n  <tbody>\n    <tr>\n      <th>0</th>\n      <td>3</td>\n      <td>Петров Петр</td>\n      <td>None</td>\n    </tr>\n    <tr>\n      <th>1</th>\n      <td>56</td>\n      <td>Дуб Елизавета</td>\n      <td>None</td>\n    </tr>\n    <tr>\n      <th>2</th>\n      <td>57</td>\n      <td>Кудряшова Вера</td>\n      <td>None</td>\n    </tr>\n    <tr>\n      <th>3</th>\n      <td>58</td>\n      <td>Журавлева Вера</td>\n      <td>None</td>\n    </tr>\n    <tr>\n      <th>4</th>\n      <td>60</td>\n      <td>Рожкова Пелагея</td>\n      <td>None</td>\n    </tr>\n    <tr>\n      <th>5</th>\n      <td>61</td>\n      <td>Соколова Ия</td>\n      <td>None</td>\n    </tr>\n    <tr>\n      <th>6</th>\n      <td>66</td>\n      <td>Некрасова Вероника</td>\n      <td>None</td>\n    </tr>\n    <tr>\n      <th>7</th>\n      <td>68</td>\n      <td>Казакова Ольга</td>\n      <td>None</td>\n    </tr>\n    <tr>\n      <th>8</th>\n      <td>69</td>\n      <td>Шубина Елена</td>\n      <td>None</td>\n    </tr>\n    <tr>\n      <th>9</th>\n      <td>70</td>\n      <td>Миронова Анна</td>\n      <td>None</td>\n    </tr>\n    <tr>\n      <th>10</th>\n      <td>72</td>\n      <td>Пономарева Алина</td>\n      <td>None</td>\n    </tr>\n    <tr>\n      <th>11</th>\n      <td>74</td>\n      <td>Гуляева Рукижат</td>\n      <td>None</td>\n    </tr>\n    <tr>\n      <th>12</th>\n      <td>75</td>\n      <td>Игнатова Зинаида</td>\n      <td>None</td>\n    </tr>\n    <tr>\n      <th>13</th>\n      <td>78</td>\n      <td>Агафонов Василий</td>\n      <td>None</td>\n    </tr>\n    <tr>\n      <th>14</th>\n      <td>80</td>\n      <td>Фролова Василиса</td>\n      <td>None</td>\n    </tr>\n    <tr>\n      <th>15</th>\n      <td>86</td>\n      <td>Жукова Фекла</td>\n      <td>None</td>\n    </tr>\n    <tr>\n      <th>16</th>\n      <td>89</td>\n      <td>Валерия Овчинникова</td>\n      <td>None</td>\n    </tr>\n    <tr>\n      <th>17</th>\n      <td>94</td>\n      <td>Васильева Оксана</td>\n      <td>None</td>\n    </tr>\n    <tr>\n      <th>18</th>\n      <td>95</td>\n      <td>Сорокина Валерия</td>\n      <td>None</td>\n    </tr>\n    <tr>\n      <th>19</th>\n      <td>96</td>\n      <td>Тимофеева Фаина</td>\n      <td>None</td>\n    </tr>\n    <tr>\n      <th>20</th>\n      <td>104</td>\n      <td>Бирюков Герасим</td>\n      <td>None</td>\n    </tr>\n    <tr>\n      <th>21</th>\n      <td>107</td>\n      <td>Морозов Кирилл</td>\n      <td>None</td>\n    </tr>\n    <tr>\n      <th>22</th>\n      <td>108</td>\n      <td>Назаров Икром</td>\n      <td>None</td>\n    </tr>\n    <tr>\n      <th>23</th>\n      <td>112</td>\n      <td>Захаров Софон</td>\n      <td>None</td>\n    </tr>\n    <tr>\n      <th>24</th>\n      <td>113</td>\n      <td>Аксенов Валерий</td>\n      <td>None</td>\n    </tr>\n    <tr>\n      <th>25</th>\n      <td>114</td>\n      <td>Панов Арсений</td>\n      <td>None</td>\n    </tr>\n    <tr>\n      <th>26</th>\n      <td>118</td>\n      <td>Кондратьев Николай</td>\n      <td>None</td>\n    </tr>\n    <tr>\n      <th>27</th>\n      <td>121</td>\n      <td>Воронова Антонина</td>\n      <td>None</td>\n    </tr>\n    <tr>\n      <th>28</th>\n      <td>124</td>\n      <td>Юдин Савва</td>\n      <td>None</td>\n    </tr>\n    <tr>\n      <th>29</th>\n      <td>125</td>\n      <td>Пономарев Варфоромей</td>\n      <td>None</td>\n    </tr>\n    <tr>\n      <th>30</th>\n      <td>130</td>\n      <td>Кудряшов Роман</td>\n      <td>None</td>\n    </tr>\n    <tr>\n      <th>31</th>\n      <td>131</td>\n      <td>Ковалев Ефим</td>\n      <td>None</td>\n    </tr>\n    <tr>\n      <th>32</th>\n      <td>133</td>\n      <td>Жуковский Юрий</td>\n      <td>None</td>\n    </tr>\n    <tr>\n      <th>33</th>\n      <td>135</td>\n      <td>Комаров Ипат</td>\n      <td>None</td>\n    </tr>\n    <tr>\n      <th>34</th>\n      <td>136</td>\n      <td>Ефимов Яков</td>\n      <td>None</td>\n    </tr>\n    <tr>\n      <th>35</th>\n      <td>137</td>\n      <td>Кулаков Феофан</td>\n      <td>None</td>\n    </tr>\n    <tr>\n      <th>36</th>\n      <td>139</td>\n      <td>Журавлев Фома</td>\n      <td>None</td>\n    </tr>\n    <tr>\n      <th>37</th>\n      <td>140</td>\n      <td>Ширяев Андрей</td>\n      <td>None</td>\n    </tr>\n    <tr>\n      <th>38</th>\n      <td>141</td>\n      <td>Ершов Митрофан</td>\n      <td>None</td>\n    </tr>\n    <tr>\n      <th>39</th>\n      <td>143</td>\n      <td>Бирюков Мартин</td>\n      <td>None</td>\n    </tr>\n    <tr>\n      <th>40</th>\n      <td>144</td>\n      <td>Ситников Викентий</td>\n      <td>None</td>\n    </tr>\n    <tr>\n      <th>41</th>\n      <td>146</td>\n      <td>Русаков Давид</td>\n      <td>None</td>\n    </tr>\n    <tr>\n      <th>42</th>\n      <td>147</td>\n      <td>Симонов Семен</td>\n      <td>None</td>\n    </tr>\n    <tr>\n      <th>43</th>\n      <td>148</td>\n      <td>Гуляев Кузьма</td>\n      <td>None</td>\n    </tr>\n    <tr>\n      <th>44</th>\n      <td>200</td>\n      <td>Баранов Александр</td>\n      <td>None</td>\n    </tr>\n    <tr>\n      <th>45</th>\n      <td>201</td>\n      <td>Архипов Андрей</td>\n      <td>None</td>\n    </tr>\n    <tr>\n      <th>46</th>\n      <td>202</td>\n      <td>Владимиров Анатолий</td>\n      <td>None</td>\n    </tr>\n    <tr>\n      <th>47</th>\n      <td>204</td>\n      <td>Петров Вадим</td>\n      <td>None</td>\n    </tr>\n    <tr>\n      <th>48</th>\n      <td>205</td>\n      <td>Иванова Мария</td>\n      <td>None</td>\n    </tr>\n    <tr>\n      <th>49</th>\n      <td>206</td>\n      <td>Киселев Владимир</td>\n      <td>None</td>\n    </tr>\n    <tr>\n      <th>50</th>\n      <td>207</td>\n      <td>Миронова Федор</td>\n      <td>None</td>\n    </tr>\n    <tr>\n      <th>51</th>\n      <td>265</td>\n      <td>Павлов Андрей</td>\n      <td>None</td>\n    </tr>\n    <tr>\n      <th>52</th>\n      <td>276</td>\n      <td>Петров Антон</td>\n      <td>None</td>\n    </tr>\n  </tbody>\n</table>\n</div>"
     },
     "execution_count": 50,
     "metadata": {},
     "output_type": "execute_result"
    }
   ],
   "source": [
    "st2 = student.alias()\n",
    "em2 = exam_marks.alias()\n",
    "\n",
    "sq = select(st2.c.student_id)\n",
    "sq = sq.join_from(st2, em2, st2.c.student_id==em2.c.student_id)\n",
    "sq = sq.where(st2.c.student_id==st.c.student_id).exists()\n",
    "\n",
    "s = select(st.c.student_id, (st.c.surname + \" \" + st.c.name).label('student name'), em.c.exam_id)\n",
    "s = s.outerjoin_from(st, em, st.c.student_id==em.c.student_id)\n",
    "s = s.where(~sq)\n",
    "s = s.order_by(st.c.student_id)\n",
    "\n",
    "print(s)\n",
    "pd.read_sql(s, conn)"
   ],
   "metadata": {
    "collapsed": false,
    "pycharm": {
     "name": "#%%\n"
    }
   }
  },
  {
   "cell_type": "code",
   "execution_count": 51,
   "outputs": [
    {
     "name": "stdout",
     "output_type": "stream",
     "text": [
      "SELECT exam_marks_1.exam_id, student_1.surname || :surname_1 || student_1.name AS \"student name\", exam_marks_1.mark, subject_1.subj_name \n",
      "FROM exam_marks AS exam_marks_1 JOIN student AS student_1 ON student_1.student_id = exam_marks_1.student_id JOIN subject AS subject_1 ON exam_marks_1.subj_id = subject_1.subj_id \n",
      "WHERE exam_marks_1.mark IS NOT NULL\n"
     ]
    },
    {
     "data": {
      "text/plain": "    exam_id         student name  mark  \\\n0         1     Вишнякова Анжела     1   \n1         2       Казакова Мария     4   \n2         3           Жук Оксана     4   \n3         4           Жуков Пров     1   \n4         5      Кондрат Синицин     3   \n5         6   Лазарев Константин     4   \n6         7  Афанасьева Анжелика     1   \n7         8    Федоров Гостомысл     1   \n8         9       Блохина Ираида     5   \n9        10   Суханов Константин     1   \n10       11     Мельникова Дарья     2   \n11       12        Жданова Ирина     5   \n12       13     Мельникова Дарья     2   \n13       14       Казакова Мария     1   \n14       15    Семенова Вероника     4   \n15       16  Мельникова Светлана     5   \n16       17      Борисова Марина     5   \n17       18   Калашников Евгений     2   \n18       19      Васильев Матвей     3   \n19       20    Петрова Екатерина     3   \n20       21        Веселов Тимур     2   \n21       22     Антонов Анатолий     3   \n22       23         Костина Кира     4   \n23       24   Калашников Евгений     2   \n24       25      Мишина Светлана     1   \n25       26       Сорокина Ирина     1   \n26       27      Васильев Матвей     5   \n27       28       Кузнецов Борис     5   \n28       29          Иванов Иван     1   \n29       30      Лапина Элеонора     5   \n30       31       Одинцова Лидия     1   \n31       32       Сергеева Фёкла     1   \n32       33   Трофимов Владислав     2   \n33       34          Котов Павел     4   \n34       43        Сидоров Вадим     4   \n35       75         Белкин Вадим     5   \n36       95     Вячеслав Пахомов     2   \n37      100    Ордуханян Рафаэль     2   \n38      101          Лукин Артем     4   \n39      102            Пак Ирина     5   \n40      103            Пак Ирина     4   \n41      104            Пак Ирина     3   \n42      105  Мельникова Светлана     4   \n43      106  Мельникова Светлана     3   \n44      145        Зайцева Ольга     2   \n45      238        Зайцева Ольга     5   \n\n                                   subj_name  \n0                                Информатика  \n1                                Физкультура  \n2                                Физкультура  \n3                                    История  \n4                                Информатика  \n5                                    История  \n6                              Анализ данных  \n7                              Анализ данных  \n8                                     Физика  \n9                                     Физика  \n10                                   История  \n11                                   История  \n12                             Анализ данных  \n13                                       ОБЖ  \n14                           Английский язык  \n15                               Информатика  \n16                           Английский язык  \n17                           Английский язык  \n18                               Физкультура  \n19                                Математика  \n20                                   История  \n21                               Информатика  \n22                                    Физика  \n23                                       ОБЖ  \n24                             Анализ данных  \n25                                    Физика  \n26                                       ОБЖ  \n27                             Анализ данных  \n28                                Математика  \n29                                   История  \n30   Программирование на языках Python и SQL  \n31                               Физкультура  \n32                                    Физика  \n33                               Информатика  \n34                                    Физика  \n35                               Информатика  \n36                                       ОБЖ  \n37                               Информатика  \n38   Программирование на языках Python и SQL  \n39   Программирование на языках Python и SQL  \n40                           Английский язык  \n41                               Физкультура  \n42  Обработка данных и моделирование в Excel  \n43                                   История  \n44                               Информатика  \n45                               Информатика  ",
      "text/html": "<div>\n<style scoped>\n    .dataframe tbody tr th:only-of-type {\n        vertical-align: middle;\n    }\n\n    .dataframe tbody tr th {\n        vertical-align: top;\n    }\n\n    .dataframe thead th {\n        text-align: right;\n    }\n</style>\n<table border=\"1\" class=\"dataframe\">\n  <thead>\n    <tr style=\"text-align: right;\">\n      <th></th>\n      <th>exam_id</th>\n      <th>student name</th>\n      <th>mark</th>\n      <th>subj_name</th>\n    </tr>\n  </thead>\n  <tbody>\n    <tr>\n      <th>0</th>\n      <td>1</td>\n      <td>Вишнякова Анжела</td>\n      <td>1</td>\n      <td>Информатика</td>\n    </tr>\n    <tr>\n      <th>1</th>\n      <td>2</td>\n      <td>Казакова Мария</td>\n      <td>4</td>\n      <td>Физкультура</td>\n    </tr>\n    <tr>\n      <th>2</th>\n      <td>3</td>\n      <td>Жук Оксана</td>\n      <td>4</td>\n      <td>Физкультура</td>\n    </tr>\n    <tr>\n      <th>3</th>\n      <td>4</td>\n      <td>Жуков Пров</td>\n      <td>1</td>\n      <td>История</td>\n    </tr>\n    <tr>\n      <th>4</th>\n      <td>5</td>\n      <td>Кондрат Синицин</td>\n      <td>3</td>\n      <td>Информатика</td>\n    </tr>\n    <tr>\n      <th>5</th>\n      <td>6</td>\n      <td>Лазарев Константин</td>\n      <td>4</td>\n      <td>История</td>\n    </tr>\n    <tr>\n      <th>6</th>\n      <td>7</td>\n      <td>Афанасьева Анжелика</td>\n      <td>1</td>\n      <td>Анализ данных</td>\n    </tr>\n    <tr>\n      <th>7</th>\n      <td>8</td>\n      <td>Федоров Гостомысл</td>\n      <td>1</td>\n      <td>Анализ данных</td>\n    </tr>\n    <tr>\n      <th>8</th>\n      <td>9</td>\n      <td>Блохина Ираида</td>\n      <td>5</td>\n      <td>Физика</td>\n    </tr>\n    <tr>\n      <th>9</th>\n      <td>10</td>\n      <td>Суханов Константин</td>\n      <td>1</td>\n      <td>Физика</td>\n    </tr>\n    <tr>\n      <th>10</th>\n      <td>11</td>\n      <td>Мельникова Дарья</td>\n      <td>2</td>\n      <td>История</td>\n    </tr>\n    <tr>\n      <th>11</th>\n      <td>12</td>\n      <td>Жданова Ирина</td>\n      <td>5</td>\n      <td>История</td>\n    </tr>\n    <tr>\n      <th>12</th>\n      <td>13</td>\n      <td>Мельникова Дарья</td>\n      <td>2</td>\n      <td>Анализ данных</td>\n    </tr>\n    <tr>\n      <th>13</th>\n      <td>14</td>\n      <td>Казакова Мария</td>\n      <td>1</td>\n      <td>ОБЖ</td>\n    </tr>\n    <tr>\n      <th>14</th>\n      <td>15</td>\n      <td>Семенова Вероника</td>\n      <td>4</td>\n      <td>Английский язык</td>\n    </tr>\n    <tr>\n      <th>15</th>\n      <td>16</td>\n      <td>Мельникова Светлана</td>\n      <td>5</td>\n      <td>Информатика</td>\n    </tr>\n    <tr>\n      <th>16</th>\n      <td>17</td>\n      <td>Борисова Марина</td>\n      <td>5</td>\n      <td>Английский язык</td>\n    </tr>\n    <tr>\n      <th>17</th>\n      <td>18</td>\n      <td>Калашников Евгений</td>\n      <td>2</td>\n      <td>Английский язык</td>\n    </tr>\n    <tr>\n      <th>18</th>\n      <td>19</td>\n      <td>Васильев Матвей</td>\n      <td>3</td>\n      <td>Физкультура</td>\n    </tr>\n    <tr>\n      <th>19</th>\n      <td>20</td>\n      <td>Петрова Екатерина</td>\n      <td>3</td>\n      <td>Математика</td>\n    </tr>\n    <tr>\n      <th>20</th>\n      <td>21</td>\n      <td>Веселов Тимур</td>\n      <td>2</td>\n      <td>История</td>\n    </tr>\n    <tr>\n      <th>21</th>\n      <td>22</td>\n      <td>Антонов Анатолий</td>\n      <td>3</td>\n      <td>Информатика</td>\n    </tr>\n    <tr>\n      <th>22</th>\n      <td>23</td>\n      <td>Костина Кира</td>\n      <td>4</td>\n      <td>Физика</td>\n    </tr>\n    <tr>\n      <th>23</th>\n      <td>24</td>\n      <td>Калашников Евгений</td>\n      <td>2</td>\n      <td>ОБЖ</td>\n    </tr>\n    <tr>\n      <th>24</th>\n      <td>25</td>\n      <td>Мишина Светлана</td>\n      <td>1</td>\n      <td>Анализ данных</td>\n    </tr>\n    <tr>\n      <th>25</th>\n      <td>26</td>\n      <td>Сорокина Ирина</td>\n      <td>1</td>\n      <td>Физика</td>\n    </tr>\n    <tr>\n      <th>26</th>\n      <td>27</td>\n      <td>Васильев Матвей</td>\n      <td>5</td>\n      <td>ОБЖ</td>\n    </tr>\n    <tr>\n      <th>27</th>\n      <td>28</td>\n      <td>Кузнецов Борис</td>\n      <td>5</td>\n      <td>Анализ данных</td>\n    </tr>\n    <tr>\n      <th>28</th>\n      <td>29</td>\n      <td>Иванов Иван</td>\n      <td>1</td>\n      <td>Математика</td>\n    </tr>\n    <tr>\n      <th>29</th>\n      <td>30</td>\n      <td>Лапина Элеонора</td>\n      <td>5</td>\n      <td>История</td>\n    </tr>\n    <tr>\n      <th>30</th>\n      <td>31</td>\n      <td>Одинцова Лидия</td>\n      <td>1</td>\n      <td>Программирование на языках Python и SQL</td>\n    </tr>\n    <tr>\n      <th>31</th>\n      <td>32</td>\n      <td>Сергеева Фёкла</td>\n      <td>1</td>\n      <td>Физкультура</td>\n    </tr>\n    <tr>\n      <th>32</th>\n      <td>33</td>\n      <td>Трофимов Владислав</td>\n      <td>2</td>\n      <td>Физика</td>\n    </tr>\n    <tr>\n      <th>33</th>\n      <td>34</td>\n      <td>Котов Павел</td>\n      <td>4</td>\n      <td>Информатика</td>\n    </tr>\n    <tr>\n      <th>34</th>\n      <td>43</td>\n      <td>Сидоров Вадим</td>\n      <td>4</td>\n      <td>Физика</td>\n    </tr>\n    <tr>\n      <th>35</th>\n      <td>75</td>\n      <td>Белкин Вадим</td>\n      <td>5</td>\n      <td>Информатика</td>\n    </tr>\n    <tr>\n      <th>36</th>\n      <td>95</td>\n      <td>Вячеслав Пахомов</td>\n      <td>2</td>\n      <td>ОБЖ</td>\n    </tr>\n    <tr>\n      <th>37</th>\n      <td>100</td>\n      <td>Ордуханян Рафаэль</td>\n      <td>2</td>\n      <td>Информатика</td>\n    </tr>\n    <tr>\n      <th>38</th>\n      <td>101</td>\n      <td>Лукин Артем</td>\n      <td>4</td>\n      <td>Программирование на языках Python и SQL</td>\n    </tr>\n    <tr>\n      <th>39</th>\n      <td>102</td>\n      <td>Пак Ирина</td>\n      <td>5</td>\n      <td>Программирование на языках Python и SQL</td>\n    </tr>\n    <tr>\n      <th>40</th>\n      <td>103</td>\n      <td>Пак Ирина</td>\n      <td>4</td>\n      <td>Английский язык</td>\n    </tr>\n    <tr>\n      <th>41</th>\n      <td>104</td>\n      <td>Пак Ирина</td>\n      <td>3</td>\n      <td>Физкультура</td>\n    </tr>\n    <tr>\n      <th>42</th>\n      <td>105</td>\n      <td>Мельникова Светлана</td>\n      <td>4</td>\n      <td>Обработка данных и моделирование в Excel</td>\n    </tr>\n    <tr>\n      <th>43</th>\n      <td>106</td>\n      <td>Мельникова Светлана</td>\n      <td>3</td>\n      <td>История</td>\n    </tr>\n    <tr>\n      <th>44</th>\n      <td>145</td>\n      <td>Зайцева Ольга</td>\n      <td>2</td>\n      <td>Информатика</td>\n    </tr>\n    <tr>\n      <th>45</th>\n      <td>238</td>\n      <td>Зайцева Ольга</td>\n      <td>5</td>\n      <td>Информатика</td>\n    </tr>\n  </tbody>\n</table>\n</div>"
     },
     "execution_count": 51,
     "metadata": {},
     "output_type": "execute_result"
    }
   ],
   "source": [
    "# 13. Напишите запрос для получения списка всех экзаменационных оценок вместе с фамилиями получивших их студентов. Есть ли отличие списка от того, который был бы получен внутренним соединением? Подтвердите отдельным запросом ваш вывод.\n",
    "\n",
    "s = select(em.c.exam_id, (st.c.surname + \" \" + st.c.name).label('student name'), em.c.mark, su.c.subj_name)\n",
    "s = s.join_from(em, st, st.c.student_id==em.c.student_id)\n",
    "s = s.join_from(em, su, em.c.subj_id==su.c.subj_id)\n",
    "s = s.where(em.c.mark.is_not(None))\n",
    "\n",
    "print(s)\n",
    "pd.read_sql(s, conn)"
   ],
   "metadata": {
    "collapsed": false,
    "pycharm": {
     "name": "#%%\n"
    }
   }
  },
  {
   "cell_type": "code",
   "execution_count": 52,
   "outputs": [
    {
     "name": "stdout",
     "output_type": "stream",
     "text": [
      "SELECT exam_marks_1.exam_id, student_1.surname || :surname_1 || student_1.name AS \"student name\", exam_marks_1.mark, subject_1.subj_name \n",
      "FROM exam_marks AS exam_marks_1 LEFT OUTER JOIN student AS student_1 ON student_1.student_id = exam_marks_1.student_id JOIN subject AS subject_1 ON exam_marks_1.subj_id = subject_1.subj_id \n",
      "WHERE exam_marks_1.mark IS NOT NULL AND NOT (EXISTS (SELECT exam_marks_2.exam_id \n",
      "FROM exam_marks AS exam_marks_2 JOIN student AS student_2 ON student_2.student_id = exam_marks_2.student_id \n",
      "WHERE exam_marks_2.exam_id = exam_marks_1.exam_id))\n"
     ]
    },
    {
     "data": {
      "text/plain": "Empty DataFrame\nColumns: [exam_id, student name, mark, subj_name]\nIndex: []",
      "text/html": "<div>\n<style scoped>\n    .dataframe tbody tr th:only-of-type {\n        vertical-align: middle;\n    }\n\n    .dataframe tbody tr th {\n        vertical-align: top;\n    }\n\n    .dataframe thead th {\n        text-align: right;\n    }\n</style>\n<table border=\"1\" class=\"dataframe\">\n  <thead>\n    <tr style=\"text-align: right;\">\n      <th></th>\n      <th>exam_id</th>\n      <th>student name</th>\n      <th>mark</th>\n      <th>subj_name</th>\n    </tr>\n  </thead>\n  <tbody>\n  </tbody>\n</table>\n</div>"
     },
     "execution_count": 52,
     "metadata": {},
     "output_type": "execute_result"
    }
   ],
   "source": [
    "st2 = student.alias()\n",
    "em2 = exam_marks.alias()\n",
    "\n",
    "sq = select(em2.c.exam_id)\n",
    "sq = sq.join_from(em2, st2, st2.c.student_id==em2.c.student_id)\n",
    "sq = sq.where(em2.c.exam_id==em.c.exam_id).exists()\n",
    "\n",
    "s = select(em.c.exam_id, (st.c.surname + \" \" + st.c.name).label('student name'), em.c.mark, su.c.subj_name)\n",
    "s = s.outerjoin_from(em, st, st.c.student_id==em.c.student_id)\n",
    "s = s.join_from(em, su, em.c.subj_id==su.c.subj_id)\n",
    "s = s.where(em.c.mark.is_not(None))\n",
    "s = s.where(~sq)\n",
    "\n",
    "print(s)\n",
    "pd.read_sql(s, conn)"
   ],
   "metadata": {
    "collapsed": false,
    "pycharm": {
     "name": "#%%\n"
    }
   }
  },
  {
   "cell_type": "code",
   "execution_count": 53,
   "outputs": [
    {
     "name": "stdout",
     "output_type": "stream",
     "text": [
      "SELECT subject_1.subj_id, subject_1.subj_name, exam_marks_1.exam_id, exam_marks_1.mark \n",
      "FROM subject AS subject_1 JOIN exam_marks AS exam_marks_1 ON subject_1.subj_id = exam_marks_1.subj_id\n"
     ]
    },
    {
     "data": {
      "text/plain": "    subj_id                                 subj_name  exam_id  mark\n0        10                               Информатика        1   1.0\n1        73                               Физкультура        2   4.0\n2        73                               Физкультура        3   4.0\n3        56                                   История        4   1.0\n4        10                               Информатика        5   3.0\n5        56                                   История        6   4.0\n6        12                             Анализ данных        7   1.0\n7        12                             Анализ данных        8   1.0\n8        22                                    Физика        9   5.0\n9        22                                    Физика       10   1.0\n10       56                                   История       11   2.0\n11       56                                   История       12   5.0\n12       12                             Анализ данных       13   2.0\n13       13                                       ОБЖ       14   1.0\n14       94                           Английский язык       15   4.0\n15       10                               Информатика       16   5.0\n16       94                           Английский язык       17   5.0\n17       94                           Английский язык       18   2.0\n18       73                               Физкультура       19   3.0\n19       43                                Математика       20   3.0\n20       56                                   История       21   2.0\n21       10                               Информатика       22   3.0\n22       22                                    Физика       23   4.0\n23       13                                       ОБЖ       24   2.0\n24       12                             Анализ данных       25   1.0\n25       22                                    Физика       26   1.0\n26       13                                       ОБЖ       27   5.0\n27       12                             Анализ данных       28   5.0\n28       43                                Математика       29   1.0\n29       56                                   История       30   5.0\n30       11   Программирование на языках Python и SQL       31   1.0\n31       73                               Физкультура       32   1.0\n32       22                                    Физика       33   2.0\n33       10                               Информатика       34   4.0\n34       22                                    Физика       43   4.0\n35       10                               Информатика       75   5.0\n36       13                                       ОБЖ       95   2.0\n37       10                               Информатика      100   2.0\n38       11   Программирование на языках Python и SQL      101   4.0\n39       11   Программирование на языках Python и SQL      102   5.0\n40       94                           Английский язык      103   4.0\n41       73                               Физкультура      104   3.0\n42       14  Обработка данных и моделирование в Excel      105   4.0\n43       56                                   История      106   3.0\n44       10                               Информатика      145   2.0\n45       10                               Информатика      238   5.0\n46       10                               Информатика      639   NaN",
      "text/html": "<div>\n<style scoped>\n    .dataframe tbody tr th:only-of-type {\n        vertical-align: middle;\n    }\n\n    .dataframe tbody tr th {\n        vertical-align: top;\n    }\n\n    .dataframe thead th {\n        text-align: right;\n    }\n</style>\n<table border=\"1\" class=\"dataframe\">\n  <thead>\n    <tr style=\"text-align: right;\">\n      <th></th>\n      <th>subj_id</th>\n      <th>subj_name</th>\n      <th>exam_id</th>\n      <th>mark</th>\n    </tr>\n  </thead>\n  <tbody>\n    <tr>\n      <th>0</th>\n      <td>10</td>\n      <td>Информатика</td>\n      <td>1</td>\n      <td>1.0</td>\n    </tr>\n    <tr>\n      <th>1</th>\n      <td>73</td>\n      <td>Физкультура</td>\n      <td>2</td>\n      <td>4.0</td>\n    </tr>\n    <tr>\n      <th>2</th>\n      <td>73</td>\n      <td>Физкультура</td>\n      <td>3</td>\n      <td>4.0</td>\n    </tr>\n    <tr>\n      <th>3</th>\n      <td>56</td>\n      <td>История</td>\n      <td>4</td>\n      <td>1.0</td>\n    </tr>\n    <tr>\n      <th>4</th>\n      <td>10</td>\n      <td>Информатика</td>\n      <td>5</td>\n      <td>3.0</td>\n    </tr>\n    <tr>\n      <th>5</th>\n      <td>56</td>\n      <td>История</td>\n      <td>6</td>\n      <td>4.0</td>\n    </tr>\n    <tr>\n      <th>6</th>\n      <td>12</td>\n      <td>Анализ данных</td>\n      <td>7</td>\n      <td>1.0</td>\n    </tr>\n    <tr>\n      <th>7</th>\n      <td>12</td>\n      <td>Анализ данных</td>\n      <td>8</td>\n      <td>1.0</td>\n    </tr>\n    <tr>\n      <th>8</th>\n      <td>22</td>\n      <td>Физика</td>\n      <td>9</td>\n      <td>5.0</td>\n    </tr>\n    <tr>\n      <th>9</th>\n      <td>22</td>\n      <td>Физика</td>\n      <td>10</td>\n      <td>1.0</td>\n    </tr>\n    <tr>\n      <th>10</th>\n      <td>56</td>\n      <td>История</td>\n      <td>11</td>\n      <td>2.0</td>\n    </tr>\n    <tr>\n      <th>11</th>\n      <td>56</td>\n      <td>История</td>\n      <td>12</td>\n      <td>5.0</td>\n    </tr>\n    <tr>\n      <th>12</th>\n      <td>12</td>\n      <td>Анализ данных</td>\n      <td>13</td>\n      <td>2.0</td>\n    </tr>\n    <tr>\n      <th>13</th>\n      <td>13</td>\n      <td>ОБЖ</td>\n      <td>14</td>\n      <td>1.0</td>\n    </tr>\n    <tr>\n      <th>14</th>\n      <td>94</td>\n      <td>Английский язык</td>\n      <td>15</td>\n      <td>4.0</td>\n    </tr>\n    <tr>\n      <th>15</th>\n      <td>10</td>\n      <td>Информатика</td>\n      <td>16</td>\n      <td>5.0</td>\n    </tr>\n    <tr>\n      <th>16</th>\n      <td>94</td>\n      <td>Английский язык</td>\n      <td>17</td>\n      <td>5.0</td>\n    </tr>\n    <tr>\n      <th>17</th>\n      <td>94</td>\n      <td>Английский язык</td>\n      <td>18</td>\n      <td>2.0</td>\n    </tr>\n    <tr>\n      <th>18</th>\n      <td>73</td>\n      <td>Физкультура</td>\n      <td>19</td>\n      <td>3.0</td>\n    </tr>\n    <tr>\n      <th>19</th>\n      <td>43</td>\n      <td>Математика</td>\n      <td>20</td>\n      <td>3.0</td>\n    </tr>\n    <tr>\n      <th>20</th>\n      <td>56</td>\n      <td>История</td>\n      <td>21</td>\n      <td>2.0</td>\n    </tr>\n    <tr>\n      <th>21</th>\n      <td>10</td>\n      <td>Информатика</td>\n      <td>22</td>\n      <td>3.0</td>\n    </tr>\n    <tr>\n      <th>22</th>\n      <td>22</td>\n      <td>Физика</td>\n      <td>23</td>\n      <td>4.0</td>\n    </tr>\n    <tr>\n      <th>23</th>\n      <td>13</td>\n      <td>ОБЖ</td>\n      <td>24</td>\n      <td>2.0</td>\n    </tr>\n    <tr>\n      <th>24</th>\n      <td>12</td>\n      <td>Анализ данных</td>\n      <td>25</td>\n      <td>1.0</td>\n    </tr>\n    <tr>\n      <th>25</th>\n      <td>22</td>\n      <td>Физика</td>\n      <td>26</td>\n      <td>1.0</td>\n    </tr>\n    <tr>\n      <th>26</th>\n      <td>13</td>\n      <td>ОБЖ</td>\n      <td>27</td>\n      <td>5.0</td>\n    </tr>\n    <tr>\n      <th>27</th>\n      <td>12</td>\n      <td>Анализ данных</td>\n      <td>28</td>\n      <td>5.0</td>\n    </tr>\n    <tr>\n      <th>28</th>\n      <td>43</td>\n      <td>Математика</td>\n      <td>29</td>\n      <td>1.0</td>\n    </tr>\n    <tr>\n      <th>29</th>\n      <td>56</td>\n      <td>История</td>\n      <td>30</td>\n      <td>5.0</td>\n    </tr>\n    <tr>\n      <th>30</th>\n      <td>11</td>\n      <td>Программирование на языках Python и SQL</td>\n      <td>31</td>\n      <td>1.0</td>\n    </tr>\n    <tr>\n      <th>31</th>\n      <td>73</td>\n      <td>Физкультура</td>\n      <td>32</td>\n      <td>1.0</td>\n    </tr>\n    <tr>\n      <th>32</th>\n      <td>22</td>\n      <td>Физика</td>\n      <td>33</td>\n      <td>2.0</td>\n    </tr>\n    <tr>\n      <th>33</th>\n      <td>10</td>\n      <td>Информатика</td>\n      <td>34</td>\n      <td>4.0</td>\n    </tr>\n    <tr>\n      <th>34</th>\n      <td>22</td>\n      <td>Физика</td>\n      <td>43</td>\n      <td>4.0</td>\n    </tr>\n    <tr>\n      <th>35</th>\n      <td>10</td>\n      <td>Информатика</td>\n      <td>75</td>\n      <td>5.0</td>\n    </tr>\n    <tr>\n      <th>36</th>\n      <td>13</td>\n      <td>ОБЖ</td>\n      <td>95</td>\n      <td>2.0</td>\n    </tr>\n    <tr>\n      <th>37</th>\n      <td>10</td>\n      <td>Информатика</td>\n      <td>100</td>\n      <td>2.0</td>\n    </tr>\n    <tr>\n      <th>38</th>\n      <td>11</td>\n      <td>Программирование на языках Python и SQL</td>\n      <td>101</td>\n      <td>4.0</td>\n    </tr>\n    <tr>\n      <th>39</th>\n      <td>11</td>\n      <td>Программирование на языках Python и SQL</td>\n      <td>102</td>\n      <td>5.0</td>\n    </tr>\n    <tr>\n      <th>40</th>\n      <td>94</td>\n      <td>Английский язык</td>\n      <td>103</td>\n      <td>4.0</td>\n    </tr>\n    <tr>\n      <th>41</th>\n      <td>73</td>\n      <td>Физкультура</td>\n      <td>104</td>\n      <td>3.0</td>\n    </tr>\n    <tr>\n      <th>42</th>\n      <td>14</td>\n      <td>Обработка данных и моделирование в Excel</td>\n      <td>105</td>\n      <td>4.0</td>\n    </tr>\n    <tr>\n      <th>43</th>\n      <td>56</td>\n      <td>История</td>\n      <td>106</td>\n      <td>3.0</td>\n    </tr>\n    <tr>\n      <th>44</th>\n      <td>10</td>\n      <td>Информатика</td>\n      <td>145</td>\n      <td>2.0</td>\n    </tr>\n    <tr>\n      <th>45</th>\n      <td>10</td>\n      <td>Информатика</td>\n      <td>238</td>\n      <td>5.0</td>\n    </tr>\n    <tr>\n      <th>46</th>\n      <td>10</td>\n      <td>Информатика</td>\n      <td>639</td>\n      <td>NaN</td>\n    </tr>\n  </tbody>\n</table>\n</div>"
     },
     "execution_count": 53,
     "metadata": {},
     "output_type": "execute_result"
    }
   ],
   "source": [
    "# 14. Напишите запрос для получения полного списка предметов с соответствующими экзаменационными оценками. Есть ли отличие списка от того, который был бы получен внутренним соединением? Подтвердите отдельным запросом ваш вывод.\n",
    "\n",
    "s = select(su.c.subj_id, su.c.subj_name, em.c.exam_id, em.c.mark)\n",
    "s = s.join_from(su, em, su.c.subj_id==em.c.subj_id)\n",
    "\n",
    "print(s)\n",
    "pd.read_sql(s, conn)"
   ],
   "metadata": {
    "collapsed": false,
    "pycharm": {
     "name": "#%%\n"
    }
   }
  },
  {
   "cell_type": "code",
   "execution_count": 54,
   "outputs": [
    {
     "name": "stdout",
     "output_type": "stream",
     "text": [
      "SELECT subject_1.subj_id, subject_1.subj_name, exam_marks_1.exam_id, exam_marks_1.mark \n",
      "FROM subject AS subject_1 LEFT OUTER JOIN exam_marks AS exam_marks_1 ON subject_1.subj_id = exam_marks_1.subj_id \n",
      "WHERE NOT (EXISTS (SELECT subject_2.subj_id \n",
      "FROM subject AS subject_2 JOIN exam_marks AS exam_marks_2 ON subject_2.subj_id = exam_marks_2.subj_id \n",
      "WHERE subject_2.subj_id = subject_1.subj_id))\n"
     ]
    },
    {
     "data": {
      "text/plain": "   subj_id                                        subj_name exam_id  mark\n0       23  Теория вероятностей и математическая статистика    None  None\n1       72                                      Физкультура    None  None",
      "text/html": "<div>\n<style scoped>\n    .dataframe tbody tr th:only-of-type {\n        vertical-align: middle;\n    }\n\n    .dataframe tbody tr th {\n        vertical-align: top;\n    }\n\n    .dataframe thead th {\n        text-align: right;\n    }\n</style>\n<table border=\"1\" class=\"dataframe\">\n  <thead>\n    <tr style=\"text-align: right;\">\n      <th></th>\n      <th>subj_id</th>\n      <th>subj_name</th>\n      <th>exam_id</th>\n      <th>mark</th>\n    </tr>\n  </thead>\n  <tbody>\n    <tr>\n      <th>0</th>\n      <td>23</td>\n      <td>Теория вероятностей и математическая статистика</td>\n      <td>None</td>\n      <td>None</td>\n    </tr>\n    <tr>\n      <th>1</th>\n      <td>72</td>\n      <td>Физкультура</td>\n      <td>None</td>\n      <td>None</td>\n    </tr>\n  </tbody>\n</table>\n</div>"
     },
     "execution_count": 54,
     "metadata": {},
     "output_type": "execute_result"
    }
   ],
   "source": [
    "su2 = subject.alias()\n",
    "em2 = exam_marks.alias()\n",
    "\n",
    "sq = select(su2.c.subj_id)\n",
    "sq = sq.join_from(su2, em2, su2.c.subj_id==em2.c.subj_id)\n",
    "sq = sq.where(su2.c.subj_id==su.c.subj_id).exists()\n",
    "\n",
    "s = select(su.c.subj_id, su.c.subj_name, em.c.exam_id, em.c.mark)\n",
    "s = s.outerjoin_from(su, em, su.c.subj_id==em.c.subj_id)\n",
    "s = s.where(~sq)\n",
    "\n",
    "print(s)\n",
    "pd.read_sql(s, conn)"
   ],
   "metadata": {
    "collapsed": false,
    "pycharm": {
     "name": "#%%\n"
    }
   }
  },
  {
   "cell_type": "code",
   "execution_count": 55,
   "outputs": [
    {
     "name": "stdout",
     "output_type": "stream",
     "text": [
      "SELECT exam_marks_1.exam_id, exam_marks_1.mark, subject_1.subj_id, subject_1.subj_name \n",
      "FROM exam_marks AS exam_marks_1 JOIN subject AS subject_1 ON exam_marks_1.subj_id = subject_1.subj_id \n",
      "WHERE exam_marks_1.mark IS NOT NULL\n"
     ]
    },
    {
     "data": {
      "text/plain": "    exam_id  mark  subj_id                                 subj_name\n0         1     1       10                               Информатика\n1         2     4       73                               Физкультура\n2         3     4       73                               Физкультура\n3         4     1       56                                   История\n4         5     3       10                               Информатика\n5         6     4       56                                   История\n6         7     1       12                             Анализ данных\n7         8     1       12                             Анализ данных\n8         9     5       22                                    Физика\n9        10     1       22                                    Физика\n10       11     2       56                                   История\n11       12     5       56                                   История\n12       13     2       12                             Анализ данных\n13       14     1       13                                       ОБЖ\n14       15     4       94                           Английский язык\n15       16     5       10                               Информатика\n16       17     5       94                           Английский язык\n17       18     2       94                           Английский язык\n18       19     3       73                               Физкультура\n19       20     3       43                                Математика\n20       21     2       56                                   История\n21       22     3       10                               Информатика\n22       23     4       22                                    Физика\n23       24     2       13                                       ОБЖ\n24       25     1       12                             Анализ данных\n25       26     1       22                                    Физика\n26       27     5       13                                       ОБЖ\n27       28     5       12                             Анализ данных\n28       29     1       43                                Математика\n29       30     5       56                                   История\n30       31     1       11   Программирование на языках Python и SQL\n31       32     1       73                               Физкультура\n32       33     2       22                                    Физика\n33       34     4       10                               Информатика\n34       43     4       22                                    Физика\n35       75     5       10                               Информатика\n36       95     2       13                                       ОБЖ\n37      100     2       10                               Информатика\n38      101     4       11   Программирование на языках Python и SQL\n39      102     5       11   Программирование на языках Python и SQL\n40      103     4       94                           Английский язык\n41      104     3       73                               Физкультура\n42      105     4       14  Обработка данных и моделирование в Excel\n43      106     3       56                                   История\n44      145     2       10                               Информатика\n45      238     5       10                               Информатика",
      "text/html": "<div>\n<style scoped>\n    .dataframe tbody tr th:only-of-type {\n        vertical-align: middle;\n    }\n\n    .dataframe tbody tr th {\n        vertical-align: top;\n    }\n\n    .dataframe thead th {\n        text-align: right;\n    }\n</style>\n<table border=\"1\" class=\"dataframe\">\n  <thead>\n    <tr style=\"text-align: right;\">\n      <th></th>\n      <th>exam_id</th>\n      <th>mark</th>\n      <th>subj_id</th>\n      <th>subj_name</th>\n    </tr>\n  </thead>\n  <tbody>\n    <tr>\n      <th>0</th>\n      <td>1</td>\n      <td>1</td>\n      <td>10</td>\n      <td>Информатика</td>\n    </tr>\n    <tr>\n      <th>1</th>\n      <td>2</td>\n      <td>4</td>\n      <td>73</td>\n      <td>Физкультура</td>\n    </tr>\n    <tr>\n      <th>2</th>\n      <td>3</td>\n      <td>4</td>\n      <td>73</td>\n      <td>Физкультура</td>\n    </tr>\n    <tr>\n      <th>3</th>\n      <td>4</td>\n      <td>1</td>\n      <td>56</td>\n      <td>История</td>\n    </tr>\n    <tr>\n      <th>4</th>\n      <td>5</td>\n      <td>3</td>\n      <td>10</td>\n      <td>Информатика</td>\n    </tr>\n    <tr>\n      <th>5</th>\n      <td>6</td>\n      <td>4</td>\n      <td>56</td>\n      <td>История</td>\n    </tr>\n    <tr>\n      <th>6</th>\n      <td>7</td>\n      <td>1</td>\n      <td>12</td>\n      <td>Анализ данных</td>\n    </tr>\n    <tr>\n      <th>7</th>\n      <td>8</td>\n      <td>1</td>\n      <td>12</td>\n      <td>Анализ данных</td>\n    </tr>\n    <tr>\n      <th>8</th>\n      <td>9</td>\n      <td>5</td>\n      <td>22</td>\n      <td>Физика</td>\n    </tr>\n    <tr>\n      <th>9</th>\n      <td>10</td>\n      <td>1</td>\n      <td>22</td>\n      <td>Физика</td>\n    </tr>\n    <tr>\n      <th>10</th>\n      <td>11</td>\n      <td>2</td>\n      <td>56</td>\n      <td>История</td>\n    </tr>\n    <tr>\n      <th>11</th>\n      <td>12</td>\n      <td>5</td>\n      <td>56</td>\n      <td>История</td>\n    </tr>\n    <tr>\n      <th>12</th>\n      <td>13</td>\n      <td>2</td>\n      <td>12</td>\n      <td>Анализ данных</td>\n    </tr>\n    <tr>\n      <th>13</th>\n      <td>14</td>\n      <td>1</td>\n      <td>13</td>\n      <td>ОБЖ</td>\n    </tr>\n    <tr>\n      <th>14</th>\n      <td>15</td>\n      <td>4</td>\n      <td>94</td>\n      <td>Английский язык</td>\n    </tr>\n    <tr>\n      <th>15</th>\n      <td>16</td>\n      <td>5</td>\n      <td>10</td>\n      <td>Информатика</td>\n    </tr>\n    <tr>\n      <th>16</th>\n      <td>17</td>\n      <td>5</td>\n      <td>94</td>\n      <td>Английский язык</td>\n    </tr>\n    <tr>\n      <th>17</th>\n      <td>18</td>\n      <td>2</td>\n      <td>94</td>\n      <td>Английский язык</td>\n    </tr>\n    <tr>\n      <th>18</th>\n      <td>19</td>\n      <td>3</td>\n      <td>73</td>\n      <td>Физкультура</td>\n    </tr>\n    <tr>\n      <th>19</th>\n      <td>20</td>\n      <td>3</td>\n      <td>43</td>\n      <td>Математика</td>\n    </tr>\n    <tr>\n      <th>20</th>\n      <td>21</td>\n      <td>2</td>\n      <td>56</td>\n      <td>История</td>\n    </tr>\n    <tr>\n      <th>21</th>\n      <td>22</td>\n      <td>3</td>\n      <td>10</td>\n      <td>Информатика</td>\n    </tr>\n    <tr>\n      <th>22</th>\n      <td>23</td>\n      <td>4</td>\n      <td>22</td>\n      <td>Физика</td>\n    </tr>\n    <tr>\n      <th>23</th>\n      <td>24</td>\n      <td>2</td>\n      <td>13</td>\n      <td>ОБЖ</td>\n    </tr>\n    <tr>\n      <th>24</th>\n      <td>25</td>\n      <td>1</td>\n      <td>12</td>\n      <td>Анализ данных</td>\n    </tr>\n    <tr>\n      <th>25</th>\n      <td>26</td>\n      <td>1</td>\n      <td>22</td>\n      <td>Физика</td>\n    </tr>\n    <tr>\n      <th>26</th>\n      <td>27</td>\n      <td>5</td>\n      <td>13</td>\n      <td>ОБЖ</td>\n    </tr>\n    <tr>\n      <th>27</th>\n      <td>28</td>\n      <td>5</td>\n      <td>12</td>\n      <td>Анализ данных</td>\n    </tr>\n    <tr>\n      <th>28</th>\n      <td>29</td>\n      <td>1</td>\n      <td>43</td>\n      <td>Математика</td>\n    </tr>\n    <tr>\n      <th>29</th>\n      <td>30</td>\n      <td>5</td>\n      <td>56</td>\n      <td>История</td>\n    </tr>\n    <tr>\n      <th>30</th>\n      <td>31</td>\n      <td>1</td>\n      <td>11</td>\n      <td>Программирование на языках Python и SQL</td>\n    </tr>\n    <tr>\n      <th>31</th>\n      <td>32</td>\n      <td>1</td>\n      <td>73</td>\n      <td>Физкультура</td>\n    </tr>\n    <tr>\n      <th>32</th>\n      <td>33</td>\n      <td>2</td>\n      <td>22</td>\n      <td>Физика</td>\n    </tr>\n    <tr>\n      <th>33</th>\n      <td>34</td>\n      <td>4</td>\n      <td>10</td>\n      <td>Информатика</td>\n    </tr>\n    <tr>\n      <th>34</th>\n      <td>43</td>\n      <td>4</td>\n      <td>22</td>\n      <td>Физика</td>\n    </tr>\n    <tr>\n      <th>35</th>\n      <td>75</td>\n      <td>5</td>\n      <td>10</td>\n      <td>Информатика</td>\n    </tr>\n    <tr>\n      <th>36</th>\n      <td>95</td>\n      <td>2</td>\n      <td>13</td>\n      <td>ОБЖ</td>\n    </tr>\n    <tr>\n      <th>37</th>\n      <td>100</td>\n      <td>2</td>\n      <td>10</td>\n      <td>Информатика</td>\n    </tr>\n    <tr>\n      <th>38</th>\n      <td>101</td>\n      <td>4</td>\n      <td>11</td>\n      <td>Программирование на языках Python и SQL</td>\n    </tr>\n    <tr>\n      <th>39</th>\n      <td>102</td>\n      <td>5</td>\n      <td>11</td>\n      <td>Программирование на языках Python и SQL</td>\n    </tr>\n    <tr>\n      <th>40</th>\n      <td>103</td>\n      <td>4</td>\n      <td>94</td>\n      <td>Английский язык</td>\n    </tr>\n    <tr>\n      <th>41</th>\n      <td>104</td>\n      <td>3</td>\n      <td>73</td>\n      <td>Физкультура</td>\n    </tr>\n    <tr>\n      <th>42</th>\n      <td>105</td>\n      <td>4</td>\n      <td>14</td>\n      <td>Обработка данных и моделирование в Excel</td>\n    </tr>\n    <tr>\n      <th>43</th>\n      <td>106</td>\n      <td>3</td>\n      <td>56</td>\n      <td>История</td>\n    </tr>\n    <tr>\n      <th>44</th>\n      <td>145</td>\n      <td>2</td>\n      <td>10</td>\n      <td>Информатика</td>\n    </tr>\n    <tr>\n      <th>45</th>\n      <td>238</td>\n      <td>5</td>\n      <td>10</td>\n      <td>Информатика</td>\n    </tr>\n  </tbody>\n</table>\n</div>"
     },
     "execution_count": 55,
     "metadata": {},
     "output_type": "execute_result"
    }
   ],
   "source": [
    "# 15. Напишите запрос для получения полного списка оценок вместе с названиями предметов, по которым они получены. Есть ли отличие списка от того, который был бы получен внутренним соединением? Подтвердите отдельным запросом ваш вывод.\n",
    "\n",
    "s = select(em.c.exam_id, em.c.mark, su.c.subj_id, su.c.subj_name)\n",
    "s = s.join_from(em, su, em.c.subj_id==su.c.subj_id)\n",
    "s = s.where(em.c.mark.is_not(None))\n",
    "\n",
    "print(s)\n",
    "pd.read_sql(s, conn)"
   ],
   "metadata": {
    "collapsed": false,
    "pycharm": {
     "name": "#%%\n"
    }
   }
  },
  {
   "cell_type": "code",
   "execution_count": 56,
   "outputs": [
    {
     "name": "stdout",
     "output_type": "stream",
     "text": [
      "SELECT exam_marks_1.exam_id, exam_marks_1.mark, subject_1.subj_id, subject_1.subj_name \n",
      "FROM exam_marks AS exam_marks_1 LEFT OUTER JOIN subject AS subject_1 ON exam_marks_1.subj_id = subject_1.subj_id \n",
      "WHERE exam_marks_1.mark IS NOT NULL AND NOT (EXISTS (SELECT exam_marks_2.exam_id \n",
      "FROM exam_marks AS exam_marks_2 JOIN subject AS subject_2 ON exam_marks_2.subj_id = subject_2.subj_id \n",
      "WHERE exam_marks_2.exam_id = exam_marks_1.exam_id))\n"
     ]
    },
    {
     "data": {
      "text/plain": "Empty DataFrame\nColumns: [exam_id, mark, subj_id, subj_name]\nIndex: []",
      "text/html": "<div>\n<style scoped>\n    .dataframe tbody tr th:only-of-type {\n        vertical-align: middle;\n    }\n\n    .dataframe tbody tr th {\n        vertical-align: top;\n    }\n\n    .dataframe thead th {\n        text-align: right;\n    }\n</style>\n<table border=\"1\" class=\"dataframe\">\n  <thead>\n    <tr style=\"text-align: right;\">\n      <th></th>\n      <th>exam_id</th>\n      <th>mark</th>\n      <th>subj_id</th>\n      <th>subj_name</th>\n    </tr>\n  </thead>\n  <tbody>\n  </tbody>\n</table>\n</div>"
     },
     "execution_count": 56,
     "metadata": {},
     "output_type": "execute_result"
    }
   ],
   "source": [
    "su2 = subject.alias()\n",
    "em2 = exam_marks.alias()\n",
    "\n",
    "sq = select(em2.c.exam_id)\n",
    "sq = sq.join_from(em2, su2, em2.c.subj_id==su2.c.subj_id)\n",
    "sq = sq.where(em2.c.exam_id==em.c.exam_id).exists()\n",
    "\n",
    "s = select(em.c.exam_id, em.c.mark, su.c.subj_id, su.c.subj_name)\n",
    "s = s.outerjoin_from(em, su, em.c.subj_id==su.c.subj_id)\n",
    "s = s.where(em.c.mark.is_not(None))\n",
    "s = s.where(~sq)\n",
    "\n",
    "print(s)\n",
    "pd.read_sql(s, conn)"
   ],
   "metadata": {
    "collapsed": false,
    "pycharm": {
     "name": "#%%\n"
    }
   }
  },
  {
   "cell_type": "code",
   "execution_count": null,
   "outputs": [],
   "source": [],
   "metadata": {
    "collapsed": false,
    "pycharm": {
     "name": "#%%\n"
    }
   }
  }
 ],
 "metadata": {
  "kernelspec": {
   "display_name": "Python 3",
   "language": "python",
   "name": "python3"
  },
  "language_info": {
   "codemirror_mode": {
    "name": "ipython",
    "version": 2
   },
   "file_extension": ".py",
   "mimetype": "text/x-python",
   "name": "python",
   "nbconvert_exporter": "python",
   "pygments_lexer": "ipython2",
   "version": "2.7.6"
  }
 },
 "nbformat": 4,
 "nbformat_minor": 0
}