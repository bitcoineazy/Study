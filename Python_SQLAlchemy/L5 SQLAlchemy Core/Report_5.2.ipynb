{
 "cells": [
  {
   "cell_type": "code",
   "execution_count": 28,
   "id": "37e97907",
   "metadata": {
    "pycharm": {
     "name": "#%%\n"
    }
   },
   "outputs": [],
   "source": [
    "import pandas as pd\n",
    "from sqlalchemy import MetaData, Table, create_engine, select, and_, or_, not_, text\n",
    "from sqlalchemy.sql import func, distinct, exists"
   ]
  },
  {
   "cell_type": "code",
   "execution_count": 29,
   "id": "eb4393e8",
   "metadata": {
    "pycharm": {
     "name": "#%%\n"
    }
   },
   "outputs": [],
   "source": [
    "engine = create_engine('sqlite:///../Data/Students.db')\n",
    "metadata_obj = MetaData() # Объект-контейнер, содержит информацию о схеме данных\n",
    "metadata_obj.reflect(bind=engine) # Отображение БД"
   ]
  },
  {
   "cell_type": "code",
   "execution_count": 30,
   "id": "6e812caf",
   "metadata": {
    "pycharm": {
     "name": "#%%\n"
    }
   },
   "outputs": [],
   "source": [
    "exam_marks=Table(\"exam_marks\", metadata_obj, autoload=True, autoload_with=\"engine\")\n",
    "lecturer=Table(\"lecturer\", metadata_obj, autoload=True, autoload_with=\"engine\")\n",
    "student=Table(\"student\", metadata_obj, autoload=True, autoload_with=\"engine\")\n",
    "subj_lect=Table(\"subj_lect\", metadata_obj, autoload=True, autoload_with=\"engine\")\n",
    "subject=Table(\"subject\", metadata_obj, autoload=True, autoload_with=\"engine\")\n",
    "university=Table(\"university\", metadata_obj, autolad=True, autolad_with=\"engine\")"
   ]
  },
  {
   "cell_type": "code",
   "execution_count": 31,
   "id": "5e0c68fe",
   "metadata": {
    "pycharm": {
     "name": "#%%\n"
    }
   },
   "outputs": [],
   "source": [
    "conn=engine.connect() # Соединение"
   ]
  },
  {
   "cell_type": "markdown",
   "id": "fb742d9f",
   "metadata": {
    "pycharm": {
     "name": "#%% md\n"
    }
   },
   "source": [
    "<img src=../Img/pencil.png style=\"width:190px;height:190px\">\n",
    "<p style=\"background-color:powderblue; font-size:125%; color: rebeccapurple;\">Выполните задания</p>\n",
    "<p>Выполните задания с помощью соедиинения таблиц в Jupyter Notebook </p>\n",
    "\n",
    "1. Составьте список названий университетов с указанием суммарного количества аудиторных часов на изучение каждого предмета.\n",
    "\n",
    "2. Получите список названий университетов вместе с фамилиями и именами студентов, получающих максимальную для каждого университета стипендию.\n",
    "\n",
    "3. Напишите запрос для получения списка преподавателей, преподающих только один предмет. Отсортируйте результат по фамилии преподавателя. Результат должен содержать имя и фамилию преподавателя, название предмета.\n",
    "\n",
    "4. Напишите запрос для получения списка университетов вместе с фамилиями студентов, получивших хотя бы одну отличную оценку. Результат отсортируйте по названию университета.\n",
    "\n",
    "5. Напишите запрос, выполняющий вывод имен и фамилий преподавателей, проводящих занятия на первом курсе. Отсортируйте результат по фаимилии преподавателя.\n",
    "\n",
    "6. Напишите запрос, выполняющий вывод наименований предметов обучения, читаемых двумя или более преподавателями. Результат должен состоять из одного столбца названий предметов, без повторов, в алфавитном порядке по возрастанию."
   ]
  },
  {
   "cell_type": "markdown",
   "id": "5002382e",
   "metadata": {
    "pycharm": {
     "name": "#%% md\n"
    }
   },
   "source": [
    "# Решение"
   ]
  },
  {
   "cell_type": "code",
   "execution_count": 32,
   "outputs": [
    {
     "name": "stdout",
     "output_type": "stream",
     "text": [
      "SELECT university.univ_name, sum(subject.hour) AS \"Кол-во часов\" \n",
      "FROM university JOIN lecturer ON university.univ_id = lecturer.univ_id JOIN subj_lect ON lecturer.lecturer_id = subj_lect.lecturer_id JOIN subject ON subj_lect.subj_id = subject.subj_id GROUP BY university.univ_id\n"
     ]
    },
    {
     "data": {
      "text/plain": "          univ_name  Кол-во часов\n0               ВГУ           284\n1               НГУ            34\n2               ТГУ           146\n3               МГУ           146\n4               РГУ            90\n5  МГТУ им. Баумана            90\n6   ФГБОУ \"Политех\"            90\n7               КФУ           146\n8              УЛГУ            34",
      "text/html": "<div>\n<style scoped>\n    .dataframe tbody tr th:only-of-type {\n        vertical-align: middle;\n    }\n\n    .dataframe tbody tr th {\n        vertical-align: top;\n    }\n\n    .dataframe thead th {\n        text-align: right;\n    }\n</style>\n<table border=\"1\" class=\"dataframe\">\n  <thead>\n    <tr style=\"text-align: right;\">\n      <th></th>\n      <th>univ_name</th>\n      <th>Кол-во часов</th>\n    </tr>\n  </thead>\n  <tbody>\n    <tr>\n      <th>0</th>\n      <td>ВГУ</td>\n      <td>284</td>\n    </tr>\n    <tr>\n      <th>1</th>\n      <td>НГУ</td>\n      <td>34</td>\n    </tr>\n    <tr>\n      <th>2</th>\n      <td>ТГУ</td>\n      <td>146</td>\n    </tr>\n    <tr>\n      <th>3</th>\n      <td>МГУ</td>\n      <td>146</td>\n    </tr>\n    <tr>\n      <th>4</th>\n      <td>РГУ</td>\n      <td>90</td>\n    </tr>\n    <tr>\n      <th>5</th>\n      <td>МГТУ им. Баумана</td>\n      <td>90</td>\n    </tr>\n    <tr>\n      <th>6</th>\n      <td>ФГБОУ \"Политех\"</td>\n      <td>90</td>\n    </tr>\n    <tr>\n      <th>7</th>\n      <td>КФУ</td>\n      <td>146</td>\n    </tr>\n    <tr>\n      <th>8</th>\n      <td>УЛГУ</td>\n      <td>34</td>\n    </tr>\n  </tbody>\n</table>\n</div>"
     },
     "execution_count": 32,
     "metadata": {},
     "output_type": "execute_result"
    }
   ],
   "source": [
    "#1. Составьте список названий университетов с указанием суммарного количества аудиторных часов на изучение каждого предмета.\n",
    "\n",
    "# SQL - SELECT univ_name, SUM(hour) FROM university JOIN lecturer l on university.univ_id = l.univ_id JOIN subj_lect sl on l.lecturer_id = sl.lecturer_id JOIN subject s on sl.subj_id = s.subj_id GROUP BY l.univ_id\n",
    "\n",
    "s = select(university.c.univ_name, func.sum(subject.c.hour).label(\"Кол-во часов\")).join(lecturer, university.c.univ_id == lecturer.c.univ_id).join(subj_lect, lecturer.c.lecturer_id == subj_lect.c.lecturer_id).join(subject, subj_lect.c.subj_id == subject.c.subj_id).group_by(university.c.univ_id)\n",
    "\n",
    "print(s)\n",
    "pd.read_sql(s, conn)"
   ],
   "metadata": {
    "collapsed": false,
    "pycharm": {
     "name": "#%%\n"
    }
   }
  },
  {
   "cell_type": "code",
   "execution_count": 33,
   "outputs": [
    {
     "name": "stdout",
     "output_type": "stream",
     "text": [
      "SELECT university.univ_name, student.surname, student.name, max(student.stipend) AS \"Стипендия\" \n",
      "FROM student JOIN university ON university.univ_id = student.univ_id GROUP BY student.univ_id\n"
     ]
    },
    {
     "data": {
      "text/plain": "           univ_name     surname        name  Стипендия\n0                ВГУ     Зайцева       Ольга        250\n1                НГУ    Трофимов   Владислав        250\n2                БГУ     Суханов  Константин        250\n3                ТГУ  Мельникова    Светлана        250\n4               ВГМА     Кондрат     Синицин        200\n5                МГУ     Блохина      Ираида        250\n6                РГУ       Панов     Арсений        250\n7               ФинУ    Казакова       Ольга        250\n8   МГТУ им. Баумана    Миронова       Федор        200\n9    ФГБОУ \"Политех\"    Миронова        Анна        200\n10               КФУ         Жук      Оксана        250\n11              УЛГУ  Пономарева       Алина        250",
      "text/html": "<div>\n<style scoped>\n    .dataframe tbody tr th:only-of-type {\n        vertical-align: middle;\n    }\n\n    .dataframe tbody tr th {\n        vertical-align: top;\n    }\n\n    .dataframe thead th {\n        text-align: right;\n    }\n</style>\n<table border=\"1\" class=\"dataframe\">\n  <thead>\n    <tr style=\"text-align: right;\">\n      <th></th>\n      <th>univ_name</th>\n      <th>surname</th>\n      <th>name</th>\n      <th>Стипендия</th>\n    </tr>\n  </thead>\n  <tbody>\n    <tr>\n      <th>0</th>\n      <td>ВГУ</td>\n      <td>Зайцева</td>\n      <td>Ольга</td>\n      <td>250</td>\n    </tr>\n    <tr>\n      <th>1</th>\n      <td>НГУ</td>\n      <td>Трофимов</td>\n      <td>Владислав</td>\n      <td>250</td>\n    </tr>\n    <tr>\n      <th>2</th>\n      <td>БГУ</td>\n      <td>Суханов</td>\n      <td>Константин</td>\n      <td>250</td>\n    </tr>\n    <tr>\n      <th>3</th>\n      <td>ТГУ</td>\n      <td>Мельникова</td>\n      <td>Светлана</td>\n      <td>250</td>\n    </tr>\n    <tr>\n      <th>4</th>\n      <td>ВГМА</td>\n      <td>Кондрат</td>\n      <td>Синицин</td>\n      <td>200</td>\n    </tr>\n    <tr>\n      <th>5</th>\n      <td>МГУ</td>\n      <td>Блохина</td>\n      <td>Ираида</td>\n      <td>250</td>\n    </tr>\n    <tr>\n      <th>6</th>\n      <td>РГУ</td>\n      <td>Панов</td>\n      <td>Арсений</td>\n      <td>250</td>\n    </tr>\n    <tr>\n      <th>7</th>\n      <td>ФинУ</td>\n      <td>Казакова</td>\n      <td>Ольга</td>\n      <td>250</td>\n    </tr>\n    <tr>\n      <th>8</th>\n      <td>МГТУ им. Баумана</td>\n      <td>Миронова</td>\n      <td>Федор</td>\n      <td>200</td>\n    </tr>\n    <tr>\n      <th>9</th>\n      <td>ФГБОУ \"Политех\"</td>\n      <td>Миронова</td>\n      <td>Анна</td>\n      <td>200</td>\n    </tr>\n    <tr>\n      <th>10</th>\n      <td>КФУ</td>\n      <td>Жук</td>\n      <td>Оксана</td>\n      <td>250</td>\n    </tr>\n    <tr>\n      <th>11</th>\n      <td>УЛГУ</td>\n      <td>Пономарева</td>\n      <td>Алина</td>\n      <td>250</td>\n    </tr>\n  </tbody>\n</table>\n</div>"
     },
     "execution_count": 33,
     "metadata": {},
     "output_type": "execute_result"
    }
   ],
   "source": [
    "#2. Получите список названий университетов вместе с фамилиями и именами студентов, получающих максимальную для каждого университета стипендию.\n",
    "\n",
    "# SQL - SELECT univ_name, surname, name, MAX(stipend) FROM student JOIN university u on u.univ_id = student.univ_id GROUP BY student.univ_id\n",
    "\n",
    "s = select(university.c.univ_name, student.c.surname, student.c.name, func.max(student.c.stipend).label(\"Стипендия\")).join(university, university.c.univ_id == student.c.univ_id).group_by(student.c.univ_id)\n",
    "\n",
    "print(s)\n",
    "pd.read_sql(s, conn)"
   ],
   "metadata": {
    "collapsed": false,
    "pycharm": {
     "name": "#%%\n"
    }
   }
  },
  {
   "cell_type": "code",
   "execution_count": 34,
   "outputs": [
    {
     "name": "stdout",
     "output_type": "stream",
     "text": [
      "SELECT lecturer.name, lecturer.surname, subject.subj_name, count(subj_lect.subj_id) AS \"Преподает предметов\" \n",
      "FROM lecturer JOIN subj_lect ON lecturer.lecturer_id = subj_lect.lecturer_id JOIN subject ON subject.subj_id = subj_lect.subj_id GROUP BY lecturer.surname \n",
      "HAVING count(subj_lect.subj_id) = :count_1\n"
     ]
    },
    {
     "data": {
      "text/plain": "        name     surname                                subj_name  \\\n0     Елисей    Алексеев                                      ОБЖ   \n1    Мефодий     Беляков                              Информатика   \n2     Нинель     Брагина                                      ОБЖ   \n3   Прокофий    Дорофеев  Программирование на языках Python и SQL   \n4      Юлиан       Зимин  Программирование на языках Python и SQL   \n5      Борис  Колесников                                   Физика   \n6       Анна  Кудрявцева                              Информатика   \n7      Павел     Лагутин                          Английский язык   \n8    Акулина   Мамонтова  Программирование на языках Python и SQL   \n9       Иван     Никонов                                  История   \n10     Лукия    Сафонова                          Английский язык   \n11   Ладомир     Тихонов                              Информатика   \n\n    Преподает предметов  \n0                     1  \n1                     1  \n2                     1  \n3                     1  \n4                     1  \n5                     1  \n6                     1  \n7                     1  \n8                     1  \n9                     1  \n10                    1  \n11                    1  ",
      "text/html": "<div>\n<style scoped>\n    .dataframe tbody tr th:only-of-type {\n        vertical-align: middle;\n    }\n\n    .dataframe tbody tr th {\n        vertical-align: top;\n    }\n\n    .dataframe thead th {\n        text-align: right;\n    }\n</style>\n<table border=\"1\" class=\"dataframe\">\n  <thead>\n    <tr style=\"text-align: right;\">\n      <th></th>\n      <th>name</th>\n      <th>surname</th>\n      <th>subj_name</th>\n      <th>Преподает предметов</th>\n    </tr>\n  </thead>\n  <tbody>\n    <tr>\n      <th>0</th>\n      <td>Елисей</td>\n      <td>Алексеев</td>\n      <td>ОБЖ</td>\n      <td>1</td>\n    </tr>\n    <tr>\n      <th>1</th>\n      <td>Мефодий</td>\n      <td>Беляков</td>\n      <td>Информатика</td>\n      <td>1</td>\n    </tr>\n    <tr>\n      <th>2</th>\n      <td>Нинель</td>\n      <td>Брагина</td>\n      <td>ОБЖ</td>\n      <td>1</td>\n    </tr>\n    <tr>\n      <th>3</th>\n      <td>Прокофий</td>\n      <td>Дорофеев</td>\n      <td>Программирование на языках Python и SQL</td>\n      <td>1</td>\n    </tr>\n    <tr>\n      <th>4</th>\n      <td>Юлиан</td>\n      <td>Зимин</td>\n      <td>Программирование на языках Python и SQL</td>\n      <td>1</td>\n    </tr>\n    <tr>\n      <th>5</th>\n      <td>Борис</td>\n      <td>Колесников</td>\n      <td>Физика</td>\n      <td>1</td>\n    </tr>\n    <tr>\n      <th>6</th>\n      <td>Анна</td>\n      <td>Кудрявцева</td>\n      <td>Информатика</td>\n      <td>1</td>\n    </tr>\n    <tr>\n      <th>7</th>\n      <td>Павел</td>\n      <td>Лагутин</td>\n      <td>Английский язык</td>\n      <td>1</td>\n    </tr>\n    <tr>\n      <th>8</th>\n      <td>Акулина</td>\n      <td>Мамонтова</td>\n      <td>Программирование на языках Python и SQL</td>\n      <td>1</td>\n    </tr>\n    <tr>\n      <th>9</th>\n      <td>Иван</td>\n      <td>Никонов</td>\n      <td>История</td>\n      <td>1</td>\n    </tr>\n    <tr>\n      <th>10</th>\n      <td>Лукия</td>\n      <td>Сафонова</td>\n      <td>Английский язык</td>\n      <td>1</td>\n    </tr>\n    <tr>\n      <th>11</th>\n      <td>Ладомир</td>\n      <td>Тихонов</td>\n      <td>Информатика</td>\n      <td>1</td>\n    </tr>\n  </tbody>\n</table>\n</div>"
     },
     "execution_count": 34,
     "metadata": {},
     "output_type": "execute_result"
    }
   ],
   "source": [
    "# 3. Напишите запрос для получения списка преподавателей, преподающих только один предмет. Отсортируйте результат по фамилии преподавателя. Результат должен содержать имя и фамилию преподавателя, название предмета.\n",
    "\n",
    "# SQL - SELECT name, surname, subj_name, COUNT(sl.subj_id) FROM lecturer JOIN subj_lect sl on lecturer.lecturer_id = sl.lecturer_id JOIN subject s on s.subj_id = sl.subj_id GROUP BY lecturer.surname HAVING COUNT(sl.subj_id) == 1\n",
    "\n",
    "s = select(lecturer.c.name, lecturer.c.surname, subject.c.subj_name, func.count(subj_lect.c.subj_id).label(\"Преподает предметов\")).join(subj_lect, lecturer.c.lecturer_id == subj_lect.c.lecturer_id).join(subject, subject.c.subj_id == subj_lect.c.subj_id).group_by(lecturer.c.surname).having(func.count(subj_lect.c.subj_id) == 1)\n",
    "\n",
    "print(s)\n",
    "pd.read_sql(s, conn)"
   ],
   "metadata": {
    "collapsed": false,
    "pycharm": {
     "name": "#%%\n"
    }
   }
  },
  {
   "cell_type": "code",
   "execution_count": 35,
   "outputs": [
    {
     "name": "stdout",
     "output_type": "stream",
     "text": [
      "SELECT university.univ_name, student.surname \n",
      "FROM university JOIN student ON student.univ_id = university.univ_id \n",
      "WHERE student.student_id IN (SELECT student.student_id \n",
      "FROM student JOIN exam_marks ON exam_marks.student_id = student.student_id \n",
      "WHERE exam_marks.mark = :mark_1) ORDER BY university.univ_name\n"
     ]
    },
    {
     "data": {
      "text/plain": "          univ_name     surname\n0               ВГУ    Кузнецов\n1               ВГУ     Зайцева\n2               ВГУ      Белкин\n3               ВГУ     Жданова\n4               ВГУ    Борисова\n5  МГТУ им. Баумана      Лапина\n6               МГУ     Блохина\n7               ТГУ         Пак\n8               ТГУ  Мельникова\n9   ФГБОУ \"Политех\"    Васильев",
      "text/html": "<div>\n<style scoped>\n    .dataframe tbody tr th:only-of-type {\n        vertical-align: middle;\n    }\n\n    .dataframe tbody tr th {\n        vertical-align: top;\n    }\n\n    .dataframe thead th {\n        text-align: right;\n    }\n</style>\n<table border=\"1\" class=\"dataframe\">\n  <thead>\n    <tr style=\"text-align: right;\">\n      <th></th>\n      <th>univ_name</th>\n      <th>surname</th>\n    </tr>\n  </thead>\n  <tbody>\n    <tr>\n      <th>0</th>\n      <td>ВГУ</td>\n      <td>Кузнецов</td>\n    </tr>\n    <tr>\n      <th>1</th>\n      <td>ВГУ</td>\n      <td>Зайцева</td>\n    </tr>\n    <tr>\n      <th>2</th>\n      <td>ВГУ</td>\n      <td>Белкин</td>\n    </tr>\n    <tr>\n      <th>3</th>\n      <td>ВГУ</td>\n      <td>Жданова</td>\n    </tr>\n    <tr>\n      <th>4</th>\n      <td>ВГУ</td>\n      <td>Борисова</td>\n    </tr>\n    <tr>\n      <th>5</th>\n      <td>МГТУ им. Баумана</td>\n      <td>Лапина</td>\n    </tr>\n    <tr>\n      <th>6</th>\n      <td>МГУ</td>\n      <td>Блохина</td>\n    </tr>\n    <tr>\n      <th>7</th>\n      <td>ТГУ</td>\n      <td>Пак</td>\n    </tr>\n    <tr>\n      <th>8</th>\n      <td>ТГУ</td>\n      <td>Мельникова</td>\n    </tr>\n    <tr>\n      <th>9</th>\n      <td>ФГБОУ \"Политех\"</td>\n      <td>Васильев</td>\n    </tr>\n  </tbody>\n</table>\n</div>"
     },
     "execution_count": 35,
     "metadata": {},
     "output_type": "execute_result"
    }
   ],
   "source": [
    "# 4. Напишите запрос для получения списка университетов вместе с фамилиями студентов, получивших хотя бы одну отличную оценку. Результат отсортируйте по названию университета.\n",
    "\n",
    "s = select(student.c.student_id).join(exam_marks, exam_marks.c.student_id == student.c.student_id).where(exam_marks.c.mark == 5)\n",
    "\n",
    "s_2 = select(university.c.univ_name, student.c.surname).join(student, student.c.univ_id == university.c.univ_id).where(student.c.student_id.in_(s)).order_by(university.c.univ_name)\n",
    "\n",
    "print(s_2)\n",
    "pd.read_sql(s_2, conn)"
   ],
   "metadata": {
    "collapsed": false,
    "pycharm": {
     "name": "#%%\n"
    }
   }
  },
  {
   "cell_type": "code",
   "execution_count": 36,
   "outputs": [
    {
     "name": "stdout",
     "output_type": "stream",
     "text": [
      "SELECT lecturer.name, lecturer.surname \n",
      "FROM lecturer JOIN student ON lecturer.univ_id = student.univ_id \n",
      "WHERE student.kurs = :kurs_1 GROUP BY lecturer.surname\n"
     ]
    },
    {
     "data": {
      "text/plain": "        name     surname\n0     Елисей    Алексеев\n1       Майя   Артемьева\n2    Мефодий     Беляков\n3      Юлиан    Беспалов\n4     Оксана   Богданова\n5     Михаил      Волков\n6   Прокофий    Дорофеев\n7       Юлия     Зайцева\n8      Юлиан       Зимин\n9     Оксана      Зыкова\n10     Борис  Колесников\n11   Людмила     Крюкова\n12      Анна  Кудрявцева\n13    Ираида    Куликова\n14     Павел     Лагутин\n15    Иванна   Максимова\n16   Акулина   Мамонтова\n17    Виктор    Николаев\n18      Иван     Никонов\n19   Будимир     Сафонов\n20     Лукия    Сафонова\n21  Светлана   Ситникова\n22    Андрей     Сорокин\n23    Руслан    Стрелков\n24   Николай     Струков\n25   Ладомир     Тихонов",
      "text/html": "<div>\n<style scoped>\n    .dataframe tbody tr th:only-of-type {\n        vertical-align: middle;\n    }\n\n    .dataframe tbody tr th {\n        vertical-align: top;\n    }\n\n    .dataframe thead th {\n        text-align: right;\n    }\n</style>\n<table border=\"1\" class=\"dataframe\">\n  <thead>\n    <tr style=\"text-align: right;\">\n      <th></th>\n      <th>name</th>\n      <th>surname</th>\n    </tr>\n  </thead>\n  <tbody>\n    <tr>\n      <th>0</th>\n      <td>Елисей</td>\n      <td>Алексеев</td>\n    </tr>\n    <tr>\n      <th>1</th>\n      <td>Майя</td>\n      <td>Артемьева</td>\n    </tr>\n    <tr>\n      <th>2</th>\n      <td>Мефодий</td>\n      <td>Беляков</td>\n    </tr>\n    <tr>\n      <th>3</th>\n      <td>Юлиан</td>\n      <td>Беспалов</td>\n    </tr>\n    <tr>\n      <th>4</th>\n      <td>Оксана</td>\n      <td>Богданова</td>\n    </tr>\n    <tr>\n      <th>5</th>\n      <td>Михаил</td>\n      <td>Волков</td>\n    </tr>\n    <tr>\n      <th>6</th>\n      <td>Прокофий</td>\n      <td>Дорофеев</td>\n    </tr>\n    <tr>\n      <th>7</th>\n      <td>Юлия</td>\n      <td>Зайцева</td>\n    </tr>\n    <tr>\n      <th>8</th>\n      <td>Юлиан</td>\n      <td>Зимин</td>\n    </tr>\n    <tr>\n      <th>9</th>\n      <td>Оксана</td>\n      <td>Зыкова</td>\n    </tr>\n    <tr>\n      <th>10</th>\n      <td>Борис</td>\n      <td>Колесников</td>\n    </tr>\n    <tr>\n      <th>11</th>\n      <td>Людмила</td>\n      <td>Крюкова</td>\n    </tr>\n    <tr>\n      <th>12</th>\n      <td>Анна</td>\n      <td>Кудрявцева</td>\n    </tr>\n    <tr>\n      <th>13</th>\n      <td>Ираида</td>\n      <td>Куликова</td>\n    </tr>\n    <tr>\n      <th>14</th>\n      <td>Павел</td>\n      <td>Лагутин</td>\n    </tr>\n    <tr>\n      <th>15</th>\n      <td>Иванна</td>\n      <td>Максимова</td>\n    </tr>\n    <tr>\n      <th>16</th>\n      <td>Акулина</td>\n      <td>Мамонтова</td>\n    </tr>\n    <tr>\n      <th>17</th>\n      <td>Виктор</td>\n      <td>Николаев</td>\n    </tr>\n    <tr>\n      <th>18</th>\n      <td>Иван</td>\n      <td>Никонов</td>\n    </tr>\n    <tr>\n      <th>19</th>\n      <td>Будимир</td>\n      <td>Сафонов</td>\n    </tr>\n    <tr>\n      <th>20</th>\n      <td>Лукия</td>\n      <td>Сафонова</td>\n    </tr>\n    <tr>\n      <th>21</th>\n      <td>Светлана</td>\n      <td>Ситникова</td>\n    </tr>\n    <tr>\n      <th>22</th>\n      <td>Андрей</td>\n      <td>Сорокин</td>\n    </tr>\n    <tr>\n      <th>23</th>\n      <td>Руслан</td>\n      <td>Стрелков</td>\n    </tr>\n    <tr>\n      <th>24</th>\n      <td>Николай</td>\n      <td>Струков</td>\n    </tr>\n    <tr>\n      <th>25</th>\n      <td>Ладомир</td>\n      <td>Тихонов</td>\n    </tr>\n  </tbody>\n</table>\n</div>"
     },
     "execution_count": 36,
     "metadata": {},
     "output_type": "execute_result"
    }
   ],
   "source": [
    "# 5. Напишите запрос, выполняющий вывод имен и фамилий преподавателей, проводящих занятия на первом курсе. Отсортируйте результат по фаимилии преподавателя.\n",
    "\n",
    "# SQL - SELECT lecturer.name, lecturer.surname FROM lecturer JOIN student s on lecturer.univ_id = s.univ_id WHERE kurs == 1 GROUP BY lecturer.surname\n",
    "\n",
    "s = select(lecturer.c.name, lecturer.c.surname).join(student, lecturer.c.univ_id == student.c.univ_id).where(student.c.kurs == 1).group_by(lecturer.c.surname)\n",
    "\n",
    "print(s)\n",
    "pd.read_sql(s, conn)"
   ],
   "metadata": {
    "collapsed": false,
    "pycharm": {
     "name": "#%%\n"
    }
   }
  },
  {
   "cell_type": "code",
   "execution_count": 37,
   "outputs": [
    {
     "name": "stdout",
     "output_type": "stream",
     "text": [
      "SELECT subject.subj_name AS \"Название предмета\" \n",
      "FROM subject JOIN subj_lect ON subject.subj_id = subj_lect.subj_id JOIN lecturer ON lecturer.lecturer_id = subj_lect.lecturer_id GROUP BY subject.subj_name \n",
      "HAVING count(lecturer.lecturer_id) >= :count_1\n"
     ]
    },
    {
     "data": {
      "text/plain": "                         Название предмета\n0                          Английский язык\n1                              Информатика\n2                                  История\n3                                      ОБЖ\n4  Программирование на языках Python и SQL",
      "text/html": "<div>\n<style scoped>\n    .dataframe tbody tr th:only-of-type {\n        vertical-align: middle;\n    }\n\n    .dataframe tbody tr th {\n        vertical-align: top;\n    }\n\n    .dataframe thead th {\n        text-align: right;\n    }\n</style>\n<table border=\"1\" class=\"dataframe\">\n  <thead>\n    <tr style=\"text-align: right;\">\n      <th></th>\n      <th>Название предмета</th>\n    </tr>\n  </thead>\n  <tbody>\n    <tr>\n      <th>0</th>\n      <td>Английский язык</td>\n    </tr>\n    <tr>\n      <th>1</th>\n      <td>Информатика</td>\n    </tr>\n    <tr>\n      <th>2</th>\n      <td>История</td>\n    </tr>\n    <tr>\n      <th>3</th>\n      <td>ОБЖ</td>\n    </tr>\n    <tr>\n      <th>4</th>\n      <td>Программирование на языках Python и SQL</td>\n    </tr>\n  </tbody>\n</table>\n</div>"
     },
     "execution_count": 37,
     "metadata": {},
     "output_type": "execute_result"
    }
   ],
   "source": [
    "# 6. Напишите запрос, выполняющий вывод наименований предметов обучения, читаемых двумя или более преподавателями. Результат должен состоять из одного столбца названий предметов, без повторов, в алфавитном порядке по возрастанию.\n",
    "\n",
    "# SQL - SELECT subj_name FROM subject JOIN subj_lect sl on subject.subj_id = sl.subj_id JOIN lecturer l on l.lecturer_id = sl.lecturer_id GROUP BY subj_name HAVING COUNT(l.lecturer_id) >= 2\n",
    "\n",
    "s = select(subject.c.subj_name.label(\"Название предмета\")).join(subj_lect, subject.c.subj_id == subj_lect.c.subj_id).join(lecturer, lecturer.c.lecturer_id == subj_lect.c.lecturer_id).group_by(subject.c.subj_name).having(func.count(lecturer.c.lecturer_id) >= 2)\n",
    "\n",
    "print(s)\n",
    "pd.read_sql(s, conn)"
   ],
   "metadata": {
    "collapsed": false,
    "pycharm": {
     "name": "#%%\n"
    }
   }
  },
  {
   "cell_type": "code",
   "execution_count": null,
   "outputs": [],
   "source": [],
   "metadata": {
    "collapsed": false,
    "pycharm": {
     "name": "#%%\n"
    }
   }
  }
 ],
 "metadata": {
  "kernelspec": {
   "display_name": "Python 3 (ipykernel)",
   "language": "python",
   "name": "python3"
  },
  "language_info": {
   "codemirror_mode": {
    "name": "ipython",
    "version": 3
   },
   "file_extension": ".py",
   "mimetype": "text/x-python",
   "name": "python",
   "nbconvert_exporter": "python",
   "pygments_lexer": "ipython3",
   "version": "3.9.7"
  }
 },
 "nbformat": 4,
 "nbformat_minor": 5
}