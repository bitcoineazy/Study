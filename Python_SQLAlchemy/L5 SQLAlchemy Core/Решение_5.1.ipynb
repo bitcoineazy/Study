{
 "cells": [
  {
   "cell_type": "markdown",
   "metadata": {
    "pycharm": {
     "name": "#%% md\n"
    }
   },
   "source": [
    "<img src=\"../Img/Python_SQL_PI.png\" style=\"width:100%\">\n",
    "\n",
    "\n",
    "<p style=\"font-size:22px;text-align:center\">Семинар 5.1. Соединение таблиц. Оператор JOIN</p> \n",
    "\n",
    "<a id = Home></a>\n",
    "\n",
    "**11 апреля 2022 года, пн**<br>\n",
    "10:10 - 11:40<br>\n",
    "Щ38/509(кк) (ул. Щербаковская, 38)<br>\n",
    "ПИ20-1, ПИ20-2, ПИ20-3, ПИ20-4, ПИ20-5, ПИ20-6 (4 подгруппа)<br>\n",
    "\n",
    "11:50 - 13:20<br>\n",
    "Щ38/509(кк) (ул. Щербаковская, 38)<br>\n",
    "Поток:ПИ20-1, ПИ20-2, ПИ20-3, ПИ20-4, ПИ20-5, ПИ20-6(3 подгруппа)\n",
    "\n",
    "\n",
    "**14 апреля 2022 года, чт**<br>\n",
    "17:20 - 18:50<br>\n",
    "В4/3411(кк) (4-й Вешняковский проезд, 4)<br>\n",
    "ПИ20-1, ПИ20-2, ПИ20-3, ПИ20-4, ПИ20-5, ПИ20-6 (2 подгруппа)<br>\n",
    "\n",
    "**21 апреля 2022 года, чт**<br>\n",
    "18:55 - 20:25<br>\n",
    "В4/3411(кк) (4-й Вешняковский проезд, 4)<br>\n",
    "ПИ20-1, ПИ20-2, ПИ20-3, ПИ20-4, ПИ20-5, ПИ20-6 (1 подгруппа)<br>"
   ]
  },
  {
   "cell_type": "markdown",
   "metadata": {
    "pycharm": {
     "name": "#%% md\n"
    }
   },
   "source": [
    "\n",
    "```\n",
    "STUDENT\n",
    "STUDENT_ID — числовой код, идентифицирующий студента (идентификатор студента),\n",
    "SURNAME — фамилия студента,\n",
    "NAME — имя студента,\n",
    "STIPEND — стипендия, которую получает студент,\n",
    "KURS — курс, на котором учится студент,\n",
    "CITY — город, в котором живет студент,\n",
    "BIRTHDAY — дата рождения студента,\n",
    "UNIV_ID — идентификатор университета, в котором учится студент.\n",
    "\n",
    "\n",
    "LECTURER\n",
    "LECTURER_ID — идентификатор преподавателя,\n",
    "SURNAME — фамилия преподавателя,\n",
    "NAME — имя преподавателя,\n",
    "CITY — город, в котором живет преподаватель,\n",
    "UNIV_ID — идентификатор университета, в котором работает преподаватель\n",
    "\n",
    "\n",
    "SUBJECT\n",
    "SUBJ_ID — идентификатор предмета обучения,\n",
    "SUBJ_NAME — наименование предмета обучения,\n",
    "HOUR — количество часов, отводимых на изучение предмета,\n",
    "SEMESTER — семестр, в котором изучается данный предмет.\n",
    "\n",
    "\n",
    "UNIVERSITY\n",
    "UNIV_ID — идентификатор университета,\n",
    "UNIV_NAME — название университета,\n",
    "RATING — рейтинг университета,\n",
    "CITY — город, в котором расположен университет.\n",
    "\n",
    "\n",
    "EXAM_MARKS\n",
    "EXAM_ID — идентификатор экзамена,\n",
    "STUDENT_ID — идентификатор студента,\n",
    "SUBJ_ID — идентификатор предмета обучения,\n",
    "MARK — экзаменационная оценка,\n",
    "EXAM_DATE — дата экзамена.\n",
    "\n",
    "\n",
    "SUBJ_LECT\n",
    "LECTURER_ID — идентификатор преподавателя,\n",
    "SUBJ_ID — идентификатор предмета обучения.\n",
    "```\n",
    "\n",
    "<img src=\"../Img/Students_Schema.png\" style=\"width:60%\">"
   ]
  },
  {
   "cell_type": "code",
   "execution_count": 1,
   "metadata": {
    "pycharm": {
     "name": "#%%\n"
    }
   },
   "outputs": [],
   "source": [
    "#! pip install sqlalchemy"
   ]
  },
  {
   "cell_type": "code",
   "execution_count": 7,
   "metadata": {
    "pycharm": {
     "name": "#%%\n"
    }
   },
   "outputs": [],
   "source": [
    "import pandas as pd\n",
    "from sqlalchemy import MetaData, Table, create_engine, select, and_, or_, not_\n",
    "from sqlalchemy.sql import func, distinct, exists"
   ]
  },
  {
   "cell_type": "code",
   "execution_count": 2,
   "metadata": {
    "pycharm": {
     "name": "#%%\n"
    }
   },
   "outputs": [],
   "source": [
    "engine = create_engine('sqlite:///../Data/Students.db')\n",
    "metadata_obj = MetaData() # Объект-контейнер, содержит информацию о схеме данных\n",
    "metadata_obj.reflect(bind=engine) # Отображение БД"
   ]
  },
  {
   "cell_type": "markdown",
   "metadata": {
    "pycharm": {
     "name": "#%% md\n"
    }
   },
   "source": [
    "Создание объектов таблиц"
   ]
  },
  {
   "cell_type": "code",
   "execution_count": 3,
   "metadata": {
    "pycharm": {
     "name": "#%%\n"
    }
   },
   "outputs": [],
   "source": [
    "exam_marks=Table(\"exam_marks\", metadata_obj, autoload=True, autoload_with=\"engine\")\n",
    "lecturer=Table(\"lecturer\", metadata_obj, autoload=True, autoload_with=\"engine\")\n",
    "student=Table(\"student\", metadata_obj, autoload=True, autoload_with=\"engine\")\n",
    "subj_lect=Table(\"subj_lect\", metadata_obj, autoload=True, autoload_with=\"engine\")\n",
    "subject=Table(\"subject\", metadata_obj, autoload=True, autoload_with=\"engine\")\n",
    "university=Table(\"university\", metadata_obj, autolad=True, autolad_with=\"engine\")"
   ]
  },
  {
   "cell_type": "code",
   "execution_count": 4,
   "metadata": {
    "pycharm": {
     "name": "#%%\n"
    }
   },
   "outputs": [],
   "source": [
    "conn=engine.connect() # Соединение"
   ]
  },
  {
   "cell_type": "markdown",
   "metadata": {
    "pycharm": {
     "name": "#%% md\n"
    }
   },
   "source": [
    "<img src=../Img/pencil.png style=\"width:190px;height:190px\">\n",
    "<p style=\"background-color:powderblue; font-size:125%; color: rebeccapurple;\">Выполните задания</p>\n",
    "<p>Выполните задания в Jupyter Notebook</p>\n"
   ]
  },
  {
   "cell_type": "markdown",
   "metadata": {
    "pycharm": {
     "name": "#%% md\n"
    }
   },
   "source": [
    "# Решение"
   ]
  },
  {
   "cell_type": "code",
   "execution_count": 22,
   "metadata": {
    "scrolled": false,
    "pycharm": {
     "name": "#%%\n"
    }
   },
   "outputs": [
    {
     "data": {
      "text/plain": "    univ_id         univ_name  rating             city  kurs  Кол-во студентов\n0        14               БГУ   326.0         Белгород     1                 1\n1        14               БГУ   326.0         Белгород     2                 1\n2        14               БГУ   326.0         Белгород     3                 3\n3        14               БГУ   326.0         Белгород     4                 2\n4        14               БГУ   326.0         Белгород     5                 2\n5        18              ВГМА   327.0          Воронеж     1                 2\n6        18              ВГМА   327.0          Воронеж     2                 3\n7        18              ВГМА   327.0          Воронеж     4                 1\n8        18              ВГМА   327.0          Воронеж     5                 1\n9        10               ВГУ   296.0          Воронеж     1                 4\n10       10               ВГУ   296.0          Воронеж     2                 3\n11       10               ВГУ   296.0          Воронеж     3                 5\n12       10               ВГУ   296.0          Воронеж     4                 1\n13       10               ВГУ   296.0          Воронеж     5                 3\n14       47               КФУ     NaN           Казань     1                 1\n15       47               КФУ     NaN           Казань     2                 3\n16       47               КФУ     NaN           Казань     4                 2\n17       45  МГТУ им. Баумана   372.0           Москва     1                 1\n18       45  МГТУ им. Баумана   372.0           Москва     2                 1\n19       45  МГТУ им. Баумана   372.0           Москва     3                 3\n20       22               МГУ   606.0           Москва     1                 2\n21       22               МГУ   606.0           Москва     3                 2\n22       22               МГУ   606.0           Москва     4                 3\n23       22               МГУ   606.0           Москва     5                 3\n24       11               НГУ   345.0      Новосибирск     1                 1\n25       11               НГУ   345.0      Новосибирск     3                 1\n26       11               НГУ   345.0      Новосибирск     4                 1\n27       11               НГУ   345.0      Новосибирск     5                 1\n28       32               РГУ   416.0           Ростов     1                 4\n29       32               РГУ   416.0           Ростов     2                 1\n30       32               РГУ   416.0           Ростов     4                 2\n31       15               ТГУ   368.0            Томск     1                 1\n32       15               ТГУ   368.0            Томск     4                 1\n33       48              УЛГУ   231.0        Ульяновск     2                 3\n34       48              УЛГУ   231.0        Ульяновск     3                 2\n35       46   ФГБОУ \"Политех\"   304.0  Санкт-Петербург     1                 1\n36       46   ФГБОУ \"Политех\"   304.0  Санкт-Петербург     2                 3\n37       46   ФГБОУ \"Политех\"   304.0  Санкт-Петербург     3                 3\n38       46   ФГБОУ \"Политех\"   304.0  Санкт-Петербург     4                 1\n39       46   ФГБОУ \"Политех\"   304.0  Санкт-Петербург     5                 1\n40       44              ФинУ   330.0           Москва     2                 4\n41       44              ФинУ   330.0           Москва     3                 1\n42       44              ФинУ   330.0           Москва     4                 3\n43       44              ФинУ   330.0           Москва     5                 2",
      "text/html": "<div>\n<style scoped>\n    .dataframe tbody tr th:only-of-type {\n        vertical-align: middle;\n    }\n\n    .dataframe tbody tr th {\n        vertical-align: top;\n    }\n\n    .dataframe thead th {\n        text-align: right;\n    }\n</style>\n<table border=\"1\" class=\"dataframe\">\n  <thead>\n    <tr style=\"text-align: right;\">\n      <th></th>\n      <th>univ_id</th>\n      <th>univ_name</th>\n      <th>rating</th>\n      <th>city</th>\n      <th>kurs</th>\n      <th>Кол-во студентов</th>\n    </tr>\n  </thead>\n  <tbody>\n    <tr>\n      <th>0</th>\n      <td>14</td>\n      <td>БГУ</td>\n      <td>326.0</td>\n      <td>Белгород</td>\n      <td>1</td>\n      <td>1</td>\n    </tr>\n    <tr>\n      <th>1</th>\n      <td>14</td>\n      <td>БГУ</td>\n      <td>326.0</td>\n      <td>Белгород</td>\n      <td>2</td>\n      <td>1</td>\n    </tr>\n    <tr>\n      <th>2</th>\n      <td>14</td>\n      <td>БГУ</td>\n      <td>326.0</td>\n      <td>Белгород</td>\n      <td>3</td>\n      <td>3</td>\n    </tr>\n    <tr>\n      <th>3</th>\n      <td>14</td>\n      <td>БГУ</td>\n      <td>326.0</td>\n      <td>Белгород</td>\n      <td>4</td>\n      <td>2</td>\n    </tr>\n    <tr>\n      <th>4</th>\n      <td>14</td>\n      <td>БГУ</td>\n      <td>326.0</td>\n      <td>Белгород</td>\n      <td>5</td>\n      <td>2</td>\n    </tr>\n    <tr>\n      <th>5</th>\n      <td>18</td>\n      <td>ВГМА</td>\n      <td>327.0</td>\n      <td>Воронеж</td>\n      <td>1</td>\n      <td>2</td>\n    </tr>\n    <tr>\n      <th>6</th>\n      <td>18</td>\n      <td>ВГМА</td>\n      <td>327.0</td>\n      <td>Воронеж</td>\n      <td>2</td>\n      <td>3</td>\n    </tr>\n    <tr>\n      <th>7</th>\n      <td>18</td>\n      <td>ВГМА</td>\n      <td>327.0</td>\n      <td>Воронеж</td>\n      <td>4</td>\n      <td>1</td>\n    </tr>\n    <tr>\n      <th>8</th>\n      <td>18</td>\n      <td>ВГМА</td>\n      <td>327.0</td>\n      <td>Воронеж</td>\n      <td>5</td>\n      <td>1</td>\n    </tr>\n    <tr>\n      <th>9</th>\n      <td>10</td>\n      <td>ВГУ</td>\n      <td>296.0</td>\n      <td>Воронеж</td>\n      <td>1</td>\n      <td>4</td>\n    </tr>\n    <tr>\n      <th>10</th>\n      <td>10</td>\n      <td>ВГУ</td>\n      <td>296.0</td>\n      <td>Воронеж</td>\n      <td>2</td>\n      <td>3</td>\n    </tr>\n    <tr>\n      <th>11</th>\n      <td>10</td>\n      <td>ВГУ</td>\n      <td>296.0</td>\n      <td>Воронеж</td>\n      <td>3</td>\n      <td>5</td>\n    </tr>\n    <tr>\n      <th>12</th>\n      <td>10</td>\n      <td>ВГУ</td>\n      <td>296.0</td>\n      <td>Воронеж</td>\n      <td>4</td>\n      <td>1</td>\n    </tr>\n    <tr>\n      <th>13</th>\n      <td>10</td>\n      <td>ВГУ</td>\n      <td>296.0</td>\n      <td>Воронеж</td>\n      <td>5</td>\n      <td>3</td>\n    </tr>\n    <tr>\n      <th>14</th>\n      <td>47</td>\n      <td>КФУ</td>\n      <td>NaN</td>\n      <td>Казань</td>\n      <td>1</td>\n      <td>1</td>\n    </tr>\n    <tr>\n      <th>15</th>\n      <td>47</td>\n      <td>КФУ</td>\n      <td>NaN</td>\n      <td>Казань</td>\n      <td>2</td>\n      <td>3</td>\n    </tr>\n    <tr>\n      <th>16</th>\n      <td>47</td>\n      <td>КФУ</td>\n      <td>NaN</td>\n      <td>Казань</td>\n      <td>4</td>\n      <td>2</td>\n    </tr>\n    <tr>\n      <th>17</th>\n      <td>45</td>\n      <td>МГТУ им. Баумана</td>\n      <td>372.0</td>\n      <td>Москва</td>\n      <td>1</td>\n      <td>1</td>\n    </tr>\n    <tr>\n      <th>18</th>\n      <td>45</td>\n      <td>МГТУ им. Баумана</td>\n      <td>372.0</td>\n      <td>Москва</td>\n      <td>2</td>\n      <td>1</td>\n    </tr>\n    <tr>\n      <th>19</th>\n      <td>45</td>\n      <td>МГТУ им. Баумана</td>\n      <td>372.0</td>\n      <td>Москва</td>\n      <td>3</td>\n      <td>3</td>\n    </tr>\n    <tr>\n      <th>20</th>\n      <td>22</td>\n      <td>МГУ</td>\n      <td>606.0</td>\n      <td>Москва</td>\n      <td>1</td>\n      <td>2</td>\n    </tr>\n    <tr>\n      <th>21</th>\n      <td>22</td>\n      <td>МГУ</td>\n      <td>606.0</td>\n      <td>Москва</td>\n      <td>3</td>\n      <td>2</td>\n    </tr>\n    <tr>\n      <th>22</th>\n      <td>22</td>\n      <td>МГУ</td>\n      <td>606.0</td>\n      <td>Москва</td>\n      <td>4</td>\n      <td>3</td>\n    </tr>\n    <tr>\n      <th>23</th>\n      <td>22</td>\n      <td>МГУ</td>\n      <td>606.0</td>\n      <td>Москва</td>\n      <td>5</td>\n      <td>3</td>\n    </tr>\n    <tr>\n      <th>24</th>\n      <td>11</td>\n      <td>НГУ</td>\n      <td>345.0</td>\n      <td>Новосибирск</td>\n      <td>1</td>\n      <td>1</td>\n    </tr>\n    <tr>\n      <th>25</th>\n      <td>11</td>\n      <td>НГУ</td>\n      <td>345.0</td>\n      <td>Новосибирск</td>\n      <td>3</td>\n      <td>1</td>\n    </tr>\n    <tr>\n      <th>26</th>\n      <td>11</td>\n      <td>НГУ</td>\n      <td>345.0</td>\n      <td>Новосибирск</td>\n      <td>4</td>\n      <td>1</td>\n    </tr>\n    <tr>\n      <th>27</th>\n      <td>11</td>\n      <td>НГУ</td>\n      <td>345.0</td>\n      <td>Новосибирск</td>\n      <td>5</td>\n      <td>1</td>\n    </tr>\n    <tr>\n      <th>28</th>\n      <td>32</td>\n      <td>РГУ</td>\n      <td>416.0</td>\n      <td>Ростов</td>\n      <td>1</td>\n      <td>4</td>\n    </tr>\n    <tr>\n      <th>29</th>\n      <td>32</td>\n      <td>РГУ</td>\n      <td>416.0</td>\n      <td>Ростов</td>\n      <td>2</td>\n      <td>1</td>\n    </tr>\n    <tr>\n      <th>30</th>\n      <td>32</td>\n      <td>РГУ</td>\n      <td>416.0</td>\n      <td>Ростов</td>\n      <td>4</td>\n      <td>2</td>\n    </tr>\n    <tr>\n      <th>31</th>\n      <td>15</td>\n      <td>ТГУ</td>\n      <td>368.0</td>\n      <td>Томск</td>\n      <td>1</td>\n      <td>1</td>\n    </tr>\n    <tr>\n      <th>32</th>\n      <td>15</td>\n      <td>ТГУ</td>\n      <td>368.0</td>\n      <td>Томск</td>\n      <td>4</td>\n      <td>1</td>\n    </tr>\n    <tr>\n      <th>33</th>\n      <td>48</td>\n      <td>УЛГУ</td>\n      <td>231.0</td>\n      <td>Ульяновск</td>\n      <td>2</td>\n      <td>3</td>\n    </tr>\n    <tr>\n      <th>34</th>\n      <td>48</td>\n      <td>УЛГУ</td>\n      <td>231.0</td>\n      <td>Ульяновск</td>\n      <td>3</td>\n      <td>2</td>\n    </tr>\n    <tr>\n      <th>35</th>\n      <td>46</td>\n      <td>ФГБОУ \"Политех\"</td>\n      <td>304.0</td>\n      <td>Санкт-Петербург</td>\n      <td>1</td>\n      <td>1</td>\n    </tr>\n    <tr>\n      <th>36</th>\n      <td>46</td>\n      <td>ФГБОУ \"Политех\"</td>\n      <td>304.0</td>\n      <td>Санкт-Петербург</td>\n      <td>2</td>\n      <td>3</td>\n    </tr>\n    <tr>\n      <th>37</th>\n      <td>46</td>\n      <td>ФГБОУ \"Политех\"</td>\n      <td>304.0</td>\n      <td>Санкт-Петербург</td>\n      <td>3</td>\n      <td>3</td>\n    </tr>\n    <tr>\n      <th>38</th>\n      <td>46</td>\n      <td>ФГБОУ \"Политех\"</td>\n      <td>304.0</td>\n      <td>Санкт-Петербург</td>\n      <td>4</td>\n      <td>1</td>\n    </tr>\n    <tr>\n      <th>39</th>\n      <td>46</td>\n      <td>ФГБОУ \"Политех\"</td>\n      <td>304.0</td>\n      <td>Санкт-Петербург</td>\n      <td>5</td>\n      <td>1</td>\n    </tr>\n    <tr>\n      <th>40</th>\n      <td>44</td>\n      <td>ФинУ</td>\n      <td>330.0</td>\n      <td>Москва</td>\n      <td>2</td>\n      <td>4</td>\n    </tr>\n    <tr>\n      <th>41</th>\n      <td>44</td>\n      <td>ФинУ</td>\n      <td>330.0</td>\n      <td>Москва</td>\n      <td>3</td>\n      <td>1</td>\n    </tr>\n    <tr>\n      <th>42</th>\n      <td>44</td>\n      <td>ФинУ</td>\n      <td>330.0</td>\n      <td>Москва</td>\n      <td>4</td>\n      <td>3</td>\n    </tr>\n    <tr>\n      <th>43</th>\n      <td>44</td>\n      <td>ФинУ</td>\n      <td>330.0</td>\n      <td>Москва</td>\n      <td>5</td>\n      <td>2</td>\n    </tr>\n  </tbody>\n</table>\n</div>"
     },
     "execution_count": 22,
     "metadata": {},
     "output_type": "execute_result"
    }
   ],
   "source": [
    "# Ваш код здесь\n",
    "\n",
    "#1 напишите запрос получения списка университетов с указанием кол-ва студентов обучающихся на каждом курсе\n",
    "\n",
    "s = select(university, student.c.kurs, func.count(student.c.student_id).label(\"Кол-во студентов\")).join(student, university.c.univ_id == student.c.univ_id)\n",
    "s = s.group_by(university.c.univ_name, student.c.kurs)\n",
    "\n",
    "pd.read_sql(s, conn)\n"
   ]
  },
  {
   "cell_type": "code",
   "execution_count": 30,
   "outputs": [
    {
     "data": {
      "text/plain": "    lecturer_id     surname      name                  city  univ_id  \\\n0             1    Сафонова     Лукия              Смоленск       46   \n1             2     Зайцева      Юлия              Белгород       10   \n2             2     Зайцева      Юлия              Белгород       10   \n3             3   Мамонтова   Акулина        Троицк (Моск.)       11   \n4             5     Брагина    Нинель                  Кижи       48   \n5             6   Максимова    Иванна           Сковородино       10   \n6             6   Максимова    Иванна           Сковородино       10   \n7            11    Куликова    Ираида         Городовиковск       47   \n8            11    Куликова    Ираида         Городовиковск       47   \n9            12  Кудрявцева      Анна               Петушки       47   \n10           15    Дорофеев  Прокофий       Санкт-Петербург       32   \n11           16      Волков    Михаил               Черусти       45   \n12           16      Волков    Михаил               Черусти       45   \n13           18       Зимин     Юлиан               Черский       46   \n14           19    Алексеев    Елисей                Мценск       10   \n15           20     Тихонов   Ладомир  Кропоткин (Краснод.)       15   \n16           22    Беспалов     Юлиан               Рыбинск       15   \n17           22    Беспалов     Юлиан               Рыбинск       15   \n18           23     Беляков   Мефодий              Рославль       32   \n19           24  Колесников     Борис               Воронеж       10   \n20           46     Никонов      Иван               Воронеж       10   \n21           74     Лагутин     Павел                Москва       22   \n22          108     Струков   Николай                Москва       22   \n23          108     Струков   Николай                Москва       22   \n\n                                          subj_name  \n0                                   Английский язык  \n1                                           История  \n2   Теория вероятностей и математическая статистика  \n3           Программирование на языках Python и SQL  \n4                                               ОБЖ  \n5                                     Анализ данных  \n6           Программирование на языках Python и SQL  \n7                                        Математика  \n8                                           История  \n9                                       Информатика  \n10          Программирование на языках Python и SQL  \n11                                  Английский язык  \n12          Программирование на языках Python и SQL  \n13          Программирование на языках Python и SQL  \n14                                              ОБЖ  \n15                                      Информатика  \n16                                      Информатика  \n17                                      Физкультура  \n18                                      Информатика  \n19                                           Физика  \n20                                          История  \n21                                  Английский язык  \n22                                              ОБЖ  \n23                                      Информатика  ",
      "text/html": "<div>\n<style scoped>\n    .dataframe tbody tr th:only-of-type {\n        vertical-align: middle;\n    }\n\n    .dataframe tbody tr th {\n        vertical-align: top;\n    }\n\n    .dataframe thead th {\n        text-align: right;\n    }\n</style>\n<table border=\"1\" class=\"dataframe\">\n  <thead>\n    <tr style=\"text-align: right;\">\n      <th></th>\n      <th>lecturer_id</th>\n      <th>surname</th>\n      <th>name</th>\n      <th>city</th>\n      <th>univ_id</th>\n      <th>subj_name</th>\n    </tr>\n  </thead>\n  <tbody>\n    <tr>\n      <th>0</th>\n      <td>1</td>\n      <td>Сафонова</td>\n      <td>Лукия</td>\n      <td>Смоленск</td>\n      <td>46</td>\n      <td>Английский язык</td>\n    </tr>\n    <tr>\n      <th>1</th>\n      <td>2</td>\n      <td>Зайцева</td>\n      <td>Юлия</td>\n      <td>Белгород</td>\n      <td>10</td>\n      <td>История</td>\n    </tr>\n    <tr>\n      <th>2</th>\n      <td>2</td>\n      <td>Зайцева</td>\n      <td>Юлия</td>\n      <td>Белгород</td>\n      <td>10</td>\n      <td>Теория вероятностей и математическая статистика</td>\n    </tr>\n    <tr>\n      <th>3</th>\n      <td>3</td>\n      <td>Мамонтова</td>\n      <td>Акулина</td>\n      <td>Троицк (Моск.)</td>\n      <td>11</td>\n      <td>Программирование на языках Python и SQL</td>\n    </tr>\n    <tr>\n      <th>4</th>\n      <td>5</td>\n      <td>Брагина</td>\n      <td>Нинель</td>\n      <td>Кижи</td>\n      <td>48</td>\n      <td>ОБЖ</td>\n    </tr>\n    <tr>\n      <th>5</th>\n      <td>6</td>\n      <td>Максимова</td>\n      <td>Иванна</td>\n      <td>Сковородино</td>\n      <td>10</td>\n      <td>Анализ данных</td>\n    </tr>\n    <tr>\n      <th>6</th>\n      <td>6</td>\n      <td>Максимова</td>\n      <td>Иванна</td>\n      <td>Сковородино</td>\n      <td>10</td>\n      <td>Программирование на языках Python и SQL</td>\n    </tr>\n    <tr>\n      <th>7</th>\n      <td>11</td>\n      <td>Куликова</td>\n      <td>Ираида</td>\n      <td>Городовиковск</td>\n      <td>47</td>\n      <td>Математика</td>\n    </tr>\n    <tr>\n      <th>8</th>\n      <td>11</td>\n      <td>Куликова</td>\n      <td>Ираида</td>\n      <td>Городовиковск</td>\n      <td>47</td>\n      <td>История</td>\n    </tr>\n    <tr>\n      <th>9</th>\n      <td>12</td>\n      <td>Кудрявцева</td>\n      <td>Анна</td>\n      <td>Петушки</td>\n      <td>47</td>\n      <td>Информатика</td>\n    </tr>\n    <tr>\n      <th>10</th>\n      <td>15</td>\n      <td>Дорофеев</td>\n      <td>Прокофий</td>\n      <td>Санкт-Петербург</td>\n      <td>32</td>\n      <td>Программирование на языках Python и SQL</td>\n    </tr>\n    <tr>\n      <th>11</th>\n      <td>16</td>\n      <td>Волков</td>\n      <td>Михаил</td>\n      <td>Черусти</td>\n      <td>45</td>\n      <td>Английский язык</td>\n    </tr>\n    <tr>\n      <th>12</th>\n      <td>16</td>\n      <td>Волков</td>\n      <td>Михаил</td>\n      <td>Черусти</td>\n      <td>45</td>\n      <td>Программирование на языках Python и SQL</td>\n    </tr>\n    <tr>\n      <th>13</th>\n      <td>18</td>\n      <td>Зимин</td>\n      <td>Юлиан</td>\n      <td>Черский</td>\n      <td>46</td>\n      <td>Программирование на языках Python и SQL</td>\n    </tr>\n    <tr>\n      <th>14</th>\n      <td>19</td>\n      <td>Алексеев</td>\n      <td>Елисей</td>\n      <td>Мценск</td>\n      <td>10</td>\n      <td>ОБЖ</td>\n    </tr>\n    <tr>\n      <th>15</th>\n      <td>20</td>\n      <td>Тихонов</td>\n      <td>Ладомир</td>\n      <td>Кропоткин (Краснод.)</td>\n      <td>15</td>\n      <td>Информатика</td>\n    </tr>\n    <tr>\n      <th>16</th>\n      <td>22</td>\n      <td>Беспалов</td>\n      <td>Юлиан</td>\n      <td>Рыбинск</td>\n      <td>15</td>\n      <td>Информатика</td>\n    </tr>\n    <tr>\n      <th>17</th>\n      <td>22</td>\n      <td>Беспалов</td>\n      <td>Юлиан</td>\n      <td>Рыбинск</td>\n      <td>15</td>\n      <td>Физкультура</td>\n    </tr>\n    <tr>\n      <th>18</th>\n      <td>23</td>\n      <td>Беляков</td>\n      <td>Мефодий</td>\n      <td>Рославль</td>\n      <td>32</td>\n      <td>Информатика</td>\n    </tr>\n    <tr>\n      <th>19</th>\n      <td>24</td>\n      <td>Колесников</td>\n      <td>Борис</td>\n      <td>Воронеж</td>\n      <td>10</td>\n      <td>Физика</td>\n    </tr>\n    <tr>\n      <th>20</th>\n      <td>46</td>\n      <td>Никонов</td>\n      <td>Иван</td>\n      <td>Воронеж</td>\n      <td>10</td>\n      <td>История</td>\n    </tr>\n    <tr>\n      <th>21</th>\n      <td>74</td>\n      <td>Лагутин</td>\n      <td>Павел</td>\n      <td>Москва</td>\n      <td>22</td>\n      <td>Английский язык</td>\n    </tr>\n    <tr>\n      <th>22</th>\n      <td>108</td>\n      <td>Струков</td>\n      <td>Николай</td>\n      <td>Москва</td>\n      <td>22</td>\n      <td>ОБЖ</td>\n    </tr>\n    <tr>\n      <th>23</th>\n      <td>108</td>\n      <td>Струков</td>\n      <td>Николай</td>\n      <td>Москва</td>\n      <td>22</td>\n      <td>Информатика</td>\n    </tr>\n  </tbody>\n</table>\n</div>"
     },
     "execution_count": 30,
     "metadata": {},
     "output_type": "execute_result"
    }
   ],
   "source": [
    "# 2. Покажите список преподавателей с указанием их учебных предметов\n",
    "\n",
    "s = select(lecturer, subject.c.subj_name).join(subj_lect, lecturer.c.lecturer_id == subj_lect.c.lecturer_id).join(subject, subj_lect.c.subj_id == subject.c.subj_id)\n",
    "s = s.order_by(lecturer.c.lecturer_id)\n",
    "\n",
    "pd.read_sql(s, conn)"
   ],
   "metadata": {
    "collapsed": false,
    "pycharm": {
     "name": "#%%\n"
    }
   }
  },
  {
   "cell_type": "code",
   "execution_count": null,
   "outputs": [],
   "source": [],
   "metadata": {
    "collapsed": false,
    "pycharm": {
     "name": "#%%\n"
    }
   }
  }
 ],
 "metadata": {
  "kernelspec": {
   "display_name": "Python 3",
   "language": "python",
   "name": "python3"
  },
  "language_info": {
   "codemirror_mode": {
    "name": "ipython",
    "version": 3
   },
   "file_extension": ".py",
   "mimetype": "text/x-python",
   "name": "python",
   "nbconvert_exporter": "python",
   "pygments_lexer": "ipython3",
   "version": "3.7.6"
  }
 },
 "nbformat": 4,
 "nbformat_minor": 5
}