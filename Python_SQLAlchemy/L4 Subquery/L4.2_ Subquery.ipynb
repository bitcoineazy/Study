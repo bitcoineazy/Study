{
 "cells": [
  {
   "cell_type": "markdown",
   "id": "c3789fc7",
   "metadata": {
    "pycharm": {
     "name": "#%% md\n"
    }
   },
   "source": [
    "<img src=\"../Img/Python_SQL_PI.png\" style=\"width:100%\">\n",
    "\n",
    "\n",
    "<p style=\"font-size:22px;text-align:center\">Семинар 4.2. Подзапросы</p> \n",
    "\n",
    "<a id = Home></a>\n",
    "\n",
    "24 марта 2022 года, чт<br>\n",
    "Поток: ПИ20-1, ПИ20-2, ПИ20-3, ПИ20-4, ПИ20-5, ПИ20-6 (2 подгруппа)<br>\n",
    "\n",
    "\n",
    "28 марта 2022 года, пн<br>\n",
    "ПИ20-1, ПИ20-2, ПИ20-3, ПИ20-4, ПИ20-5, ПИ20-6 (3 подгруппа)<br>\n",
    "ПИ20-1, ПИ20-2, ПИ20-3, ПИ20-4, ПИ20-5, ПИ20-6 (4 подгруппа)<br>\n",
    "\n",
    "31 марта 2022 года, чт<br>\n",
    "ПИ20-1, ПИ20-2, ПИ20-3, ПИ20-4, ПИ20-5, ПИ20-6 (1 подгруппа)"
   ]
  },
  {
   "cell_type": "markdown",
   "id": "e342dad9",
   "metadata": {
    "pycharm": {
     "name": "#%% md\n"
    }
   },
   "source": [
    "\n",
    "```\n",
    "STUDENT\n",
    "STUDENT_ID — числовой код, идентифицирующий студента (идентификатор студента),\n",
    "SURNAME — фамилия студента,\n",
    "NAME — имя студента,\n",
    "STIPEND — стипендия, которую получает студент,\n",
    "KURS — курс, на котором учится студент,\n",
    "CITY — город, в котором живет студент,\n",
    "BIRTHDAY — дата рождения студента,\n",
    "UNIV_ID — идентификатор университета, в котором учится студент.\n",
    "\n",
    "\n",
    "LECTURER\n",
    "LECTURER_ID — идентификатор преподавателя,\n",
    "SURNAME — фамилия преподавателя,\n",
    "NAME — имя преподавателя,\n",
    "CITY — город, в котором живет преподаватель,\n",
    "UNIV_ID — идентификатор университета, в котором работает преподаватель\n",
    "\n",
    "\n",
    "SUBJECT\n",
    "SUBJ_ID — идентификатор предмета обучения,\n",
    "SUBJ_NAME — наименование предмета обучения,\n",
    "HOUR — количество часов, отводимых на изучение предмета,\n",
    "SEMESTER — семестр, в котором изучается данный предмет.\n",
    "\n",
    "\n",
    "UNIVERSITY\n",
    "UNIV_ID — идентификатор университета,\n",
    "UNIV_NAME — название университета,\n",
    "RATING — рейтинг университета,\n",
    "CITY — город, в котором расположен университет.\n",
    "\n",
    "\n",
    "EXAM_MARKS\n",
    "EXAM_ID — идентификатор экзамена,\n",
    "STUDENT_ID — идентификатор студента,\n",
    "SUBJ_ID — идентификатор предмета обучения,\n",
    "MARK — экзаменационная оценка,\n",
    "EXAM_DATE — дата экзамена.\n",
    "\n",
    "\n",
    "SUBJ_LECT\n",
    "LECTURER_ID — идентификатор преподавателя,\n",
    "SUBJ_ID — идентификатор предмета обучения.\n",
    "```\n",
    "\n",
    "<img src=\"../Img/Students_Schema.png\" style=\"width:60%\">"
   ]
  },
  {
   "cell_type": "markdown",
   "id": "8d208556",
   "metadata": {
    "pycharm": {
     "name": "#%% md\n"
    }
   },
   "source": [
    "<img src=../Img/pencil.png style=\"width:190px;height:190px\">\n",
    "<p style=\"background-color:powderblue; font-size:125%; color: rebeccapurple;\">Выполните задания</p>\n",
    "<p>Выполните задания в Jupyter Notebook на тему \"Связанные подзапросы\"</p>\n",
    "\n",
    "1. Напишите запрос для получения списка студентов, которые учатся в своем городе.\n",
    "2. Напишите запрос для получения списка иногородних студентов (обучающихся не в своем городе), с последующей сортировкой по идентификаторам университетов и курсам.\n",
    "3. Напишите запрос для получения списка преподавателей, работающих не в своем городе, с последующей сортировкой по идентификаторам университетов и городам проживания преподавателей.\n",
    "4. Напишите запрос для получения списка предметов, на изучение которых отведено максимальное количество часов среди всех предметов, изучаемых в том же семестре. Список упорядочить по семестрам.\n",
    "5. Напишите запрос для получения списка студентов, получающих стипендию, превосходящую среднее значение стипендии на их курсе.\n",
    "6. Напишите запрос для получения списка студентов, получающих минимальную стипендию в своем университете, с последующей сортировкой по значениям идентификатора университета и стипендии.\n",
    "7. Напишите запрос для получения списка университетов, в которых учится более 50 студентов, с последующей сортировкой по рейтингам.\n",
    "8. Напишите запрос для получения списка университетов, в которых работает более 5 преподавателей, с последующей сортировкой по рейтингам университетов.\n",
    "9. Напишите запрос для получения списка отличников (студентов, получивших только отличные оценки), с последующей сортировкой по идентификаторам университетов и курсам.\n",
    "10. Напишите запрос для получения списка неуспевающих студентов (получивших хотя бы одну неудовлетворительную оценку), с последующей сортировкой по идентификаторам университетов и курсам."
   ]
  },
  {
   "cell_type": "markdown",
   "id": "5883682d",
   "metadata": {
    "pycharm": {
     "name": "#%% md\n"
    }
   },
   "source": [
    "<p style=\"background-color:powderblue; font-size:125%; color: rebeccapurple;\">Выполните задания</p>\n",
    "<p>Выполните задания в Jupyter Notebook на тему \"Связанные подзапросы в Having\".</p>\n",
    "\n",
    "1. Напишите команду SELECT, использующую связанные подзапросы и выполняющую вывод имен и идентификаторов студентов, у которых стипендия совпадает с максимальным значением стипендии для города, в котором живет студент.\n",
    "6. Напишите запрос, который позволяет вывести имена и идентификаторы всех студентов, о которых точно известно, что они проживают в городе, где нет ни одного университета.\n",
    "7. Напишите два запроса, которые позволяют вывести имена и идентификаторы всех студентов, о которых точно известно, что они проживают не в том городе, где расположен их университет: один запрос с использованием связанного подзапроса, а другой с использованием соединения."
   ]
  },
  {
   "cell_type": "markdown",
   "id": "33bdbadc",
   "metadata": {
    "pycharm": {
     "name": "#%% md\n"
    }
   },
   "source": [
    "<p style=\"background-color:powderblue; font-size:125%; color: rebeccapurple;\">Выполните задания</p>\n",
    "<p>Выполните задания в Jupyter Notebook на тему \"Использование оператора EXISTS\".</p>\n",
    "\n",
    "1. Напишите запрос с EXISTS, позволяющий вывести данные обо всех студентах обучающихся в вузах, имеющих рейтинг выше 300.\n",
    "\n",
    "2. Напишите предыдущий запрос, используя соединения.\n",
    "\n",
    "3. Напишите запрос с EXISTS, выбирающий сведения о каждом студенте, для которого в городе его проживания имеется хотя бы один университет, в котором он не учится.\n",
    "\n",
    "4. Напишите запрос, выбирающий из таблицы SUBJECT данные о названиях предметов обучения, экзамены по которым сданы более чем одним студентом.\n",
    "\n",
    "5. Напишите запрос для получения списка городов проживания студентов, в которых есть хотя бы один университет."
   ]
  },
  {
   "cell_type": "code",
   "execution_count": 1,
   "id": "157e5d41",
   "metadata": {
    "pycharm": {
     "name": "#%%\n"
    }
   },
   "outputs": [],
   "source": [
    "#! pip install sqlalchemy"
   ]
  },
  {
   "cell_type": "code",
   "execution_count": 64,
   "id": "c6a7d2b2",
   "metadata": {
    "pycharm": {
     "name": "#%%\n"
    }
   },
   "outputs": [],
   "source": [
    "import pandas as pd\n",
    "from sqlalchemy import MetaData, Table, create_engine, select, and_, or_, not_, exists\n",
    "from sqlalchemy.sql import func"
   ]
  },
  {
   "cell_type": "code",
   "execution_count": 7,
   "id": "21c6d156",
   "metadata": {
    "pycharm": {
     "name": "#%%\n"
    }
   },
   "outputs": [],
   "source": [
    "engine = create_engine('sqlite:///../Data/Students.db')\n",
    "metadata_obj = MetaData() # Объект-контейнер, содержит информацию о схеме данных\n",
    "metadata_obj.reflect(bind=engine) # Отображение БД\n",
    "# Вызов метода reflect() приводит к включению в объект metadata_obj словаря всех таблиц БД.\n",
    "conn=engine.connect() # Соединение"
   ]
  },
  {
   "cell_type": "code",
   "execution_count": 8,
   "id": "42f122f4",
   "metadata": {
    "pycharm": {
     "name": "#%%\n"
    }
   },
   "outputs": [
    {
     "data": {
      "text/plain": "dict_keys(['city', 'exam_marks', 'student', 'university', 'subject', 'lecturer', 'subj_lect'])"
     },
     "execution_count": 8,
     "metadata": {},
     "output_type": "execute_result"
    }
   ],
   "source": [
    "# Таблицы в БД\n",
    "metadata_obj.tables.keys()"
   ]
  },
  {
   "cell_type": "markdown",
   "id": "eb452bf9",
   "metadata": {
    "pycharm": {
     "name": "#%% md\n"
    }
   },
   "source": [
    "Создание объектов таблиц"
   ]
  },
  {
   "cell_type": "code",
   "execution_count": 9,
   "id": "e86593a9",
   "metadata": {
    "pycharm": {
     "name": "#%%\n"
    }
   },
   "outputs": [],
   "source": [
    "exam_marks=Table(\"exam_marks\", metadata_obj, autoload=True, autoload_with=\"engine\")\n",
    "lecturer=Table(\"lecturer\", metadata_obj, autoload=True, autoload_with=\"engine\")\n",
    "student=Table(\"student\", metadata_obj, autoload=True, autoload_with=\"engine\")\n",
    "subj_lect=Table(\"subj_lect\", metadata_obj, autoload=True, autoload_with=\"engine\")\n",
    "subject=Table(\"subject\", metadata_obj, autoload=True, autoload_with=\"engine\")\n",
    "university=Table(\"university\", metadata_obj, autolad=True, autolad_with=\"engine\")"
   ]
  },
  {
   "cell_type": "markdown",
   "id": "4f0287f8",
   "metadata": {
    "pycharm": {
     "name": "#%% md\n"
    }
   },
   "source": [
    "# Решение"
   ]
  },
  {
   "cell_type": "code",
   "execution_count": 9,
   "id": "f760b09d",
   "metadata": {
    "pycharm": {
     "name": "#%%\n"
    }
   },
   "outputs": [],
   "source": []
  },
  {
   "cell_type": "code",
   "execution_count": 10,
   "id": "f0e2378d",
   "metadata": {
    "scrolled": false,
    "pycharm": {
     "name": "#%%\n"
    }
   },
   "outputs": [
    {
     "name": "stdout",
     "output_type": "stream",
     "text": [
      "SELECT student.surname, student.name, student.city \n",
      "FROM student \n",
      "WHERE student.city = (SELECT university.city \n",
      "FROM university \n",
      "WHERE university.univ_id = student.univ_id)\n"
     ]
    },
    {
     "data": {
      "text/plain": "     surname       name         city\n0    Сидоров      Вадим       Москва\n1      Котов      Павел     Белгород\n2     Белкин      Вадим      Воронеж\n3  Журавлева       Вера  Новосибирск\n4    Баранов  Александр       Москва\n5    Петрова  Екатерина     Белгород\n6   Миронова      Федор       Москва\n7     Павлов     Андрей      Воронеж\n8      Лукин      Артем      Воронеж",
      "text/html": "<div>\n<style scoped>\n    .dataframe tbody tr th:only-of-type {\n        vertical-align: middle;\n    }\n\n    .dataframe tbody tr th {\n        vertical-align: top;\n    }\n\n    .dataframe thead th {\n        text-align: right;\n    }\n</style>\n<table border=\"1\" class=\"dataframe\">\n  <thead>\n    <tr style=\"text-align: right;\">\n      <th></th>\n      <th>surname</th>\n      <th>name</th>\n      <th>city</th>\n    </tr>\n  </thead>\n  <tbody>\n    <tr>\n      <th>0</th>\n      <td>Сидоров</td>\n      <td>Вадим</td>\n      <td>Москва</td>\n    </tr>\n    <tr>\n      <th>1</th>\n      <td>Котов</td>\n      <td>Павел</td>\n      <td>Белгород</td>\n    </tr>\n    <tr>\n      <th>2</th>\n      <td>Белкин</td>\n      <td>Вадим</td>\n      <td>Воронеж</td>\n    </tr>\n    <tr>\n      <th>3</th>\n      <td>Журавлева</td>\n      <td>Вера</td>\n      <td>Новосибирск</td>\n    </tr>\n    <tr>\n      <th>4</th>\n      <td>Баранов</td>\n      <td>Александр</td>\n      <td>Москва</td>\n    </tr>\n    <tr>\n      <th>5</th>\n      <td>Петрова</td>\n      <td>Екатерина</td>\n      <td>Белгород</td>\n    </tr>\n    <tr>\n      <th>6</th>\n      <td>Миронова</td>\n      <td>Федор</td>\n      <td>Москва</td>\n    </tr>\n    <tr>\n      <th>7</th>\n      <td>Павлов</td>\n      <td>Андрей</td>\n      <td>Воронеж</td>\n    </tr>\n    <tr>\n      <th>8</th>\n      <td>Лукин</td>\n      <td>Артем</td>\n      <td>Воронеж</td>\n    </tr>\n  </tbody>\n</table>\n</div>"
     },
     "execution_count": 10,
     "metadata": {},
     "output_type": "execute_result"
    }
   ],
   "source": [
    "# Ваш код здесь\n",
    "\n",
    "#1 Напишите запрос для получения списка студентов, которые учатся в своем городе.\n",
    "# SQL -\n",
    "\n",
    "subq = select(university.c.city)\n",
    "subq = subq.where(university.c.univ_id == student.c.univ_id).scalar_subquery()\n",
    "\n",
    "s = select(student.c.surname, student.c.name, student.c.city)\n",
    "s = s.where(student.c.city == subq)\n",
    "\n",
    "print(s)\n",
    "pd.read_sql(s, conn)\n",
    "\n"
   ]
  },
  {
   "cell_type": "code",
   "execution_count": 15,
   "outputs": [
    {
     "name": "stdout",
     "output_type": "stream",
     "text": [
      "SELECT student.student_id, student.surname, student.name, student.stipend, student.kurs, student.city, student.birthday, student.univ_id \n",
      "FROM student \n",
      "WHERE student.city != (SELECT university.city \n",
      "FROM university \n",
      "WHERE student.univ_id = university.univ_id) ORDER BY student.univ_id\n"
     ]
    },
    {
     "data": {
      "text/plain": "   student_id     surname      name  stipend  kurs         city   birthday  \\\n0           1      Иванов      Иван      150     1         Орел 2002-12-03   \n1           3      Петров      Петр      200     3        Курск 2000-12-01   \n2          10    Кузнецов     Борис        0     2       Брянск 2001-12-08   \n3          12     Зайцева     Ольга      250     2       Липецк 2001-05-01   \n4          62    Семенова  Вероника        0     3      Вологда 2003-10-04   \n5          66   Некрасова  Вероника      250     2      Иркутск 2004-08-23   \n6          76  Мельникова     Дарья      100     5  Архангельск 2002-08-01   \n7          78    Агафонов   Василий      150     1      Грозный 1994-10-29   \n8          88     Жданова     Ирина      200     3        Тверь 2002-03-02   \n9          99    Борисова    Марина      150     1     Рославль 1995-08-07   \n\n   univ_id  \n0       10  \n1       10  \n2       10  \n3       10  \n4       10  \n5       10  \n6       10  \n7       10  \n8       10  \n9       10  ",
      "text/html": "<div>\n<style scoped>\n    .dataframe tbody tr th:only-of-type {\n        vertical-align: middle;\n    }\n\n    .dataframe tbody tr th {\n        vertical-align: top;\n    }\n\n    .dataframe thead th {\n        text-align: right;\n    }\n</style>\n<table border=\"1\" class=\"dataframe\">\n  <thead>\n    <tr style=\"text-align: right;\">\n      <th></th>\n      <th>student_id</th>\n      <th>surname</th>\n      <th>name</th>\n      <th>stipend</th>\n      <th>kurs</th>\n      <th>city</th>\n      <th>birthday</th>\n      <th>univ_id</th>\n    </tr>\n  </thead>\n  <tbody>\n    <tr>\n      <th>0</th>\n      <td>1</td>\n      <td>Иванов</td>\n      <td>Иван</td>\n      <td>150</td>\n      <td>1</td>\n      <td>Орел</td>\n      <td>2002-12-03</td>\n      <td>10</td>\n    </tr>\n    <tr>\n      <th>1</th>\n      <td>3</td>\n      <td>Петров</td>\n      <td>Петр</td>\n      <td>200</td>\n      <td>3</td>\n      <td>Курск</td>\n      <td>2000-12-01</td>\n      <td>10</td>\n    </tr>\n    <tr>\n      <th>2</th>\n      <td>10</td>\n      <td>Кузнецов</td>\n      <td>Борис</td>\n      <td>0</td>\n      <td>2</td>\n      <td>Брянск</td>\n      <td>2001-12-08</td>\n      <td>10</td>\n    </tr>\n    <tr>\n      <th>3</th>\n      <td>12</td>\n      <td>Зайцева</td>\n      <td>Ольга</td>\n      <td>250</td>\n      <td>2</td>\n      <td>Липецк</td>\n      <td>2001-05-01</td>\n      <td>10</td>\n    </tr>\n    <tr>\n      <th>4</th>\n      <td>62</td>\n      <td>Семенова</td>\n      <td>Вероника</td>\n      <td>0</td>\n      <td>3</td>\n      <td>Вологда</td>\n      <td>2003-10-04</td>\n      <td>10</td>\n    </tr>\n    <tr>\n      <th>5</th>\n      <td>66</td>\n      <td>Некрасова</td>\n      <td>Вероника</td>\n      <td>250</td>\n      <td>2</td>\n      <td>Иркутск</td>\n      <td>2004-08-23</td>\n      <td>10</td>\n    </tr>\n    <tr>\n      <th>6</th>\n      <td>76</td>\n      <td>Мельникова</td>\n      <td>Дарья</td>\n      <td>100</td>\n      <td>5</td>\n      <td>Архангельск</td>\n      <td>2002-08-01</td>\n      <td>10</td>\n    </tr>\n    <tr>\n      <th>7</th>\n      <td>78</td>\n      <td>Агафонов</td>\n      <td>Василий</td>\n      <td>150</td>\n      <td>1</td>\n      <td>Грозный</td>\n      <td>1994-10-29</td>\n      <td>10</td>\n    </tr>\n    <tr>\n      <th>8</th>\n      <td>88</td>\n      <td>Жданова</td>\n      <td>Ирина</td>\n      <td>200</td>\n      <td>3</td>\n      <td>Тверь</td>\n      <td>2002-03-02</td>\n      <td>10</td>\n    </tr>\n    <tr>\n      <th>9</th>\n      <td>99</td>\n      <td>Борисова</td>\n      <td>Марина</td>\n      <td>150</td>\n      <td>1</td>\n      <td>Рославль</td>\n      <td>1995-08-07</td>\n      <td>10</td>\n    </tr>\n  </tbody>\n</table>\n</div>"
     },
     "execution_count": 15,
     "metadata": {},
     "output_type": "execute_result"
    }
   ],
   "source": [
    "# 2 Напишите запрос для получения списка иногородних студентов (обучающихся не в своем городе), с последующей сортировкой по идентификаторам университетов и курсам.\n",
    "# SQL -\n",
    "sq = select(university.c.city)\n",
    "sub_query = sq.where(student.c.univ_id == university.c.univ_id).scalar_subquery()\n",
    "\n",
    "s = select(student)\n",
    "s = s.where(student.c.city != sub_query).scalar_subquery()\n",
    "s = s.order_by(student.c.univ_id)\n",
    "\n",
    "print(s)\n",
    "pd.read_sql(s, conn)[:10]\n",
    "\n"
   ],
   "metadata": {
    "collapsed": false,
    "pycharm": {
     "name": "#%%\n"
    }
   }
  },
  {
   "cell_type": "code",
   "execution_count": 18,
   "outputs": [
    {
     "name": "stdout",
     "output_type": "stream",
     "text": [
      "SELECT lecturer.lecturer_id, lecturer.surname, lecturer.name, lecturer.city, lecturer.univ_id \n",
      "FROM lecturer \n",
      "WHERE lecturer.city != (SELECT university.city \n",
      "FROM university \n",
      "WHERE lecturer.univ_id = university.univ_id)\n",
      "Кол-во записей удовлетворяющих условию: 24\n"
     ]
    },
    {
     "data": {
      "text/plain": "    lecturer_id     surname       name                  city  univ_id\n0             1    Сафонова      Лукия              Смоленск       46\n1             2     Зайцева       Юлия              Белгород       10\n2             3   Мамонтова    Акулина        Троицк (Моск.)       11\n3             4   Богданова     Оксана            Всеволожск       18\n4             5     Брагина     Нинель                  Кижи       48\n5             6   Максимова     Иванна           Сковородино       10\n6             7   Дмитриева     Оксана                 Шарья       48\n7             8   Ситникова   Светлана             Сорочинск       18\n8             9     Крюкова    Людмила                 Анива       18\n9            10   Артемьева       Майя                 Курск       18\n10           11    Куликова     Ираида         Городовиковск       47\n11           12  Кудрявцева       Анна               Петушки       47\n12           13      Зыкова     Оксана                 Калач       10\n13           14    Стрелков     Руслан               Королев       46\n14           15    Дорофеев   Прокофий       Санкт-Петербург       32\n15           16      Волков     Михаил               Черусти       45\n16           17     Сафонов    Будимир                Киржач       18\n17           18       Зимин      Юлиан               Черский       46\n18           19    Алексеев     Елисей                Мценск       10\n19           20     Тихонов    Ладомир  Кропоткин (Краснод.)       15\n20           21     Елисеев  Виссарион            Курганинск       48\n21           22    Беспалов      Юлиан               Рыбинск       15\n22           23     Беляков    Мефодий              Рославль       32\n23          328     Сорокин     Андрей                  Орел       10",
      "text/html": "<div>\n<style scoped>\n    .dataframe tbody tr th:only-of-type {\n        vertical-align: middle;\n    }\n\n    .dataframe tbody tr th {\n        vertical-align: top;\n    }\n\n    .dataframe thead th {\n        text-align: right;\n    }\n</style>\n<table border=\"1\" class=\"dataframe\">\n  <thead>\n    <tr style=\"text-align: right;\">\n      <th></th>\n      <th>lecturer_id</th>\n      <th>surname</th>\n      <th>name</th>\n      <th>city</th>\n      <th>univ_id</th>\n    </tr>\n  </thead>\n  <tbody>\n    <tr>\n      <th>0</th>\n      <td>1</td>\n      <td>Сафонова</td>\n      <td>Лукия</td>\n      <td>Смоленск</td>\n      <td>46</td>\n    </tr>\n    <tr>\n      <th>1</th>\n      <td>2</td>\n      <td>Зайцева</td>\n      <td>Юлия</td>\n      <td>Белгород</td>\n      <td>10</td>\n    </tr>\n    <tr>\n      <th>2</th>\n      <td>3</td>\n      <td>Мамонтова</td>\n      <td>Акулина</td>\n      <td>Троицк (Моск.)</td>\n      <td>11</td>\n    </tr>\n    <tr>\n      <th>3</th>\n      <td>4</td>\n      <td>Богданова</td>\n      <td>Оксана</td>\n      <td>Всеволожск</td>\n      <td>18</td>\n    </tr>\n    <tr>\n      <th>4</th>\n      <td>5</td>\n      <td>Брагина</td>\n      <td>Нинель</td>\n      <td>Кижи</td>\n      <td>48</td>\n    </tr>\n    <tr>\n      <th>5</th>\n      <td>6</td>\n      <td>Максимова</td>\n      <td>Иванна</td>\n      <td>Сковородино</td>\n      <td>10</td>\n    </tr>\n    <tr>\n      <th>6</th>\n      <td>7</td>\n      <td>Дмитриева</td>\n      <td>Оксана</td>\n      <td>Шарья</td>\n      <td>48</td>\n    </tr>\n    <tr>\n      <th>7</th>\n      <td>8</td>\n      <td>Ситникова</td>\n      <td>Светлана</td>\n      <td>Сорочинск</td>\n      <td>18</td>\n    </tr>\n    <tr>\n      <th>8</th>\n      <td>9</td>\n      <td>Крюкова</td>\n      <td>Людмила</td>\n      <td>Анива</td>\n      <td>18</td>\n    </tr>\n    <tr>\n      <th>9</th>\n      <td>10</td>\n      <td>Артемьева</td>\n      <td>Майя</td>\n      <td>Курск</td>\n      <td>18</td>\n    </tr>\n    <tr>\n      <th>10</th>\n      <td>11</td>\n      <td>Куликова</td>\n      <td>Ираида</td>\n      <td>Городовиковск</td>\n      <td>47</td>\n    </tr>\n    <tr>\n      <th>11</th>\n      <td>12</td>\n      <td>Кудрявцева</td>\n      <td>Анна</td>\n      <td>Петушки</td>\n      <td>47</td>\n    </tr>\n    <tr>\n      <th>12</th>\n      <td>13</td>\n      <td>Зыкова</td>\n      <td>Оксана</td>\n      <td>Калач</td>\n      <td>10</td>\n    </tr>\n    <tr>\n      <th>13</th>\n      <td>14</td>\n      <td>Стрелков</td>\n      <td>Руслан</td>\n      <td>Королев</td>\n      <td>46</td>\n    </tr>\n    <tr>\n      <th>14</th>\n      <td>15</td>\n      <td>Дорофеев</td>\n      <td>Прокофий</td>\n      <td>Санкт-Петербург</td>\n      <td>32</td>\n    </tr>\n    <tr>\n      <th>15</th>\n      <td>16</td>\n      <td>Волков</td>\n      <td>Михаил</td>\n      <td>Черусти</td>\n      <td>45</td>\n    </tr>\n    <tr>\n      <th>16</th>\n      <td>17</td>\n      <td>Сафонов</td>\n      <td>Будимир</td>\n      <td>Киржач</td>\n      <td>18</td>\n    </tr>\n    <tr>\n      <th>17</th>\n      <td>18</td>\n      <td>Зимин</td>\n      <td>Юлиан</td>\n      <td>Черский</td>\n      <td>46</td>\n    </tr>\n    <tr>\n      <th>18</th>\n      <td>19</td>\n      <td>Алексеев</td>\n      <td>Елисей</td>\n      <td>Мценск</td>\n      <td>10</td>\n    </tr>\n    <tr>\n      <th>19</th>\n      <td>20</td>\n      <td>Тихонов</td>\n      <td>Ладомир</td>\n      <td>Кропоткин (Краснод.)</td>\n      <td>15</td>\n    </tr>\n    <tr>\n      <th>20</th>\n      <td>21</td>\n      <td>Елисеев</td>\n      <td>Виссарион</td>\n      <td>Курганинск</td>\n      <td>48</td>\n    </tr>\n    <tr>\n      <th>21</th>\n      <td>22</td>\n      <td>Беспалов</td>\n      <td>Юлиан</td>\n      <td>Рыбинск</td>\n      <td>15</td>\n    </tr>\n    <tr>\n      <th>22</th>\n      <td>23</td>\n      <td>Беляков</td>\n      <td>Мефодий</td>\n      <td>Рославль</td>\n      <td>32</td>\n    </tr>\n    <tr>\n      <th>23</th>\n      <td>328</td>\n      <td>Сорокин</td>\n      <td>Андрей</td>\n      <td>Орел</td>\n      <td>10</td>\n    </tr>\n  </tbody>\n</table>\n</div>"
     },
     "execution_count": 18,
     "metadata": {},
     "output_type": "execute_result"
    }
   ],
   "source": [
    "# 3 Напишите запрос для получения списка преподавателей, работающих не в своем городе, с последующей сортировкой по идентификаторам университетов и городам проживания преподавателей.\n",
    "\n",
    "# SQL - SELECT * FROM lecturer WHERE city != (SELECT city FROM university WHERE lecturer.univ_id == university.univ_id)\n",
    "\n",
    "sq = select(lecturer)\n",
    "sub_query = select(university.c.city).where(lecturer.c.univ_id == university.c.univ_id).scalar_subquery()\n",
    "s = sq.where(lecturer.c.city != sub_query)\n",
    "\n",
    "print(s)\n",
    "print(f\"Кол-во записей удовлетворяющих условию: {len(pd.read_sql(s, conn))}\")\n",
    "pd.read_sql(s, conn)"
   ],
   "metadata": {
    "collapsed": false,
    "pycharm": {
     "name": "#%%\n"
    }
   }
  },
  {
   "cell_type": "code",
   "execution_count": 30,
   "outputs": [
    {
     "name": "stdout",
     "output_type": "stream",
     "text": [
      "SELECT subject_1.subj_id, subject_1.subj_name, subject_1.hour, subject_1.semester \n",
      "FROM subject AS subject_1 \n",
      "WHERE subject_1.hour = (SELECT max(subject_2.hour) AS max_1 \n",
      "FROM subject AS subject_2 \n",
      "WHERE subject_2.semester = subject_1.semester) ORDER BY subject_1.semester\n"
     ]
    },
    {
     "data": {
      "text/plain": "   subj_id                                        subj_name  hour  semester\n0       10                                      Информатика    56         1\n1       43                                       Математика    56         2\n2       94                                  Английский язык    56         3\n3       23  Теория вероятностей и математическая статистика    72         4\n4       73                                      Физкультура    34         5",
      "text/html": "<div>\n<style scoped>\n    .dataframe tbody tr th:only-of-type {\n        vertical-align: middle;\n    }\n\n    .dataframe tbody tr th {\n        vertical-align: top;\n    }\n\n    .dataframe thead th {\n        text-align: right;\n    }\n</style>\n<table border=\"1\" class=\"dataframe\">\n  <thead>\n    <tr style=\"text-align: right;\">\n      <th></th>\n      <th>subj_id</th>\n      <th>subj_name</th>\n      <th>hour</th>\n      <th>semester</th>\n    </tr>\n  </thead>\n  <tbody>\n    <tr>\n      <th>0</th>\n      <td>10</td>\n      <td>Информатика</td>\n      <td>56</td>\n      <td>1</td>\n    </tr>\n    <tr>\n      <th>1</th>\n      <td>43</td>\n      <td>Математика</td>\n      <td>56</td>\n      <td>2</td>\n    </tr>\n    <tr>\n      <th>2</th>\n      <td>94</td>\n      <td>Английский язык</td>\n      <td>56</td>\n      <td>3</td>\n    </tr>\n    <tr>\n      <th>3</th>\n      <td>23</td>\n      <td>Теория вероятностей и математическая статистика</td>\n      <td>72</td>\n      <td>4</td>\n    </tr>\n    <tr>\n      <th>4</th>\n      <td>73</td>\n      <td>Физкультура</td>\n      <td>34</td>\n      <td>5</td>\n    </tr>\n  </tbody>\n</table>\n</div>"
     },
     "execution_count": 30,
     "metadata": {},
     "output_type": "execute_result"
    }
   ],
   "source": [
    "# 4. Напишите запрос для получения списка предметов, на изучение которых отведено максимальное количество часов среди всех предметов, изучаемых в том же семестре. Список упорядочить по семестрам.\n",
    "# SQL - SELECT * FROM\n",
    "subject_1 = subject.alias(\"subject_1\")\n",
    "subject_2 = subject.alias(\"subject_2\")\n",
    "\n",
    "sub_query = select(func.max(subject_2.c.hour))\n",
    "sub_query = sub_query.where(subject_2.c.semester == subject_1.c.semester).scalar_subquery()\n",
    "\n",
    "s = select(subject_1)\n",
    "s = s.where(subject_1.c.hour == sub_query)\n",
    "s = s.order_by(subject_1.c.semester)\n",
    "\n",
    "print(s)\n",
    "pd.read_sql(s, conn)"
   ],
   "metadata": {
    "collapsed": false,
    "pycharm": {
     "name": "#%%\n"
    }
   }
  },
  {
   "cell_type": "code",
   "execution_count": 35,
   "outputs": [
    {
     "name": "stdout",
     "output_type": "stream",
     "text": [
      "SELECT student_1.student_id, student_1.surname, student_1.name, student_1.stipend, student_1.kurs, student_1.city, student_1.birthday, student_1.univ_id \n",
      "FROM student AS student_1 \n",
      "WHERE student_1.stipend > (SELECT avg(student_2.stipend) AS avg_1 \n",
      "FROM student AS student_2 \n",
      "WHERE student_2.kurs = student_1.kurs)\n"
     ]
    },
    {
     "data": {
      "text/plain": "    student_id     surname         name  stipend  kurs                  city  \\\n0            1      Иванов         Иван      150     1                  Орел   \n1            3      Петров         Петр      200     3                 Курск   \n2            6     Сидоров        Вадим      150     4                Москва   \n3           12     Зайцева        Ольга      250     2                Липецк   \n4           55      Белкин        Вадим      250     5               Воронеж   \n5           64         Жук       Оксана      250     1               Воркута   \n6           66   Некрасова     Вероника      250     2               Иркутск   \n7           68    Казакова        Ольга      250     4              Кемерово   \n8           70    Миронова         Анна      200     2           Владикавказ   \n9           71     Кондрат      Синицин      200     4                  Ишим   \n10          72  Пономарева        Алина      250     2               Ангарск   \n11          78    Агафонов      Василий      150     1               Грозный   \n12          82      Лапина     Элеонора      150     3                Джубга   \n13          83    Сорокина        Ирина      200     3                Усмань   \n14          85    Казакова        Мария      150     4               Нальчик   \n15          86      Жукова        Фекла      150     3               Магадан   \n16          88     Жданова        Ирина      200     3                 Тверь   \n17          89     Валерия  Овчинникова      200     5              Улан-Удэ   \n18          91     Блохина       Ираида      250     3         Новый Уренгой   \n19          92  Мельникова     Светлана      250     4  Кропоткин (Краснод.)   \n20          95    Сорокина      Валерия      150     1              Енисейск   \n21          96   Тимофеева        Фаина      150     3                  None   \n22          97   Вишнякова       Анжела      200     2               Иваново   \n23          99    Борисова       Марина      150     1              Рославль   \n24         101  Калашников      Евгений      200     2           Калининград   \n25         103    Трофимов    Владислав      250     5             Верхоянск   \n26         107     Морозов       Кирилл      250     2  Кропоткин (Краснод.)   \n27         108     Назаров        Икром      150     4                Саянск   \n28         110     Суханов   Константин      250     3                 Курск   \n29         112     Захаров        Софон      150     3              Мурманск   \n30         113     Аксенов      Валерий      150     1              Мурманск   \n31         114       Панов      Арсений      250     1             Геленджик   \n32         118  Кондратьев      Николай      150     3        Ханты-Мансийск   \n33         123     Веселов        Тимур      150     1          Невинномысск   \n34         125   Пономарев   Варфоромей      200     4              Улан-Удэ   \n35         130    Кудряшов        Роман      250     4       Нижний Новгород   \n36         131     Ковалев         Ефим      200     2             Волгоград   \n37         133   Жуковский         Юрий      150     4        Сургут (Хант.)   \n38         136      Ефимов         Яков      200     1             Тимашевск   \n39         137     Кулаков       Феофан      150     3           Волоколамск   \n40         139    Журавлев         Фома      200     2              Улан-Удэ   \n41         141       Ершов     Митрофан      250     5             Пятигорск   \n42         146     Русаков        Давид      250     2             Байкальск   \n43         149    Вячеслав      Пахомов      250     3                Игарка   \n44         200     Баранов    Александр      220     2                Москва   \n45         201     Архипов       Андрей      180     1                  Орел   \n46         202  Владимиров     Анатолий      200     2                 Курск   \n47         203     Петрова    Екатерина      250     4              Белгород   \n48         204      Петров        Вадим      250     2                Брянск   \n49         205     Иванова        Мария      200     1                Липецк   \n50         206     Киселев     Владимир      210     2                  Орел   \n51         207    Миронова        Федор      200     3                Москва   \n52         276      Петров        Антон      200     4             Ульяновск   \n53         654       Лукин        Артем      200     3               Воронеж   \n\n     birthday  univ_id  \n0  2002-12-03       10  \n1  2000-12-01       10  \n2  1999-06-07       22  \n3  2001-05-01       10  \n4  2000-01-07       10  \n5  2000-11-16       47  \n6  2004-08-23       10  \n7  2000-03-29       44  \n8  2000-10-08       46  \n9  2001-02-23       18  \n10 2002-10-07       48  \n11 1994-10-29       10  \n12 1997-11-23       45  \n13 1993-09-28       48  \n14 1994-02-18       32  \n15 1998-10-06       46  \n16 2002-03-02       10  \n17 2000-06-15       18  \n18 1997-03-23       22  \n19 1998-03-24       15  \n20 1995-03-01       45  \n21 1999-08-01       45  \n22 2002-02-10       46  \n23 1995-08-07       10  \n24 1998-02-27       48  \n25 1995-03-24       11  \n26 2000-09-29       44  \n27 2001-12-15       47  \n28 1996-11-22       14  \n29 1994-03-19       46  \n30 1994-10-27       10  \n31 1996-12-23       32  \n32 1999-10-28       14  \n33 1998-04-28       11  \n34 2000-12-15       44  \n35 1997-08-26       32  \n36 1995-11-28       47  \n37 1996-05-30       22  \n38 2000-09-23       32  \n39 2001-03-14       46  \n40 1997-07-12       18  \n41 2001-05-28       22  \n42 1998-08-07       47  \n43 1997-05-14       14  \n44 2001-08-18       44  \n45 2000-01-28       22  \n46 2003-05-21       14  \n47 2001-05-21       14  \n48 2002-05-21       44  \n49 2002-04-11       32  \n50 2003-02-10       44  \n51 2002-04-15       45  \n52 2001-08-05       22  \n53 2001-12-01       10  ",
      "text/html": "<div>\n<style scoped>\n    .dataframe tbody tr th:only-of-type {\n        vertical-align: middle;\n    }\n\n    .dataframe tbody tr th {\n        vertical-align: top;\n    }\n\n    .dataframe thead th {\n        text-align: right;\n    }\n</style>\n<table border=\"1\" class=\"dataframe\">\n  <thead>\n    <tr style=\"text-align: right;\">\n      <th></th>\n      <th>student_id</th>\n      <th>surname</th>\n      <th>name</th>\n      <th>stipend</th>\n      <th>kurs</th>\n      <th>city</th>\n      <th>birthday</th>\n      <th>univ_id</th>\n    </tr>\n  </thead>\n  <tbody>\n    <tr>\n      <th>0</th>\n      <td>1</td>\n      <td>Иванов</td>\n      <td>Иван</td>\n      <td>150</td>\n      <td>1</td>\n      <td>Орел</td>\n      <td>2002-12-03</td>\n      <td>10</td>\n    </tr>\n    <tr>\n      <th>1</th>\n      <td>3</td>\n      <td>Петров</td>\n      <td>Петр</td>\n      <td>200</td>\n      <td>3</td>\n      <td>Курск</td>\n      <td>2000-12-01</td>\n      <td>10</td>\n    </tr>\n    <tr>\n      <th>2</th>\n      <td>6</td>\n      <td>Сидоров</td>\n      <td>Вадим</td>\n      <td>150</td>\n      <td>4</td>\n      <td>Москва</td>\n      <td>1999-06-07</td>\n      <td>22</td>\n    </tr>\n    <tr>\n      <th>3</th>\n      <td>12</td>\n      <td>Зайцева</td>\n      <td>Ольга</td>\n      <td>250</td>\n      <td>2</td>\n      <td>Липецк</td>\n      <td>2001-05-01</td>\n      <td>10</td>\n    </tr>\n    <tr>\n      <th>4</th>\n      <td>55</td>\n      <td>Белкин</td>\n      <td>Вадим</td>\n      <td>250</td>\n      <td>5</td>\n      <td>Воронеж</td>\n      <td>2000-01-07</td>\n      <td>10</td>\n    </tr>\n    <tr>\n      <th>5</th>\n      <td>64</td>\n      <td>Жук</td>\n      <td>Оксана</td>\n      <td>250</td>\n      <td>1</td>\n      <td>Воркута</td>\n      <td>2000-11-16</td>\n      <td>47</td>\n    </tr>\n    <tr>\n      <th>6</th>\n      <td>66</td>\n      <td>Некрасова</td>\n      <td>Вероника</td>\n      <td>250</td>\n      <td>2</td>\n      <td>Иркутск</td>\n      <td>2004-08-23</td>\n      <td>10</td>\n    </tr>\n    <tr>\n      <th>7</th>\n      <td>68</td>\n      <td>Казакова</td>\n      <td>Ольга</td>\n      <td>250</td>\n      <td>4</td>\n      <td>Кемерово</td>\n      <td>2000-03-29</td>\n      <td>44</td>\n    </tr>\n    <tr>\n      <th>8</th>\n      <td>70</td>\n      <td>Миронова</td>\n      <td>Анна</td>\n      <td>200</td>\n      <td>2</td>\n      <td>Владикавказ</td>\n      <td>2000-10-08</td>\n      <td>46</td>\n    </tr>\n    <tr>\n      <th>9</th>\n      <td>71</td>\n      <td>Кондрат</td>\n      <td>Синицин</td>\n      <td>200</td>\n      <td>4</td>\n      <td>Ишим</td>\n      <td>2001-02-23</td>\n      <td>18</td>\n    </tr>\n    <tr>\n      <th>10</th>\n      <td>72</td>\n      <td>Пономарева</td>\n      <td>Алина</td>\n      <td>250</td>\n      <td>2</td>\n      <td>Ангарск</td>\n      <td>2002-10-07</td>\n      <td>48</td>\n    </tr>\n    <tr>\n      <th>11</th>\n      <td>78</td>\n      <td>Агафонов</td>\n      <td>Василий</td>\n      <td>150</td>\n      <td>1</td>\n      <td>Грозный</td>\n      <td>1994-10-29</td>\n      <td>10</td>\n    </tr>\n    <tr>\n      <th>12</th>\n      <td>82</td>\n      <td>Лапина</td>\n      <td>Элеонора</td>\n      <td>150</td>\n      <td>3</td>\n      <td>Джубга</td>\n      <td>1997-11-23</td>\n      <td>45</td>\n    </tr>\n    <tr>\n      <th>13</th>\n      <td>83</td>\n      <td>Сорокина</td>\n      <td>Ирина</td>\n      <td>200</td>\n      <td>3</td>\n      <td>Усмань</td>\n      <td>1993-09-28</td>\n      <td>48</td>\n    </tr>\n    <tr>\n      <th>14</th>\n      <td>85</td>\n      <td>Казакова</td>\n      <td>Мария</td>\n      <td>150</td>\n      <td>4</td>\n      <td>Нальчик</td>\n      <td>1994-02-18</td>\n      <td>32</td>\n    </tr>\n    <tr>\n      <th>15</th>\n      <td>86</td>\n      <td>Жукова</td>\n      <td>Фекла</td>\n      <td>150</td>\n      <td>3</td>\n      <td>Магадан</td>\n      <td>1998-10-06</td>\n      <td>46</td>\n    </tr>\n    <tr>\n      <th>16</th>\n      <td>88</td>\n      <td>Жданова</td>\n      <td>Ирина</td>\n      <td>200</td>\n      <td>3</td>\n      <td>Тверь</td>\n      <td>2002-03-02</td>\n      <td>10</td>\n    </tr>\n    <tr>\n      <th>17</th>\n      <td>89</td>\n      <td>Валерия</td>\n      <td>Овчинникова</td>\n      <td>200</td>\n      <td>5</td>\n      <td>Улан-Удэ</td>\n      <td>2000-06-15</td>\n      <td>18</td>\n    </tr>\n    <tr>\n      <th>18</th>\n      <td>91</td>\n      <td>Блохина</td>\n      <td>Ираида</td>\n      <td>250</td>\n      <td>3</td>\n      <td>Новый Уренгой</td>\n      <td>1997-03-23</td>\n      <td>22</td>\n    </tr>\n    <tr>\n      <th>19</th>\n      <td>92</td>\n      <td>Мельникова</td>\n      <td>Светлана</td>\n      <td>250</td>\n      <td>4</td>\n      <td>Кропоткин (Краснод.)</td>\n      <td>1998-03-24</td>\n      <td>15</td>\n    </tr>\n    <tr>\n      <th>20</th>\n      <td>95</td>\n      <td>Сорокина</td>\n      <td>Валерия</td>\n      <td>150</td>\n      <td>1</td>\n      <td>Енисейск</td>\n      <td>1995-03-01</td>\n      <td>45</td>\n    </tr>\n    <tr>\n      <th>21</th>\n      <td>96</td>\n      <td>Тимофеева</td>\n      <td>Фаина</td>\n      <td>150</td>\n      <td>3</td>\n      <td>None</td>\n      <td>1999-08-01</td>\n      <td>45</td>\n    </tr>\n    <tr>\n      <th>22</th>\n      <td>97</td>\n      <td>Вишнякова</td>\n      <td>Анжела</td>\n      <td>200</td>\n      <td>2</td>\n      <td>Иваново</td>\n      <td>2002-02-10</td>\n      <td>46</td>\n    </tr>\n    <tr>\n      <th>23</th>\n      <td>99</td>\n      <td>Борисова</td>\n      <td>Марина</td>\n      <td>150</td>\n      <td>1</td>\n      <td>Рославль</td>\n      <td>1995-08-07</td>\n      <td>10</td>\n    </tr>\n    <tr>\n      <th>24</th>\n      <td>101</td>\n      <td>Калашников</td>\n      <td>Евгений</td>\n      <td>200</td>\n      <td>2</td>\n      <td>Калининград</td>\n      <td>1998-02-27</td>\n      <td>48</td>\n    </tr>\n    <tr>\n      <th>25</th>\n      <td>103</td>\n      <td>Трофимов</td>\n      <td>Владислав</td>\n      <td>250</td>\n      <td>5</td>\n      <td>Верхоянск</td>\n      <td>1995-03-24</td>\n      <td>11</td>\n    </tr>\n    <tr>\n      <th>26</th>\n      <td>107</td>\n      <td>Морозов</td>\n      <td>Кирилл</td>\n      <td>250</td>\n      <td>2</td>\n      <td>Кропоткин (Краснод.)</td>\n      <td>2000-09-29</td>\n      <td>44</td>\n    </tr>\n    <tr>\n      <th>27</th>\n      <td>108</td>\n      <td>Назаров</td>\n      <td>Икром</td>\n      <td>150</td>\n      <td>4</td>\n      <td>Саянск</td>\n      <td>2001-12-15</td>\n      <td>47</td>\n    </tr>\n    <tr>\n      <th>28</th>\n      <td>110</td>\n      <td>Суханов</td>\n      <td>Константин</td>\n      <td>250</td>\n      <td>3</td>\n      <td>Курск</td>\n      <td>1996-11-22</td>\n      <td>14</td>\n    </tr>\n    <tr>\n      <th>29</th>\n      <td>112</td>\n      <td>Захаров</td>\n      <td>Софон</td>\n      <td>150</td>\n      <td>3</td>\n      <td>Мурманск</td>\n      <td>1994-03-19</td>\n      <td>46</td>\n    </tr>\n    <tr>\n      <th>30</th>\n      <td>113</td>\n      <td>Аксенов</td>\n      <td>Валерий</td>\n      <td>150</td>\n      <td>1</td>\n      <td>Мурманск</td>\n      <td>1994-10-27</td>\n      <td>10</td>\n    </tr>\n    <tr>\n      <th>31</th>\n      <td>114</td>\n      <td>Панов</td>\n      <td>Арсений</td>\n      <td>250</td>\n      <td>1</td>\n      <td>Геленджик</td>\n      <td>1996-12-23</td>\n      <td>32</td>\n    </tr>\n    <tr>\n      <th>32</th>\n      <td>118</td>\n      <td>Кондратьев</td>\n      <td>Николай</td>\n      <td>150</td>\n      <td>3</td>\n      <td>Ханты-Мансийск</td>\n      <td>1999-10-28</td>\n      <td>14</td>\n    </tr>\n    <tr>\n      <th>33</th>\n      <td>123</td>\n      <td>Веселов</td>\n      <td>Тимур</td>\n      <td>150</td>\n      <td>1</td>\n      <td>Невинномысск</td>\n      <td>1998-04-28</td>\n      <td>11</td>\n    </tr>\n    <tr>\n      <th>34</th>\n      <td>125</td>\n      <td>Пономарев</td>\n      <td>Варфоромей</td>\n      <td>200</td>\n      <td>4</td>\n      <td>Улан-Удэ</td>\n      <td>2000-12-15</td>\n      <td>44</td>\n    </tr>\n    <tr>\n      <th>35</th>\n      <td>130</td>\n      <td>Кудряшов</td>\n      <td>Роман</td>\n      <td>250</td>\n      <td>4</td>\n      <td>Нижний Новгород</td>\n      <td>1997-08-26</td>\n      <td>32</td>\n    </tr>\n    <tr>\n      <th>36</th>\n      <td>131</td>\n      <td>Ковалев</td>\n      <td>Ефим</td>\n      <td>200</td>\n      <td>2</td>\n      <td>Волгоград</td>\n      <td>1995-11-28</td>\n      <td>47</td>\n    </tr>\n    <tr>\n      <th>37</th>\n      <td>133</td>\n      <td>Жуковский</td>\n      <td>Юрий</td>\n      <td>150</td>\n      <td>4</td>\n      <td>Сургут (Хант.)</td>\n      <td>1996-05-30</td>\n      <td>22</td>\n    </tr>\n    <tr>\n      <th>38</th>\n      <td>136</td>\n      <td>Ефимов</td>\n      <td>Яков</td>\n      <td>200</td>\n      <td>1</td>\n      <td>Тимашевск</td>\n      <td>2000-09-23</td>\n      <td>32</td>\n    </tr>\n    <tr>\n      <th>39</th>\n      <td>137</td>\n      <td>Кулаков</td>\n      <td>Феофан</td>\n      <td>150</td>\n      <td>3</td>\n      <td>Волоколамск</td>\n      <td>2001-03-14</td>\n      <td>46</td>\n    </tr>\n    <tr>\n      <th>40</th>\n      <td>139</td>\n      <td>Журавлев</td>\n      <td>Фома</td>\n      <td>200</td>\n      <td>2</td>\n      <td>Улан-Удэ</td>\n      <td>1997-07-12</td>\n      <td>18</td>\n    </tr>\n    <tr>\n      <th>41</th>\n      <td>141</td>\n      <td>Ершов</td>\n      <td>Митрофан</td>\n      <td>250</td>\n      <td>5</td>\n      <td>Пятигорск</td>\n      <td>2001-05-28</td>\n      <td>22</td>\n    </tr>\n    <tr>\n      <th>42</th>\n      <td>146</td>\n      <td>Русаков</td>\n      <td>Давид</td>\n      <td>250</td>\n      <td>2</td>\n      <td>Байкальск</td>\n      <td>1998-08-07</td>\n      <td>47</td>\n    </tr>\n    <tr>\n      <th>43</th>\n      <td>149</td>\n      <td>Вячеслав</td>\n      <td>Пахомов</td>\n      <td>250</td>\n      <td>3</td>\n      <td>Игарка</td>\n      <td>1997-05-14</td>\n      <td>14</td>\n    </tr>\n    <tr>\n      <th>44</th>\n      <td>200</td>\n      <td>Баранов</td>\n      <td>Александр</td>\n      <td>220</td>\n      <td>2</td>\n      <td>Москва</td>\n      <td>2001-08-18</td>\n      <td>44</td>\n    </tr>\n    <tr>\n      <th>45</th>\n      <td>201</td>\n      <td>Архипов</td>\n      <td>Андрей</td>\n      <td>180</td>\n      <td>1</td>\n      <td>Орел</td>\n      <td>2000-01-28</td>\n      <td>22</td>\n    </tr>\n    <tr>\n      <th>46</th>\n      <td>202</td>\n      <td>Владимиров</td>\n      <td>Анатолий</td>\n      <td>200</td>\n      <td>2</td>\n      <td>Курск</td>\n      <td>2003-05-21</td>\n      <td>14</td>\n    </tr>\n    <tr>\n      <th>47</th>\n      <td>203</td>\n      <td>Петрова</td>\n      <td>Екатерина</td>\n      <td>250</td>\n      <td>4</td>\n      <td>Белгород</td>\n      <td>2001-05-21</td>\n      <td>14</td>\n    </tr>\n    <tr>\n      <th>48</th>\n      <td>204</td>\n      <td>Петров</td>\n      <td>Вадим</td>\n      <td>250</td>\n      <td>2</td>\n      <td>Брянск</td>\n      <td>2002-05-21</td>\n      <td>44</td>\n    </tr>\n    <tr>\n      <th>49</th>\n      <td>205</td>\n      <td>Иванова</td>\n      <td>Мария</td>\n      <td>200</td>\n      <td>1</td>\n      <td>Липецк</td>\n      <td>2002-04-11</td>\n      <td>32</td>\n    </tr>\n    <tr>\n      <th>50</th>\n      <td>206</td>\n      <td>Киселев</td>\n      <td>Владимир</td>\n      <td>210</td>\n      <td>2</td>\n      <td>Орел</td>\n      <td>2003-02-10</td>\n      <td>44</td>\n    </tr>\n    <tr>\n      <th>51</th>\n      <td>207</td>\n      <td>Миронова</td>\n      <td>Федор</td>\n      <td>200</td>\n      <td>3</td>\n      <td>Москва</td>\n      <td>2002-04-15</td>\n      <td>45</td>\n    </tr>\n    <tr>\n      <th>52</th>\n      <td>276</td>\n      <td>Петров</td>\n      <td>Антон</td>\n      <td>200</td>\n      <td>4</td>\n      <td>Ульяновск</td>\n      <td>2001-08-05</td>\n      <td>22</td>\n    </tr>\n    <tr>\n      <th>53</th>\n      <td>654</td>\n      <td>Лукин</td>\n      <td>Артем</td>\n      <td>200</td>\n      <td>3</td>\n      <td>Воронеж</td>\n      <td>2001-12-01</td>\n      <td>10</td>\n    </tr>\n  </tbody>\n</table>\n</div>"
     },
     "execution_count": 35,
     "metadata": {},
     "output_type": "execute_result"
    }
   ],
   "source": [
    "# 5. Напишите запрос для получения списка студентов, получающих стипендию, превосходящую среднее значение стипендии на их курсе.\n",
    "# SQL - SELECT * from student WHERE stipend > (SELECT avg(stipend) FROM student GROUP BY kurs)\n",
    "\n",
    "student_1 = student.alias(\"student_1\")\n",
    "student_2 = student.alias(\"student_2\")\n",
    "\n",
    "sq = select(student_1)\n",
    "sub_query = select(func.avg(student_2.c.stipend)).where(student_2.c.kurs == student_1.c.kurs).scalar_subquery()\n",
    "\n",
    "s = sq.where(student_1.c.stipend > sub_query)\n",
    "\n",
    "print(s)\n",
    "pd.read_sql(s, conn)\n"
   ],
   "metadata": {
    "collapsed": false,
    "pycharm": {
     "name": "#%%\n"
    }
   }
  },
  {
   "cell_type": "code",
   "execution_count": 42,
   "outputs": [
    {
     "name": "stdout",
     "output_type": "stream",
     "text": [
      "SELECT student_1.student_id, student_1.surname, student_1.name, student_1.stipend, student_1.kurs, student_1.city, student_1.birthday, student_1.univ_id \n",
      "FROM student AS student_1 \n",
      "WHERE student_1.univ_id = student_1.univ_id AND student_1.stipend = (SELECT min(student_2.stipend) AS min_1 \n",
      "FROM student AS student_2 \n",
      "WHERE student_2.stipend > :stipend_1)\n"
     ]
    },
    {
     "data": {
      "text/plain": "    student_id     surname        name  stipend  kurs                city  \\\n0           57   Кудряшова        Вера      100     5       Нижневартовск   \n1           61    Соколова          Ия      100     1           Колпашево   \n2           63         Пак       Ирина      100     1             Магадан   \n3           65    Сергеева       Фёкла      100     5                None   \n4           73    Одинцова       Лидия      100     5   Верхний Баскунчак   \n5           75    Игнатова     Зинаида      100     5              Ростов   \n6           76  Мельникова       Дарья      100     5         Архангельск   \n7           80     Фролова    Василиса      100     3          Кисловодск   \n8          105     Антонов    Анатолий      100     1           Сыктывкар   \n9          116     Федоров   Гостомысл      100     4       Новый Уренгой   \n10         117     Лазарев  Константин      100     2  Славянск-на-Кубани   \n11         128    Васильев      Матвей      100     1           Чебоксары   \n12         143     Бирюков      Мартин      100     4          Курганинск   \n13         147     Симонов       Семен      100     5           Беломорск   \n\n     birthday  univ_id  \n0  2002-02-18       14  \n1  2002-06-25       18  \n2  2000-08-22       15  \n3  2000-02-19       10  \n4  2002-03-07       44  \n5  2000-09-26       22  \n6  2002-08-01       10  \n7  1999-06-02       44  \n8  1997-04-08       22  \n9  2000-11-16       10  \n10 1998-05-22       47  \n11 2000-07-18       46  \n12 2000-11-14       47  \n13 2000-03-17       22  ",
      "text/html": "<div>\n<style scoped>\n    .dataframe tbody tr th:only-of-type {\n        vertical-align: middle;\n    }\n\n    .dataframe tbody tr th {\n        vertical-align: top;\n    }\n\n    .dataframe thead th {\n        text-align: right;\n    }\n</style>\n<table border=\"1\" class=\"dataframe\">\n  <thead>\n    <tr style=\"text-align: right;\">\n      <th></th>\n      <th>student_id</th>\n      <th>surname</th>\n      <th>name</th>\n      <th>stipend</th>\n      <th>kurs</th>\n      <th>city</th>\n      <th>birthday</th>\n      <th>univ_id</th>\n    </tr>\n  </thead>\n  <tbody>\n    <tr>\n      <th>0</th>\n      <td>57</td>\n      <td>Кудряшова</td>\n      <td>Вера</td>\n      <td>100</td>\n      <td>5</td>\n      <td>Нижневартовск</td>\n      <td>2002-02-18</td>\n      <td>14</td>\n    </tr>\n    <tr>\n      <th>1</th>\n      <td>61</td>\n      <td>Соколова</td>\n      <td>Ия</td>\n      <td>100</td>\n      <td>1</td>\n      <td>Колпашево</td>\n      <td>2002-06-25</td>\n      <td>18</td>\n    </tr>\n    <tr>\n      <th>2</th>\n      <td>63</td>\n      <td>Пак</td>\n      <td>Ирина</td>\n      <td>100</td>\n      <td>1</td>\n      <td>Магадан</td>\n      <td>2000-08-22</td>\n      <td>15</td>\n    </tr>\n    <tr>\n      <th>3</th>\n      <td>65</td>\n      <td>Сергеева</td>\n      <td>Фёкла</td>\n      <td>100</td>\n      <td>5</td>\n      <td>None</td>\n      <td>2000-02-19</td>\n      <td>10</td>\n    </tr>\n    <tr>\n      <th>4</th>\n      <td>73</td>\n      <td>Одинцова</td>\n      <td>Лидия</td>\n      <td>100</td>\n      <td>5</td>\n      <td>Верхний Баскунчак</td>\n      <td>2002-03-07</td>\n      <td>44</td>\n    </tr>\n    <tr>\n      <th>5</th>\n      <td>75</td>\n      <td>Игнатова</td>\n      <td>Зинаида</td>\n      <td>100</td>\n      <td>5</td>\n      <td>Ростов</td>\n      <td>2000-09-26</td>\n      <td>22</td>\n    </tr>\n    <tr>\n      <th>6</th>\n      <td>76</td>\n      <td>Мельникова</td>\n      <td>Дарья</td>\n      <td>100</td>\n      <td>5</td>\n      <td>Архангельск</td>\n      <td>2002-08-01</td>\n      <td>10</td>\n    </tr>\n    <tr>\n      <th>7</th>\n      <td>80</td>\n      <td>Фролова</td>\n      <td>Василиса</td>\n      <td>100</td>\n      <td>3</td>\n      <td>Кисловодск</td>\n      <td>1999-06-02</td>\n      <td>44</td>\n    </tr>\n    <tr>\n      <th>8</th>\n      <td>105</td>\n      <td>Антонов</td>\n      <td>Анатолий</td>\n      <td>100</td>\n      <td>1</td>\n      <td>Сыктывкар</td>\n      <td>1997-04-08</td>\n      <td>22</td>\n    </tr>\n    <tr>\n      <th>9</th>\n      <td>116</td>\n      <td>Федоров</td>\n      <td>Гостомысл</td>\n      <td>100</td>\n      <td>4</td>\n      <td>Новый Уренгой</td>\n      <td>2000-11-16</td>\n      <td>10</td>\n    </tr>\n    <tr>\n      <th>10</th>\n      <td>117</td>\n      <td>Лазарев</td>\n      <td>Константин</td>\n      <td>100</td>\n      <td>2</td>\n      <td>Славянск-на-Кубани</td>\n      <td>1998-05-22</td>\n      <td>47</td>\n    </tr>\n    <tr>\n      <th>11</th>\n      <td>128</td>\n      <td>Васильев</td>\n      <td>Матвей</td>\n      <td>100</td>\n      <td>1</td>\n      <td>Чебоксары</td>\n      <td>2000-07-18</td>\n      <td>46</td>\n    </tr>\n    <tr>\n      <th>12</th>\n      <td>143</td>\n      <td>Бирюков</td>\n      <td>Мартин</td>\n      <td>100</td>\n      <td>4</td>\n      <td>Курганинск</td>\n      <td>2000-11-14</td>\n      <td>47</td>\n    </tr>\n    <tr>\n      <th>13</th>\n      <td>147</td>\n      <td>Симонов</td>\n      <td>Семен</td>\n      <td>100</td>\n      <td>5</td>\n      <td>Беломорск</td>\n      <td>2000-03-17</td>\n      <td>22</td>\n    </tr>\n  </tbody>\n</table>\n</div>"
     },
     "execution_count": 42,
     "metadata": {},
     "output_type": "execute_result"
    }
   ],
   "source": [
    "# 6. Напишите запрос для получения списка студентов, получающих минимальную стипендию в своем университете, с последующей сортировкой по значениям идентификатора университета и стипендии.\n",
    "# SQL -\n",
    "\n",
    "sq = select(student_1)\n",
    "sq = sq.where(student_1.c.univ_id == student_1.c.univ_id)\n",
    "sub_query = select(func.min(student_2.c.stipend)).where(student_2.c.stipend > 0).scalar_subquery()\n",
    "\n",
    "s = sq.where(student_1.c.stipend == sub_query)\n",
    "\n",
    "print(s)\n",
    "pd.read_sql(s, conn)"
   ],
   "metadata": {
    "collapsed": false,
    "pycharm": {
     "name": "#%%\n"
    }
   }
  },
  {
   "cell_type": "code",
   "execution_count": 48,
   "outputs": [
    {
     "name": "stdout",
     "output_type": "stream",
     "text": [
      "SELECT university.univ_id, university.univ_name, university.rating, university.city \n",
      "FROM university \n",
      "WHERE (SELECT count(student.student_id) AS count_1 \n",
      "FROM student \n",
      "WHERE university.univ_id = student.univ_id) > :param_1\n"
     ]
    },
    {
     "data": {
      "text/plain": "   univ_id        univ_name  rating             city\n0       10              ВГУ     296          Воронеж\n1       14              БГУ     326         Белгород\n2       22              МГУ     606           Москва\n3       44             ФинУ     330           Москва\n4       46  ФГБОУ \"Политех\"     304  Санкт-Петербург",
      "text/html": "<div>\n<style scoped>\n    .dataframe tbody tr th:only-of-type {\n        vertical-align: middle;\n    }\n\n    .dataframe tbody tr th {\n        vertical-align: top;\n    }\n\n    .dataframe thead th {\n        text-align: right;\n    }\n</style>\n<table border=\"1\" class=\"dataframe\">\n  <thead>\n    <tr style=\"text-align: right;\">\n      <th></th>\n      <th>univ_id</th>\n      <th>univ_name</th>\n      <th>rating</th>\n      <th>city</th>\n    </tr>\n  </thead>\n  <tbody>\n    <tr>\n      <th>0</th>\n      <td>10</td>\n      <td>ВГУ</td>\n      <td>296</td>\n      <td>Воронеж</td>\n    </tr>\n    <tr>\n      <th>1</th>\n      <td>14</td>\n      <td>БГУ</td>\n      <td>326</td>\n      <td>Белгород</td>\n    </tr>\n    <tr>\n      <th>2</th>\n      <td>22</td>\n      <td>МГУ</td>\n      <td>606</td>\n      <td>Москва</td>\n    </tr>\n    <tr>\n      <th>3</th>\n      <td>44</td>\n      <td>ФинУ</td>\n      <td>330</td>\n      <td>Москва</td>\n    </tr>\n    <tr>\n      <th>4</th>\n      <td>46</td>\n      <td>ФГБОУ \"Политех\"</td>\n      <td>304</td>\n      <td>Санкт-Петербург</td>\n    </tr>\n  </tbody>\n</table>\n</div>"
     },
     "execution_count": 48,
     "metadata": {},
     "output_type": "execute_result"
    }
   ],
   "source": [
    "# 7. Напишите запрос для получения списка университетов, в которых учится более 50 студентов, с последующей сортировкой по рейтингам.\n",
    "\n",
    "sq = select(university)\n",
    "\n",
    "sub_query = select(func.count(student.c.student_id))\n",
    "sub_query = sub_query.where(university.c.univ_id == student.c.univ_id).scalar_subquery()\n",
    "\n",
    "s = sq.where(7 < sub_query)\n",
    "\n",
    "\n",
    "\n",
    "print(s)\n",
    "pd.read_sql(s, conn)"
   ],
   "metadata": {
    "collapsed": false,
    "pycharm": {
     "name": "#%%\n"
    }
   }
  },
  {
   "cell_type": "code",
   "execution_count": 50,
   "outputs": [
    {
     "name": "stdout",
     "output_type": "stream",
     "text": [
      "SELECT university.univ_id, university.univ_name, university.rating, university.city \n",
      "FROM university \n",
      "WHERE (SELECT count(lecturer.lecturer_id) AS count_1 \n",
      "FROM lecturer \n",
      "WHERE lecturer.univ_id = university.univ_id) > :param_1 ORDER BY university.rating\n"
     ]
    },
    {
     "data": {
      "text/plain": "   univ_id univ_name  rating     city\n0       10       ВГУ     296  Воронеж",
      "text/html": "<div>\n<style scoped>\n    .dataframe tbody tr th:only-of-type {\n        vertical-align: middle;\n    }\n\n    .dataframe tbody tr th {\n        vertical-align: top;\n    }\n\n    .dataframe thead th {\n        text-align: right;\n    }\n</style>\n<table border=\"1\" class=\"dataframe\">\n  <thead>\n    <tr style=\"text-align: right;\">\n      <th></th>\n      <th>univ_id</th>\n      <th>univ_name</th>\n      <th>rating</th>\n      <th>city</th>\n    </tr>\n  </thead>\n  <tbody>\n    <tr>\n      <th>0</th>\n      <td>10</td>\n      <td>ВГУ</td>\n      <td>296</td>\n      <td>Воронеж</td>\n    </tr>\n  </tbody>\n</table>\n</div>"
     },
     "execution_count": 50,
     "metadata": {},
     "output_type": "execute_result"
    }
   ],
   "source": [
    "#8 Напишите запрос для получения списка университетов, в которых работает более 5 преподавателей, с последующей сортировкой по рейтингам университетов.\n",
    "\n",
    "lecturer_1 = lecturer.alias(\"lecturer_1\")\n",
    "university_1 = university.alias(\"university_1\")\n",
    "\n",
    "sq = select(func.count(lecturer.c.lecturer_id))\n",
    "sq = sq.where(lecturer.c.univ_id == university.c.univ_id).scalar_subquery()\n",
    "\n",
    "s = select(university)\n",
    "s = s.where(5 < sq)\n",
    "s = s.order_by(university.c.rating)\n",
    "\n",
    "print(s)\n",
    "pd.read_sql(s, conn)\n",
    "\n"
   ],
   "metadata": {
    "collapsed": false,
    "pycharm": {
     "name": "#%%\n"
    }
   }
  },
  {
   "cell_type": "code",
   "execution_count": 56,
   "outputs": [
    {
     "name": "stdout",
     "output_type": "stream",
     "text": [
      "SELECT student.student_id, student.surname, student.name, student.stipend, student.kurs, student.city, student.birthday, student.univ_id \n",
      "FROM student \n",
      "WHERE (SELECT avg(exam_marks.mark) AS avg_1 \n",
      "FROM exam_marks \n",
      "WHERE exam_marks.student_id = student.student_id) = :param_1\n"
     ]
    },
    {
     "data": {
      "text/plain": "   student_id     surname      name  stipend  kurs                  city  \\\n0          10    Кузнецов     Борис        0     2                Брянск   \n1          55      Белкин     Вадим      250     5               Воронеж   \n2          82      Лапина  Элеонора      150     3                Джубга   \n3          88     Жданова     Ирина      200     3                 Тверь   \n4          91     Блохина    Ираида      250     3         Новый Уренгой   \n5          92  Мельникова  Светлана      250     4  Кропоткин (Краснод.)   \n6          99    Борисова    Марина      150     1              Рославль   \n\n    birthday  univ_id  \n0 2001-12-08       10  \n1 2000-01-07       10  \n2 1997-11-23       45  \n3 2002-03-02       10  \n4 1997-03-23       22  \n5 1998-03-24       15  \n6 1995-08-07       10  ",
      "text/html": "<div>\n<style scoped>\n    .dataframe tbody tr th:only-of-type {\n        vertical-align: middle;\n    }\n\n    .dataframe tbody tr th {\n        vertical-align: top;\n    }\n\n    .dataframe thead th {\n        text-align: right;\n    }\n</style>\n<table border=\"1\" class=\"dataframe\">\n  <thead>\n    <tr style=\"text-align: right;\">\n      <th></th>\n      <th>student_id</th>\n      <th>surname</th>\n      <th>name</th>\n      <th>stipend</th>\n      <th>kurs</th>\n      <th>city</th>\n      <th>birthday</th>\n      <th>univ_id</th>\n    </tr>\n  </thead>\n  <tbody>\n    <tr>\n      <th>0</th>\n      <td>10</td>\n      <td>Кузнецов</td>\n      <td>Борис</td>\n      <td>0</td>\n      <td>2</td>\n      <td>Брянск</td>\n      <td>2001-12-08</td>\n      <td>10</td>\n    </tr>\n    <tr>\n      <th>1</th>\n      <td>55</td>\n      <td>Белкин</td>\n      <td>Вадим</td>\n      <td>250</td>\n      <td>5</td>\n      <td>Воронеж</td>\n      <td>2000-01-07</td>\n      <td>10</td>\n    </tr>\n    <tr>\n      <th>2</th>\n      <td>82</td>\n      <td>Лапина</td>\n      <td>Элеонора</td>\n      <td>150</td>\n      <td>3</td>\n      <td>Джубга</td>\n      <td>1997-11-23</td>\n      <td>45</td>\n    </tr>\n    <tr>\n      <th>3</th>\n      <td>88</td>\n      <td>Жданова</td>\n      <td>Ирина</td>\n      <td>200</td>\n      <td>3</td>\n      <td>Тверь</td>\n      <td>2002-03-02</td>\n      <td>10</td>\n    </tr>\n    <tr>\n      <th>4</th>\n      <td>91</td>\n      <td>Блохина</td>\n      <td>Ираида</td>\n      <td>250</td>\n      <td>3</td>\n      <td>Новый Уренгой</td>\n      <td>1997-03-23</td>\n      <td>22</td>\n    </tr>\n    <tr>\n      <th>5</th>\n      <td>92</td>\n      <td>Мельникова</td>\n      <td>Светлана</td>\n      <td>250</td>\n      <td>4</td>\n      <td>Кропоткин (Краснод.)</td>\n      <td>1998-03-24</td>\n      <td>15</td>\n    </tr>\n    <tr>\n      <th>6</th>\n      <td>99</td>\n      <td>Борисова</td>\n      <td>Марина</td>\n      <td>150</td>\n      <td>1</td>\n      <td>Рославль</td>\n      <td>1995-08-07</td>\n      <td>10</td>\n    </tr>\n  </tbody>\n</table>\n</div>"
     },
     "execution_count": 56,
     "metadata": {},
     "output_type": "execute_result"
    }
   ],
   "source": [
    "# 9. Напишите запрос для получения списка отличников (студентов, получивших только отличные оценки), с последующей сортировкой по идентификаторам университетов и курсам.\n",
    "\n",
    "sq = select(func.avg(exam_marks.c.mark))\n",
    "\n",
    "sub_query = sq.where(exam_marks.c.student_id == student.c.student_id).scalar_subquery()\n",
    "\n",
    "s = select(student)\n",
    "s = s.where(sub_query == 5)\n",
    "\n",
    "print(s)\n",
    "pd.read_sql(s, conn)"
   ],
   "metadata": {
    "collapsed": false,
    "pycharm": {
     "name": "#%%\n"
    }
   }
  },
  {
   "cell_type": "code",
   "execution_count": 62,
   "outputs": [
    {
     "name": "stdout",
     "output_type": "stream",
     "text": [
      "SELECT student.student_id, student.surname, student.name, student.stipend, student.kurs, student.city, student.birthday, student.univ_id \n",
      "FROM student \n",
      "WHERE (SELECT min(exam_marks.mark) AS min_1 \n",
      "FROM exam_marks \n",
      "WHERE exam_marks.student_id = student.student_id) < :param_1\n"
     ]
    },
    {
     "data": {
      "text/plain": "    student_id     surname        name  stipend  kurs               city  \\\n0            1      Иванов        Иван      150     1               Орел   \n1           12     Зайцева       Ольга      250     2             Липецк   \n2           15   Ордуханян     Рафаэль      120     1             Липецк   \n3           65    Сергеева       Фёкла      100     5               None   \n4           73    Одинцова       Лидия      100     5  Верхний Баскунчак   \n5           76  Мельникова       Дарья      100     5        Архангельск   \n6           77      Мишина    Светлана      150     2             Рыльск   \n7           79  Афанасьева    Анжелика        0     2                Уфа   \n8           83    Сорокина       Ирина      200     3             Усмань   \n9           85    Казакова       Мария      150     4            Нальчик   \n10          97   Вишнякова      Анжела      200     2            Иваново   \n11         101  Калашников     Евгений      200     2        Калининград   \n12         103    Трофимов   Владислав      250     5          Верхоянск   \n13         110     Суханов  Константин      250     3              Курск   \n14         116     Федоров   Гостомысл      100     4      Новый Уренгой   \n15         123     Веселов       Тимур      150     1       Невинномысск   \n16         126       Жуков        Пров        0     3             Кыштым   \n17         149    Вячеслав     Пахомов      250     3             Игарка   \n\n     birthday  univ_id  \n0  2002-12-03       10  \n1  2001-05-01       10  \n2  2003-06-01       18  \n3  2000-02-19       10  \n4  2002-03-07       44  \n5  2002-08-01       10  \n6  1997-05-22       18  \n7  1996-11-22       32  \n8  1993-09-28       48  \n9  1994-02-18       32  \n10 2002-02-10       46  \n11 1998-02-27       48  \n12 1995-03-24       11  \n13 1996-11-22       14  \n14 2000-11-16       10  \n15 1998-04-28       11  \n16 1998-09-11       11  \n17 1997-05-14       14  ",
      "text/html": "<div>\n<style scoped>\n    .dataframe tbody tr th:only-of-type {\n        vertical-align: middle;\n    }\n\n    .dataframe tbody tr th {\n        vertical-align: top;\n    }\n\n    .dataframe thead th {\n        text-align: right;\n    }\n</style>\n<table border=\"1\" class=\"dataframe\">\n  <thead>\n    <tr style=\"text-align: right;\">\n      <th></th>\n      <th>student_id</th>\n      <th>surname</th>\n      <th>name</th>\n      <th>stipend</th>\n      <th>kurs</th>\n      <th>city</th>\n      <th>birthday</th>\n      <th>univ_id</th>\n    </tr>\n  </thead>\n  <tbody>\n    <tr>\n      <th>0</th>\n      <td>1</td>\n      <td>Иванов</td>\n      <td>Иван</td>\n      <td>150</td>\n      <td>1</td>\n      <td>Орел</td>\n      <td>2002-12-03</td>\n      <td>10</td>\n    </tr>\n    <tr>\n      <th>1</th>\n      <td>12</td>\n      <td>Зайцева</td>\n      <td>Ольга</td>\n      <td>250</td>\n      <td>2</td>\n      <td>Липецк</td>\n      <td>2001-05-01</td>\n      <td>10</td>\n    </tr>\n    <tr>\n      <th>2</th>\n      <td>15</td>\n      <td>Ордуханян</td>\n      <td>Рафаэль</td>\n      <td>120</td>\n      <td>1</td>\n      <td>Липецк</td>\n      <td>2003-06-01</td>\n      <td>18</td>\n    </tr>\n    <tr>\n      <th>3</th>\n      <td>65</td>\n      <td>Сергеева</td>\n      <td>Фёкла</td>\n      <td>100</td>\n      <td>5</td>\n      <td>None</td>\n      <td>2000-02-19</td>\n      <td>10</td>\n    </tr>\n    <tr>\n      <th>4</th>\n      <td>73</td>\n      <td>Одинцова</td>\n      <td>Лидия</td>\n      <td>100</td>\n      <td>5</td>\n      <td>Верхний Баскунчак</td>\n      <td>2002-03-07</td>\n      <td>44</td>\n    </tr>\n    <tr>\n      <th>5</th>\n      <td>76</td>\n      <td>Мельникова</td>\n      <td>Дарья</td>\n      <td>100</td>\n      <td>5</td>\n      <td>Архангельск</td>\n      <td>2002-08-01</td>\n      <td>10</td>\n    </tr>\n    <tr>\n      <th>6</th>\n      <td>77</td>\n      <td>Мишина</td>\n      <td>Светлана</td>\n      <td>150</td>\n      <td>2</td>\n      <td>Рыльск</td>\n      <td>1997-05-22</td>\n      <td>18</td>\n    </tr>\n    <tr>\n      <th>7</th>\n      <td>79</td>\n      <td>Афанасьева</td>\n      <td>Анжелика</td>\n      <td>0</td>\n      <td>2</td>\n      <td>Уфа</td>\n      <td>1996-11-22</td>\n      <td>32</td>\n    </tr>\n    <tr>\n      <th>8</th>\n      <td>83</td>\n      <td>Сорокина</td>\n      <td>Ирина</td>\n      <td>200</td>\n      <td>3</td>\n      <td>Усмань</td>\n      <td>1993-09-28</td>\n      <td>48</td>\n    </tr>\n    <tr>\n      <th>9</th>\n      <td>85</td>\n      <td>Казакова</td>\n      <td>Мария</td>\n      <td>150</td>\n      <td>4</td>\n      <td>Нальчик</td>\n      <td>1994-02-18</td>\n      <td>32</td>\n    </tr>\n    <tr>\n      <th>10</th>\n      <td>97</td>\n      <td>Вишнякова</td>\n      <td>Анжела</td>\n      <td>200</td>\n      <td>2</td>\n      <td>Иваново</td>\n      <td>2002-02-10</td>\n      <td>46</td>\n    </tr>\n    <tr>\n      <th>11</th>\n      <td>101</td>\n      <td>Калашников</td>\n      <td>Евгений</td>\n      <td>200</td>\n      <td>2</td>\n      <td>Калининград</td>\n      <td>1998-02-27</td>\n      <td>48</td>\n    </tr>\n    <tr>\n      <th>12</th>\n      <td>103</td>\n      <td>Трофимов</td>\n      <td>Владислав</td>\n      <td>250</td>\n      <td>5</td>\n      <td>Верхоянск</td>\n      <td>1995-03-24</td>\n      <td>11</td>\n    </tr>\n    <tr>\n      <th>13</th>\n      <td>110</td>\n      <td>Суханов</td>\n      <td>Константин</td>\n      <td>250</td>\n      <td>3</td>\n      <td>Курск</td>\n      <td>1996-11-22</td>\n      <td>14</td>\n    </tr>\n    <tr>\n      <th>14</th>\n      <td>116</td>\n      <td>Федоров</td>\n      <td>Гостомысл</td>\n      <td>100</td>\n      <td>4</td>\n      <td>Новый Уренгой</td>\n      <td>2000-11-16</td>\n      <td>10</td>\n    </tr>\n    <tr>\n      <th>15</th>\n      <td>123</td>\n      <td>Веселов</td>\n      <td>Тимур</td>\n      <td>150</td>\n      <td>1</td>\n      <td>Невинномысск</td>\n      <td>1998-04-28</td>\n      <td>11</td>\n    </tr>\n    <tr>\n      <th>16</th>\n      <td>126</td>\n      <td>Жуков</td>\n      <td>Пров</td>\n      <td>0</td>\n      <td>3</td>\n      <td>Кыштым</td>\n      <td>1998-09-11</td>\n      <td>11</td>\n    </tr>\n    <tr>\n      <th>17</th>\n      <td>149</td>\n      <td>Вячеслав</td>\n      <td>Пахомов</td>\n      <td>250</td>\n      <td>3</td>\n      <td>Игарка</td>\n      <td>1997-05-14</td>\n      <td>14</td>\n    </tr>\n  </tbody>\n</table>\n</div>"
     },
     "execution_count": 62,
     "metadata": {},
     "output_type": "execute_result"
    }
   ],
   "source": [
    "# 10. Напишите запрос для получения списка неуспевающих студентов (получивших хотя бы одну неудовлетворительную оценку), с последующей сортировкой по идентификаторам университетов и курсам.\n",
    "\n",
    "sq = select(func.min(exam_marks.c.mark))\n",
    "\n",
    "sub_query = sq.where(exam_marks.c.student_id == student.c.student_id).scalar_subquery()\n",
    "\n",
    "s = select(student)\n",
    "s = s.where(sub_query < 3)\n",
    "\n",
    "print(s)\n",
    "pd.read_sql(s, conn)"
   ],
   "metadata": {
    "collapsed": false,
    "pycharm": {
     "name": "#%%\n"
    }
   }
  },
  {
   "cell_type": "code",
   "execution_count": 65,
   "outputs": [
    {
     "name": "stdout",
     "output_type": "stream",
     "text": [
      "SELECT student.student_id, student.surname, student.name, student.stipend, student.kurs, student.city, student.birthday, student.univ_id \n",
      "FROM student \n",
      "WHERE EXISTS (SELECT exam_marks.exam_id \n",
      "FROM exam_marks \n",
      "WHERE exam_marks.mark < :mark_1 AND student.student_id = exam_marks.student_id)\n"
     ]
    },
    {
     "data": {
      "text/plain": "    student_id     surname        name  stipend  kurs               city  \\\n0            1      Иванов        Иван      150     1               Орел   \n1           12     Зайцева       Ольга      250     2             Липецк   \n2           15   Ордуханян     Рафаэль      120     1             Липецк   \n3           65    Сергеева       Фёкла      100     5               None   \n4           73    Одинцова       Лидия      100     5  Верхний Баскунчак   \n5           76  Мельникова       Дарья      100     5        Архангельск   \n6           77      Мишина    Светлана      150     2             Рыльск   \n7           79  Афанасьева    Анжелика        0     2                Уфа   \n8           83    Сорокина       Ирина      200     3             Усмань   \n9           85    Казакова       Мария      150     4            Нальчик   \n10          97   Вишнякова      Анжела      200     2            Иваново   \n11         101  Калашников     Евгений      200     2        Калининград   \n12         103    Трофимов   Владислав      250     5          Верхоянск   \n13         110     Суханов  Константин      250     3              Курск   \n14         116     Федоров   Гостомысл      100     4      Новый Уренгой   \n15         123     Веселов       Тимур      150     1       Невинномысск   \n16         126       Жуков        Пров        0     3             Кыштым   \n17         149    Вячеслав     Пахомов      250     3             Игарка   \n\n     birthday  univ_id  \n0  2002-12-03       10  \n1  2001-05-01       10  \n2  2003-06-01       18  \n3  2000-02-19       10  \n4  2002-03-07       44  \n5  2002-08-01       10  \n6  1997-05-22       18  \n7  1996-11-22       32  \n8  1993-09-28       48  \n9  1994-02-18       32  \n10 2002-02-10       46  \n11 1998-02-27       48  \n12 1995-03-24       11  \n13 1996-11-22       14  \n14 2000-11-16       10  \n15 1998-04-28       11  \n16 1998-09-11       11  \n17 1997-05-14       14  ",
      "text/html": "<div>\n<style scoped>\n    .dataframe tbody tr th:only-of-type {\n        vertical-align: middle;\n    }\n\n    .dataframe tbody tr th {\n        vertical-align: top;\n    }\n\n    .dataframe thead th {\n        text-align: right;\n    }\n</style>\n<table border=\"1\" class=\"dataframe\">\n  <thead>\n    <tr style=\"text-align: right;\">\n      <th></th>\n      <th>student_id</th>\n      <th>surname</th>\n      <th>name</th>\n      <th>stipend</th>\n      <th>kurs</th>\n      <th>city</th>\n      <th>birthday</th>\n      <th>univ_id</th>\n    </tr>\n  </thead>\n  <tbody>\n    <tr>\n      <th>0</th>\n      <td>1</td>\n      <td>Иванов</td>\n      <td>Иван</td>\n      <td>150</td>\n      <td>1</td>\n      <td>Орел</td>\n      <td>2002-12-03</td>\n      <td>10</td>\n    </tr>\n    <tr>\n      <th>1</th>\n      <td>12</td>\n      <td>Зайцева</td>\n      <td>Ольга</td>\n      <td>250</td>\n      <td>2</td>\n      <td>Липецк</td>\n      <td>2001-05-01</td>\n      <td>10</td>\n    </tr>\n    <tr>\n      <th>2</th>\n      <td>15</td>\n      <td>Ордуханян</td>\n      <td>Рафаэль</td>\n      <td>120</td>\n      <td>1</td>\n      <td>Липецк</td>\n      <td>2003-06-01</td>\n      <td>18</td>\n    </tr>\n    <tr>\n      <th>3</th>\n      <td>65</td>\n      <td>Сергеева</td>\n      <td>Фёкла</td>\n      <td>100</td>\n      <td>5</td>\n      <td>None</td>\n      <td>2000-02-19</td>\n      <td>10</td>\n    </tr>\n    <tr>\n      <th>4</th>\n      <td>73</td>\n      <td>Одинцова</td>\n      <td>Лидия</td>\n      <td>100</td>\n      <td>5</td>\n      <td>Верхний Баскунчак</td>\n      <td>2002-03-07</td>\n      <td>44</td>\n    </tr>\n    <tr>\n      <th>5</th>\n      <td>76</td>\n      <td>Мельникова</td>\n      <td>Дарья</td>\n      <td>100</td>\n      <td>5</td>\n      <td>Архангельск</td>\n      <td>2002-08-01</td>\n      <td>10</td>\n    </tr>\n    <tr>\n      <th>6</th>\n      <td>77</td>\n      <td>Мишина</td>\n      <td>Светлана</td>\n      <td>150</td>\n      <td>2</td>\n      <td>Рыльск</td>\n      <td>1997-05-22</td>\n      <td>18</td>\n    </tr>\n    <tr>\n      <th>7</th>\n      <td>79</td>\n      <td>Афанасьева</td>\n      <td>Анжелика</td>\n      <td>0</td>\n      <td>2</td>\n      <td>Уфа</td>\n      <td>1996-11-22</td>\n      <td>32</td>\n    </tr>\n    <tr>\n      <th>8</th>\n      <td>83</td>\n      <td>Сорокина</td>\n      <td>Ирина</td>\n      <td>200</td>\n      <td>3</td>\n      <td>Усмань</td>\n      <td>1993-09-28</td>\n      <td>48</td>\n    </tr>\n    <tr>\n      <th>9</th>\n      <td>85</td>\n      <td>Казакова</td>\n      <td>Мария</td>\n      <td>150</td>\n      <td>4</td>\n      <td>Нальчик</td>\n      <td>1994-02-18</td>\n      <td>32</td>\n    </tr>\n    <tr>\n      <th>10</th>\n      <td>97</td>\n      <td>Вишнякова</td>\n      <td>Анжела</td>\n      <td>200</td>\n      <td>2</td>\n      <td>Иваново</td>\n      <td>2002-02-10</td>\n      <td>46</td>\n    </tr>\n    <tr>\n      <th>11</th>\n      <td>101</td>\n      <td>Калашников</td>\n      <td>Евгений</td>\n      <td>200</td>\n      <td>2</td>\n      <td>Калининград</td>\n      <td>1998-02-27</td>\n      <td>48</td>\n    </tr>\n    <tr>\n      <th>12</th>\n      <td>103</td>\n      <td>Трофимов</td>\n      <td>Владислав</td>\n      <td>250</td>\n      <td>5</td>\n      <td>Верхоянск</td>\n      <td>1995-03-24</td>\n      <td>11</td>\n    </tr>\n    <tr>\n      <th>13</th>\n      <td>110</td>\n      <td>Суханов</td>\n      <td>Константин</td>\n      <td>250</td>\n      <td>3</td>\n      <td>Курск</td>\n      <td>1996-11-22</td>\n      <td>14</td>\n    </tr>\n    <tr>\n      <th>14</th>\n      <td>116</td>\n      <td>Федоров</td>\n      <td>Гостомысл</td>\n      <td>100</td>\n      <td>4</td>\n      <td>Новый Уренгой</td>\n      <td>2000-11-16</td>\n      <td>10</td>\n    </tr>\n    <tr>\n      <th>15</th>\n      <td>123</td>\n      <td>Веселов</td>\n      <td>Тимур</td>\n      <td>150</td>\n      <td>1</td>\n      <td>Невинномысск</td>\n      <td>1998-04-28</td>\n      <td>11</td>\n    </tr>\n    <tr>\n      <th>16</th>\n      <td>126</td>\n      <td>Жуков</td>\n      <td>Пров</td>\n      <td>0</td>\n      <td>3</td>\n      <td>Кыштым</td>\n      <td>1998-09-11</td>\n      <td>11</td>\n    </tr>\n    <tr>\n      <th>17</th>\n      <td>149</td>\n      <td>Вячеслав</td>\n      <td>Пахомов</td>\n      <td>250</td>\n      <td>3</td>\n      <td>Игарка</td>\n      <td>1997-05-14</td>\n      <td>14</td>\n    </tr>\n  </tbody>\n</table>\n</div>"
     },
     "execution_count": 65,
     "metadata": {},
     "output_type": "execute_result"
    }
   ],
   "source": [
    "# 10. С помощью EXISTS Напишите запрос для получения списка неуспевающих студентов (получивших хотя бы одну неудовлетворительную оценку), с последующей сортировкой по идентификаторам университетов и курсам.\n",
    "\n",
    "sq = exists(exam_marks.c.exam_id).where(exam_marks.c.mark < 3)\n",
    "sq = sq.where(student.c.student_id == exam_marks.c.student_id)\n",
    "\n",
    "s = select(student)\n",
    "s = s.where(sq)\n",
    "\n",
    "print(s)\n",
    "pd.read_sql(s, conn)"
   ],
   "metadata": {
    "collapsed": false,
    "pycharm": {
     "name": "#%%\n"
    }
   }
  },
  {
   "cell_type": "markdown",
   "id": "d65fe873",
   "metadata": {
    "pycharm": {
     "name": "#%% md\n"
    }
   },
   "source": [
    "# Домашнее задание 3 (5 заданий в отдельном файле)"
   ]
  },
  {
   "cell_type": "code",
   "execution_count": 2,
   "outputs": [],
   "source": [
    "import pandas as pd\n",
    "from sqlalchemy import MetaData, Table, create_engine, select, and_, or_, not_, exists\n",
    "from sqlalchemy.sql import func\n",
    "\n",
    "engine = create_engine('sqlite:///../Data/Students.db')\n",
    "metadata_obj = MetaData() # Объект-контейнер, содержит информацию о схеме данных\n",
    "metadata_obj.reflect(bind=engine) # Отображение БД\n",
    "# Вызов метода reflect() приводит к включению в объект metadata_obj словаря всех таблиц БД.\n",
    "conn=engine.connect() # Соединение\n",
    "\n",
    "exam_marks=Table(\"exam_marks\", metadata_obj, autoload=True, autoload_with=\"engine\")\n",
    "lecturer=Table(\"lecturer\", metadata_obj, autoload=True, autoload_with=\"engine\")\n",
    "student=Table(\"student\", metadata_obj, autoload=True, autoload_with=\"engine\")\n",
    "subj_lect=Table(\"subj_lect\", metadata_obj, autoload=True, autoload_with=\"engine\")\n",
    "subject=Table(\"subject\", metadata_obj, autoload=True, autoload_with=\"engine\")\n",
    "university=Table(\"university\", metadata_obj, autolad=True, autolad_with=\"engine\")"
   ],
   "metadata": {
    "collapsed": false,
    "pycharm": {
     "name": "#%%\n"
    }
   }
  },
  {
   "cell_type": "code",
   "execution_count": 4,
   "outputs": [
    {
     "name": "stdout",
     "output_type": "stream",
     "text": [
      "SELECT student.student_id, student.surname, student.name, student.stipend, student.kurs, student.city, student.birthday, student.univ_id \n",
      "FROM student \n",
      "WHERE EXISTS (SELECT university.univ_id \n",
      "FROM university \n",
      "WHERE university.rating > :rating_1 AND student.univ_id = university.univ_id)\n"
     ]
    },
    {
     "data": {
      "text/plain": "    student_id    surname      name  stipend  kurs           city   birthday  \\\n0            6    Сидоров     Вадим      150     4         Москва 1999-06-07   \n1           15  Ордуханян   Рафаэль      120     1         Липецк 2003-06-01   \n2           32      Котов     Павел      150     5       Белгород 2001-02-28   \n3           57  Кудряшова      Вера      100     5  Нижневартовск 2002-02-18   \n4           58  Журавлева      Вера        0     4    Новосибирск 2003-06-14   \n..         ...        ...       ...      ...   ...            ...        ...   \n58         204     Петров     Вадим      250     2         Брянск 2002-05-21   \n59         205    Иванова     Мария      200     1         Липецк 2002-04-11   \n60         206    Киселев  Владимир      210     2           Орел 2003-02-10   \n61         207   Миронова     Федор      200     3         Москва 2002-04-15   \n62         276     Петров     Антон      200     4      Ульяновск 2001-08-05   \n\n    univ_id  \n0        22  \n1        18  \n2        14  \n3        14  \n4        11  \n..      ...  \n58       44  \n59       32  \n60       44  \n61       45  \n62       22  \n\n[63 rows x 8 columns]",
      "text/html": "<div>\n<style scoped>\n    .dataframe tbody tr th:only-of-type {\n        vertical-align: middle;\n    }\n\n    .dataframe tbody tr th {\n        vertical-align: top;\n    }\n\n    .dataframe thead th {\n        text-align: right;\n    }\n</style>\n<table border=\"1\" class=\"dataframe\">\n  <thead>\n    <tr style=\"text-align: right;\">\n      <th></th>\n      <th>student_id</th>\n      <th>surname</th>\n      <th>name</th>\n      <th>stipend</th>\n      <th>kurs</th>\n      <th>city</th>\n      <th>birthday</th>\n      <th>univ_id</th>\n    </tr>\n  </thead>\n  <tbody>\n    <tr>\n      <th>0</th>\n      <td>6</td>\n      <td>Сидоров</td>\n      <td>Вадим</td>\n      <td>150</td>\n      <td>4</td>\n      <td>Москва</td>\n      <td>1999-06-07</td>\n      <td>22</td>\n    </tr>\n    <tr>\n      <th>1</th>\n      <td>15</td>\n      <td>Ордуханян</td>\n      <td>Рафаэль</td>\n      <td>120</td>\n      <td>1</td>\n      <td>Липецк</td>\n      <td>2003-06-01</td>\n      <td>18</td>\n    </tr>\n    <tr>\n      <th>2</th>\n      <td>32</td>\n      <td>Котов</td>\n      <td>Павел</td>\n      <td>150</td>\n      <td>5</td>\n      <td>Белгород</td>\n      <td>2001-02-28</td>\n      <td>14</td>\n    </tr>\n    <tr>\n      <th>3</th>\n      <td>57</td>\n      <td>Кудряшова</td>\n      <td>Вера</td>\n      <td>100</td>\n      <td>5</td>\n      <td>Нижневартовск</td>\n      <td>2002-02-18</td>\n      <td>14</td>\n    </tr>\n    <tr>\n      <th>4</th>\n      <td>58</td>\n      <td>Журавлева</td>\n      <td>Вера</td>\n      <td>0</td>\n      <td>4</td>\n      <td>Новосибирск</td>\n      <td>2003-06-14</td>\n      <td>11</td>\n    </tr>\n    <tr>\n      <th>...</th>\n      <td>...</td>\n      <td>...</td>\n      <td>...</td>\n      <td>...</td>\n      <td>...</td>\n      <td>...</td>\n      <td>...</td>\n      <td>...</td>\n    </tr>\n    <tr>\n      <th>58</th>\n      <td>204</td>\n      <td>Петров</td>\n      <td>Вадим</td>\n      <td>250</td>\n      <td>2</td>\n      <td>Брянск</td>\n      <td>2002-05-21</td>\n      <td>44</td>\n    </tr>\n    <tr>\n      <th>59</th>\n      <td>205</td>\n      <td>Иванова</td>\n      <td>Мария</td>\n      <td>200</td>\n      <td>1</td>\n      <td>Липецк</td>\n      <td>2002-04-11</td>\n      <td>32</td>\n    </tr>\n    <tr>\n      <th>60</th>\n      <td>206</td>\n      <td>Киселев</td>\n      <td>Владимир</td>\n      <td>210</td>\n      <td>2</td>\n      <td>Орел</td>\n      <td>2003-02-10</td>\n      <td>44</td>\n    </tr>\n    <tr>\n      <th>61</th>\n      <td>207</td>\n      <td>Миронова</td>\n      <td>Федор</td>\n      <td>200</td>\n      <td>3</td>\n      <td>Москва</td>\n      <td>2002-04-15</td>\n      <td>45</td>\n    </tr>\n    <tr>\n      <th>62</th>\n      <td>276</td>\n      <td>Петров</td>\n      <td>Антон</td>\n      <td>200</td>\n      <td>4</td>\n      <td>Ульяновск</td>\n      <td>2001-08-05</td>\n      <td>22</td>\n    </tr>\n  </tbody>\n</table>\n<p>63 rows × 8 columns</p>\n</div>"
     },
     "execution_count": 4,
     "metadata": {},
     "output_type": "execute_result"
    }
   ],
   "source": [
    "#1. Напишите запрос с EXISTS, позволяющий вывести данные обо всех студентах обучающихся в вузах, имеющих рейтинг выше 300.\n",
    "# SQL - SELECT * FROM student WHERE univ_id IN (SELECT univ_id FROM university WHERE rating > 300)\n",
    "\n",
    "s = exists(university).where(university.c.rating > 300)\n",
    "\n",
    "sq = s.where(student.c.univ_id == university.c.univ_id)\n",
    "\n",
    "s = select(student)\n",
    "\n",
    "s = s.where(sq)\n",
    "\n",
    "print(s)\n",
    "pd.read_sql(s, conn)"
   ],
   "metadata": {
    "collapsed": false,
    "pycharm": {
     "name": "#%%\n"
    }
   }
  },
  {
   "cell_type": "code",
   "execution_count": null,
   "outputs": [],
   "source": [],
   "metadata": {
    "collapsed": false,
    "pycharm": {
     "name": "#%%\n"
    }
   }
  },
  {
   "cell_type": "code",
   "execution_count": 8,
   "outputs": [
    {
     "name": "stdout",
     "output_type": "stream",
     "text": [
      "SELECT student.student_id, student.surname, student.name, student.stipend, student.kurs, student.city, student.birthday, student.univ_id \n",
      "FROM student \n",
      "WHERE EXISTS (SELECT university.univ_id, university.univ_name, university.rating, university.city \n",
      "FROM university \n",
      "WHERE university.city != student.city AND student.univ_id = university.univ_id)\n"
     ]
    },
    {
     "data": {
      "text/plain": "    student_id     surname      name  stipend  kurs       city   birthday  \\\n0            1      Иванов      Иван      150     1       Орел 2002-12-03   \n1            3      Петров      Петр      200     3      Курск 2000-12-01   \n2           10    Кузнецов     Борис        0     2     Брянск 2001-12-08   \n3           12     Зайцева     Ольга      250     2     Липецк 2001-05-01   \n4           15   Ордуханян   Рафаэль      120     1     Липецк 2003-06-01   \n..         ...         ...       ...      ...   ...        ...        ...   \n74         202  Владимиров  Анатолий      200     2      Курск 2003-05-21   \n75         204      Петров     Вадим      250     2     Брянск 2002-05-21   \n76         205     Иванова     Мария      200     1     Липецк 2002-04-11   \n77         206     Киселев  Владимир      210     2       Орел 2003-02-10   \n78         276      Петров     Антон      200     4  Ульяновск 2001-08-05   \n\n    univ_id  \n0        10  \n1        10  \n2        10  \n3        10  \n4        18  \n..      ...  \n74       14  \n75       44  \n76       32  \n77       44  \n78       22  \n\n[79 rows x 8 columns]",
      "text/html": "<div>\n<style scoped>\n    .dataframe tbody tr th:only-of-type {\n        vertical-align: middle;\n    }\n\n    .dataframe tbody tr th {\n        vertical-align: top;\n    }\n\n    .dataframe thead th {\n        text-align: right;\n    }\n</style>\n<table border=\"1\" class=\"dataframe\">\n  <thead>\n    <tr style=\"text-align: right;\">\n      <th></th>\n      <th>student_id</th>\n      <th>surname</th>\n      <th>name</th>\n      <th>stipend</th>\n      <th>kurs</th>\n      <th>city</th>\n      <th>birthday</th>\n      <th>univ_id</th>\n    </tr>\n  </thead>\n  <tbody>\n    <tr>\n      <th>0</th>\n      <td>1</td>\n      <td>Иванов</td>\n      <td>Иван</td>\n      <td>150</td>\n      <td>1</td>\n      <td>Орел</td>\n      <td>2002-12-03</td>\n      <td>10</td>\n    </tr>\n    <tr>\n      <th>1</th>\n      <td>3</td>\n      <td>Петров</td>\n      <td>Петр</td>\n      <td>200</td>\n      <td>3</td>\n      <td>Курск</td>\n      <td>2000-12-01</td>\n      <td>10</td>\n    </tr>\n    <tr>\n      <th>2</th>\n      <td>10</td>\n      <td>Кузнецов</td>\n      <td>Борис</td>\n      <td>0</td>\n      <td>2</td>\n      <td>Брянск</td>\n      <td>2001-12-08</td>\n      <td>10</td>\n    </tr>\n    <tr>\n      <th>3</th>\n      <td>12</td>\n      <td>Зайцева</td>\n      <td>Ольга</td>\n      <td>250</td>\n      <td>2</td>\n      <td>Липецк</td>\n      <td>2001-05-01</td>\n      <td>10</td>\n    </tr>\n    <tr>\n      <th>4</th>\n      <td>15</td>\n      <td>Ордуханян</td>\n      <td>Рафаэль</td>\n      <td>120</td>\n      <td>1</td>\n      <td>Липецк</td>\n      <td>2003-06-01</td>\n      <td>18</td>\n    </tr>\n    <tr>\n      <th>...</th>\n      <td>...</td>\n      <td>...</td>\n      <td>...</td>\n      <td>...</td>\n      <td>...</td>\n      <td>...</td>\n      <td>...</td>\n      <td>...</td>\n    </tr>\n    <tr>\n      <th>74</th>\n      <td>202</td>\n      <td>Владимиров</td>\n      <td>Анатолий</td>\n      <td>200</td>\n      <td>2</td>\n      <td>Курск</td>\n      <td>2003-05-21</td>\n      <td>14</td>\n    </tr>\n    <tr>\n      <th>75</th>\n      <td>204</td>\n      <td>Петров</td>\n      <td>Вадим</td>\n      <td>250</td>\n      <td>2</td>\n      <td>Брянск</td>\n      <td>2002-05-21</td>\n      <td>44</td>\n    </tr>\n    <tr>\n      <th>76</th>\n      <td>205</td>\n      <td>Иванова</td>\n      <td>Мария</td>\n      <td>200</td>\n      <td>1</td>\n      <td>Липецк</td>\n      <td>2002-04-11</td>\n      <td>32</td>\n    </tr>\n    <tr>\n      <th>77</th>\n      <td>206</td>\n      <td>Киселев</td>\n      <td>Владимир</td>\n      <td>210</td>\n      <td>2</td>\n      <td>Орел</td>\n      <td>2003-02-10</td>\n      <td>44</td>\n    </tr>\n    <tr>\n      <th>78</th>\n      <td>276</td>\n      <td>Петров</td>\n      <td>Антон</td>\n      <td>200</td>\n      <td>4</td>\n      <td>Ульяновск</td>\n      <td>2001-08-05</td>\n      <td>22</td>\n    </tr>\n  </tbody>\n</table>\n<p>79 rows × 8 columns</p>\n</div>"
     },
     "execution_count": 8,
     "metadata": {},
     "output_type": "execute_result"
    }
   ],
   "source": [
    "# 3. Напишите запрос с EXISTS, выбирающий сведения о каждом студенте, для которого в городе его проживания имеется хотя бы один университет, в котором он не учится.\n",
    "\n",
    "s = exists(university).where(university.c.city != student.c.city)\n",
    "\n",
    "sq = s.where(student.c.univ_id == university.c.univ_id)\n",
    "\n",
    "s = select(student)\n",
    "\n",
    "s = s.where(sq)\n",
    "\n",
    "\n",
    "print(s)\n",
    "pd.read_sql(s, conn)"
   ],
   "metadata": {
    "collapsed": false,
    "pycharm": {
     "name": "#%%\n"
    }
   }
  },
  {
   "cell_type": "code",
   "execution_count": null,
   "outputs": [],
   "source": [],
   "metadata": {
    "collapsed": false,
    "pycharm": {
     "name": "#%%\n"
    }
   }
  }
 ],
 "metadata": {
  "kernelspec": {
   "display_name": "Python 3 (ipykernel)",
   "language": "python",
   "name": "python3"
  },
  "language_info": {
   "codemirror_mode": {
    "name": "ipython",
    "version": 3
   },
   "file_extension": ".py",
   "mimetype": "text/x-python",
   "name": "python",
   "nbconvert_exporter": "python",
   "pygments_lexer": "ipython3",
   "version": "3.9.7"
  }
 },
 "nbformat": 4,
 "nbformat_minor": 5
}