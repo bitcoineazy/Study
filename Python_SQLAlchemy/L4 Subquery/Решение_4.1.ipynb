{
 "cells": [
  {
   "cell_type": "markdown",
   "metadata": {
    "pycharm": {
     "name": "#%% md\n"
    }
   },
   "source": [
    "<img src=\"../Img/Python_SQL_PI.png\" style=\"width:100%\">\n",
    "\n",
    "\n",
    "<p style=\"font-size:22px;text-align:center\">Семинар 4.1. Подзапросы</p> \n",
    "\n",
    "<a id = Home></a>\n",
    "\n",
    "17 марта 2022 года, пн<br>\n",
    "Поток: ПИ20-1, ПИ20-2, ПИ20-3, ПИ20-4, ПИ20-5, ПИ20-6 (2 подгруппа)<br>\n",
    "\n",
    "\n",
    "21 марта 2022 года, чт<br>\n",
    "ПИ20-1, ПИ20-2, ПИ20-3, ПИ20-4, ПИ20-5, ПИ20-6 (3 подгруппа)<br>\n",
    "ПИ20-1, ПИ20-2, ПИ20-3, ПИ20-4, ПИ20-5, ПИ20-6 (4 подгруппа)<br>\n",
    "\n",
    "31 марта 2022 года, чт<br>\n",
    "ПИ20-1, ПИ20-2, ПИ20-3, ПИ20-4, ПИ20-5, ПИ20-6 (1 подгруппа)"
   ]
  },
  {
   "cell_type": "markdown",
   "metadata": {
    "pycharm": {
     "name": "#%% md\n"
    }
   },
   "source": [
    "\n",
    "```\n",
    "STUDENT\n",
    "STUDENT_ID — числовой код, идентифицирующий студента (идентификатор студента),\n",
    "SURNAME — фамилия студента,\n",
    "NAME — имя студента,\n",
    "STIPEND — стипендия, которую получает студент,\n",
    "KURS — курс, на котором учится студент,\n",
    "CITY — город, в котором живет студент,\n",
    "BIRTHDAY — дата рождения студента,\n",
    "UNIV_ID — идентификатор университета, в котором учится студент.\n",
    "\n",
    "\n",
    "LECTURER\n",
    "LECTURER_ID — идентификатор преподавателя,\n",
    "SURNAME — фамилия преподавателя,\n",
    "NAME — имя преподавателя,\n",
    "CITY — город, в котором живет преподаватель,\n",
    "UNIV_ID — идентификатор университета, в котором работает преподаватель\n",
    "\n",
    "\n",
    "SUBJECT\n",
    "SUBJ_ID — идентификатор предмета обучения,\n",
    "SUBJ_NAME — наименование предмета обучения,\n",
    "HOUR — количество часов, отводимых на изучение предмета,\n",
    "SEMESTER — семестр, в котором изучается данный предмет.\n",
    "\n",
    "\n",
    "UNIVERSITY\n",
    "UNIV_ID — идентификатор университета,\n",
    "UNIV_NAME — название университета,\n",
    "RATING — рейтинг университета,\n",
    "CITY — город, в котором расположен университет.\n",
    "\n",
    "\n",
    "EXAM_MARKS\n",
    "EXAM_ID — идентификатор экзамена,\n",
    "STUDENT_ID — идентификатор студента,\n",
    "SUBJ_ID — идентификатор предмета обучения,\n",
    "MARK — экзаменационная оценка,\n",
    "EXAM_DATE — дата экзамена.\n",
    "\n",
    "\n",
    "SUBJ_LECT\n",
    "LECTURER_ID — идентификатор преподавателя,\n",
    "SUBJ_ID — идентификатор предмета обучения.\n",
    "```\n",
    "\n",
    "<img src=\"../Img/Students_Schema.png\" style=\"width:60%\">"
   ]
  },
  {
   "cell_type": "markdown",
   "metadata": {
    "pycharm": {
     "name": "#%% md\n"
    }
   },
   "source": [
    "<img src=../Img/pencil.png style=\"width:190px;height:190px\">\n",
    "<p style=\"background-color:powderblue; font-size:125%; color: rebeccapurple;\">Выполните задания</p>\n",
    "<p>Выполните задания в Jupyter Notebook</p>\n",
    "\n",
    "1. С помощью подзапроса напишите запрос, выводящий список студентов, получающих максимальную стипендию, отсортировав его в алфавитном порядке по фамилиям.\n",
    "2. С помощью подзапроса напишите запрос, выводящий список студентов, получающих стипендию, превышающую среднее значение стипендии.\n",
    "3. С помощью подзапроса напишите запрос, выводящий список студентов, обучающихся в Воронеже, с последующей сортировкой по идентификаторам университетов и курсам.\n",
    "4. С помощью подзапроса напишите запрос, выводящий список предметов, на изучение которых отведено максимальное количество часов.\n",
    "5. Напишите запрос, выполняющий вывод имен и фамилий студентов, место проживания которых не совпадает с городом, в котором находится их университет.\n",
    "6. С помощью подзапроса напишите запрос, выводящий список университетов, расположенных в Москве и имеющих рейтинг больший, чем у ВГУ."
   ]
  },
  {
   "cell_type": "code",
   "execution_count": 1,
   "metadata": {
    "pycharm": {
     "name": "#%%\n"
    }
   },
   "outputs": [],
   "source": [
    "#! pip install sqlalchemy"
   ]
  },
  {
   "cell_type": "code",
   "execution_count": 2,
   "metadata": {
    "pycharm": {
     "name": "#%%\n"
    }
   },
   "outputs": [],
   "source": [
    "import pandas as pd\n",
    "from sqlalchemy import MetaData, Table, create_engine, select, and_, or_, not_\n",
    "from sqlalchemy.sql import func"
   ]
  },
  {
   "cell_type": "code",
   "execution_count": 13,
   "metadata": {
    "pycharm": {
     "name": "#%%\n"
    }
   },
   "outputs": [],
   "source": [
    "engine = create_engine('sqlite:///Data/Students.db')\n",
    "metadata_obj = MetaData() # Объект-контейнер, содержит информацию о схеме данных\n",
    "metadata_obj.reflect(bind=engine) # Отображение БД\n",
    "# Вызов метода reflect() приводит к включению в объект metadata_obj словаря всех таблиц БД."
   ]
  },
  {
   "cell_type": "markdown",
   "metadata": {
    "pycharm": {
     "name": "#%% md\n"
    }
   },
   "source": [
    "Несколько примеров получения информации о БД с помощью методов объекта ***metadata_obj***."
   ]
  },
  {
   "cell_type": "code",
   "execution_count": 9,
   "metadata": {
    "pycharm": {
     "name": "#%%\n"
    }
   },
   "outputs": [
    {
     "data": {
      "text/plain": "dict_keys(['city', 'exam_marks', 'student', 'university', 'subject', 'lecturer', 'subj_lect'])"
     },
     "execution_count": 9,
     "metadata": {},
     "output_type": "execute_result"
    }
   ],
   "source": [
    "# Таблицы в БД\n",
    "metadata_obj.tables.keys()"
   ]
  },
  {
   "cell_type": "code",
   "execution_count": 5,
   "metadata": {
    "pycharm": {
     "name": "#%%\n"
    }
   },
   "outputs": [
    {
     "data": {
      "text/plain": "'student'"
     },
     "execution_count": 5,
     "metadata": {},
     "output_type": "execute_result"
    }
   ],
   "source": [
    "# Имя конкретной таблицы\n",
    "metadata_obj.tables['student'].name"
   ]
  },
  {
   "cell_type": "code",
   "execution_count": 6,
   "metadata": {
    "pycharm": {
     "name": "#%%\n"
    }
   },
   "outputs": [
    {
     "data": {
      "text/plain": "['student_id',\n 'surname',\n 'name',\n 'stipend',\n 'kurs',\n 'city',\n 'birthday',\n 'univ_id']"
     },
     "execution_count": 6,
     "metadata": {},
     "output_type": "execute_result"
    }
   ],
   "source": [
    "# Столбцы конкретной таблицы\n",
    "metadata_obj.tables['student'].columns.keys()"
   ]
  },
  {
   "cell_type": "code",
   "execution_count": 7,
   "metadata": {
    "pycharm": {
     "name": "#%%\n"
    }
   },
   "outputs": [
    {
     "data": {
      "text/plain": "Column('student_id', INTEGER(), table=<student>, primary_key=True, nullable=False)"
     },
     "execution_count": 7,
     "metadata": {},
     "output_type": "execute_result"
    }
   ],
   "source": [
    "# Информация о столбце\n",
    "metadata_obj.tables['student'].columns['student_id']"
   ]
  },
  {
   "cell_type": "code",
   "execution_count": 12,
   "metadata": {
    "pycharm": {
     "name": "#%%\n"
    }
   },
   "outputs": [
    {
     "name": "stdout",
     "output_type": "stream",
     "text": [
      "city\n",
      "subject\n",
      "university\n",
      "lecturer\n",
      "student\n",
      "exam_marks\n",
      "subj_lect\n"
     ]
    }
   ],
   "source": [
    "for t in metadata_obj.sorted_tables:\n",
    "    print(t.name)"
   ]
  },
  {
   "cell_type": "code",
   "execution_count": 13,
   "metadata": {
    "scrolled": true,
    "pycharm": {
     "name": "#%%\n"
    }
   },
   "outputs": [
    {
     "name": "stdout",
     "output_type": "stream",
     "text": [
      "city\n",
      "city.city_id\n",
      "city.name\n",
      "\n",
      "subject\n",
      "subject.subj_id\n",
      "subject.subj_name\n",
      "subject.hour\n",
      "subject.semester\n",
      "\n",
      "university\n",
      "university.univ_id\n",
      "university.univ_name\n",
      "university.rating\n",
      "university.city\n",
      "\n",
      "lecturer\n",
      "lecturer.lecturer_id\n",
      "lecturer.surname\n",
      "lecturer.name\n",
      "lecturer.city\n",
      "lecturer.univ_id\n",
      "\n",
      "student\n",
      "student.student_id\n",
      "student.surname\n",
      "student.name\n",
      "student.stipend\n",
      "student.kurs\n",
      "student.city\n",
      "student.birthday\n",
      "student.univ_id\n",
      "\n",
      "exam_marks\n",
      "exam_marks.exam_id\n",
      "exam_marks.student_id\n",
      "exam_marks.subj_id\n",
      "exam_marks.mark\n",
      "exam_marks.exam_date\n",
      "\n",
      "subj_lect\n",
      "subj_lect.lecturer_id\n",
      "subj_lect.subj_id\n",
      "\n"
     ]
    }
   ],
   "source": [
    "for t in metadata_obj.sorted_tables:\n",
    "    print(t.name)\n",
    "    for c in t.columns:\n",
    "        print(c)\n",
    "    print()"
   ]
  },
  {
   "cell_type": "markdown",
   "metadata": {
    "pycharm": {
     "name": "#%% md\n"
    }
   },
   "source": [
    "Создание объектов таблиц"
   ]
  },
  {
   "cell_type": "code",
   "execution_count": 8,
   "metadata": {
    "pycharm": {
     "name": "#%%\n"
    }
   },
   "outputs": [],
   "source": [
    "exam_marks=Table(\"exam_marks\", metadata_obj, autoload=True, autoload_with=\"engine\")\n",
    "lecturer=Table(\"lecturer\", metadata_obj, autoload=True, autoload_with=\"engine\")\n",
    "student=Table(\"student\", metadata_obj, autoload=True, autoload_with=\"engine\")\n",
    "subj_lect=Table(\"subj_lect\", metadata_obj, autoload=True, autoload_with=\"engine\")\n",
    "subject=Table(\"subject\", metadata_obj, autoload=True, autoload_with=\"engine\")\n",
    "university=Table(\"university\", metadata_obj, autolad=True, autolad_with=\"engine\")"
   ]
  },
  {
   "cell_type": "markdown",
   "metadata": {
    "pycharm": {
     "name": "#%% md\n"
    }
   },
   "source": [
    "# Решение"
   ]
  },
  {
   "cell_type": "code",
   "execution_count": 9,
   "metadata": {
    "pycharm": {
     "name": "#%%\n"
    }
   },
   "outputs": [],
   "source": [
    "conn=engine.connect() # Соединение"
   ]
  },
  {
   "cell_type": "markdown",
   "metadata": {
    "scrolled": false,
    "pycharm": {
     "name": "#%% md\n"
    }
   },
   "source": [
    "# Ваш код здесь\n",
    "\n",
    "# №1\n",
    "# С помощью подзапроса напишите запрос, выводящий список студентов, получающих максимальную стипендию, отсортировав его в алфавитном порядке по фамилиям."
   ]
  },
  {
   "cell_type": "code",
   "execution_count": 10,
   "outputs": [
    {
     "name": "stdout",
     "output_type": "stream",
     "text": [
      "SELECT student.student_id, student.surname, student.name, student.stipend, student.kurs, student.city, student.birthday, student.univ_id \n",
      "FROM student \n",
      "WHERE student.stipend = (SELECT max(student.stipend) AS max_1 \n",
      "FROM student) ORDER BY student.surname\n"
     ]
    },
    {
     "data": {
      "text/plain": "    student_id     surname        name  stipend  kurs                  city  \\\n0           55      Белкин       Вадим      250     5               Воронеж   \n1           91     Блохина      Ираида      250     3         Новый Уренгой   \n2          149    Вячеслав     Пахомов      250     3                Игарка   \n3          141       Ершов    Митрофан      250     5             Пятигорск   \n4           64         Жук      Оксана      250     1               Воркута   \n5           12     Зайцева       Ольга      250     2                Липецк   \n6           68    Казакова       Ольга      250     4              Кемерово   \n7          130    Кудряшов       Роман      250     4       Нижний Новгород   \n8           92  Мельникова    Светлана      250     4  Кропоткин (Краснод.)   \n9          107     Морозов      Кирилл      250     2  Кропоткин (Краснод.)   \n10          66   Некрасова    Вероника      250     2               Иркутск   \n11         114       Панов     Арсений      250     1             Геленджик   \n12         204      Петров       Вадим      250     2                Брянск   \n13         203     Петрова   Екатерина      250     4              Белгород   \n14          72  Пономарева       Алина      250     2               Ангарск   \n15         146     Русаков       Давид      250     2             Байкальск   \n16         110     Суханов  Константин      250     3                 Курск   \n17         103    Трофимов   Владислав      250     5             Верхоянск   \n\n     birthday  univ_id  \n0  2000-01-07       10  \n1  1997-03-23       22  \n2  1997-05-14       14  \n3  2001-05-28       22  \n4  2000-11-16       47  \n5  2001-05-01       10  \n6  2000-03-29       44  \n7  1997-08-26       32  \n8  1998-03-24       15  \n9  2000-09-29       44  \n10 2004-08-23       10  \n11 1996-12-23       32  \n12 2002-05-21       44  \n13 2001-05-21       14  \n14 2002-10-07       48  \n15 1998-08-07       47  \n16 1996-11-22       14  \n17 1995-03-24       11  ",
      "text/html": "<div>\n<style scoped>\n    .dataframe tbody tr th:only-of-type {\n        vertical-align: middle;\n    }\n\n    .dataframe tbody tr th {\n        vertical-align: top;\n    }\n\n    .dataframe thead th {\n        text-align: right;\n    }\n</style>\n<table border=\"1\" class=\"dataframe\">\n  <thead>\n    <tr style=\"text-align: right;\">\n      <th></th>\n      <th>student_id</th>\n      <th>surname</th>\n      <th>name</th>\n      <th>stipend</th>\n      <th>kurs</th>\n      <th>city</th>\n      <th>birthday</th>\n      <th>univ_id</th>\n    </tr>\n  </thead>\n  <tbody>\n    <tr>\n      <th>0</th>\n      <td>55</td>\n      <td>Белкин</td>\n      <td>Вадим</td>\n      <td>250</td>\n      <td>5</td>\n      <td>Воронеж</td>\n      <td>2000-01-07</td>\n      <td>10</td>\n    </tr>\n    <tr>\n      <th>1</th>\n      <td>91</td>\n      <td>Блохина</td>\n      <td>Ираида</td>\n      <td>250</td>\n      <td>3</td>\n      <td>Новый Уренгой</td>\n      <td>1997-03-23</td>\n      <td>22</td>\n    </tr>\n    <tr>\n      <th>2</th>\n      <td>149</td>\n      <td>Вячеслав</td>\n      <td>Пахомов</td>\n      <td>250</td>\n      <td>3</td>\n      <td>Игарка</td>\n      <td>1997-05-14</td>\n      <td>14</td>\n    </tr>\n    <tr>\n      <th>3</th>\n      <td>141</td>\n      <td>Ершов</td>\n      <td>Митрофан</td>\n      <td>250</td>\n      <td>5</td>\n      <td>Пятигорск</td>\n      <td>2001-05-28</td>\n      <td>22</td>\n    </tr>\n    <tr>\n      <th>4</th>\n      <td>64</td>\n      <td>Жук</td>\n      <td>Оксана</td>\n      <td>250</td>\n      <td>1</td>\n      <td>Воркута</td>\n      <td>2000-11-16</td>\n      <td>47</td>\n    </tr>\n    <tr>\n      <th>5</th>\n      <td>12</td>\n      <td>Зайцева</td>\n      <td>Ольга</td>\n      <td>250</td>\n      <td>2</td>\n      <td>Липецк</td>\n      <td>2001-05-01</td>\n      <td>10</td>\n    </tr>\n    <tr>\n      <th>6</th>\n      <td>68</td>\n      <td>Казакова</td>\n      <td>Ольга</td>\n      <td>250</td>\n      <td>4</td>\n      <td>Кемерово</td>\n      <td>2000-03-29</td>\n      <td>44</td>\n    </tr>\n    <tr>\n      <th>7</th>\n      <td>130</td>\n      <td>Кудряшов</td>\n      <td>Роман</td>\n      <td>250</td>\n      <td>4</td>\n      <td>Нижний Новгород</td>\n      <td>1997-08-26</td>\n      <td>32</td>\n    </tr>\n    <tr>\n      <th>8</th>\n      <td>92</td>\n      <td>Мельникова</td>\n      <td>Светлана</td>\n      <td>250</td>\n      <td>4</td>\n      <td>Кропоткин (Краснод.)</td>\n      <td>1998-03-24</td>\n      <td>15</td>\n    </tr>\n    <tr>\n      <th>9</th>\n      <td>107</td>\n      <td>Морозов</td>\n      <td>Кирилл</td>\n      <td>250</td>\n      <td>2</td>\n      <td>Кропоткин (Краснод.)</td>\n      <td>2000-09-29</td>\n      <td>44</td>\n    </tr>\n    <tr>\n      <th>10</th>\n      <td>66</td>\n      <td>Некрасова</td>\n      <td>Вероника</td>\n      <td>250</td>\n      <td>2</td>\n      <td>Иркутск</td>\n      <td>2004-08-23</td>\n      <td>10</td>\n    </tr>\n    <tr>\n      <th>11</th>\n      <td>114</td>\n      <td>Панов</td>\n      <td>Арсений</td>\n      <td>250</td>\n      <td>1</td>\n      <td>Геленджик</td>\n      <td>1996-12-23</td>\n      <td>32</td>\n    </tr>\n    <tr>\n      <th>12</th>\n      <td>204</td>\n      <td>Петров</td>\n      <td>Вадим</td>\n      <td>250</td>\n      <td>2</td>\n      <td>Брянск</td>\n      <td>2002-05-21</td>\n      <td>44</td>\n    </tr>\n    <tr>\n      <th>13</th>\n      <td>203</td>\n      <td>Петрова</td>\n      <td>Екатерина</td>\n      <td>250</td>\n      <td>4</td>\n      <td>Белгород</td>\n      <td>2001-05-21</td>\n      <td>14</td>\n    </tr>\n    <tr>\n      <th>14</th>\n      <td>72</td>\n      <td>Пономарева</td>\n      <td>Алина</td>\n      <td>250</td>\n      <td>2</td>\n      <td>Ангарск</td>\n      <td>2002-10-07</td>\n      <td>48</td>\n    </tr>\n    <tr>\n      <th>15</th>\n      <td>146</td>\n      <td>Русаков</td>\n      <td>Давид</td>\n      <td>250</td>\n      <td>2</td>\n      <td>Байкальск</td>\n      <td>1998-08-07</td>\n      <td>47</td>\n    </tr>\n    <tr>\n      <th>16</th>\n      <td>110</td>\n      <td>Суханов</td>\n      <td>Константин</td>\n      <td>250</td>\n      <td>3</td>\n      <td>Курск</td>\n      <td>1996-11-22</td>\n      <td>14</td>\n    </tr>\n    <tr>\n      <th>17</th>\n      <td>103</td>\n      <td>Трофимов</td>\n      <td>Владислав</td>\n      <td>250</td>\n      <td>5</td>\n      <td>Верхоянск</td>\n      <td>1995-03-24</td>\n      <td>11</td>\n    </tr>\n  </tbody>\n</table>\n</div>"
     },
     "execution_count": 10,
     "metadata": {},
     "output_type": "execute_result"
    }
   ],
   "source": [
    "sub_query = select(func.max(student.c.stipend)).scalar_subquery()\n",
    "\n",
    "s = select(student)\n",
    "s = s.where(student.c.stipend == sub_query)\n",
    "s = s.order_by(student.c.surname)\n",
    "\n",
    "print(s)\n",
    "\n",
    "pd.read_sql(s, conn)"
   ],
   "metadata": {
    "collapsed": false,
    "pycharm": {
     "name": "#%%\n"
    }
   }
  },
  {
   "cell_type": "markdown",
   "source": [
    "\n",
    "# №2\n",
    "# С помощью подзапроса напишите запрос, выводящий список студентов, получающих стипендию, превышающую среднее значение стипендии."
   ],
   "metadata": {
    "collapsed": false,
    "pycharm": {
     "name": "#%% md\n"
    }
   }
  },
  {
   "cell_type": "code",
   "execution_count": 11,
   "outputs": [
    {
     "data": {
      "text/plain": "       surname         name  stipend      date_1\n0       Иванов         Иван      150  2002-12-03\n1       Петров         Петр      200  2000-12-01\n2      Сидоров        Вадим      150  1999-06-07\n3      Зайцева        Ольга      250  2001-05-01\n4        Котов        Павел      150  2001-02-28\n5       Белкин        Вадим      250  2000-01-07\n6          Дуб    Елизавета      150  2004-07-04\n7          Жук       Оксана      250  2000-11-16\n8    Некрасова     Вероника      250  2004-08-23\n9     Казакова        Ольга      250  2000-03-29\n10    Миронова         Анна      200  2000-10-08\n11     Кондрат      Синицин      200  2001-02-23\n12  Пономарева        Алина      250  2002-10-07\n13      Мишина     Светлана      150  1997-05-22\n14    Агафонов      Василий      150  1994-10-29\n15      Лапина     Элеонора      150  1997-11-23\n16    Сорокина        Ирина      200  1993-09-28\n17    Казакова        Мария      150  1994-02-18\n18      Жукова        Фекла      150  1998-10-06\n19     Жданова        Ирина      200  2002-03-02\n20     Валерия  Овчинникова      200  2000-06-15\n21     Блохина       Ираида      250  1997-03-23\n22  Мельникова     Светлана      250  1998-03-24\n23    Сорокина      Валерия      150  1995-03-01\n24   Тимофеева        Фаина      150  1999-08-01\n25   Вишнякова       Анжела      200  2002-02-10\n26    Борисова       Марина      150  1995-08-07\n27  Калашников      Евгений      200  1998-02-27\n28    Трофимов    Владислав      250  1995-03-24\n29     Морозов       Кирилл      250  2000-09-29\n30     Назаров        Икром      150  2001-12-15\n31     Суханов   Константин      250  1996-11-22\n32     Захаров        Софон      150  1994-03-19\n33     Аксенов      Валерий      150  1994-10-27\n34       Панов      Арсений      250  1996-12-23\n35  Кондратьев      Николай      150  1999-10-28\n36     Веселов        Тимур      150  1998-04-28\n37   Пономарев   Варфоромей      200  2000-12-15\n38    Кудряшов        Роман      250  1997-08-26\n39     Ковалев         Ефим      200  1995-11-28\n40   Жуковский         Юрий      150  1996-05-30\n41      Ефимов         Яков      200  2000-09-23\n42     Кулаков       Феофан      150  2001-03-14\n43    Журавлев         Фома      200  1997-07-12\n44      Ширяев       Андрей      150  1997-09-13\n45       Ершов     Митрофан      250  2001-05-28\n46    Ситников     Викентий      150  2003-10-05\n47     Русаков        Давид      250  1998-08-07\n48      Гуляев       Кузьма      150  1999-10-13\n49    Вячеслав      Пахомов      250  1997-05-14\n50     Баранов    Александр      220  2001-08-18\n51     Архипов       Андрей      180  2000-01-28\n52  Владимиров     Анатолий      200  2003-05-21\n53     Петрова    Екатерина      250  2001-05-21\n54      Петров        Вадим      250  2002-05-21\n55     Иванова        Мария      200  2002-04-11\n56     Киселев     Владимир      210  2003-02-10\n57    Миронова        Федор      200  2002-04-15\n58      Петров        Антон      200  2001-08-05\n59       Лукин        Артем      200  2001-12-01",
      "text/html": "<div>\n<style scoped>\n    .dataframe tbody tr th:only-of-type {\n        vertical-align: middle;\n    }\n\n    .dataframe tbody tr th {\n        vertical-align: top;\n    }\n\n    .dataframe thead th {\n        text-align: right;\n    }\n</style>\n<table border=\"1\" class=\"dataframe\">\n  <thead>\n    <tr style=\"text-align: right;\">\n      <th></th>\n      <th>surname</th>\n      <th>name</th>\n      <th>stipend</th>\n      <th>date_1</th>\n    </tr>\n  </thead>\n  <tbody>\n    <tr>\n      <th>0</th>\n      <td>Иванов</td>\n      <td>Иван</td>\n      <td>150</td>\n      <td>2002-12-03</td>\n    </tr>\n    <tr>\n      <th>1</th>\n      <td>Петров</td>\n      <td>Петр</td>\n      <td>200</td>\n      <td>2000-12-01</td>\n    </tr>\n    <tr>\n      <th>2</th>\n      <td>Сидоров</td>\n      <td>Вадим</td>\n      <td>150</td>\n      <td>1999-06-07</td>\n    </tr>\n    <tr>\n      <th>3</th>\n      <td>Зайцева</td>\n      <td>Ольга</td>\n      <td>250</td>\n      <td>2001-05-01</td>\n    </tr>\n    <tr>\n      <th>4</th>\n      <td>Котов</td>\n      <td>Павел</td>\n      <td>150</td>\n      <td>2001-02-28</td>\n    </tr>\n    <tr>\n      <th>5</th>\n      <td>Белкин</td>\n      <td>Вадим</td>\n      <td>250</td>\n      <td>2000-01-07</td>\n    </tr>\n    <tr>\n      <th>6</th>\n      <td>Дуб</td>\n      <td>Елизавета</td>\n      <td>150</td>\n      <td>2004-07-04</td>\n    </tr>\n    <tr>\n      <th>7</th>\n      <td>Жук</td>\n      <td>Оксана</td>\n      <td>250</td>\n      <td>2000-11-16</td>\n    </tr>\n    <tr>\n      <th>8</th>\n      <td>Некрасова</td>\n      <td>Вероника</td>\n      <td>250</td>\n      <td>2004-08-23</td>\n    </tr>\n    <tr>\n      <th>9</th>\n      <td>Казакова</td>\n      <td>Ольга</td>\n      <td>250</td>\n      <td>2000-03-29</td>\n    </tr>\n    <tr>\n      <th>10</th>\n      <td>Миронова</td>\n      <td>Анна</td>\n      <td>200</td>\n      <td>2000-10-08</td>\n    </tr>\n    <tr>\n      <th>11</th>\n      <td>Кондрат</td>\n      <td>Синицин</td>\n      <td>200</td>\n      <td>2001-02-23</td>\n    </tr>\n    <tr>\n      <th>12</th>\n      <td>Пономарева</td>\n      <td>Алина</td>\n      <td>250</td>\n      <td>2002-10-07</td>\n    </tr>\n    <tr>\n      <th>13</th>\n      <td>Мишина</td>\n      <td>Светлана</td>\n      <td>150</td>\n      <td>1997-05-22</td>\n    </tr>\n    <tr>\n      <th>14</th>\n      <td>Агафонов</td>\n      <td>Василий</td>\n      <td>150</td>\n      <td>1994-10-29</td>\n    </tr>\n    <tr>\n      <th>15</th>\n      <td>Лапина</td>\n      <td>Элеонора</td>\n      <td>150</td>\n      <td>1997-11-23</td>\n    </tr>\n    <tr>\n      <th>16</th>\n      <td>Сорокина</td>\n      <td>Ирина</td>\n      <td>200</td>\n      <td>1993-09-28</td>\n    </tr>\n    <tr>\n      <th>17</th>\n      <td>Казакова</td>\n      <td>Мария</td>\n      <td>150</td>\n      <td>1994-02-18</td>\n    </tr>\n    <tr>\n      <th>18</th>\n      <td>Жукова</td>\n      <td>Фекла</td>\n      <td>150</td>\n      <td>1998-10-06</td>\n    </tr>\n    <tr>\n      <th>19</th>\n      <td>Жданова</td>\n      <td>Ирина</td>\n      <td>200</td>\n      <td>2002-03-02</td>\n    </tr>\n    <tr>\n      <th>20</th>\n      <td>Валерия</td>\n      <td>Овчинникова</td>\n      <td>200</td>\n      <td>2000-06-15</td>\n    </tr>\n    <tr>\n      <th>21</th>\n      <td>Блохина</td>\n      <td>Ираида</td>\n      <td>250</td>\n      <td>1997-03-23</td>\n    </tr>\n    <tr>\n      <th>22</th>\n      <td>Мельникова</td>\n      <td>Светлана</td>\n      <td>250</td>\n      <td>1998-03-24</td>\n    </tr>\n    <tr>\n      <th>23</th>\n      <td>Сорокина</td>\n      <td>Валерия</td>\n      <td>150</td>\n      <td>1995-03-01</td>\n    </tr>\n    <tr>\n      <th>24</th>\n      <td>Тимофеева</td>\n      <td>Фаина</td>\n      <td>150</td>\n      <td>1999-08-01</td>\n    </tr>\n    <tr>\n      <th>25</th>\n      <td>Вишнякова</td>\n      <td>Анжела</td>\n      <td>200</td>\n      <td>2002-02-10</td>\n    </tr>\n    <tr>\n      <th>26</th>\n      <td>Борисова</td>\n      <td>Марина</td>\n      <td>150</td>\n      <td>1995-08-07</td>\n    </tr>\n    <tr>\n      <th>27</th>\n      <td>Калашников</td>\n      <td>Евгений</td>\n      <td>200</td>\n      <td>1998-02-27</td>\n    </tr>\n    <tr>\n      <th>28</th>\n      <td>Трофимов</td>\n      <td>Владислав</td>\n      <td>250</td>\n      <td>1995-03-24</td>\n    </tr>\n    <tr>\n      <th>29</th>\n      <td>Морозов</td>\n      <td>Кирилл</td>\n      <td>250</td>\n      <td>2000-09-29</td>\n    </tr>\n    <tr>\n      <th>30</th>\n      <td>Назаров</td>\n      <td>Икром</td>\n      <td>150</td>\n      <td>2001-12-15</td>\n    </tr>\n    <tr>\n      <th>31</th>\n      <td>Суханов</td>\n      <td>Константин</td>\n      <td>250</td>\n      <td>1996-11-22</td>\n    </tr>\n    <tr>\n      <th>32</th>\n      <td>Захаров</td>\n      <td>Софон</td>\n      <td>150</td>\n      <td>1994-03-19</td>\n    </tr>\n    <tr>\n      <th>33</th>\n      <td>Аксенов</td>\n      <td>Валерий</td>\n      <td>150</td>\n      <td>1994-10-27</td>\n    </tr>\n    <tr>\n      <th>34</th>\n      <td>Панов</td>\n      <td>Арсений</td>\n      <td>250</td>\n      <td>1996-12-23</td>\n    </tr>\n    <tr>\n      <th>35</th>\n      <td>Кондратьев</td>\n      <td>Николай</td>\n      <td>150</td>\n      <td>1999-10-28</td>\n    </tr>\n    <tr>\n      <th>36</th>\n      <td>Веселов</td>\n      <td>Тимур</td>\n      <td>150</td>\n      <td>1998-04-28</td>\n    </tr>\n    <tr>\n      <th>37</th>\n      <td>Пономарев</td>\n      <td>Варфоромей</td>\n      <td>200</td>\n      <td>2000-12-15</td>\n    </tr>\n    <tr>\n      <th>38</th>\n      <td>Кудряшов</td>\n      <td>Роман</td>\n      <td>250</td>\n      <td>1997-08-26</td>\n    </tr>\n    <tr>\n      <th>39</th>\n      <td>Ковалев</td>\n      <td>Ефим</td>\n      <td>200</td>\n      <td>1995-11-28</td>\n    </tr>\n    <tr>\n      <th>40</th>\n      <td>Жуковский</td>\n      <td>Юрий</td>\n      <td>150</td>\n      <td>1996-05-30</td>\n    </tr>\n    <tr>\n      <th>41</th>\n      <td>Ефимов</td>\n      <td>Яков</td>\n      <td>200</td>\n      <td>2000-09-23</td>\n    </tr>\n    <tr>\n      <th>42</th>\n      <td>Кулаков</td>\n      <td>Феофан</td>\n      <td>150</td>\n      <td>2001-03-14</td>\n    </tr>\n    <tr>\n      <th>43</th>\n      <td>Журавлев</td>\n      <td>Фома</td>\n      <td>200</td>\n      <td>1997-07-12</td>\n    </tr>\n    <tr>\n      <th>44</th>\n      <td>Ширяев</td>\n      <td>Андрей</td>\n      <td>150</td>\n      <td>1997-09-13</td>\n    </tr>\n    <tr>\n      <th>45</th>\n      <td>Ершов</td>\n      <td>Митрофан</td>\n      <td>250</td>\n      <td>2001-05-28</td>\n    </tr>\n    <tr>\n      <th>46</th>\n      <td>Ситников</td>\n      <td>Викентий</td>\n      <td>150</td>\n      <td>2003-10-05</td>\n    </tr>\n    <tr>\n      <th>47</th>\n      <td>Русаков</td>\n      <td>Давид</td>\n      <td>250</td>\n      <td>1998-08-07</td>\n    </tr>\n    <tr>\n      <th>48</th>\n      <td>Гуляев</td>\n      <td>Кузьма</td>\n      <td>150</td>\n      <td>1999-10-13</td>\n    </tr>\n    <tr>\n      <th>49</th>\n      <td>Вячеслав</td>\n      <td>Пахомов</td>\n      <td>250</td>\n      <td>1997-05-14</td>\n    </tr>\n    <tr>\n      <th>50</th>\n      <td>Баранов</td>\n      <td>Александр</td>\n      <td>220</td>\n      <td>2001-08-18</td>\n    </tr>\n    <tr>\n      <th>51</th>\n      <td>Архипов</td>\n      <td>Андрей</td>\n      <td>180</td>\n      <td>2000-01-28</td>\n    </tr>\n    <tr>\n      <th>52</th>\n      <td>Владимиров</td>\n      <td>Анатолий</td>\n      <td>200</td>\n      <td>2003-05-21</td>\n    </tr>\n    <tr>\n      <th>53</th>\n      <td>Петрова</td>\n      <td>Екатерина</td>\n      <td>250</td>\n      <td>2001-05-21</td>\n    </tr>\n    <tr>\n      <th>54</th>\n      <td>Петров</td>\n      <td>Вадим</td>\n      <td>250</td>\n      <td>2002-05-21</td>\n    </tr>\n    <tr>\n      <th>55</th>\n      <td>Иванова</td>\n      <td>Мария</td>\n      <td>200</td>\n      <td>2002-04-11</td>\n    </tr>\n    <tr>\n      <th>56</th>\n      <td>Киселев</td>\n      <td>Владимир</td>\n      <td>210</td>\n      <td>2003-02-10</td>\n    </tr>\n    <tr>\n      <th>57</th>\n      <td>Миронова</td>\n      <td>Федор</td>\n      <td>200</td>\n      <td>2002-04-15</td>\n    </tr>\n    <tr>\n      <th>58</th>\n      <td>Петров</td>\n      <td>Антон</td>\n      <td>200</td>\n      <td>2001-08-05</td>\n    </tr>\n    <tr>\n      <th>59</th>\n      <td>Лукин</td>\n      <td>Артем</td>\n      <td>200</td>\n      <td>2001-12-01</td>\n    </tr>\n  </tbody>\n</table>\n</div>"
     },
     "execution_count": 11,
     "metadata": {},
     "output_type": "execute_result"
    }
   ],
   "source": [
    "sub_query_2 = select(func.avg(student.c.stipend)).scalar_subquery()\n",
    "s = select(student.c.surname, student.c.name, student.c.stipend, func.date(student.c.birthday))\n",
    "s = s.where(student.c.stipend > sub_query_2)\n",
    "\n",
    "pd.read_sql(s, conn)"
   ],
   "metadata": {
    "collapsed": false,
    "pycharm": {
     "name": "#%%\n"
    }
   }
  },
  {
   "cell_type": "markdown",
   "source": [
    "### №3\n",
    "### С помощью подзапроса напишите запрос, выводящий список студентов, обучающихся в Воронеже, с последующей сортировкой по идентификаторам университетов и курсам."
   ],
   "metadata": {
    "collapsed": false,
    "pycharm": {
     "name": "#%% md\n"
    }
   }
  },
  {
   "cell_type": "code",
   "execution_count": 12,
   "outputs": [
    {
     "name": "stdout",
     "output_type": "stream",
     "text": [
      "SELECT university.univ_id, university.univ_name, university.rating, university.city \n",
      "FROM university, student \n",
      "WHERE student.univ_id IN (SELECT university.univ_id \n",
      "FROM university \n",
      "WHERE university.city = :city_1) ORDER BY university.univ_id\n"
     ]
    },
    {
     "name": "stderr",
     "output_type": "stream",
     "text": [
      "/usr/local/lib/python3.9/dist-packages/pandas/io/sql.py:1402: SAWarning: SELECT statement has a cartesian product between FROM element(s) \"university\" and FROM element \"student\".  Apply join condition(s) between each element to resolve.\n",
      "  return self.connectable.execution_options().execute(*args, **kwargs)\n"
     ]
    },
    {
     "data": {
      "text/plain": "     univ_id univ_name  rating       city\n0         10       ВГУ   296.0    Воронеж\n1         10       ВГУ   296.0    Воронеж\n2         10       ВГУ   296.0    Воронеж\n3         10       ВГУ   296.0    Воронеж\n4         10       ВГУ   296.0    Воронеж\n..       ...       ...     ...        ...\n294       48      УЛГУ   231.0  Ульяновск\n295       48      УЛГУ   231.0  Ульяновск\n296       48      УЛГУ   231.0  Ульяновск\n297       48      УЛГУ   231.0  Ульяновск\n298       48      УЛГУ   231.0  Ульяновск\n\n[299 rows x 4 columns]",
      "text/html": "<div>\n<style scoped>\n    .dataframe tbody tr th:only-of-type {\n        vertical-align: middle;\n    }\n\n    .dataframe tbody tr th {\n        vertical-align: top;\n    }\n\n    .dataframe thead th {\n        text-align: right;\n    }\n</style>\n<table border=\"1\" class=\"dataframe\">\n  <thead>\n    <tr style=\"text-align: right;\">\n      <th></th>\n      <th>univ_id</th>\n      <th>univ_name</th>\n      <th>rating</th>\n      <th>city</th>\n    </tr>\n  </thead>\n  <tbody>\n    <tr>\n      <th>0</th>\n      <td>10</td>\n      <td>ВГУ</td>\n      <td>296.0</td>\n      <td>Воронеж</td>\n    </tr>\n    <tr>\n      <th>1</th>\n      <td>10</td>\n      <td>ВГУ</td>\n      <td>296.0</td>\n      <td>Воронеж</td>\n    </tr>\n    <tr>\n      <th>2</th>\n      <td>10</td>\n      <td>ВГУ</td>\n      <td>296.0</td>\n      <td>Воронеж</td>\n    </tr>\n    <tr>\n      <th>3</th>\n      <td>10</td>\n      <td>ВГУ</td>\n      <td>296.0</td>\n      <td>Воронеж</td>\n    </tr>\n    <tr>\n      <th>4</th>\n      <td>10</td>\n      <td>ВГУ</td>\n      <td>296.0</td>\n      <td>Воронеж</td>\n    </tr>\n    <tr>\n      <th>...</th>\n      <td>...</td>\n      <td>...</td>\n      <td>...</td>\n      <td>...</td>\n    </tr>\n    <tr>\n      <th>294</th>\n      <td>48</td>\n      <td>УЛГУ</td>\n      <td>231.0</td>\n      <td>Ульяновск</td>\n    </tr>\n    <tr>\n      <th>295</th>\n      <td>48</td>\n      <td>УЛГУ</td>\n      <td>231.0</td>\n      <td>Ульяновск</td>\n    </tr>\n    <tr>\n      <th>296</th>\n      <td>48</td>\n      <td>УЛГУ</td>\n      <td>231.0</td>\n      <td>Ульяновск</td>\n    </tr>\n    <tr>\n      <th>297</th>\n      <td>48</td>\n      <td>УЛГУ</td>\n      <td>231.0</td>\n      <td>Ульяновск</td>\n    </tr>\n    <tr>\n      <th>298</th>\n      <td>48</td>\n      <td>УЛГУ</td>\n      <td>231.0</td>\n      <td>Ульяновск</td>\n    </tr>\n  </tbody>\n</table>\n<p>299 rows × 4 columns</p>\n</div>"
     },
     "execution_count": 12,
     "metadata": {},
     "output_type": "execute_result"
    }
   ],
   "source": [
    "sub_query_3 = select(university.c.univ_id) # .where(university.c.univ_id == \"Воронеж\").scalar_subquery()\n",
    "#sub_query_3 = sub_query_3.where(student.c.univ_id)\n",
    "sub_query_3 = sub_query_3.where(university.c.city == \"Воронеж\")\n",
    "\n",
    "\n",
    "s = select(university)\n",
    "s = s.where(student.c.univ_id.in_(sub_query_3))\n",
    "s = s.order_by(university.c.univ_id)\n",
    "\n",
    "print(s)\n",
    "pd.read_sql(s, conn)"
   ],
   "metadata": {
    "collapsed": false,
    "pycharm": {
     "name": "#%%\n"
    }
   }
  },
  {
   "cell_type": "markdown",
   "source": [
    "### №4\n",
    "### С помощью подзапроса напишите запрос, выводящий список предметов, на изучение которых отведено максимальное количество часов."
   ],
   "metadata": {
    "collapsed": false,
    "pycharm": {
     "name": "#%% md\n"
    }
   }
  },
  {
   "cell_type": "code",
   "execution_count": 44,
   "outputs": [
    {
     "name": "stdout",
     "output_type": "stream",
     "text": [
      "SELECT student.student_id, student.surname, student.name, student.stipend, student.kurs, student.city, student.birthday, student.univ_id \n",
      "FROM student \n",
      "WHERE student.city != (SELECT university.city \n",
      "FROM university)\n"
     ]
    },
    {
     "data": {
      "text/plain": "student_id     True\nsurname        True\nname           True\nstipend       False\nkurs           True\ncity           True\nbirthday       True\nuniv_id        True\ndtype: bool"
     },
     "execution_count": 44,
     "metadata": {},
     "output_type": "execute_result"
    }
   ],
   "source": [
    "sq = select(university.c.city).scalar_subquery()\n",
    "\n",
    "s = select(student)\n",
    "s = s.where(student.c.city != sq)\n",
    "\n",
    "print(s)\n",
    "pd.read_sql(s, conn)"
   ],
   "metadata": {
    "collapsed": false,
    "pycharm": {
     "name": "#%%\n"
    }
   }
  },
  {
   "cell_type": "markdown",
   "source": [
    "### №5\n",
    "### Напишите запрос, выполняющий вывод имен и фамилий студентов, место проживания которых не совпадает с городом, в котором находится их университет."
   ],
   "metadata": {
    "collapsed": false,
    "pycharm": {
     "name": "#%% md\n"
    }
   }
  },
  {
   "cell_type": "code",
   "execution_count": 14,
   "outputs": [
    {
     "name": "stdout",
     "output_type": "stream",
     "text": [
      "SELECT student.student_id, student.surname, student.name, student.stipend, student.kurs, student.city, student.birthday, student.univ_id \n",
      "FROM student \n",
      "WHERE student.city != (SELECT university.city \n",
      "FROM university \n",
      "WHERE university.univ_id = student.univ_id)\n"
     ]
    },
    {
     "data": {
      "text/plain": "    student_id     surname      name  stipend  kurs       city   birthday  \\\n0            1      Иванов      Иван      150     1       Орел 2002-12-03   \n1            3      Петров      Петр      200     3      Курск 2000-12-01   \n2           10    Кузнецов     Борис        0     2     Брянск 2001-12-08   \n3           12     Зайцева     Ольга      250     2     Липецк 2001-05-01   \n4           15   Ордуханян   Рафаэль      120     1     Липецк 2003-06-01   \n..         ...         ...       ...      ...   ...        ...        ...   \n74         202  Владимиров  Анатолий      200     2      Курск 2003-05-21   \n75         204      Петров     Вадим      250     2     Брянск 2002-05-21   \n76         205     Иванова     Мария      200     1     Липецк 2002-04-11   \n77         206     Киселев  Владимир      210     2       Орел 2003-02-10   \n78         276      Петров     Антон      200     4  Ульяновск 2001-08-05   \n\n    univ_id  \n0        10  \n1        10  \n2        10  \n3        10  \n4        18  \n..      ...  \n74       14  \n75       44  \n76       32  \n77       44  \n78       22  \n\n[79 rows x 8 columns]",
      "text/html": "<div>\n<style scoped>\n    .dataframe tbody tr th:only-of-type {\n        vertical-align: middle;\n    }\n\n    .dataframe tbody tr th {\n        vertical-align: top;\n    }\n\n    .dataframe thead th {\n        text-align: right;\n    }\n</style>\n<table border=\"1\" class=\"dataframe\">\n  <thead>\n    <tr style=\"text-align: right;\">\n      <th></th>\n      <th>student_id</th>\n      <th>surname</th>\n      <th>name</th>\n      <th>stipend</th>\n      <th>kurs</th>\n      <th>city</th>\n      <th>birthday</th>\n      <th>univ_id</th>\n    </tr>\n  </thead>\n  <tbody>\n    <tr>\n      <th>0</th>\n      <td>1</td>\n      <td>Иванов</td>\n      <td>Иван</td>\n      <td>150</td>\n      <td>1</td>\n      <td>Орел</td>\n      <td>2002-12-03</td>\n      <td>10</td>\n    </tr>\n    <tr>\n      <th>1</th>\n      <td>3</td>\n      <td>Петров</td>\n      <td>Петр</td>\n      <td>200</td>\n      <td>3</td>\n      <td>Курск</td>\n      <td>2000-12-01</td>\n      <td>10</td>\n    </tr>\n    <tr>\n      <th>2</th>\n      <td>10</td>\n      <td>Кузнецов</td>\n      <td>Борис</td>\n      <td>0</td>\n      <td>2</td>\n      <td>Брянск</td>\n      <td>2001-12-08</td>\n      <td>10</td>\n    </tr>\n    <tr>\n      <th>3</th>\n      <td>12</td>\n      <td>Зайцева</td>\n      <td>Ольга</td>\n      <td>250</td>\n      <td>2</td>\n      <td>Липецк</td>\n      <td>2001-05-01</td>\n      <td>10</td>\n    </tr>\n    <tr>\n      <th>4</th>\n      <td>15</td>\n      <td>Ордуханян</td>\n      <td>Рафаэль</td>\n      <td>120</td>\n      <td>1</td>\n      <td>Липецк</td>\n      <td>2003-06-01</td>\n      <td>18</td>\n    </tr>\n    <tr>\n      <th>...</th>\n      <td>...</td>\n      <td>...</td>\n      <td>...</td>\n      <td>...</td>\n      <td>...</td>\n      <td>...</td>\n      <td>...</td>\n      <td>...</td>\n    </tr>\n    <tr>\n      <th>74</th>\n      <td>202</td>\n      <td>Владимиров</td>\n      <td>Анатолий</td>\n      <td>200</td>\n      <td>2</td>\n      <td>Курск</td>\n      <td>2003-05-21</td>\n      <td>14</td>\n    </tr>\n    <tr>\n      <th>75</th>\n      <td>204</td>\n      <td>Петров</td>\n      <td>Вадим</td>\n      <td>250</td>\n      <td>2</td>\n      <td>Брянск</td>\n      <td>2002-05-21</td>\n      <td>44</td>\n    </tr>\n    <tr>\n      <th>76</th>\n      <td>205</td>\n      <td>Иванова</td>\n      <td>Мария</td>\n      <td>200</td>\n      <td>1</td>\n      <td>Липецк</td>\n      <td>2002-04-11</td>\n      <td>32</td>\n    </tr>\n    <tr>\n      <th>77</th>\n      <td>206</td>\n      <td>Киселев</td>\n      <td>Владимир</td>\n      <td>210</td>\n      <td>2</td>\n      <td>Орел</td>\n      <td>2003-02-10</td>\n      <td>44</td>\n    </tr>\n    <tr>\n      <th>78</th>\n      <td>276</td>\n      <td>Петров</td>\n      <td>Антон</td>\n      <td>200</td>\n      <td>4</td>\n      <td>Ульяновск</td>\n      <td>2001-08-05</td>\n      <td>22</td>\n    </tr>\n  </tbody>\n</table>\n<p>79 rows × 8 columns</p>\n</div>"
     },
     "execution_count": 14,
     "metadata": {},
     "output_type": "execute_result"
    }
   ],
   "source": [
    "sq = select(university.c.city)\n",
    "sq = sq.where(university.c.univ_id == student.c.univ_id).scalar_subquery()\n",
    "\n",
    "s = select(student)\n",
    "s = s.where(student.c.city != sq)\n",
    "\n",
    "print(s)\n",
    "pd.read_sql(s, conn)"
   ],
   "metadata": {
    "collapsed": false,
    "pycharm": {
     "name": "#%%\n"
    }
   }
  },
  {
   "cell_type": "markdown",
   "source": [
    "### 6\n",
    "### С помощью подзапроса напишите запрос, выводящий список университетов, расположенных в Москве и имеющих рейтинг больший, чем у ВГУ.\n",
    "# ДЗ БД ЧИНУК"
   ],
   "metadata": {
    "collapsed": false,
    "pycharm": {
     "name": "#%% md\n"
    }
   }
  },
  {
   "cell_type": "markdown",
   "metadata": {
    "pycharm": {
     "name": "#%% md\n"
    }
   },
   "source": [
    "# Домашнее задание"
   ]
  },
  {
   "cell_type": "markdown",
   "metadata": {
    "pycharm": {
     "name": "#%% md\n"
    }
   },
   "source": [
    "1. Выполнить отображение БД Chinook\n",
    "<img src=\"../Img/chinook_ERD.png\" style=\"width:100%\">\n",
    "\n",
    "\n",
    "\n",
    "3. Выполнить запросы с помощью подзапросов.\n",
    "\n",
    "2.1. Составьте запрос, выполняющий вывод информации о счетах клиентов из Бразилии. Результат должен содержать фамилию и имя клиента, идентификатор счета, дату выставления счета, название страны плательщика (Billing Country).\n",
    "\n",
    "2.2. Покажите сотрудников, подчиняющихся сотруднику *Nancy Edwards*.\n",
    "\n",
    "2.3. Покажите трэки в жанре *Classical*, длящиеся более 8 минут.\n",
    "\n",
    "2.4. Покажите альбомы, в составе которых более 25 трэков.\n",
    "\n",
    "2.5. Покажите жанры, в составе которых имеются трэки, длящиеся более 18 минут.\n",
    "\n",
    "2.6. Покажите артистов в жанре *Classical*.\n",
    "\n",
    "2.7. Найдите артистов, записавших альбомы, в которых более 20 произведений."
   ]
  },
  {
   "cell_type": "code",
   "execution_count": 52,
   "outputs": [],
   "source": [
    "#1. Выполнить отображение БД Chinook\n",
    "\n",
    "engine = create_engine('sqlite:///Data/Chinook_Sqlite.sqlite')\n",
    "metadata_obj = MetaData()\n",
    "metadata_obj.reflect(bind=engine)\n",
    "\n",
    "conn=engine.connect() # Соединение"
   ],
   "metadata": {
    "collapsed": false,
    "pycharm": {
     "name": "#%%\n"
    }
   }
  },
  {
   "cell_type": "code",
   "execution_count": 53,
   "outputs": [
    {
     "data": {
      "text/plain": "['CustomerId',\n 'FirstName',\n 'LastName',\n 'Company',\n 'Address',\n 'City',\n 'State',\n 'Country',\n 'PostalCode',\n 'Phone',\n 'Fax',\n 'Email',\n 'SupportRepId']"
     },
     "execution_count": 53,
     "metadata": {},
     "output_type": "execute_result"
    }
   ],
   "source": [
    "#metadata_obj.tables.keys()\n",
    "metadata_obj.tables['Customer'].columns.keys()"
   ],
   "metadata": {
    "collapsed": false,
    "pycharm": {
     "name": "#%%\n"
    }
   }
  },
  {
   "cell_type": "code",
   "execution_count": 133,
   "outputs": [],
   "source": [
    "customer = Table(\"Customer\", metadata_obj, autoload=True, autoload_with=\"engine\")\n",
    "invoice = Table(\"Invoice\", metadata_obj, autoload=True, autoload_with=\"engine\")\n",
    "employee = Table(\"Employee\", metadata_obj, autoload=True, autoload_with=\"engine\")\n",
    "track = Table(\"Track\", metadata_obj, autoload=True, autoload_with=\"engine\")\n",
    "genre = Table(\"Genre\", metadata_obj, autoload=True, autoload_with=\"engine\")\n",
    "album = Table(\"Album\", metadata_obj, autoload=True, autoload_with=\"engine\")\n",
    "artist = Table(\"Artist\", metadata_obj, autoload=True, autoload_with=\"engine\")\n"
   ],
   "metadata": {
    "collapsed": false,
    "pycharm": {
     "name": "#%%\n"
    }
   }
  },
  {
   "cell_type": "code",
   "execution_count": 162,
   "outputs": [
    {
     "name": "stdout",
     "output_type": "stream",
     "text": [
      "SELECT \"Customer\".\"LastName\", \"Customer\".\"FirstName\", \"Invoice\".\"InvoiceId\", \"Invoice\".\"InvoiceDate\", \"Invoice\".\"BillingCountry\", \"Customer\".\"Country\" \n",
      "FROM \"Customer\", \"Invoice\" \n",
      "WHERE \"Customer\".\"CustomerId\" = (SELECT \"Invoice\".\"CustomerId\" \n",
      "FROM \"Invoice\") AND \"Customer\".\"Country\" = :Country_1\n",
      "Всего записей, удовлетворяющих условию: 412\n"
     ]
    },
    {
     "name": "stderr",
     "output_type": "stream",
     "text": [
      "/usr/local/lib/python3.9/dist-packages/pandas/io/sql.py:1402: SAWarning: SELECT statement has a cartesian product between FROM element(s) \"Customer\" and FROM element \"Invoice\".  Apply join condition(s) between each element to resolve.\n",
      "  return self.connectable.execution_options().execute(*args, **kwargs)\n"
     ]
    },
    {
     "data": {
      "text/plain": "      LastName FirstName  InvoiceId InvoiceDate BillingCountry Country\n0    Gonçalves      Luís          1  2009-01-01        Germany  Brazil\n1    Gonçalves      Luís          2  2009-01-02         Norway  Brazil\n2    Gonçalves      Luís          3  2009-01-03        Belgium  Brazil\n3    Gonçalves      Luís          4  2009-01-06         Canada  Brazil\n4    Gonçalves      Luís          5  2009-01-11            USA  Brazil\n..         ...       ...        ...         ...            ...     ...\n407  Gonçalves      Luís        408  2013-12-05            USA  Brazil\n408  Gonçalves      Luís        409  2013-12-06         Canada  Brazil\n409  Gonçalves      Luís        410  2013-12-09       Portugal  Brazil\n410  Gonçalves      Luís        411  2013-12-14        Finland  Brazil\n411  Gonçalves      Luís        412  2013-12-22          India  Brazil\n\n[412 rows x 6 columns]",
      "text/html": "<div>\n<style scoped>\n    .dataframe tbody tr th:only-of-type {\n        vertical-align: middle;\n    }\n\n    .dataframe tbody tr th {\n        vertical-align: top;\n    }\n\n    .dataframe thead th {\n        text-align: right;\n    }\n</style>\n<table border=\"1\" class=\"dataframe\">\n  <thead>\n    <tr style=\"text-align: right;\">\n      <th></th>\n      <th>LastName</th>\n      <th>FirstName</th>\n      <th>InvoiceId</th>\n      <th>InvoiceDate</th>\n      <th>BillingCountry</th>\n      <th>Country</th>\n    </tr>\n  </thead>\n  <tbody>\n    <tr>\n      <th>0</th>\n      <td>Gonçalves</td>\n      <td>Luís</td>\n      <td>1</td>\n      <td>2009-01-01</td>\n      <td>Germany</td>\n      <td>Brazil</td>\n    </tr>\n    <tr>\n      <th>1</th>\n      <td>Gonçalves</td>\n      <td>Luís</td>\n      <td>2</td>\n      <td>2009-01-02</td>\n      <td>Norway</td>\n      <td>Brazil</td>\n    </tr>\n    <tr>\n      <th>2</th>\n      <td>Gonçalves</td>\n      <td>Luís</td>\n      <td>3</td>\n      <td>2009-01-03</td>\n      <td>Belgium</td>\n      <td>Brazil</td>\n    </tr>\n    <tr>\n      <th>3</th>\n      <td>Gonçalves</td>\n      <td>Luís</td>\n      <td>4</td>\n      <td>2009-01-06</td>\n      <td>Canada</td>\n      <td>Brazil</td>\n    </tr>\n    <tr>\n      <th>4</th>\n      <td>Gonçalves</td>\n      <td>Luís</td>\n      <td>5</td>\n      <td>2009-01-11</td>\n      <td>USA</td>\n      <td>Brazil</td>\n    </tr>\n    <tr>\n      <th>...</th>\n      <td>...</td>\n      <td>...</td>\n      <td>...</td>\n      <td>...</td>\n      <td>...</td>\n      <td>...</td>\n    </tr>\n    <tr>\n      <th>407</th>\n      <td>Gonçalves</td>\n      <td>Luís</td>\n      <td>408</td>\n      <td>2013-12-05</td>\n      <td>USA</td>\n      <td>Brazil</td>\n    </tr>\n    <tr>\n      <th>408</th>\n      <td>Gonçalves</td>\n      <td>Luís</td>\n      <td>409</td>\n      <td>2013-12-06</td>\n      <td>Canada</td>\n      <td>Brazil</td>\n    </tr>\n    <tr>\n      <th>409</th>\n      <td>Gonçalves</td>\n      <td>Luís</td>\n      <td>410</td>\n      <td>2013-12-09</td>\n      <td>Portugal</td>\n      <td>Brazil</td>\n    </tr>\n    <tr>\n      <th>410</th>\n      <td>Gonçalves</td>\n      <td>Luís</td>\n      <td>411</td>\n      <td>2013-12-14</td>\n      <td>Finland</td>\n      <td>Brazil</td>\n    </tr>\n    <tr>\n      <th>411</th>\n      <td>Gonçalves</td>\n      <td>Luís</td>\n      <td>412</td>\n      <td>2013-12-22</td>\n      <td>India</td>\n      <td>Brazil</td>\n    </tr>\n  </tbody>\n</table>\n<p>412 rows × 6 columns</p>\n</div>"
     },
     "execution_count": 162,
     "metadata": {},
     "output_type": "execute_result"
    }
   ],
   "source": [
    "#2.1. Составьте запрос, выполняющий вывод информации о счетах клиентов из Бразилии. Результат должен содержать фамилию и имя клиента, идентификатор счета, дату выставления счета, название страны плательщика (Billing Country).\n",
    "#SQL - SELECT LastName, FirstName, Invoice.InvoiceId, Customer.CustomerId, InvoiceDate, BillingCountry FROM Customer INNER JOIN Invoice ON (Customer.CustomerId = Invoice.CustomerId)  WHERE Customer.Country == \"Brazil\"\n",
    "\n",
    "sq = select(customer.c.LastName, customer.c.FirstName, invoice.c.InvoiceId, invoice.c.InvoiceDate,\n",
    "            invoice.c.BillingCountry, customer.c.Country)\n",
    "sub_query = select(invoice.c.CustomerId).scalar_subquery()\n",
    "s = sq.where(customer.c.CustomerId == sub_query, customer.c.Country == \"Brazil\")\n",
    "\n",
    "print(s)\n",
    "print(f\"Всего записей, удовлетворяющих условию: {len(pd.read_sql(s, conn))}\")\n",
    "pd.read_sql(s, conn)"
   ],
   "metadata": {
    "collapsed": false,
    "pycharm": {
     "name": "#%%\n"
    }
   }
  },
  {
   "cell_type": "code",
   "execution_count": 87,
   "outputs": [
    {
     "name": "stdout",
     "output_type": "stream",
     "text": [
      "SELECT \"Employee\".\"EmployeeId\", \"Employee\".\"LastName\", \"Employee\".\"FirstName\", \"Employee\".\"Title\", \"Employee\".\"ReportsTo\", \"Employee\".\"BirthDate\", \"Employee\".\"HireDate\", \"Employee\".\"Address\", \"Employee\".\"City\", \"Employee\".\"State\", \"Employee\".\"Country\", \"Employee\".\"PostalCode\", \"Employee\".\"Phone\", \"Employee\".\"Fax\", \"Employee\".\"Email\" \n",
      "FROM \"Employee\" \n",
      "WHERE \"Employee\".\"ReportsTo\" = (SELECT \"Employee\".\"EmployeeId\" \n",
      "FROM \"Employee\" \n",
      "WHERE \"Employee\".\"LastName\" = :LastName_1 AND \"Employee\".\"FirstName\" = :FirstName_1)\n",
      "Всего записей, удовлетворяющих условию: 3\n"
     ]
    },
    {
     "data": {
      "text/plain": "   EmployeeId LastName FirstName                Title  ReportsTo  BirthDate  \\\n0           3  Peacock      Jane  Sales Support Agent          2 1973-08-29   \n1           4     Park  Margaret  Sales Support Agent          2 1947-09-19   \n2           5  Johnson     Steve  Sales Support Agent          2 1965-03-03   \n\n    HireDate           Address     City State Country PostalCode  \\\n0 2002-04-01     1111 6 Ave SW  Calgary    AB  Canada    T2P 5M5   \n1 2003-05-03  683 10 Street SW  Calgary    AB  Canada    T2P 5G3   \n2 2003-10-17      7727B 41 Ave  Calgary    AB  Canada    T3B 1Y7   \n\n               Phone                Fax                     Email  \n0  +1 (403) 262-3443  +1 (403) 262-6712      jane@chinookcorp.com  \n1  +1 (403) 263-4423  +1 (403) 263-4289  margaret@chinookcorp.com  \n2   1 (780) 836-9987   1 (780) 836-9543     steve@chinookcorp.com  ",
      "text/html": "<div>\n<style scoped>\n    .dataframe tbody tr th:only-of-type {\n        vertical-align: middle;\n    }\n\n    .dataframe tbody tr th {\n        vertical-align: top;\n    }\n\n    .dataframe thead th {\n        text-align: right;\n    }\n</style>\n<table border=\"1\" class=\"dataframe\">\n  <thead>\n    <tr style=\"text-align: right;\">\n      <th></th>\n      <th>EmployeeId</th>\n      <th>LastName</th>\n      <th>FirstName</th>\n      <th>Title</th>\n      <th>ReportsTo</th>\n      <th>BirthDate</th>\n      <th>HireDate</th>\n      <th>Address</th>\n      <th>City</th>\n      <th>State</th>\n      <th>Country</th>\n      <th>PostalCode</th>\n      <th>Phone</th>\n      <th>Fax</th>\n      <th>Email</th>\n    </tr>\n  </thead>\n  <tbody>\n    <tr>\n      <th>0</th>\n      <td>3</td>\n      <td>Peacock</td>\n      <td>Jane</td>\n      <td>Sales Support Agent</td>\n      <td>2</td>\n      <td>1973-08-29</td>\n      <td>2002-04-01</td>\n      <td>1111 6 Ave SW</td>\n      <td>Calgary</td>\n      <td>AB</td>\n      <td>Canada</td>\n      <td>T2P 5M5</td>\n      <td>+1 (403) 262-3443</td>\n      <td>+1 (403) 262-6712</td>\n      <td>jane@chinookcorp.com</td>\n    </tr>\n    <tr>\n      <th>1</th>\n      <td>4</td>\n      <td>Park</td>\n      <td>Margaret</td>\n      <td>Sales Support Agent</td>\n      <td>2</td>\n      <td>1947-09-19</td>\n      <td>2003-05-03</td>\n      <td>683 10 Street SW</td>\n      <td>Calgary</td>\n      <td>AB</td>\n      <td>Canada</td>\n      <td>T2P 5G3</td>\n      <td>+1 (403) 263-4423</td>\n      <td>+1 (403) 263-4289</td>\n      <td>margaret@chinookcorp.com</td>\n    </tr>\n    <tr>\n      <th>2</th>\n      <td>5</td>\n      <td>Johnson</td>\n      <td>Steve</td>\n      <td>Sales Support Agent</td>\n      <td>2</td>\n      <td>1965-03-03</td>\n      <td>2003-10-17</td>\n      <td>7727B 41 Ave</td>\n      <td>Calgary</td>\n      <td>AB</td>\n      <td>Canada</td>\n      <td>T3B 1Y7</td>\n      <td>1 (780) 836-9987</td>\n      <td>1 (780) 836-9543</td>\n      <td>steve@chinookcorp.com</td>\n    </tr>\n  </tbody>\n</table>\n</div>"
     },
     "execution_count": 87,
     "metadata": {},
     "output_type": "execute_result"
    }
   ],
   "source": [
    "# 2.2. Покажите сотрудников, подчиняющихся сотруднику Nancy Edwards.\n",
    "# SQL - SELECT * FROM Employee WHERE ReportsTo = (SELECT EmployeeId FROM Employee WHERE LastName = \"Edwards\" AND FirstName = \"Nancy\")\n",
    "sq = select(employee)\n",
    "sub_query = select(employee.c.EmployeeId).where(employee.c.LastName == \"Edwards\",\n",
    "                                                employee.c.FirstName == \"Nancy\").scalar_subquery()\n",
    "s = sq.where(employee.c.ReportsTo == sub_query)\n",
    "\n",
    "print(s)\n",
    "print(f\"Всего записей, удовлетворяющих условию: {len(pd.read_sql(s, conn))}\")\n",
    "pd.read_sql(s, conn)"
   ],
   "metadata": {
    "collapsed": false,
    "pycharm": {
     "name": "#%%\n"
    }
   }
  },
  {
   "cell_type": "code",
   "execution_count": 86,
   "outputs": [
    {
     "name": "stdout",
     "output_type": "stream",
     "text": [
      "SELECT \"Track\".\"TrackId\", \"Track\".\"Name\", \"Track\".\"AlbumId\", \"Track\".\"MediaTypeId\", \"Track\".\"GenreId\", \"Track\".\"Composer\", \"Track\".\"Milliseconds\", \"Track\".\"Bytes\", \"Track\".\"UnitPrice\" \n",
      "FROM \"Track\" \n",
      "WHERE \"Track\".\"GenreId\" = (SELECT \"Genre\".\"GenreId\" \n",
      "FROM \"Genre\" \n",
      "WHERE \"Genre\".\"Name\" = :Name_1) AND \"Track\".\"Milliseconds\" > :Milliseconds_1\n",
      "Всего записей, удовлетворяющих условию: 11\n"
     ]
    },
    {
     "data": {
      "text/plain": "    TrackId                                               Name  AlbumId  \\\n0      3404                                 Miserere mei, Deus      273   \n1      3410  The Messiah: Behold, I Tell You a Mystery... T...      279   \n2      3423                    Jupiter, the Bringer of Jollity      292   \n3      3425  Adagio for Strings from the String Quartet, Op...      294   \n4      3432  Scheherazade, Op. 35: I. The Sea and Sindbad's...      299   \n5      3434  Concerto for Piano No. 2 in F Minor, Op. 21: I...      301   \n6      3440  Concerto for Cello and Orchestra in E minor, O...      306   \n7      3445                       On the Beautiful Blue Danube      311   \n8      3446  Symphonie Fantastique, Op. 14: V. Songe d'une ...      312   \n9      3485  Symphony No. 3 Op. 36 for Orchestra and Sopran...      330   \n10     3498  Concerto for Violin, Strings and Continuo in G...      342   \n\n    MediaTypeId  GenreId                  Composer  Milliseconds     Bytes  \\\n0             2       24          Gregorio Allegri        501503   8285941   \n1             2       24    George Frideric Handel        582029   9553140   \n2             2       24              Gustav Holst        522099   8547876   \n3             2       24             Samuel Barber        596519   9585597   \n4             2       24   Nikolai Rimsky-Korsakov        545203   8916313   \n5             2       24           Frédéric Chopin        560342   9160082   \n6             2       24              Edward Elgar        483133   7865479   \n7             2       24         Johann Strauss II        526696   8610225   \n8             2       24            Hector Berlioz        561967   9173344   \n9             2       24            Henryk Górecki        567494   9273123   \n10            4       24  Pietro Antonio Locatelli        493573  16454937   \n\n    UnitPrice  \n0        0.99  \n1        0.99  \n2        0.99  \n3        0.99  \n4        0.99  \n5        0.99  \n6        0.99  \n7        0.99  \n8        0.99  \n9        0.99  \n10       0.99  ",
      "text/html": "<div>\n<style scoped>\n    .dataframe tbody tr th:only-of-type {\n        vertical-align: middle;\n    }\n\n    .dataframe tbody tr th {\n        vertical-align: top;\n    }\n\n    .dataframe thead th {\n        text-align: right;\n    }\n</style>\n<table border=\"1\" class=\"dataframe\">\n  <thead>\n    <tr style=\"text-align: right;\">\n      <th></th>\n      <th>TrackId</th>\n      <th>Name</th>\n      <th>AlbumId</th>\n      <th>MediaTypeId</th>\n      <th>GenreId</th>\n      <th>Composer</th>\n      <th>Milliseconds</th>\n      <th>Bytes</th>\n      <th>UnitPrice</th>\n    </tr>\n  </thead>\n  <tbody>\n    <tr>\n      <th>0</th>\n      <td>3404</td>\n      <td>Miserere mei, Deus</td>\n      <td>273</td>\n      <td>2</td>\n      <td>24</td>\n      <td>Gregorio Allegri</td>\n      <td>501503</td>\n      <td>8285941</td>\n      <td>0.99</td>\n    </tr>\n    <tr>\n      <th>1</th>\n      <td>3410</td>\n      <td>The Messiah: Behold, I Tell You a Mystery... T...</td>\n      <td>279</td>\n      <td>2</td>\n      <td>24</td>\n      <td>George Frideric Handel</td>\n      <td>582029</td>\n      <td>9553140</td>\n      <td>0.99</td>\n    </tr>\n    <tr>\n      <th>2</th>\n      <td>3423</td>\n      <td>Jupiter, the Bringer of Jollity</td>\n      <td>292</td>\n      <td>2</td>\n      <td>24</td>\n      <td>Gustav Holst</td>\n      <td>522099</td>\n      <td>8547876</td>\n      <td>0.99</td>\n    </tr>\n    <tr>\n      <th>3</th>\n      <td>3425</td>\n      <td>Adagio for Strings from the String Quartet, Op...</td>\n      <td>294</td>\n      <td>2</td>\n      <td>24</td>\n      <td>Samuel Barber</td>\n      <td>596519</td>\n      <td>9585597</td>\n      <td>0.99</td>\n    </tr>\n    <tr>\n      <th>4</th>\n      <td>3432</td>\n      <td>Scheherazade, Op. 35: I. The Sea and Sindbad's...</td>\n      <td>299</td>\n      <td>2</td>\n      <td>24</td>\n      <td>Nikolai Rimsky-Korsakov</td>\n      <td>545203</td>\n      <td>8916313</td>\n      <td>0.99</td>\n    </tr>\n    <tr>\n      <th>5</th>\n      <td>3434</td>\n      <td>Concerto for Piano No. 2 in F Minor, Op. 21: I...</td>\n      <td>301</td>\n      <td>2</td>\n      <td>24</td>\n      <td>Frédéric Chopin</td>\n      <td>560342</td>\n      <td>9160082</td>\n      <td>0.99</td>\n    </tr>\n    <tr>\n      <th>6</th>\n      <td>3440</td>\n      <td>Concerto for Cello and Orchestra in E minor, O...</td>\n      <td>306</td>\n      <td>2</td>\n      <td>24</td>\n      <td>Edward Elgar</td>\n      <td>483133</td>\n      <td>7865479</td>\n      <td>0.99</td>\n    </tr>\n    <tr>\n      <th>7</th>\n      <td>3445</td>\n      <td>On the Beautiful Blue Danube</td>\n      <td>311</td>\n      <td>2</td>\n      <td>24</td>\n      <td>Johann Strauss II</td>\n      <td>526696</td>\n      <td>8610225</td>\n      <td>0.99</td>\n    </tr>\n    <tr>\n      <th>8</th>\n      <td>3446</td>\n      <td>Symphonie Fantastique, Op. 14: V. Songe d'une ...</td>\n      <td>312</td>\n      <td>2</td>\n      <td>24</td>\n      <td>Hector Berlioz</td>\n      <td>561967</td>\n      <td>9173344</td>\n      <td>0.99</td>\n    </tr>\n    <tr>\n      <th>9</th>\n      <td>3485</td>\n      <td>Symphony No. 3 Op. 36 for Orchestra and Sopran...</td>\n      <td>330</td>\n      <td>2</td>\n      <td>24</td>\n      <td>Henryk Górecki</td>\n      <td>567494</td>\n      <td>9273123</td>\n      <td>0.99</td>\n    </tr>\n    <tr>\n      <th>10</th>\n      <td>3498</td>\n      <td>Concerto for Violin, Strings and Continuo in G...</td>\n      <td>342</td>\n      <td>4</td>\n      <td>24</td>\n      <td>Pietro Antonio Locatelli</td>\n      <td>493573</td>\n      <td>16454937</td>\n      <td>0.99</td>\n    </tr>\n  </tbody>\n</table>\n</div>"
     },
     "execution_count": 86,
     "metadata": {},
     "output_type": "execute_result"
    }
   ],
   "source": [
    "# 2.3. Покажите трэки в жанре Classical, длящиеся более 8 минут.\n",
    "# SQL - SELECT * FROM Track WHERE Milliseconds > (1000 * 60 * 8) AND GenreId = (SELECT GenreId FROM Genre WHERE Name = \"Classical\")\n",
    "sq = select(track)\n",
    "sub_query = select(genre.c.GenreId).where(genre.c.Name == \"Classical\").scalar_subquery()\n",
    "s = sq.where(track.c.GenreId == sub_query, track.c.Milliseconds > (1000 * 60 * 8))\n",
    "\n",
    "print(s)\n",
    "print(f\"Всего записей, удовлетворяющих условию: {len(pd.read_sql(s, conn))}\")\n",
    "pd.read_sql(s, conn)"
   ],
   "metadata": {
    "collapsed": false,
    "pycharm": {
     "name": "#%%\n"
    }
   }
  },
  {
   "cell_type": "code",
   "execution_count": 1,
   "outputs": [
    {
     "ename": "NameError",
     "evalue": "name 'select' is not defined",
     "output_type": "error",
     "traceback": [
      "\u001B[0;31m---------------------------------------------------------------------------\u001B[0m",
      "\u001B[0;31mNameError\u001B[0m                                 Traceback (most recent call last)",
      "Input \u001B[0;32mIn [1]\u001B[0m, in \u001B[0;36m<cell line: 4>\u001B[0;34m()\u001B[0m\n\u001B[1;32m      1\u001B[0m \u001B[38;5;66;03m# 2.4. Покажите альбомы, в составе которых более 25 трэков.\u001B[39;00m\n\u001B[1;32m      2\u001B[0m \u001B[38;5;66;03m# SQL - SELECT Title, COUNT(Track.AlbumId) FROM Album LEFT JOIN Track on Album.AlbumId = Track.AlbumId GROUP BY Album.AlbumId HAVING COUNT(Track.AlbumId) > 25\u001B[39;00m\n\u001B[0;32m----> 4\u001B[0m s \u001B[38;5;241m=\u001B[39m \u001B[43mselect\u001B[49m(album\u001B[38;5;241m.\u001B[39mc\u001B[38;5;241m.\u001B[39mTitle, func\u001B[38;5;241m.\u001B[39mcount(track\u001B[38;5;241m.\u001B[39mc\u001B[38;5;241m.\u001B[39mAlbumId)\u001B[38;5;241m.\u001B[39mlabel(\u001B[38;5;124m\"\u001B[39m\u001B[38;5;124mКол-во треков в альбоме\u001B[39m\u001B[38;5;124m\"\u001B[39m))\u001B[38;5;241m.\u001B[39mjoin(album, album\u001B[38;5;241m.\u001B[39mc\u001B[38;5;241m.\u001B[39mAlbumId \u001B[38;5;241m==\u001B[39m track\u001B[38;5;241m.\u001B[39mc\u001B[38;5;241m.\u001B[39mAlbumId, isouter\u001B[38;5;241m=\u001B[39m\u001B[38;5;28;01mTrue\u001B[39;00m)\u001B[38;5;241m.\u001B[39mhaving(func\u001B[38;5;241m.\u001B[39mcount(track\u001B[38;5;241m.\u001B[39mc\u001B[38;5;241m.\u001B[39mAlbumId) \u001B[38;5;241m>\u001B[39m \u001B[38;5;241m25\u001B[39m)\n\u001B[1;32m      5\u001B[0m s \u001B[38;5;241m=\u001B[39m s\u001B[38;5;241m.\u001B[39mgroup_by(album\u001B[38;5;241m.\u001B[39mc\u001B[38;5;241m.\u001B[39mAlbumId)\n\u001B[1;32m      7\u001B[0m \u001B[38;5;28mprint\u001B[39m(s)\n",
      "\u001B[0;31mNameError\u001B[0m: name 'select' is not defined"
     ]
    }
   ],
   "source": [
    "# 2.4. Покажите альбомы, в составе которых более 25 трэков.\n",
    "# SQL - SELECT Title, COUNT(Track.AlbumId) FROM Album LEFT JOIN Track on Album.AlbumId = Track.AlbumId GROUP BY Album.AlbumId HAVING COUNT(Track.AlbumId) > 25\n",
    "\n",
    "s = select(album.c.Title, func.count(track.c.AlbumId).label(\"Кол-во треков в альбоме\")).join(album, album.c.AlbumId == track.c.AlbumId, isouter=True).having(func.count(track.c.AlbumId) > 25)\n",
    "s = s.group_by(album.c.AlbumId)\n",
    "\n",
    "print(s)\n",
    "print(f\"Всего записей, удовлетворяющих условию: {len(pd.read_sql(s, conn))}\")\n",
    "pd.read_sql(sub_query, conn)\n"
   ],
   "metadata": {
    "collapsed": false,
    "pycharm": {
     "name": "#%%\n"
    }
   }
  },
  {
   "cell_type": "code",
   "execution_count": 132,
   "outputs": [
    {
     "name": "stdout",
     "output_type": "stream",
     "text": [
      "SELECT \"Genre\".\"GenreId\", \"Genre\".\"Name\" \n",
      "FROM \"Genre\" \n",
      "WHERE \"Genre\".\"GenreId\" IN (SELECT \"Track\".\"GenreId\" \n",
      "FROM \"Track\" \n",
      "WHERE \"Track\".\"Milliseconds\" > :Milliseconds_1)\n",
      "Всего записей, удовлетворяющих условию: 6\n"
     ]
    },
    {
     "data": {
      "text/plain": "   GenreId              Name\n0        1              Rock\n1       18   Science Fiction\n2       19          TV Shows\n3       20  Sci Fi & Fantasy\n4       21             Drama\n5       22            Comedy",
      "text/html": "<div>\n<style scoped>\n    .dataframe tbody tr th:only-of-type {\n        vertical-align: middle;\n    }\n\n    .dataframe tbody tr th {\n        vertical-align: top;\n    }\n\n    .dataframe thead th {\n        text-align: right;\n    }\n</style>\n<table border=\"1\" class=\"dataframe\">\n  <thead>\n    <tr style=\"text-align: right;\">\n      <th></th>\n      <th>GenreId</th>\n      <th>Name</th>\n    </tr>\n  </thead>\n  <tbody>\n    <tr>\n      <th>0</th>\n      <td>1</td>\n      <td>Rock</td>\n    </tr>\n    <tr>\n      <th>1</th>\n      <td>18</td>\n      <td>Science Fiction</td>\n    </tr>\n    <tr>\n      <th>2</th>\n      <td>19</td>\n      <td>TV Shows</td>\n    </tr>\n    <tr>\n      <th>3</th>\n      <td>20</td>\n      <td>Sci Fi &amp; Fantasy</td>\n    </tr>\n    <tr>\n      <th>4</th>\n      <td>21</td>\n      <td>Drama</td>\n    </tr>\n    <tr>\n      <th>5</th>\n      <td>22</td>\n      <td>Comedy</td>\n    </tr>\n  </tbody>\n</table>\n</div>"
     },
     "execution_count": 132,
     "metadata": {},
     "output_type": "execute_result"
    }
   ],
   "source": [
    "#2.5. Покажите жанры, в составе которых имеются трэки, длящиеся более 18 минут.\n",
    "# SQL - SELECT * FROM Genre WHERE Genre.GenreId IN (SELECT Track.GenreId FROM Track WHERE Track.Milliseconds > 1000 * 60 * 18)\n",
    "\n",
    "sq = select(genre)\n",
    "sub_query = select(track.c.GenreId).where(track.c.Milliseconds > (1000 * 60 * 18))\n",
    "s = sq.where(genre.c.GenreId.in_(sub_query))\n",
    "\n",
    "print(s)\n",
    "print(f\"Всего записей, удовлетворяющих условию: {len(pd.read_sql(s, conn))}\")\n",
    "pd.read_sql(s, conn)"
   ],
   "metadata": {
    "collapsed": false,
    "pycharm": {
     "name": "#%%\n"
    }
   }
  },
  {
   "cell_type": "code",
   "execution_count": 163,
   "outputs": [
    {
     "name": "stdout",
     "output_type": "stream",
     "text": [
      "SELECT \"Artist\".\"ArtistId\", \"Artist\".\"Name\" \n",
      "FROM \"Artist\" \n",
      "WHERE \"Artist\".\"Name\" = (SELECT \"Track\".\"Composer\" \n",
      "FROM \"Track\", \"Genre\" \n",
      "WHERE \"Track\".\"Composer\" = \"Artist\".\"Name\" AND \"Genre\".\"Name\" = :Name_1)\n",
      "Всего записей, удовлетворяющих условию: 47\n"
     ]
    },
    {
     "data": {
      "text/plain": "    ArtistId                   Name\n0          1                  AC/DC\n1          7           Apocalyptica\n2         10           Billy Cobham\n3         12          Black Sabbath\n4         14        Bruce Dickinson\n5         15              Buddy Guy\n6         16         Caetano Veloso\n7         17          Chico Buarque\n8         19           Cidade Negra\n9         24           Marcos Valle\n10        27           Gilberto Gil\n11        34             Nando Reis\n12        42      Milton Nascimento\n13        46              Jorge Ben\n14        50              Metallica\n15        51                  Queen\n16        54              Green Day\n17        55        David Coverdale\n18        56            Gonzaguinha\n19        59                Santana\n20        68            Miles Davis\n21        80                 Djavan\n22        81           Eric Clapton\n23        82          Faith No More\n24        84           Foo Fighters\n25        91            James Brown\n26        94           Jimi Hendrix\n27        97           João Suplicy\n28       100          Lenny Kravitz\n29       101            Lulu Santos\n30       104            Marvin Gaye\n31       108        Mônica Marianno\n32       110                Nirvana\n33       118              Pearl Jam\n34       124                 R.E.M.\n35       127  Red Hot Chili Peppers\n36       132            Soundgarden\n37       138              The Clash\n38       143          The Tea Party\n39       145               Tim Maia\n40       146                  Titãs\n41       150                     U2\n42       152              Van Halen\n43       199             Karsh Kale\n44       202         Aaron Goldberg\n45       205          Chris Cornell\n46       240          Gustav Mahler",
      "text/html": "<div>\n<style scoped>\n    .dataframe tbody tr th:only-of-type {\n        vertical-align: middle;\n    }\n\n    .dataframe tbody tr th {\n        vertical-align: top;\n    }\n\n    .dataframe thead th {\n        text-align: right;\n    }\n</style>\n<table border=\"1\" class=\"dataframe\">\n  <thead>\n    <tr style=\"text-align: right;\">\n      <th></th>\n      <th>ArtistId</th>\n      <th>Name</th>\n    </tr>\n  </thead>\n  <tbody>\n    <tr>\n      <th>0</th>\n      <td>1</td>\n      <td>AC/DC</td>\n    </tr>\n    <tr>\n      <th>1</th>\n      <td>7</td>\n      <td>Apocalyptica</td>\n    </tr>\n    <tr>\n      <th>2</th>\n      <td>10</td>\n      <td>Billy Cobham</td>\n    </tr>\n    <tr>\n      <th>3</th>\n      <td>12</td>\n      <td>Black Sabbath</td>\n    </tr>\n    <tr>\n      <th>4</th>\n      <td>14</td>\n      <td>Bruce Dickinson</td>\n    </tr>\n    <tr>\n      <th>5</th>\n      <td>15</td>\n      <td>Buddy Guy</td>\n    </tr>\n    <tr>\n      <th>6</th>\n      <td>16</td>\n      <td>Caetano Veloso</td>\n    </tr>\n    <tr>\n      <th>7</th>\n      <td>17</td>\n      <td>Chico Buarque</td>\n    </tr>\n    <tr>\n      <th>8</th>\n      <td>19</td>\n      <td>Cidade Negra</td>\n    </tr>\n    <tr>\n      <th>9</th>\n      <td>24</td>\n      <td>Marcos Valle</td>\n    </tr>\n    <tr>\n      <th>10</th>\n      <td>27</td>\n      <td>Gilberto Gil</td>\n    </tr>\n    <tr>\n      <th>11</th>\n      <td>34</td>\n      <td>Nando Reis</td>\n    </tr>\n    <tr>\n      <th>12</th>\n      <td>42</td>\n      <td>Milton Nascimento</td>\n    </tr>\n    <tr>\n      <th>13</th>\n      <td>46</td>\n      <td>Jorge Ben</td>\n    </tr>\n    <tr>\n      <th>14</th>\n      <td>50</td>\n      <td>Metallica</td>\n    </tr>\n    <tr>\n      <th>15</th>\n      <td>51</td>\n      <td>Queen</td>\n    </tr>\n    <tr>\n      <th>16</th>\n      <td>54</td>\n      <td>Green Day</td>\n    </tr>\n    <tr>\n      <th>17</th>\n      <td>55</td>\n      <td>David Coverdale</td>\n    </tr>\n    <tr>\n      <th>18</th>\n      <td>56</td>\n      <td>Gonzaguinha</td>\n    </tr>\n    <tr>\n      <th>19</th>\n      <td>59</td>\n      <td>Santana</td>\n    </tr>\n    <tr>\n      <th>20</th>\n      <td>68</td>\n      <td>Miles Davis</td>\n    </tr>\n    <tr>\n      <th>21</th>\n      <td>80</td>\n      <td>Djavan</td>\n    </tr>\n    <tr>\n      <th>22</th>\n      <td>81</td>\n      <td>Eric Clapton</td>\n    </tr>\n    <tr>\n      <th>23</th>\n      <td>82</td>\n      <td>Faith No More</td>\n    </tr>\n    <tr>\n      <th>24</th>\n      <td>84</td>\n      <td>Foo Fighters</td>\n    </tr>\n    <tr>\n      <th>25</th>\n      <td>91</td>\n      <td>James Brown</td>\n    </tr>\n    <tr>\n      <th>26</th>\n      <td>94</td>\n      <td>Jimi Hendrix</td>\n    </tr>\n    <tr>\n      <th>27</th>\n      <td>97</td>\n      <td>João Suplicy</td>\n    </tr>\n    <tr>\n      <th>28</th>\n      <td>100</td>\n      <td>Lenny Kravitz</td>\n    </tr>\n    <tr>\n      <th>29</th>\n      <td>101</td>\n      <td>Lulu Santos</td>\n    </tr>\n    <tr>\n      <th>30</th>\n      <td>104</td>\n      <td>Marvin Gaye</td>\n    </tr>\n    <tr>\n      <th>31</th>\n      <td>108</td>\n      <td>Mônica Marianno</td>\n    </tr>\n    <tr>\n      <th>32</th>\n      <td>110</td>\n      <td>Nirvana</td>\n    </tr>\n    <tr>\n      <th>33</th>\n      <td>118</td>\n      <td>Pearl Jam</td>\n    </tr>\n    <tr>\n      <th>34</th>\n      <td>124</td>\n      <td>R.E.M.</td>\n    </tr>\n    <tr>\n      <th>35</th>\n      <td>127</td>\n      <td>Red Hot Chili Peppers</td>\n    </tr>\n    <tr>\n      <th>36</th>\n      <td>132</td>\n      <td>Soundgarden</td>\n    </tr>\n    <tr>\n      <th>37</th>\n      <td>138</td>\n      <td>The Clash</td>\n    </tr>\n    <tr>\n      <th>38</th>\n      <td>143</td>\n      <td>The Tea Party</td>\n    </tr>\n    <tr>\n      <th>39</th>\n      <td>145</td>\n      <td>Tim Maia</td>\n    </tr>\n    <tr>\n      <th>40</th>\n      <td>146</td>\n      <td>Titãs</td>\n    </tr>\n    <tr>\n      <th>41</th>\n      <td>150</td>\n      <td>U2</td>\n    </tr>\n    <tr>\n      <th>42</th>\n      <td>152</td>\n      <td>Van Halen</td>\n    </tr>\n    <tr>\n      <th>43</th>\n      <td>199</td>\n      <td>Karsh Kale</td>\n    </tr>\n    <tr>\n      <th>44</th>\n      <td>202</td>\n      <td>Aaron Goldberg</td>\n    </tr>\n    <tr>\n      <th>45</th>\n      <td>205</td>\n      <td>Chris Cornell</td>\n    </tr>\n    <tr>\n      <th>46</th>\n      <td>240</td>\n      <td>Gustav Mahler</td>\n    </tr>\n  </tbody>\n</table>\n</div>"
     },
     "execution_count": 163,
     "metadata": {},
     "output_type": "execute_result"
    }
   ],
   "source": [
    "#2.6. Покажите артистов в жанре Classical.\n",
    "# SQL - SELECT * FROM Artist WHERE Artist.Name = (SELECT Track.Composer FROM Track WHERE Track.Composer = Artist.Name AND Track.GenreId = (SELECT Genre.GenreId FROM Genre WHERE Genre.Name = \"Classical\"))\n",
    "\n",
    "sq = select(artist)\n",
    "sub_query = select(track.c.Composer).where(track.c.Composer == artist.c.Name).where(genre.c.Name == \"Classical\").scalar_subquery()\n",
    "s = sq.where(artist.c.Name == sub_query)\n",
    "\n",
    "print(s)\n",
    "print(f\"Всего записей, удовлетворяющих условию: {len(pd.read_sql(s, conn))}\")\n",
    "pd.read_sql(s, conn)"
   ],
   "metadata": {
    "collapsed": false,
    "pycharm": {
     "name": "#%%\n"
    }
   }
  },
  {
   "cell_type": "code",
   "source": [
    "# 2.7. Найдите артистов, записавших альбомы, в которых более 20 произведений.\n",
    "# SQL - SELECT Artist.Name, COUNT(Track.AlbumId) FROM Artist INNER JOIN Album on Artist.ArtistId = Album.ArtistId LEFT JOIN Track on Album.AlbumId = Track.AlbumId GROUP BY Album.AlbumId HAVING COUNT(Track.AlbumId) > 20\n",
    "\n",
    "s = select(artist.c.Name, func.count(track.c.AlbumId).label(\"Кол-во треков в альбоме\")).where(artist.c.ArtistId == album.c.ArtistId).join(album, album.c.AlbumId == track.c.AlbumId, isouter=True).having(func.count(track.c.AlbumId) > 20)\n",
    "s = s.group_by(album.c.AlbumId)\n",
    "\n",
    "print(s)\n",
    "print(f\"Всего записей, удовлетворяющих условию: {len(pd.read_sql(s, conn))}\")\n",
    "pd.read_sql(s, conn)"
   ],
   "metadata": {
    "collapsed": false,
    "pycharm": {
     "name": "#%%\n"
    }
   },
   "execution_count": 154,
   "outputs": [
    {
     "name": "stdout",
     "output_type": "stream",
     "text": [
      "SELECT \"Artist\".\"Name\", count(\"Track\".\"AlbumId\") AS \"Кол-во треков в альбоме\" \n",
      "FROM \"Artist\", \"Track\" LEFT OUTER JOIN \"Album\" ON \"Album\".\"AlbumId\" = \"Track\".\"AlbumId\" \n",
      "WHERE \"Artist\".\"ArtistId\" = \"Album\".\"ArtistId\" GROUP BY \"Album\".\"AlbumId\" \n",
      "HAVING count(\"Track\".\"AlbumId\") > :count_1\n",
      "Всего записей, удовлетворяющих условию: 17\n"
     ]
    },
    {
     "data": {
      "text/plain": "                              Name  Кол-во треков в альбоме\n0                    Chico Buarque                       34\n1      Chico Science & Nação Zumbi                       23\n2                        Green Day                       21\n3                       Gene Krupa                       22\n4                     Eric Clapton                       30\n5                    Frank Sinatra                       24\n6                    Lenny Kravitz                       57\n7          Os Paralamas Do Sucesso                       21\n8                            Titãs                       22\n9                           Heroes                       23\n10                            Lost                       26\n11                            Lost                       25\n12                            Lost                       24\n13                      The Office                       22\n14                      The Office                       25\n15  Battlestar Galactica (Classic)                       24\n16                              U2                       23",
      "text/html": "<div>\n<style scoped>\n    .dataframe tbody tr th:only-of-type {\n        vertical-align: middle;\n    }\n\n    .dataframe tbody tr th {\n        vertical-align: top;\n    }\n\n    .dataframe thead th {\n        text-align: right;\n    }\n</style>\n<table border=\"1\" class=\"dataframe\">\n  <thead>\n    <tr style=\"text-align: right;\">\n      <th></th>\n      <th>Name</th>\n      <th>Кол-во треков в альбоме</th>\n    </tr>\n  </thead>\n  <tbody>\n    <tr>\n      <th>0</th>\n      <td>Chico Buarque</td>\n      <td>34</td>\n    </tr>\n    <tr>\n      <th>1</th>\n      <td>Chico Science &amp; Nação Zumbi</td>\n      <td>23</td>\n    </tr>\n    <tr>\n      <th>2</th>\n      <td>Green Day</td>\n      <td>21</td>\n    </tr>\n    <tr>\n      <th>3</th>\n      <td>Gene Krupa</td>\n      <td>22</td>\n    </tr>\n    <tr>\n      <th>4</th>\n      <td>Eric Clapton</td>\n      <td>30</td>\n    </tr>\n    <tr>\n      <th>5</th>\n      <td>Frank Sinatra</td>\n      <td>24</td>\n    </tr>\n    <tr>\n      <th>6</th>\n      <td>Lenny Kravitz</td>\n      <td>57</td>\n    </tr>\n    <tr>\n      <th>7</th>\n      <td>Os Paralamas Do Sucesso</td>\n      <td>21</td>\n    </tr>\n    <tr>\n      <th>8</th>\n      <td>Titãs</td>\n      <td>22</td>\n    </tr>\n    <tr>\n      <th>9</th>\n      <td>Heroes</td>\n      <td>23</td>\n    </tr>\n    <tr>\n      <th>10</th>\n      <td>Lost</td>\n      <td>26</td>\n    </tr>\n    <tr>\n      <th>11</th>\n      <td>Lost</td>\n      <td>25</td>\n    </tr>\n    <tr>\n      <th>12</th>\n      <td>Lost</td>\n      <td>24</td>\n    </tr>\n    <tr>\n      <th>13</th>\n      <td>The Office</td>\n      <td>22</td>\n    </tr>\n    <tr>\n      <th>14</th>\n      <td>The Office</td>\n      <td>25</td>\n    </tr>\n    <tr>\n      <th>15</th>\n      <td>Battlestar Galactica (Classic)</td>\n      <td>24</td>\n    </tr>\n    <tr>\n      <th>16</th>\n      <td>U2</td>\n      <td>23</td>\n    </tr>\n  </tbody>\n</table>\n</div>"
     },
     "execution_count": 154,
     "metadata": {},
     "output_type": "execute_result"
    }
   ]
  },
  {
   "cell_type": "code",
   "execution_count": null,
   "outputs": [],
   "source": [],
   "metadata": {
    "collapsed": false,
    "pycharm": {
     "name": "#%%\n"
    }
   }
  }
 ],
 "metadata": {
  "kernelspec": {
   "display_name": "Python 3",
   "language": "python",
   "name": "python3"
  },
  "language_info": {
   "codemirror_mode": {
    "name": "ipython",
    "version": 3
   },
   "file_extension": ".py",
   "mimetype": "text/x-python",
   "name": "python",
   "nbconvert_exporter": "python",
   "pygments_lexer": "ipython3",
   "version": "3.7.6"
  }
 },
 "nbformat": 4,
 "nbformat_minor": 5
}