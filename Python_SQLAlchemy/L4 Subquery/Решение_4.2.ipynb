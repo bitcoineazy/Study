{
 "cells": [
  {
   "cell_type": "code",
   "execution_count": 1,
   "metadata": {
    "collapsed": true,
    "pycharm": {
     "name": "#%%\n"
    }
   },
   "outputs": [],
   "source": [
    "import pandas as pd\n",
    "from sqlalchemy import MetaData, Table, create_engine, select, and_, or_, not_, exists\n",
    "from sqlalchemy.sql import func\n",
    "\n",
    "engine = create_engine('sqlite:///../Data/Students.db')\n",
    "metadata_obj = MetaData() # Объект-контейнер, содержит информацию о схеме данных\n",
    "metadata_obj.reflect(bind=engine) # Отображение БД\n",
    "# Вызов метода reflect() приводит к включению в объект metadata_obj словаря всех таблиц БД.\n",
    "conn=engine.connect() # Соединение\n",
    "\n",
    "exam_marks=Table(\"exam_marks\", metadata_obj, autoload=True, autoload_with=\"engine\")\n",
    "lecturer=Table(\"lecturer\", metadata_obj, autoload=True, autoload_with=\"engine\")\n",
    "student=Table(\"student\", metadata_obj, autoload=True, autoload_with=\"engine\")\n",
    "subj_lect=Table(\"subj_lect\", metadata_obj, autoload=True, autoload_with=\"engine\")\n",
    "subject=Table(\"subject\", metadata_obj, autoload=True, autoload_with=\"engine\")\n",
    "university=Table(\"university\", metadata_obj, autolad=True, autolad_with=\"engine\")"
   ]
  },
  {
   "cell_type": "code",
   "execution_count": 2,
   "outputs": [
    {
     "name": "stdout",
     "output_type": "stream",
     "text": [
      "SELECT student.student_id, student.surname, student.name, student.stipend, student.kurs, student.city, student.birthday, student.univ_id \n",
      "FROM student \n",
      "WHERE EXISTS (SELECT university.univ_id, university.univ_name, university.rating, university.city \n",
      "FROM university \n",
      "WHERE university.rating > :rating_1 AND student.univ_id = university.univ_id)\n"
     ]
    },
    {
     "data": {
      "text/plain": "    student_id    surname      name  stipend  kurs           city   birthday  \\\n0            6    Сидоров     Вадим      150     4         Москва 1999-06-07   \n1           15  Ордуханян   Рафаэль      120     1         Липецк 2003-06-01   \n2           32      Котов     Павел      150     5       Белгород 2001-02-28   \n3           57  Кудряшова      Вера      100     5  Нижневартовск 2002-02-18   \n4           58  Журавлева      Вера        0     4    Новосибирск 2003-06-14   \n..         ...        ...       ...      ...   ...            ...        ...   \n58         204     Петров     Вадим      250     2         Брянск 2002-05-21   \n59         205    Иванова     Мария      200     1         Липецк 2002-04-11   \n60         206    Киселев  Владимир      210     2           Орел 2003-02-10   \n61         207   Миронова     Федор      200     3         Москва 2002-04-15   \n62         276     Петров     Антон      200     4      Ульяновск 2001-08-05   \n\n    univ_id  \n0        22  \n1        18  \n2        14  \n3        14  \n4        11  \n..      ...  \n58       44  \n59       32  \n60       44  \n61       45  \n62       22  \n\n[63 rows x 8 columns]",
      "text/html": "<div>\n<style scoped>\n    .dataframe tbody tr th:only-of-type {\n        vertical-align: middle;\n    }\n\n    .dataframe tbody tr th {\n        vertical-align: top;\n    }\n\n    .dataframe thead th {\n        text-align: right;\n    }\n</style>\n<table border=\"1\" class=\"dataframe\">\n  <thead>\n    <tr style=\"text-align: right;\">\n      <th></th>\n      <th>student_id</th>\n      <th>surname</th>\n      <th>name</th>\n      <th>stipend</th>\n      <th>kurs</th>\n      <th>city</th>\n      <th>birthday</th>\n      <th>univ_id</th>\n    </tr>\n  </thead>\n  <tbody>\n    <tr>\n      <th>0</th>\n      <td>6</td>\n      <td>Сидоров</td>\n      <td>Вадим</td>\n      <td>150</td>\n      <td>4</td>\n      <td>Москва</td>\n      <td>1999-06-07</td>\n      <td>22</td>\n    </tr>\n    <tr>\n      <th>1</th>\n      <td>15</td>\n      <td>Ордуханян</td>\n      <td>Рафаэль</td>\n      <td>120</td>\n      <td>1</td>\n      <td>Липецк</td>\n      <td>2003-06-01</td>\n      <td>18</td>\n    </tr>\n    <tr>\n      <th>2</th>\n      <td>32</td>\n      <td>Котов</td>\n      <td>Павел</td>\n      <td>150</td>\n      <td>5</td>\n      <td>Белгород</td>\n      <td>2001-02-28</td>\n      <td>14</td>\n    </tr>\n    <tr>\n      <th>3</th>\n      <td>57</td>\n      <td>Кудряшова</td>\n      <td>Вера</td>\n      <td>100</td>\n      <td>5</td>\n      <td>Нижневартовск</td>\n      <td>2002-02-18</td>\n      <td>14</td>\n    </tr>\n    <tr>\n      <th>4</th>\n      <td>58</td>\n      <td>Журавлева</td>\n      <td>Вера</td>\n      <td>0</td>\n      <td>4</td>\n      <td>Новосибирск</td>\n      <td>2003-06-14</td>\n      <td>11</td>\n    </tr>\n    <tr>\n      <th>...</th>\n      <td>...</td>\n      <td>...</td>\n      <td>...</td>\n      <td>...</td>\n      <td>...</td>\n      <td>...</td>\n      <td>...</td>\n      <td>...</td>\n    </tr>\n    <tr>\n      <th>58</th>\n      <td>204</td>\n      <td>Петров</td>\n      <td>Вадим</td>\n      <td>250</td>\n      <td>2</td>\n      <td>Брянск</td>\n      <td>2002-05-21</td>\n      <td>44</td>\n    </tr>\n    <tr>\n      <th>59</th>\n      <td>205</td>\n      <td>Иванова</td>\n      <td>Мария</td>\n      <td>200</td>\n      <td>1</td>\n      <td>Липецк</td>\n      <td>2002-04-11</td>\n      <td>32</td>\n    </tr>\n    <tr>\n      <th>60</th>\n      <td>206</td>\n      <td>Киселев</td>\n      <td>Владимир</td>\n      <td>210</td>\n      <td>2</td>\n      <td>Орел</td>\n      <td>2003-02-10</td>\n      <td>44</td>\n    </tr>\n    <tr>\n      <th>61</th>\n      <td>207</td>\n      <td>Миронова</td>\n      <td>Федор</td>\n      <td>200</td>\n      <td>3</td>\n      <td>Москва</td>\n      <td>2002-04-15</td>\n      <td>45</td>\n    </tr>\n    <tr>\n      <th>62</th>\n      <td>276</td>\n      <td>Петров</td>\n      <td>Антон</td>\n      <td>200</td>\n      <td>4</td>\n      <td>Ульяновск</td>\n      <td>2001-08-05</td>\n      <td>22</td>\n    </tr>\n  </tbody>\n</table>\n<p>63 rows × 8 columns</p>\n</div>"
     },
     "execution_count": 2,
     "metadata": {},
     "output_type": "execute_result"
    }
   ],
   "source": [
    "#1. Напишите запрос с EXISTS, позволяющий вывести данные обо всех студентах обучающихся в вузах, имеющих рейтинг выше 300.\n",
    "# SQL - SELECT * FROM student WHERE univ_id IN (SELECT univ_id FROM university WHERE rating > 300)\n",
    "\n",
    "s = exists(university).where(university.c.rating > 300)\n",
    "\n",
    "sq = s.where(student.c.univ_id == university.c.univ_id)\n",
    "\n",
    "s = select(student)\n",
    "\n",
    "s = s.where(sq)\n",
    "\n",
    "print(s)\n",
    "pd.read_sql(s, conn)"
   ],
   "metadata": {
    "collapsed": false,
    "pycharm": {
     "name": "#%%\n"
    }
   }
  },
  {
   "cell_type": "code",
   "execution_count": 126,
   "outputs": [
    {
     "name": "stdout",
     "output_type": "stream",
     "text": [
      "SELECT student.student_id, student.surname, student.name, student.stipend, student.kurs, student.city, student.birthday, student.univ_id, university.univ_name \n",
      "FROM student JOIN university ON student.univ_id = university.univ_id \n",
      "WHERE university.rating > :rating_1\n"
     ]
    },
    {
     "data": {
      "text/plain": "    student_id    surname      name  stipend  kurs           city   birthday  \\\n0            6    Сидоров     Вадим      150     4         Москва 1999-06-07   \n1           15  Ордуханян   Рафаэль      120     1         Липецк 2003-06-01   \n2           32      Котов     Павел      150     5       Белгород 2001-02-28   \n3           57  Кудряшова      Вера      100     5  Нижневартовск 2002-02-18   \n4           58  Журавлева      Вера        0     4    Новосибирск 2003-06-14   \n..         ...        ...       ...      ...   ...            ...        ...   \n58         204     Петров     Вадим      250     2         Брянск 2002-05-21   \n59         205    Иванова     Мария      200     1         Липецк 2002-04-11   \n60         206    Киселев  Владимир      210     2           Орел 2003-02-10   \n61         207   Миронова     Федор      200     3         Москва 2002-04-15   \n62         276     Петров     Антон      200     4      Ульяновск 2001-08-05   \n\n    univ_id         univ_name  \n0        22               МГУ  \n1        18              ВГМА  \n2        14               БГУ  \n3        14               БГУ  \n4        11               НГУ  \n..      ...               ...  \n58       44              ФинУ  \n59       32               РГУ  \n60       44              ФинУ  \n61       45  МГТУ им. Баумана  \n62       22               МГУ  \n\n[63 rows x 9 columns]",
      "text/html": "<div>\n<style scoped>\n    .dataframe tbody tr th:only-of-type {\n        vertical-align: middle;\n    }\n\n    .dataframe tbody tr th {\n        vertical-align: top;\n    }\n\n    .dataframe thead th {\n        text-align: right;\n    }\n</style>\n<table border=\"1\" class=\"dataframe\">\n  <thead>\n    <tr style=\"text-align: right;\">\n      <th></th>\n      <th>student_id</th>\n      <th>surname</th>\n      <th>name</th>\n      <th>stipend</th>\n      <th>kurs</th>\n      <th>city</th>\n      <th>birthday</th>\n      <th>univ_id</th>\n      <th>univ_name</th>\n    </tr>\n  </thead>\n  <tbody>\n    <tr>\n      <th>0</th>\n      <td>6</td>\n      <td>Сидоров</td>\n      <td>Вадим</td>\n      <td>150</td>\n      <td>4</td>\n      <td>Москва</td>\n      <td>1999-06-07</td>\n      <td>22</td>\n      <td>МГУ</td>\n    </tr>\n    <tr>\n      <th>1</th>\n      <td>15</td>\n      <td>Ордуханян</td>\n      <td>Рафаэль</td>\n      <td>120</td>\n      <td>1</td>\n      <td>Липецк</td>\n      <td>2003-06-01</td>\n      <td>18</td>\n      <td>ВГМА</td>\n    </tr>\n    <tr>\n      <th>2</th>\n      <td>32</td>\n      <td>Котов</td>\n      <td>Павел</td>\n      <td>150</td>\n      <td>5</td>\n      <td>Белгород</td>\n      <td>2001-02-28</td>\n      <td>14</td>\n      <td>БГУ</td>\n    </tr>\n    <tr>\n      <th>3</th>\n      <td>57</td>\n      <td>Кудряшова</td>\n      <td>Вера</td>\n      <td>100</td>\n      <td>5</td>\n      <td>Нижневартовск</td>\n      <td>2002-02-18</td>\n      <td>14</td>\n      <td>БГУ</td>\n    </tr>\n    <tr>\n      <th>4</th>\n      <td>58</td>\n      <td>Журавлева</td>\n      <td>Вера</td>\n      <td>0</td>\n      <td>4</td>\n      <td>Новосибирск</td>\n      <td>2003-06-14</td>\n      <td>11</td>\n      <td>НГУ</td>\n    </tr>\n    <tr>\n      <th>...</th>\n      <td>...</td>\n      <td>...</td>\n      <td>...</td>\n      <td>...</td>\n      <td>...</td>\n      <td>...</td>\n      <td>...</td>\n      <td>...</td>\n      <td>...</td>\n    </tr>\n    <tr>\n      <th>58</th>\n      <td>204</td>\n      <td>Петров</td>\n      <td>Вадим</td>\n      <td>250</td>\n      <td>2</td>\n      <td>Брянск</td>\n      <td>2002-05-21</td>\n      <td>44</td>\n      <td>ФинУ</td>\n    </tr>\n    <tr>\n      <th>59</th>\n      <td>205</td>\n      <td>Иванова</td>\n      <td>Мария</td>\n      <td>200</td>\n      <td>1</td>\n      <td>Липецк</td>\n      <td>2002-04-11</td>\n      <td>32</td>\n      <td>РГУ</td>\n    </tr>\n    <tr>\n      <th>60</th>\n      <td>206</td>\n      <td>Киселев</td>\n      <td>Владимир</td>\n      <td>210</td>\n      <td>2</td>\n      <td>Орел</td>\n      <td>2003-02-10</td>\n      <td>44</td>\n      <td>ФинУ</td>\n    </tr>\n    <tr>\n      <th>61</th>\n      <td>207</td>\n      <td>Миронова</td>\n      <td>Федор</td>\n      <td>200</td>\n      <td>3</td>\n      <td>Москва</td>\n      <td>2002-04-15</td>\n      <td>45</td>\n      <td>МГТУ им. Баумана</td>\n    </tr>\n    <tr>\n      <th>62</th>\n      <td>276</td>\n      <td>Петров</td>\n      <td>Антон</td>\n      <td>200</td>\n      <td>4</td>\n      <td>Ульяновск</td>\n      <td>2001-08-05</td>\n      <td>22</td>\n      <td>МГУ</td>\n    </tr>\n  </tbody>\n</table>\n<p>63 rows × 9 columns</p>\n</div>"
     },
     "execution_count": 126,
     "metadata": {},
     "output_type": "execute_result"
    }
   ],
   "source": [
    "# 2. Напишите предыдущий запрос, используя соединения.\n",
    "# SQL - SELECT student.student_id, student.surname, student.name, student.stipend, student.kurs, student.city, student.birthday, student.univ_id, university.univ_name FROM student JOIN university on student.univ_id = university.univ_id WHERE EXISTS (SELECT university.univ_id, university.univ_name, university.rating, university.city FROM university WHERE university.rating > 300 AND student.univ_id = university.univ_id)\n",
    "\n",
    "s = select(student, university.c.univ_name).where(university.c.rating > 300).join(university, student.c.univ_id == university.c.univ_id)\n",
    "\n",
    "print(s)\n",
    "pd.read_sql(s, conn)"
   ],
   "metadata": {
    "collapsed": false,
    "pycharm": {
     "name": "#%%\n"
    }
   }
  },
  {
   "cell_type": "code",
   "execution_count": 3,
   "outputs": [
    {
     "name": "stdout",
     "output_type": "stream",
     "text": [
      "SELECT student.student_id, student.surname, student.name, student.stipend, student.kurs, student.city, student.birthday, student.univ_id \n",
      "FROM student \n",
      "WHERE EXISTS (SELECT university.univ_id, university.univ_name, university.rating, university.city \n",
      "FROM university \n",
      "WHERE university.city != student.city AND student.univ_id = university.univ_id)\n"
     ]
    },
    {
     "data": {
      "text/plain": "    student_id     surname      name  stipend  kurs       city   birthday  \\\n0            1      Иванов      Иван      150     1       Орел 2002-12-03   \n1            3      Петров      Петр      200     3      Курск 2000-12-01   \n2           10    Кузнецов     Борис        0     2     Брянск 2001-12-08   \n3           12     Зайцева     Ольга      250     2     Липецк 2001-05-01   \n4           15   Ордуханян   Рафаэль      120     1     Липецк 2003-06-01   \n..         ...         ...       ...      ...   ...        ...        ...   \n74         202  Владимиров  Анатолий      200     2      Курск 2003-05-21   \n75         204      Петров     Вадим      250     2     Брянск 2002-05-21   \n76         205     Иванова     Мария      200     1     Липецк 2002-04-11   \n77         206     Киселев  Владимир      210     2       Орел 2003-02-10   \n78         276      Петров     Антон      200     4  Ульяновск 2001-08-05   \n\n    univ_id  \n0        10  \n1        10  \n2        10  \n3        10  \n4        18  \n..      ...  \n74       14  \n75       44  \n76       32  \n77       44  \n78       22  \n\n[79 rows x 8 columns]",
      "text/html": "<div>\n<style scoped>\n    .dataframe tbody tr th:only-of-type {\n        vertical-align: middle;\n    }\n\n    .dataframe tbody tr th {\n        vertical-align: top;\n    }\n\n    .dataframe thead th {\n        text-align: right;\n    }\n</style>\n<table border=\"1\" class=\"dataframe\">\n  <thead>\n    <tr style=\"text-align: right;\">\n      <th></th>\n      <th>student_id</th>\n      <th>surname</th>\n      <th>name</th>\n      <th>stipend</th>\n      <th>kurs</th>\n      <th>city</th>\n      <th>birthday</th>\n      <th>univ_id</th>\n    </tr>\n  </thead>\n  <tbody>\n    <tr>\n      <th>0</th>\n      <td>1</td>\n      <td>Иванов</td>\n      <td>Иван</td>\n      <td>150</td>\n      <td>1</td>\n      <td>Орел</td>\n      <td>2002-12-03</td>\n      <td>10</td>\n    </tr>\n    <tr>\n      <th>1</th>\n      <td>3</td>\n      <td>Петров</td>\n      <td>Петр</td>\n      <td>200</td>\n      <td>3</td>\n      <td>Курск</td>\n      <td>2000-12-01</td>\n      <td>10</td>\n    </tr>\n    <tr>\n      <th>2</th>\n      <td>10</td>\n      <td>Кузнецов</td>\n      <td>Борис</td>\n      <td>0</td>\n      <td>2</td>\n      <td>Брянск</td>\n      <td>2001-12-08</td>\n      <td>10</td>\n    </tr>\n    <tr>\n      <th>3</th>\n      <td>12</td>\n      <td>Зайцева</td>\n      <td>Ольга</td>\n      <td>250</td>\n      <td>2</td>\n      <td>Липецк</td>\n      <td>2001-05-01</td>\n      <td>10</td>\n    </tr>\n    <tr>\n      <th>4</th>\n      <td>15</td>\n      <td>Ордуханян</td>\n      <td>Рафаэль</td>\n      <td>120</td>\n      <td>1</td>\n      <td>Липецк</td>\n      <td>2003-06-01</td>\n      <td>18</td>\n    </tr>\n    <tr>\n      <th>...</th>\n      <td>...</td>\n      <td>...</td>\n      <td>...</td>\n      <td>...</td>\n      <td>...</td>\n      <td>...</td>\n      <td>...</td>\n      <td>...</td>\n    </tr>\n    <tr>\n      <th>74</th>\n      <td>202</td>\n      <td>Владимиров</td>\n      <td>Анатолий</td>\n      <td>200</td>\n      <td>2</td>\n      <td>Курск</td>\n      <td>2003-05-21</td>\n      <td>14</td>\n    </tr>\n    <tr>\n      <th>75</th>\n      <td>204</td>\n      <td>Петров</td>\n      <td>Вадим</td>\n      <td>250</td>\n      <td>2</td>\n      <td>Брянск</td>\n      <td>2002-05-21</td>\n      <td>44</td>\n    </tr>\n    <tr>\n      <th>76</th>\n      <td>205</td>\n      <td>Иванова</td>\n      <td>Мария</td>\n      <td>200</td>\n      <td>1</td>\n      <td>Липецк</td>\n      <td>2002-04-11</td>\n      <td>32</td>\n    </tr>\n    <tr>\n      <th>77</th>\n      <td>206</td>\n      <td>Киселев</td>\n      <td>Владимир</td>\n      <td>210</td>\n      <td>2</td>\n      <td>Орел</td>\n      <td>2003-02-10</td>\n      <td>44</td>\n    </tr>\n    <tr>\n      <th>78</th>\n      <td>276</td>\n      <td>Петров</td>\n      <td>Антон</td>\n      <td>200</td>\n      <td>4</td>\n      <td>Ульяновск</td>\n      <td>2001-08-05</td>\n      <td>22</td>\n    </tr>\n  </tbody>\n</table>\n<p>79 rows × 8 columns</p>\n</div>"
     },
     "execution_count": 3,
     "metadata": {},
     "output_type": "execute_result"
    }
   ],
   "source": [
    "# 3. Напишите запрос с EXISTS, выбирающий сведения о каждом студенте, для которого в городе его проживания имеется хотя бы один университет, в котором он не учится.\n",
    "\n",
    "s = exists(university).where(university.c.city != student.c.city)\n",
    "\n",
    "sq = s.where(student.c.univ_id == university.c.univ_id)\n",
    "\n",
    "s = select(student)\n",
    "\n",
    "s = s.where(sq)\n",
    "\n",
    "\n",
    "print(s)\n",
    "pd.read_sql(s, conn)"
   ],
   "metadata": {
    "collapsed": false,
    "pycharm": {
     "name": "#%%\n"
    }
   }
  },
  {
   "cell_type": "code",
   "execution_count": 87,
   "outputs": [
    {
     "name": "stdout",
     "output_type": "stream",
     "text": [
      "SELECT subject.subj_id, subject.subj_name, subject.hour, subject.semester \n",
      "FROM subject \n",
      "WHERE subject.subj_id IN (SELECT exam_marks.subj_id \n",
      "FROM exam_marks \n",
      "WHERE EXISTS (SELECT exam_marks.subj_id \n",
      "FROM subject \n",
      "WHERE exam_marks.mark > :mark_1 AND subject.subj_id = exam_marks.subj_id) GROUP BY exam_marks.subj_id \n",
      "HAVING count(exam_marks.student_id) > :count_1)\n"
     ]
    },
    {
     "data": {
      "text/plain": "   subj_id        subj_name  hour  semester\n0       10      Информатика    56         1\n1       22           Физика    34         1\n2       56          История    34         4\n3       73      Физкультура    34         5\n4       94  Английский язык    56         3",
      "text/html": "<div>\n<style scoped>\n    .dataframe tbody tr th:only-of-type {\n        vertical-align: middle;\n    }\n\n    .dataframe tbody tr th {\n        vertical-align: top;\n    }\n\n    .dataframe thead th {\n        text-align: right;\n    }\n</style>\n<table border=\"1\" class=\"dataframe\">\n  <thead>\n    <tr style=\"text-align: right;\">\n      <th></th>\n      <th>subj_id</th>\n      <th>subj_name</th>\n      <th>hour</th>\n      <th>semester</th>\n    </tr>\n  </thead>\n  <tbody>\n    <tr>\n      <th>0</th>\n      <td>10</td>\n      <td>Информатика</td>\n      <td>56</td>\n      <td>1</td>\n    </tr>\n    <tr>\n      <th>1</th>\n      <td>22</td>\n      <td>Физика</td>\n      <td>34</td>\n      <td>1</td>\n    </tr>\n    <tr>\n      <th>2</th>\n      <td>56</td>\n      <td>История</td>\n      <td>34</td>\n      <td>4</td>\n    </tr>\n    <tr>\n      <th>3</th>\n      <td>73</td>\n      <td>Физкультура</td>\n      <td>34</td>\n      <td>5</td>\n    </tr>\n    <tr>\n      <th>4</th>\n      <td>94</td>\n      <td>Английский язык</td>\n      <td>56</td>\n      <td>3</td>\n    </tr>\n  </tbody>\n</table>\n</div>"
     },
     "execution_count": 87,
     "metadata": {},
     "output_type": "execute_result"
    }
   ],
   "source": [
    "# 4. Напишите запрос, выбирающий из таблицы SUBJECT данные о названиях предметов обучения, экзамены по которым сданы более чем одним студентом.\n",
    "\n",
    "s = exists(exam_marks.c.subj_id).where(exam_marks.c.mark > 2)\n",
    "s = s.where(subject.c.subj_id == exam_marks.c.subj_id)\n",
    "\n",
    "sq = select(exam_marks.c.subj_id).where(s).having(func.count(exam_marks.c.student_id) > 1)\n",
    "sq = sq.group_by(exam_marks.c.subj_id)\n",
    "\n",
    "sqs = select(subject).where(subject.c.subj_id.in_(sq))\n",
    "\n",
    "print(sqs)\n",
    "pd.read_sql(sqs, conn)"
   ],
   "metadata": {
    "collapsed": false,
    "pycharm": {
     "name": "#%%\n"
    }
   }
  },
  {
   "cell_type": "code",
   "execution_count": 140,
   "outputs": [
    {
     "name": "stdout",
     "output_type": "stream",
     "text": [
      "SELECT student.student_id, student.surname, student.name, student.stipend, student.kurs, student.city, student.birthday, student.univ_id \n",
      "FROM student \n",
      "WHERE EXISTS (SELECT university.univ_id, university.univ_name, university.rating, university.city \n",
      "FROM university \n",
      "WHERE university.city = student.city)\n"
     ]
    },
    {
     "data": {
      "text/plain": "    student_id    surname       name  stipend  kurs         city   birthday  \\\n0            6    Сидоров      Вадим      150     4       Москва 1999-06-07   \n1           32      Котов      Павел      150     5     Белгород 2001-02-28   \n2           55     Белкин      Вадим      250     5      Воронеж 2000-01-07   \n3           58  Журавлева       Вера        0     4  Новосибирск 2003-06-14   \n4           75   Игнатова    Зинаида      100     5       Ростов 2000-09-26   \n5          200    Баранов  Александр      220     2       Москва 2001-08-18   \n6          203    Петрова  Екатерина      250     4     Белгород 2001-05-21   \n7          207   Миронова      Федор      200     3       Москва 2002-04-15   \n8          265     Павлов     Андрей        0     3      Воронеж 2000-11-05   \n9          276     Петров      Антон      200     4    Ульяновск 2001-08-05   \n10         654      Лукин      Артем      200     3      Воронеж 2001-12-01   \n\n    univ_id  \n0        22  \n1        14  \n2        10  \n3        11  \n4        22  \n5        44  \n6        14  \n7        45  \n8        10  \n9        22  \n10       10  ",
      "text/html": "<div>\n<style scoped>\n    .dataframe tbody tr th:only-of-type {\n        vertical-align: middle;\n    }\n\n    .dataframe tbody tr th {\n        vertical-align: top;\n    }\n\n    .dataframe thead th {\n        text-align: right;\n    }\n</style>\n<table border=\"1\" class=\"dataframe\">\n  <thead>\n    <tr style=\"text-align: right;\">\n      <th></th>\n      <th>student_id</th>\n      <th>surname</th>\n      <th>name</th>\n      <th>stipend</th>\n      <th>kurs</th>\n      <th>city</th>\n      <th>birthday</th>\n      <th>univ_id</th>\n    </tr>\n  </thead>\n  <tbody>\n    <tr>\n      <th>0</th>\n      <td>6</td>\n      <td>Сидоров</td>\n      <td>Вадим</td>\n      <td>150</td>\n      <td>4</td>\n      <td>Москва</td>\n      <td>1999-06-07</td>\n      <td>22</td>\n    </tr>\n    <tr>\n      <th>1</th>\n      <td>32</td>\n      <td>Котов</td>\n      <td>Павел</td>\n      <td>150</td>\n      <td>5</td>\n      <td>Белгород</td>\n      <td>2001-02-28</td>\n      <td>14</td>\n    </tr>\n    <tr>\n      <th>2</th>\n      <td>55</td>\n      <td>Белкин</td>\n      <td>Вадим</td>\n      <td>250</td>\n      <td>5</td>\n      <td>Воронеж</td>\n      <td>2000-01-07</td>\n      <td>10</td>\n    </tr>\n    <tr>\n      <th>3</th>\n      <td>58</td>\n      <td>Журавлева</td>\n      <td>Вера</td>\n      <td>0</td>\n      <td>4</td>\n      <td>Новосибирск</td>\n      <td>2003-06-14</td>\n      <td>11</td>\n    </tr>\n    <tr>\n      <th>4</th>\n      <td>75</td>\n      <td>Игнатова</td>\n      <td>Зинаида</td>\n      <td>100</td>\n      <td>5</td>\n      <td>Ростов</td>\n      <td>2000-09-26</td>\n      <td>22</td>\n    </tr>\n    <tr>\n      <th>5</th>\n      <td>200</td>\n      <td>Баранов</td>\n      <td>Александр</td>\n      <td>220</td>\n      <td>2</td>\n      <td>Москва</td>\n      <td>2001-08-18</td>\n      <td>44</td>\n    </tr>\n    <tr>\n      <th>6</th>\n      <td>203</td>\n      <td>Петрова</td>\n      <td>Екатерина</td>\n      <td>250</td>\n      <td>4</td>\n      <td>Белгород</td>\n      <td>2001-05-21</td>\n      <td>14</td>\n    </tr>\n    <tr>\n      <th>7</th>\n      <td>207</td>\n      <td>Миронова</td>\n      <td>Федор</td>\n      <td>200</td>\n      <td>3</td>\n      <td>Москва</td>\n      <td>2002-04-15</td>\n      <td>45</td>\n    </tr>\n    <tr>\n      <th>8</th>\n      <td>265</td>\n      <td>Павлов</td>\n      <td>Андрей</td>\n      <td>0</td>\n      <td>3</td>\n      <td>Воронеж</td>\n      <td>2000-11-05</td>\n      <td>10</td>\n    </tr>\n    <tr>\n      <th>9</th>\n      <td>276</td>\n      <td>Петров</td>\n      <td>Антон</td>\n      <td>200</td>\n      <td>4</td>\n      <td>Ульяновск</td>\n      <td>2001-08-05</td>\n      <td>22</td>\n    </tr>\n    <tr>\n      <th>10</th>\n      <td>654</td>\n      <td>Лукин</td>\n      <td>Артем</td>\n      <td>200</td>\n      <td>3</td>\n      <td>Воронеж</td>\n      <td>2001-12-01</td>\n      <td>10</td>\n    </tr>\n  </tbody>\n</table>\n</div>"
     },
     "execution_count": 140,
     "metadata": {},
     "output_type": "execute_result"
    }
   ],
   "source": [
    "# 5. Напишите запрос для получения списка городов проживания студентов, в которых есть хотя бы один университет.\n",
    "\n",
    "sq = exists(university).where(university.c.city == student.c.city)\n",
    "\n",
    "s = select(student)\n",
    "s = s.where(sq)\n",
    "\n",
    "print(s)\n",
    "pd.read_sql(s, conn)"
   ],
   "metadata": {
    "collapsed": false,
    "pycharm": {
     "name": "#%%\n"
    }
   }
  },
  {
   "cell_type": "code",
   "execution_count": null,
   "outputs": [],
   "source": [],
   "metadata": {
    "collapsed": false,
    "pycharm": {
     "name": "#%%\n"
    }
   }
  }
 ],
 "metadata": {
  "kernelspec": {
   "display_name": "Python 3",
   "language": "python",
   "name": "python3"
  },
  "language_info": {
   "codemirror_mode": {
    "name": "ipython",
    "version": 2
   },
   "file_extension": ".py",
   "mimetype": "text/x-python",
   "name": "python",
   "nbconvert_exporter": "python",
   "pygments_lexer": "ipython2",
   "version": "2.7.6"
  }
 },
 "nbformat": 4,
 "nbformat_minor": 0
}